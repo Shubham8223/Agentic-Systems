{
  "nbformat": 4,
  "nbformat_minor": 0,
  "metadata": {
    "colab": {
      "provenance": []
    },
    "kernelspec": {
      "name": "python3",
      "display_name": "Python 3"
    },
    "language_info": {
      "name": "python"
    }
  },
  "cells": [
    {
      "cell_type": "code",
      "source": [
        "!pip install langgraph langchain langchain_aws langchain_community mypy_boto3_bedrock_runtime tavily-python langchain_fireworks"
      ],
      "metadata": {
        "colab": {
          "base_uri": "https://localhost:8080/"
        },
        "id": "a6vsz_YWeshS",
        "outputId": "ed66b17b-a3d9-4ce5-cfa1-6d7f73d5e176"
      },
      "execution_count": 1,
      "outputs": [
        {
          "output_type": "stream",
          "name": "stdout",
          "text": [
            "Collecting langgraph\n",
            "  Downloading langgraph-0.2.66-py3-none-any.whl.metadata (16 kB)\n",
            "Requirement already satisfied: langchain in /usr/local/lib/python3.11/dist-packages (0.3.14)\n",
            "Collecting langchain_aws\n",
            "  Downloading langchain_aws-0.2.11-py3-none-any.whl.metadata (3.2 kB)\n",
            "Collecting langchain_community\n",
            "  Downloading langchain_community-0.3.15-py3-none-any.whl.metadata (2.9 kB)\n",
            "Collecting mypy_boto3_bedrock_runtime\n",
            "  Downloading mypy_boto3_bedrock_runtime-1.36.2-py3-none-any.whl.metadata (15 kB)\n",
            "Collecting tavily-python\n",
            "  Downloading tavily_python-0.5.0-py3-none-any.whl.metadata (11 kB)\n",
            "Collecting langchain_fireworks\n",
            "  Downloading langchain_fireworks-0.2.6-py3-none-any.whl.metadata (4.1 kB)\n",
            "Requirement already satisfied: langchain-core!=0.3.0,!=0.3.1,!=0.3.10,!=0.3.11,!=0.3.12,!=0.3.13,!=0.3.14,!=0.3.15,!=0.3.16,!=0.3.17,!=0.3.18,!=0.3.19,!=0.3.2,!=0.3.20,!=0.3.21,!=0.3.22,!=0.3.3,!=0.3.4,!=0.3.5,!=0.3.6,!=0.3.7,!=0.3.8,!=0.3.9,<0.4.0,>=0.2.43 in /usr/local/lib/python3.11/dist-packages (from langgraph) (0.3.29)\n",
            "Collecting langgraph-checkpoint<3.0.0,>=2.0.10 (from langgraph)\n",
            "  Downloading langgraph_checkpoint-2.0.10-py3-none-any.whl.metadata (4.6 kB)\n",
            "Collecting langgraph-sdk<0.2.0,>=0.1.42 (from langgraph)\n",
            "  Downloading langgraph_sdk-0.1.51-py3-none-any.whl.metadata (1.8 kB)\n",
            "Requirement already satisfied: PyYAML>=5.3 in /usr/local/lib/python3.11/dist-packages (from langchain) (6.0.2)\n",
            "Requirement already satisfied: SQLAlchemy<3,>=1.4 in /usr/local/lib/python3.11/dist-packages (from langchain) (2.0.37)\n",
            "Requirement already satisfied: aiohttp<4.0.0,>=3.8.3 in /usr/local/lib/python3.11/dist-packages (from langchain) (3.11.11)\n",
            "Requirement already satisfied: langchain-text-splitters<0.4.0,>=0.3.3 in /usr/local/lib/python3.11/dist-packages (from langchain) (0.3.5)\n",
            "Requirement already satisfied: langsmith<0.3,>=0.1.17 in /usr/local/lib/python3.11/dist-packages (from langchain) (0.2.10)\n",
            "Requirement already satisfied: numpy<2,>=1.22.4 in /usr/local/lib/python3.11/dist-packages (from langchain) (1.26.4)\n",
            "Requirement already satisfied: pydantic<3.0.0,>=2.7.4 in /usr/local/lib/python3.11/dist-packages (from langchain) (2.10.5)\n",
            "Requirement already satisfied: requests<3,>=2 in /usr/local/lib/python3.11/dist-packages (from langchain) (2.32.3)\n",
            "Requirement already satisfied: tenacity!=8.4.0,<10,>=8.1.0 in /usr/local/lib/python3.11/dist-packages (from langchain) (9.0.0)\n",
            "Collecting boto3>=1.35.74 (from langchain_aws)\n",
            "  Downloading boto3-1.36.4-py3-none-any.whl.metadata (6.6 kB)\n",
            "Collecting dataclasses-json<0.7,>=0.5.7 (from langchain_community)\n",
            "  Downloading dataclasses_json-0.6.7-py3-none-any.whl.metadata (25 kB)\n",
            "Collecting httpx-sse<0.5.0,>=0.4.0 (from langchain_community)\n",
            "  Downloading httpx_sse-0.4.0-py3-none-any.whl.metadata (9.0 kB)\n",
            "Collecting langchain\n",
            "  Downloading langchain-0.3.15-py3-none-any.whl.metadata (7.1 kB)\n",
            "Collecting langchain-core!=0.3.0,!=0.3.1,!=0.3.10,!=0.3.11,!=0.3.12,!=0.3.13,!=0.3.14,!=0.3.15,!=0.3.16,!=0.3.17,!=0.3.18,!=0.3.19,!=0.3.2,!=0.3.20,!=0.3.21,!=0.3.22,!=0.3.3,!=0.3.4,!=0.3.5,!=0.3.6,!=0.3.7,!=0.3.8,!=0.3.9,<0.4.0,>=0.2.43 (from langgraph)\n",
            "  Downloading langchain_core-0.3.31-py3-none-any.whl.metadata (6.3 kB)\n",
            "Collecting pydantic-settings<3.0.0,>=2.4.0 (from langchain_community)\n",
            "  Downloading pydantic_settings-2.7.1-py3-none-any.whl.metadata (3.5 kB)\n",
            "Requirement already satisfied: typing-extensions in /usr/local/lib/python3.11/dist-packages (from mypy_boto3_bedrock_runtime) (4.12.2)\n",
            "Collecting tiktoken>=0.5.1 (from tavily-python)\n",
            "  Downloading tiktoken-0.8.0-cp311-cp311-manylinux_2_17_x86_64.manylinux2014_x86_64.whl.metadata (6.6 kB)\n",
            "Requirement already satisfied: httpx in /usr/local/lib/python3.11/dist-packages (from tavily-python) (0.28.1)\n",
            "Collecting fireworks-ai>=0.13.0 (from langchain_fireworks)\n",
            "  Downloading fireworks_ai-0.15.12-py3-none-any.whl.metadata (5.7 kB)\n",
            "Requirement already satisfied: openai<2.0.0,>=1.10.0 in /usr/local/lib/python3.11/dist-packages (from langchain_fireworks) (1.59.6)\n",
            "Requirement already satisfied: aiohappyeyeballs>=2.3.0 in /usr/local/lib/python3.11/dist-packages (from aiohttp<4.0.0,>=3.8.3->langchain) (2.4.4)\n",
            "Requirement already satisfied: aiosignal>=1.1.2 in /usr/local/lib/python3.11/dist-packages (from aiohttp<4.0.0,>=3.8.3->langchain) (1.3.2)\n",
            "Requirement already satisfied: attrs>=17.3.0 in /usr/local/lib/python3.11/dist-packages (from aiohttp<4.0.0,>=3.8.3->langchain) (24.3.0)\n",
            "Requirement already satisfied: frozenlist>=1.1.1 in /usr/local/lib/python3.11/dist-packages (from aiohttp<4.0.0,>=3.8.3->langchain) (1.5.0)\n",
            "Requirement already satisfied: multidict<7.0,>=4.5 in /usr/local/lib/python3.11/dist-packages (from aiohttp<4.0.0,>=3.8.3->langchain) (6.1.0)\n",
            "Requirement already satisfied: propcache>=0.2.0 in /usr/local/lib/python3.11/dist-packages (from aiohttp<4.0.0,>=3.8.3->langchain) (0.2.1)\n",
            "Requirement already satisfied: yarl<2.0,>=1.17.0 in /usr/local/lib/python3.11/dist-packages (from aiohttp<4.0.0,>=3.8.3->langchain) (1.18.3)\n",
            "Collecting botocore<1.37.0,>=1.36.4 (from boto3>=1.35.74->langchain_aws)\n",
            "  Downloading botocore-1.36.4-py3-none-any.whl.metadata (5.7 kB)\n",
            "Collecting jmespath<2.0.0,>=0.7.1 (from boto3>=1.35.74->langchain_aws)\n",
            "  Downloading jmespath-1.0.1-py3-none-any.whl.metadata (7.6 kB)\n",
            "Collecting s3transfer<0.12.0,>=0.11.0 (from boto3>=1.35.74->langchain_aws)\n",
            "  Downloading s3transfer-0.11.1-py3-none-any.whl.metadata (1.7 kB)\n",
            "Collecting marshmallow<4.0.0,>=3.18.0 (from dataclasses-json<0.7,>=0.5.7->langchain_community)\n",
            "  Downloading marshmallow-3.26.0-py3-none-any.whl.metadata (7.3 kB)\n",
            "Collecting typing-inspect<1,>=0.4.0 (from dataclasses-json<0.7,>=0.5.7->langchain_community)\n",
            "  Downloading typing_inspect-0.9.0-py3-none-any.whl.metadata (1.5 kB)\n",
            "Collecting httpx-ws (from fireworks-ai>=0.13.0->langchain_fireworks)\n",
            "  Downloading httpx_ws-0.7.1-py3-none-any.whl.metadata (9.2 kB)\n",
            "Requirement already satisfied: Pillow in /usr/local/lib/python3.11/dist-packages (from fireworks-ai>=0.13.0->langchain_fireworks) (11.1.0)\n",
            "Requirement already satisfied: jsonpatch<2.0,>=1.33 in /usr/local/lib/python3.11/dist-packages (from langchain-core!=0.3.0,!=0.3.1,!=0.3.10,!=0.3.11,!=0.3.12,!=0.3.13,!=0.3.14,!=0.3.15,!=0.3.16,!=0.3.17,!=0.3.18,!=0.3.19,!=0.3.2,!=0.3.20,!=0.3.21,!=0.3.22,!=0.3.3,!=0.3.4,!=0.3.5,!=0.3.6,!=0.3.7,!=0.3.8,!=0.3.9,<0.4.0,>=0.2.43->langgraph) (1.33)\n",
            "Requirement already satisfied: packaging<25,>=23.2 in /usr/local/lib/python3.11/dist-packages (from langchain-core!=0.3.0,!=0.3.1,!=0.3.10,!=0.3.11,!=0.3.12,!=0.3.13,!=0.3.14,!=0.3.15,!=0.3.16,!=0.3.17,!=0.3.18,!=0.3.19,!=0.3.2,!=0.3.20,!=0.3.21,!=0.3.22,!=0.3.3,!=0.3.4,!=0.3.5,!=0.3.6,!=0.3.7,!=0.3.8,!=0.3.9,<0.4.0,>=0.2.43->langgraph) (24.2)\n",
            "Requirement already satisfied: msgpack<2.0.0,>=1.1.0 in /usr/local/lib/python3.11/dist-packages (from langgraph-checkpoint<3.0.0,>=2.0.10->langgraph) (1.1.0)\n",
            "Requirement already satisfied: orjson>=3.10.1 in /usr/local/lib/python3.11/dist-packages (from langgraph-sdk<0.2.0,>=0.1.42->langgraph) (3.10.14)\n",
            "Requirement already satisfied: anyio in /usr/local/lib/python3.11/dist-packages (from httpx->tavily-python) (3.7.1)\n",
            "Requirement already satisfied: certifi in /usr/local/lib/python3.11/dist-packages (from httpx->tavily-python) (2024.12.14)\n",
            "Requirement already satisfied: httpcore==1.* in /usr/local/lib/python3.11/dist-packages (from httpx->tavily-python) (1.0.7)\n",
            "Requirement already satisfied: idna in /usr/local/lib/python3.11/dist-packages (from httpx->tavily-python) (3.10)\n",
            "Requirement already satisfied: h11<0.15,>=0.13 in /usr/local/lib/python3.11/dist-packages (from httpcore==1.*->httpx->tavily-python) (0.14.0)\n",
            "Requirement already satisfied: requests-toolbelt<2.0.0,>=1.0.0 in /usr/local/lib/python3.11/dist-packages (from langsmith<0.3,>=0.1.17->langchain) (1.0.0)\n",
            "Requirement already satisfied: distro<2,>=1.7.0 in /usr/local/lib/python3.11/dist-packages (from openai<2.0.0,>=1.10.0->langchain_fireworks) (1.9.0)\n",
            "Requirement already satisfied: jiter<1,>=0.4.0 in /usr/local/lib/python3.11/dist-packages (from openai<2.0.0,>=1.10.0->langchain_fireworks) (0.8.2)\n",
            "Requirement already satisfied: sniffio in /usr/local/lib/python3.11/dist-packages (from openai<2.0.0,>=1.10.0->langchain_fireworks) (1.3.1)\n",
            "Requirement already satisfied: tqdm>4 in /usr/local/lib/python3.11/dist-packages (from openai<2.0.0,>=1.10.0->langchain_fireworks) (4.67.1)\n",
            "Requirement already satisfied: annotated-types>=0.6.0 in /usr/local/lib/python3.11/dist-packages (from pydantic<3.0.0,>=2.7.4->langchain) (0.7.0)\n",
            "Requirement already satisfied: pydantic-core==2.27.2 in /usr/local/lib/python3.11/dist-packages (from pydantic<3.0.0,>=2.7.4->langchain) (2.27.2)\n",
            "Collecting python-dotenv>=0.21.0 (from pydantic-settings<3.0.0,>=2.4.0->langchain_community)\n",
            "  Downloading python_dotenv-1.0.1-py3-none-any.whl.metadata (23 kB)\n",
            "Requirement already satisfied: charset-normalizer<4,>=2 in /usr/local/lib/python3.11/dist-packages (from requests<3,>=2->langchain) (3.4.1)\n",
            "Requirement already satisfied: urllib3<3,>=1.21.1 in /usr/local/lib/python3.11/dist-packages (from requests<3,>=2->langchain) (2.3.0)\n",
            "Requirement already satisfied: greenlet!=0.4.17 in /usr/local/lib/python3.11/dist-packages (from SQLAlchemy<3,>=1.4->langchain) (3.1.1)\n",
            "Requirement already satisfied: regex>=2022.1.18 in /usr/local/lib/python3.11/dist-packages (from tiktoken>=0.5.1->tavily-python) (2024.11.6)\n",
            "Requirement already satisfied: python-dateutil<3.0.0,>=2.1 in /usr/local/lib/python3.11/dist-packages (from botocore<1.37.0,>=1.36.4->boto3>=1.35.74->langchain_aws) (2.8.2)\n",
            "Requirement already satisfied: jsonpointer>=1.9 in /usr/local/lib/python3.11/dist-packages (from jsonpatch<2.0,>=1.33->langchain-core!=0.3.0,!=0.3.1,!=0.3.10,!=0.3.11,!=0.3.12,!=0.3.13,!=0.3.14,!=0.3.15,!=0.3.16,!=0.3.17,!=0.3.18,!=0.3.19,!=0.3.2,!=0.3.20,!=0.3.21,!=0.3.22,!=0.3.3,!=0.3.4,!=0.3.5,!=0.3.6,!=0.3.7,!=0.3.8,!=0.3.9,<0.4.0,>=0.2.43->langgraph) (3.0.0)\n",
            "Collecting mypy-extensions>=0.3.0 (from typing-inspect<1,>=0.4.0->dataclasses-json<0.7,>=0.5.7->langchain_community)\n",
            "  Downloading mypy_extensions-1.0.0-py3-none-any.whl.metadata (1.1 kB)\n",
            "Collecting anyio (from httpx->tavily-python)\n",
            "  Downloading anyio-4.8.0-py3-none-any.whl.metadata (4.6 kB)\n",
            "Collecting wsproto (from httpx-ws->fireworks-ai>=0.13.0->langchain_fireworks)\n",
            "  Downloading wsproto-1.2.0-py3-none-any.whl.metadata (5.6 kB)\n",
            "Requirement already satisfied: six>=1.5 in /usr/local/lib/python3.11/dist-packages (from python-dateutil<3.0.0,>=2.1->botocore<1.37.0,>=1.36.4->boto3>=1.35.74->langchain_aws) (1.17.0)\n",
            "Downloading langgraph-0.2.66-py3-none-any.whl (145 kB)\n",
            "\u001b[2K   \u001b[90m━━━━━━━━━━━━━━━━━━━━━━━━━━━━━━━━━━━━━━━━\u001b[0m \u001b[32m145.3/145.3 kB\u001b[0m \u001b[31m6.1 MB/s\u001b[0m eta \u001b[36m0:00:00\u001b[0m\n",
            "\u001b[?25hDownloading langchain_aws-0.2.11-py3-none-any.whl (95 kB)\n",
            "\u001b[2K   \u001b[90m━━━━━━━━━━━━━━━━━━━━━━━━━━━━━━━━━━━━━━━━\u001b[0m \u001b[32m95.4/95.4 kB\u001b[0m \u001b[31m7.9 MB/s\u001b[0m eta \u001b[36m0:00:00\u001b[0m\n",
            "\u001b[?25hDownloading langchain_community-0.3.15-py3-none-any.whl (2.5 MB)\n",
            "\u001b[2K   \u001b[90m━━━━━━━━━━━━━━━━━━━━━━━━━━━━━━━━━━━━━━━━\u001b[0m \u001b[32m2.5/2.5 MB\u001b[0m \u001b[31m23.5 MB/s\u001b[0m eta \u001b[36m0:00:00\u001b[0m\n",
            "\u001b[?25hDownloading langchain-0.3.15-py3-none-any.whl (1.0 MB)\n",
            "\u001b[2K   \u001b[90m━━━━━━━━━━━━━━━━━━━━━━━━━━━━━━━━━━━━━━━━\u001b[0m \u001b[32m1.0/1.0 MB\u001b[0m \u001b[31m52.0 MB/s\u001b[0m eta \u001b[36m0:00:00\u001b[0m\n",
            "\u001b[?25hDownloading mypy_boto3_bedrock_runtime-1.36.2-py3-none-any.whl (30 kB)\n",
            "Downloading tavily_python-0.5.0-py3-none-any.whl (14 kB)\n",
            "Downloading langchain_fireworks-0.2.6-py3-none-any.whl (17 kB)\n",
            "Downloading boto3-1.36.4-py3-none-any.whl (139 kB)\n",
            "\u001b[2K   \u001b[90m━━━━━━━━━━━━━━━━━━━━━━━━━━━━━━━━━━━━━━━━\u001b[0m \u001b[32m139.2/139.2 kB\u001b[0m \u001b[31m11.1 MB/s\u001b[0m eta \u001b[36m0:00:00\u001b[0m\n",
            "\u001b[?25hDownloading dataclasses_json-0.6.7-py3-none-any.whl (28 kB)\n",
            "Downloading fireworks_ai-0.15.12-py3-none-any.whl (111 kB)\n",
            "\u001b[2K   \u001b[90m━━━━━━━━━━━━━━━━━━━━━━━━━━━━━━━━━━━━━━━━\u001b[0m \u001b[32m111.1/111.1 kB\u001b[0m \u001b[31m8.7 MB/s\u001b[0m eta \u001b[36m0:00:00\u001b[0m\n",
            "\u001b[?25hDownloading httpx_sse-0.4.0-py3-none-any.whl (7.8 kB)\n",
            "Downloading langchain_core-0.3.31-py3-none-any.whl (412 kB)\n",
            "\u001b[2K   \u001b[90m━━━━━━━━━━━━━━━━━━━━━━━━━━━━━━━━━━━━━━━━\u001b[0m \u001b[32m412.2/412.2 kB\u001b[0m \u001b[31m26.1 MB/s\u001b[0m eta \u001b[36m0:00:00\u001b[0m\n",
            "\u001b[?25hDownloading langgraph_checkpoint-2.0.10-py3-none-any.whl (37 kB)\n",
            "Downloading langgraph_sdk-0.1.51-py3-none-any.whl (44 kB)\n",
            "\u001b[2K   \u001b[90m━━━━━━━━━━━━━━━━━━━━━━━━━━━━━━━━━━━━━━━━\u001b[0m \u001b[32m44.7/44.7 kB\u001b[0m \u001b[31m3.2 MB/s\u001b[0m eta \u001b[36m0:00:00\u001b[0m\n",
            "\u001b[?25hDownloading pydantic_settings-2.7.1-py3-none-any.whl (29 kB)\n",
            "Downloading tiktoken-0.8.0-cp311-cp311-manylinux_2_17_x86_64.manylinux2014_x86_64.whl (1.2 MB)\n",
            "\u001b[2K   \u001b[90m━━━━━━━━━━━━━━━━━━━━━━━━━━━━━━━━━━━━━━━━\u001b[0m \u001b[32m1.2/1.2 MB\u001b[0m \u001b[31m53.9 MB/s\u001b[0m eta \u001b[36m0:00:00\u001b[0m\n",
            "\u001b[?25hDownloading botocore-1.36.4-py3-none-any.whl (13.3 MB)\n",
            "\u001b[2K   \u001b[90m━━━━━━━━━━━━━━━━━━━━━━━━━━━━━━━━━━━━━━━━\u001b[0m \u001b[32m13.3/13.3 MB\u001b[0m \u001b[31m93.1 MB/s\u001b[0m eta \u001b[36m0:00:00\u001b[0m\n",
            "\u001b[?25hDownloading jmespath-1.0.1-py3-none-any.whl (20 kB)\n",
            "Downloading marshmallow-3.26.0-py3-none-any.whl (50 kB)\n",
            "\u001b[2K   \u001b[90m━━━━━━━━━━━━━━━━━━━━━━━━━━━━━━━━━━━━━━━━\u001b[0m \u001b[32m50.8/50.8 kB\u001b[0m \u001b[31m3.9 MB/s\u001b[0m eta \u001b[36m0:00:00\u001b[0m\n",
            "\u001b[?25hDownloading python_dotenv-1.0.1-py3-none-any.whl (19 kB)\n",
            "Downloading s3transfer-0.11.1-py3-none-any.whl (84 kB)\n",
            "\u001b[2K   \u001b[90m━━━━━━━━━━━━━━━━━━━━━━━━━━━━━━━━━━━━━━━━\u001b[0m \u001b[32m84.1/84.1 kB\u001b[0m \u001b[31m6.5 MB/s\u001b[0m eta \u001b[36m0:00:00\u001b[0m\n",
            "\u001b[?25hDownloading typing_inspect-0.9.0-py3-none-any.whl (8.8 kB)\n",
            "Downloading httpx_ws-0.7.1-py3-none-any.whl (14 kB)\n",
            "Downloading anyio-4.8.0-py3-none-any.whl (96 kB)\n",
            "\u001b[2K   \u001b[90m━━━━━━━━━━━━━━━━━━━━━━━━━━━━━━━━━━━━━━━━\u001b[0m \u001b[32m96.0/96.0 kB\u001b[0m \u001b[31m7.7 MB/s\u001b[0m eta \u001b[36m0:00:00\u001b[0m\n",
            "\u001b[?25hDownloading mypy_extensions-1.0.0-py3-none-any.whl (4.7 kB)\n",
            "Downloading wsproto-1.2.0-py3-none-any.whl (24 kB)\n",
            "Installing collected packages: wsproto, python-dotenv, mypy-extensions, mypy_boto3_bedrock_runtime, marshmallow, jmespath, httpx-sse, anyio, typing-inspect, tiktoken, botocore, tavily-python, s3transfer, pydantic-settings, langgraph-sdk, httpx-ws, dataclasses-json, langchain-core, fireworks-ai, boto3, langgraph-checkpoint, langchain_fireworks, langchain_aws, langgraph, langchain, langchain_community\n",
            "  Attempting uninstall: anyio\n",
            "    Found existing installation: anyio 3.7.1\n",
            "    Uninstalling anyio-3.7.1:\n",
            "      Successfully uninstalled anyio-3.7.1\n",
            "  Attempting uninstall: langchain-core\n",
            "    Found existing installation: langchain-core 0.3.29\n",
            "    Uninstalling langchain-core-0.3.29:\n",
            "      Successfully uninstalled langchain-core-0.3.29\n",
            "  Attempting uninstall: langchain\n",
            "    Found existing installation: langchain 0.3.14\n",
            "    Uninstalling langchain-0.3.14:\n",
            "      Successfully uninstalled langchain-0.3.14\n",
            "\u001b[31mERROR: pip's dependency resolver does not currently take into account all the packages that are installed. This behaviour is the source of the following dependency conflicts.\n",
            "jupyter-server 1.24.0 requires anyio<4,>=3.1.0, but you have anyio 4.8.0 which is incompatible.\u001b[0m\u001b[31m\n",
            "\u001b[0mSuccessfully installed anyio-4.8.0 boto3-1.36.4 botocore-1.36.4 dataclasses-json-0.6.7 fireworks-ai-0.15.12 httpx-sse-0.4.0 httpx-ws-0.7.1 jmespath-1.0.1 langchain-0.3.15 langchain-core-0.3.31 langchain_aws-0.2.11 langchain_community-0.3.15 langchain_fireworks-0.2.6 langgraph-0.2.66 langgraph-checkpoint-2.0.10 langgraph-sdk-0.1.51 marshmallow-3.26.0 mypy-extensions-1.0.0 mypy_boto3_bedrock_runtime-1.36.2 pydantic-settings-2.7.1 python-dotenv-1.0.1 s3transfer-0.11.1 tavily-python-0.5.0 tiktoken-0.8.0 typing-inspect-0.9.0 wsproto-1.2.0\n"
          ]
        }
      ]
    },
    {
      "cell_type": "code",
      "source": [
        "class OptionSchema(BaseModel):\n",
        "    \"\"\"Schema representing a possible answer option for a question in a survey.\"\"\"\n",
        "    option: str = Field(description=\"A potential answer choice for the question in the survey.\")\n",
        "\n",
        "class QuestionSchema(BaseModel):\n",
        "    \"\"\"Schema representing a survey question, its type, and its possible answer options.\"\"\"\n",
        "    question: str = Field(description=\"The question text, clearly phrased for survey respondents.\")\n",
        "    question_type: str = Field(description=\"The type of the question. Choose one: binary, rating, multiple choice, or free text.\")\n",
        "    options: List[OptionSchema] = Field(description=\"A list of potential answer options. Relevant only for questions with answer choices.\")\n",
        "\n",
        "class QuestionsSchema(BaseModel):\n",
        "    \"\"\"Schema for representing a collection of questions along with their types and possible answer options.\"\"\"\n",
        "    question_config: List[QuestionSchema] = Field(description=\"A list of questions, each with its type and potential answer options.\")"
      ],
      "metadata": {
        "id": "WSkKjDZ-w2OQ"
      },
      "execution_count": 31,
      "outputs": []
    },
    {
      "cell_type": "code",
      "execution_count": 76,
      "metadata": {
        "id": "TWyYWpT1eB2P"
      },
      "outputs": [],
      "source": [
        "from langgraph.graph import StateGraph, END\n",
        "from typing import TypedDict, Annotated\n",
        "import operator\n",
        "from langchain_core.agents import AgentAction\n",
        "from langchain_core.messages import BaseMessage\n",
        "from langchain_core.messages import AnyMessage, SystemMessage, HumanMessage, ToolMessage\n",
        "from langchain_community.tools.tavily_search import TavilySearchResults\n",
        "from langchain_aws.chat_models import ChatBedrock\n",
        "from langchain_core.callbacks import StreamingStdOutCallbackHandler\n",
        "from mypy_boto3_bedrock_runtime.client import BedrockRuntimeClient\n",
        "from pydantic import BaseModel, Field\n",
        "from enum import Enum\n",
        "\n",
        "class ModelKwargs(BaseModel):\n",
        "    temperature: float = Field(default=0.1, ge=0, le=1)\n",
        "    max_tokens: int = Field(default=2048, ge=1, le=4096)\n",
        "    top_p: float = Field(default=0.999, ge=0, le=1)\n",
        "    top_k: int = Field(default=0, ge=0, le=500)\n",
        "\n",
        "\n",
        "class ModelId(str, Enum):\n",
        "    CLAUDE_3_HAIKU = \"us.anthropic.claude-3-haiku-20240307-v1:0\"\n",
        "    CLAUDE_3_SONNET = \"us.anthropic.claude-3-sonnet-20240229-v1:0\"\n",
        "    CLAUDE_3_OPUS = \"us.anthropic.claude-3-opus-20240229-v1:0\",\n",
        "    CLAUDE_3_5_SONNET =\"us.anthropic.claude-3-5-sonnet-20240620-v1:0\"\n",
        "\n",
        "class AgentState(TypedDict):\n",
        "   input: str\n",
        "   intermediate_steps: Annotated[list[tuple[AgentAction, str]], operator.add]\n",
        "   researched: list[str]\n",
        "   output: QuestionsSchema"
      ]
    },
    {
      "cell_type": "code",
      "source": [],
      "metadata": {
        "id": "t5KJnFOLPm4Y"
      },
      "execution_count": 102,
      "outputs": []
    },
    {
      "cell_type": "code",
      "source": [
        "import boto3\n",
        "\n",
        "def get_bedrock_client():\n",
        "    session = boto3.Session(\n",
        "        aws_access_key_id=os.environ[\"AWS_ACCESS_KEY_ID\"],\n",
        "        aws_secret_access_key=os.environ[\"AWS_SECRET_ACCESS_KEY\"],\n",
        "        region_name=os.environ[\"AWS_DEFAULT_REGION\"]\n",
        "    )\n",
        "    client = session.client(\"bedrock-runtime\")\n",
        "    return client"
      ],
      "metadata": {
        "id": "r5I03OdM47yl"
      },
      "execution_count": 103,
      "outputs": []
    },
    {
      "cell_type": "code",
      "source": [
        "def get_langchain_model(\n",
        "  client: BedrockRuntimeClient,\n",
        "  model_id: ModelId,\n",
        "  model_kwargs: ModelKwargs,\n",
        "  streaming: bool = False,\n",
        "  verbose: bool = False) -> ChatBedrock:\n",
        "    return ChatBedrock(\n",
        "        client=client,\n",
        "        model_id=model_id.value,\n",
        "        model_kwargs=model_kwargs.__dict__,\n",
        "        streaming=streaming,\n",
        "        verbose=verbose,\n",
        "        callbacks=[StreamingStdOutCallbackHandler()] if streaming else []\n",
        "    )"
      ],
      "metadata": {
        "id": "2vHi1vwrg5ka"
      },
      "execution_count": 104,
      "outputs": []
    },
    {
      "cell_type": "code",
      "source": [
        "from langchain_fireworks import Fireworks\n",
        "small_llm=Fireworks(model=\"accounts/fireworks/models/llama-v3p3-70b-instruct\")"
      ],
      "metadata": {
        "id": "8cHrhR0NPUhy"
      },
      "execution_count": 105,
      "outputs": []
    },
    {
      "cell_type": "code",
      "source": [
        "client = get_bedrock_client()\n",
        "llm_generation=get_langchain_model( client= client,model_id=ModelId.CLAUDE_3_SONNET,model_kwargs=ModelKwargs(),)"
      ],
      "metadata": {
        "id": "G_QQVtpy4lXM"
      },
      "execution_count": 106,
      "outputs": []
    },
    {
      "cell_type": "code",
      "source": [
        "from langchain_core.tools import tool\n",
        "from pydantic import BaseModel, Field\n",
        "from typing_extensions import Annotated\n",
        "from tavily import TavilyClient\n",
        "from typing import List\n",
        "\n",
        "class TavilySearchInput(BaseModel):\n",
        "    query: Annotated[str, Field(description=\"The search query string\")]\n",
        "    max_results: Annotated[\n",
        "        int, Field(description=\"Maximum number of results to return\", ge=1, le=10)\n",
        "    ] = 5\n",
        "    search_depth: Annotated[\n",
        "        str,\n",
        "        Field(\n",
        "            description=\"Search depth: 'basic' or 'advanced'\",\n",
        "            choices=[\"basic\", \"advanced\"],\n",
        "        ),\n",
        "    ] = \"basic\"\n",
        "\n",
        "    def process_response(self, response: dict) -> str:\n",
        "        if not response.get(\"results\"):\n",
        "            return \"No results found.\"\n",
        "\n",
        "        results = []\n",
        "        for item in response[\"results\"]:\n",
        "            title = item.get(\"title\", \"No title\")\n",
        "            content = item.get(\"content\", \"No content available\")\n",
        "            url = item.get(\"url\", \"No URL available\")\n",
        "            results.append(f\"Title: {title}\\nContent: {content}\\nURL: {url}\\n\")\n",
        "\n",
        "        return \"\\n\".join(results)\n",
        "\n",
        "@tool(\"tavily_search\")\n",
        "def tavily_search(search_input: TavilySearchInput):\n",
        "    \"\"\" This tool performs a search query using the Tavily API to retrieve information related to the user's query.\n",
        "    The tool accepts search parameters such as the query string, the maximum number of results to return,\n",
        "    and the search depth ('basic' or 'advanced').\n",
        "\n",
        "    The search tool is designed to provide specific, tailored results for survey research,\n",
        "    offering key insights into various domains like company information, industry trends, and audience analysis.\n",
        "    The response is processed and formatted for clarity, including the title, content, and URL of each result.\n",
        "\n",
        "    Args:\n",
        "    - search_input: A structured input containing the search query string,\n",
        "      maximum results to return, and the desired search depth.\n",
        "\n",
        "    Returns:\n",
        "    - A formatted string with the titles, content, and URLs of the search results, or a message\n",
        "      indicating no results were found.\"\"\"\n",
        "    client = TavilyClient(api_key=\"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\")\n",
        "    try:\n",
        "        response = client.search(\n",
        "            query=search_input.query,\n",
        "            max_results=search_input.max_results,\n",
        "            search_depth=search_input.search_depth,\n",
        "        )\n",
        "        print(response)\n",
        "        return search_input.process_response(response)\n",
        "    except Exception as e:\n",
        "        return f\"An error occurred while performing the search: {str(e)}\"\n"
      ],
      "metadata": {
        "id": "B34zhHY5gxI2"
      },
      "execution_count": 107,
      "outputs": []
    },
    {
      "cell_type": "code",
      "source": [
        "# Create an instance of TavilySearchInput\n",
        "search_input = TavilySearchInput(\n",
        "    query=\"latest trends in AI\",\n",
        "    max_results=5,\n",
        "    search_depth=\"advanced\"\n",
        ")\n",
        "\n",
        "# Convert the search_input to a dictionary\n",
        "\n",
        "# Invoke the tavily_search function\n",
        "result = tavily_search.invoke({\"search_input\":search_input})\n",
        "\n",
        "# Print the result\n",
        "print(result)\n"
      ],
      "metadata": {
        "colab": {
          "base_uri": "https://localhost:8080/"
        },
        "id": "KqIopGZm3ieW",
        "outputId": "c8da047a-20d4-4092-bd83-c1f147851c19"
      },
      "execution_count": 87,
      "outputs": [
        {
          "output_type": "stream",
          "name": "stdout",
          "text": [
            "{'query': 'latest trends in AI', 'follow_up_questions': None, 'answer': None, 'images': [], 'results': [{'title': 'Five AI Trends To Expect In 2025: Beyond ChatGPT And Friends - Forbes', 'url': 'https://www.forbes.com/sites/nishatalagala/2024/12/30/five-ai-trends-to-expect-in-2025-beyond-chatgpt-and-friends/', 'content': 'Five AI Trends To Expect In 2025: Beyond ChatGPT And Friends Five AI Trends To Expect In 2025: Beyond ChatGPT And Friends AI Trend 1: Agents Everywhere You may have heard the term Agentic AI. AI Trend 2: Transformation Of The Education System AI Trend 3: AI In Science It is also worth noting that while much of the world’s attention and imagination has been focused on Generative AI, billions in funding are pouring into AI use for scientific applications, with new announcements coming in daily for everything from space exploration to medical advances. AI Trend 4: Running Out Of (Easy) Data Couple this with the above trend of AI in Science, and we can imagine efforts to tap scientific data to accelerate. AI Trend 5: Robots Forbes Community Guidelines', 'score': 0.79196626, 'raw_content': None}, {'title': 'The 5 Biggest Artificial Intelligence Trends For 2024 - Forbes', 'url': 'https://www.forbes.com/sites/bernardmarr/2023/11/01/the-top-5-artificial-intelligence-trends-for-2024/', 'content': 'You can read more about future tech and business trends in my books, The Future Internet: How the Metaverse, Web 3.0, and Blockchain Will Transform Business and Society, Future Skills: The 20 Skills And Competencies Everyone Needs To Succeed In A Digital World and Business Trends in Practice, which won the 2022 Business Book of the Year award. Next Generation of Generative AI\\nTaking the prime position on our list is the next generation of generative AI, advancing beyond the confines of simple chatbots and whimsical meme generators. It’s been a year since OpenAI released ChatGPT, opening the door to seamlessly weave AI into the fabric of our daily lives, propelling industries into the future and even prompting regulatory shifts. And don’t forget to subscribe to my newsletter and follow me on X (Twitter), LinkedIn, and YouTube for more on the future trends in business and technology. As we approach 2024, experts foresee a blossoming interest in AI ethics education and a heightened prioritization of ethical considerations within AI research and development realms.\\n', 'score': 0.7636429, 'raw_content': None}, {'title': 'Five Trends in AI and Data Science for 2025 - MIT Sloan Management Review', 'url': 'https://sloanreview.mit.edu/article/five-trends-in-ai-and-data-science-for-2025/', 'content': 'Data and AI leaders in Randy’s 2025 AI & Data Leadership Executive Benchmark Survey said they are confident that GenAI value is being generated: Fifty-eight percent said that their organization has achieved exponential productivity or efficiency gains from AI, presumably mostly from generative AI. In our trend article last year, we noted that Randy’s survey found that the percentage of company respondents who said that their organization had “created a data and AI-driven organization” and “established a data and AI-driven organizational culture” both doubled over the prior year (from 24% to 48% for creating data- and AI-driven organizations, and from 21% to 43% for establishing data-driven cultures).', 'score': 0.70214266, 'raw_content': None}, {'title': 'Top 20 Trends in AI and ML to Watch in 2024 - GeeksforGeeks', 'url': 'https://www.geeksforgeeks.org/top-20-trends-in-ai-and-ml-to-watch-in-2024/', 'content': 'R, with its powerful data manipulation and visualization capabilities, 6 min readFuture Trends in GPU Technology for Artificial Intelligence The world of artificial intelligence (AI) and machine learning (ML) is rapidly evolving, and at the heart of this transformation lies Graphics Processing Unit (GPU) technology. Data Science 9 min read5 Top Generative AI Design Tools in 2024 [Free & Paid] Are you ready to level up your design game? AI tools for cybersecurity leverage machine learning algorithms and predictive 8 min read10 Top AI Audio Enhancer Tools in 2024 Artificial Intelligence is the new trend to be productive and competitive.', 'score': 0.6964752, 'raw_content': None}, {'title': 'The Top Artificial Intelligence Trends - IBM', 'url': 'https://www.ibm.com/think/insights/artificial-intelligence-trends', 'content': 'Learn how generative AI is evolving from hype to reality, with more realistic expectations, multimodal models, smaller language models and open source advancements. Explore the challenges and opportunities of AI governance, regulation, ethics and sustainability in the business world.', 'score': 0.680136, 'raw_content': None}], 'response_time': 1.5}\n",
            "Title: Five AI Trends To Expect In 2025: Beyond ChatGPT And Friends - Forbes\n",
            "Content: Five AI Trends To Expect In 2025: Beyond ChatGPT And Friends Five AI Trends To Expect In 2025: Beyond ChatGPT And Friends AI Trend 1: Agents Everywhere You may have heard the term Agentic AI. AI Trend 2: Transformation Of The Education System AI Trend 3: AI In Science It is also worth noting that while much of the world’s attention and imagination has been focused on Generative AI, billions in funding are pouring into AI use for scientific applications, with new announcements coming in daily for everything from space exploration to medical advances. AI Trend 4: Running Out Of (Easy) Data Couple this with the above trend of AI in Science, and we can imagine efforts to tap scientific data to accelerate. AI Trend 5: Robots Forbes Community Guidelines\n",
            "URL: https://www.forbes.com/sites/nishatalagala/2024/12/30/five-ai-trends-to-expect-in-2025-beyond-chatgpt-and-friends/\n",
            "\n",
            "Title: The 5 Biggest Artificial Intelligence Trends For 2024 - Forbes\n",
            "Content: You can read more about future tech and business trends in my books, The Future Internet: How the Metaverse, Web 3.0, and Blockchain Will Transform Business and Society, Future Skills: The 20 Skills And Competencies Everyone Needs To Succeed In A Digital World and Business Trends in Practice, which won the 2022 Business Book of the Year award. Next Generation of Generative AI\n",
            "Taking the prime position on our list is the next generation of generative AI, advancing beyond the confines of simple chatbots and whimsical meme generators. It’s been a year since OpenAI released ChatGPT, opening the door to seamlessly weave AI into the fabric of our daily lives, propelling industries into the future and even prompting regulatory shifts. And don’t forget to subscribe to my newsletter and follow me on X (Twitter), LinkedIn, and YouTube for more on the future trends in business and technology. As we approach 2024, experts foresee a blossoming interest in AI ethics education and a heightened prioritization of ethical considerations within AI research and development realms.\n",
            "\n",
            "URL: https://www.forbes.com/sites/bernardmarr/2023/11/01/the-top-5-artificial-intelligence-trends-for-2024/\n",
            "\n",
            "Title: Five Trends in AI and Data Science for 2025 - MIT Sloan Management Review\n",
            "Content: Data and AI leaders in Randy’s 2025 AI & Data Leadership Executive Benchmark Survey said they are confident that GenAI value is being generated: Fifty-eight percent said that their organization has achieved exponential productivity or efficiency gains from AI, presumably mostly from generative AI. In our trend article last year, we noted that Randy’s survey found that the percentage of company respondents who said that their organization had “created a data and AI-driven organization” and “established a data and AI-driven organizational culture” both doubled over the prior year (from 24% to 48% for creating data- and AI-driven organizations, and from 21% to 43% for establishing data-driven cultures).\n",
            "URL: https://sloanreview.mit.edu/article/five-trends-in-ai-and-data-science-for-2025/\n",
            "\n",
            "Title: Top 20 Trends in AI and ML to Watch in 2024 - GeeksforGeeks\n",
            "Content: R, with its powerful data manipulation and visualization capabilities, 6 min readFuture Trends in GPU Technology for Artificial Intelligence The world of artificial intelligence (AI) and machine learning (ML) is rapidly evolving, and at the heart of this transformation lies Graphics Processing Unit (GPU) technology. Data Science 9 min read5 Top Generative AI Design Tools in 2024 [Free & Paid] Are you ready to level up your design game? AI tools for cybersecurity leverage machine learning algorithms and predictive 8 min read10 Top AI Audio Enhancer Tools in 2024 Artificial Intelligence is the new trend to be productive and competitive.\n",
            "URL: https://www.geeksforgeeks.org/top-20-trends-in-ai-and-ml-to-watch-in-2024/\n",
            "\n",
            "Title: The Top Artificial Intelligence Trends - IBM\n",
            "Content: Learn how generative AI is evolving from hype to reality, with more realistic expectations, multimodal models, smaller language models and open source advancements. Explore the challenges and opportunities of AI governance, regulation, ethics and sustainability in the business world.\n",
            "URL: https://www.ibm.com/think/insights/artificial-intelligence-trends\n",
            "\n"
          ]
        }
      ]
    },
    {
      "cell_type": "code",
      "source": [
        "class searchQueriesSchema(BaseModel):\n",
        "    queries: List[str] = Field(description=\"A list of extracted search queries for the user's query to be used for creating survey questions.\")"
      ],
      "metadata": {
        "id": "JlJcL6NhplTa"
      },
      "execution_count": 108,
      "outputs": []
    },
    {
      "cell_type": "code",
      "source": [
        "tools=[tavily_search]"
      ],
      "metadata": {
        "id": "nlbHgrWPF6cQ"
      },
      "execution_count": 109,
      "outputs": []
    },
    {
      "cell_type": "code",
      "source": [
        "from langchain_core.prompts import ChatPromptTemplate, MessagesPlaceholder\n",
        "from langchain_core.output_parsers import StrOutputParser, JsonOutputParser\n",
        "from langchain_core.agents import AgentAction\n",
        "\n",
        "async def researcher(state: TypedDict):\n",
        "    input = state[\"input\"]\n",
        "    system_prompt = \"\"\"\n",
        "    You are a researcher with access to the **tavily_search** tool, which allows you to search the web for relevant information.\n",
        "    Your goal is to gather as much context as possible to build relevant and targeted survey questions.\n",
        "    The user's query contains details about the company, survey's purpose, target audience, industry, and other context.\n",
        "    You need to extract key elements from this context and design effective search queries.\n",
        "    \"\"\"\n",
        "\n",
        "    human_prompt = \"\"\"\n",
        "    Analyze the provided instructions: {input}. Extract the necessary context to generate a structured list of exactly three search queries for gathering relevant information. Each query must align with the following categories. Return only a parsable JSON object with the search queries and no additional text. If no queries can be generated, return an empty JSON object.\n",
        "\n",
        "    Categories for search queries:\n",
        "\n",
        "    1. **Company-Specific Insights**:\n",
        "      - Search for the key products, services, or unique value proposition of the company in the specified industry.\n",
        "      - Search for recent news, updates, or innovations related to the company.\n",
        "\n",
        "    2. **Industry Trends and Challenges**:\n",
        "      - Search for current trends, emerging technologies, or innovations in the industry for [year].\n",
        "      - Search for common challenges or pain points faced by companies in the given industry.\n",
        "\n",
        "    3. **Audience Demographics and Preferences**:\n",
        "      - Search for preferences, expectations, and behaviors of the [target audience] in the [industry].\n",
        "      - Search for demographic details or specific needs of the target audience related to [product/service].\n",
        "\n",
        "    4. **Competitive Landscape**:\n",
        "      - Search for top competitors of [company name] in the [industry] and their key differentiators.\n",
        "      - Search for strategies or approaches used by [competitor name] to engage with the [target audience].\n",
        "\n",
        "    5. **Survey Design and Templates**:\n",
        "      - Search for examples of survey templates or relevant survey questions for the [industry].\n",
        "      - Search for best practices for designing surveys tailored to the [target audience] and industry.\n",
        "\n",
        "    6. **Audience-Specific Insights**:\n",
        "      - Search for behavioral insights or patterns, including preferences, decision-making factors, and feedback on similar products or services.\n",
        "\n",
        "    7. **Survey Effectiveness**:\n",
        "      - Search for factors influencing survey effectiveness, including industry-specific challenges and audience engagement strategies.\n",
        "      - Search for insights into successful surveys or case studies in similar contexts.\n",
        "\n",
        "    8. **Examples and Use Cases**:\n",
        "      - Search for real-world examples of surveys conducted in the [industry] or for a similar [target audience].\n",
        "      - Search for key findings from industry reports, whitepapers, or market research related to surveys.\n",
        "      {format_instructions}\n",
        "      \"\"\"\n",
        "\n",
        "\n",
        "    messages = [\n",
        "        (\"system\", system_prompt),\n",
        "        (\"human\", human_prompt),\n",
        "    ]\n",
        "    parser = JsonOutputParser(pydantic_object=searchQueriesSchema)\n",
        "    chat_prompt = ChatPromptTemplate.from_messages(messages)\n",
        "    chain = chat_prompt | llm_generation | parser\n",
        "\n",
        "    try:\n",
        "        response = await chain.ainvoke(input={\"input\": input,\"format_instructions\": parser.get_format_instructions()})\n",
        "        intermediate_steps = []\n",
        "        for query in response[\"queries\"]:\n",
        "            tool_name = \"tavily_search\"\n",
        "            tool_args = tool_args = TavilySearchInput(\n",
        "                query=query,\n",
        "                max_results=3,\n",
        "                search_depth=\"basic\"\n",
        "            )\n",
        "            action = AgentAction(\n",
        "                tool=tool_name,\n",
        "                tool_input=tool_args.dict(),\n",
        "                log=\"TBD\"\n",
        "            )\n",
        "            intermediate_steps.append(action)\n",
        "\n",
        "        return {\"intermediate_steps\": intermediate_steps}\n",
        "\n",
        "    except Exception as e:\n",
        "        print(\"An unexpected error occurred:\", e)\n",
        "        raise RuntimeError(f\"Error fetching the data: {str(e)}\")\n"
      ],
      "metadata": {
        "id": "Xi45OXjXy3-H"
      },
      "execution_count": 110,
      "outputs": []
    },
    {
      "cell_type": "code",
      "source": [
        "out = researcher({\n",
        "    \"input\": \"\"\"Generate 10 insightful and customer-centric survey questions for Unibic Cookies.\n",
        "    The purpose of these questions is to gather actionable feedback for the launch of their new cookie flavors.\n",
        "    Focus on the following:\n",
        "    - Identifying customer preferences for flavors, texture, and packaging.\n",
        "    - Understanding expectations for cookie quality and areas for improvement.\n",
        "    - Gaining insights into purchasing behavior and decision-making factors.\n",
        "    - Exploring customer suggestions for enhancing the product experience.\n",
        "\n",
        "    Frame the questions in a clear and engaging way to maximize response quality and relevance.\"\"\",\n",
        "    \"intermediate_steps\": [],\n",
        "})"
      ],
      "metadata": {
        "id": "RtvKaMEWiLfI"
      },
      "execution_count": 111,
      "outputs": []
    },
    {
      "cell_type": "code",
      "source": [
        "print(out)"
      ],
      "metadata": {
        "colab": {
          "base_uri": "https://localhost:8080/"
        },
        "id": "EQ2kDNZ8iTD-",
        "outputId": "8e01c700-b683-4241-98ee-2b20c78c111b"
      },
      "execution_count": 92,
      "outputs": [
        {
          "output_type": "stream",
          "name": "stdout",
          "text": [
            "{'intermediate_steps': [AgentAction(tool='tavily_search', tool_input={'query': 'Unibic Cookies products, flavors, and unique selling points', 'max_results': 3, 'search_depth': 'basic'}, log='TBD'), AgentAction(tool='tavily_search', tool_input={'query': 'trends and innovations in the cookie and snack industry 2023', 'max_results': 3, 'search_depth': 'basic'}, log='TBD'), AgentAction(tool='tavily_search', tool_input={'query': 'preferences and behaviors of cookie consumers in India', 'max_results': 3, 'search_depth': 'basic'}, log='TBD')]}\n"
          ]
        }
      ]
    },
    {
      "cell_type": "code",
      "source": [
        "from re import T\n",
        "tool_str_to_func = {\n",
        "   \"tavily_search\": tavily_search,\n",
        "}\n",
        "\n",
        "def run_tool(state: TypedDict):\n",
        "  try:\n",
        "    tools = state[\"intermediate_steps\"]\n",
        "    tool_name = state[\"intermediate_steps\"]\n",
        "    tool_args = state[\"intermediate_steps\"][-1].tool_input\n",
        "    researched = []\n",
        "    for tool in tools:\n",
        "      tool_name = tool.tool\n",
        "      tool_args = tool.tool_input\n",
        "      out = tool_str_to_func[tool_name].invoke({\"search_input\":tool_args})\n",
        "      researched.append(out)\n",
        "    return {\"researched\": researched}\n",
        "  except Exception as e:\n",
        "    print(\"An unexpected error occurred:\", e)\n",
        "    raise RuntimeError(f\"Error fetching the data: {str(e)}\")"
      ],
      "metadata": {
        "id": "v_90cYYObxio"
      },
      "execution_count": 112,
      "outputs": []
    },
    {
      "cell_type": "code",
      "source": [
        "async def question_generator(state: TypedDict):\n",
        "    input_text = state[\"input\"]\n",
        "    context = state[\"researched\"]\n",
        "\n",
        "    system_prompt = (\n",
        "        \"You are an expert assistant specializing in generating survey questions based \"\n",
        "        \"on the provided input. Your task is to generate questions, determine their types, \"\n",
        "        \"and identify possible answer options based on the provided text.\"\n",
        "    )\n",
        "\n",
        "    human_prompt = \"\"\"\n",
        "    Please analyze the provided information and perform the following tasks:\n",
        "    1. Generate the specified number of survey questions relevant to the company and its industry, considering the target audience.\n",
        "    2. Determine the question type from these options: binary, multiple-choice, rating, or free-text.\n",
        "    3. For binary, multiple-choice, or rating questions, list the possible answer options.\n",
        "    4. Each question should include its type and possible options (if applicable).\n",
        "    5. Present the results in a **parsable JSON format** without any additional text—only clean JSON output.\n",
        "    6. If no valid questions are found or if the input text is empty, return an empty JSON object.\n",
        "\n",
        "    Here is the input to base the questions on:\n",
        "    '''{prompt}'''\n",
        "\n",
        "    Here is the context about the company and all relevant details:\n",
        "    '''{context}'''\n",
        "\n",
        "    {format_instructions}\n",
        "    \"\"\"\n",
        "    print(context)\n",
        "    parser = JsonOutputParser(pydantic_object=QuestionsSchema)\n",
        "\n",
        "    messages = [\n",
        "        (\"system\", system_prompt),\n",
        "        (\"human\", human_prompt),\n",
        "    ]\n",
        "\n",
        "    chat_prompt = ChatPromptTemplate.from_messages(messages)\n",
        "    chain = chat_prompt | llm_generation | parser\n",
        "\n",
        "    try:\n",
        "        response = await chain.ainvoke({\"prompt\": input_text,\"context\": context,\"format_instructions\": parser.get_format_instructions()})\n",
        "        return {\"output\": response}\n",
        "    except Exception as e:\n",
        "        print(f\"An unexpected error occurred: {e}\")\n",
        "        raise RuntimeError(f\"Error fetching the data: {str(e)}\")\n"
      ],
      "metadata": {
        "id": "HyK9NGvyvkjX"
      },
      "execution_count": 113,
      "outputs": []
    },
    {
      "cell_type": "code",
      "source": [
        "from langgraph.graph import StateGraph, END\n",
        "\n",
        "graph = StateGraph(AgentState)\n",
        "\n",
        "graph.add_node(\"researcher\", researcher)\n",
        "graph.add_node(\"tavily_search\", run_tool)\n",
        "graph.add_node(\"question_generator\", question_generator)\n",
        "graph.add_edge(\"tavily_search\", \"question_generator\")\n",
        "\n",
        "graph.set_entry_point(\"researcher\")\n",
        "\n",
        "\n",
        "for tool_obj in tools:\n",
        "    graph.add_edge(\"researcher\", tool_obj.name)\n",
        "\n",
        "\n",
        "graph.add_edge(\"question_generator\", END)\n",
        "\n",
        "\n",
        "runnable = graph.compile()\n",
        "\n"
      ],
      "metadata": {
        "id": "8I7r1-Kimh5U"
      },
      "execution_count": 114,
      "outputs": []
    },
    {
      "cell_type": "code",
      "source": [
        "from IPython.display import Image, display\n",
        "\n",
        "display(Image(runnable.get_graph().draw_mermaid_png()))"
      ],
      "metadata": {
        "colab": {
          "base_uri": "https://localhost:8080/",
          "height": 449
        },
        "id": "RJrcrbqmyauP",
        "outputId": "88462c7e-e35d-41c0-a269-bdfaf0e3a20f"
      },
      "execution_count": 115,
      "outputs": [
        {
          "output_type": "display_data",
          "data": {
            "image/png": "[encoded data removed]",
            "text/plain": [
              "<IPython.core.display.Image object>"
            ]
          },
          "metadata": {}
        }
      ]
    },
    {
      "cell_type": "code",
      "source": [
        "out = await runnable.ainvoke({\n",
        "    \"input\": \"I want 10 customer-centric questions for unibic for the launch of thier new flavours in cookies\",\n",
        "    \"intermediate_steps\": [],\n",
        "    \"researched\": [],\n",
        "    \"output\": {},\n",
        "})"
      ],
      "metadata": {
        "colab": {
          "base_uri": "https://localhost:8080/"
        },
        "id": "9UKJvblJoSDu",
        "outputId": "b633688e-a00a-4e6d-d9bf-24005ed89043"
      },
      "execution_count": 116,
      "outputs": [
        {
          "output_type": "stream",
          "name": "stderr",
          "text": [
            "<ipython-input-110-4f2fa6829c27>:73: PydanticDeprecatedSince20: The `dict` method is deprecated; use `model_dump` instead. Deprecated in Pydantic V2.0 to be removed in V3.0. See Pydantic V2 Migration Guide at https://errors.pydantic.dev/2.10/migration/\n",
            "  tool_input=tool_args.dict(),\n"
          ]
        },
        {
          "output_type": "stream",
          "name": "stdout",
          "text": [
            "{'query': 'unibic cookies new flavors launch', 'follow_up_questions': None, 'answer': None, 'images': [], 'results': [{'title': 'Unibic Biscott Review - Mishry (2024)', 'url': 'https://www.mishry.com/unibic-caramel-and-cinnamon-biscuits-review', 'content': \"Nah! It's Biscott! Our Review of Unibic's New Cinnamon Biscuits. ... We would have liked them a lot more if the flavor of cinnamon was bolder. Written By Saachi Gera Review led by: Nishtha Asrani Sethi, Tanu Ganguly. Updated: August 20, 2024 4 Mins Read. ... Unibic's new launch is a cinnamon and caramel flavored biscuit, Biscott.\", 'score': 0.8585411, 'raw_content': None}, {'title': \"Unibic Cookies: WHAT'S NEW? - Amazon.in\", 'url': 'https://www.amazon.in/stores/UnibicCookies/WhatsNew/page/A7C1FC47-A6DE-4048-AF86-64D53544C88F', 'content': 'Unibic New Product Launches. ... Unibic Cookies,Assorted Cookies,75 G (Pack Of 12)|Biscuits Combo Pack|Choco Chip Cookies|Butter Cookies|Fruit & Nut Cookies||Honey Oatmeal I Cashew Cookies I Jeera Cookies I 900 Gram. 4.2 4.2 out of 5 stars 19,391 4.2 out of 5 stars. 19,391 customer reviews', 'score': 0.82082915, 'raw_content': None}, {'title': 'Product - Unibic Cookies', 'url': 'https://www.unibicfoods.com/product/', 'content': 'With more richness and more choices, Unibic Cookies are bursting with flavour and the abundance of more butter, chocolate, pista, cashew and other rich ingredients. With over 40 variants including 4 sugar-free flavours, 3 mouth-watering variants in its cracker range, Unibic has something more for the entire family.', 'score': 0.7413937, 'raw_content': None}], 'response_time': 1.46}\n",
            "{'query': 'food industry trends and challenges 2023', 'follow_up_questions': None, 'answer': None, 'images': [], 'results': [{'title': 'Biggest Challenges in 2023: 19 Food Industry experts spell ... - FoodDocs', 'url': 'https://www.fooddocs.com/post/biggest-challenges-in-2023', 'content': 'One of the biggest challenges facing the food industry in 2023 is likely to be the ongoing issue of food waste. It is estimated that around one-third of all food produced globally is wasted, which has a significant environmental impact and results in valuable resources and financial losses for businesses.', 'score': 0.9134376, 'raw_content': None}, {'title': 'What Will 2023 Bring for the Food and Beverage Industry?', 'url': 'https://foodindustryexecutive.com/2023/01/what-will-2023-bring-for-the-food-and-beverage-industry/', 'content': '[On-Demand Webinar] Taste the Future: 2024 Food and Beverage Trends and Outlook\\nUpcoming Events\\nTech Talk: It’s Time to Embrace ERP\\nProduce Safety Rule Grower Training\\nProduce Safety Rule Grower Training\\nSavoring the Flavors of Change in the Food & Beverage Industry\\nFrom Strategy to Success: Mastering ERP Implementation Challenges\\nHow Food Industry Leaders Can Prepare for the Year Ahead\\nCatch Weight Trends in the Food and Beverage Industry: What Will 2023 Bring for the Food and Beverage Industry?\\nNothing about the past few years has been predictable, but the challenges they’ve revealed will continue to haunt the food and beverage industry in 2023. Savoring the Flavors of Change in the Food & Beverage Industry\\nGlobal Flavors, Snackable Sizes Among 2024’s Frozen Food Trends: Conagra\\nThe Trends, Technologies, and Practices You Should Know to Future-Proof Your Brand\\n What’s next?”\\nOne of the challenges is that digitalization can mean many things in the food and beverage industry, from big data and predictive maintenance, to artificial intelligence and machine learning, to production line automation and robotics. The impacts of inflation on grocery spending\\nFingers crossed that the worst of inflation is behind us, but its impacts will continue to be felt, and new ones may emerge depending on what happens in the macro economy.\\n', 'score': 0.8889231, 'raw_content': None}, {'title': '5 Trends Shaping the Food Industry in 2023: Sustainability, Supply ...', 'url': 'https://totalfood.com/5-trends-shaping-the-food-industry-in-2023-sustainability-supply-chains-and-more/', 'content': 'Univ. of Pittsburgh Professor Receives $2.1MM Grant to Improve Non-Slip Footwear for Food Service Employees\\nTop Food & Beverage Trends for 2024, According to af&co. & Carbonate\\nVirtual Breakfast Session on January 24 Asks What Has Tipping Become?\\nMust-Have Italian Food Brands for Foodservice\\nA Clean Sweep: Ongoing Cleaning Training Becomes Essential for Food Service Operators in 2024\\nTroubleshooting Delivery and Takeout Strategies Subscribe to Total Food Service, the Leading Food Industry News Magazine\\nStaying informed about the latest trends and developments in the food industry is essential for businesses looking to stay ahead of the curve. Sustainability, Supply Chains, and More\\nAs the food industry continues to evolve and adapt to changing consumer preferences and global challenges, it’s crucial to stay informed about the latest trends and developments. From sustainable practices to data-driven decision-making, here are some of the most important and popular trends in the food industry for 2023 from the leading food industry news magazine, Total Food Service.\\n Implementing Sustainable Practices for Restaurants and Food Production\\nOne of the most significant trends in the food industry in 2023 is the increasing focus on sustainability.', 'score': 0.8830044, 'raw_content': None}], 'response_time': 1.76}\n",
            "{'query': 'consumer preferences and behavior for cookies and snacks', 'follow_up_questions': None, 'answer': None, 'images': [], 'results': [{'title': 'Consumer preferences and purchasing behavior in the cookie market ...', 'url': 'https://www.marketingjournal.net/article/view/189/6-2-21', 'content': 'Consumer preferences and purchasing behavior in the cookie market: Analyzing influencing factors The cookie market exemplifies consumer behaviour trends, highlighting evolving preferences driven by taste, brand reputation, nutritional values, packaging, and socio-demographic factors. Keywords: Consumer behavior, cookie market, taste preference, brand reputation, nutritional content, packaging influence  .This article aims to analyze these various factors influencing consumer preferences and purchasing behavior in the cookie market (Khan S, Salim A, 2021) [5] . Table 1: The table outlines factors influencing consumer preferences, highlighting key quantitative findings and qualitative insights related to taste, brand reputation, price, nutrition, packaging, demographics, advertising, sustainability, and urban/suburban behaviors.', 'score': 0.7636429, 'raw_content': None}, {'title': 'US Cookies Market Report 2024-2029 | Complete Analysis - Mintel Store', 'url': 'https://store.mintel.com/report/us-cookies-market-report', 'content': 'Cookie consumer preferences and innovation interests. Cookie consumer behavior and attitudes. US Cookie Market Overview Cookie market size. The large and mature cookies category grew 4.6% in 2024 reaching $15.5 billion in sales, driven by moderate price increases on top of relatively flat volume growth. Cookie market share', 'score': 0.7316155, 'raw_content': None}, {'title': 'Consumer preferences and purchasing behavior in the cookie market ...', 'url': 'https://www.marketingjournal.net/archives/2024.v6.i2.B.189', 'content': \"Consumer preferences and purchasing behavior in the cookie market: Analyzing influencing factors Home Submit Manuscript Contact Us Printed Journal Indexed Journal Refereed Journal Peer Reviewed Journal P-ISSN: 2663-3329, E-ISSN: 2663-3337 Subscribe Print Journal  Journal's Code Issue Bar Downloads Copyright Form (DOC) Copyright Form (PDF) The cookie market exemplifies consumer behaviour trends, highlighting evolving preferences driven by taste, brand reputation, nutritional values, packaging, and socio-demographic factors. Download Full Article DOI: 10.33545/26633329.2024.v6.i2b.188 Subscribe Print Journal  Journal's Code Issue Bar Downloads Copyright Form (DOC) Copyright Form (PDF) Related Journals Human Resource Management Journal Management Journal Related Journal Subscription Finance Journal Subscription Management Journal Subscription Journal of Commerce Subscription Marketing Journal Subscription Business Journal Subscription Tourism Journal Subscription Print Journals Subscription International Journal of Research in Marketing Management and Sales\", 'score': 0.6847074, 'raw_content': None}], 'response_time': 1.44}\n",
            "[\"Title: Unibic Biscott Review - Mishry (2024)\\nContent: Nah! It's Biscott! Our Review of Unibic's New Cinnamon Biscuits. ... We would have liked them a lot more if the flavor of cinnamon was bolder. Written By Saachi Gera Review led by: Nishtha Asrani Sethi, Tanu Ganguly. Updated: August 20, 2024 4 Mins Read. ... Unibic's new launch is a cinnamon and caramel flavored biscuit, Biscott.\\nURL: https://www.mishry.com/unibic-caramel-and-cinnamon-biscuits-review\\n\\nTitle: Unibic Cookies: WHAT'S NEW? - Amazon.in\\nContent: Unibic New Product Launches. ... Unibic Cookies,Assorted Cookies,75 G (Pack Of 12)|Biscuits Combo Pack|Choco Chip Cookies|Butter Cookies|Fruit & Nut Cookies||Honey Oatmeal I Cashew Cookies I Jeera Cookies I 900 Gram. 4.2 4.2 out of 5 stars 19,391 4.2 out of 5 stars. 19,391 customer reviews\\nURL: https://www.amazon.in/stores/UnibicCookies/WhatsNew/page/A7C1FC47-A6DE-4048-AF86-64D53544C88F\\n\\nTitle: Product - Unibic Cookies\\nContent: With more richness and more choices, Unibic Cookies are bursting with flavour and the abundance of more butter, chocolate, pista, cashew and other rich ingredients. With over 40 variants including 4 sugar-free flavours, 3 mouth-watering variants in its cracker range, Unibic has something more for the entire family.\\nURL: https://www.unibicfoods.com/product/\\n\", 'Title: Biggest Challenges in 2023: 19 Food Industry experts spell ... - FoodDocs\\nContent: One of the biggest challenges facing the food industry in 2023 is likely to be the ongoing issue of food waste. It is estimated that around one-third of all food produced globally is wasted, which has a significant environmental impact and results in valuable resources and financial losses for businesses.\\nURL: https://www.fooddocs.com/post/biggest-challenges-in-2023\\n\\nTitle: What Will 2023 Bring for the Food and Beverage Industry?\\nContent: [On-Demand Webinar] Taste the Future: 2024 Food and Beverage Trends and Outlook\\nUpcoming Events\\nTech Talk: It’s Time to Embrace ERP\\nProduce Safety Rule Grower Training\\nProduce Safety Rule Grower Training\\nSavoring the Flavors of Change in the Food & Beverage Industry\\nFrom Strategy to Success: Mastering ERP Implementation Challenges\\nHow Food Industry Leaders Can Prepare for the Year Ahead\\nCatch Weight Trends in the Food and Beverage Industry: What Will 2023 Bring for the Food and Beverage Industry?\\nNothing about the past few years has been predictable, but the challenges they’ve revealed will continue to haunt the food and beverage industry in 2023. Savoring the Flavors of Change in the Food & Beverage Industry\\nGlobal Flavors, Snackable Sizes Among 2024’s Frozen Food Trends: Conagra\\nThe Trends, Technologies, and Practices You Should Know to Future-Proof Your Brand\\n What’s next?”\\nOne of the challenges is that digitalization can mean many things in the food and beverage industry, from big data and predictive maintenance, to artificial intelligence and machine learning, to production line automation and robotics. The impacts of inflation on grocery spending\\nFingers crossed that the worst of inflation is behind us, but its impacts will continue to be felt, and new ones may emerge depending on what happens in the macro economy.\\n\\nURL: https://foodindustryexecutive.com/2023/01/what-will-2023-bring-for-the-food-and-beverage-industry/\\n\\nTitle: 5 Trends Shaping the Food Industry in 2023: Sustainability, Supply ...\\nContent: Univ. of Pittsburgh Professor Receives $2.1MM Grant to Improve Non-Slip Footwear for Food Service Employees\\nTop Food & Beverage Trends for 2024, According to af&co. & Carbonate\\nVirtual Breakfast Session on January 24 Asks What Has Tipping Become?\\nMust-Have Italian Food Brands for Foodservice\\nA Clean Sweep: Ongoing Cleaning Training Becomes Essential for Food Service Operators in 2024\\nTroubleshooting Delivery and Takeout Strategies Subscribe to Total Food Service, the Leading Food Industry News Magazine\\nStaying informed about the latest trends and developments in the food industry is essential for businesses looking to stay ahead of the curve. Sustainability, Supply Chains, and More\\nAs the food industry continues to evolve and adapt to changing consumer preferences and global challenges, it’s crucial to stay informed about the latest trends and developments. From sustainable practices to data-driven decision-making, here are some of the most important and popular trends in the food industry for 2023 from the leading food industry news magazine, Total Food Service.\\n Implementing Sustainable Practices for Restaurants and Food Production\\nOne of the most significant trends in the food industry in 2023 is the increasing focus on sustainability.\\nURL: https://totalfood.com/5-trends-shaping-the-food-industry-in-2023-sustainability-supply-chains-and-more/\\n', \"Title: Consumer preferences and purchasing behavior in the cookie market ...\\nContent: Consumer preferences and purchasing behavior in the cookie market: Analyzing influencing factors The cookie market exemplifies consumer behaviour trends, highlighting evolving preferences driven by taste, brand reputation, nutritional values, packaging, and socio-demographic factors. Keywords: Consumer behavior, cookie market, taste preference, brand reputation, nutritional content, packaging influence  .This article aims to analyze these various factors influencing consumer preferences and purchasing behavior in the cookie market (Khan S, Salim A, 2021) [5] . Table 1: The table outlines factors influencing consumer preferences, highlighting key quantitative findings and qualitative insights related to taste, brand reputation, price, nutrition, packaging, demographics, advertising, sustainability, and urban/suburban behaviors.\\nURL: https://www.marketingjournal.net/article/view/189/6-2-21\\n\\nTitle: US Cookies Market Report 2024-2029 | Complete Analysis - Mintel Store\\nContent: Cookie consumer preferences and innovation interests. Cookie consumer behavior and attitudes. US Cookie Market Overview Cookie market size. The large and mature cookies category grew 4.6% in 2024 reaching $15.5 billion in sales, driven by moderate price increases on top of relatively flat volume growth. Cookie market share\\nURL: https://store.mintel.com/report/us-cookies-market-report\\n\\nTitle: Consumer preferences and purchasing behavior in the cookie market ...\\nContent: Consumer preferences and purchasing behavior in the cookie market: Analyzing influencing factors Home Submit Manuscript Contact Us Printed Journal Indexed Journal Refereed Journal Peer Reviewed Journal P-ISSN: 2663-3329, E-ISSN: 2663-3337 Subscribe Print Journal  Journal's Code Issue Bar Downloads Copyright Form (DOC) Copyright Form (PDF) The cookie market exemplifies consumer behaviour trends, highlighting evolving preferences driven by taste, brand reputation, nutritional values, packaging, and socio-demographic factors. Download Full Article DOI: 10.33545/26633329.2024.v6.i2b.188 Subscribe Print Journal  Journal's Code Issue Bar Downloads Copyright Form (DOC) Copyright Form (PDF) Related Journals Human Resource Management Journal Management Journal Related Journal Subscription Finance Journal Subscription Management Journal Subscription Journal of Commerce Subscription Marketing Journal Subscription Business Journal Subscription Tourism Journal Subscription Print Journals Subscription International Journal of Research in Marketing Management and Sales\\nURL: https://www.marketingjournal.net/archives/2024.v6.i2.B.189\\n\"]\n"
          ]
        },
        {
          "output_type": "stream",
          "name": "stderr",
          "text": [
            "Exception ignored in: <coroutine object researcher at 0x7cfa6c059bc0>\n",
            "Traceback (most recent call last):\n",
            "  File \"/usr/local/lib/python3.11/dist-packages/google/colab/_variable_inspector.py\", line 27, in run\n",
            "KeyError: '__builtins__'\n",
            "Exception ignored in: <coroutine object researcher at 0x7cfa6c059bc0>\n",
            "Traceback (most recent call last):\n",
            "  File \"/usr/local/lib/python3.11/dist-packages/google/colab/_variable_inspector.py\", line 27, in run\n",
            "KeyError: '__builtins__'\n"
          ]
        }
      ]
    },
    {
      "cell_type": "code",
      "source": [
        "print(out[\"output\"])"
      ],
      "metadata": {
        "colab": {
          "base_uri": "https://localhost:8080/"
        },
        "id": "WdULryit5SzV",
        "outputId": "2dfc09fc-a7ea-4500-d97b-54e537e16264"
      },
      "execution_count": 117,
      "outputs": [
        {
          "output_type": "stream",
          "name": "stdout",
          "text": [
            "{'question_config': [{'question': \"How likely are you to try Unibic's new cookie flavors?\", 'question_type': 'rating', 'options': [{'option': 'Very likely'}, {'option': 'Somewhat likely'}, {'option': 'Neutral'}, {'option': 'Somewhat unlikely'}, {'option': 'Very unlikely'}]}, {'question': 'Which of the following factors influence your decision to purchase cookies? (Select all that apply)', 'question_type': 'multiple choice', 'options': [{'option': 'Taste'}, {'option': 'Brand reputation'}, {'option': 'Nutritional value'}, {'option': 'Packaging'}, {'option': 'Price'}, {'option': 'Sustainability'}]}, {'question': 'How important is the flavor intensity of cookies to you?', 'question_type': 'rating', 'options': [{'option': 'Extremely important'}, {'option': 'Very important'}, {'option': 'Moderately important'}, {'option': 'Slightly important'}, {'option': 'Not at all important'}]}, {'question': 'What is your preferred cookie texture?', 'question_type': 'multiple choice', 'options': [{'option': 'Crunchy'}, {'option': 'Chewy'}, {'option': 'Soft'}, {'option': 'Crispy'}]}, {'question': 'How often do you purchase cookies?', 'question_type': 'multiple choice', 'options': [{'option': 'Daily'}, {'option': 'Weekly'}, {'option': 'Monthly'}, {'option': 'Occasionally'}, {'option': 'Rarely'}]}, {'question': 'What is your opinion on the variety of cookie flavors offered by Unibic?', 'question_type': 'free-text'}, {'question': 'Would you be interested in trying sugar-free or healthier cookie options from Unibic?', 'question_type': 'binary', 'options': [{'option': 'Yes'}, {'option': 'No'}]}, {'question': 'How important is the packaging design of cookies to you?', 'question_type': 'rating', 'options': [{'option': 'Extremely important'}, {'option': 'Very important'}, {'option': 'Moderately important'}, {'option': 'Slightly important'}, {'option': 'Not at all important'}]}, {'question': 'Which of the following cookie flavors would you be interested in trying from Unibic? (Select all that apply)', 'question_type': 'multiple choice', 'options': [{'option': 'Cinnamon'}, {'option': 'Caramel'}, {'option': 'Chocolate chip'}, {'option': 'Fruit and nut'}, {'option': 'Oatmeal'}, {'option': 'Spiced (e.g., ginger, cardamom)'}]}, {'question': 'How likely are you to recommend Unibic cookies to friends or family?', 'question_type': 'rating', 'options': [{'option': 'Very likely'}, {'option': 'Somewhat likely'}, {'option': 'Neutral'}, {'option': 'Somewhat unlikely'}, {'option': 'Very unlikely'}]}]}\n"
          ]
        }
      ]
    }
  ]
}