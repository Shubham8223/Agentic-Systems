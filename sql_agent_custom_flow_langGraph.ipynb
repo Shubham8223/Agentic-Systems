{
  "nbformat": 4,
  "nbformat_minor": 0,
  "metadata": {
    "colab": {
      "provenance": []
    },
    "kernelspec": {
      "name": "python3",
      "display_name": "Python 3"
    },
    "language_info": {
      "name": "python"
    }
  },
  "cells": [
    {
      "cell_type": "code",
      "source": [
        "!pip install sqlalchemy langgraph langchain langchain_aws langchain_community mypy_boto3_bedrock_runtime tavily-python langchain_fireworks langchain_together aiomysql flask-ngrok pyngrok\n"
      ],
      "metadata": {
        "id": "XfXJtYKfEp21",
        "colab": {
          "base_uri": "https://localhost:8080/"
        },
        "outputId": "e2eb93a4-1e0a-477e-e123-9525c85cf534"
      },
      "execution_count": null,
      "outputs": [
        {
          "output_type": "stream",
          "name": "stdout",
          "text": [
            "Requirement already satisfied: sqlalchemy in /usr/local/lib/python3.11/dist-packages (2.0.37)\n",
            "Requirement already satisfied: langgraph in /usr/local/lib/python3.11/dist-packages (0.2.70)\n",
            "Requirement already satisfied: langchain in /usr/local/lib/python3.11/dist-packages (0.3.18)\n",
            "Requirement already satisfied: langchain_aws in /usr/local/lib/python3.11/dist-packages (0.2.12)\n",
            "Requirement already satisfied: langchain_community in /usr/local/lib/python3.11/dist-packages (0.3.17)\n",
            "Requirement already satisfied: mypy_boto3_bedrock_runtime in /usr/local/lib/python3.11/dist-packages (1.36.2)\n",
            "Requirement already satisfied: tavily-python in /usr/local/lib/python3.11/dist-packages (0.5.1)\n",
            "Requirement already satisfied: langchain_fireworks in /usr/local/lib/python3.11/dist-packages (0.2.7)\n",
            "Requirement already satisfied: langchain_together in /usr/local/lib/python3.11/dist-packages (0.3.0)\n",
            "Requirement already satisfied: aiomysql in /usr/local/lib/python3.11/dist-packages (0.2.0)\n",
            "Requirement already satisfied: flask-ngrok in /usr/local/lib/python3.11/dist-packages (0.0.25)\n",
            "Requirement already satisfied: pyngrok in /usr/local/lib/python3.11/dist-packages (7.2.3)\n",
            "Requirement already satisfied: greenlet!=0.4.17 in /usr/local/lib/python3.11/dist-packages (from sqlalchemy) (3.1.1)\n",
            "Requirement already satisfied: typing-extensions>=4.6.0 in /usr/local/lib/python3.11/dist-packages (from sqlalchemy) (4.12.2)\n",
            "Requirement already satisfied: langchain-core!=0.3.0,!=0.3.1,!=0.3.10,!=0.3.11,!=0.3.12,!=0.3.13,!=0.3.14,!=0.3.15,!=0.3.16,!=0.3.17,!=0.3.18,!=0.3.19,!=0.3.2,!=0.3.20,!=0.3.21,!=0.3.22,!=0.3.3,!=0.3.4,!=0.3.5,!=0.3.6,!=0.3.7,!=0.3.8,!=0.3.9,<0.4.0,>=0.2.43 in /usr/local/lib/python3.11/dist-packages (from langgraph) (0.3.34)\n",
            "Requirement already satisfied: langgraph-checkpoint<3.0.0,>=2.0.10 in /usr/local/lib/python3.11/dist-packages (from langgraph) (2.0.12)\n",
            "Requirement already satisfied: langgraph-sdk<0.2.0,>=0.1.42 in /usr/local/lib/python3.11/dist-packages (from langgraph) (0.1.51)\n",
            "Requirement already satisfied: langchain-text-splitters<1.0.0,>=0.3.6 in /usr/local/lib/python3.11/dist-packages (from langchain) (0.3.6)\n",
            "Requirement already satisfied: langsmith<0.4,>=0.1.17 in /usr/local/lib/python3.11/dist-packages (from langchain) (0.3.5)\n",
            "Requirement already satisfied: pydantic<3.0.0,>=2.7.4 in /usr/local/lib/python3.11/dist-packages (from langchain) (2.10.6)\n",
            "Requirement already satisfied: requests<3,>=2 in /usr/local/lib/python3.11/dist-packages (from langchain) (2.32.3)\n",
            "Requirement already satisfied: PyYAML>=5.3 in /usr/local/lib/python3.11/dist-packages (from langchain) (6.0.2)\n",
            "Requirement already satisfied: aiohttp<4.0.0,>=3.8.3 in /usr/local/lib/python3.11/dist-packages (from langchain) (3.11.11)\n",
            "Requirement already satisfied: tenacity!=8.4.0,<10,>=8.1.0 in /usr/local/lib/python3.11/dist-packages (from langchain) (9.0.0)\n",
            "Requirement already satisfied: numpy<2,>=1.26.4 in /usr/local/lib/python3.11/dist-packages (from langchain) (1.26.4)\n",
            "Requirement already satisfied: boto3>=1.35.74 in /usr/local/lib/python3.11/dist-packages (from langchain_aws) (1.36.16)\n",
            "Requirement already satisfied: dataclasses-json<0.7,>=0.5.7 in /usr/local/lib/python3.11/dist-packages (from langchain_community) (0.6.7)\n",
            "Requirement already satisfied: pydantic-settings<3.0.0,>=2.4.0 in /usr/local/lib/python3.11/dist-packages (from langchain_community) (2.7.1)\n",
            "Requirement already satisfied: httpx-sse<1.0.0,>=0.4.0 in /usr/local/lib/python3.11/dist-packages (from langchain_community) (0.4.0)\n",
            "Requirement already satisfied: tiktoken>=0.5.1 in /usr/local/lib/python3.11/dist-packages (from tavily-python) (0.8.0)\n",
            "Requirement already satisfied: httpx in /usr/local/lib/python3.11/dist-packages (from tavily-python) (0.28.1)\n",
            "Requirement already satisfied: fireworks-ai>=0.13.0 in /usr/local/lib/python3.11/dist-packages (from langchain_fireworks) (0.15.12)\n",
            "Requirement already satisfied: openai<2.0.0,>=1.10.0 in /usr/local/lib/python3.11/dist-packages (from langchain_fireworks) (1.61.1)\n",
            "Requirement already satisfied: langchain-openai<0.4,>=0.3 in /usr/local/lib/python3.11/dist-packages (from langchain_together) (0.3.4)\n",
            "Requirement already satisfied: PyMySQL>=1.0 in /usr/local/lib/python3.11/dist-packages (from aiomysql) (1.1.1)\n",
            "Requirement already satisfied: Flask>=0.8 in /usr/local/lib/python3.11/dist-packages (from flask-ngrok) (3.1.0)\n",
            "Requirement already satisfied: aiohappyeyeballs>=2.3.0 in /usr/local/lib/python3.11/dist-packages (from aiohttp<4.0.0,>=3.8.3->langchain) (2.4.4)\n",
            "Requirement already satisfied: aiosignal>=1.1.2 in /usr/local/lib/python3.11/dist-packages (from aiohttp<4.0.0,>=3.8.3->langchain) (1.3.2)\n",
            "Requirement already satisfied: attrs>=17.3.0 in /usr/local/lib/python3.11/dist-packages (from aiohttp<4.0.0,>=3.8.3->langchain) (25.1.0)\n",
            "Requirement already satisfied: frozenlist>=1.1.1 in /usr/local/lib/python3.11/dist-packages (from aiohttp<4.0.0,>=3.8.3->langchain) (1.5.0)\n",
            "Requirement already satisfied: multidict<7.0,>=4.5 in /usr/local/lib/python3.11/dist-packages (from aiohttp<4.0.0,>=3.8.3->langchain) (6.1.0)\n",
            "Requirement already satisfied: propcache>=0.2.0 in /usr/local/lib/python3.11/dist-packages (from aiohttp<4.0.0,>=3.8.3->langchain) (0.2.1)\n",
            "Requirement already satisfied: yarl<2.0,>=1.17.0 in /usr/local/lib/python3.11/dist-packages (from aiohttp<4.0.0,>=3.8.3->langchain) (1.18.3)\n",
            "Requirement already satisfied: botocore<1.37.0,>=1.36.16 in /usr/local/lib/python3.11/dist-packages (from boto3>=1.35.74->langchain_aws) (1.36.16)\n",
            "Requirement already satisfied: jmespath<2.0.0,>=0.7.1 in /usr/local/lib/python3.11/dist-packages (from boto3>=1.35.74->langchain_aws) (1.0.1)\n",
            "Requirement already satisfied: s3transfer<0.12.0,>=0.11.0 in /usr/local/lib/python3.11/dist-packages (from boto3>=1.35.74->langchain_aws) (0.11.2)\n",
            "Requirement already satisfied: marshmallow<4.0.0,>=3.18.0 in /usr/local/lib/python3.11/dist-packages (from dataclasses-json<0.7,>=0.5.7->langchain_community) (3.26.1)\n",
            "Requirement already satisfied: typing-inspect<1,>=0.4.0 in /usr/local/lib/python3.11/dist-packages (from dataclasses-json<0.7,>=0.5.7->langchain_community) (0.9.0)\n",
            "Requirement already satisfied: httpx-ws in /usr/local/lib/python3.11/dist-packages (from fireworks-ai>=0.13.0->langchain_fireworks) (0.7.1)\n",
            "Requirement already satisfied: Pillow in /usr/local/lib/python3.11/dist-packages (from fireworks-ai>=0.13.0->langchain_fireworks) (11.1.0)\n",
            "Requirement already satisfied: Werkzeug>=3.1 in /usr/local/lib/python3.11/dist-packages (from Flask>=0.8->flask-ngrok) (3.1.3)\n",
            "Requirement already satisfied: Jinja2>=3.1.2 in /usr/local/lib/python3.11/dist-packages (from Flask>=0.8->flask-ngrok) (3.1.5)\n",
            "Requirement already satisfied: itsdangerous>=2.2 in /usr/local/lib/python3.11/dist-packages (from Flask>=0.8->flask-ngrok) (2.2.0)\n",
            "Requirement already satisfied: click>=8.1.3 in /usr/local/lib/python3.11/dist-packages (from Flask>=0.8->flask-ngrok) (8.1.8)\n",
            "Requirement already satisfied: blinker>=1.9 in /usr/local/lib/python3.11/dist-packages (from Flask>=0.8->flask-ngrok) (1.9.0)\n",
            "Requirement already satisfied: jsonpatch<2.0,>=1.33 in /usr/local/lib/python3.11/dist-packages (from langchain-core!=0.3.0,!=0.3.1,!=0.3.10,!=0.3.11,!=0.3.12,!=0.3.13,!=0.3.14,!=0.3.15,!=0.3.16,!=0.3.17,!=0.3.18,!=0.3.19,!=0.3.2,!=0.3.20,!=0.3.21,!=0.3.22,!=0.3.3,!=0.3.4,!=0.3.5,!=0.3.6,!=0.3.7,!=0.3.8,!=0.3.9,<0.4.0,>=0.2.43->langgraph) (1.33)\n",
            "Requirement already satisfied: packaging<25,>=23.2 in /usr/local/lib/python3.11/dist-packages (from langchain-core!=0.3.0,!=0.3.1,!=0.3.10,!=0.3.11,!=0.3.12,!=0.3.13,!=0.3.14,!=0.3.15,!=0.3.16,!=0.3.17,!=0.3.18,!=0.3.19,!=0.3.2,!=0.3.20,!=0.3.21,!=0.3.22,!=0.3.3,!=0.3.4,!=0.3.5,!=0.3.6,!=0.3.7,!=0.3.8,!=0.3.9,<0.4.0,>=0.2.43->langgraph) (24.2)\n",
            "Requirement already satisfied: msgpack<2.0.0,>=1.1.0 in /usr/local/lib/python3.11/dist-packages (from langgraph-checkpoint<3.0.0,>=2.0.10->langgraph) (1.1.0)\n",
            "Requirement already satisfied: orjson>=3.10.1 in /usr/local/lib/python3.11/dist-packages (from langgraph-sdk<0.2.0,>=0.1.42->langgraph) (3.10.15)\n",
            "Requirement already satisfied: anyio in /usr/local/lib/python3.11/dist-packages (from httpx->tavily-python) (4.8.0)\n",
            "Requirement already satisfied: certifi in /usr/local/lib/python3.11/dist-packages (from httpx->tavily-python) (2025.1.31)\n",
            "Requirement already satisfied: httpcore==1.* in /usr/local/lib/python3.11/dist-packages (from httpx->tavily-python) (1.0.7)\n",
            "Requirement already satisfied: idna in /usr/local/lib/python3.11/dist-packages (from httpx->tavily-python) (3.10)\n",
            "Requirement already satisfied: h11<0.15,>=0.13 in /usr/local/lib/python3.11/dist-packages (from httpcore==1.*->httpx->tavily-python) (0.14.0)\n",
            "Requirement already satisfied: requests-toolbelt<2.0.0,>=1.0.0 in /usr/local/lib/python3.11/dist-packages (from langsmith<0.4,>=0.1.17->langchain) (1.0.0)\n",
            "Requirement already satisfied: zstandard<0.24.0,>=0.23.0 in /usr/local/lib/python3.11/dist-packages (from langsmith<0.4,>=0.1.17->langchain) (0.23.0)\n",
            "Requirement already satisfied: distro<2,>=1.7.0 in /usr/local/lib/python3.11/dist-packages (from openai<2.0.0,>=1.10.0->langchain_fireworks) (1.9.0)\n",
            "Requirement already satisfied: jiter<1,>=0.4.0 in /usr/local/lib/python3.11/dist-packages (from openai<2.0.0,>=1.10.0->langchain_fireworks) (0.8.2)\n",
            "Requirement already satisfied: sniffio in /usr/local/lib/python3.11/dist-packages (from openai<2.0.0,>=1.10.0->langchain_fireworks) (1.3.1)\n",
            "Requirement already satisfied: tqdm>4 in /usr/local/lib/python3.11/dist-packages (from openai<2.0.0,>=1.10.0->langchain_fireworks) (4.67.1)\n",
            "Requirement already satisfied: annotated-types>=0.6.0 in /usr/local/lib/python3.11/dist-packages (from pydantic<3.0.0,>=2.7.4->langchain) (0.7.0)\n",
            "Requirement already satisfied: pydantic-core==2.27.2 in /usr/local/lib/python3.11/dist-packages (from pydantic<3.0.0,>=2.7.4->langchain) (2.27.2)\n",
            "Requirement already satisfied: python-dotenv>=0.21.0 in /usr/local/lib/python3.11/dist-packages (from pydantic-settings<3.0.0,>=2.4.0->langchain_community) (1.0.1)\n",
            "Requirement already satisfied: charset-normalizer<4,>=2 in /usr/local/lib/python3.11/dist-packages (from requests<3,>=2->langchain) (3.4.1)\n",
            "Requirement already satisfied: urllib3<3,>=1.21.1 in /usr/local/lib/python3.11/dist-packages (from requests<3,>=2->langchain) (2.3.0)\n",
            "Requirement already satisfied: regex>=2022.1.18 in /usr/local/lib/python3.11/dist-packages (from tiktoken>=0.5.1->tavily-python) (2024.11.6)\n",
            "Requirement already satisfied: python-dateutil<3.0.0,>=2.1 in /usr/local/lib/python3.11/dist-packages (from botocore<1.37.0,>=1.36.16->boto3>=1.35.74->langchain_aws) (2.8.2)\n",
            "Requirement already satisfied: MarkupSafe>=2.0 in /usr/local/lib/python3.11/dist-packages (from Jinja2>=3.1.2->Flask>=0.8->flask-ngrok) (3.0.2)\n",
            "Requirement already satisfied: jsonpointer>=1.9 in /usr/local/lib/python3.11/dist-packages (from jsonpatch<2.0,>=1.33->langchain-core!=0.3.0,!=0.3.1,!=0.3.10,!=0.3.11,!=0.3.12,!=0.3.13,!=0.3.14,!=0.3.15,!=0.3.16,!=0.3.17,!=0.3.18,!=0.3.19,!=0.3.2,!=0.3.20,!=0.3.21,!=0.3.22,!=0.3.3,!=0.3.4,!=0.3.5,!=0.3.6,!=0.3.7,!=0.3.8,!=0.3.9,<0.4.0,>=0.2.43->langgraph) (3.0.0)\n",
            "Requirement already satisfied: mypy-extensions>=0.3.0 in /usr/local/lib/python3.11/dist-packages (from typing-inspect<1,>=0.4.0->dataclasses-json<0.7,>=0.5.7->langchain_community) (1.0.0)\n",
            "Requirement already satisfied: wsproto in /usr/local/lib/python3.11/dist-packages (from httpx-ws->fireworks-ai>=0.13.0->langchain_fireworks) (1.2.0)\n",
            "Requirement already satisfied: six>=1.5 in /usr/local/lib/python3.11/dist-packages (from python-dateutil<3.0.0,>=2.1->botocore<1.37.0,>=1.36.16->boto3>=1.35.74->langchain_aws) (1.17.0)\n"
          ]
        }
      ]
    },
    {
      "cell_type": "code",
      "source": [
        "import os\n"
      ],
      "metadata": {
        "id": "vwKdE70hF54W"
      },
      "execution_count": null,
      "outputs": []
    },
    {
      "cell_type": "code",
      "source": [
        "import boto3\n",
        "\n",
        "def get_bedrock_client():\n",
        "    session = boto3.Session(\n",
        "        aws_access_key_id=os.environ[\"AWS_ACCESS_KEY_ID\"],\n",
        "        aws_secret_access_key=os.environ[\"AWS_SECRET_ACCESS_KEY\"],\n",
        "        region_name=os.environ[\"AWS_DEFAULT_REGION\"]\n",
        "    )\n",
        "    client = session.client(\"bedrock-runtime\")\n",
        "    return client"
      ],
      "metadata": {
        "id": "Hl4Xo6uX-Ius"
      },
      "execution_count": null,
      "outputs": []
    },
    {
      "cell_type": "code",
      "source": [
        "from langgraph.graph import StateGraph, END\n",
        "from typing import TypedDict, Annotated, Optional\n",
        "import operator\n",
        "from langchain_core.agents import AgentAction\n",
        "from langchain_core.messages import BaseMessage\n",
        "from langchain_core.messages import AnyMessage, SystemMessage, HumanMessage, ToolMessage\n",
        "from langchain_community.tools.tavily_search import TavilySearchResults\n",
        "from langchain_aws.chat_models import ChatBedrock\n",
        "from langchain_core.callbacks import StreamingStdOutCallbackHandler\n",
        "from mypy_boto3_bedrock_runtime.client import BedrockRuntimeClient\n",
        "from pydantic import BaseModel, Field , RootModel\n",
        "from enum import Enum\n",
        "from langchain_core.tools import tool\n",
        "from pydantic import BaseModel, Field\n",
        "from typing_extensions import Annotated\n",
        "from tavily import TavilyClient\n",
        "from typing import List,Union"
      ],
      "metadata": {
        "id": "fbaIW7u0-tZc"
      },
      "execution_count": null,
      "outputs": []
    },
    {
      "cell_type": "code",
      "source": [
        "import logging\n",
        "import sqlalchemy.engine\n",
        "\n",
        "logging.getLogger(\"sqlalchemy.engine\").setLevel(logging.WARNING)\n"
      ],
      "metadata": {
        "id": "ll47cNfm3ywK"
      },
      "execution_count": null,
      "outputs": []
    },
    {
      "cell_type": "code",
      "source": [
        "class ModelKwargs(BaseModel):\n",
        "    temperature: float = Field(default=0.1, ge=0, le=1)\n",
        "    max_tokens: int = Field(default=2048, ge=1, le=4096)\n",
        "    top_p: float = Field(default=0.999, ge=0, le=1)\n",
        "    top_k: int = Field(default=0, ge=0, le=500)\n",
        "\n",
        "class ModelKwargsMeta(BaseModel):\n",
        "    temperature: float = Field(default=0.1, ge=0, le=1)\n",
        "    max_tokens: int = Field(default=2048, ge=1, le=4096)\n",
        "    top_p: float = Field(default=0.999, ge=0, le=1)\n",
        "\n",
        "class ModelId(str, Enum):\n",
        "    CLAUDE_3_HAIKU = \"us.anthropic.claude-3-haiku-20240307-v1:0\"\n",
        "    CLAUDE_3_SONNET = \"us.anthropic.claude-3-sonnet-20240229-v1:0\"\n",
        "    CLAUDE_3_OPUS = \"us.anthropic.claude-3-opus-20240229-v1:0\",\n",
        "    CLAUDE_3_5_SONNET =\"us.anthropic.claude-3-5-sonnet-20240620-v1:0\"\n",
        "    MISTRAL_7B_INSTRUCT =\"us.mistral.mistral-7b-instruct-v0:2\"\n",
        "    LLAMA_3_3_70B =\"us.meta.llama3-3-70b-instruct-v1:0\"\n"
      ],
      "metadata": {
        "id": "d9pkvtWD-z60"
      },
      "execution_count": null,
      "outputs": []
    },
    {
      "cell_type": "code",
      "source": [
        "def get_bedrock_model(\n",
        "  client: BedrockRuntimeClient,\n",
        "  model_id: ModelId,\n",
        "  model_kwargs: ModelKwargs,\n",
        "  streaming: bool = False,\n",
        "  verbose: bool = False) -> ChatBedrock:\n",
        "    return ChatBedrock(\n",
        "        client=client,\n",
        "        model_id=model_id.value,\n",
        "        model_kwargs=model_kwargs.__dict__,\n",
        "        streaming=streaming,\n",
        "        verbose=verbose,\n",
        "        callbacks=[StreamingStdOutCallbackHandler()] if streaming else []\n",
        "    )"
      ],
      "metadata": {
        "id": "zflp0PPX-Jfx"
      },
      "execution_count": null,
      "outputs": []
    },
    {
      "cell_type": "code",
      "source": [
        "import asyncio\n",
        "import os\n",
        "from typing import List, Any\n",
        "from sqlalchemy.ext.asyncio import create_async_engine, AsyncSession\n",
        "from sqlalchemy.orm import sessionmaker\n",
        "from sqlalchemy import MetaData,text\n",
        "\n",
        "\n",
        "DB_URI = os.environ[\"SQL_DATABASE_URI\"]\n",
        "\n",
        "class DatabaseManager:\n",
        "    def __init__(self):\n",
        "        self.engine = create_async_engine(DB_URI, echo=True)\n",
        "        self.Session = sessionmaker(\n",
        "            bind=self.engine, class_=AsyncSession, expire_on_commit=False\n",
        "        )\n",
        "\n",
        "    async def get_schema(self) -> List[dict]:\n",
        "        \"\"\"Retrieve the database schema asynchronously.\"\"\"\n",
        "        async with self.engine.begin() as conn:\n",
        "            metadata = MetaData()\n",
        "            await conn.run_sync(metadata.reflect)\n",
        "            schema = []\n",
        "            for table in metadata.tables.values():\n",
        "                table_info = {\n",
        "                    \"table_name\": table.name,\n",
        "                    \"columns\": [col.name for col in table.columns]\n",
        "                }\n",
        "                schema.append(table_info)\n",
        "\n",
        "            return schema\n",
        "\n",
        "    async def execute_query(self, query: str) -> List[Any]:\n",
        "        \"\"\"Execute SQL query asynchronously.\"\"\"\n",
        "        async with self.Session() as session:\n",
        "            async with session.begin():\n",
        "                result = await session.execute(text(query))\n",
        "                return result.fetchall()\n"
      ],
      "metadata": {
        "id": "ZjxONcQME0UR"
      },
      "execution_count": null,
      "outputs": []
    },
    {
      "cell_type": "code",
      "source": [
        "client = get_bedrock_client()\n",
        "llm_generation=get_bedrock_model( client= client,model_id=ModelId.CLAUDE_3_SONNET,model_kwargs=ModelKwargs(),)"
      ],
      "metadata": {
        "id": "vRnfxwcs-7dt"
      },
      "execution_count": null,
      "outputs": []
    },
    {
      "cell_type": "code",
      "source": [
        "class RelevantTableSchema(BaseModel):\n",
        "    table_name: str = Field(description=\"The name of the relevant table in the database.\")\n",
        "    columns: List[str] = Field(description=\"A list of column names that are relevant to the question.\")\n",
        "    noun_columns: List[str] = Field(description=\"A subset of 'columns' that represent key entities (nouns).\")\n",
        "\n",
        "class ParsedQuestionSchema(BaseModel):\n",
        "    is_relevant: bool = Field(description=\"Indicates whether the question is relevant to the database.\")\n",
        "    relevant_tables: List[RelevantTableSchema] = Field(description=\"A list of relevant tables and their associated columns.\")\n",
        "\n",
        "\n",
        "class SqlQuerySchema(BaseModel):\n",
        "    sql_query: str = Field(description=\"Generated SQL query based on user input and schema, ensuring proper formatting and filtering of NULL, 'N/A', or empty values.\")\n",
        "\n",
        "\n",
        "class SqlValidationSchema(BaseModel):\n",
        "    sql_valid: bool = Field(description=\"Indicates whether the SQL query is valid.\")\n",
        "    sql_issues: Optional[str] = Field(description=\"Describes any issues found in the query, or null if there are no issues.\")\n",
        "    sql_query: str = Field(description=\"Generated SQL query based on user input and schema, ensuring proper formatting and filtering of NULL, 'N/A', or empty values.\")\n",
        "\n",
        "\n",
        "class VisualizationTypeEnum(str, Enum):\n",
        "    BAR = \"bar\"\n",
        "    HORIZONTAL_BAR = \"horizontal_bar\"\n",
        "    LINE = \"line\"\n",
        "    PIE = \"pie\"\n",
        "    SCATTER = \"scatter\"\n",
        "    NONE = \"none\"\n",
        "\n",
        "class VisualizationRecommendationSchema(BaseModel):\n",
        "    visualization: VisualizationTypeEnum = Field(description=\"The most suitable visualization type.\")\n",
        "    visualization_reason: str = Field(description=\"Brief explanation for the recommended visualization.\")\n"
      ],
      "metadata": {
        "id": "M5KxhrZQ__4y"
      },
      "execution_count": null,
      "outputs": []
    },
    {
      "cell_type": "code",
      "source": [
        "\n",
        "from langchain_core.prompts import ChatPromptTemplate\n",
        "from langchain_core.output_parsers import JsonOutputParser\n",
        "from langchain_core.messages import HumanMessage, SystemMessage\n",
        "\n",
        "db_manager = DatabaseManager()\n",
        "\n",
        "async def parse_question(state: dict) -> dict:\n",
        "  \"\"\"Parse user question and identify relevant tables and columns.\"\"\"\n",
        "  question = state['question']\n",
        "  schema = await db_manager.get_schema()\n",
        "  system_prompt =(\n",
        "      \"You are a data analyst that specializes in understanding SQL databases and user queries. \"\n",
        "      \"Your task is to analyze the given question and database schema to determine the relevant tables and columns. \"\n",
        "      \"If the question is not related to the database or lacks sufficient information, mark it as irrelevant.\"\n",
        "  )\n",
        "\n",
        "  human_prompt = \"\"\"\n",
        "  Please analyze the provided database schema and user question to perform the following tasks:\n",
        "  1. Identify if the question is relevant to the database schema.\n",
        "  2. If relevant, determine the tables and columns that are necessary to answer the question from the database chema.\n",
        "  3. Identify which columns contain meaningful noun-based information (for example - \"Artist name\" is relevant for \"Top selling artists,\" but \"Artist ID\" is not).\n",
        "  4. Present the results in a **parsable JSON format** without any additional text—only clean JSON output.\n",
        "  5. If the question is irrelevant or lacks enough context, return `\"is_relevant\": false`.\n",
        "\n",
        "  Here is the database schema:\n",
        "  '''{schema}'''\n",
        "\n",
        "  Here is the user question:\n",
        "  '''{question}'''\n",
        "\n",
        "  {format_instructions}\n",
        "  \"\"\"\n",
        "  messages = [\n",
        "        (\"system\", system_prompt),\n",
        "        (\"human\", human_prompt),\n",
        "    ]\n",
        "  parser = JsonOutputParser(pydantic_object=ParsedQuestionSchema)\n",
        "  chat_prompt = ChatPromptTemplate.from_messages(messages)\n",
        "  chain = chat_prompt | llm_generation | parser\n",
        "\n",
        "  try:\n",
        "      response = await chain.ainvoke(input={\"question\": question,\"schema\": schema,\"format_instructions\": parser.get_format_instructions()})\n",
        "      print(\"response\",response)\n",
        "      return {\"parsed_question\": response}\n",
        "\n",
        "  except Exception as e:\n",
        "      print(\"An unexpected error occurred:\", e)\n",
        "      raise RuntimeError(f\"Error fetching the data: {str(e)}\")\n",
        "\n",
        "def is_relevant_node(state: dict) -> bool:\n",
        "  parsed_question = state['parsed_question']\n",
        "  return parsed_question['is_relevant']\n",
        "\n",
        "async def get_unique_nouns(state: dict) -> dict:\n",
        "  \"\"\"Find unique nouns in relevant tables and columns.\"\"\"\n",
        "  parsed_question = state['parsed_question']\n",
        "\n",
        "  if not parsed_question['is_relevant']:\n",
        "      return {\"unique_nouns\": []}\n",
        "\n",
        "  unique_nouns = set()\n",
        "  for table_info in parsed_question['relevant_tables']:\n",
        "      table_name = table_info['table_name']\n",
        "      noun_columns = table_info['noun_columns']\n",
        "\n",
        "      if noun_columns:\n",
        "          column_names = ', '.join(f\"`{col}`\" for col in noun_columns)\n",
        "          query = f\"SELECT DISTINCT {column_names} FROM `{table_name}`\"\n",
        "          results = await db_manager.execute_query(query)\n",
        "          for row in results:\n",
        "              unique_nouns.update(str(value) for value in row if value)\n",
        "\n",
        "  return {\"unique_nouns\": list(unique_nouns)}\n",
        "\n",
        "async def generate_sql(state: dict) -> dict:\n",
        "  \"\"\"Generate SQL query based on parsed question and unique nouns.\"\"\"\n",
        "  question = state['question']\n",
        "  parsed_question = state['parsed_question']\n",
        "  unique_nouns = state['unique_nouns']\n",
        "  diagnostic_id = state['diagnostic_id']\n",
        "\n",
        "  if not parsed_question['is_relevant']:\n",
        "      return {\"sql_query\": \"NOT_RELEVANT\"}\n",
        "\n",
        "  schema = await db_manager.get_schema()\n",
        "  system_prompt = SystemMessage(\n",
        "      \"You are an AI assistant that generates SQL queries based on user questions, \"\n",
        "      \"database schema, and unique nouns found in the relevant tables. Your task is to \"\n",
        "      \"generate a valid SQL query that accurately answers the user's question.\\n\\n\"\n",
        "      \"If there is insufficient information to construct a valid SQL query, respond with: **\\\"NOT_ENOUGH_INFO\\\"**.\\n\\n\"\n",
        "      \"Ensure that all table and column names are enclosed in backticks. Skip rows where any column contains NULL, \\\"N/A\\\", or an empty string.\"\n",
        "  )\n",
        "  human_prompt = \"\"\"\n",
        "      Please analyze the provided database schema and user question, then generate an appropriate SQL query:\n",
        "\n",
        "      1. Use the given database schema, relevant tables, and unique nouns to construct a valid SQL query.\n",
        "      2. If insufficient information is available to form a query, return **\"NOT_ENOUGH_INFO\"** in **\"sql_query\"**.\n",
        "      3. Ensure that all table and column names are enclosed in backticks (`).\n",
        "      4. Skip all rows where any column contains \"N/A\", or an empty string.\n",
        "      5. All queries must include `WHERE diagnostic_id = {diagnostic_id}`.\n",
        "      6. Make sure to use the correct spellings of nouns as provided in the unique nouns list.\n",
        "      7. The output should **only contain the SQL query string** with no additional text.\n",
        "\n",
        "      ### **Examples:**\n",
        "      1. For the customer data what was the bar plot between genders?\n",
        "      Answer: SELECT `attribute_value`, COUNT(*) AS `count` FROM `customer_demographics` WHERE `attribute_name` LIKE '%gender%' AND `ref_id` IN (SELECT `id` FROM `customer_data` WHERE `diagnostic_id` = '670c9d8043060aec0379fdd6') AND (`attribute_value` IS NOT NULL AND `attribute_value` NOT IN ('', 'N/A')) GROUP BY `attribute_value` ORDER BY `count` DESC;\n",
        "\n",
        "      2. What is the total revenue for each product?\n",
        "      Answer: SELECT \\`product name\\`, SUM(quantity * price) as total_revenue FROM sales WHERE \\`product name\\` IS NOT NULL AND quantity IS NOT NULL AND price IS NOT NULL AND \\`product name\\` != \"\" AND quantity != \"\" AND price != \"\" AND \\`product name\\` != \"N/A\" AND quantity != \"N/A\" AND price != \"N/A\" GROUP BY \\`product name\\`  ORDER BY total_revenue DESC\n",
        "\n",
        "      3. What is the market share of each product?\n",
        "      Answer: SELECT \\`product name\\`, SUM(quantity) * 100.0 / (SELECT SUM(quantity) FROM sa  les) as market_share FROM sales WHERE \\`product name\\` IS NOT NULL AND quantity IS NOT NULL AND \\`product name\\` != \"\" AND quantity != \"\" AND \\`product name\\` != \"N/A\" AND quantity != \"N/A\" GROUP BY \\`product name\\`  ORDER BY market_share DESC\n",
        "\n",
        "      4. Plot the distribution of income over time\n",
        "      Answer: SELECT income, COUNT(*) as count FROM users WHERE income IS NOT NULL AND income != \"\" AND income != \"N/A\" GROUP BY income\n",
        "\n",
        "      Here is the database schema:\n",
        "      '''{schema}'''\n",
        "\n",
        "      Here is the user question:\n",
        "      '''{question}'''\n",
        "\n",
        "      Here are the relevant tables and columns:\n",
        "      '''{parsed_question}'''\n",
        "\n",
        "      Here are the unique nouns found in the relevant tables:\n",
        "      '''{unique_nouns}'''\n",
        "\n",
        "      {format_instructions}\n",
        "      \"\"\"\n",
        "\n",
        "  messages = [\n",
        "        (\"system\", system_prompt.content),\n",
        "        (\"human\", human_prompt),\n",
        "    ]\n",
        "  parser = JsonOutputParser(pydantic_object=SqlQuerySchema)\n",
        "  chat_prompt = ChatPromptTemplate.from_messages(messages)\n",
        "  chain = chat_prompt | llm_generation | parser\n",
        "  try:\n",
        "      response = await chain.ainvoke(input={\"question\": question,\"diagnostic_id\": diagnostic_id,\"schema\": schema,\"parsed_question\": parsed_question,\"unique_nouns\": unique_nouns,\"format_instructions\": parser.get_format_instructions()})\n",
        "      sql_query = response[\"sql_query\"]\n",
        "      if sql_query == \"NOT_ENOUGH_INFO\":\n",
        "        return {\"sql_query\": \"NOT_RELEVANT\"}\n",
        "      else:\n",
        "        return {\"sql_query\": sql_query}\n",
        "\n",
        "  except Exception as e:\n",
        "      print(\"An unexpected error occurred:\", e)\n",
        "      raise RuntimeError(f\"Error fetching the data: {str(e)}\")\n",
        "\n",
        "async def validate_and_fix_sql(state: dict) -> dict:\n",
        "  \"\"\"Validate and fix the generated SQL query.\"\"\"\n",
        "  sql_query = state['sql_query']\n",
        "\n",
        "  if sql_query == \"NOT_RELEVANT\":\n",
        "      return {\"sql_query\": \"NOT_RELEVANT\", \"sql_valid\": False}\n",
        "\n",
        "  schema = await db_manager.get_schema()\n",
        "  system_prompt = (\n",
        "    \"You are an AI assistant that validates and corrects SQL queries. Your tasks are:\\n\"\n",
        "    \"1. Verify if the SQL query is valid.\\n\"\n",
        "    \"2. Ensure table and column names match the given schema and are enclosed in backticks.\\n\"\n",
        "    \"3. If errors exist, return a corrected query; otherwise, return the original.\\n\"\n",
        "  )\n",
        "\n",
        "  human_prompt = \"\"\"\n",
        "    Analyze the following SQL query and database schema:\n",
        "\n",
        "    **Database schema:**\n",
        "    '''{schema}'''\n",
        "\n",
        "    **SQL query:**\n",
        "    '''{sql_query}'''\n",
        "\n",
        "    Return a response in JSON format only.\n",
        "    Here are examples:\n",
        "\n",
        "    1. If the query is valid:\n",
        "    {{\n",
        "        \"sql_valid\": true,\n",
        "        \"sql_issues\": null,\n",
        "        \"sql_query\": \"SELECT * FROM `users` WHERE `name` = 'John Doe'\"\n",
        "    }}\n",
        "\n",
        "    2. If the query contains incorrect column names:\n",
        "    {{\n",
        "        \"sql_valid\": false,\n",
        "        \"sql_issues\": \"Column USERS does not exist\",\n",
        "        \"sql_query\": \"SELECT * FROM `users` WHERE age > 25\"\n",
        "    }}\n",
        "\n",
        "    3. If table/column names require backticks:\n",
        "    {{\n",
        "        \"sql_valid\": false,\n",
        "        \"sql_issues\": \"Column names should be enclosed in backticks if they contain spaces\",\n",
        "        \"sql_query\": \"SELECT * FROM `gross income` WHERE `age` > 25\"\n",
        "    }}\n",
        "\n",
        "    {format_instructions}\n",
        "  \"\"\"\n",
        "\n",
        "  messages = [\n",
        "        (\"system\", system_prompt),\n",
        "        (\"human\", human_prompt),\n",
        "    ]\n",
        "  parser = JsonOutputParser(pydantic_object=SqlValidationSchema)\n",
        "  chat_prompt = ChatPromptTemplate.from_messages(messages)\n",
        "  chain = chat_prompt | llm_generation | parser\n",
        "  try:\n",
        "      response = await chain.ainvoke(input={\"sql_query\": sql_query,\"schema\": schema,\"format_instructions\": parser.get_format_instructions()})\n",
        "      if response[\"sql_valid\"] and response[\"sql_issues\"] is None:\n",
        "        return {\"sql_query\": sql_query, \"sql_valid\": True}\n",
        "      else:\n",
        "        return {\n",
        "            \"sql_query\": response[\"sql_query\"],\n",
        "            \"sql_valid\": response[\"sql_valid\"],\n",
        "            \"sql_issues\": response[\"sql_issues\"]\n",
        "        }\n",
        "\n",
        "  except Exception as e:\n",
        "      print(\"An unexpected error occurred:\", e)\n",
        "      raise RuntimeError(f\"Error fetching the data: {str(e)}\")\n",
        "\n",
        "\n",
        "async def execute_sql(state: dict) -> dict:\n",
        "  \"\"\"Execute SQL query and return results.\"\"\"\n",
        "  query = state['sql_query']\n",
        "\n",
        "  if query == \"NOT_RELEVANT\":\n",
        "      return {\"results\": \"NOT_RELEVANT\"}\n",
        "\n",
        "  try:\n",
        "      results = await db_manager.execute_query(query)\n",
        "      return {\"results\": results}\n",
        "  except Exception as e:\n",
        "      return {\"error\": str(e)}\n",
        "\n",
        "async def format_results(state: dict) -> dict:\n",
        "  \"\"\"Format query results into a human-readable response.\"\"\"\n",
        "  question = state['question']\n",
        "  results = state['results']\n",
        "\n",
        "  if results == \"NOT_RELEVANT\":\n",
        "      return {\"answer\": \"Sorry, I can only give answers relevant to the database.\"}\n",
        "  system_prompt = (\n",
        "      \"You are an AI assistant that formats database query results into a human-readable response. \"\n",
        "      \"Your task is to analyze the query results and generate a clear, concise conclusion based on the user's question. \"\n",
        "      \"Ensure the response is directly relevant to the query results and provides a meaningful summary. \"\n",
        "      \"Do not use markdown formatting or any additional text beyond the conclusion.\"\n",
        "  )\n",
        "\n",
        "  human_prompt = \"\"\"\n",
        "    Please analyze the provided query results and generate a human-readable conclusion based on the user's question.\n",
        "\n",
        "    User question:\n",
        "    '''{question}'''\n",
        "\n",
        "    Query results:\n",
        "    '''{results}'''\n",
        "    \"\"\"\n",
        "\n",
        "  messages = [\n",
        "        (\"system\", system_prompt),\n",
        "        (\"human\", human_prompt),\n",
        "    ]\n",
        "  chat_prompt = ChatPromptTemplate.from_messages(messages)\n",
        "  chain = chat_prompt | llm_generation\n",
        "  try:\n",
        "      response = await chain.ainvoke(input={\"question\": question , \"results\": results })\n",
        "      return {\"answer\": response.content}\n",
        "\n",
        "  except Exception as e:\n",
        "      print(\"An unexpected error occurred:\", e)\n",
        "      raise RuntimeError(f\"Error fetching the data: {str(e)}\")\n",
        "\n",
        "async def choose_visualization(state: dict) -> dict:\n",
        "  \"\"\"Choose an appropriate visualization for the data.\"\"\"\n",
        "  question = state['question']\n",
        "  results = state['results']\n",
        "  sql_query = state['sql_query']\n",
        "\n",
        "  if results == \"NOT_RELEVANT\":\n",
        "      return {\"visualization\": \"none\", \"visualization_reasoning\": \"No visualization needed for irrelevant questions.\"}\n",
        "\n",
        "  system_prompt = (\n",
        "    \"You are an AI assistant that recommends appropriate data visualizations. \"\n",
        "    \"Based on the user's question, SQL query, and query results, suggest the most suitable type of graph or chart to visualize the data. \"\n",
        "    \"If no visualization is appropriate, indicate 'none'. \"\n",
        "    \"Ensure that the recommended chart type aligns with the nature of the data and the question's intent.\"\n",
        "    \"ONLY use the following names for chart types: bar, horizontal_bar, line, pie, scatter, none.\"\n",
        "    \"Present the results in a **parsable JSON format** without any additional text—only clean JSON output.\"\n",
        ")\n",
        "\n",
        "  human_prompt = \"\"\"\n",
        "      Analyze the provided user question, SQL query, and query results to recommend the most suitable visualization.\n",
        "\n",
        "      Available chart types and use cases:\n",
        "      - **bar**: Compare categorical data or show changes over time with more than 2 categories.\n",
        "        *Example: \"What are the sales figures for each product?\"*\n",
        "      - **horizontal_bar**: Compare categorical data when the number of categories is small or disparities are large.\n",
        "        *Example: \"How does the population of 2 cities compare?\"*\n",
        "      - **scatter**: Identify relationships or distributions between two numerical variables.\n",
        "        *Example: \"Is there a correlation between marketing spend and revenue?\"*\n",
        "      - **pie**: Show proportions or percentages within a whole.\n",
        "        *Example: \"What percentage of the total revenue comes from each product?\"*\n",
        "      - **line**: Show trends and distributions over time.\n",
        "        *Example: \"What is the trend in temperature over the past decade?\"*\n",
        "      - **none**: If no visualization is appropriate.\n",
        "\n",
        "      Consider these types of questions when recommending a visualization:\n",
        "      1. **Aggregations and Summarizations** (e.g., \"What is the average revenue by month?\" → **line**)\n",
        "      2. **Comparisons** (e.g., \"Compare sales figures of Product A and Product B\" → **line** or **bar**)\n",
        "      3. **Plotting Distributions** (e.g., \"Plot a distribution of ages\" → **scatter**)\n",
        "      4. **Trends Over Time** (e.g., \"What is the trend in active users over time?\" → **line**)\n",
        "      5. **Proportions** (e.g., \"What is the market share?\" → **pie**)\n",
        "      6. **Correlations** (e.g., \"Is there a correlation between X and Y?\" → **scatter**)\n",
        "\n",
        "      User question:\n",
        "      '''{question}'''\n",
        "\n",
        "      SQL query:\n",
        "      '''{sql_query}'''\n",
        "\n",
        "      Query results:\n",
        "      '''{results}'''\n",
        "\n",
        "      {format_instructions}\n",
        "\"\"\"\n",
        "  messages = [\n",
        "        (\"system\", system_prompt),\n",
        "        (\"human\", human_prompt),\n",
        "    ]\n",
        "  parser = JsonOutputParser(pydantic_object=VisualizationRecommendationSchema)\n",
        "  chat_prompt = ChatPromptTemplate.from_messages(messages)\n",
        "  chain = chat_prompt | llm_generation | parser\n",
        "  try:\n",
        "      response = await chain.ainvoke(input={\"sql_query\": sql_query,\"results\": results,\"question\": question ,\"format_instructions\": parser.get_format_instructions()})\n",
        "      return {\n",
        "            \"visualization\": response[\"visualization\"],\n",
        "            \"visualization_reason\": response[\"visualization_reason\"],\n",
        "              }\n",
        "\n",
        "  except Exception as e:\n",
        "      print(\"An unexpected error occurred:\", e)\n",
        "      raise RuntimeError(f\"Error fetching the data: {str(e)}\")\n",
        "\n",
        "def is_visualization_none_node(state: dict) -> bool:\n",
        "  parsed_question = state['visualization']\n",
        "  return parsed_question==\"none\""
      ],
      "metadata": {
        "id": "kw7XrdPMGT1_"
      },
      "execution_count": null,
      "outputs": []
    },
    {
      "cell_type": "code",
      "source": [
        "from typing import List, Any, Annotated, Dict, Optional\n",
        "from typing_extensions import TypedDict\n",
        "import operator\n",
        "\n",
        "class InputState(TypedDict):\n",
        "    question: str\n",
        "    diagnostic_id: str\n",
        "    parsed_question: Dict[str, Any]\n",
        "    unique_nouns: List[str]\n",
        "    sql_query: str\n",
        "    results: List[Any]\n",
        "    visualization: str\n",
        "    answer: str\n",
        "    formatted_data_for_visualization: Dict[str, Any]\n",
        "\n",
        "class OutputState(TypedDict):\n",
        "    parsed_question: Dict[str, Any]\n",
        "    unique_nouns: List[str]\n",
        "    sql_query: str\n",
        "    sql_valid: bool\n",
        "    sql_issues: str\n",
        "    results: List[Any]\n",
        "    answer: str\n",
        "    error: str\n",
        "    visualization: str\n",
        "    visualization_reason: str\n",
        "    formatted_data_for_visualization: Dict[str, Any]"
      ],
      "metadata": {
        "id": "BC7U5HwIkrJl"
      },
      "execution_count": null,
      "outputs": []
    },
    {
      "cell_type": "code",
      "source": [
        "\n",
        "barGraphInstruction = '''\n",
        "\n",
        "  Where data is: {\n",
        "    labels: list[str]\n",
        "    values: list[dict[str, list[float] | str]]\n",
        "  }\n",
        "\n",
        "// Examples of usage:\n",
        "Each label represents a column on the x-axis.\n",
        "Each array in values represents a different entity.\n",
        "\n",
        "Here we are looking at average income for each month.\n",
        "1. data = {\n",
        "  labels: ['Jan', 'Feb', 'Mar', 'Apr', 'May', 'Jun'],\n",
        "  values: [{data:[21.5, 25.0, 47.5, 64.8, 105.5, 133.2], label: 'Income'}],\n",
        "}\n",
        "\n",
        "Here we are looking at the performance of American and European players for each series.\n",
        "Since there are two entities, we have two arrays in values.\n",
        "2. data = {\n",
        "  labels: ['Series A', 'Series B', 'Series C'],\n",
        "  values: [{data:[10, 15, 20], label: 'American'}, {data:[20, 25, 30], label: 'European'}],\n",
        "}\n",
        "'''\n",
        "\n",
        "horizontalBarGraphInstruction = '''\n",
        "\n",
        "  Where data is: {\n",
        "    labels: list[str]\n",
        "    values: list[dict[str, list[float] | str]]\n",
        "  }\n",
        "\n",
        "// Examples of usage:\n",
        "Each label represents a row on the y-axis.\n",
        "Each array in values represents a different entity.\n",
        "\n",
        "Here we are looking at average income for each month.\n",
        "1. data = {\n",
        "  labels: ['Jan', 'Feb', 'Mar', 'Apr', 'May', 'Jun'],\n",
        "  values: [{data:[21.5, 25.0, 47.5, 64.8, 105.5, 133.2], label: 'Income'}],\n",
        "}\n",
        "\n",
        "Here we are looking at the performance of American and European players for each series.\n",
        "Since there are two entities, we have two arrays in values.\n",
        "2. data = {\n",
        "  labels: ['Series A', 'Series B', 'Series C'],\n",
        "  values: [{data:[10, 15, 20], label: 'American'}, {data:[20, 25, 30], label: 'European'}],\n",
        "}\n",
        "'''\n",
        "\n",
        "lineGraphInstruction = '''\n",
        "\n",
        "  Where data is: {\n",
        "    xValues: list[int | str]\n",
        "    yValues: list[dict[str, list[float] | str]]\n",
        "  }\n",
        "\n",
        "// Examples of usage:\n",
        "\n",
        "Here we are looking at the momentum of a body as a function of mass.\n",
        "1. data = {\n",
        "  xValues: ['2020', '2021', '2022', '2023', '2024'],\n",
        "  yValues: [\n",
        "    { data: [2, 5.5, 2, 8.5, 1.5]},\n",
        "  ],\n",
        "}\n",
        "\n",
        "Here we are looking at the performance of American and European players for each year.\n",
        "Since there are two entities, we have two arrays in yValues.\n",
        "2. data = {\n",
        "  xValues: ['2020', '2021', '2022', '2023', '2024'],\n",
        "  yValues: [\n",
        "    { data: [2, 5.5, 2, 8.5, 1.5], label: 'American' },\n",
        "    { data: [2, 5.5, 2, 8.5, 1.5], label: 'European' },\n",
        "  ],\n",
        "}\n",
        "'''\n",
        "\n",
        "pieChartInstruction = '''\n",
        "\n",
        "  Where data is: list[dict[str, int | str]]\n",
        "\n",
        "// Example usage:\n",
        " data = [\n",
        "    { id: 0, value: 10, label: 'Series A' },\n",
        "    { id: 1, value: 15, label: 'Series B' },\n",
        "    { id: 2, value: 20, label: 'Series C' },\n",
        " ]\n",
        "'''\n",
        "\n",
        "scatterPlotInstruction = '''\n",
        "Where data is: {\n",
        "  series: list[dict[str, list[dict[str, int]] | str]]\n",
        "}\n",
        "\n",
        "// Examples of usage:\n",
        "1. Here each data array represents the points for a different entity.\n",
        "We are looking for correlation between amount spent and quantity bought for men and women.\n",
        "data = {\n",
        "  series: [\n",
        "    {\n",
        "      data: [\n",
        "        { x: 100, y: 200, id: 1 },\n",
        "        { x: 120, y: 100, id: 2 },\n",
        "        { x: 170, y: 300, id: 3 },\n",
        "      ],\n",
        "      label: 'Men',\n",
        "    },\n",
        "    {\n",
        "      data: [\n",
        "        { x: 300, y: 300, id: 1 },\n",
        "        { x: 400, y: 500, id: 2 },\n",
        "        { x: 200, y: 700, id: 3 },\n",
        "      ],\n",
        "      label: 'Women',\n",
        "    }\n",
        "  ],\n",
        "}\n",
        "\n",
        "2. Here we are looking for correlation between the height and weight of players.\n",
        "data = {\n",
        "  series: [\n",
        "    {\n",
        "      data: [\n",
        "        { x: 180, y: 80, id: 1 },\n",
        "        { x: 170, y: 70, id: 2 },\n",
        "        { x: 160, y: 60, id: 3 },\n",
        "      ],\n",
        "      label: 'Players',\n",
        "    },\n",
        "  ],\n",
        "}\n",
        "\n",
        "// Note: Each object in the 'data' array represents a point on the scatter plot.\n",
        "// The 'x' and 'y' values determine the position of the point, and 'id' is a unique identifier.\n",
        "// Multiple series can be represented, each as an object in the outer array.\n",
        "'''\n",
        "\n",
        "graph_instructions_enum = {\n",
        "    \"bar\": barGraphInstruction,\n",
        "    \"horizontal_bar\": horizontalBarGraphInstruction,\n",
        "    \"line\": lineGraphInstruction,\n",
        "    \"pie\": pieChartInstruction,\n",
        "    \"scatter\": scatterPlotInstruction\n",
        "}\n"
      ],
      "metadata": {
        "id": "sDxOGrNA8Igi"
      },
      "execution_count": null,
      "outputs": []
    },
    {
      "cell_type": "code",
      "source": [
        "class BarChartDataSchema(BaseModel):\n",
        "    labels: List[str]\n",
        "    values: List[Dict[str, Union[List[float], str]]]\n",
        "\n",
        "class HorizontalBarChartDataSchema(BaseModel):\n",
        "    labels: List[str]\n",
        "    values: List[Dict[str, Union[List[float], str]]]\n",
        "\n",
        "class LineGraphDataSchema(BaseModel):\n",
        "    xValues: List[Union[int, str]]\n",
        "    yValues: List[Dict[str, Union[List[float], str]]]\n",
        "\n",
        "class PieChartDataItem(BaseModel):\n",
        "    id: int\n",
        "    value: int\n",
        "    label: str\n",
        "\n",
        "class PieChartDataSchema(RootModel[List[PieChartDataItem]]):\n",
        "    pass\n",
        "\n",
        "class ScatterPlotPoint(BaseModel):\n",
        "    x: int\n",
        "    y: int\n",
        "    id: int\n",
        "\n",
        "class ScatterPlotSeries(BaseModel):\n",
        "    data: List[ScatterPlotPoint]\n",
        "    label: str\n",
        "\n",
        "class ScatterPlotDataSchema(BaseModel):\n",
        "    series: List[ScatterPlotSeries]\n",
        "\n",
        "\n",
        "visualization_data_schema = {\n",
        "    \"bar\": BarChartDataSchema,\n",
        "    \"horizontal_bar\": HorizontalBarChartDataSchema,\n",
        "    \"line\": LineGraphDataSchema,\n",
        "    \"pie\": PieChartDataSchema,\n",
        "    \"scatter\": ScatterPlotDataSchema\n",
        "}"
      ],
      "metadata": {
        "id": "APsPSwvVJNbS"
      },
      "execution_count": null,
      "outputs": []
    },
    {
      "cell_type": "code",
      "source": [
        "async def visualization_data_formatter(state: dict) -> dict:\n",
        "    \"\"\"Format query results into a structure suitable for rendering in ECharts scatter plot.\"\"\"\n",
        "    question = state['question']\n",
        "    results = state['results']\n",
        "    visualization = state['visualization']\n",
        "    charts_instruction = graph_instructions_enum[visualization]\n",
        "    visualization_schema = visualization_data_schema[visualization]\n",
        "\n",
        "    system_prompt = (\n",
        "        \"You are an AI assistant that formats database query results into a structured JSON format suitable for rendering in ECharts' {visualization} plot. \"\n",
        "        \"If the provided data cannot be formatted as per ECharts {visualization} plot requirements, return **None** for the 'formatted_data_for_visualization' field. \"\n",
        "        \"Ensure that the response is strictly a **parsable JSON object** with no additional text, explanations, or markdown formatting.\"\n",
        "    )\n",
        "\n",
        "    human_prompt = \"\"\"\n",
        "    Analyze the provided query results and format them into a structured JSON representation suitable for an ECharts {visualization} plot.\n",
        "\n",
        "    **{visualization} Plot Formatting Guidelines**:\n",
        "    '''{charts_instruction}'''\n",
        "\n",
        "    **User Question**:\n",
        "    '''{question}'''\n",
        "\n",
        "    **Query Results**:\n",
        "    '''{results}'''\n",
        "\n",
        "    {format_instructions}\n",
        "    \"\"\"\n",
        "\n",
        "    messages = [\n",
        "        (\"system\", system_prompt),\n",
        "        (\"human\", human_prompt),\n",
        "    ]\n",
        "\n",
        "    parser = JsonOutputParser(pydantic_object=ScatterPlotDataSchema)\n",
        "    chat_prompt = ChatPromptTemplate.from_messages(messages)\n",
        "    chain = chat_prompt | llm_generation | parser\n",
        "\n",
        "    try:\n",
        "        response = await chain.ainvoke(input={\"results\": results,\"question\": question,\"visualization\": visualization,\"charts_instruction\": charts_instruction,\"format_instructions\": parser.get_format_instructions()})\n",
        "        return {\"formatted_data_for_visualization\": response}\n",
        "\n",
        "    except Exception as e:\n",
        "        print(f\"[Error] Visualization Formatting Failed: {e}\")\n",
        "        raise RuntimeError(f\"Error formatting data for visualization: {str(e)}\")\n",
        "\n",
        "\n"
      ],
      "metadata": {
        "id": "OM4xkazrFk7Q"
      },
      "execution_count": null,
      "outputs": []
    },
    {
      "cell_type": "code",
      "source": [
        "async def chart_generator(state: dict) -> None:\n",
        "    try:\n",
        "        visualization = state[\"visualization\"]\n",
        "        data = state[\"formatted_data_for_visualization\"]\n",
        "        answer = state[\"answer\"]\n",
        "        system_prompt = (\n",
        "            \"You are an AI assistant that takes a visualization type and data and generates a chart.\"\n",
        "            \"Provide only the Python code that uses Matplotlib for visualization and can be executed directly inside exec \"\n",
        "        )\n",
        "\n",
        "        human_prompt = \"\"\"\n",
        "        **Visualization Type**:\n",
        "        '''{visualization}'''\n",
        "\n",
        "        **Formatted Data**:\n",
        "        '''{data}'''\n",
        "        \"\"\"\n",
        "        messages = [\n",
        "            (\"system\", system_prompt),\n",
        "            (\"human\", human_prompt),\n",
        "        ]\n",
        "\n",
        "        chat_prompt = ChatPromptTemplate.from_messages(messages)\n",
        "        chain = chat_prompt | llm_generation\n",
        "\n",
        "        response = await chain.ainvoke(input={\"visualization\": visualization, \"data\": data})\n",
        "\n",
        "        exec(response.content, globals())\n",
        "        return None\n",
        "\n",
        "    except Exception as e:\n",
        "        print(f\"Chart Rendering Failed: {e}\")\n",
        "        return {\"error\": f\"Error formatting data for visualization: {str(e)}\"}\n",
        "\n"
      ],
      "metadata": {
        "id": "_Axcrn6eZmtg"
      },
      "execution_count": null,
      "outputs": []
    },
    {
      "cell_type": "code",
      "source": [
        "from langgraph.graph import StateGraph, END\n",
        "\n",
        "class WorkflowManager:\n",
        "    def __init__(self):\n",
        "        ...\n",
        "\n",
        "    def create_workflow(self) -> StateGraph:\n",
        "        \"\"\"Create and configure the workflow graph.\"\"\"\n",
        "        workflow = StateGraph(input=InputState, output=OutputState)\n",
        "\n",
        "        workflow.add_node(\"parse_question\", parse_question)\n",
        "        workflow.add_node(\"get_unique_nouns\", get_unique_nouns)\n",
        "        workflow.add_node(\"generate_sql\", generate_sql)\n",
        "        workflow.add_node(\"validate_and_fix_sql\", validate_and_fix_sql)\n",
        "        workflow.add_node(\"execute_sql\", execute_sql)\n",
        "        workflow.add_node(\"format_results\", format_results)\n",
        "        workflow.add_node(\"choose_visualization\", choose_visualization)\n",
        "        workflow.add_node(\"visualization_data_formatter\", visualization_data_formatter)\n",
        "        workflow.add_node(\"chart_generator\", chart_generator)\n",
        "\n",
        "        workflow.add_conditional_edges(\"parse_question\", is_relevant_node, {True: \"get_unique_nouns\", False: END})\n",
        "\n",
        "        workflow.add_edge(\"get_unique_nouns\", \"generate_sql\")\n",
        "        workflow.add_edge(\"generate_sql\", \"validate_and_fix_sql\")\n",
        "        workflow.add_edge(\"validate_and_fix_sql\", \"execute_sql\")\n",
        "        workflow.add_edge(\"execute_sql\", \"format_results\")\n",
        "        workflow.add_edge(\"execute_sql\", \"choose_visualization\")\n",
        "\n",
        "        workflow.add_conditional_edges(\"choose_visualization\", is_visualization_none_node, {False: \"visualization_data_formatter\", True: END})\n",
        "\n",
        "        workflow.add_edge([\"format_results\",\"visualization_data_formatter\"], \"chart_generator\")\n",
        "\n",
        "        workflow.add_edge(\"chart_generator\", END)\n",
        "        workflow.set_entry_point(\"parse_question\")\n",
        "\n",
        "        return workflow\n",
        "\n",
        "    def returnGraph(self):\n",
        "        return self.create_workflow().compile()\n",
        "\n",
        "    def run_sql_agent(self, question: str, diagnostic_id: str) -> dict:\n",
        "        \"\"\"Run the SQL agent workflow and return the formatted answer and visualization recommendation.\"\"\"\n",
        "        app = self.create_workflow().compile()\n",
        "        result = app.invoke({\"question\": question, \"diagnostic_id\": diagnostic_id})\n",
        "        return {\n",
        "            \"answer\": result['answer'],\n",
        "            \"visualization\": result['visualization'],\n",
        "            \"visualization_reason\": result['visualization_reason'],\n",
        "        }\n"
      ],
      "metadata": {
        "id": "PFmssgJKfLnO"
      },
      "execution_count": 224,
      "outputs": []
    },
    {
      "cell_type": "code",
      "source": [
        "graph = WorkflowManager()\n",
        "runnable = graph.returnGraph()\n"
      ],
      "metadata": {
        "colab": {
          "base_uri": "https://localhost:8080/"
        },
        "id": "D25YR4Alukms",
        "outputId": "50069a34-d953-42d3-ad19-b948638ac76d"
      },
      "execution_count": 225,
      "outputs": [
        {
          "output_type": "stream",
          "name": "stderr",
          "text": [
            "<ipython-input-224-2111694c089a>:9: LangGraphDeprecationWarning: Initializing StateGraph without state_schema is deprecated. Please pass in an explicit state_schema instead of just an input and output schema.\n",
            "  workflow = StateGraph(input=InputState, output=OutputState)\n"
          ]
        }
      ]
    },
    {
      "cell_type": "code",
      "source": [
        "from IPython.display import Image, display\n",
        "display(Image(runnable.get_graph().draw_mermaid_png()))"
      ],
      "metadata": {
        "colab": {
          "base_uri": "https://localhost:8080/",
          "height": 1000
        },
        "id": "ErH_KwcbvmSg",
        "outputId": "f7caee82-a6d6-44fd-d32e-05b1abb419b1"
      },
      "execution_count": 226,
      "outputs": [
        {
          "output_type": "display_data",
          "data": {
            "image/png": "[encoded data removed]",
            "text/plain": [
              "<IPython.core.display.Image object>"
            ]
          },
          "metadata": {}
        }
      ]
    },
    {
      "cell_type": "code",
      "source": [
        "stakeholder = \"customer\""
      ],
      "metadata": {
        "id": "PRbtzhr0JQwu"
      },
      "execution_count": null,
      "outputs": []
    },
    {
      "cell_type": "code",
      "source": [
        "out = await runnable.ainvoke({\n",
        "    \"question\": f\"Top Insights provided by the customer.The table to look upon in Database belongs to stakeholder {stakeholder}\",\n",
        "    \"diagnostic_id\": \"670c9d8043060aec0379fdd6\",})"
      ],
      "metadata": {
        "colab": {
          "base_uri": "https://localhost:8080/"
        },
        "id": "RF7hH56lO5U-",
        "outputId": "9859c6fb-a032-48dd-8b44-c5053cf53c59"
      },
      "execution_count": 228,
      "outputs": [
        {
          "output_type": "stream",
          "name": "stdout",
          "text": [
            "2025-02-10 19:58:06,620 INFO sqlalchemy.engine.Engine BEGIN (implicit)\n"
          ]
        },
        {
          "output_type": "stream",
          "name": "stderr",
          "text": [
            "INFO:sqlalchemy.engine.Engine:BEGIN (implicit)\n"
          ]
        },
        {
          "output_type": "stream",
          "name": "stdout",
          "text": [
            "2025-02-10 19:58:06,625 INFO sqlalchemy.engine.Engine SHOW FULL TABLES FROM \"defaultdb\"\n"
          ]
        },
        {
          "output_type": "stream",
          "name": "stderr",
          "text": [
            "INFO:sqlalchemy.engine.Engine:SHOW FULL TABLES FROM \"defaultdb\"\n"
          ]
        },
        {
          "output_type": "stream",
          "name": "stdout",
          "text": [
            "2025-02-10 19:58:06,630 INFO sqlalchemy.engine.Engine [raw sql] ()\n"
          ]
        },
        {
          "output_type": "stream",
          "name": "stderr",
          "text": [
            "INFO:sqlalchemy.engine.Engine:[raw sql] ()\n"
          ]
        },
        {
          "output_type": "stream",
          "name": "stdout",
          "text": [
            "2025-02-10 19:58:06,882 INFO sqlalchemy.engine.Engine SHOW CREATE TABLE \"SequelizeMeta\"\n"
          ]
        },
        {
          "output_type": "stream",
          "name": "stderr",
          "text": [
            "INFO:sqlalchemy.engine.Engine:SHOW CREATE TABLE \"SequelizeMeta\"\n"
          ]
        },
        {
          "output_type": "stream",
          "name": "stdout",
          "text": [
            "2025-02-10 19:58:06,885 INFO sqlalchemy.engine.Engine [raw sql] ()\n"
          ]
        },
        {
          "output_type": "stream",
          "name": "stderr",
          "text": [
            "INFO:sqlalchemy.engine.Engine:[raw sql] ()\n"
          ]
        },
        {
          "output_type": "stream",
          "name": "stdout",
          "text": [
            "2025-02-10 19:58:07,131 INFO sqlalchemy.engine.Engine SHOW CREATE TABLE \"candidate_data\"\n"
          ]
        },
        {
          "output_type": "stream",
          "name": "stderr",
          "text": [
            "INFO:sqlalchemy.engine.Engine:SHOW CREATE TABLE \"candidate_data\"\n"
          ]
        },
        {
          "output_type": "stream",
          "name": "stdout",
          "text": [
            "2025-02-10 19:58:07,134 INFO sqlalchemy.engine.Engine [raw sql] ()\n"
          ]
        },
        {
          "output_type": "stream",
          "name": "stderr",
          "text": [
            "INFO:sqlalchemy.engine.Engine:[raw sql] ()\n"
          ]
        },
        {
          "output_type": "stream",
          "name": "stdout",
          "text": [
            "2025-02-10 19:58:07,383 INFO sqlalchemy.engine.Engine SHOW CREATE TABLE \"candidate_demographics\"\n"
          ]
        },
        {
          "output_type": "stream",
          "name": "stderr",
          "text": [
            "INFO:sqlalchemy.engine.Engine:SHOW CREATE TABLE \"candidate_demographics\"\n"
          ]
        },
        {
          "output_type": "stream",
          "name": "stdout",
          "text": [
            "2025-02-10 19:58:07,386 INFO sqlalchemy.engine.Engine [raw sql] ()\n"
          ]
        },
        {
          "output_type": "stream",
          "name": "stderr",
          "text": [
            "INFO:sqlalchemy.engine.Engine:[raw sql] ()\n"
          ]
        },
        {
          "output_type": "stream",
          "name": "stdout",
          "text": [
            "2025-02-10 19:58:07,633 INFO sqlalchemy.engine.Engine SHOW CREATE TABLE \"csrpartner_data\"\n"
          ]
        },
        {
          "output_type": "stream",
          "name": "stderr",
          "text": [
            "INFO:sqlalchemy.engine.Engine:SHOW CREATE TABLE \"csrpartner_data\"\n"
          ]
        },
        {
          "output_type": "stream",
          "name": "stdout",
          "text": [
            "2025-02-10 19:58:07,638 INFO sqlalchemy.engine.Engine [raw sql] ()\n"
          ]
        },
        {
          "output_type": "stream",
          "name": "stderr",
          "text": [
            "INFO:sqlalchemy.engine.Engine:[raw sql] ()\n"
          ]
        },
        {
          "output_type": "stream",
          "name": "stdout",
          "text": [
            "2025-02-10 19:58:07,884 INFO sqlalchemy.engine.Engine SHOW CREATE TABLE \"csrpartner_demographics\"\n"
          ]
        },
        {
          "output_type": "stream",
          "name": "stderr",
          "text": [
            "INFO:sqlalchemy.engine.Engine:SHOW CREATE TABLE \"csrpartner_demographics\"\n"
          ]
        },
        {
          "output_type": "stream",
          "name": "stdout",
          "text": [
            "2025-02-10 19:58:07,886 INFO sqlalchemy.engine.Engine [raw sql] ()\n"
          ]
        },
        {
          "output_type": "stream",
          "name": "stderr",
          "text": [
            "INFO:sqlalchemy.engine.Engine:[raw sql] ()\n"
          ]
        },
        {
          "output_type": "stream",
          "name": "stdout",
          "text": [
            "2025-02-10 19:58:08,134 INFO sqlalchemy.engine.Engine SHOW CREATE TABLE \"customer_data\"\n"
          ]
        },
        {
          "output_type": "stream",
          "name": "stderr",
          "text": [
            "INFO:sqlalchemy.engine.Engine:SHOW CREATE TABLE \"customer_data\"\n"
          ]
        },
        {
          "output_type": "stream",
          "name": "stdout",
          "text": [
            "2025-02-10 19:58:08,136 INFO sqlalchemy.engine.Engine [raw sql] ()\n"
          ]
        },
        {
          "output_type": "stream",
          "name": "stderr",
          "text": [
            "INFO:sqlalchemy.engine.Engine:[raw sql] ()\n"
          ]
        },
        {
          "output_type": "stream",
          "name": "stdout",
          "text": [
            "2025-02-10 19:58:08,384 INFO sqlalchemy.engine.Engine SHOW CREATE TABLE \"customer_demographics\"\n"
          ]
        },
        {
          "output_type": "stream",
          "name": "stderr",
          "text": [
            "INFO:sqlalchemy.engine.Engine:SHOW CREATE TABLE \"customer_demographics\"\n"
          ]
        },
        {
          "output_type": "stream",
          "name": "stdout",
          "text": [
            "2025-02-10 19:58:08,386 INFO sqlalchemy.engine.Engine [raw sql] ()\n"
          ]
        },
        {
          "output_type": "stream",
          "name": "stderr",
          "text": [
            "INFO:sqlalchemy.engine.Engine:[raw sql] ()\n"
          ]
        },
        {
          "output_type": "stream",
          "name": "stdout",
          "text": [
            "2025-02-10 19:58:08,633 INFO sqlalchemy.engine.Engine SHOW CREATE TABLE \"employee_data\"\n"
          ]
        },
        {
          "output_type": "stream",
          "name": "stderr",
          "text": [
            "INFO:sqlalchemy.engine.Engine:SHOW CREATE TABLE \"employee_data\"\n"
          ]
        },
        {
          "output_type": "stream",
          "name": "stdout",
          "text": [
            "2025-02-10 19:58:08,636 INFO sqlalchemy.engine.Engine [raw sql] ()\n"
          ]
        },
        {
          "output_type": "stream",
          "name": "stderr",
          "text": [
            "INFO:sqlalchemy.engine.Engine:[raw sql] ()\n"
          ]
        },
        {
          "output_type": "stream",
          "name": "stdout",
          "text": [
            "2025-02-10 19:58:08,883 INFO sqlalchemy.engine.Engine SHOW CREATE TABLE \"employee_demographics\"\n"
          ]
        },
        {
          "output_type": "stream",
          "name": "stderr",
          "text": [
            "INFO:sqlalchemy.engine.Engine:SHOW CREATE TABLE \"employee_demographics\"\n"
          ]
        },
        {
          "output_type": "stream",
          "name": "stdout",
          "text": [
            "2025-02-10 19:58:08,886 INFO sqlalchemy.engine.Engine [raw sql] ()\n"
          ]
        },
        {
          "output_type": "stream",
          "name": "stderr",
          "text": [
            "INFO:sqlalchemy.engine.Engine:[raw sql] ()\n"
          ]
        },
        {
          "output_type": "stream",
          "name": "stdout",
          "text": [
            "2025-02-10 19:58:09,133 INFO sqlalchemy.engine.Engine SHOW CREATE TABLE \"investor_data\"\n"
          ]
        },
        {
          "output_type": "stream",
          "name": "stderr",
          "text": [
            "INFO:sqlalchemy.engine.Engine:SHOW CREATE TABLE \"investor_data\"\n"
          ]
        },
        {
          "output_type": "stream",
          "name": "stdout",
          "text": [
            "2025-02-10 19:58:09,136 INFO sqlalchemy.engine.Engine [raw sql] ()\n"
          ]
        },
        {
          "output_type": "stream",
          "name": "stderr",
          "text": [
            "INFO:sqlalchemy.engine.Engine:[raw sql] ()\n"
          ]
        },
        {
          "output_type": "stream",
          "name": "stdout",
          "text": [
            "2025-02-10 19:58:09,384 INFO sqlalchemy.engine.Engine SHOW CREATE TABLE \"investor_demographics\"\n"
          ]
        },
        {
          "output_type": "stream",
          "name": "stderr",
          "text": [
            "INFO:sqlalchemy.engine.Engine:SHOW CREATE TABLE \"investor_demographics\"\n"
          ]
        },
        {
          "output_type": "stream",
          "name": "stdout",
          "text": [
            "2025-02-10 19:58:09,388 INFO sqlalchemy.engine.Engine [raw sql] ()\n"
          ]
        },
        {
          "output_type": "stream",
          "name": "stderr",
          "text": [
            "INFO:sqlalchemy.engine.Engine:[raw sql] ()\n"
          ]
        },
        {
          "output_type": "stream",
          "name": "stdout",
          "text": [
            "2025-02-10 19:58:09,637 INFO sqlalchemy.engine.Engine SHOW CREATE TABLE \"partner_data\"\n"
          ]
        },
        {
          "output_type": "stream",
          "name": "stderr",
          "text": [
            "INFO:sqlalchemy.engine.Engine:SHOW CREATE TABLE \"partner_data\"\n"
          ]
        },
        {
          "output_type": "stream",
          "name": "stdout",
          "text": [
            "2025-02-10 19:58:09,639 INFO sqlalchemy.engine.Engine [raw sql] ()\n"
          ]
        },
        {
          "output_type": "stream",
          "name": "stderr",
          "text": [
            "INFO:sqlalchemy.engine.Engine:[raw sql] ()\n"
          ]
        },
        {
          "output_type": "stream",
          "name": "stdout",
          "text": [
            "2025-02-10 19:58:09,889 INFO sqlalchemy.engine.Engine SHOW CREATE TABLE \"partner_demographics\"\n"
          ]
        },
        {
          "output_type": "stream",
          "name": "stderr",
          "text": [
            "INFO:sqlalchemy.engine.Engine:SHOW CREATE TABLE \"partner_demographics\"\n"
          ]
        },
        {
          "output_type": "stream",
          "name": "stdout",
          "text": [
            "2025-02-10 19:58:09,892 INFO sqlalchemy.engine.Engine [raw sql] ()\n"
          ]
        },
        {
          "output_type": "stream",
          "name": "stderr",
          "text": [
            "INFO:sqlalchemy.engine.Engine:[raw sql] ()\n"
          ]
        },
        {
          "output_type": "stream",
          "name": "stdout",
          "text": [
            "2025-02-10 19:58:10,139 INFO sqlalchemy.engine.Engine SHOW CREATE TABLE \"vendor_data\"\n"
          ]
        },
        {
          "output_type": "stream",
          "name": "stderr",
          "text": [
            "INFO:sqlalchemy.engine.Engine:SHOW CREATE TABLE \"vendor_data\"\n"
          ]
        },
        {
          "output_type": "stream",
          "name": "stdout",
          "text": [
            "2025-02-10 19:58:10,142 INFO sqlalchemy.engine.Engine [raw sql] ()\n"
          ]
        },
        {
          "output_type": "stream",
          "name": "stderr",
          "text": [
            "INFO:sqlalchemy.engine.Engine:[raw sql] ()\n"
          ]
        },
        {
          "output_type": "stream",
          "name": "stdout",
          "text": [
            "2025-02-10 19:58:10,389 INFO sqlalchemy.engine.Engine SHOW CREATE TABLE \"vendor_demographics\"\n"
          ]
        },
        {
          "output_type": "stream",
          "name": "stderr",
          "text": [
            "INFO:sqlalchemy.engine.Engine:SHOW CREATE TABLE \"vendor_demographics\"\n"
          ]
        },
        {
          "output_type": "stream",
          "name": "stdout",
          "text": [
            "2025-02-10 19:58:10,391 INFO sqlalchemy.engine.Engine [raw sql] ()\n"
          ]
        },
        {
          "output_type": "stream",
          "name": "stderr",
          "text": [
            "INFO:sqlalchemy.engine.Engine:[raw sql] ()\n"
          ]
        },
        {
          "output_type": "stream",
          "name": "stdout",
          "text": [
            "2025-02-10 19:58:10,640 INFO sqlalchemy.engine.Engine SELECT information_schema.columns.table_schema, information_schema.columns.table_name, information_schema.columns.column_name \n",
            "FROM information_schema.columns \n",
            "WHERE information_schema.columns.table_schema = %s AND information_schema.columns.table_name = %s AND lower(information_schema.columns.column_name) IN (%s)\n"
          ]
        },
        {
          "output_type": "stream",
          "name": "stderr",
          "text": [
            "INFO:sqlalchemy.engine.Engine:SELECT information_schema.columns.table_schema, information_schema.columns.table_name, information_schema.columns.column_name \n",
            "FROM information_schema.columns \n",
            "WHERE information_schema.columns.table_schema = %s AND information_schema.columns.table_name = %s AND lower(information_schema.columns.column_name) IN (%s)\n"
          ]
        },
        {
          "output_type": "stream",
          "name": "stdout",
          "text": [
            "2025-02-10 19:58:10,642 INFO sqlalchemy.engine.Engine [cached since 3260s ago] ('defaultdb', 'candidate_data', 'id')\n"
          ]
        },
        {
          "output_type": "stream",
          "name": "stderr",
          "text": [
            "INFO:sqlalchemy.engine.Engine:[cached since 3260s ago] ('defaultdb', 'candidate_data', 'id')\n"
          ]
        },
        {
          "output_type": "stream",
          "name": "stdout",
          "text": [
            "2025-02-10 19:58:10,890 INFO sqlalchemy.engine.Engine SELECT information_schema.columns.table_schema, information_schema.columns.table_name, information_schema.columns.column_name \n",
            "FROM information_schema.columns \n",
            "WHERE information_schema.columns.table_schema = %s AND information_schema.columns.table_name = %s AND lower(information_schema.columns.column_name) IN (%s)\n"
          ]
        },
        {
          "output_type": "stream",
          "name": "stderr",
          "text": [
            "INFO:sqlalchemy.engine.Engine:SELECT information_schema.columns.table_schema, information_schema.columns.table_name, information_schema.columns.column_name \n",
            "FROM information_schema.columns \n",
            "WHERE information_schema.columns.table_schema = %s AND information_schema.columns.table_name = %s AND lower(information_schema.columns.column_name) IN (%s)\n"
          ]
        },
        {
          "output_type": "stream",
          "name": "stdout",
          "text": [
            "2025-02-10 19:58:10,893 INFO sqlalchemy.engine.Engine [cached since 3261s ago] ('defaultdb', 'csrpartner_data', 'id')\n"
          ]
        },
        {
          "output_type": "stream",
          "name": "stderr",
          "text": [
            "INFO:sqlalchemy.engine.Engine:[cached since 3261s ago] ('defaultdb', 'csrpartner_data', 'id')\n"
          ]
        },
        {
          "output_type": "stream",
          "name": "stdout",
          "text": [
            "2025-02-10 19:58:11,141 INFO sqlalchemy.engine.Engine SELECT information_schema.columns.table_schema, information_schema.columns.table_name, information_schema.columns.column_name \n",
            "FROM information_schema.columns \n",
            "WHERE information_schema.columns.table_schema = %s AND information_schema.columns.table_name = %s AND lower(information_schema.columns.column_name) IN (%s)\n"
          ]
        },
        {
          "output_type": "stream",
          "name": "stderr",
          "text": [
            "INFO:sqlalchemy.engine.Engine:SELECT information_schema.columns.table_schema, information_schema.columns.table_name, information_schema.columns.column_name \n",
            "FROM information_schema.columns \n",
            "WHERE information_schema.columns.table_schema = %s AND information_schema.columns.table_name = %s AND lower(information_schema.columns.column_name) IN (%s)\n"
          ]
        },
        {
          "output_type": "stream",
          "name": "stdout",
          "text": [
            "2025-02-10 19:58:11,144 INFO sqlalchemy.engine.Engine [cached since 3261s ago] ('defaultdb', 'customer_data', 'id')\n"
          ]
        },
        {
          "output_type": "stream",
          "name": "stderr",
          "text": [
            "INFO:sqlalchemy.engine.Engine:[cached since 3261s ago] ('defaultdb', 'customer_data', 'id')\n"
          ]
        },
        {
          "output_type": "stream",
          "name": "stdout",
          "text": [
            "2025-02-10 19:58:11,392 INFO sqlalchemy.engine.Engine SELECT information_schema.columns.table_schema, information_schema.columns.table_name, information_schema.columns.column_name \n",
            "FROM information_schema.columns \n",
            "WHERE information_schema.columns.table_schema = %s AND information_schema.columns.table_name = %s AND lower(information_schema.columns.column_name) IN (%s)\n"
          ]
        },
        {
          "output_type": "stream",
          "name": "stderr",
          "text": [
            "INFO:sqlalchemy.engine.Engine:SELECT information_schema.columns.table_schema, information_schema.columns.table_name, information_schema.columns.column_name \n",
            "FROM information_schema.columns \n",
            "WHERE information_schema.columns.table_schema = %s AND information_schema.columns.table_name = %s AND lower(information_schema.columns.column_name) IN (%s)\n"
          ]
        },
        {
          "output_type": "stream",
          "name": "stdout",
          "text": [
            "2025-02-10 19:58:11,394 INFO sqlalchemy.engine.Engine [cached since 3261s ago] ('defaultdb', 'employee_data', 'id')\n"
          ]
        },
        {
          "output_type": "stream",
          "name": "stderr",
          "text": [
            "INFO:sqlalchemy.engine.Engine:[cached since 3261s ago] ('defaultdb', 'employee_data', 'id')\n"
          ]
        },
        {
          "output_type": "stream",
          "name": "stdout",
          "text": [
            "2025-02-10 19:58:11,643 INFO sqlalchemy.engine.Engine SELECT information_schema.columns.table_schema, information_schema.columns.table_name, information_schema.columns.column_name \n",
            "FROM information_schema.columns \n",
            "WHERE information_schema.columns.table_schema = %s AND information_schema.columns.table_name = %s AND lower(information_schema.columns.column_name) IN (%s)\n"
          ]
        },
        {
          "output_type": "stream",
          "name": "stderr",
          "text": [
            "INFO:sqlalchemy.engine.Engine:SELECT information_schema.columns.table_schema, information_schema.columns.table_name, information_schema.columns.column_name \n",
            "FROM information_schema.columns \n",
            "WHERE information_schema.columns.table_schema = %s AND information_schema.columns.table_name = %s AND lower(information_schema.columns.column_name) IN (%s)\n"
          ]
        },
        {
          "output_type": "stream",
          "name": "stdout",
          "text": [
            "2025-02-10 19:58:11,646 INFO sqlalchemy.engine.Engine [cached since 3261s ago] ('defaultdb', 'investor_data', 'id')\n"
          ]
        },
        {
          "output_type": "stream",
          "name": "stderr",
          "text": [
            "INFO:sqlalchemy.engine.Engine:[cached since 3261s ago] ('defaultdb', 'investor_data', 'id')\n"
          ]
        },
        {
          "output_type": "stream",
          "name": "stdout",
          "text": [
            "2025-02-10 19:58:11,894 INFO sqlalchemy.engine.Engine SELECT information_schema.columns.table_schema, information_schema.columns.table_name, information_schema.columns.column_name \n",
            "FROM information_schema.columns \n",
            "WHERE information_schema.columns.table_schema = %s AND information_schema.columns.table_name = %s AND lower(information_schema.columns.column_name) IN (%s)\n"
          ]
        },
        {
          "output_type": "stream",
          "name": "stderr",
          "text": [
            "INFO:sqlalchemy.engine.Engine:SELECT information_schema.columns.table_schema, information_schema.columns.table_name, information_schema.columns.column_name \n",
            "FROM information_schema.columns \n",
            "WHERE information_schema.columns.table_schema = %s AND information_schema.columns.table_name = %s AND lower(information_schema.columns.column_name) IN (%s)\n"
          ]
        },
        {
          "output_type": "stream",
          "name": "stdout",
          "text": [
            "2025-02-10 19:58:11,898 INFO sqlalchemy.engine.Engine [cached since 3262s ago] ('defaultdb', 'partner_data', 'id')\n"
          ]
        },
        {
          "output_type": "stream",
          "name": "stderr",
          "text": [
            "INFO:sqlalchemy.engine.Engine:[cached since 3262s ago] ('defaultdb', 'partner_data', 'id')\n"
          ]
        },
        {
          "output_type": "stream",
          "name": "stdout",
          "text": [
            "2025-02-10 19:58:12,148 INFO sqlalchemy.engine.Engine SELECT information_schema.columns.table_schema, information_schema.columns.table_name, information_schema.columns.column_name \n",
            "FROM information_schema.columns \n",
            "WHERE information_schema.columns.table_schema = %s AND information_schema.columns.table_name = %s AND lower(information_schema.columns.column_name) IN (%s)\n"
          ]
        },
        {
          "output_type": "stream",
          "name": "stderr",
          "text": [
            "INFO:sqlalchemy.engine.Engine:SELECT information_schema.columns.table_schema, information_schema.columns.table_name, information_schema.columns.column_name \n",
            "FROM information_schema.columns \n",
            "WHERE information_schema.columns.table_schema = %s AND information_schema.columns.table_name = %s AND lower(information_schema.columns.column_name) IN (%s)\n"
          ]
        },
        {
          "output_type": "stream",
          "name": "stdout",
          "text": [
            "2025-02-10 19:58:12,151 INFO sqlalchemy.engine.Engine [cached since 3262s ago] ('defaultdb', 'vendor_data', 'id')\n"
          ]
        },
        {
          "output_type": "stream",
          "name": "stderr",
          "text": [
            "INFO:sqlalchemy.engine.Engine:[cached since 3262s ago] ('defaultdb', 'vendor_data', 'id')\n"
          ]
        },
        {
          "output_type": "stream",
          "name": "stdout",
          "text": [
            "2025-02-10 19:58:12,415 INFO sqlalchemy.engine.Engine COMMIT\n"
          ]
        },
        {
          "output_type": "stream",
          "name": "stderr",
          "text": [
            "INFO:sqlalchemy.engine.Engine:COMMIT\n"
          ]
        },
        {
          "output_type": "stream",
          "name": "stdout",
          "text": [
            "response {'is_relevant': True, 'relevant_tables': [{'table_name': 'customer_data', 'columns': ['id', 'created_at', 'updated_at', 'stakeholder_type', 'product_name', 'po_number', 'client_admin_ref', 'diagnostic_id', 'language', 'experience_rating', 'experience_type', 'experience_area', 'experience_area_dimension', 'feedback', 'sentiment_normalized_rating', 'suggestions', 'testimonial_consent', 'testimonial_name_consent', 'testimonial_name', 'email', 'company_name', 'channel', 'experience_sentiment'], 'noun_columns': ['product_name', 'feedback', 'suggestions', 'testimonial_name', 'email', 'company_name', 'experience_sentiment']}]}\n",
            "2025-02-10 19:58:16,440 INFO sqlalchemy.engine.Engine BEGIN (implicit)\n"
          ]
        },
        {
          "output_type": "stream",
          "name": "stderr",
          "text": [
            "INFO:sqlalchemy.engine.Engine:BEGIN (implicit)\n"
          ]
        },
        {
          "output_type": "stream",
          "name": "stdout",
          "text": [
            "2025-02-10 19:58:16,444 INFO sqlalchemy.engine.Engine SELECT DISTINCT `product_name`, `feedback`, `suggestions`, `testimonial_name`, `email`, `company_name`, `experience_sentiment` FROM `customer_data`\n"
          ]
        },
        {
          "output_type": "stream",
          "name": "stderr",
          "text": [
            "INFO:sqlalchemy.engine.Engine:SELECT DISTINCT `product_name`, `feedback`, `suggestions`, `testimonial_name`, `email`, `company_name`, `experience_sentiment` FROM `customer_data`\n"
          ]
        },
        {
          "output_type": "stream",
          "name": "stdout",
          "text": [
            "2025-02-10 19:58:16,447 INFO sqlalchemy.engine.Engine [cached since 3255s ago] ()\n"
          ]
        },
        {
          "output_type": "stream",
          "name": "stderr",
          "text": [
            "INFO:sqlalchemy.engine.Engine:[cached since 3255s ago] ()\n"
          ]
        },
        {
          "output_type": "stream",
          "name": "stdout",
          "text": [
            "2025-02-10 19:58:16,941 INFO sqlalchemy.engine.Engine COMMIT\n"
          ]
        },
        {
          "output_type": "stream",
          "name": "stderr",
          "text": [
            "INFO:sqlalchemy.engine.Engine:COMMIT\n"
          ]
        },
        {
          "output_type": "stream",
          "name": "stdout",
          "text": [
            "2025-02-10 19:58:17,432 INFO sqlalchemy.engine.Engine BEGIN (implicit)\n"
          ]
        },
        {
          "output_type": "stream",
          "name": "stderr",
          "text": [
            "INFO:sqlalchemy.engine.Engine:BEGIN (implicit)\n"
          ]
        },
        {
          "output_type": "stream",
          "name": "stdout",
          "text": [
            "2025-02-10 19:58:17,435 INFO sqlalchemy.engine.Engine SHOW FULL TABLES FROM \"defaultdb\"\n"
          ]
        },
        {
          "output_type": "stream",
          "name": "stderr",
          "text": [
            "INFO:sqlalchemy.engine.Engine:SHOW FULL TABLES FROM \"defaultdb\"\n"
          ]
        },
        {
          "output_type": "stream",
          "name": "stdout",
          "text": [
            "2025-02-10 19:58:17,438 INFO sqlalchemy.engine.Engine [raw sql] ()\n"
          ]
        },
        {
          "output_type": "stream",
          "name": "stderr",
          "text": [
            "INFO:sqlalchemy.engine.Engine:[raw sql] ()\n"
          ]
        },
        {
          "output_type": "stream",
          "name": "stdout",
          "text": [
            "2025-02-10 19:58:17,686 INFO sqlalchemy.engine.Engine SHOW CREATE TABLE \"SequelizeMeta\"\n"
          ]
        },
        {
          "output_type": "stream",
          "name": "stderr",
          "text": [
            "INFO:sqlalchemy.engine.Engine:SHOW CREATE TABLE \"SequelizeMeta\"\n"
          ]
        },
        {
          "output_type": "stream",
          "name": "stdout",
          "text": [
            "2025-02-10 19:58:17,689 INFO sqlalchemy.engine.Engine [raw sql] ()\n"
          ]
        },
        {
          "output_type": "stream",
          "name": "stderr",
          "text": [
            "INFO:sqlalchemy.engine.Engine:[raw sql] ()\n"
          ]
        },
        {
          "output_type": "stream",
          "name": "stdout",
          "text": [
            "2025-02-10 19:58:17,938 INFO sqlalchemy.engine.Engine SHOW CREATE TABLE \"candidate_data\"\n"
          ]
        },
        {
          "output_type": "stream",
          "name": "stderr",
          "text": [
            "INFO:sqlalchemy.engine.Engine:SHOW CREATE TABLE \"candidate_data\"\n"
          ]
        },
        {
          "output_type": "stream",
          "name": "stdout",
          "text": [
            "2025-02-10 19:58:17,940 INFO sqlalchemy.engine.Engine [raw sql] ()\n"
          ]
        },
        {
          "output_type": "stream",
          "name": "stderr",
          "text": [
            "INFO:sqlalchemy.engine.Engine:[raw sql] ()\n"
          ]
        },
        {
          "output_type": "stream",
          "name": "stdout",
          "text": [
            "2025-02-10 19:58:18,188 INFO sqlalchemy.engine.Engine SHOW CREATE TABLE \"candidate_demographics\"\n"
          ]
        },
        {
          "output_type": "stream",
          "name": "stderr",
          "text": [
            "INFO:sqlalchemy.engine.Engine:SHOW CREATE TABLE \"candidate_demographics\"\n"
          ]
        },
        {
          "output_type": "stream",
          "name": "stdout",
          "text": [
            "2025-02-10 19:58:18,190 INFO sqlalchemy.engine.Engine [raw sql] ()\n"
          ]
        },
        {
          "output_type": "stream",
          "name": "stderr",
          "text": [
            "INFO:sqlalchemy.engine.Engine:[raw sql] ()\n"
          ]
        },
        {
          "output_type": "stream",
          "name": "stdout",
          "text": [
            "2025-02-10 19:58:18,437 INFO sqlalchemy.engine.Engine SHOW CREATE TABLE \"csrpartner_data\"\n"
          ]
        },
        {
          "output_type": "stream",
          "name": "stderr",
          "text": [
            "INFO:sqlalchemy.engine.Engine:SHOW CREATE TABLE \"csrpartner_data\"\n"
          ]
        },
        {
          "output_type": "stream",
          "name": "stdout",
          "text": [
            "2025-02-10 19:58:18,439 INFO sqlalchemy.engine.Engine [raw sql] ()\n"
          ]
        },
        {
          "output_type": "stream",
          "name": "stderr",
          "text": [
            "INFO:sqlalchemy.engine.Engine:[raw sql] ()\n"
          ]
        },
        {
          "output_type": "stream",
          "name": "stdout",
          "text": [
            "2025-02-10 19:58:18,686 INFO sqlalchemy.engine.Engine SHOW CREATE TABLE \"csrpartner_demographics\"\n"
          ]
        },
        {
          "output_type": "stream",
          "name": "stderr",
          "text": [
            "INFO:sqlalchemy.engine.Engine:SHOW CREATE TABLE \"csrpartner_demographics\"\n"
          ]
        },
        {
          "output_type": "stream",
          "name": "stdout",
          "text": [
            "2025-02-10 19:58:18,688 INFO sqlalchemy.engine.Engine [raw sql] ()\n"
          ]
        },
        {
          "output_type": "stream",
          "name": "stderr",
          "text": [
            "INFO:sqlalchemy.engine.Engine:[raw sql] ()\n"
          ]
        },
        {
          "output_type": "stream",
          "name": "stdout",
          "text": [
            "2025-02-10 19:58:18,936 INFO sqlalchemy.engine.Engine SHOW CREATE TABLE \"customer_data\"\n"
          ]
        },
        {
          "output_type": "stream",
          "name": "stderr",
          "text": [
            "INFO:sqlalchemy.engine.Engine:SHOW CREATE TABLE \"customer_data\"\n"
          ]
        },
        {
          "output_type": "stream",
          "name": "stdout",
          "text": [
            "2025-02-10 19:58:18,939 INFO sqlalchemy.engine.Engine [raw sql] ()\n"
          ]
        },
        {
          "output_type": "stream",
          "name": "stderr",
          "text": [
            "INFO:sqlalchemy.engine.Engine:[raw sql] ()\n"
          ]
        },
        {
          "output_type": "stream",
          "name": "stdout",
          "text": [
            "2025-02-10 19:58:19,188 INFO sqlalchemy.engine.Engine SHOW CREATE TABLE \"customer_demographics\"\n"
          ]
        },
        {
          "output_type": "stream",
          "name": "stderr",
          "text": [
            "INFO:sqlalchemy.engine.Engine:SHOW CREATE TABLE \"customer_demographics\"\n"
          ]
        },
        {
          "output_type": "stream",
          "name": "stdout",
          "text": [
            "2025-02-10 19:58:19,191 INFO sqlalchemy.engine.Engine [raw sql] ()\n"
          ]
        },
        {
          "output_type": "stream",
          "name": "stderr",
          "text": [
            "INFO:sqlalchemy.engine.Engine:[raw sql] ()\n"
          ]
        },
        {
          "output_type": "stream",
          "name": "stdout",
          "text": [
            "2025-02-10 19:58:19,440 INFO sqlalchemy.engine.Engine SHOW CREATE TABLE \"employee_data\"\n"
          ]
        },
        {
          "output_type": "stream",
          "name": "stderr",
          "text": [
            "INFO:sqlalchemy.engine.Engine:SHOW CREATE TABLE \"employee_data\"\n"
          ]
        },
        {
          "output_type": "stream",
          "name": "stdout",
          "text": [
            "2025-02-10 19:58:19,443 INFO sqlalchemy.engine.Engine [raw sql] ()\n"
          ]
        },
        {
          "output_type": "stream",
          "name": "stderr",
          "text": [
            "INFO:sqlalchemy.engine.Engine:[raw sql] ()\n"
          ]
        },
        {
          "output_type": "stream",
          "name": "stdout",
          "text": [
            "2025-02-10 19:58:19,691 INFO sqlalchemy.engine.Engine SHOW CREATE TABLE \"employee_demographics\"\n"
          ]
        },
        {
          "output_type": "stream",
          "name": "stderr",
          "text": [
            "INFO:sqlalchemy.engine.Engine:SHOW CREATE TABLE \"employee_demographics\"\n"
          ]
        },
        {
          "output_type": "stream",
          "name": "stdout",
          "text": [
            "2025-02-10 19:58:19,694 INFO sqlalchemy.engine.Engine [raw sql] ()\n"
          ]
        },
        {
          "output_type": "stream",
          "name": "stderr",
          "text": [
            "INFO:sqlalchemy.engine.Engine:[raw sql] ()\n"
          ]
        },
        {
          "output_type": "stream",
          "name": "stdout",
          "text": [
            "2025-02-10 19:58:19,944 INFO sqlalchemy.engine.Engine SHOW CREATE TABLE \"investor_data\"\n"
          ]
        },
        {
          "output_type": "stream",
          "name": "stderr",
          "text": [
            "INFO:sqlalchemy.engine.Engine:SHOW CREATE TABLE \"investor_data\"\n"
          ]
        },
        {
          "output_type": "stream",
          "name": "stdout",
          "text": [
            "2025-02-10 19:58:19,946 INFO sqlalchemy.engine.Engine [raw sql] ()\n"
          ]
        },
        {
          "output_type": "stream",
          "name": "stderr",
          "text": [
            "INFO:sqlalchemy.engine.Engine:[raw sql] ()\n"
          ]
        },
        {
          "output_type": "stream",
          "name": "stdout",
          "text": [
            "2025-02-10 19:58:20,194 INFO sqlalchemy.engine.Engine SHOW CREATE TABLE \"investor_demographics\"\n"
          ]
        },
        {
          "output_type": "stream",
          "name": "stderr",
          "text": [
            "INFO:sqlalchemy.engine.Engine:SHOW CREATE TABLE \"investor_demographics\"\n"
          ]
        },
        {
          "output_type": "stream",
          "name": "stdout",
          "text": [
            "2025-02-10 19:58:20,198 INFO sqlalchemy.engine.Engine [raw sql] ()\n"
          ]
        },
        {
          "output_type": "stream",
          "name": "stderr",
          "text": [
            "INFO:sqlalchemy.engine.Engine:[raw sql] ()\n"
          ]
        },
        {
          "output_type": "stream",
          "name": "stdout",
          "text": [
            "2025-02-10 19:58:20,445 INFO sqlalchemy.engine.Engine SHOW CREATE TABLE \"partner_data\"\n"
          ]
        },
        {
          "output_type": "stream",
          "name": "stderr",
          "text": [
            "INFO:sqlalchemy.engine.Engine:SHOW CREATE TABLE \"partner_data\"\n"
          ]
        },
        {
          "output_type": "stream",
          "name": "stdout",
          "text": [
            "2025-02-10 19:58:20,448 INFO sqlalchemy.engine.Engine [raw sql] ()\n"
          ]
        },
        {
          "output_type": "stream",
          "name": "stderr",
          "text": [
            "INFO:sqlalchemy.engine.Engine:[raw sql] ()\n"
          ]
        },
        {
          "output_type": "stream",
          "name": "stdout",
          "text": [
            "2025-02-10 19:58:20,695 INFO sqlalchemy.engine.Engine SHOW CREATE TABLE \"partner_demographics\"\n"
          ]
        },
        {
          "output_type": "stream",
          "name": "stderr",
          "text": [
            "INFO:sqlalchemy.engine.Engine:SHOW CREATE TABLE \"partner_demographics\"\n"
          ]
        },
        {
          "output_type": "stream",
          "name": "stdout",
          "text": [
            "2025-02-10 19:58:20,698 INFO sqlalchemy.engine.Engine [raw sql] ()\n"
          ]
        },
        {
          "output_type": "stream",
          "name": "stderr",
          "text": [
            "INFO:sqlalchemy.engine.Engine:[raw sql] ()\n"
          ]
        },
        {
          "output_type": "stream",
          "name": "stdout",
          "text": [
            "2025-02-10 19:58:20,945 INFO sqlalchemy.engine.Engine SHOW CREATE TABLE \"vendor_data\"\n"
          ]
        },
        {
          "output_type": "stream",
          "name": "stderr",
          "text": [
            "INFO:sqlalchemy.engine.Engine:SHOW CREATE TABLE \"vendor_data\"\n"
          ]
        },
        {
          "output_type": "stream",
          "name": "stdout",
          "text": [
            "2025-02-10 19:58:20,948 INFO sqlalchemy.engine.Engine [raw sql] ()\n"
          ]
        },
        {
          "output_type": "stream",
          "name": "stderr",
          "text": [
            "INFO:sqlalchemy.engine.Engine:[raw sql] ()\n"
          ]
        },
        {
          "output_type": "stream",
          "name": "stdout",
          "text": [
            "2025-02-10 19:58:21,195 INFO sqlalchemy.engine.Engine SHOW CREATE TABLE \"vendor_demographics\"\n"
          ]
        },
        {
          "output_type": "stream",
          "name": "stderr",
          "text": [
            "INFO:sqlalchemy.engine.Engine:SHOW CREATE TABLE \"vendor_demographics\"\n"
          ]
        },
        {
          "output_type": "stream",
          "name": "stdout",
          "text": [
            "2025-02-10 19:58:21,198 INFO sqlalchemy.engine.Engine [raw sql] ()\n"
          ]
        },
        {
          "output_type": "stream",
          "name": "stderr",
          "text": [
            "INFO:sqlalchemy.engine.Engine:[raw sql] ()\n"
          ]
        },
        {
          "output_type": "stream",
          "name": "stdout",
          "text": [
            "2025-02-10 19:58:21,447 INFO sqlalchemy.engine.Engine SELECT information_schema.columns.table_schema, information_schema.columns.table_name, information_schema.columns.column_name \n",
            "FROM information_schema.columns \n",
            "WHERE information_schema.columns.table_schema = %s AND information_schema.columns.table_name = %s AND lower(information_schema.columns.column_name) IN (%s)\n"
          ]
        },
        {
          "output_type": "stream",
          "name": "stderr",
          "text": [
            "INFO:sqlalchemy.engine.Engine:SELECT information_schema.columns.table_schema, information_schema.columns.table_name, information_schema.columns.column_name \n",
            "FROM information_schema.columns \n",
            "WHERE information_schema.columns.table_schema = %s AND information_schema.columns.table_name = %s AND lower(information_schema.columns.column_name) IN (%s)\n"
          ]
        },
        {
          "output_type": "stream",
          "name": "stdout",
          "text": [
            "2025-02-10 19:58:21,450 INFO sqlalchemy.engine.Engine [cached since 3271s ago] ('defaultdb', 'candidate_data', 'id')\n"
          ]
        },
        {
          "output_type": "stream",
          "name": "stderr",
          "text": [
            "INFO:sqlalchemy.engine.Engine:[cached since 3271s ago] ('defaultdb', 'candidate_data', 'id')\n"
          ]
        },
        {
          "output_type": "stream",
          "name": "stdout",
          "text": [
            "2025-02-10 19:58:21,699 INFO sqlalchemy.engine.Engine SELECT information_schema.columns.table_schema, information_schema.columns.table_name, information_schema.columns.column_name \n",
            "FROM information_schema.columns \n",
            "WHERE information_schema.columns.table_schema = %s AND information_schema.columns.table_name = %s AND lower(information_schema.columns.column_name) IN (%s)\n"
          ]
        },
        {
          "output_type": "stream",
          "name": "stderr",
          "text": [
            "INFO:sqlalchemy.engine.Engine:SELECT information_schema.columns.table_schema, information_schema.columns.table_name, information_schema.columns.column_name \n",
            "FROM information_schema.columns \n",
            "WHERE information_schema.columns.table_schema = %s AND information_schema.columns.table_name = %s AND lower(information_schema.columns.column_name) IN (%s)\n"
          ]
        },
        {
          "output_type": "stream",
          "name": "stdout",
          "text": [
            "2025-02-10 19:58:21,702 INFO sqlalchemy.engine.Engine [cached since 3271s ago] ('defaultdb', 'csrpartner_data', 'id')\n"
          ]
        },
        {
          "output_type": "stream",
          "name": "stderr",
          "text": [
            "INFO:sqlalchemy.engine.Engine:[cached since 3271s ago] ('defaultdb', 'csrpartner_data', 'id')\n"
          ]
        },
        {
          "output_type": "stream",
          "name": "stdout",
          "text": [
            "2025-02-10 19:58:21,955 INFO sqlalchemy.engine.Engine SELECT information_schema.columns.table_schema, information_schema.columns.table_name, information_schema.columns.column_name \n",
            "FROM information_schema.columns \n",
            "WHERE information_schema.columns.table_schema = %s AND information_schema.columns.table_name = %s AND lower(information_schema.columns.column_name) IN (%s)\n"
          ]
        },
        {
          "output_type": "stream",
          "name": "stderr",
          "text": [
            "INFO:sqlalchemy.engine.Engine:SELECT information_schema.columns.table_schema, information_schema.columns.table_name, information_schema.columns.column_name \n",
            "FROM information_schema.columns \n",
            "WHERE information_schema.columns.table_schema = %s AND information_schema.columns.table_name = %s AND lower(information_schema.columns.column_name) IN (%s)\n"
          ]
        },
        {
          "output_type": "stream",
          "name": "stdout",
          "text": [
            "2025-02-10 19:58:21,958 INFO sqlalchemy.engine.Engine [cached since 3272s ago] ('defaultdb', 'customer_data', 'id')\n"
          ]
        },
        {
          "output_type": "stream",
          "name": "stderr",
          "text": [
            "INFO:sqlalchemy.engine.Engine:[cached since 3272s ago] ('defaultdb', 'customer_data', 'id')\n"
          ]
        },
        {
          "output_type": "stream",
          "name": "stdout",
          "text": [
            "2025-02-10 19:58:22,207 INFO sqlalchemy.engine.Engine SELECT information_schema.columns.table_schema, information_schema.columns.table_name, information_schema.columns.column_name \n",
            "FROM information_schema.columns \n",
            "WHERE information_schema.columns.table_schema = %s AND information_schema.columns.table_name = %s AND lower(information_schema.columns.column_name) IN (%s)\n"
          ]
        },
        {
          "output_type": "stream",
          "name": "stderr",
          "text": [
            "INFO:sqlalchemy.engine.Engine:SELECT information_schema.columns.table_schema, information_schema.columns.table_name, information_schema.columns.column_name \n",
            "FROM information_schema.columns \n",
            "WHERE information_schema.columns.table_schema = %s AND information_schema.columns.table_name = %s AND lower(information_schema.columns.column_name) IN (%s)\n"
          ]
        },
        {
          "output_type": "stream",
          "name": "stdout",
          "text": [
            "2025-02-10 19:58:22,210 INFO sqlalchemy.engine.Engine [cached since 3272s ago] ('defaultdb', 'employee_data', 'id')\n"
          ]
        },
        {
          "output_type": "stream",
          "name": "stderr",
          "text": [
            "INFO:sqlalchemy.engine.Engine:[cached since 3272s ago] ('defaultdb', 'employee_data', 'id')\n"
          ]
        },
        {
          "output_type": "stream",
          "name": "stdout",
          "text": [
            "2025-02-10 19:58:22,458 INFO sqlalchemy.engine.Engine SELECT information_schema.columns.table_schema, information_schema.columns.table_name, information_schema.columns.column_name \n",
            "FROM information_schema.columns \n",
            "WHERE information_schema.columns.table_schema = %s AND information_schema.columns.table_name = %s AND lower(information_schema.columns.column_name) IN (%s)\n"
          ]
        },
        {
          "output_type": "stream",
          "name": "stderr",
          "text": [
            "INFO:sqlalchemy.engine.Engine:SELECT information_schema.columns.table_schema, information_schema.columns.table_name, information_schema.columns.column_name \n",
            "FROM information_schema.columns \n",
            "WHERE information_schema.columns.table_schema = %s AND information_schema.columns.table_name = %s AND lower(information_schema.columns.column_name) IN (%s)\n"
          ]
        },
        {
          "output_type": "stream",
          "name": "stdout",
          "text": [
            "2025-02-10 19:58:22,461 INFO sqlalchemy.engine.Engine [cached since 3272s ago] ('defaultdb', 'investor_data', 'id')\n"
          ]
        },
        {
          "output_type": "stream",
          "name": "stderr",
          "text": [
            "INFO:sqlalchemy.engine.Engine:[cached since 3272s ago] ('defaultdb', 'investor_data', 'id')\n"
          ]
        },
        {
          "output_type": "stream",
          "name": "stdout",
          "text": [
            "2025-02-10 19:58:22,709 INFO sqlalchemy.engine.Engine SELECT information_schema.columns.table_schema, information_schema.columns.table_name, information_schema.columns.column_name \n",
            "FROM information_schema.columns \n",
            "WHERE information_schema.columns.table_schema = %s AND information_schema.columns.table_name = %s AND lower(information_schema.columns.column_name) IN (%s)\n"
          ]
        },
        {
          "output_type": "stream",
          "name": "stderr",
          "text": [
            "INFO:sqlalchemy.engine.Engine:SELECT information_schema.columns.table_schema, information_schema.columns.table_name, information_schema.columns.column_name \n",
            "FROM information_schema.columns \n",
            "WHERE information_schema.columns.table_schema = %s AND information_schema.columns.table_name = %s AND lower(information_schema.columns.column_name) IN (%s)\n"
          ]
        },
        {
          "output_type": "stream",
          "name": "stdout",
          "text": [
            "2025-02-10 19:58:22,713 INFO sqlalchemy.engine.Engine [cached since 3272s ago] ('defaultdb', 'partner_data', 'id')\n"
          ]
        },
        {
          "output_type": "stream",
          "name": "stderr",
          "text": [
            "INFO:sqlalchemy.engine.Engine:[cached since 3272s ago] ('defaultdb', 'partner_data', 'id')\n"
          ]
        },
        {
          "output_type": "stream",
          "name": "stdout",
          "text": [
            "2025-02-10 19:58:22,963 INFO sqlalchemy.engine.Engine SELECT information_schema.columns.table_schema, information_schema.columns.table_name, information_schema.columns.column_name \n",
            "FROM information_schema.columns \n",
            "WHERE information_schema.columns.table_schema = %s AND information_schema.columns.table_name = %s AND lower(information_schema.columns.column_name) IN (%s)\n"
          ]
        },
        {
          "output_type": "stream",
          "name": "stderr",
          "text": [
            "INFO:sqlalchemy.engine.Engine:SELECT information_schema.columns.table_schema, information_schema.columns.table_name, information_schema.columns.column_name \n",
            "FROM information_schema.columns \n",
            "WHERE information_schema.columns.table_schema = %s AND information_schema.columns.table_name = %s AND lower(information_schema.columns.column_name) IN (%s)\n"
          ]
        },
        {
          "output_type": "stream",
          "name": "stdout",
          "text": [
            "2025-02-10 19:58:22,966 INFO sqlalchemy.engine.Engine [cached since 3273s ago] ('defaultdb', 'vendor_data', 'id')\n"
          ]
        },
        {
          "output_type": "stream",
          "name": "stderr",
          "text": [
            "INFO:sqlalchemy.engine.Engine:[cached since 3273s ago] ('defaultdb', 'vendor_data', 'id')\n"
          ]
        },
        {
          "output_type": "stream",
          "name": "stdout",
          "text": [
            "2025-02-10 19:58:23,238 INFO sqlalchemy.engine.Engine COMMIT\n"
          ]
        },
        {
          "output_type": "stream",
          "name": "stderr",
          "text": [
            "INFO:sqlalchemy.engine.Engine:COMMIT\n"
          ]
        },
        {
          "output_type": "stream",
          "name": "stdout",
          "text": [
            "2025-02-10 19:58:27,592 INFO sqlalchemy.engine.Engine BEGIN (implicit)\n"
          ]
        },
        {
          "output_type": "stream",
          "name": "stderr",
          "text": [
            "INFO:sqlalchemy.engine.Engine:BEGIN (implicit)\n"
          ]
        },
        {
          "output_type": "stream",
          "name": "stdout",
          "text": [
            "2025-02-10 19:58:27,596 INFO sqlalchemy.engine.Engine SHOW FULL TABLES FROM \"defaultdb\"\n"
          ]
        },
        {
          "output_type": "stream",
          "name": "stderr",
          "text": [
            "INFO:sqlalchemy.engine.Engine:SHOW FULL TABLES FROM \"defaultdb\"\n"
          ]
        },
        {
          "output_type": "stream",
          "name": "stdout",
          "text": [
            "2025-02-10 19:58:27,601 INFO sqlalchemy.engine.Engine [raw sql] ()\n"
          ]
        },
        {
          "output_type": "stream",
          "name": "stderr",
          "text": [
            "INFO:sqlalchemy.engine.Engine:[raw sql] ()\n"
          ]
        },
        {
          "output_type": "stream",
          "name": "stdout",
          "text": [
            "2025-02-10 19:58:27,849 INFO sqlalchemy.engine.Engine SHOW CREATE TABLE \"SequelizeMeta\"\n"
          ]
        },
        {
          "output_type": "stream",
          "name": "stderr",
          "text": [
            "INFO:sqlalchemy.engine.Engine:SHOW CREATE TABLE \"SequelizeMeta\"\n"
          ]
        },
        {
          "output_type": "stream",
          "name": "stdout",
          "text": [
            "2025-02-10 19:58:27,852 INFO sqlalchemy.engine.Engine [raw sql] ()\n"
          ]
        },
        {
          "output_type": "stream",
          "name": "stderr",
          "text": [
            "INFO:sqlalchemy.engine.Engine:[raw sql] ()\n"
          ]
        },
        {
          "output_type": "stream",
          "name": "stdout",
          "text": [
            "2025-02-10 19:58:28,099 INFO sqlalchemy.engine.Engine SHOW CREATE TABLE \"candidate_data\"\n"
          ]
        },
        {
          "output_type": "stream",
          "name": "stderr",
          "text": [
            "INFO:sqlalchemy.engine.Engine:SHOW CREATE TABLE \"candidate_data\"\n"
          ]
        },
        {
          "output_type": "stream",
          "name": "stdout",
          "text": [
            "2025-02-10 19:58:28,102 INFO sqlalchemy.engine.Engine [raw sql] ()\n"
          ]
        },
        {
          "output_type": "stream",
          "name": "stderr",
          "text": [
            "INFO:sqlalchemy.engine.Engine:[raw sql] ()\n"
          ]
        },
        {
          "output_type": "stream",
          "name": "stdout",
          "text": [
            "2025-02-10 19:58:28,351 INFO sqlalchemy.engine.Engine SHOW CREATE TABLE \"candidate_demographics\"\n"
          ]
        },
        {
          "output_type": "stream",
          "name": "stderr",
          "text": [
            "INFO:sqlalchemy.engine.Engine:SHOW CREATE TABLE \"candidate_demographics\"\n"
          ]
        },
        {
          "output_type": "stream",
          "name": "stdout",
          "text": [
            "2025-02-10 19:58:28,355 INFO sqlalchemy.engine.Engine [raw sql] ()\n"
          ]
        },
        {
          "output_type": "stream",
          "name": "stderr",
          "text": [
            "INFO:sqlalchemy.engine.Engine:[raw sql] ()\n"
          ]
        },
        {
          "output_type": "stream",
          "name": "stdout",
          "text": [
            "2025-02-10 19:58:28,602 INFO sqlalchemy.engine.Engine SHOW CREATE TABLE \"csrpartner_data\"\n"
          ]
        },
        {
          "output_type": "stream",
          "name": "stderr",
          "text": [
            "INFO:sqlalchemy.engine.Engine:SHOW CREATE TABLE \"csrpartner_data\"\n"
          ]
        },
        {
          "output_type": "stream",
          "name": "stdout",
          "text": [
            "2025-02-10 19:58:28,605 INFO sqlalchemy.engine.Engine [raw sql] ()\n"
          ]
        },
        {
          "output_type": "stream",
          "name": "stderr",
          "text": [
            "INFO:sqlalchemy.engine.Engine:[raw sql] ()\n"
          ]
        },
        {
          "output_type": "stream",
          "name": "stdout",
          "text": [
            "2025-02-10 19:58:28,852 INFO sqlalchemy.engine.Engine SHOW CREATE TABLE \"csrpartner_demographics\"\n"
          ]
        },
        {
          "output_type": "stream",
          "name": "stderr",
          "text": [
            "INFO:sqlalchemy.engine.Engine:SHOW CREATE TABLE \"csrpartner_demographics\"\n"
          ]
        },
        {
          "output_type": "stream",
          "name": "stdout",
          "text": [
            "2025-02-10 19:58:28,855 INFO sqlalchemy.engine.Engine [raw sql] ()\n"
          ]
        },
        {
          "output_type": "stream",
          "name": "stderr",
          "text": [
            "INFO:sqlalchemy.engine.Engine:[raw sql] ()\n"
          ]
        },
        {
          "output_type": "stream",
          "name": "stdout",
          "text": [
            "2025-02-10 19:58:29,105 INFO sqlalchemy.engine.Engine SHOW CREATE TABLE \"customer_data\"\n"
          ]
        },
        {
          "output_type": "stream",
          "name": "stderr",
          "text": [
            "INFO:sqlalchemy.engine.Engine:SHOW CREATE TABLE \"customer_data\"\n"
          ]
        },
        {
          "output_type": "stream",
          "name": "stdout",
          "text": [
            "2025-02-10 19:58:29,108 INFO sqlalchemy.engine.Engine [raw sql] ()\n"
          ]
        },
        {
          "output_type": "stream",
          "name": "stderr",
          "text": [
            "INFO:sqlalchemy.engine.Engine:[raw sql] ()\n"
          ]
        },
        {
          "output_type": "stream",
          "name": "stdout",
          "text": [
            "2025-02-10 19:58:29,356 INFO sqlalchemy.engine.Engine SHOW CREATE TABLE \"customer_demographics\"\n"
          ]
        },
        {
          "output_type": "stream",
          "name": "stderr",
          "text": [
            "INFO:sqlalchemy.engine.Engine:SHOW CREATE TABLE \"customer_demographics\"\n"
          ]
        },
        {
          "output_type": "stream",
          "name": "stdout",
          "text": [
            "2025-02-10 19:58:29,360 INFO sqlalchemy.engine.Engine [raw sql] ()\n"
          ]
        },
        {
          "output_type": "stream",
          "name": "stderr",
          "text": [
            "INFO:sqlalchemy.engine.Engine:[raw sql] ()\n"
          ]
        },
        {
          "output_type": "stream",
          "name": "stdout",
          "text": [
            "2025-02-10 19:58:29,608 INFO sqlalchemy.engine.Engine SHOW CREATE TABLE \"employee_data\"\n"
          ]
        },
        {
          "output_type": "stream",
          "name": "stderr",
          "text": [
            "INFO:sqlalchemy.engine.Engine:SHOW CREATE TABLE \"employee_data\"\n"
          ]
        },
        {
          "output_type": "stream",
          "name": "stdout",
          "text": [
            "2025-02-10 19:58:29,611 INFO sqlalchemy.engine.Engine [raw sql] ()\n"
          ]
        },
        {
          "output_type": "stream",
          "name": "stderr",
          "text": [
            "INFO:sqlalchemy.engine.Engine:[raw sql] ()\n"
          ]
        },
        {
          "output_type": "stream",
          "name": "stdout",
          "text": [
            "2025-02-10 19:58:29,858 INFO sqlalchemy.engine.Engine SHOW CREATE TABLE \"employee_demographics\"\n"
          ]
        },
        {
          "output_type": "stream",
          "name": "stderr",
          "text": [
            "INFO:sqlalchemy.engine.Engine:SHOW CREATE TABLE \"employee_demographics\"\n"
          ]
        },
        {
          "output_type": "stream",
          "name": "stdout",
          "text": [
            "2025-02-10 19:58:29,861 INFO sqlalchemy.engine.Engine [raw sql] ()\n"
          ]
        },
        {
          "output_type": "stream",
          "name": "stderr",
          "text": [
            "INFO:sqlalchemy.engine.Engine:[raw sql] ()\n"
          ]
        },
        {
          "output_type": "stream",
          "name": "stdout",
          "text": [
            "2025-02-10 19:58:30,108 INFO sqlalchemy.engine.Engine SHOW CREATE TABLE \"investor_data\"\n"
          ]
        },
        {
          "output_type": "stream",
          "name": "stderr",
          "text": [
            "INFO:sqlalchemy.engine.Engine:SHOW CREATE TABLE \"investor_data\"\n"
          ]
        },
        {
          "output_type": "stream",
          "name": "stdout",
          "text": [
            "2025-02-10 19:58:30,111 INFO sqlalchemy.engine.Engine [raw sql] ()\n"
          ]
        },
        {
          "output_type": "stream",
          "name": "stderr",
          "text": [
            "INFO:sqlalchemy.engine.Engine:[raw sql] ()\n"
          ]
        },
        {
          "output_type": "stream",
          "name": "stdout",
          "text": [
            "2025-02-10 19:58:30,358 INFO sqlalchemy.engine.Engine SHOW CREATE TABLE \"investor_demographics\"\n"
          ]
        },
        {
          "output_type": "stream",
          "name": "stderr",
          "text": [
            "INFO:sqlalchemy.engine.Engine:SHOW CREATE TABLE \"investor_demographics\"\n"
          ]
        },
        {
          "output_type": "stream",
          "name": "stdout",
          "text": [
            "2025-02-10 19:58:30,362 INFO sqlalchemy.engine.Engine [raw sql] ()\n"
          ]
        },
        {
          "output_type": "stream",
          "name": "stderr",
          "text": [
            "INFO:sqlalchemy.engine.Engine:[raw sql] ()\n"
          ]
        },
        {
          "output_type": "stream",
          "name": "stdout",
          "text": [
            "2025-02-10 19:58:30,610 INFO sqlalchemy.engine.Engine SHOW CREATE TABLE \"partner_data\"\n"
          ]
        },
        {
          "output_type": "stream",
          "name": "stderr",
          "text": [
            "INFO:sqlalchemy.engine.Engine:SHOW CREATE TABLE \"partner_data\"\n"
          ]
        },
        {
          "output_type": "stream",
          "name": "stdout",
          "text": [
            "2025-02-10 19:58:30,614 INFO sqlalchemy.engine.Engine [raw sql] ()\n"
          ]
        },
        {
          "output_type": "stream",
          "name": "stderr",
          "text": [
            "INFO:sqlalchemy.engine.Engine:[raw sql] ()\n"
          ]
        },
        {
          "output_type": "stream",
          "name": "stdout",
          "text": [
            "2025-02-10 19:58:30,862 INFO sqlalchemy.engine.Engine SHOW CREATE TABLE \"partner_demographics\"\n"
          ]
        },
        {
          "output_type": "stream",
          "name": "stderr",
          "text": [
            "INFO:sqlalchemy.engine.Engine:SHOW CREATE TABLE \"partner_demographics\"\n"
          ]
        },
        {
          "output_type": "stream",
          "name": "stdout",
          "text": [
            "2025-02-10 19:58:30,865 INFO sqlalchemy.engine.Engine [raw sql] ()\n"
          ]
        },
        {
          "output_type": "stream",
          "name": "stderr",
          "text": [
            "INFO:sqlalchemy.engine.Engine:[raw sql] ()\n"
          ]
        },
        {
          "output_type": "stream",
          "name": "stdout",
          "text": [
            "2025-02-10 19:58:31,112 INFO sqlalchemy.engine.Engine SHOW CREATE TABLE \"vendor_data\"\n"
          ]
        },
        {
          "output_type": "stream",
          "name": "stderr",
          "text": [
            "INFO:sqlalchemy.engine.Engine:SHOW CREATE TABLE \"vendor_data\"\n"
          ]
        },
        {
          "output_type": "stream",
          "name": "stdout",
          "text": [
            "2025-02-10 19:58:31,115 INFO sqlalchemy.engine.Engine [raw sql] ()\n"
          ]
        },
        {
          "output_type": "stream",
          "name": "stderr",
          "text": [
            "INFO:sqlalchemy.engine.Engine:[raw sql] ()\n"
          ]
        },
        {
          "output_type": "stream",
          "name": "stdout",
          "text": [
            "2025-02-10 19:58:31,365 INFO sqlalchemy.engine.Engine SHOW CREATE TABLE \"vendor_demographics\"\n"
          ]
        },
        {
          "output_type": "stream",
          "name": "stderr",
          "text": [
            "INFO:sqlalchemy.engine.Engine:SHOW CREATE TABLE \"vendor_demographics\"\n"
          ]
        },
        {
          "output_type": "stream",
          "name": "stdout",
          "text": [
            "2025-02-10 19:58:31,369 INFO sqlalchemy.engine.Engine [raw sql] ()\n"
          ]
        },
        {
          "output_type": "stream",
          "name": "stderr",
          "text": [
            "INFO:sqlalchemy.engine.Engine:[raw sql] ()\n"
          ]
        },
        {
          "output_type": "stream",
          "name": "stdout",
          "text": [
            "2025-02-10 19:58:31,617 INFO sqlalchemy.engine.Engine SELECT information_schema.columns.table_schema, information_schema.columns.table_name, information_schema.columns.column_name \n",
            "FROM information_schema.columns \n",
            "WHERE information_schema.columns.table_schema = %s AND information_schema.columns.table_name = %s AND lower(information_schema.columns.column_name) IN (%s)\n"
          ]
        },
        {
          "output_type": "stream",
          "name": "stderr",
          "text": [
            "INFO:sqlalchemy.engine.Engine:SELECT information_schema.columns.table_schema, information_schema.columns.table_name, information_schema.columns.column_name \n",
            "FROM information_schema.columns \n",
            "WHERE information_schema.columns.table_schema = %s AND information_schema.columns.table_name = %s AND lower(information_schema.columns.column_name) IN (%s)\n"
          ]
        },
        {
          "output_type": "stream",
          "name": "stdout",
          "text": [
            "2025-02-10 19:58:31,621 INFO sqlalchemy.engine.Engine [cached since 3281s ago] ('defaultdb', 'candidate_data', 'id')\n"
          ]
        },
        {
          "output_type": "stream",
          "name": "stderr",
          "text": [
            "INFO:sqlalchemy.engine.Engine:[cached since 3281s ago] ('defaultdb', 'candidate_data', 'id')\n"
          ]
        },
        {
          "output_type": "stream",
          "name": "stdout",
          "text": [
            "2025-02-10 19:58:31,869 INFO sqlalchemy.engine.Engine SELECT information_schema.columns.table_schema, information_schema.columns.table_name, information_schema.columns.column_name \n",
            "FROM information_schema.columns \n",
            "WHERE information_schema.columns.table_schema = %s AND information_schema.columns.table_name = %s AND lower(information_schema.columns.column_name) IN (%s)\n"
          ]
        },
        {
          "output_type": "stream",
          "name": "stderr",
          "text": [
            "INFO:sqlalchemy.engine.Engine:SELECT information_schema.columns.table_schema, information_schema.columns.table_name, information_schema.columns.column_name \n",
            "FROM information_schema.columns \n",
            "WHERE information_schema.columns.table_schema = %s AND information_schema.columns.table_name = %s AND lower(information_schema.columns.column_name) IN (%s)\n"
          ]
        },
        {
          "output_type": "stream",
          "name": "stdout",
          "text": [
            "2025-02-10 19:58:31,872 INFO sqlalchemy.engine.Engine [cached since 3282s ago] ('defaultdb', 'csrpartner_data', 'id')\n"
          ]
        },
        {
          "output_type": "stream",
          "name": "stderr",
          "text": [
            "INFO:sqlalchemy.engine.Engine:[cached since 3282s ago] ('defaultdb', 'csrpartner_data', 'id')\n"
          ]
        },
        {
          "output_type": "stream",
          "name": "stdout",
          "text": [
            "2025-02-10 19:58:32,122 INFO sqlalchemy.engine.Engine SELECT information_schema.columns.table_schema, information_schema.columns.table_name, information_schema.columns.column_name \n",
            "FROM information_schema.columns \n",
            "WHERE information_schema.columns.table_schema = %s AND information_schema.columns.table_name = %s AND lower(information_schema.columns.column_name) IN (%s)\n"
          ]
        },
        {
          "output_type": "stream",
          "name": "stderr",
          "text": [
            "INFO:sqlalchemy.engine.Engine:SELECT information_schema.columns.table_schema, information_schema.columns.table_name, information_schema.columns.column_name \n",
            "FROM information_schema.columns \n",
            "WHERE information_schema.columns.table_schema = %s AND information_schema.columns.table_name = %s AND lower(information_schema.columns.column_name) IN (%s)\n"
          ]
        },
        {
          "output_type": "stream",
          "name": "stdout",
          "text": [
            "2025-02-10 19:58:32,124 INFO sqlalchemy.engine.Engine [cached since 3282s ago] ('defaultdb', 'customer_data', 'id')\n"
          ]
        },
        {
          "output_type": "stream",
          "name": "stderr",
          "text": [
            "INFO:sqlalchemy.engine.Engine:[cached since 3282s ago] ('defaultdb', 'customer_data', 'id')\n"
          ]
        },
        {
          "output_type": "stream",
          "name": "stdout",
          "text": [
            "2025-02-10 19:58:32,373 INFO sqlalchemy.engine.Engine SELECT information_schema.columns.table_schema, information_schema.columns.table_name, information_schema.columns.column_name \n",
            "FROM information_schema.columns \n",
            "WHERE information_schema.columns.table_schema = %s AND information_schema.columns.table_name = %s AND lower(information_schema.columns.column_name) IN (%s)\n"
          ]
        },
        {
          "output_type": "stream",
          "name": "stderr",
          "text": [
            "INFO:sqlalchemy.engine.Engine:SELECT information_schema.columns.table_schema, information_schema.columns.table_name, information_schema.columns.column_name \n",
            "FROM information_schema.columns \n",
            "WHERE information_schema.columns.table_schema = %s AND information_schema.columns.table_name = %s AND lower(information_schema.columns.column_name) IN (%s)\n"
          ]
        },
        {
          "output_type": "stream",
          "name": "stdout",
          "text": [
            "2025-02-10 19:58:32,378 INFO sqlalchemy.engine.Engine [cached since 3282s ago] ('defaultdb', 'employee_data', 'id')\n"
          ]
        },
        {
          "output_type": "stream",
          "name": "stderr",
          "text": [
            "INFO:sqlalchemy.engine.Engine:[cached since 3282s ago] ('defaultdb', 'employee_data', 'id')\n"
          ]
        },
        {
          "output_type": "stream",
          "name": "stdout",
          "text": [
            "2025-02-10 19:58:32,629 INFO sqlalchemy.engine.Engine SELECT information_schema.columns.table_schema, information_schema.columns.table_name, information_schema.columns.column_name \n",
            "FROM information_schema.columns \n",
            "WHERE information_schema.columns.table_schema = %s AND information_schema.columns.table_name = %s AND lower(information_schema.columns.column_name) IN (%s)\n"
          ]
        },
        {
          "output_type": "stream",
          "name": "stderr",
          "text": [
            "INFO:sqlalchemy.engine.Engine:SELECT information_schema.columns.table_schema, information_schema.columns.table_name, information_schema.columns.column_name \n",
            "FROM information_schema.columns \n",
            "WHERE information_schema.columns.table_schema = %s AND information_schema.columns.table_name = %s AND lower(information_schema.columns.column_name) IN (%s)\n"
          ]
        },
        {
          "output_type": "stream",
          "name": "stdout",
          "text": [
            "2025-02-10 19:58:32,632 INFO sqlalchemy.engine.Engine [cached since 3282s ago] ('defaultdb', 'investor_data', 'id')\n"
          ]
        },
        {
          "output_type": "stream",
          "name": "stderr",
          "text": [
            "INFO:sqlalchemy.engine.Engine:[cached since 3282s ago] ('defaultdb', 'investor_data', 'id')\n"
          ]
        },
        {
          "output_type": "stream",
          "name": "stdout",
          "text": [
            "2025-02-10 19:58:32,882 INFO sqlalchemy.engine.Engine SELECT information_schema.columns.table_schema, information_schema.columns.table_name, information_schema.columns.column_name \n",
            "FROM information_schema.columns \n",
            "WHERE information_schema.columns.table_schema = %s AND information_schema.columns.table_name = %s AND lower(information_schema.columns.column_name) IN (%s)\n"
          ]
        },
        {
          "output_type": "stream",
          "name": "stderr",
          "text": [
            "INFO:sqlalchemy.engine.Engine:SELECT information_schema.columns.table_schema, information_schema.columns.table_name, information_schema.columns.column_name \n",
            "FROM information_schema.columns \n",
            "WHERE information_schema.columns.table_schema = %s AND information_schema.columns.table_name = %s AND lower(information_schema.columns.column_name) IN (%s)\n"
          ]
        },
        {
          "output_type": "stream",
          "name": "stdout",
          "text": [
            "2025-02-10 19:58:32,886 INFO sqlalchemy.engine.Engine [cached since 3283s ago] ('defaultdb', 'partner_data', 'id')\n"
          ]
        },
        {
          "output_type": "stream",
          "name": "stderr",
          "text": [
            "INFO:sqlalchemy.engine.Engine:[cached since 3283s ago] ('defaultdb', 'partner_data', 'id')\n"
          ]
        },
        {
          "output_type": "stream",
          "name": "stdout",
          "text": [
            "2025-02-10 19:58:33,136 INFO sqlalchemy.engine.Engine SELECT information_schema.columns.table_schema, information_schema.columns.table_name, information_schema.columns.column_name \n",
            "FROM information_schema.columns \n",
            "WHERE information_schema.columns.table_schema = %s AND information_schema.columns.table_name = %s AND lower(information_schema.columns.column_name) IN (%s)\n"
          ]
        },
        {
          "output_type": "stream",
          "name": "stderr",
          "text": [
            "INFO:sqlalchemy.engine.Engine:SELECT information_schema.columns.table_schema, information_schema.columns.table_name, information_schema.columns.column_name \n",
            "FROM information_schema.columns \n",
            "WHERE information_schema.columns.table_schema = %s AND information_schema.columns.table_name = %s AND lower(information_schema.columns.column_name) IN (%s)\n"
          ]
        },
        {
          "output_type": "stream",
          "name": "stdout",
          "text": [
            "2025-02-10 19:58:33,138 INFO sqlalchemy.engine.Engine [cached since 3283s ago] ('defaultdb', 'vendor_data', 'id')\n"
          ]
        },
        {
          "output_type": "stream",
          "name": "stderr",
          "text": [
            "INFO:sqlalchemy.engine.Engine:[cached since 3283s ago] ('defaultdb', 'vendor_data', 'id')\n"
          ]
        },
        {
          "output_type": "stream",
          "name": "stdout",
          "text": [
            "2025-02-10 19:58:33,401 INFO sqlalchemy.engine.Engine COMMIT\n"
          ]
        },
        {
          "output_type": "stream",
          "name": "stderr",
          "text": [
            "INFO:sqlalchemy.engine.Engine:COMMIT\n"
          ]
        },
        {
          "output_type": "stream",
          "name": "stdout",
          "text": [
            "2025-02-10 19:58:36,361 INFO sqlalchemy.engine.Engine BEGIN (implicit)\n"
          ]
        },
        {
          "output_type": "stream",
          "name": "stderr",
          "text": [
            "INFO:sqlalchemy.engine.Engine:BEGIN (implicit)\n"
          ]
        },
        {
          "output_type": "stream",
          "name": "stdout",
          "text": [
            "2025-02-10 19:58:36,366 INFO sqlalchemy.engine.Engine SELECT `feedback`, `suggestions` FROM `customer_data` WHERE `diagnostic_id` = '670c9d8043060aec0379fdd6' AND (`feedback` IS NOT NULL AND `feedback` NOT IN ('', 'N/A')) AND (`suggestions` IS NOT NULL AND `suggestions` NOT IN ('', 'N/A')) ORDER BY `feedback`, `suggestions`;\n"
          ]
        },
        {
          "output_type": "stream",
          "name": "stderr",
          "text": [
            "INFO:sqlalchemy.engine.Engine:SELECT `feedback`, `suggestions` FROM `customer_data` WHERE `diagnostic_id` = '670c9d8043060aec0379fdd6' AND (`feedback` IS NOT NULL AND `feedback` NOT IN ('', 'N/A')) AND (`suggestions` IS NOT NULL AND `suggestions` NOT IN ('', 'N/A')) ORDER BY `feedback`, `suggestions`;\n"
          ]
        },
        {
          "output_type": "stream",
          "name": "stdout",
          "text": [
            "2025-02-10 19:58:36,371 INFO sqlalchemy.engine.Engine [generated in 0.00568s] ()\n"
          ]
        },
        {
          "output_type": "stream",
          "name": "stderr",
          "text": [
            "INFO:sqlalchemy.engine.Engine:[generated in 0.00568s] ()\n"
          ]
        },
        {
          "output_type": "stream",
          "name": "stdout",
          "text": [
            "2025-02-10 19:58:36,625 INFO sqlalchemy.engine.Engine COMMIT\n"
          ]
        },
        {
          "output_type": "stream",
          "name": "stderr",
          "text": [
            "INFO:sqlalchemy.engine.Engine:COMMIT\n"
          ]
        },
        {
          "output_type": "stream",
          "name": "stdout",
          "text": [
            "fr\n",
            "cv\n",
            "fre\n",
            "cve\n"
          ]
        }
      ]
    },
    {
      "cell_type": "code",
      "source": [
        "print(out[\"answer\"])"
      ],
      "metadata": {
        "colab": {
          "base_uri": "https://localhost:8080/"
        },
        "id": "n-YMnSQ_ETWy",
        "outputId": "557c825c-0515-4645-fcd7-9655e819fdeb"
      },
      "execution_count": 230,
      "outputs": [
        {
          "output_type": "stream",
          "name": "stdout",
          "text": [
            "The query results do not provide any meaningful insights related to the user's question about top insights provided by customers. The results only contain repeated tuples with the phrase \"good boi\", which does not seem relevant to the requested information.\n"
          ]
        }
      ]
    },
    {
      "cell_type": "code",
      "source": [
        "from pyngrok import ngrok\n",
        "\n",
        "!ngrok authtoken ''"
      ],
      "metadata": {
        "colab": {
          "base_uri": "https://localhost:8080/"
        },
        "id": "usG4VEKfMFIJ",
        "outputId": "f63afd70-09ae-4554-c21a-0cb1fbeef69a"
      },
      "execution_count": null,
      "outputs": [
        {
          "output_type": "stream",
          "name": "stdout",
          "text": [
            "Authtoken saved to configuration file: /root/.config/ngrok/ngrok.yml\n"
          ]
        }
      ]
    },
    {
      "cell_type": "code",
      "source": [
        "!pip install flask_cors"
      ],
      "metadata": {
        "colab": {
          "base_uri": "https://localhost:8080/"
        },
        "id": "Iwd7HPgFWzhK",
        "outputId": "ab38b375-c2e6-4cf0-ce03-54373ea6351f"
      },
      "execution_count": null,
      "outputs": [
        {
          "output_type": "stream",
          "name": "stdout",
          "text": [
            "Collecting flask_cors\n",
            "  Downloading Flask_Cors-5.0.0-py2.py3-none-any.whl.metadata (5.5 kB)\n",
            "Requirement already satisfied: Flask>=0.9 in /usr/local/lib/python3.11/dist-packages (from flask_cors) (3.1.0)\n",
            "Requirement already satisfied: Werkzeug>=3.1 in /usr/local/lib/python3.11/dist-packages (from Flask>=0.9->flask_cors) (3.1.3)\n",
            "Requirement already satisfied: Jinja2>=3.1.2 in /usr/local/lib/python3.11/dist-packages (from Flask>=0.9->flask_cors) (3.1.5)\n",
            "Requirement already satisfied: itsdangerous>=2.2 in /usr/local/lib/python3.11/dist-packages (from Flask>=0.9->flask_cors) (2.2.0)\n",
            "Requirement already satisfied: click>=8.1.3 in /usr/local/lib/python3.11/dist-packages (from Flask>=0.9->flask_cors) (8.1.8)\n",
            "Requirement already satisfied: blinker>=1.9 in /usr/local/lib/python3.11/dist-packages (from Flask>=0.9->flask_cors) (1.9.0)\n",
            "Requirement already satisfied: MarkupSafe>=2.0 in /usr/local/lib/python3.11/dist-packages (from Jinja2>=3.1.2->Flask>=0.9->flask_cors) (3.0.2)\n",
            "Downloading Flask_Cors-5.0.0-py2.py3-none-any.whl (14 kB)\n",
            "Installing collected packages: flask_cors\n",
            "Successfully installed flask_cors-5.0.0\n"
          ]
        }
      ]
    },
    {
      "cell_type": "code",
      "source": [
        "from flask import Flask, request, jsonify\n",
        "import asyncio\n",
        "from pyngrok import ngrok\n",
        "from flask_cors import CORS\n",
        "\n",
        "app = Flask(__name__)\n",
        "CORS(app)\n",
        "\n",
        "port = 6070\n",
        "public_url = ngrok.connect(port, \"http\")\n",
        "print(f\"Public URL: {public_url}\")\n",
        "\n",
        "@app.route(\"/dashboardAgent\", methods=[\"POST\"])\n",
        "def dashboard_agent():\n",
        "    data = request.get_json()\n",
        "    prompt = data.get(\"prompt\")\n",
        "    question = f\"{prompt}.The table to look upon in Database belongs to stakeholder {stakeholder}\"\n",
        "    result = asyncio.run(runnable.ainvoke({\"question\": question, \"diagnostic_id\": \"670d7bb908cd96a9c3b69aaf\"}))\n",
        "    return jsonify({\"data\":result[\"formatted_data_for_visualization\"],\"visualization\":result[\"visualization\"],\"answer\":result[\"answer\"],\"sql_query\":result[\"sql_query\"]})\n",
        "\n",
        "app.run(port=port)\n"
      ],
      "metadata": {
        "colab": {
          "base_uri": "https://localhost:8080/"
        },
        "id": "8wcoIu2IKssS",
        "outputId": "88808aa8-272d-4906-fd40-eaa585122448"
      },
      "execution_count": null,
      "outputs": [
        {
          "output_type": "stream",
          "name": "stdout",
          "text": [
            "Public URL: NgrokTunnel: \"https://11c3-34-16-175-19.ngrok-free.app\" -> \"http://localhost:6070\"\n",
            " * Serving Flask app '__main__'\n",
            " * Debug mode: off\n"
          ]
        },
        {
          "output_type": "stream",
          "name": "stderr",
          "text": [
            "INFO:werkzeug:\u001b[31m\u001b[1mWARNING: This is a development server. Do not use it in a production deployment. Use a production WSGI server instead.\u001b[0m\n",
            " * Running on http://127.0.0.1:6070\n",
            "INFO:werkzeug:\u001b[33mPress CTRL+C to quit\u001b[0m\n",
            "INFO:werkzeug:127.0.0.1 - - [10/Feb/2025 14:56:27] \"OPTIONS /dashboardAgent HTTP/1.1\" 200 -\n",
            "INFO:werkzeug:127.0.0.1 - - [10/Feb/2025 14:56:27] \"OPTIONS /dashboardAgent HTTP/1.1\" 200 -\n"
          ]
        },
        {
          "output_type": "stream",
          "name": "stdout",
          "text": [
            "2025-02-10 14:56:28,025 INFO sqlalchemy.engine.Engine BEGIN (implicit)\n"
          ]
        },
        {
          "output_type": "stream",
          "name": "stderr",
          "text": [
            "INFO:sqlalchemy.engine.Engine:BEGIN (implicit)\n"
          ]
        },
        {
          "output_type": "stream",
          "name": "stdout",
          "text": [
            "2025-02-10 14:56:28,034 INFO sqlalchemy.engine.Engine SHOW FULL TABLES FROM \"defaultdb\"\n"
          ]
        },
        {
          "output_type": "stream",
          "name": "stderr",
          "text": [
            "INFO:sqlalchemy.engine.Engine:SHOW FULL TABLES FROM \"defaultdb\"\n"
          ]
        },
        {
          "output_type": "stream",
          "name": "stdout",
          "text": [
            "2025-02-10 14:56:28,040 INFO sqlalchemy.engine.Engine [raw sql] ()\n"
          ]
        },
        {
          "output_type": "stream",
          "name": "stderr",
          "text": [
            "INFO:sqlalchemy.engine.Engine:[raw sql] ()\n"
          ]
        },
        {
          "output_type": "stream",
          "name": "stdout",
          "text": [
            "2025-02-10 14:56:28,048 INFO sqlalchemy.engine.Engine ROLLBACK\n"
          ]
        },
        {
          "output_type": "stream",
          "name": "stderr",
          "text": [
            "INFO:sqlalchemy.engine.Engine:ROLLBACK\n",
            "ERROR:sqlalchemy.pool.impl.AsyncAdaptedQueuePool:Exception during reset or similar\n",
            "Traceback (most recent call last):\n",
            "  File \"/usr/local/lib/python3.11/dist-packages/sqlalchemy/pool/base.py\", line 986, in _finalize_fairy\n",
            "    fairy._reset(\n",
            "  File \"/usr/local/lib/python3.11/dist-packages/sqlalchemy/pool/base.py\", line 1432, in _reset\n",
            "    pool._dialect.do_rollback(self)\n",
            "  File \"/usr/local/lib/python3.11/dist-packages/sqlalchemy/engine/default.py\", line 700, in do_rollback\n",
            "    dbapi_connection.rollback()\n",
            "  File \"/usr/local/lib/python3.11/dist-packages/sqlalchemy/dialects/mysql/aiomysql.py\", line 203, in rollback\n",
            "    self.await_(self._connection.rollback())\n",
            "  File \"/usr/local/lib/python3.11/dist-packages/sqlalchemy/util/_concurrency_py3k.py\", line 132, in await_only\n",
            "    return current.parent.switch(awaitable)  # type: ignore[no-any-return,attr-defined] # noqa: E501\n",
            "           ^^^^^^^^^^^^^^^^^^^^^^^^^^^^^^^^\n",
            "  File \"/usr/local/lib/python3.11/dist-packages/sqlalchemy/util/_concurrency_py3k.py\", line 196, in greenlet_spawn\n",
            "    value = await result\n",
            "            ^^^^^^^^^^^^\n",
            "  File \"/usr/local/lib/python3.11/dist-packages/aiomysql/connection.py\", line 399, in rollback\n",
            "    await self._read_ok_packet()\n",
            "  File \"/usr/local/lib/python3.11/dist-packages/aiomysql/connection.py\", line 372, in _read_ok_packet\n",
            "    pkt = await self._read_packet()\n",
            "          ^^^^^^^^^^^^^^^^^^^^^^^^^\n",
            "  File \"/usr/local/lib/python3.11/dist-packages/aiomysql/connection.py\", line 609, in _read_packet\n",
            "    packet_header = await self._read_bytes(4)\n",
            "                    ^^^^^^^^^^^^^^^^^^^^^^^^^\n",
            "  File \"/usr/local/lib/python3.11/dist-packages/aiomysql/connection.py\", line 657, in _read_bytes\n",
            "    data = await self._reader.readexactly(num_bytes)\n",
            "           ^^^^^^^^^^^^^^^^^^^^^^^^^^^^^^^^^^^^^^^^^\n",
            "  File \"/usr/lib/python3.11/asyncio/streams.py\", line 750, in readexactly\n",
            "    await self._wait_for_data('readexactly')\n",
            "  File \"/usr/lib/python3.11/asyncio/streams.py\", line 543, in _wait_for_data\n",
            "    await self._waiter\n",
            "RuntimeError: Task <Task pending name='Task-1467' coro=<AsyncConnection.close() running at /usr/local/lib/python3.11/dist-packages/sqlalchemy/ext/asyncio/engine.py:482> cb=[shield.<locals>._inner_done_callback() at /usr/lib/python3.11/asyncio/tasks.py:891]> got Future <Future pending> attached to a different loop\n",
            "ERROR:sqlalchemy.pool.impl.AsyncAdaptedQueuePool:Exception terminating connection <AdaptedConnection <aiomysql.connection.Connection object at 0x7e04ee0fe7d0>>\n",
            "Traceback (most recent call last):\n",
            "  File \"/usr/local/lib/python3.11/dist-packages/sqlalchemy/pool/base.py\", line 986, in _finalize_fairy\n",
            "    fairy._reset(\n",
            "  File \"/usr/local/lib/python3.11/dist-packages/sqlalchemy/pool/base.py\", line 1432, in _reset\n",
            "    pool._dialect.do_rollback(self)\n",
            "  File \"/usr/local/lib/python3.11/dist-packages/sqlalchemy/engine/default.py\", line 700, in do_rollback\n",
            "    dbapi_connection.rollback()\n",
            "  File \"/usr/local/lib/python3.11/dist-packages/sqlalchemy/dialects/mysql/aiomysql.py\", line 203, in rollback\n",
            "    self.await_(self._connection.rollback())\n",
            "  File \"/usr/local/lib/python3.11/dist-packages/sqlalchemy/util/_concurrency_py3k.py\", line 132, in await_only\n",
            "    return current.parent.switch(awaitable)  # type: ignore[no-any-return,attr-defined] # noqa: E501\n",
            "           ^^^^^^^^^^^^^^^^^^^^^^^^^^^^^^^^\n",
            "  File \"/usr/local/lib/python3.11/dist-packages/sqlalchemy/util/_concurrency_py3k.py\", line 196, in greenlet_spawn\n",
            "    value = await result\n",
            "            ^^^^^^^^^^^^\n",
            "  File \"/usr/local/lib/python3.11/dist-packages/aiomysql/connection.py\", line 399, in rollback\n",
            "    await self._read_ok_packet()\n",
            "  File \"/usr/local/lib/python3.11/dist-packages/aiomysql/connection.py\", line 372, in _read_ok_packet\n",
            "    pkt = await self._read_packet()\n",
            "          ^^^^^^^^^^^^^^^^^^^^^^^^^\n",
            "  File \"/usr/local/lib/python3.11/dist-packages/aiomysql/connection.py\", line 609, in _read_packet\n",
            "    packet_header = await self._read_bytes(4)\n",
            "                    ^^^^^^^^^^^^^^^^^^^^^^^^^\n",
            "  File \"/usr/local/lib/python3.11/dist-packages/aiomysql/connection.py\", line 657, in _read_bytes\n",
            "    data = await self._reader.readexactly(num_bytes)\n",
            "           ^^^^^^^^^^^^^^^^^^^^^^^^^^^^^^^^^^^^^^^^^\n",
            "  File \"/usr/lib/python3.11/asyncio/streams.py\", line 750, in readexactly\n",
            "    await self._wait_for_data('readexactly')\n",
            "  File \"/usr/lib/python3.11/asyncio/streams.py\", line 543, in _wait_for_data\n",
            "    await self._waiter\n",
            "RuntimeError: Task <Task pending name='Task-1467' coro=<AsyncConnection.close() running at /usr/local/lib/python3.11/dist-packages/sqlalchemy/ext/asyncio/engine.py:482> cb=[shield.<locals>._inner_done_callback() at /usr/lib/python3.11/asyncio/tasks.py:891]> got Future <Future pending> attached to a different loop\n",
            "\n",
            "During handling of the above exception, another exception occurred:\n",
            "\n",
            "Traceback (most recent call last):\n",
            "  File \"/usr/local/lib/python3.11/dist-packages/sqlalchemy/pool/base.py\", line 374, in _close_connection\n",
            "    self._dialect.do_terminate(connection)\n",
            "  File \"/usr/local/lib/python3.11/dist-packages/sqlalchemy/dialects/mysql/aiomysql.py\", line 312, in do_terminate\n",
            "    dbapi_connection.terminate()\n",
            "  File \"/usr/local/lib/python3.11/dist-packages/sqlalchemy/dialects/mysql/aiomysql.py\", line 210, in terminate\n",
            "    self._connection.close()\n",
            "  File \"/usr/local/lib/python3.11/dist-packages/aiomysql/connection.py\", line 339, in close\n",
            "    self._writer.transport.close()\n",
            "  File \"/usr/lib/python3.11/asyncio/selector_events.py\", line 864, in close\n",
            "    self._loop.call_soon(self._call_connection_lost, None)\n",
            "  File \"/usr/lib/python3.11/asyncio/base_events.py\", line 762, in call_soon\n",
            "    self._check_closed()\n",
            "  File \"/usr/lib/python3.11/asyncio/base_events.py\", line 520, in _check_closed\n",
            "    raise RuntimeError('Event loop is closed')\n",
            "RuntimeError: Event loop is closed\n",
            "ERROR:__main__:Exception on /dashboardAgent [POST]\n",
            "Traceback (most recent call last):\n",
            "  File \"/usr/local/lib/python3.11/dist-packages/sqlalchemy/ext/asyncio/engine.py\", line 1066, in begin\n",
            "    yield conn\n",
            "  File \"<ipython-input-9-91afecc331e2>\", line 22, in get_schema\n",
            "    await conn.run_sync(metadata.reflect)\n",
            "  File \"/usr/local/lib/python3.11/dist-packages/sqlalchemy/ext/asyncio/engine.py\", line 887, in run_sync\n",
            "    return await greenlet_spawn(\n",
            "           ^^^^^^^^^^^^^^^^^^^^^\n",
            "  File \"/usr/local/lib/python3.11/dist-packages/sqlalchemy/util/_concurrency_py3k.py\", line 201, in greenlet_spawn\n",
            "    result = context.throw(*sys.exc_info())\n",
            "             ^^^^^^^^^^^^^^^^^^^^^^^^^^^^^^\n",
            "  File \"/usr/local/lib/python3.11/dist-packages/sqlalchemy/sql/schema.py\", line 5812, in reflect\n",
            "    insp.get_table_names(schema)\n",
            "  File \"/usr/local/lib/python3.11/dist-packages/sqlalchemy/engine/reflection.py\", line 406, in get_table_names\n",
            "    return self.dialect.get_table_names(\n",
            "           ^^^^^^^^^^^^^^^^^^^^^^^^^^^^^\n",
            "  File \"<string>\", line 2, in get_table_names\n",
            "  File \"/usr/local/lib/python3.11/dist-packages/sqlalchemy/engine/reflection.py\", line 106, in cache\n",
            "    ret = fn(self, con, *args, **kw)\n",
            "          ^^^^^^^^^^^^^^^^^^^^^^^^^^\n",
            "  File \"/usr/local/lib/python3.11/dist-packages/sqlalchemy/dialects/mysql/base.py\", line 2997, in get_table_names\n",
            "    rp = connection.exec_driver_sql(\n",
            "         ^^^^^^^^^^^^^^^^^^^^^^^^^^^\n",
            "  File \"/usr/local/lib/python3.11/dist-packages/sqlalchemy/engine/base.py\", line 1776, in exec_driver_sql\n",
            "    ret = self._execute_context(\n",
            "          ^^^^^^^^^^^^^^^^^^^^^^\n",
            "  File \"/usr/local/lib/python3.11/dist-packages/sqlalchemy/engine/base.py\", line 1843, in _execute_context\n",
            "    return self._exec_single_context(\n",
            "           ^^^^^^^^^^^^^^^^^^^^^^^^^^\n",
            "  File \"/usr/local/lib/python3.11/dist-packages/sqlalchemy/engine/base.py\", line 1983, in _exec_single_context\n",
            "    self._handle_dbapi_exception(\n",
            "  File \"/usr/local/lib/python3.11/dist-packages/sqlalchemy/engine/base.py\", line 2355, in _handle_dbapi_exception\n",
            "    raise exc_info[1].with_traceback(exc_info[2])\n",
            "  File \"/usr/local/lib/python3.11/dist-packages/sqlalchemy/engine/base.py\", line 1964, in _exec_single_context\n",
            "    self.dialect.do_execute(\n",
            "  File \"/usr/local/lib/python3.11/dist-packages/sqlalchemy/engine/default.py\", line 942, in do_execute\n",
            "    cursor.execute(statement, parameters)\n",
            "  File \"/usr/local/lib/python3.11/dist-packages/sqlalchemy/dialects/mysql/aiomysql.py\", line 97, in execute\n",
            "    return self.await_(self._execute_async(operation, parameters))\n",
            "           ^^^^^^^^^^^^^^^^^^^^^^^^^^^^^^^^^^^^^^^^^^^^^^^^^^^^^^^\n",
            "  File \"/usr/local/lib/python3.11/dist-packages/sqlalchemy/util/_concurrency_py3k.py\", line 132, in await_only\n",
            "    return current.parent.switch(awaitable)  # type: ignore[no-any-return,attr-defined] # noqa: E501\n",
            "           ^^^^^^^^^^^^^^^^^^^^^^^^^^^^^^^^\n",
            "  File \"/usr/local/lib/python3.11/dist-packages/sqlalchemy/util/_concurrency_py3k.py\", line 196, in greenlet_spawn\n",
            "    value = await result\n",
            "            ^^^^^^^^^^^^\n",
            "  File \"/usr/local/lib/python3.11/dist-packages/sqlalchemy/dialects/mysql/aiomysql.py\", line 106, in _execute_async\n",
            "    result = await self._cursor.execute(operation, parameters)\n",
            "             ^^^^^^^^^^^^^^^^^^^^^^^^^^^^^^^^^^^^^^^^^^^^^^^^^\n",
            "  File \"/usr/local/lib/python3.11/dist-packages/aiomysql/cursors.py\", line 239, in execute\n",
            "    await self._query(query)\n",
            "  File \"/usr/local/lib/python3.11/dist-packages/aiomysql/cursors.py\", line 457, in _query\n",
            "    await conn.query(q)\n",
            "  File \"/usr/local/lib/python3.11/dist-packages/aiomysql/connection.py\", line 469, in query\n",
            "    await self._read_query_result(unbuffered=unbuffered)\n",
            "  File \"/usr/local/lib/python3.11/dist-packages/aiomysql/connection.py\", line 683, in _read_query_result\n",
            "    await result.read()\n",
            "  File \"/usr/local/lib/python3.11/dist-packages/aiomysql/connection.py\", line 1164, in read\n",
            "    first_packet = await self.connection._read_packet()\n",
            "                   ^^^^^^^^^^^^^^^^^^^^^^^^^^^^^^^^^^^^\n",
            "  File \"/usr/local/lib/python3.11/dist-packages/aiomysql/connection.py\", line 609, in _read_packet\n",
            "    packet_header = await self._read_bytes(4)\n",
            "                    ^^^^^^^^^^^^^^^^^^^^^^^^^\n",
            "  File \"/usr/local/lib/python3.11/dist-packages/aiomysql/connection.py\", line 657, in _read_bytes\n",
            "    data = await self._reader.readexactly(num_bytes)\n",
            "           ^^^^^^^^^^^^^^^^^^^^^^^^^^^^^^^^^^^^^^^^^\n",
            "  File \"/usr/lib/python3.11/asyncio/streams.py\", line 750, in readexactly\n",
            "    await self._wait_for_data('readexactly')\n",
            "  File \"/usr/lib/python3.11/asyncio/streams.py\", line 543, in _wait_for_data\n",
            "    await self._waiter\n",
            "RuntimeError: Task <Task pending name='Task-1457' coro=<parse_question() running at <ipython-input-12-fa7a0aee7706>:10> cb=[Task.task_wakeup()]> got Future <Future pending> attached to a different loop\n",
            "\n",
            "During handling of the above exception, another exception occurred:\n",
            "\n",
            "Traceback (most recent call last):\n",
            "  File \"/usr/local/lib/python3.11/dist-packages/flask/app.py\", line 1511, in wsgi_app\n",
            "    response = self.full_dispatch_request()\n",
            "               ^^^^^^^^^^^^^^^^^^^^^^^^^^^^\n",
            "  File \"/usr/local/lib/python3.11/dist-packages/flask/app.py\", line 919, in full_dispatch_request\n",
            "    rv = self.handle_user_exception(e)\n",
            "         ^^^^^^^^^^^^^^^^^^^^^^^^^^^^^\n",
            "  File \"/usr/local/lib/python3.11/dist-packages/flask_cors/extension.py\", line 194, in wrapped_function\n",
            "    return cors_after_request(app.make_response(f(*args, **kwargs)))\n",
            "                                                ^^^^^^^^^^^^^^^^^^\n",
            "  File \"/usr/local/lib/python3.11/dist-packages/flask/app.py\", line 917, in full_dispatch_request\n",
            "    rv = self.dispatch_request()\n",
            "         ^^^^^^^^^^^^^^^^^^^^^^^\n",
            "  File \"/usr/local/lib/python3.11/dist-packages/flask/app.py\", line 902, in dispatch_request\n",
            "    return self.ensure_sync(self.view_functions[rule.endpoint])(**view_args)  # type: ignore[no-any-return]\n",
            "           ^^^^^^^^^^^^^^^^^^^^^^^^^^^^^^^^^^^^^^^^^^^^^^^^^^^^^^^^^^^^^^^^^\n",
            "  File \"<ipython-input-67-29875ed07a0a>\", line 18, in dashboard_agent\n",
            "    result = asyncio.run(runnable.ainvoke({\"question\": question, \"diagnostic_id\": \"670d7bb908cd96a9c3b69aaf\"}))\n",
            "             ^^^^^^^^^^^^^^^^^^^^^^^^^^^^^^^^^^^^^^^^^^^^^^^^^^^^^^^^^^^^^^^^^^^^^^^^^^^^^^^^^^^^^^^^^^^^^^^^^^\n",
            "  File \"/usr/lib/python3.11/asyncio/runners.py\", line 190, in run\n",
            "    return runner.run(main)\n",
            "           ^^^^^^^^^^^^^^^^\n",
            "  File \"/usr/lib/python3.11/asyncio/runners.py\", line 118, in run\n",
            "    return self._loop.run_until_complete(task)\n",
            "           ^^^^^^^^^^^^^^^^^^^^^^^^^^^^^^^^^^^\n",
            "  File \"/usr/lib/python3.11/asyncio/base_events.py\", line 654, in run_until_complete\n",
            "    return future.result()\n",
            "           ^^^^^^^^^^^^^^^\n",
            "  File \"/usr/local/lib/python3.11/dist-packages/langgraph/pregel/__init__.py\", line 2122, in ainvoke\n",
            "    async for chunk in self.astream(\n",
            "  File \"/usr/local/lib/python3.11/dist-packages/langgraph/pregel/__init__.py\", line 2007, in astream\n",
            "    async for _ in runner.atick(\n",
            "  File \"/usr/local/lib/python3.11/dist-packages/langgraph/pregel/runner.py\", line 444, in atick\n",
            "    await arun_with_retry(\n",
            "  File \"/usr/local/lib/python3.11/dist-packages/langgraph/pregel/retry.py\", line 128, in arun_with_retry\n",
            "    return await task.proc.ainvoke(task.input, config)\n",
            "           ^^^^^^^^^^^^^^^^^^^^^^^^^^^^^^^^^^^^^^^^^^^\n",
            "  File \"/usr/local/lib/python3.11/dist-packages/langgraph/utils/runnable.py\", line 543, in ainvoke\n",
            "    input = await step.ainvoke(input, config, **kwargs)\n",
            "            ^^^^^^^^^^^^^^^^^^^^^^^^^^^^^^^^^^^^^^^^^^^\n",
            "  File \"/usr/local/lib/python3.11/dist-packages/langgraph/utils/runnable.py\", line 331, in ainvoke\n",
            "    ret = await asyncio.create_task(coro, context=context)\n",
            "          ^^^^^^^^^^^^^^^^^^^^^^^^^^^^^^^^^^^^^^^^^^^^^^^^\n",
            "  File \"<ipython-input-12-fa7a0aee7706>\", line 10, in parse_question\n",
            "    schema = await db_manager.get_schema()\n",
            "             ^^^^^^^^^^^^^^^^^^^^^^^^^^^^^\n",
            "  File \"<ipython-input-9-91afecc331e2>\", line 20, in get_schema\n",
            "    async with self.engine.begin() as conn:\n",
            "  File \"/usr/lib/python3.11/contextlib.py\", line 231, in __aexit__\n",
            "    await self.gen.athrow(typ, value, traceback)\n",
            "  File \"/usr/local/lib/python3.11/dist-packages/sqlalchemy/ext/asyncio/engine.py\", line 1065, in begin\n",
            "    async with conn.begin():\n",
            "  File \"/usr/local/lib/python3.11/dist-packages/sqlalchemy/util/_concurrency_py3k.py\", line 201, in greenlet_spawn\n",
            "    result = context.throw(*sys.exc_info())\n",
            "             ^^^^^^^^^^^^^^^^^^^^^^^^^^^^^^\n",
            "  File \"/usr/local/lib/python3.11/dist-packages/sqlalchemy/engine/util.py\", line 162, in __exit__\n",
            "    self.rollback()\n",
            "  File \"/usr/local/lib/python3.11/dist-packages/sqlalchemy/engine/base.py\", line 2608, in rollback\n",
            "    self._do_rollback()\n",
            "  File \"/usr/local/lib/python3.11/dist-packages/sqlalchemy/engine/base.py\", line 2727, in _do_rollback\n",
            "    self._close_impl(try_deactivate=True)\n",
            "  File \"/usr/local/lib/python3.11/dist-packages/sqlalchemy/engine/base.py\", line 2710, in _close_impl\n",
            "    self._connection_rollback_impl()\n",
            "  File \"/usr/local/lib/python3.11/dist-packages/sqlalchemy/engine/base.py\", line 2702, in _connection_rollback_impl\n",
            "    self.connection._rollback_impl()\n",
            "  File \"/usr/local/lib/python3.11/dist-packages/sqlalchemy/engine/base.py\", line 1127, in _rollback_impl\n",
            "    self._handle_dbapi_exception(e, None, None, None, None)\n",
            "  File \"/usr/local/lib/python3.11/dist-packages/sqlalchemy/engine/base.py\", line 2355, in _handle_dbapi_exception\n",
            "    raise exc_info[1].with_traceback(exc_info[2])\n",
            "  File \"/usr/local/lib/python3.11/dist-packages/sqlalchemy/engine/base.py\", line 1125, in _rollback_impl\n",
            "    self.engine.dialect.do_rollback(self.connection)\n",
            "  File \"/usr/local/lib/python3.11/dist-packages/sqlalchemy/engine/default.py\", line 700, in do_rollback\n",
            "    dbapi_connection.rollback()\n",
            "  File \"/usr/local/lib/python3.11/dist-packages/sqlalchemy/dialects/mysql/aiomysql.py\", line 203, in rollback\n",
            "    self.await_(self._connection.rollback())\n",
            "  File \"/usr/local/lib/python3.11/dist-packages/sqlalchemy/util/_concurrency_py3k.py\", line 132, in await_only\n",
            "    return current.parent.switch(awaitable)  # type: ignore[no-any-return,attr-defined] # noqa: E501\n",
            "           ^^^^^^^^^^^^^^^^^^^^^^^^^^^^^^^^\n",
            "  File \"/usr/local/lib/python3.11/dist-packages/sqlalchemy/util/_concurrency_py3k.py\", line 196, in greenlet_spawn\n",
            "    value = await result\n",
            "            ^^^^^^^^^^^^\n",
            "  File \"/usr/local/lib/python3.11/dist-packages/aiomysql/connection.py\", line 399, in rollback\n",
            "    await self._read_ok_packet()\n",
            "  File \"/usr/local/lib/python3.11/dist-packages/aiomysql/connection.py\", line 372, in _read_ok_packet\n",
            "    pkt = await self._read_packet()\n",
            "          ^^^^^^^^^^^^^^^^^^^^^^^^^\n",
            "  File \"/usr/local/lib/python3.11/dist-packages/aiomysql/connection.py\", line 609, in _read_packet\n",
            "    packet_header = await self._read_bytes(4)\n",
            "                    ^^^^^^^^^^^^^^^^^^^^^^^^^\n",
            "  File \"/usr/local/lib/python3.11/dist-packages/aiomysql/connection.py\", line 657, in _read_bytes\n",
            "    data = await self._reader.readexactly(num_bytes)\n",
            "           ^^^^^^^^^^^^^^^^^^^^^^^^^^^^^^^^^^^^^^^^^\n",
            "  File \"/usr/lib/python3.11/asyncio/streams.py\", line 750, in readexactly\n",
            "    await self._wait_for_data('readexactly')\n",
            "  File \"/usr/lib/python3.11/asyncio/streams.py\", line 543, in _wait_for_data\n",
            "    await self._waiter\n",
            "RuntimeError: Task <Task pending name='Task-1457' coro=<parse_question() running at <ipython-input-12-fa7a0aee7706>:10> cb=[Task.task_wakeup()]> got Future <Future pending> attached to a different loop\n",
            "During task with name 'parse_question' and id '8f33c723-df14-3c50-61df-80b74afc1505'\n",
            "INFO:werkzeug:127.0.0.1 - - [10/Feb/2025 14:56:28] \"\u001b[35m\u001b[1mPOST /dashboardAgent HTTP/1.1\u001b[0m\" 500 -\n"
          ]
        },
        {
          "output_type": "stream",
          "name": "stdout",
          "text": [
            "2025-02-10 14:56:29,338 INFO sqlalchemy.engine.Engine BEGIN (implicit)\n"
          ]
        },
        {
          "output_type": "stream",
          "name": "stderr",
          "text": [
            "INFO:sqlalchemy.engine.Engine:BEGIN (implicit)\n"
          ]
        },
        {
          "output_type": "stream",
          "name": "stdout",
          "text": [
            "2025-02-10 14:56:29,341 INFO sqlalchemy.engine.Engine SHOW FULL TABLES FROM \"defaultdb\"\n"
          ]
        },
        {
          "output_type": "stream",
          "name": "stderr",
          "text": [
            "INFO:sqlalchemy.engine.Engine:SHOW FULL TABLES FROM \"defaultdb\"\n"
          ]
        },
        {
          "output_type": "stream",
          "name": "stdout",
          "text": [
            "2025-02-10 14:56:29,345 INFO sqlalchemy.engine.Engine [raw sql] ()\n"
          ]
        },
        {
          "output_type": "stream",
          "name": "stderr",
          "text": [
            "INFO:sqlalchemy.engine.Engine:[raw sql] ()\n"
          ]
        },
        {
          "output_type": "stream",
          "name": "stdout",
          "text": [
            "2025-02-10 14:56:29,596 INFO sqlalchemy.engine.Engine SHOW CREATE TABLE \"SequelizeMeta\"\n"
          ]
        },
        {
          "output_type": "stream",
          "name": "stderr",
          "text": [
            "INFO:sqlalchemy.engine.Engine:SHOW CREATE TABLE \"SequelizeMeta\"\n"
          ]
        },
        {
          "output_type": "stream",
          "name": "stdout",
          "text": [
            "2025-02-10 14:56:29,600 INFO sqlalchemy.engine.Engine [raw sql] ()\n"
          ]
        },
        {
          "output_type": "stream",
          "name": "stderr",
          "text": [
            "INFO:sqlalchemy.engine.Engine:[raw sql] ()\n"
          ]
        },
        {
          "output_type": "stream",
          "name": "stdout",
          "text": [
            "2025-02-10 14:56:29,847 INFO sqlalchemy.engine.Engine SHOW CREATE TABLE \"candidate_data\"\n"
          ]
        },
        {
          "output_type": "stream",
          "name": "stderr",
          "text": [
            "INFO:sqlalchemy.engine.Engine:SHOW CREATE TABLE \"candidate_data\"\n"
          ]
        },
        {
          "output_type": "stream",
          "name": "stdout",
          "text": [
            "2025-02-10 14:56:29,849 INFO sqlalchemy.engine.Engine [raw sql] ()\n"
          ]
        },
        {
          "output_type": "stream",
          "name": "stderr",
          "text": [
            "INFO:sqlalchemy.engine.Engine:[raw sql] ()\n"
          ]
        },
        {
          "output_type": "stream",
          "name": "stdout",
          "text": [
            "2025-02-10 14:56:30,098 INFO sqlalchemy.engine.Engine SHOW CREATE TABLE \"candidate_demographics\"\n"
          ]
        },
        {
          "output_type": "stream",
          "name": "stderr",
          "text": [
            "INFO:sqlalchemy.engine.Engine:SHOW CREATE TABLE \"candidate_demographics\"\n"
          ]
        },
        {
          "output_type": "stream",
          "name": "stdout",
          "text": [
            "2025-02-10 14:56:30,101 INFO sqlalchemy.engine.Engine [raw sql] ()\n"
          ]
        },
        {
          "output_type": "stream",
          "name": "stderr",
          "text": [
            "INFO:sqlalchemy.engine.Engine:[raw sql] ()\n"
          ]
        },
        {
          "output_type": "stream",
          "name": "stdout",
          "text": [
            "2025-02-10 14:56:30,349 INFO sqlalchemy.engine.Engine SHOW CREATE TABLE \"csrpartner_data\"\n"
          ]
        },
        {
          "output_type": "stream",
          "name": "stderr",
          "text": [
            "INFO:sqlalchemy.engine.Engine:SHOW CREATE TABLE \"csrpartner_data\"\n"
          ]
        },
        {
          "output_type": "stream",
          "name": "stdout",
          "text": [
            "2025-02-10 14:56:30,352 INFO sqlalchemy.engine.Engine [raw sql] ()\n"
          ]
        },
        {
          "output_type": "stream",
          "name": "stderr",
          "text": [
            "INFO:sqlalchemy.engine.Engine:[raw sql] ()\n"
          ]
        },
        {
          "output_type": "stream",
          "name": "stdout",
          "text": [
            "2025-02-10 14:56:30,603 INFO sqlalchemy.engine.Engine SHOW CREATE TABLE \"csrpartner_demographics\"\n"
          ]
        },
        {
          "output_type": "stream",
          "name": "stderr",
          "text": [
            "INFO:sqlalchemy.engine.Engine:SHOW CREATE TABLE \"csrpartner_demographics\"\n"
          ]
        },
        {
          "output_type": "stream",
          "name": "stdout",
          "text": [
            "2025-02-10 14:56:30,607 INFO sqlalchemy.engine.Engine [raw sql] ()\n"
          ]
        },
        {
          "output_type": "stream",
          "name": "stderr",
          "text": [
            "INFO:sqlalchemy.engine.Engine:[raw sql] ()\n"
          ]
        },
        {
          "output_type": "stream",
          "name": "stdout",
          "text": [
            "2025-02-10 14:56:30,855 INFO sqlalchemy.engine.Engine SHOW CREATE TABLE \"customer_data\"\n"
          ]
        },
        {
          "output_type": "stream",
          "name": "stderr",
          "text": [
            "INFO:sqlalchemy.engine.Engine:SHOW CREATE TABLE \"customer_data\"\n"
          ]
        },
        {
          "output_type": "stream",
          "name": "stdout",
          "text": [
            "2025-02-10 14:56:30,857 INFO sqlalchemy.engine.Engine [raw sql] ()\n"
          ]
        },
        {
          "output_type": "stream",
          "name": "stderr",
          "text": [
            "INFO:sqlalchemy.engine.Engine:[raw sql] ()\n"
          ]
        },
        {
          "output_type": "stream",
          "name": "stdout",
          "text": [
            "2025-02-10 14:56:31,117 INFO sqlalchemy.engine.Engine SHOW CREATE TABLE \"customer_demographics\"\n"
          ]
        },
        {
          "output_type": "stream",
          "name": "stderr",
          "text": [
            "INFO:sqlalchemy.engine.Engine:SHOW CREATE TABLE \"customer_demographics\"\n"
          ]
        },
        {
          "output_type": "stream",
          "name": "stdout",
          "text": [
            "2025-02-10 14:56:31,120 INFO sqlalchemy.engine.Engine [raw sql] ()\n"
          ]
        },
        {
          "output_type": "stream",
          "name": "stderr",
          "text": [
            "INFO:sqlalchemy.engine.Engine:[raw sql] ()\n"
          ]
        },
        {
          "output_type": "stream",
          "name": "stdout",
          "text": [
            "2025-02-10 14:56:31,368 INFO sqlalchemy.engine.Engine SHOW CREATE TABLE \"employee_data\"\n"
          ]
        },
        {
          "output_type": "stream",
          "name": "stderr",
          "text": [
            "INFO:sqlalchemy.engine.Engine:SHOW CREATE TABLE \"employee_data\"\n"
          ]
        },
        {
          "output_type": "stream",
          "name": "stdout",
          "text": [
            "2025-02-10 14:56:31,371 INFO sqlalchemy.engine.Engine [raw sql] ()\n"
          ]
        },
        {
          "output_type": "stream",
          "name": "stderr",
          "text": [
            "INFO:sqlalchemy.engine.Engine:[raw sql] ()\n"
          ]
        },
        {
          "output_type": "stream",
          "name": "stdout",
          "text": [
            "2025-02-10 14:56:31,622 INFO sqlalchemy.engine.Engine SHOW CREATE TABLE \"employee_demographics\"\n"
          ]
        },
        {
          "output_type": "stream",
          "name": "stderr",
          "text": [
            "INFO:sqlalchemy.engine.Engine:SHOW CREATE TABLE \"employee_demographics\"\n"
          ]
        },
        {
          "output_type": "stream",
          "name": "stdout",
          "text": [
            "2025-02-10 14:56:31,626 INFO sqlalchemy.engine.Engine [raw sql] ()\n"
          ]
        },
        {
          "output_type": "stream",
          "name": "stderr",
          "text": [
            "INFO:sqlalchemy.engine.Engine:[raw sql] ()\n"
          ]
        },
        {
          "output_type": "stream",
          "name": "stdout",
          "text": [
            "2025-02-10 14:56:31,874 INFO sqlalchemy.engine.Engine SHOW CREATE TABLE \"investor_data\"\n"
          ]
        },
        {
          "output_type": "stream",
          "name": "stderr",
          "text": [
            "INFO:sqlalchemy.engine.Engine:SHOW CREATE TABLE \"investor_data\"\n"
          ]
        },
        {
          "output_type": "stream",
          "name": "stdout",
          "text": [
            "2025-02-10 14:56:31,878 INFO sqlalchemy.engine.Engine [raw sql] ()\n"
          ]
        },
        {
          "output_type": "stream",
          "name": "stderr",
          "text": [
            "INFO:sqlalchemy.engine.Engine:[raw sql] ()\n"
          ]
        },
        {
          "output_type": "stream",
          "name": "stdout",
          "text": [
            "2025-02-10 14:56:32,128 INFO sqlalchemy.engine.Engine SHOW CREATE TABLE \"investor_demographics\"\n"
          ]
        },
        {
          "output_type": "stream",
          "name": "stderr",
          "text": [
            "INFO:sqlalchemy.engine.Engine:SHOW CREATE TABLE \"investor_demographics\"\n"
          ]
        },
        {
          "output_type": "stream",
          "name": "stdout",
          "text": [
            "2025-02-10 14:56:32,134 INFO sqlalchemy.engine.Engine [raw sql] ()\n"
          ]
        },
        {
          "output_type": "stream",
          "name": "stderr",
          "text": [
            "INFO:sqlalchemy.engine.Engine:[raw sql] ()\n"
          ]
        },
        {
          "output_type": "stream",
          "name": "stdout",
          "text": [
            "2025-02-10 14:56:32,383 INFO sqlalchemy.engine.Engine SHOW CREATE TABLE \"partner_data\"\n"
          ]
        },
        {
          "output_type": "stream",
          "name": "stderr",
          "text": [
            "INFO:sqlalchemy.engine.Engine:SHOW CREATE TABLE \"partner_data\"\n"
          ]
        },
        {
          "output_type": "stream",
          "name": "stdout",
          "text": [
            "2025-02-10 14:56:32,386 INFO sqlalchemy.engine.Engine [raw sql] ()\n"
          ]
        },
        {
          "output_type": "stream",
          "name": "stderr",
          "text": [
            "INFO:sqlalchemy.engine.Engine:[raw sql] ()\n"
          ]
        },
        {
          "output_type": "stream",
          "name": "stdout",
          "text": [
            "2025-02-10 14:56:32,636 INFO sqlalchemy.engine.Engine SHOW CREATE TABLE \"partner_demographics\"\n"
          ]
        },
        {
          "output_type": "stream",
          "name": "stderr",
          "text": [
            "INFO:sqlalchemy.engine.Engine:SHOW CREATE TABLE \"partner_demographics\"\n"
          ]
        },
        {
          "output_type": "stream",
          "name": "stdout",
          "text": [
            "2025-02-10 14:56:32,641 INFO sqlalchemy.engine.Engine [raw sql] ()\n"
          ]
        },
        {
          "output_type": "stream",
          "name": "stderr",
          "text": [
            "INFO:sqlalchemy.engine.Engine:[raw sql] ()\n"
          ]
        },
        {
          "output_type": "stream",
          "name": "stdout",
          "text": [
            "2025-02-10 14:56:32,889 INFO sqlalchemy.engine.Engine SHOW CREATE TABLE \"vendor_data\"\n"
          ]
        },
        {
          "output_type": "stream",
          "name": "stderr",
          "text": [
            "INFO:sqlalchemy.engine.Engine:SHOW CREATE TABLE \"vendor_data\"\n"
          ]
        },
        {
          "output_type": "stream",
          "name": "stdout",
          "text": [
            "2025-02-10 14:56:32,892 INFO sqlalchemy.engine.Engine [raw sql] ()\n"
          ]
        },
        {
          "output_type": "stream",
          "name": "stderr",
          "text": [
            "INFO:sqlalchemy.engine.Engine:[raw sql] ()\n"
          ]
        },
        {
          "output_type": "stream",
          "name": "stdout",
          "text": [
            "2025-02-10 14:56:33,141 INFO sqlalchemy.engine.Engine SHOW CREATE TABLE \"vendor_demographics\"\n"
          ]
        },
        {
          "output_type": "stream",
          "name": "stderr",
          "text": [
            "INFO:sqlalchemy.engine.Engine:SHOW CREATE TABLE \"vendor_demographics\"\n"
          ]
        },
        {
          "output_type": "stream",
          "name": "stdout",
          "text": [
            "2025-02-10 14:56:33,145 INFO sqlalchemy.engine.Engine [raw sql] ()\n"
          ]
        },
        {
          "output_type": "stream",
          "name": "stderr",
          "text": [
            "INFO:sqlalchemy.engine.Engine:[raw sql] ()\n"
          ]
        },
        {
          "output_type": "stream",
          "name": "stdout",
          "text": [
            "2025-02-10 14:56:33,397 INFO sqlalchemy.engine.Engine SELECT information_schema.columns.table_schema, information_schema.columns.table_name, information_schema.columns.column_name \n",
            "FROM information_schema.columns \n",
            "WHERE information_schema.columns.table_schema = %s AND information_schema.columns.table_name = %s AND lower(information_schema.columns.column_name) IN (%s)\n"
          ]
        },
        {
          "output_type": "stream",
          "name": "stderr",
          "text": [
            "INFO:sqlalchemy.engine.Engine:SELECT information_schema.columns.table_schema, information_schema.columns.table_name, information_schema.columns.column_name \n",
            "FROM information_schema.columns \n",
            "WHERE information_schema.columns.table_schema = %s AND information_schema.columns.table_name = %s AND lower(information_schema.columns.column_name) IN (%s)\n"
          ]
        },
        {
          "output_type": "stream",
          "name": "stdout",
          "text": [
            "2025-02-10 14:56:33,400 INFO sqlalchemy.engine.Engine [cached since 1.821e+04s ago] ('defaultdb', 'candidate_data', 'id')\n"
          ]
        },
        {
          "output_type": "stream",
          "name": "stderr",
          "text": [
            "INFO:sqlalchemy.engine.Engine:[cached since 1.821e+04s ago] ('defaultdb', 'candidate_data', 'id')\n"
          ]
        },
        {
          "output_type": "stream",
          "name": "stdout",
          "text": [
            "2025-02-10 14:56:33,651 INFO sqlalchemy.engine.Engine SELECT information_schema.columns.table_schema, information_schema.columns.table_name, information_schema.columns.column_name \n",
            "FROM information_schema.columns \n",
            "WHERE information_schema.columns.table_schema = %s AND information_schema.columns.table_name = %s AND lower(information_schema.columns.column_name) IN (%s)\n"
          ]
        },
        {
          "output_type": "stream",
          "name": "stderr",
          "text": [
            "INFO:sqlalchemy.engine.Engine:SELECT information_schema.columns.table_schema, information_schema.columns.table_name, information_schema.columns.column_name \n",
            "FROM information_schema.columns \n",
            "WHERE information_schema.columns.table_schema = %s AND information_schema.columns.table_name = %s AND lower(information_schema.columns.column_name) IN (%s)\n"
          ]
        },
        {
          "output_type": "stream",
          "name": "stdout",
          "text": [
            "2025-02-10 14:56:33,653 INFO sqlalchemy.engine.Engine [cached since 1.821e+04s ago] ('defaultdb', 'csrpartner_data', 'id')\n"
          ]
        },
        {
          "output_type": "stream",
          "name": "stderr",
          "text": [
            "INFO:sqlalchemy.engine.Engine:[cached since 1.821e+04s ago] ('defaultdb', 'csrpartner_data', 'id')\n"
          ]
        },
        {
          "output_type": "stream",
          "name": "stdout",
          "text": [
            "2025-02-10 14:56:33,903 INFO sqlalchemy.engine.Engine SELECT information_schema.columns.table_schema, information_schema.columns.table_name, information_schema.columns.column_name \n",
            "FROM information_schema.columns \n",
            "WHERE information_schema.columns.table_schema = %s AND information_schema.columns.table_name = %s AND lower(information_schema.columns.column_name) IN (%s)\n"
          ]
        },
        {
          "output_type": "stream",
          "name": "stderr",
          "text": [
            "INFO:sqlalchemy.engine.Engine:SELECT information_schema.columns.table_schema, information_schema.columns.table_name, information_schema.columns.column_name \n",
            "FROM information_schema.columns \n",
            "WHERE information_schema.columns.table_schema = %s AND information_schema.columns.table_name = %s AND lower(information_schema.columns.column_name) IN (%s)\n"
          ]
        },
        {
          "output_type": "stream",
          "name": "stdout",
          "text": [
            "2025-02-10 14:56:33,906 INFO sqlalchemy.engine.Engine [cached since 1.821e+04s ago] ('defaultdb', 'customer_data', 'id')\n"
          ]
        },
        {
          "output_type": "stream",
          "name": "stderr",
          "text": [
            "INFO:sqlalchemy.engine.Engine:[cached since 1.821e+04s ago] ('defaultdb', 'customer_data', 'id')\n"
          ]
        },
        {
          "output_type": "stream",
          "name": "stdout",
          "text": [
            "2025-02-10 14:56:34,155 INFO sqlalchemy.engine.Engine SELECT information_schema.columns.table_schema, information_schema.columns.table_name, information_schema.columns.column_name \n",
            "FROM information_schema.columns \n",
            "WHERE information_schema.columns.table_schema = %s AND information_schema.columns.table_name = %s AND lower(information_schema.columns.column_name) IN (%s)\n"
          ]
        },
        {
          "output_type": "stream",
          "name": "stderr",
          "text": [
            "INFO:sqlalchemy.engine.Engine:SELECT information_schema.columns.table_schema, information_schema.columns.table_name, information_schema.columns.column_name \n",
            "FROM information_schema.columns \n",
            "WHERE information_schema.columns.table_schema = %s AND information_schema.columns.table_name = %s AND lower(information_schema.columns.column_name) IN (%s)\n"
          ]
        },
        {
          "output_type": "stream",
          "name": "stdout",
          "text": [
            "2025-02-10 14:56:34,158 INFO sqlalchemy.engine.Engine [cached since 1.821e+04s ago] ('defaultdb', 'employee_data', 'id')\n"
          ]
        },
        {
          "output_type": "stream",
          "name": "stderr",
          "text": [
            "INFO:sqlalchemy.engine.Engine:[cached since 1.821e+04s ago] ('defaultdb', 'employee_data', 'id')\n"
          ]
        },
        {
          "output_type": "stream",
          "name": "stdout",
          "text": [
            "2025-02-10 14:56:34,407 INFO sqlalchemy.engine.Engine SELECT information_schema.columns.table_schema, information_schema.columns.table_name, information_schema.columns.column_name \n",
            "FROM information_schema.columns \n",
            "WHERE information_schema.columns.table_schema = %s AND information_schema.columns.table_name = %s AND lower(information_schema.columns.column_name) IN (%s)\n"
          ]
        },
        {
          "output_type": "stream",
          "name": "stderr",
          "text": [
            "INFO:sqlalchemy.engine.Engine:SELECT information_schema.columns.table_schema, information_schema.columns.table_name, information_schema.columns.column_name \n",
            "FROM information_schema.columns \n",
            "WHERE information_schema.columns.table_schema = %s AND information_schema.columns.table_name = %s AND lower(information_schema.columns.column_name) IN (%s)\n"
          ]
        },
        {
          "output_type": "stream",
          "name": "stdout",
          "text": [
            "2025-02-10 14:56:34,410 INFO sqlalchemy.engine.Engine [cached since 1.821e+04s ago] ('defaultdb', 'investor_data', 'id')\n"
          ]
        },
        {
          "output_type": "stream",
          "name": "stderr",
          "text": [
            "INFO:sqlalchemy.engine.Engine:[cached since 1.821e+04s ago] ('defaultdb', 'investor_data', 'id')\n"
          ]
        },
        {
          "output_type": "stream",
          "name": "stdout",
          "text": [
            "2025-02-10 14:56:34,659 INFO sqlalchemy.engine.Engine SELECT information_schema.columns.table_schema, information_schema.columns.table_name, information_schema.columns.column_name \n",
            "FROM information_schema.columns \n",
            "WHERE information_schema.columns.table_schema = %s AND information_schema.columns.table_name = %s AND lower(information_schema.columns.column_name) IN (%s)\n"
          ]
        },
        {
          "output_type": "stream",
          "name": "stderr",
          "text": [
            "INFO:sqlalchemy.engine.Engine:SELECT information_schema.columns.table_schema, information_schema.columns.table_name, information_schema.columns.column_name \n",
            "FROM information_schema.columns \n",
            "WHERE information_schema.columns.table_schema = %s AND information_schema.columns.table_name = %s AND lower(information_schema.columns.column_name) IN (%s)\n"
          ]
        },
        {
          "output_type": "stream",
          "name": "stdout",
          "text": [
            "2025-02-10 14:56:34,661 INFO sqlalchemy.engine.Engine [cached since 1.821e+04s ago] ('defaultdb', 'partner_data', 'id')\n"
          ]
        },
        {
          "output_type": "stream",
          "name": "stderr",
          "text": [
            "INFO:sqlalchemy.engine.Engine:[cached since 1.821e+04s ago] ('defaultdb', 'partner_data', 'id')\n"
          ]
        },
        {
          "output_type": "stream",
          "name": "stdout",
          "text": [
            "2025-02-10 14:56:34,912 INFO sqlalchemy.engine.Engine SELECT information_schema.columns.table_schema, information_schema.columns.table_name, information_schema.columns.column_name \n",
            "FROM information_schema.columns \n",
            "WHERE information_schema.columns.table_schema = %s AND information_schema.columns.table_name = %s AND lower(information_schema.columns.column_name) IN (%s)\n"
          ]
        },
        {
          "output_type": "stream",
          "name": "stderr",
          "text": [
            "INFO:sqlalchemy.engine.Engine:SELECT information_schema.columns.table_schema, information_schema.columns.table_name, information_schema.columns.column_name \n",
            "FROM information_schema.columns \n",
            "WHERE information_schema.columns.table_schema = %s AND information_schema.columns.table_name = %s AND lower(information_schema.columns.column_name) IN (%s)\n"
          ]
        },
        {
          "output_type": "stream",
          "name": "stdout",
          "text": [
            "2025-02-10 14:56:34,915 INFO sqlalchemy.engine.Engine [cached since 1.821e+04s ago] ('defaultdb', 'vendor_data', 'id')\n"
          ]
        },
        {
          "output_type": "stream",
          "name": "stderr",
          "text": [
            "INFO:sqlalchemy.engine.Engine:[cached since 1.821e+04s ago] ('defaultdb', 'vendor_data', 'id')\n"
          ]
        },
        {
          "output_type": "stream",
          "name": "stdout",
          "text": [
            "2025-02-10 14:56:35,179 INFO sqlalchemy.engine.Engine COMMIT\n"
          ]
        },
        {
          "output_type": "stream",
          "name": "stderr",
          "text": [
            "INFO:sqlalchemy.engine.Engine:COMMIT\n"
          ]
        },
        {
          "output_type": "stream",
          "name": "stdout",
          "text": [
            "response {'is_relevant': True, 'relevant_tables': [{'table_name': 'customer_data', 'columns': ['id', 'created_at', 'updated_at', 'stakeholder_type', 'product_name', 'po_number', 'client_admin_ref', 'diagnostic_id', 'language', 'experience_rating', 'experience_type', 'experience_area', 'experience_area_dimension', 'feedback', 'sentiment_normalized_rating', 'suggestions', 'testimonial_consent', 'testimonial_name_consent', 'testimonial_name', 'email', 'company_name', 'channel', 'experience_sentiment'], 'noun_columns': ['product_name', 'language', 'experience_type', 'experience_area', 'experience_area_dimension', 'testimonial_name', 'email', 'company_name', 'channel']}, {'table_name': 'customer_demographics', 'columns': ['id', 'ref_id', 'attribute_name', 'attribute_value', 'stakeholder'], 'noun_columns': ['attribute_name', 'attribute_value']}]}\n",
            "2025-02-10 14:56:44,977 INFO sqlalchemy.engine.Engine BEGIN (implicit)\n"
          ]
        },
        {
          "output_type": "stream",
          "name": "stderr",
          "text": [
            "INFO:sqlalchemy.engine.Engine:BEGIN (implicit)\n"
          ]
        },
        {
          "output_type": "stream",
          "name": "stdout",
          "text": [
            "2025-02-10 14:56:44,980 INFO sqlalchemy.engine.Engine SELECT DISTINCT `product_name`, `language`, `experience_type`, `experience_area`, `experience_area_dimension`, `testimonial_name`, `email`, `company_name`, `channel` FROM `customer_data`\n"
          ]
        },
        {
          "output_type": "stream",
          "name": "stderr",
          "text": [
            "INFO:sqlalchemy.engine.Engine:SELECT DISTINCT `product_name`, `language`, `experience_type`, `experience_area`, `experience_area_dimension`, `testimonial_name`, `email`, `company_name`, `channel` FROM `customer_data`\n"
          ]
        },
        {
          "output_type": "stream",
          "name": "stdout",
          "text": [
            "2025-02-10 14:56:44,983 INFO sqlalchemy.engine.Engine [cached since 1729s ago] ()\n"
          ]
        },
        {
          "output_type": "stream",
          "name": "stderr",
          "text": [
            "INFO:sqlalchemy.engine.Engine:[cached since 1729s ago] ()\n"
          ]
        },
        {
          "output_type": "stream",
          "name": "stdout",
          "text": [
            "2025-02-10 14:56:45,471 INFO sqlalchemy.engine.Engine COMMIT\n"
          ]
        },
        {
          "output_type": "stream",
          "name": "stderr",
          "text": [
            "INFO:sqlalchemy.engine.Engine:COMMIT\n"
          ]
        },
        {
          "output_type": "stream",
          "name": "stdout",
          "text": [
            "2025-02-10 14:56:45,955 INFO sqlalchemy.engine.Engine BEGIN (implicit)\n"
          ]
        },
        {
          "output_type": "stream",
          "name": "stderr",
          "text": [
            "INFO:sqlalchemy.engine.Engine:BEGIN (implicit)\n"
          ]
        },
        {
          "output_type": "stream",
          "name": "stdout",
          "text": [
            "2025-02-10 14:56:45,958 INFO sqlalchemy.engine.Engine SELECT DISTINCT `attribute_name`, `attribute_value` FROM `customer_demographics`\n"
          ]
        },
        {
          "output_type": "stream",
          "name": "stderr",
          "text": [
            "INFO:sqlalchemy.engine.Engine:SELECT DISTINCT `attribute_name`, `attribute_value` FROM `customer_demographics`\n"
          ]
        },
        {
          "output_type": "stream",
          "name": "stdout",
          "text": [
            "2025-02-10 14:56:45,961 INFO sqlalchemy.engine.Engine [cached since 1729s ago] ()\n"
          ]
        },
        {
          "output_type": "stream",
          "name": "stderr",
          "text": [
            "INFO:sqlalchemy.engine.Engine:[cached since 1729s ago] ()\n"
          ]
        },
        {
          "output_type": "stream",
          "name": "stdout",
          "text": [
            "2025-02-10 14:56:46,214 INFO sqlalchemy.engine.Engine COMMIT\n"
          ]
        },
        {
          "output_type": "stream",
          "name": "stderr",
          "text": [
            "INFO:sqlalchemy.engine.Engine:COMMIT\n"
          ]
        },
        {
          "output_type": "stream",
          "name": "stdout",
          "text": [
            "2025-02-10 14:56:46,710 INFO sqlalchemy.engine.Engine BEGIN (implicit)\n"
          ]
        },
        {
          "output_type": "stream",
          "name": "stderr",
          "text": [
            "INFO:sqlalchemy.engine.Engine:BEGIN (implicit)\n"
          ]
        },
        {
          "output_type": "stream",
          "name": "stdout",
          "text": [
            "2025-02-10 14:56:46,713 INFO sqlalchemy.engine.Engine SHOW FULL TABLES FROM \"defaultdb\"\n"
          ]
        },
        {
          "output_type": "stream",
          "name": "stderr",
          "text": [
            "INFO:sqlalchemy.engine.Engine:SHOW FULL TABLES FROM \"defaultdb\"\n"
          ]
        },
        {
          "output_type": "stream",
          "name": "stdout",
          "text": [
            "2025-02-10 14:56:46,716 INFO sqlalchemy.engine.Engine [raw sql] ()\n"
          ]
        },
        {
          "output_type": "stream",
          "name": "stderr",
          "text": [
            "INFO:sqlalchemy.engine.Engine:[raw sql] ()\n"
          ]
        },
        {
          "output_type": "stream",
          "name": "stdout",
          "text": [
            "2025-02-10 14:56:46,963 INFO sqlalchemy.engine.Engine SHOW CREATE TABLE \"SequelizeMeta\"\n"
          ]
        },
        {
          "output_type": "stream",
          "name": "stderr",
          "text": [
            "INFO:sqlalchemy.engine.Engine:SHOW CREATE TABLE \"SequelizeMeta\"\n"
          ]
        },
        {
          "output_type": "stream",
          "name": "stdout",
          "text": [
            "2025-02-10 14:56:46,966 INFO sqlalchemy.engine.Engine [raw sql] ()\n"
          ]
        },
        {
          "output_type": "stream",
          "name": "stderr",
          "text": [
            "INFO:sqlalchemy.engine.Engine:[raw sql] ()\n"
          ]
        },
        {
          "output_type": "stream",
          "name": "stdout",
          "text": [
            "2025-02-10 14:56:47,210 INFO sqlalchemy.engine.Engine SHOW CREATE TABLE \"candidate_data\"\n"
          ]
        },
        {
          "output_type": "stream",
          "name": "stderr",
          "text": [
            "INFO:sqlalchemy.engine.Engine:SHOW CREATE TABLE \"candidate_data\"\n"
          ]
        },
        {
          "output_type": "stream",
          "name": "stdout",
          "text": [
            "2025-02-10 14:56:47,212 INFO sqlalchemy.engine.Engine [raw sql] ()\n"
          ]
        },
        {
          "output_type": "stream",
          "name": "stderr",
          "text": [
            "INFO:sqlalchemy.engine.Engine:[raw sql] ()\n"
          ]
        },
        {
          "output_type": "stream",
          "name": "stdout",
          "text": [
            "2025-02-10 14:56:47,456 INFO sqlalchemy.engine.Engine SHOW CREATE TABLE \"candidate_demographics\"\n"
          ]
        },
        {
          "output_type": "stream",
          "name": "stderr",
          "text": [
            "INFO:sqlalchemy.engine.Engine:SHOW CREATE TABLE \"candidate_demographics\"\n"
          ]
        },
        {
          "output_type": "stream",
          "name": "stdout",
          "text": [
            "2025-02-10 14:56:47,458 INFO sqlalchemy.engine.Engine [raw sql] ()\n"
          ]
        },
        {
          "output_type": "stream",
          "name": "stderr",
          "text": [
            "INFO:sqlalchemy.engine.Engine:[raw sql] ()\n"
          ]
        },
        {
          "output_type": "stream",
          "name": "stdout",
          "text": [
            "2025-02-10 14:56:47,702 INFO sqlalchemy.engine.Engine SHOW CREATE TABLE \"csrpartner_data\"\n"
          ]
        },
        {
          "output_type": "stream",
          "name": "stderr",
          "text": [
            "INFO:sqlalchemy.engine.Engine:SHOW CREATE TABLE \"csrpartner_data\"\n"
          ]
        },
        {
          "output_type": "stream",
          "name": "stdout",
          "text": [
            "2025-02-10 14:56:47,704 INFO sqlalchemy.engine.Engine [raw sql] ()\n"
          ]
        },
        {
          "output_type": "stream",
          "name": "stderr",
          "text": [
            "INFO:sqlalchemy.engine.Engine:[raw sql] ()\n"
          ]
        },
        {
          "output_type": "stream",
          "name": "stdout",
          "text": [
            "2025-02-10 14:56:47,947 INFO sqlalchemy.engine.Engine SHOW CREATE TABLE \"csrpartner_demographics\"\n"
          ]
        },
        {
          "output_type": "stream",
          "name": "stderr",
          "text": [
            "INFO:sqlalchemy.engine.Engine:SHOW CREATE TABLE \"csrpartner_demographics\"\n"
          ]
        },
        {
          "output_type": "stream",
          "name": "stdout",
          "text": [
            "2025-02-10 14:56:47,950 INFO sqlalchemy.engine.Engine [raw sql] ()\n"
          ]
        },
        {
          "output_type": "stream",
          "name": "stderr",
          "text": [
            "INFO:sqlalchemy.engine.Engine:[raw sql] ()\n"
          ]
        },
        {
          "output_type": "stream",
          "name": "stdout",
          "text": [
            "2025-02-10 14:56:48,193 INFO sqlalchemy.engine.Engine SHOW CREATE TABLE \"customer_data\"\n"
          ]
        },
        {
          "output_type": "stream",
          "name": "stderr",
          "text": [
            "INFO:sqlalchemy.engine.Engine:SHOW CREATE TABLE \"customer_data\"\n"
          ]
        },
        {
          "output_type": "stream",
          "name": "stdout",
          "text": [
            "2025-02-10 14:56:48,196 INFO sqlalchemy.engine.Engine [raw sql] ()\n"
          ]
        },
        {
          "output_type": "stream",
          "name": "stderr",
          "text": [
            "INFO:sqlalchemy.engine.Engine:[raw sql] ()\n"
          ]
        },
        {
          "output_type": "stream",
          "name": "stdout",
          "text": [
            "2025-02-10 14:56:48,438 INFO sqlalchemy.engine.Engine SHOW CREATE TABLE \"customer_demographics\"\n"
          ]
        },
        {
          "output_type": "stream",
          "name": "stderr",
          "text": [
            "INFO:sqlalchemy.engine.Engine:SHOW CREATE TABLE \"customer_demographics\"\n"
          ]
        },
        {
          "output_type": "stream",
          "name": "stdout",
          "text": [
            "2025-02-10 14:56:48,440 INFO sqlalchemy.engine.Engine [raw sql] ()\n"
          ]
        },
        {
          "output_type": "stream",
          "name": "stderr",
          "text": [
            "INFO:sqlalchemy.engine.Engine:[raw sql] ()\n"
          ]
        },
        {
          "output_type": "stream",
          "name": "stdout",
          "text": [
            "2025-02-10 14:56:48,683 INFO sqlalchemy.engine.Engine SHOW CREATE TABLE \"employee_data\"\n"
          ]
        },
        {
          "output_type": "stream",
          "name": "stderr",
          "text": [
            "INFO:sqlalchemy.engine.Engine:SHOW CREATE TABLE \"employee_data\"\n"
          ]
        },
        {
          "output_type": "stream",
          "name": "stdout",
          "text": [
            "2025-02-10 14:56:48,686 INFO sqlalchemy.engine.Engine [raw sql] ()\n"
          ]
        },
        {
          "output_type": "stream",
          "name": "stderr",
          "text": [
            "INFO:sqlalchemy.engine.Engine:[raw sql] ()\n"
          ]
        },
        {
          "output_type": "stream",
          "name": "stdout",
          "text": [
            "2025-02-10 14:56:48,929 INFO sqlalchemy.engine.Engine SHOW CREATE TABLE \"employee_demographics\"\n"
          ]
        },
        {
          "output_type": "stream",
          "name": "stderr",
          "text": [
            "INFO:sqlalchemy.engine.Engine:SHOW CREATE TABLE \"employee_demographics\"\n"
          ]
        },
        {
          "output_type": "stream",
          "name": "stdout",
          "text": [
            "2025-02-10 14:56:48,931 INFO sqlalchemy.engine.Engine [raw sql] ()\n"
          ]
        },
        {
          "output_type": "stream",
          "name": "stderr",
          "text": [
            "INFO:sqlalchemy.engine.Engine:[raw sql] ()\n"
          ]
        },
        {
          "output_type": "stream",
          "name": "stdout",
          "text": [
            "2025-02-10 14:56:49,174 INFO sqlalchemy.engine.Engine SHOW CREATE TABLE \"investor_data\"\n"
          ]
        },
        {
          "output_type": "stream",
          "name": "stderr",
          "text": [
            "INFO:sqlalchemy.engine.Engine:SHOW CREATE TABLE \"investor_data\"\n"
          ]
        },
        {
          "output_type": "stream",
          "name": "stdout",
          "text": [
            "2025-02-10 14:56:49,176 INFO sqlalchemy.engine.Engine [raw sql] ()\n"
          ]
        },
        {
          "output_type": "stream",
          "name": "stderr",
          "text": [
            "INFO:sqlalchemy.engine.Engine:[raw sql] ()\n"
          ]
        },
        {
          "output_type": "stream",
          "name": "stdout",
          "text": [
            "2025-02-10 14:56:49,419 INFO sqlalchemy.engine.Engine SHOW CREATE TABLE \"investor_demographics\"\n"
          ]
        },
        {
          "output_type": "stream",
          "name": "stderr",
          "text": [
            "INFO:sqlalchemy.engine.Engine:SHOW CREATE TABLE \"investor_demographics\"\n"
          ]
        },
        {
          "output_type": "stream",
          "name": "stdout",
          "text": [
            "2025-02-10 14:56:49,422 INFO sqlalchemy.engine.Engine [raw sql] ()\n"
          ]
        },
        {
          "output_type": "stream",
          "name": "stderr",
          "text": [
            "INFO:sqlalchemy.engine.Engine:[raw sql] ()\n"
          ]
        },
        {
          "output_type": "stream",
          "name": "stdout",
          "text": [
            "2025-02-10 14:56:49,664 INFO sqlalchemy.engine.Engine SHOW CREATE TABLE \"partner_data\"\n"
          ]
        },
        {
          "output_type": "stream",
          "name": "stderr",
          "text": [
            "INFO:sqlalchemy.engine.Engine:SHOW CREATE TABLE \"partner_data\"\n"
          ]
        },
        {
          "output_type": "stream",
          "name": "stdout",
          "text": [
            "2025-02-10 14:56:49,667 INFO sqlalchemy.engine.Engine [raw sql] ()\n"
          ]
        },
        {
          "output_type": "stream",
          "name": "stderr",
          "text": [
            "INFO:sqlalchemy.engine.Engine:[raw sql] ()\n"
          ]
        },
        {
          "output_type": "stream",
          "name": "stdout",
          "text": [
            "2025-02-10 14:56:49,911 INFO sqlalchemy.engine.Engine SHOW CREATE TABLE \"partner_demographics\"\n"
          ]
        },
        {
          "output_type": "stream",
          "name": "stderr",
          "text": [
            "INFO:sqlalchemy.engine.Engine:SHOW CREATE TABLE \"partner_demographics\"\n"
          ]
        },
        {
          "output_type": "stream",
          "name": "stdout",
          "text": [
            "2025-02-10 14:56:49,913 INFO sqlalchemy.engine.Engine [raw sql] ()\n"
          ]
        },
        {
          "output_type": "stream",
          "name": "stderr",
          "text": [
            "INFO:sqlalchemy.engine.Engine:[raw sql] ()\n"
          ]
        },
        {
          "output_type": "stream",
          "name": "stdout",
          "text": [
            "2025-02-10 14:56:50,155 INFO sqlalchemy.engine.Engine SHOW CREATE TABLE \"vendor_data\"\n"
          ]
        },
        {
          "output_type": "stream",
          "name": "stderr",
          "text": [
            "INFO:sqlalchemy.engine.Engine:SHOW CREATE TABLE \"vendor_data\"\n"
          ]
        },
        {
          "output_type": "stream",
          "name": "stdout",
          "text": [
            "2025-02-10 14:56:50,159 INFO sqlalchemy.engine.Engine [raw sql] ()\n"
          ]
        },
        {
          "output_type": "stream",
          "name": "stderr",
          "text": [
            "INFO:sqlalchemy.engine.Engine:[raw sql] ()\n"
          ]
        },
        {
          "output_type": "stream",
          "name": "stdout",
          "text": [
            "2025-02-10 14:56:50,404 INFO sqlalchemy.engine.Engine SHOW CREATE TABLE \"vendor_demographics\"\n"
          ]
        },
        {
          "output_type": "stream",
          "name": "stderr",
          "text": [
            "INFO:sqlalchemy.engine.Engine:SHOW CREATE TABLE \"vendor_demographics\"\n"
          ]
        },
        {
          "output_type": "stream",
          "name": "stdout",
          "text": [
            "2025-02-10 14:56:50,406 INFO sqlalchemy.engine.Engine [raw sql] ()\n"
          ]
        },
        {
          "output_type": "stream",
          "name": "stderr",
          "text": [
            "INFO:sqlalchemy.engine.Engine:[raw sql] ()\n"
          ]
        },
        {
          "output_type": "stream",
          "name": "stdout",
          "text": [
            "2025-02-10 14:56:50,650 INFO sqlalchemy.engine.Engine SELECT information_schema.columns.table_schema, information_schema.columns.table_name, information_schema.columns.column_name \n",
            "FROM information_schema.columns \n",
            "WHERE information_schema.columns.table_schema = %s AND information_schema.columns.table_name = %s AND lower(information_schema.columns.column_name) IN (%s)\n"
          ]
        },
        {
          "output_type": "stream",
          "name": "stderr",
          "text": [
            "INFO:sqlalchemy.engine.Engine:SELECT information_schema.columns.table_schema, information_schema.columns.table_name, information_schema.columns.column_name \n",
            "FROM information_schema.columns \n",
            "WHERE information_schema.columns.table_schema = %s AND information_schema.columns.table_name = %s AND lower(information_schema.columns.column_name) IN (%s)\n"
          ]
        },
        {
          "output_type": "stream",
          "name": "stdout",
          "text": [
            "2025-02-10 14:56:50,652 INFO sqlalchemy.engine.Engine [cached since 1.823e+04s ago] ('defaultdb', 'candidate_data', 'id')\n"
          ]
        },
        {
          "output_type": "stream",
          "name": "stderr",
          "text": [
            "INFO:sqlalchemy.engine.Engine:[cached since 1.823e+04s ago] ('defaultdb', 'candidate_data', 'id')\n"
          ]
        },
        {
          "output_type": "stream",
          "name": "stdout",
          "text": [
            "2025-02-10 14:56:50,899 INFO sqlalchemy.engine.Engine SELECT information_schema.columns.table_schema, information_schema.columns.table_name, information_schema.columns.column_name \n",
            "FROM information_schema.columns \n",
            "WHERE information_schema.columns.table_schema = %s AND information_schema.columns.table_name = %s AND lower(information_schema.columns.column_name) IN (%s)\n"
          ]
        },
        {
          "output_type": "stream",
          "name": "stderr",
          "text": [
            "INFO:sqlalchemy.engine.Engine:SELECT information_schema.columns.table_schema, information_schema.columns.table_name, information_schema.columns.column_name \n",
            "FROM information_schema.columns \n",
            "WHERE information_schema.columns.table_schema = %s AND information_schema.columns.table_name = %s AND lower(information_schema.columns.column_name) IN (%s)\n"
          ]
        },
        {
          "output_type": "stream",
          "name": "stdout",
          "text": [
            "2025-02-10 14:56:50,902 INFO sqlalchemy.engine.Engine [cached since 1.823e+04s ago] ('defaultdb', 'csrpartner_data', 'id')\n"
          ]
        },
        {
          "output_type": "stream",
          "name": "stderr",
          "text": [
            "INFO:sqlalchemy.engine.Engine:[cached since 1.823e+04s ago] ('defaultdb', 'csrpartner_data', 'id')\n"
          ]
        },
        {
          "output_type": "stream",
          "name": "stdout",
          "text": [
            "2025-02-10 14:56:51,146 INFO sqlalchemy.engine.Engine SELECT information_schema.columns.table_schema, information_schema.columns.table_name, information_schema.columns.column_name \n",
            "FROM information_schema.columns \n",
            "WHERE information_schema.columns.table_schema = %s AND information_schema.columns.table_name = %s AND lower(information_schema.columns.column_name) IN (%s)\n"
          ]
        },
        {
          "output_type": "stream",
          "name": "stderr",
          "text": [
            "INFO:sqlalchemy.engine.Engine:SELECT information_schema.columns.table_schema, information_schema.columns.table_name, information_schema.columns.column_name \n",
            "FROM information_schema.columns \n",
            "WHERE information_schema.columns.table_schema = %s AND information_schema.columns.table_name = %s AND lower(information_schema.columns.column_name) IN (%s)\n"
          ]
        },
        {
          "output_type": "stream",
          "name": "stdout",
          "text": [
            "2025-02-10 14:56:51,149 INFO sqlalchemy.engine.Engine [cached since 1.823e+04s ago] ('defaultdb', 'customer_data', 'id')\n"
          ]
        },
        {
          "output_type": "stream",
          "name": "stderr",
          "text": [
            "INFO:sqlalchemy.engine.Engine:[cached since 1.823e+04s ago] ('defaultdb', 'customer_data', 'id')\n"
          ]
        },
        {
          "output_type": "stream",
          "name": "stdout",
          "text": [
            "2025-02-10 14:56:51,395 INFO sqlalchemy.engine.Engine SELECT information_schema.columns.table_schema, information_schema.columns.table_name, information_schema.columns.column_name \n",
            "FROM information_schema.columns \n",
            "WHERE information_schema.columns.table_schema = %s AND information_schema.columns.table_name = %s AND lower(information_schema.columns.column_name) IN (%s)\n"
          ]
        },
        {
          "output_type": "stream",
          "name": "stderr",
          "text": [
            "INFO:sqlalchemy.engine.Engine:SELECT information_schema.columns.table_schema, information_schema.columns.table_name, information_schema.columns.column_name \n",
            "FROM information_schema.columns \n",
            "WHERE information_schema.columns.table_schema = %s AND information_schema.columns.table_name = %s AND lower(information_schema.columns.column_name) IN (%s)\n"
          ]
        },
        {
          "output_type": "stream",
          "name": "stdout",
          "text": [
            "2025-02-10 14:56:51,399 INFO sqlalchemy.engine.Engine [cached since 1.823e+04s ago] ('defaultdb', 'employee_data', 'id')\n"
          ]
        },
        {
          "output_type": "stream",
          "name": "stderr",
          "text": [
            "INFO:sqlalchemy.engine.Engine:[cached since 1.823e+04s ago] ('defaultdb', 'employee_data', 'id')\n"
          ]
        },
        {
          "output_type": "stream",
          "name": "stdout",
          "text": [
            "2025-02-10 14:56:51,645 INFO sqlalchemy.engine.Engine SELECT information_schema.columns.table_schema, information_schema.columns.table_name, information_schema.columns.column_name \n",
            "FROM information_schema.columns \n",
            "WHERE information_schema.columns.table_schema = %s AND information_schema.columns.table_name = %s AND lower(information_schema.columns.column_name) IN (%s)\n"
          ]
        },
        {
          "output_type": "stream",
          "name": "stderr",
          "text": [
            "INFO:sqlalchemy.engine.Engine:SELECT information_schema.columns.table_schema, information_schema.columns.table_name, information_schema.columns.column_name \n",
            "FROM information_schema.columns \n",
            "WHERE information_schema.columns.table_schema = %s AND information_schema.columns.table_name = %s AND lower(information_schema.columns.column_name) IN (%s)\n"
          ]
        },
        {
          "output_type": "stream",
          "name": "stdout",
          "text": [
            "2025-02-10 14:56:51,648 INFO sqlalchemy.engine.Engine [cached since 1.823e+04s ago] ('defaultdb', 'investor_data', 'id')\n"
          ]
        },
        {
          "output_type": "stream",
          "name": "stderr",
          "text": [
            "INFO:sqlalchemy.engine.Engine:[cached since 1.823e+04s ago] ('defaultdb', 'investor_data', 'id')\n"
          ]
        },
        {
          "output_type": "stream",
          "name": "stdout",
          "text": [
            "2025-02-10 14:56:51,893 INFO sqlalchemy.engine.Engine SELECT information_schema.columns.table_schema, information_schema.columns.table_name, information_schema.columns.column_name \n",
            "FROM information_schema.columns \n",
            "WHERE information_schema.columns.table_schema = %s AND information_schema.columns.table_name = %s AND lower(information_schema.columns.column_name) IN (%s)\n"
          ]
        },
        {
          "output_type": "stream",
          "name": "stderr",
          "text": [
            "INFO:sqlalchemy.engine.Engine:SELECT information_schema.columns.table_schema, information_schema.columns.table_name, information_schema.columns.column_name \n",
            "FROM information_schema.columns \n",
            "WHERE information_schema.columns.table_schema = %s AND information_schema.columns.table_name = %s AND lower(information_schema.columns.column_name) IN (%s)\n"
          ]
        },
        {
          "output_type": "stream",
          "name": "stdout",
          "text": [
            "2025-02-10 14:56:51,896 INFO sqlalchemy.engine.Engine [cached since 1.823e+04s ago] ('defaultdb', 'partner_data', 'id')\n"
          ]
        },
        {
          "output_type": "stream",
          "name": "stderr",
          "text": [
            "INFO:sqlalchemy.engine.Engine:[cached since 1.823e+04s ago] ('defaultdb', 'partner_data', 'id')\n"
          ]
        },
        {
          "output_type": "stream",
          "name": "stdout",
          "text": [
            "2025-02-10 14:56:52,145 INFO sqlalchemy.engine.Engine SELECT information_schema.columns.table_schema, information_schema.columns.table_name, information_schema.columns.column_name \n",
            "FROM information_schema.columns \n",
            "WHERE information_schema.columns.table_schema = %s AND information_schema.columns.table_name = %s AND lower(information_schema.columns.column_name) IN (%s)\n"
          ]
        },
        {
          "output_type": "stream",
          "name": "stderr",
          "text": [
            "INFO:sqlalchemy.engine.Engine:SELECT information_schema.columns.table_schema, information_schema.columns.table_name, information_schema.columns.column_name \n",
            "FROM information_schema.columns \n",
            "WHERE information_schema.columns.table_schema = %s AND information_schema.columns.table_name = %s AND lower(information_schema.columns.column_name) IN (%s)\n"
          ]
        },
        {
          "output_type": "stream",
          "name": "stdout",
          "text": [
            "2025-02-10 14:56:52,149 INFO sqlalchemy.engine.Engine [cached since 1.823e+04s ago] ('defaultdb', 'vendor_data', 'id')\n"
          ]
        },
        {
          "output_type": "stream",
          "name": "stderr",
          "text": [
            "INFO:sqlalchemy.engine.Engine:[cached since 1.823e+04s ago] ('defaultdb', 'vendor_data', 'id')\n"
          ]
        },
        {
          "output_type": "stream",
          "name": "stdout",
          "text": [
            "2025-02-10 14:56:52,412 INFO sqlalchemy.engine.Engine COMMIT\n"
          ]
        },
        {
          "output_type": "stream",
          "name": "stderr",
          "text": [
            "INFO:sqlalchemy.engine.Engine:COMMIT\n"
          ]
        },
        {
          "output_type": "stream",
          "name": "stdout",
          "text": [
            "2025-02-10 14:57:00,192 INFO sqlalchemy.engine.Engine BEGIN (implicit)\n"
          ]
        },
        {
          "output_type": "stream",
          "name": "stderr",
          "text": [
            "INFO:sqlalchemy.engine.Engine:BEGIN (implicit)\n"
          ]
        },
        {
          "output_type": "stream",
          "name": "stdout",
          "text": [
            "2025-02-10 14:57:00,196 INFO sqlalchemy.engine.Engine SHOW FULL TABLES FROM \"defaultdb\"\n"
          ]
        },
        {
          "output_type": "stream",
          "name": "stderr",
          "text": [
            "INFO:sqlalchemy.engine.Engine:SHOW FULL TABLES FROM \"defaultdb\"\n"
          ]
        },
        {
          "output_type": "stream",
          "name": "stdout",
          "text": [
            "2025-02-10 14:57:00,201 INFO sqlalchemy.engine.Engine [raw sql] ()\n"
          ]
        },
        {
          "output_type": "stream",
          "name": "stderr",
          "text": [
            "INFO:sqlalchemy.engine.Engine:[raw sql] ()\n"
          ]
        },
        {
          "output_type": "stream",
          "name": "stdout",
          "text": [
            "2025-02-10 14:57:00,452 INFO sqlalchemy.engine.Engine SHOW CREATE TABLE \"SequelizeMeta\"\n"
          ]
        },
        {
          "output_type": "stream",
          "name": "stderr",
          "text": [
            "INFO:sqlalchemy.engine.Engine:SHOW CREATE TABLE \"SequelizeMeta\"\n"
          ]
        },
        {
          "output_type": "stream",
          "name": "stdout",
          "text": [
            "2025-02-10 14:57:00,454 INFO sqlalchemy.engine.Engine [raw sql] ()\n"
          ]
        },
        {
          "output_type": "stream",
          "name": "stderr",
          "text": [
            "INFO:sqlalchemy.engine.Engine:[raw sql] ()\n"
          ]
        },
        {
          "output_type": "stream",
          "name": "stdout",
          "text": [
            "2025-02-10 14:57:00,702 INFO sqlalchemy.engine.Engine SHOW CREATE TABLE \"candidate_data\"\n"
          ]
        },
        {
          "output_type": "stream",
          "name": "stderr",
          "text": [
            "INFO:sqlalchemy.engine.Engine:SHOW CREATE TABLE \"candidate_data\"\n"
          ]
        },
        {
          "output_type": "stream",
          "name": "stdout",
          "text": [
            "2025-02-10 14:57:00,706 INFO sqlalchemy.engine.Engine [raw sql] ()\n"
          ]
        },
        {
          "output_type": "stream",
          "name": "stderr",
          "text": [
            "INFO:sqlalchemy.engine.Engine:[raw sql] ()\n"
          ]
        },
        {
          "output_type": "stream",
          "name": "stdout",
          "text": [
            "2025-02-10 14:57:00,955 INFO sqlalchemy.engine.Engine SHOW CREATE TABLE \"candidate_demographics\"\n"
          ]
        },
        {
          "output_type": "stream",
          "name": "stderr",
          "text": [
            "INFO:sqlalchemy.engine.Engine:SHOW CREATE TABLE \"candidate_demographics\"\n"
          ]
        },
        {
          "output_type": "stream",
          "name": "stdout",
          "text": [
            "2025-02-10 14:57:00,959 INFO sqlalchemy.engine.Engine [raw sql] ()\n"
          ]
        },
        {
          "output_type": "stream",
          "name": "stderr",
          "text": [
            "INFO:sqlalchemy.engine.Engine:[raw sql] ()\n"
          ]
        },
        {
          "output_type": "stream",
          "name": "stdout",
          "text": [
            "2025-02-10 14:57:01,210 INFO sqlalchemy.engine.Engine SHOW CREATE TABLE \"csrpartner_data\"\n"
          ]
        },
        {
          "output_type": "stream",
          "name": "stderr",
          "text": [
            "INFO:sqlalchemy.engine.Engine:SHOW CREATE TABLE \"csrpartner_data\"\n"
          ]
        },
        {
          "output_type": "stream",
          "name": "stdout",
          "text": [
            "2025-02-10 14:57:01,214 INFO sqlalchemy.engine.Engine [raw sql] ()\n"
          ]
        },
        {
          "output_type": "stream",
          "name": "stderr",
          "text": [
            "INFO:sqlalchemy.engine.Engine:[raw sql] ()\n"
          ]
        },
        {
          "output_type": "stream",
          "name": "stdout",
          "text": [
            "2025-02-10 14:57:01,466 INFO sqlalchemy.engine.Engine SHOW CREATE TABLE \"csrpartner_demographics\"\n"
          ]
        },
        {
          "output_type": "stream",
          "name": "stderr",
          "text": [
            "INFO:sqlalchemy.engine.Engine:SHOW CREATE TABLE \"csrpartner_demographics\"\n"
          ]
        },
        {
          "output_type": "stream",
          "name": "stdout",
          "text": [
            "2025-02-10 14:57:01,470 INFO sqlalchemy.engine.Engine [raw sql] ()\n"
          ]
        },
        {
          "output_type": "stream",
          "name": "stderr",
          "text": [
            "INFO:sqlalchemy.engine.Engine:[raw sql] ()\n"
          ]
        },
        {
          "output_type": "stream",
          "name": "stdout",
          "text": [
            "2025-02-10 14:57:01,719 INFO sqlalchemy.engine.Engine SHOW CREATE TABLE \"customer_data\"\n"
          ]
        },
        {
          "output_type": "stream",
          "name": "stderr",
          "text": [
            "INFO:sqlalchemy.engine.Engine:SHOW CREATE TABLE \"customer_data\"\n"
          ]
        },
        {
          "output_type": "stream",
          "name": "stdout",
          "text": [
            "2025-02-10 14:57:01,721 INFO sqlalchemy.engine.Engine [raw sql] ()\n"
          ]
        },
        {
          "output_type": "stream",
          "name": "stderr",
          "text": [
            "INFO:sqlalchemy.engine.Engine:[raw sql] ()\n"
          ]
        },
        {
          "output_type": "stream",
          "name": "stdout",
          "text": [
            "2025-02-10 14:57:01,970 INFO sqlalchemy.engine.Engine SHOW CREATE TABLE \"customer_demographics\"\n"
          ]
        },
        {
          "output_type": "stream",
          "name": "stderr",
          "text": [
            "INFO:sqlalchemy.engine.Engine:SHOW CREATE TABLE \"customer_demographics\"\n"
          ]
        },
        {
          "output_type": "stream",
          "name": "stdout",
          "text": [
            "2025-02-10 14:57:01,973 INFO sqlalchemy.engine.Engine [raw sql] ()\n"
          ]
        },
        {
          "output_type": "stream",
          "name": "stderr",
          "text": [
            "INFO:sqlalchemy.engine.Engine:[raw sql] ()\n"
          ]
        },
        {
          "output_type": "stream",
          "name": "stdout",
          "text": [
            "2025-02-10 14:57:02,222 INFO sqlalchemy.engine.Engine SHOW CREATE TABLE \"employee_data\"\n"
          ]
        },
        {
          "output_type": "stream",
          "name": "stderr",
          "text": [
            "INFO:sqlalchemy.engine.Engine:SHOW CREATE TABLE \"employee_data\"\n"
          ]
        },
        {
          "output_type": "stream",
          "name": "stdout",
          "text": [
            "2025-02-10 14:57:02,225 INFO sqlalchemy.engine.Engine [raw sql] ()\n"
          ]
        },
        {
          "output_type": "stream",
          "name": "stderr",
          "text": [
            "INFO:sqlalchemy.engine.Engine:[raw sql] ()\n"
          ]
        },
        {
          "output_type": "stream",
          "name": "stdout",
          "text": [
            "2025-02-10 14:57:02,476 INFO sqlalchemy.engine.Engine SHOW CREATE TABLE \"employee_demographics\"\n"
          ]
        },
        {
          "output_type": "stream",
          "name": "stderr",
          "text": [
            "INFO:sqlalchemy.engine.Engine:SHOW CREATE TABLE \"employee_demographics\"\n"
          ]
        },
        {
          "output_type": "stream",
          "name": "stdout",
          "text": [
            "2025-02-10 14:57:02,479 INFO sqlalchemy.engine.Engine [raw sql] ()\n"
          ]
        },
        {
          "output_type": "stream",
          "name": "stderr",
          "text": [
            "INFO:sqlalchemy.engine.Engine:[raw sql] ()\n"
          ]
        },
        {
          "output_type": "stream",
          "name": "stdout",
          "text": [
            "2025-02-10 14:57:02,727 INFO sqlalchemy.engine.Engine SHOW CREATE TABLE \"investor_data\"\n"
          ]
        },
        {
          "output_type": "stream",
          "name": "stderr",
          "text": [
            "INFO:sqlalchemy.engine.Engine:SHOW CREATE TABLE \"investor_data\"\n"
          ]
        },
        {
          "output_type": "stream",
          "name": "stdout",
          "text": [
            "2025-02-10 14:57:02,731 INFO sqlalchemy.engine.Engine [raw sql] ()\n"
          ]
        },
        {
          "output_type": "stream",
          "name": "stderr",
          "text": [
            "INFO:sqlalchemy.engine.Engine:[raw sql] ()\n"
          ]
        },
        {
          "output_type": "stream",
          "name": "stdout",
          "text": [
            "2025-02-10 14:57:02,981 INFO sqlalchemy.engine.Engine SHOW CREATE TABLE \"investor_demographics\"\n"
          ]
        },
        {
          "output_type": "stream",
          "name": "stderr",
          "text": [
            "INFO:sqlalchemy.engine.Engine:SHOW CREATE TABLE \"investor_demographics\"\n"
          ]
        },
        {
          "output_type": "stream",
          "name": "stdout",
          "text": [
            "2025-02-10 14:57:02,986 INFO sqlalchemy.engine.Engine [raw sql] ()\n"
          ]
        },
        {
          "output_type": "stream",
          "name": "stderr",
          "text": [
            "INFO:sqlalchemy.engine.Engine:[raw sql] ()\n"
          ]
        },
        {
          "output_type": "stream",
          "name": "stdout",
          "text": [
            "2025-02-10 14:57:03,234 INFO sqlalchemy.engine.Engine SHOW CREATE TABLE \"partner_data\"\n"
          ]
        },
        {
          "output_type": "stream",
          "name": "stderr",
          "text": [
            "INFO:sqlalchemy.engine.Engine:SHOW CREATE TABLE \"partner_data\"\n"
          ]
        },
        {
          "output_type": "stream",
          "name": "stdout",
          "text": [
            "2025-02-10 14:57:03,239 INFO sqlalchemy.engine.Engine [raw sql] ()\n"
          ]
        },
        {
          "output_type": "stream",
          "name": "stderr",
          "text": [
            "INFO:sqlalchemy.engine.Engine:[raw sql] ()\n"
          ]
        },
        {
          "output_type": "stream",
          "name": "stdout",
          "text": [
            "2025-02-10 14:57:03,487 INFO sqlalchemy.engine.Engine SHOW CREATE TABLE \"partner_demographics\"\n"
          ]
        },
        {
          "output_type": "stream",
          "name": "stderr",
          "text": [
            "INFO:sqlalchemy.engine.Engine:SHOW CREATE TABLE \"partner_demographics\"\n"
          ]
        },
        {
          "output_type": "stream",
          "name": "stdout",
          "text": [
            "2025-02-10 14:57:03,490 INFO sqlalchemy.engine.Engine [raw sql] ()\n"
          ]
        },
        {
          "output_type": "stream",
          "name": "stderr",
          "text": [
            "INFO:sqlalchemy.engine.Engine:[raw sql] ()\n"
          ]
        },
        {
          "output_type": "stream",
          "name": "stdout",
          "text": [
            "2025-02-10 14:57:03,739 INFO sqlalchemy.engine.Engine SHOW CREATE TABLE \"vendor_data\"\n"
          ]
        },
        {
          "output_type": "stream",
          "name": "stderr",
          "text": [
            "INFO:sqlalchemy.engine.Engine:SHOW CREATE TABLE \"vendor_data\"\n"
          ]
        },
        {
          "output_type": "stream",
          "name": "stdout",
          "text": [
            "2025-02-10 14:57:03,741 INFO sqlalchemy.engine.Engine [raw sql] ()\n"
          ]
        },
        {
          "output_type": "stream",
          "name": "stderr",
          "text": [
            "INFO:sqlalchemy.engine.Engine:[raw sql] ()\n"
          ]
        },
        {
          "output_type": "stream",
          "name": "stdout",
          "text": [
            "2025-02-10 14:57:03,992 INFO sqlalchemy.engine.Engine SHOW CREATE TABLE \"vendor_demographics\"\n"
          ]
        },
        {
          "output_type": "stream",
          "name": "stderr",
          "text": [
            "INFO:sqlalchemy.engine.Engine:SHOW CREATE TABLE \"vendor_demographics\"\n"
          ]
        },
        {
          "output_type": "stream",
          "name": "stdout",
          "text": [
            "2025-02-10 14:57:03,996 INFO sqlalchemy.engine.Engine [raw sql] ()\n"
          ]
        },
        {
          "output_type": "stream",
          "name": "stderr",
          "text": [
            "INFO:sqlalchemy.engine.Engine:[raw sql] ()\n"
          ]
        },
        {
          "output_type": "stream",
          "name": "stdout",
          "text": [
            "2025-02-10 14:57:04,246 INFO sqlalchemy.engine.Engine SELECT information_schema.columns.table_schema, information_schema.columns.table_name, information_schema.columns.column_name \n",
            "FROM information_schema.columns \n",
            "WHERE information_schema.columns.table_schema = %s AND information_schema.columns.table_name = %s AND lower(information_schema.columns.column_name) IN (%s)\n"
          ]
        },
        {
          "output_type": "stream",
          "name": "stderr",
          "text": [
            "INFO:sqlalchemy.engine.Engine:SELECT information_schema.columns.table_schema, information_schema.columns.table_name, information_schema.columns.column_name \n",
            "FROM information_schema.columns \n",
            "WHERE information_schema.columns.table_schema = %s AND information_schema.columns.table_name = %s AND lower(information_schema.columns.column_name) IN (%s)\n"
          ]
        },
        {
          "output_type": "stream",
          "name": "stdout",
          "text": [
            "2025-02-10 14:57:04,250 INFO sqlalchemy.engine.Engine [cached since 1.824e+04s ago] ('defaultdb', 'candidate_data', 'id')\n"
          ]
        },
        {
          "output_type": "stream",
          "name": "stderr",
          "text": [
            "INFO:sqlalchemy.engine.Engine:[cached since 1.824e+04s ago] ('defaultdb', 'candidate_data', 'id')\n"
          ]
        },
        {
          "output_type": "stream",
          "name": "stdout",
          "text": [
            "2025-02-10 14:57:04,503 INFO sqlalchemy.engine.Engine SELECT information_schema.columns.table_schema, information_schema.columns.table_name, information_schema.columns.column_name \n",
            "FROM information_schema.columns \n",
            "WHERE information_schema.columns.table_schema = %s AND information_schema.columns.table_name = %s AND lower(information_schema.columns.column_name) IN (%s)\n"
          ]
        },
        {
          "output_type": "stream",
          "name": "stderr",
          "text": [
            "INFO:sqlalchemy.engine.Engine:SELECT information_schema.columns.table_schema, information_schema.columns.table_name, information_schema.columns.column_name \n",
            "FROM information_schema.columns \n",
            "WHERE information_schema.columns.table_schema = %s AND information_schema.columns.table_name = %s AND lower(information_schema.columns.column_name) IN (%s)\n"
          ]
        },
        {
          "output_type": "stream",
          "name": "stdout",
          "text": [
            "2025-02-10 14:57:04,506 INFO sqlalchemy.engine.Engine [cached since 1.824e+04s ago] ('defaultdb', 'csrpartner_data', 'id')\n"
          ]
        },
        {
          "output_type": "stream",
          "name": "stderr",
          "text": [
            "INFO:sqlalchemy.engine.Engine:[cached since 1.824e+04s ago] ('defaultdb', 'csrpartner_data', 'id')\n"
          ]
        },
        {
          "output_type": "stream",
          "name": "stdout",
          "text": [
            "2025-02-10 14:57:04,758 INFO sqlalchemy.engine.Engine SELECT information_schema.columns.table_schema, information_schema.columns.table_name, information_schema.columns.column_name \n",
            "FROM information_schema.columns \n",
            "WHERE information_schema.columns.table_schema = %s AND information_schema.columns.table_name = %s AND lower(information_schema.columns.column_name) IN (%s)\n"
          ]
        },
        {
          "output_type": "stream",
          "name": "stderr",
          "text": [
            "INFO:sqlalchemy.engine.Engine:SELECT information_schema.columns.table_schema, information_schema.columns.table_name, information_schema.columns.column_name \n",
            "FROM information_schema.columns \n",
            "WHERE information_schema.columns.table_schema = %s AND information_schema.columns.table_name = %s AND lower(information_schema.columns.column_name) IN (%s)\n"
          ]
        },
        {
          "output_type": "stream",
          "name": "stdout",
          "text": [
            "2025-02-10 14:57:04,761 INFO sqlalchemy.engine.Engine [cached since 1.824e+04s ago] ('defaultdb', 'customer_data', 'id')\n"
          ]
        },
        {
          "output_type": "stream",
          "name": "stderr",
          "text": [
            "INFO:sqlalchemy.engine.Engine:[cached since 1.824e+04s ago] ('defaultdb', 'customer_data', 'id')\n"
          ]
        },
        {
          "output_type": "stream",
          "name": "stdout",
          "text": [
            "2025-02-10 14:57:05,011 INFO sqlalchemy.engine.Engine SELECT information_schema.columns.table_schema, information_schema.columns.table_name, information_schema.columns.column_name \n",
            "FROM information_schema.columns \n",
            "WHERE information_schema.columns.table_schema = %s AND information_schema.columns.table_name = %s AND lower(information_schema.columns.column_name) IN (%s)\n"
          ]
        },
        {
          "output_type": "stream",
          "name": "stderr",
          "text": [
            "INFO:sqlalchemy.engine.Engine:SELECT information_schema.columns.table_schema, information_schema.columns.table_name, information_schema.columns.column_name \n",
            "FROM information_schema.columns \n",
            "WHERE information_schema.columns.table_schema = %s AND information_schema.columns.table_name = %s AND lower(information_schema.columns.column_name) IN (%s)\n"
          ]
        },
        {
          "output_type": "stream",
          "name": "stdout",
          "text": [
            "2025-02-10 14:57:05,014 INFO sqlalchemy.engine.Engine [cached since 1.824e+04s ago] ('defaultdb', 'employee_data', 'id')\n"
          ]
        },
        {
          "output_type": "stream",
          "name": "stderr",
          "text": [
            "INFO:sqlalchemy.engine.Engine:[cached since 1.824e+04s ago] ('defaultdb', 'employee_data', 'id')\n"
          ]
        },
        {
          "output_type": "stream",
          "name": "stdout",
          "text": [
            "2025-02-10 14:57:05,263 INFO sqlalchemy.engine.Engine SELECT information_schema.columns.table_schema, information_schema.columns.table_name, information_schema.columns.column_name \n",
            "FROM information_schema.columns \n",
            "WHERE information_schema.columns.table_schema = %s AND information_schema.columns.table_name = %s AND lower(information_schema.columns.column_name) IN (%s)\n"
          ]
        },
        {
          "output_type": "stream",
          "name": "stderr",
          "text": [
            "INFO:sqlalchemy.engine.Engine:SELECT information_schema.columns.table_schema, information_schema.columns.table_name, information_schema.columns.column_name \n",
            "FROM information_schema.columns \n",
            "WHERE information_schema.columns.table_schema = %s AND information_schema.columns.table_name = %s AND lower(information_schema.columns.column_name) IN (%s)\n"
          ]
        },
        {
          "output_type": "stream",
          "name": "stdout",
          "text": [
            "2025-02-10 14:57:05,266 INFO sqlalchemy.engine.Engine [cached since 1.824e+04s ago] ('defaultdb', 'investor_data', 'id')\n"
          ]
        },
        {
          "output_type": "stream",
          "name": "stderr",
          "text": [
            "INFO:sqlalchemy.engine.Engine:[cached since 1.824e+04s ago] ('defaultdb', 'investor_data', 'id')\n"
          ]
        },
        {
          "output_type": "stream",
          "name": "stdout",
          "text": [
            "2025-02-10 14:57:05,516 INFO sqlalchemy.engine.Engine SELECT information_schema.columns.table_schema, information_schema.columns.table_name, information_schema.columns.column_name \n",
            "FROM information_schema.columns \n",
            "WHERE information_schema.columns.table_schema = %s AND information_schema.columns.table_name = %s AND lower(information_schema.columns.column_name) IN (%s)\n"
          ]
        },
        {
          "output_type": "stream",
          "name": "stderr",
          "text": [
            "INFO:sqlalchemy.engine.Engine:SELECT information_schema.columns.table_schema, information_schema.columns.table_name, information_schema.columns.column_name \n",
            "FROM information_schema.columns \n",
            "WHERE information_schema.columns.table_schema = %s AND information_schema.columns.table_name = %s AND lower(information_schema.columns.column_name) IN (%s)\n"
          ]
        },
        {
          "output_type": "stream",
          "name": "stdout",
          "text": [
            "2025-02-10 14:57:05,518 INFO sqlalchemy.engine.Engine [cached since 1.824e+04s ago] ('defaultdb', 'partner_data', 'id')\n"
          ]
        },
        {
          "output_type": "stream",
          "name": "stderr",
          "text": [
            "INFO:sqlalchemy.engine.Engine:[cached since 1.824e+04s ago] ('defaultdb', 'partner_data', 'id')\n"
          ]
        },
        {
          "output_type": "stream",
          "name": "stdout",
          "text": [
            "2025-02-10 14:57:05,768 INFO sqlalchemy.engine.Engine SELECT information_schema.columns.table_schema, information_schema.columns.table_name, information_schema.columns.column_name \n",
            "FROM information_schema.columns \n",
            "WHERE information_schema.columns.table_schema = %s AND information_schema.columns.table_name = %s AND lower(information_schema.columns.column_name) IN (%s)\n"
          ]
        },
        {
          "output_type": "stream",
          "name": "stderr",
          "text": [
            "INFO:sqlalchemy.engine.Engine:SELECT information_schema.columns.table_schema, information_schema.columns.table_name, information_schema.columns.column_name \n",
            "FROM information_schema.columns \n",
            "WHERE information_schema.columns.table_schema = %s AND information_schema.columns.table_name = %s AND lower(information_schema.columns.column_name) IN (%s)\n"
          ]
        },
        {
          "output_type": "stream",
          "name": "stdout",
          "text": [
            "2025-02-10 14:57:05,771 INFO sqlalchemy.engine.Engine [cached since 1.824e+04s ago] ('defaultdb', 'vendor_data', 'id')\n"
          ]
        },
        {
          "output_type": "stream",
          "name": "stderr",
          "text": [
            "INFO:sqlalchemy.engine.Engine:[cached since 1.824e+04s ago] ('defaultdb', 'vendor_data', 'id')\n"
          ]
        },
        {
          "output_type": "stream",
          "name": "stdout",
          "text": [
            "2025-02-10 14:57:06,034 INFO sqlalchemy.engine.Engine COMMIT\n"
          ]
        },
        {
          "output_type": "stream",
          "name": "stderr",
          "text": [
            "INFO:sqlalchemy.engine.Engine:COMMIT\n"
          ]
        },
        {
          "output_type": "stream",
          "name": "stdout",
          "text": [
            "2025-02-10 14:57:08,675 INFO sqlalchemy.engine.Engine BEGIN (implicit)\n"
          ]
        },
        {
          "output_type": "stream",
          "name": "stderr",
          "text": [
            "INFO:sqlalchemy.engine.Engine:BEGIN (implicit)\n"
          ]
        },
        {
          "output_type": "stream",
          "name": "stdout",
          "text": [
            "2025-02-10 14:57:08,680 INFO sqlalchemy.engine.Engine SELECT `attribute_value`, COUNT(*) AS `count` FROM `customer_demographics` WHERE `attribute_name` LIKE '%%location%%' AND `ref_id` IN (SELECT `id` FROM `customer_data` WHERE `diagnostic_id` = '670d7bb908cd96a9c3b69aaf') AND (`attribute_value` IS NOT NULL AND `attribute_value` NOT IN ('', 'N/A')) GROUP BY `attribute_value` ORDER BY `count` DESC;\n"
          ]
        },
        {
          "output_type": "stream",
          "name": "stderr",
          "text": [
            "INFO:sqlalchemy.engine.Engine:SELECT `attribute_value`, COUNT(*) AS `count` FROM `customer_demographics` WHERE `attribute_name` LIKE '%%location%%' AND `ref_id` IN (SELECT `id` FROM `customer_data` WHERE `diagnostic_id` = '670d7bb908cd96a9c3b69aaf') AND (`attribute_value` IS NOT NULL AND `attribute_value` NOT IN ('', 'N/A')) GROUP BY `attribute_value` ORDER BY `count` DESC;\n"
          ]
        },
        {
          "output_type": "stream",
          "name": "stdout",
          "text": [
            "2025-02-10 14:57:08,683 INFO sqlalchemy.engine.Engine [cached since 1239s ago] ()\n"
          ]
        },
        {
          "output_type": "stream",
          "name": "stderr",
          "text": [
            "INFO:sqlalchemy.engine.Engine:[cached since 1239s ago] ()\n"
          ]
        },
        {
          "output_type": "stream",
          "name": "stdout",
          "text": [
            "2025-02-10 14:57:08,927 INFO sqlalchemy.engine.Engine COMMIT\n"
          ]
        },
        {
          "output_type": "stream",
          "name": "stderr",
          "text": [
            "INFO:sqlalchemy.engine.Engine:COMMIT\n",
            "INFO:werkzeug:127.0.0.1 - - [10/Feb/2025 14:57:13] \"POST /dashboardAgent HTTP/1.1\" 200 -\n",
            "INFO:werkzeug:127.0.0.1 - - [10/Feb/2025 15:00:05] \"OPTIONS /dashboardAgent HTTP/1.1\" 200 -\n",
            "INFO:werkzeug:127.0.0.1 - - [10/Feb/2025 15:00:05] \"OPTIONS /dashboardAgent HTTP/1.1\" 200 -\n"
          ]
        },
        {
          "output_type": "stream",
          "name": "stdout",
          "text": [
            "2025-02-10 15:00:06,139 INFO sqlalchemy.engine.Engine BEGIN (implicit)\n"
          ]
        },
        {
          "output_type": "stream",
          "name": "stderr",
          "text": [
            "INFO:sqlalchemy.engine.Engine:BEGIN (implicit)\n"
          ]
        },
        {
          "output_type": "stream",
          "name": "stdout",
          "text": [
            "2025-02-10 15:00:06,144 INFO sqlalchemy.engine.Engine SHOW FULL TABLES FROM \"defaultdb\"\n"
          ]
        },
        {
          "output_type": "stream",
          "name": "stderr",
          "text": [
            "INFO:sqlalchemy.engine.Engine:SHOW FULL TABLES FROM \"defaultdb\"\n"
          ]
        },
        {
          "output_type": "stream",
          "name": "stdout",
          "text": [
            "2025-02-10 15:00:06,149 INFO sqlalchemy.engine.Engine [raw sql] ()\n"
          ]
        },
        {
          "output_type": "stream",
          "name": "stderr",
          "text": [
            "INFO:sqlalchemy.engine.Engine:[raw sql] ()\n"
          ]
        },
        {
          "output_type": "stream",
          "name": "stdout",
          "text": [
            "2025-02-10 15:00:06,153 INFO sqlalchemy.engine.Engine ROLLBACK\n"
          ]
        },
        {
          "output_type": "stream",
          "name": "stderr",
          "text": [
            "INFO:sqlalchemy.engine.Engine:ROLLBACK\n",
            "ERROR:sqlalchemy.pool.impl.AsyncAdaptedQueuePool:Exception during reset or similar\n",
            "Traceback (most recent call last):\n",
            "  File \"/usr/local/lib/python3.11/dist-packages/sqlalchemy/pool/base.py\", line 986, in _finalize_fairy\n",
            "    fairy._reset(\n",
            "  File \"/usr/local/lib/python3.11/dist-packages/sqlalchemy/pool/base.py\", line 1432, in _reset\n",
            "    pool._dialect.do_rollback(self)\n",
            "  File \"/usr/local/lib/python3.11/dist-packages/sqlalchemy/engine/default.py\", line 700, in do_rollback\n",
            "    dbapi_connection.rollback()\n",
            "  File \"/usr/local/lib/python3.11/dist-packages/sqlalchemy/dialects/mysql/aiomysql.py\", line 203, in rollback\n",
            "    self.await_(self._connection.rollback())\n",
            "  File \"/usr/local/lib/python3.11/dist-packages/sqlalchemy/util/_concurrency_py3k.py\", line 132, in await_only\n",
            "    return current.parent.switch(awaitable)  # type: ignore[no-any-return,attr-defined] # noqa: E501\n",
            "           ^^^^^^^^^^^^^^^^^^^^^^^^^^^^^^^^\n",
            "  File \"/usr/local/lib/python3.11/dist-packages/sqlalchemy/util/_concurrency_py3k.py\", line 196, in greenlet_spawn\n",
            "    value = await result\n",
            "            ^^^^^^^^^^^^\n",
            "  File \"/usr/local/lib/python3.11/dist-packages/aiomysql/connection.py\", line 399, in rollback\n",
            "    await self._read_ok_packet()\n",
            "  File \"/usr/local/lib/python3.11/dist-packages/aiomysql/connection.py\", line 372, in _read_ok_packet\n",
            "    pkt = await self._read_packet()\n",
            "          ^^^^^^^^^^^^^^^^^^^^^^^^^\n",
            "  File \"/usr/local/lib/python3.11/dist-packages/aiomysql/connection.py\", line 609, in _read_packet\n",
            "    packet_header = await self._read_bytes(4)\n",
            "                    ^^^^^^^^^^^^^^^^^^^^^^^^^\n",
            "  File \"/usr/local/lib/python3.11/dist-packages/aiomysql/connection.py\", line 657, in _read_bytes\n",
            "    data = await self._reader.readexactly(num_bytes)\n",
            "           ^^^^^^^^^^^^^^^^^^^^^^^^^^^^^^^^^^^^^^^^^\n",
            "  File \"/usr/lib/python3.11/asyncio/streams.py\", line 750, in readexactly\n",
            "    await self._wait_for_data('readexactly')\n",
            "  File \"/usr/lib/python3.11/asyncio/streams.py\", line 543, in _wait_for_data\n",
            "    await self._waiter\n",
            "RuntimeError: Task <Task pending name='Task-1607' coro=<AsyncConnection.close() running at /usr/local/lib/python3.11/dist-packages/sqlalchemy/ext/asyncio/engine.py:482> cb=[shield.<locals>._inner_done_callback() at /usr/lib/python3.11/asyncio/tasks.py:891]> got Future <Future pending> attached to a different loop\n",
            "ERROR:sqlalchemy.pool.impl.AsyncAdaptedQueuePool:Exception terminating connection <AdaptedConnection <aiomysql.connection.Connection object at 0x7e04ee628550>>\n",
            "Traceback (most recent call last):\n",
            "  File \"/usr/local/lib/python3.11/dist-packages/sqlalchemy/pool/base.py\", line 986, in _finalize_fairy\n",
            "    fairy._reset(\n",
            "  File \"/usr/local/lib/python3.11/dist-packages/sqlalchemy/pool/base.py\", line 1432, in _reset\n",
            "    pool._dialect.do_rollback(self)\n",
            "  File \"/usr/local/lib/python3.11/dist-packages/sqlalchemy/engine/default.py\", line 700, in do_rollback\n",
            "    dbapi_connection.rollback()\n",
            "  File \"/usr/local/lib/python3.11/dist-packages/sqlalchemy/dialects/mysql/aiomysql.py\", line 203, in rollback\n",
            "    self.await_(self._connection.rollback())\n",
            "  File \"/usr/local/lib/python3.11/dist-packages/sqlalchemy/util/_concurrency_py3k.py\", line 132, in await_only\n",
            "    return current.parent.switch(awaitable)  # type: ignore[no-any-return,attr-defined] # noqa: E501\n",
            "           ^^^^^^^^^^^^^^^^^^^^^^^^^^^^^^^^\n",
            "  File \"/usr/local/lib/python3.11/dist-packages/sqlalchemy/util/_concurrency_py3k.py\", line 196, in greenlet_spawn\n",
            "    value = await result\n",
            "            ^^^^^^^^^^^^\n",
            "  File \"/usr/local/lib/python3.11/dist-packages/aiomysql/connection.py\", line 399, in rollback\n",
            "    await self._read_ok_packet()\n",
            "  File \"/usr/local/lib/python3.11/dist-packages/aiomysql/connection.py\", line 372, in _read_ok_packet\n",
            "    pkt = await self._read_packet()\n",
            "          ^^^^^^^^^^^^^^^^^^^^^^^^^\n",
            "  File \"/usr/local/lib/python3.11/dist-packages/aiomysql/connection.py\", line 609, in _read_packet\n",
            "    packet_header = await self._read_bytes(4)\n",
            "                    ^^^^^^^^^^^^^^^^^^^^^^^^^\n",
            "  File \"/usr/local/lib/python3.11/dist-packages/aiomysql/connection.py\", line 657, in _read_bytes\n",
            "    data = await self._reader.readexactly(num_bytes)\n",
            "           ^^^^^^^^^^^^^^^^^^^^^^^^^^^^^^^^^^^^^^^^^\n",
            "  File \"/usr/lib/python3.11/asyncio/streams.py\", line 750, in readexactly\n",
            "    await self._wait_for_data('readexactly')\n",
            "  File \"/usr/lib/python3.11/asyncio/streams.py\", line 543, in _wait_for_data\n",
            "    await self._waiter\n",
            "RuntimeError: Task <Task pending name='Task-1607' coro=<AsyncConnection.close() running at /usr/local/lib/python3.11/dist-packages/sqlalchemy/ext/asyncio/engine.py:482> cb=[shield.<locals>._inner_done_callback() at /usr/lib/python3.11/asyncio/tasks.py:891]> got Future <Future pending> attached to a different loop\n",
            "\n",
            "During handling of the above exception, another exception occurred:\n",
            "\n",
            "Traceback (most recent call last):\n",
            "  File \"/usr/local/lib/python3.11/dist-packages/sqlalchemy/pool/base.py\", line 374, in _close_connection\n",
            "    self._dialect.do_terminate(connection)\n",
            "  File \"/usr/local/lib/python3.11/dist-packages/sqlalchemy/dialects/mysql/aiomysql.py\", line 312, in do_terminate\n",
            "    dbapi_connection.terminate()\n",
            "  File \"/usr/local/lib/python3.11/dist-packages/sqlalchemy/dialects/mysql/aiomysql.py\", line 210, in terminate\n",
            "    self._connection.close()\n",
            "  File \"/usr/local/lib/python3.11/dist-packages/aiomysql/connection.py\", line 339, in close\n",
            "    self._writer.transport.close()\n",
            "  File \"/usr/lib/python3.11/asyncio/selector_events.py\", line 864, in close\n",
            "    self._loop.call_soon(self._call_connection_lost, None)\n",
            "  File \"/usr/lib/python3.11/asyncio/base_events.py\", line 762, in call_soon\n",
            "    self._check_closed()\n",
            "  File \"/usr/lib/python3.11/asyncio/base_events.py\", line 520, in _check_closed\n",
            "    raise RuntimeError('Event loop is closed')\n",
            "RuntimeError: Event loop is closed\n",
            "ERROR:__main__:Exception on /dashboardAgent [POST]\n",
            "Traceback (most recent call last):\n",
            "  File \"/usr/local/lib/python3.11/dist-packages/sqlalchemy/ext/asyncio/engine.py\", line 1066, in begin\n",
            "    yield conn\n",
            "  File \"<ipython-input-9-91afecc331e2>\", line 22, in get_schema\n",
            "    await conn.run_sync(metadata.reflect)\n",
            "  File \"/usr/local/lib/python3.11/dist-packages/sqlalchemy/ext/asyncio/engine.py\", line 887, in run_sync\n",
            "    return await greenlet_spawn(\n",
            "           ^^^^^^^^^^^^^^^^^^^^^\n",
            "  File \"/usr/local/lib/python3.11/dist-packages/sqlalchemy/util/_concurrency_py3k.py\", line 201, in greenlet_spawn\n",
            "    result = context.throw(*sys.exc_info())\n",
            "             ^^^^^^^^^^^^^^^^^^^^^^^^^^^^^^\n",
            "  File \"/usr/local/lib/python3.11/dist-packages/sqlalchemy/sql/schema.py\", line 5812, in reflect\n",
            "    insp.get_table_names(schema)\n",
            "  File \"/usr/local/lib/python3.11/dist-packages/sqlalchemy/engine/reflection.py\", line 406, in get_table_names\n",
            "    return self.dialect.get_table_names(\n",
            "           ^^^^^^^^^^^^^^^^^^^^^^^^^^^^^\n",
            "  File \"<string>\", line 2, in get_table_names\n",
            "  File \"/usr/local/lib/python3.11/dist-packages/sqlalchemy/engine/reflection.py\", line 106, in cache\n",
            "    ret = fn(self, con, *args, **kw)\n",
            "          ^^^^^^^^^^^^^^^^^^^^^^^^^^\n",
            "  File \"/usr/local/lib/python3.11/dist-packages/sqlalchemy/dialects/mysql/base.py\", line 2997, in get_table_names\n",
            "    rp = connection.exec_driver_sql(\n",
            "         ^^^^^^^^^^^^^^^^^^^^^^^^^^^\n",
            "  File \"/usr/local/lib/python3.11/dist-packages/sqlalchemy/engine/base.py\", line 1776, in exec_driver_sql\n",
            "    ret = self._execute_context(\n",
            "          ^^^^^^^^^^^^^^^^^^^^^^\n",
            "  File \"/usr/local/lib/python3.11/dist-packages/sqlalchemy/engine/base.py\", line 1843, in _execute_context\n",
            "    return self._exec_single_context(\n",
            "           ^^^^^^^^^^^^^^^^^^^^^^^^^^\n",
            "  File \"/usr/local/lib/python3.11/dist-packages/sqlalchemy/engine/base.py\", line 1983, in _exec_single_context\n",
            "    self._handle_dbapi_exception(\n",
            "  File \"/usr/local/lib/python3.11/dist-packages/sqlalchemy/engine/base.py\", line 2355, in _handle_dbapi_exception\n",
            "    raise exc_info[1].with_traceback(exc_info[2])\n",
            "  File \"/usr/local/lib/python3.11/dist-packages/sqlalchemy/engine/base.py\", line 1964, in _exec_single_context\n",
            "    self.dialect.do_execute(\n",
            "  File \"/usr/local/lib/python3.11/dist-packages/sqlalchemy/engine/default.py\", line 942, in do_execute\n",
            "    cursor.execute(statement, parameters)\n",
            "  File \"/usr/local/lib/python3.11/dist-packages/sqlalchemy/dialects/mysql/aiomysql.py\", line 97, in execute\n",
            "    return self.await_(self._execute_async(operation, parameters))\n",
            "           ^^^^^^^^^^^^^^^^^^^^^^^^^^^^^^^^^^^^^^^^^^^^^^^^^^^^^^^\n",
            "  File \"/usr/local/lib/python3.11/dist-packages/sqlalchemy/util/_concurrency_py3k.py\", line 132, in await_only\n",
            "    return current.parent.switch(awaitable)  # type: ignore[no-any-return,attr-defined] # noqa: E501\n",
            "           ^^^^^^^^^^^^^^^^^^^^^^^^^^^^^^^^\n",
            "  File \"/usr/local/lib/python3.11/dist-packages/sqlalchemy/util/_concurrency_py3k.py\", line 196, in greenlet_spawn\n",
            "    value = await result\n",
            "            ^^^^^^^^^^^^\n",
            "  File \"/usr/local/lib/python3.11/dist-packages/sqlalchemy/dialects/mysql/aiomysql.py\", line 106, in _execute_async\n",
            "    result = await self._cursor.execute(operation, parameters)\n",
            "             ^^^^^^^^^^^^^^^^^^^^^^^^^^^^^^^^^^^^^^^^^^^^^^^^^\n",
            "  File \"/usr/local/lib/python3.11/dist-packages/aiomysql/cursors.py\", line 239, in execute\n",
            "    await self._query(query)\n",
            "  File \"/usr/local/lib/python3.11/dist-packages/aiomysql/cursors.py\", line 457, in _query\n",
            "    await conn.query(q)\n",
            "  File \"/usr/local/lib/python3.11/dist-packages/aiomysql/connection.py\", line 469, in query\n",
            "    await self._read_query_result(unbuffered=unbuffered)\n",
            "  File \"/usr/local/lib/python3.11/dist-packages/aiomysql/connection.py\", line 683, in _read_query_result\n",
            "    await result.read()\n",
            "  File \"/usr/local/lib/python3.11/dist-packages/aiomysql/connection.py\", line 1164, in read\n",
            "    first_packet = await self.connection._read_packet()\n",
            "                   ^^^^^^^^^^^^^^^^^^^^^^^^^^^^^^^^^^^^\n",
            "  File \"/usr/local/lib/python3.11/dist-packages/aiomysql/connection.py\", line 609, in _read_packet\n",
            "    packet_header = await self._read_bytes(4)\n",
            "                    ^^^^^^^^^^^^^^^^^^^^^^^^^\n",
            "  File \"/usr/local/lib/python3.11/dist-packages/aiomysql/connection.py\", line 657, in _read_bytes\n",
            "    data = await self._reader.readexactly(num_bytes)\n",
            "           ^^^^^^^^^^^^^^^^^^^^^^^^^^^^^^^^^^^^^^^^^\n",
            "  File \"/usr/lib/python3.11/asyncio/streams.py\", line 750, in readexactly\n",
            "    await self._wait_for_data('readexactly')\n",
            "  File \"/usr/lib/python3.11/asyncio/streams.py\", line 543, in _wait_for_data\n",
            "    await self._waiter\n",
            "RuntimeError: Task <Task pending name='Task-1606' coro=<parse_question() running at <ipython-input-12-fa7a0aee7706>:10> cb=[Task.task_wakeup()]> got Future <Future pending> attached to a different loop\n",
            "\n",
            "During handling of the above exception, another exception occurred:\n",
            "\n",
            "Traceback (most recent call last):\n",
            "  File \"/usr/local/lib/python3.11/dist-packages/flask/app.py\", line 1511, in wsgi_app\n",
            "    response = self.full_dispatch_request()\n",
            "               ^^^^^^^^^^^^^^^^^^^^^^^^^^^^\n",
            "  File \"/usr/local/lib/python3.11/dist-packages/flask/app.py\", line 919, in full_dispatch_request\n",
            "    rv = self.handle_user_exception(e)\n",
            "         ^^^^^^^^^^^^^^^^^^^^^^^^^^^^^\n",
            "  File \"/usr/local/lib/python3.11/dist-packages/flask_cors/extension.py\", line 194, in wrapped_function\n",
            "    return cors_after_request(app.make_response(f(*args, **kwargs)))\n",
            "                                                ^^^^^^^^^^^^^^^^^^\n",
            "  File \"/usr/local/lib/python3.11/dist-packages/flask/app.py\", line 917, in full_dispatch_request\n",
            "    rv = self.dispatch_request()\n",
            "         ^^^^^^^^^^^^^^^^^^^^^^^\n",
            "  File \"/usr/local/lib/python3.11/dist-packages/flask/app.py\", line 902, in dispatch_request\n",
            "    return self.ensure_sync(self.view_functions[rule.endpoint])(**view_args)  # type: ignore[no-any-return]\n",
            "           ^^^^^^^^^^^^^^^^^^^^^^^^^^^^^^^^^^^^^^^^^^^^^^^^^^^^^^^^^^^^^^^^^\n",
            "  File \"<ipython-input-67-29875ed07a0a>\", line 18, in dashboard_agent\n",
            "    result = asyncio.run(runnable.ainvoke({\"question\": question, \"diagnostic_id\": \"670d7bb908cd96a9c3b69aaf\"}))\n",
            "             ^^^^^^^^^^^^^^^^^^^^^^^^^^^^^^^^^^^^^^^^^^^^^^^^^^^^^^^^^^^^^^^^^^^^^^^^^^^^^^^^^^^^^^^^^^^^^^^^^^\n",
            "  File \"/usr/lib/python3.11/asyncio/runners.py\", line 190, in run\n",
            "    return runner.run(main)\n",
            "           ^^^^^^^^^^^^^^^^\n",
            "  File \"/usr/lib/python3.11/asyncio/runners.py\", line 118, in run\n",
            "    return self._loop.run_until_complete(task)\n",
            "           ^^^^^^^^^^^^^^^^^^^^^^^^^^^^^^^^^^^\n",
            "  File \"/usr/lib/python3.11/asyncio/base_events.py\", line 654, in run_until_complete\n",
            "    return future.result()\n",
            "           ^^^^^^^^^^^^^^^\n",
            "  File \"/usr/local/lib/python3.11/dist-packages/langgraph/pregel/__init__.py\", line 2122, in ainvoke\n",
            "    async for chunk in self.astream(\n",
            "  File \"/usr/local/lib/python3.11/dist-packages/langgraph/pregel/__init__.py\", line 2007, in astream\n",
            "    async for _ in runner.atick(\n",
            "  File \"/usr/local/lib/python3.11/dist-packages/langgraph/pregel/runner.py\", line 444, in atick\n",
            "    await arun_with_retry(\n",
            "  File \"/usr/local/lib/python3.11/dist-packages/langgraph/pregel/retry.py\", line 128, in arun_with_retry\n",
            "    return await task.proc.ainvoke(task.input, config)\n",
            "           ^^^^^^^^^^^^^^^^^^^^^^^^^^^^^^^^^^^^^^^^^^^\n",
            "  File \"/usr/local/lib/python3.11/dist-packages/langgraph/utils/runnable.py\", line 543, in ainvoke\n",
            "    input = await step.ainvoke(input, config, **kwargs)\n",
            "            ^^^^^^^^^^^^^^^^^^^^^^^^^^^^^^^^^^^^^^^^^^^\n",
            "  File \"/usr/local/lib/python3.11/dist-packages/langgraph/utils/runnable.py\", line 331, in ainvoke\n",
            "    ret = await asyncio.create_task(coro, context=context)\n",
            "          ^^^^^^^^^^^^^^^^^^^^^^^^^^^^^^^^^^^^^^^^^^^^^^^^\n",
            "  File \"<ipython-input-12-fa7a0aee7706>\", line 10, in parse_question\n",
            "    schema = await db_manager.get_schema()\n",
            "             ^^^^^^^^^^^^^^^^^^^^^^^^^^^^^\n",
            "  File \"<ipython-input-9-91afecc331e2>\", line 20, in get_schema\n",
            "    async with self.engine.begin() as conn:\n",
            "  File \"/usr/lib/python3.11/contextlib.py\", line 231, in __aexit__\n",
            "    await self.gen.athrow(typ, value, traceback)\n",
            "  File \"/usr/local/lib/python3.11/dist-packages/sqlalchemy/ext/asyncio/engine.py\", line 1065, in begin\n",
            "    async with conn.begin():\n",
            "  File \"/usr/local/lib/python3.11/dist-packages/sqlalchemy/util/_concurrency_py3k.py\", line 201, in greenlet_spawn\n",
            "    result = context.throw(*sys.exc_info())\n",
            "             ^^^^^^^^^^^^^^^^^^^^^^^^^^^^^^\n",
            "  File \"/usr/local/lib/python3.11/dist-packages/sqlalchemy/engine/util.py\", line 162, in __exit__\n",
            "    self.rollback()\n",
            "  File \"/usr/local/lib/python3.11/dist-packages/sqlalchemy/engine/base.py\", line 2608, in rollback\n",
            "    self._do_rollback()\n",
            "  File \"/usr/local/lib/python3.11/dist-packages/sqlalchemy/engine/base.py\", line 2727, in _do_rollback\n",
            "    self._close_impl(try_deactivate=True)\n",
            "  File \"/usr/local/lib/python3.11/dist-packages/sqlalchemy/engine/base.py\", line 2710, in _close_impl\n",
            "    self._connection_rollback_impl()\n",
            "  File \"/usr/local/lib/python3.11/dist-packages/sqlalchemy/engine/base.py\", line 2702, in _connection_rollback_impl\n",
            "    self.connection._rollback_impl()\n",
            "  File \"/usr/local/lib/python3.11/dist-packages/sqlalchemy/engine/base.py\", line 1127, in _rollback_impl\n",
            "    self._handle_dbapi_exception(e, None, None, None, None)\n",
            "  File \"/usr/local/lib/python3.11/dist-packages/sqlalchemy/engine/base.py\", line 2355, in _handle_dbapi_exception\n",
            "    raise exc_info[1].with_traceback(exc_info[2])\n",
            "  File \"/usr/local/lib/python3.11/dist-packages/sqlalchemy/engine/base.py\", line 1125, in _rollback_impl\n",
            "    self.engine.dialect.do_rollback(self.connection)\n",
            "  File \"/usr/local/lib/python3.11/dist-packages/sqlalchemy/engine/default.py\", line 700, in do_rollback\n",
            "    dbapi_connection.rollback()\n",
            "  File \"/usr/local/lib/python3.11/dist-packages/sqlalchemy/dialects/mysql/aiomysql.py\", line 203, in rollback\n",
            "    self.await_(self._connection.rollback())\n",
            "  File \"/usr/local/lib/python3.11/dist-packages/sqlalchemy/util/_concurrency_py3k.py\", line 132, in await_only\n",
            "    return current.parent.switch(awaitable)  # type: ignore[no-any-return,attr-defined] # noqa: E501\n",
            "           ^^^^^^^^^^^^^^^^^^^^^^^^^^^^^^^^\n",
            "  File \"/usr/local/lib/python3.11/dist-packages/sqlalchemy/util/_concurrency_py3k.py\", line 196, in greenlet_spawn\n",
            "    value = await result\n",
            "            ^^^^^^^^^^^^\n",
            "  File \"/usr/local/lib/python3.11/dist-packages/aiomysql/connection.py\", line 399, in rollback\n",
            "    await self._read_ok_packet()\n",
            "  File \"/usr/local/lib/python3.11/dist-packages/aiomysql/connection.py\", line 372, in _read_ok_packet\n",
            "    pkt = await self._read_packet()\n",
            "          ^^^^^^^^^^^^^^^^^^^^^^^^^\n",
            "  File \"/usr/local/lib/python3.11/dist-packages/aiomysql/connection.py\", line 609, in _read_packet\n",
            "    packet_header = await self._read_bytes(4)\n",
            "                    ^^^^^^^^^^^^^^^^^^^^^^^^^\n",
            "  File \"/usr/local/lib/python3.11/dist-packages/aiomysql/connection.py\", line 657, in _read_bytes\n",
            "    data = await self._reader.readexactly(num_bytes)\n",
            "           ^^^^^^^^^^^^^^^^^^^^^^^^^^^^^^^^^^^^^^^^^\n",
            "  File \"/usr/lib/python3.11/asyncio/streams.py\", line 750, in readexactly\n",
            "    await self._wait_for_data('readexactly')\n",
            "  File \"/usr/lib/python3.11/asyncio/streams.py\", line 543, in _wait_for_data\n",
            "    await self._waiter\n",
            "RuntimeError: Task <Task pending name='Task-1606' coro=<parse_question() running at <ipython-input-12-fa7a0aee7706>:10> cb=[Task.task_wakeup()]> got Future <Future pending> attached to a different loop\n",
            "During task with name 'parse_question' and id '49b6537c-ad94-316d-38dd-e50fc5f291c2'\n",
            "INFO:werkzeug:127.0.0.1 - - [10/Feb/2025 15:00:06] \"\u001b[35m\u001b[1mPOST /dashboardAgent HTTP/1.1\u001b[0m\" 500 -\n"
          ]
        },
        {
          "output_type": "stream",
          "name": "stdout",
          "text": [
            "2025-02-10 15:00:06,206 INFO sqlalchemy.engine.Engine BEGIN (implicit)\n"
          ]
        },
        {
          "output_type": "stream",
          "name": "stderr",
          "text": [
            "INFO:sqlalchemy.engine.Engine:BEGIN (implicit)\n"
          ]
        },
        {
          "output_type": "stream",
          "name": "stdout",
          "text": [
            "2025-02-10 15:00:06,212 INFO sqlalchemy.engine.Engine SHOW FULL TABLES FROM \"defaultdb\"\n"
          ]
        },
        {
          "output_type": "stream",
          "name": "stderr",
          "text": [
            "INFO:sqlalchemy.engine.Engine:SHOW FULL TABLES FROM \"defaultdb\"\n"
          ]
        },
        {
          "output_type": "stream",
          "name": "stdout",
          "text": [
            "2025-02-10 15:00:06,218 INFO sqlalchemy.engine.Engine [raw sql] ()\n"
          ]
        },
        {
          "output_type": "stream",
          "name": "stderr",
          "text": [
            "INFO:sqlalchemy.engine.Engine:[raw sql] ()\n"
          ]
        },
        {
          "output_type": "stream",
          "name": "stdout",
          "text": [
            "2025-02-10 15:00:06,222 INFO sqlalchemy.engine.Engine ROLLBACK\n"
          ]
        },
        {
          "output_type": "stream",
          "name": "stderr",
          "text": [
            "INFO:sqlalchemy.engine.Engine:ROLLBACK\n",
            "ERROR:sqlalchemy.pool.impl.AsyncAdaptedQueuePool:Exception during reset or similar\n",
            "Traceback (most recent call last):\n",
            "  File \"/usr/local/lib/python3.11/dist-packages/sqlalchemy/pool/base.py\", line 986, in _finalize_fairy\n",
            "    fairy._reset(\n",
            "  File \"/usr/local/lib/python3.11/dist-packages/sqlalchemy/pool/base.py\", line 1432, in _reset\n",
            "    pool._dialect.do_rollback(self)\n",
            "  File \"/usr/local/lib/python3.11/dist-packages/sqlalchemy/engine/default.py\", line 700, in do_rollback\n",
            "    dbapi_connection.rollback()\n",
            "  File \"/usr/local/lib/python3.11/dist-packages/sqlalchemy/dialects/mysql/aiomysql.py\", line 203, in rollback\n",
            "    self.await_(self._connection.rollback())\n",
            "  File \"/usr/local/lib/python3.11/dist-packages/sqlalchemy/util/_concurrency_py3k.py\", line 132, in await_only\n",
            "    return current.parent.switch(awaitable)  # type: ignore[no-any-return,attr-defined] # noqa: E501\n",
            "           ^^^^^^^^^^^^^^^^^^^^^^^^^^^^^^^^\n",
            "  File \"/usr/local/lib/python3.11/dist-packages/sqlalchemy/util/_concurrency_py3k.py\", line 196, in greenlet_spawn\n",
            "    value = await result\n",
            "            ^^^^^^^^^^^^\n",
            "  File \"/usr/local/lib/python3.11/dist-packages/aiomysql/connection.py\", line 399, in rollback\n",
            "    await self._read_ok_packet()\n",
            "  File \"/usr/local/lib/python3.11/dist-packages/aiomysql/connection.py\", line 372, in _read_ok_packet\n",
            "    pkt = await self._read_packet()\n",
            "          ^^^^^^^^^^^^^^^^^^^^^^^^^\n",
            "  File \"/usr/local/lib/python3.11/dist-packages/aiomysql/connection.py\", line 609, in _read_packet\n",
            "    packet_header = await self._read_bytes(4)\n",
            "                    ^^^^^^^^^^^^^^^^^^^^^^^^^\n",
            "  File \"/usr/local/lib/python3.11/dist-packages/aiomysql/connection.py\", line 657, in _read_bytes\n",
            "    data = await self._reader.readexactly(num_bytes)\n",
            "           ^^^^^^^^^^^^^^^^^^^^^^^^^^^^^^^^^^^^^^^^^\n",
            "  File \"/usr/lib/python3.11/asyncio/streams.py\", line 750, in readexactly\n",
            "    await self._wait_for_data('readexactly')\n",
            "  File \"/usr/lib/python3.11/asyncio/streams.py\", line 543, in _wait_for_data\n",
            "    await self._waiter\n",
            "RuntimeError: Task <Task pending name='Task-1624' coro=<AsyncConnection.close() running at /usr/local/lib/python3.11/dist-packages/sqlalchemy/ext/asyncio/engine.py:482> cb=[shield.<locals>._inner_done_callback() at /usr/lib/python3.11/asyncio/tasks.py:891]> got Future <Future pending> attached to a different loop\n",
            "ERROR:sqlalchemy.pool.impl.AsyncAdaptedQueuePool:Exception terminating connection <AdaptedConnection <aiomysql.connection.Connection object at 0x7e04ee2a46d0>>\n",
            "Traceback (most recent call last):\n",
            "  File \"/usr/local/lib/python3.11/dist-packages/sqlalchemy/pool/base.py\", line 986, in _finalize_fairy\n",
            "    fairy._reset(\n",
            "  File \"/usr/local/lib/python3.11/dist-packages/sqlalchemy/pool/base.py\", line 1432, in _reset\n",
            "    pool._dialect.do_rollback(self)\n",
            "  File \"/usr/local/lib/python3.11/dist-packages/sqlalchemy/engine/default.py\", line 700, in do_rollback\n",
            "    dbapi_connection.rollback()\n",
            "  File \"/usr/local/lib/python3.11/dist-packages/sqlalchemy/dialects/mysql/aiomysql.py\", line 203, in rollback\n",
            "    self.await_(self._connection.rollback())\n",
            "  File \"/usr/local/lib/python3.11/dist-packages/sqlalchemy/util/_concurrency_py3k.py\", line 132, in await_only\n",
            "    return current.parent.switch(awaitable)  # type: ignore[no-any-return,attr-defined] # noqa: E501\n",
            "           ^^^^^^^^^^^^^^^^^^^^^^^^^^^^^^^^\n",
            "  File \"/usr/local/lib/python3.11/dist-packages/sqlalchemy/util/_concurrency_py3k.py\", line 196, in greenlet_spawn\n",
            "    value = await result\n",
            "            ^^^^^^^^^^^^\n",
            "  File \"/usr/local/lib/python3.11/dist-packages/aiomysql/connection.py\", line 399, in rollback\n",
            "    await self._read_ok_packet()\n",
            "  File \"/usr/local/lib/python3.11/dist-packages/aiomysql/connection.py\", line 372, in _read_ok_packet\n",
            "    pkt = await self._read_packet()\n",
            "          ^^^^^^^^^^^^^^^^^^^^^^^^^\n",
            "  File \"/usr/local/lib/python3.11/dist-packages/aiomysql/connection.py\", line 609, in _read_packet\n",
            "    packet_header = await self._read_bytes(4)\n",
            "                    ^^^^^^^^^^^^^^^^^^^^^^^^^\n",
            "  File \"/usr/local/lib/python3.11/dist-packages/aiomysql/connection.py\", line 657, in _read_bytes\n",
            "    data = await self._reader.readexactly(num_bytes)\n",
            "           ^^^^^^^^^^^^^^^^^^^^^^^^^^^^^^^^^^^^^^^^^\n",
            "  File \"/usr/lib/python3.11/asyncio/streams.py\", line 750, in readexactly\n",
            "    await self._wait_for_data('readexactly')\n",
            "  File \"/usr/lib/python3.11/asyncio/streams.py\", line 543, in _wait_for_data\n",
            "    await self._waiter\n",
            "RuntimeError: Task <Task pending name='Task-1624' coro=<AsyncConnection.close() running at /usr/local/lib/python3.11/dist-packages/sqlalchemy/ext/asyncio/engine.py:482> cb=[shield.<locals>._inner_done_callback() at /usr/lib/python3.11/asyncio/tasks.py:891]> got Future <Future pending> attached to a different loop\n",
            "\n",
            "During handling of the above exception, another exception occurred:\n",
            "\n",
            "Traceback (most recent call last):\n",
            "  File \"/usr/local/lib/python3.11/dist-packages/sqlalchemy/pool/base.py\", line 374, in _close_connection\n",
            "    self._dialect.do_terminate(connection)\n",
            "  File \"/usr/local/lib/python3.11/dist-packages/sqlalchemy/dialects/mysql/aiomysql.py\", line 312, in do_terminate\n",
            "    dbapi_connection.terminate()\n",
            "  File \"/usr/local/lib/python3.11/dist-packages/sqlalchemy/dialects/mysql/aiomysql.py\", line 210, in terminate\n",
            "    self._connection.close()\n",
            "  File \"/usr/local/lib/python3.11/dist-packages/aiomysql/connection.py\", line 339, in close\n",
            "    self._writer.transport.close()\n",
            "  File \"/usr/lib/python3.11/asyncio/selector_events.py\", line 864, in close\n",
            "    self._loop.call_soon(self._call_connection_lost, None)\n",
            "  File \"/usr/lib/python3.11/asyncio/base_events.py\", line 762, in call_soon\n",
            "    self._check_closed()\n",
            "  File \"/usr/lib/python3.11/asyncio/base_events.py\", line 520, in _check_closed\n",
            "    raise RuntimeError('Event loop is closed')\n",
            "RuntimeError: Event loop is closed\n",
            "ERROR:__main__:Exception on /dashboardAgent [POST]\n",
            "Traceback (most recent call last):\n",
            "  File \"/usr/local/lib/python3.11/dist-packages/sqlalchemy/ext/asyncio/engine.py\", line 1066, in begin\n",
            "    yield conn\n",
            "  File \"<ipython-input-9-91afecc331e2>\", line 22, in get_schema\n",
            "    await conn.run_sync(metadata.reflect)\n",
            "  File \"/usr/local/lib/python3.11/dist-packages/sqlalchemy/ext/asyncio/engine.py\", line 887, in run_sync\n",
            "    return await greenlet_spawn(\n",
            "           ^^^^^^^^^^^^^^^^^^^^^\n",
            "  File \"/usr/local/lib/python3.11/dist-packages/sqlalchemy/util/_concurrency_py3k.py\", line 201, in greenlet_spawn\n",
            "    result = context.throw(*sys.exc_info())\n",
            "             ^^^^^^^^^^^^^^^^^^^^^^^^^^^^^^\n",
            "  File \"/usr/local/lib/python3.11/dist-packages/sqlalchemy/sql/schema.py\", line 5812, in reflect\n",
            "    insp.get_table_names(schema)\n",
            "  File \"/usr/local/lib/python3.11/dist-packages/sqlalchemy/engine/reflection.py\", line 406, in get_table_names\n",
            "    return self.dialect.get_table_names(\n",
            "           ^^^^^^^^^^^^^^^^^^^^^^^^^^^^^\n",
            "  File \"<string>\", line 2, in get_table_names\n",
            "  File \"/usr/local/lib/python3.11/dist-packages/sqlalchemy/engine/reflection.py\", line 106, in cache\n",
            "    ret = fn(self, con, *args, **kw)\n",
            "          ^^^^^^^^^^^^^^^^^^^^^^^^^^\n",
            "  File \"/usr/local/lib/python3.11/dist-packages/sqlalchemy/dialects/mysql/base.py\", line 2997, in get_table_names\n",
            "    rp = connection.exec_driver_sql(\n",
            "         ^^^^^^^^^^^^^^^^^^^^^^^^^^^\n",
            "  File \"/usr/local/lib/python3.11/dist-packages/sqlalchemy/engine/base.py\", line 1776, in exec_driver_sql\n",
            "    ret = self._execute_context(\n",
            "          ^^^^^^^^^^^^^^^^^^^^^^\n",
            "  File \"/usr/local/lib/python3.11/dist-packages/sqlalchemy/engine/base.py\", line 1843, in _execute_context\n",
            "    return self._exec_single_context(\n",
            "           ^^^^^^^^^^^^^^^^^^^^^^^^^^\n",
            "  File \"/usr/local/lib/python3.11/dist-packages/sqlalchemy/engine/base.py\", line 1983, in _exec_single_context\n",
            "    self._handle_dbapi_exception(\n",
            "  File \"/usr/local/lib/python3.11/dist-packages/sqlalchemy/engine/base.py\", line 2355, in _handle_dbapi_exception\n",
            "    raise exc_info[1].with_traceback(exc_info[2])\n",
            "  File \"/usr/local/lib/python3.11/dist-packages/sqlalchemy/engine/base.py\", line 1964, in _exec_single_context\n",
            "    self.dialect.do_execute(\n",
            "  File \"/usr/local/lib/python3.11/dist-packages/sqlalchemy/engine/default.py\", line 942, in do_execute\n",
            "    cursor.execute(statement, parameters)\n",
            "  File \"/usr/local/lib/python3.11/dist-packages/sqlalchemy/dialects/mysql/aiomysql.py\", line 97, in execute\n",
            "    return self.await_(self._execute_async(operation, parameters))\n",
            "           ^^^^^^^^^^^^^^^^^^^^^^^^^^^^^^^^^^^^^^^^^^^^^^^^^^^^^^^\n",
            "  File \"/usr/local/lib/python3.11/dist-packages/sqlalchemy/util/_concurrency_py3k.py\", line 132, in await_only\n",
            "    return current.parent.switch(awaitable)  # type: ignore[no-any-return,attr-defined] # noqa: E501\n",
            "           ^^^^^^^^^^^^^^^^^^^^^^^^^^^^^^^^\n",
            "  File \"/usr/local/lib/python3.11/dist-packages/sqlalchemy/util/_concurrency_py3k.py\", line 196, in greenlet_spawn\n",
            "    value = await result\n",
            "            ^^^^^^^^^^^^\n",
            "  File \"/usr/local/lib/python3.11/dist-packages/sqlalchemy/dialects/mysql/aiomysql.py\", line 106, in _execute_async\n",
            "    result = await self._cursor.execute(operation, parameters)\n",
            "             ^^^^^^^^^^^^^^^^^^^^^^^^^^^^^^^^^^^^^^^^^^^^^^^^^\n",
            "  File \"/usr/local/lib/python3.11/dist-packages/aiomysql/cursors.py\", line 239, in execute\n",
            "    await self._query(query)\n",
            "  File \"/usr/local/lib/python3.11/dist-packages/aiomysql/cursors.py\", line 457, in _query\n",
            "    await conn.query(q)\n",
            "  File \"/usr/local/lib/python3.11/dist-packages/aiomysql/connection.py\", line 469, in query\n",
            "    await self._read_query_result(unbuffered=unbuffered)\n",
            "  File \"/usr/local/lib/python3.11/dist-packages/aiomysql/connection.py\", line 683, in _read_query_result\n",
            "    await result.read()\n",
            "  File \"/usr/local/lib/python3.11/dist-packages/aiomysql/connection.py\", line 1164, in read\n",
            "    first_packet = await self.connection._read_packet()\n",
            "                   ^^^^^^^^^^^^^^^^^^^^^^^^^^^^^^^^^^^^\n",
            "  File \"/usr/local/lib/python3.11/dist-packages/aiomysql/connection.py\", line 609, in _read_packet\n",
            "    packet_header = await self._read_bytes(4)\n",
            "                    ^^^^^^^^^^^^^^^^^^^^^^^^^\n",
            "  File \"/usr/local/lib/python3.11/dist-packages/aiomysql/connection.py\", line 657, in _read_bytes\n",
            "    data = await self._reader.readexactly(num_bytes)\n",
            "           ^^^^^^^^^^^^^^^^^^^^^^^^^^^^^^^^^^^^^^^^^\n",
            "  File \"/usr/lib/python3.11/asyncio/streams.py\", line 750, in readexactly\n",
            "    await self._wait_for_data('readexactly')\n",
            "  File \"/usr/lib/python3.11/asyncio/streams.py\", line 543, in _wait_for_data\n",
            "    await self._waiter\n",
            "RuntimeError: Task <Task pending name='Task-1623' coro=<parse_question() running at <ipython-input-12-fa7a0aee7706>:10> cb=[Task.task_wakeup()]> got Future <Future pending> attached to a different loop\n",
            "\n",
            "During handling of the above exception, another exception occurred:\n",
            "\n",
            "Traceback (most recent call last):\n",
            "  File \"/usr/local/lib/python3.11/dist-packages/flask/app.py\", line 1511, in wsgi_app\n",
            "    response = self.full_dispatch_request()\n",
            "               ^^^^^^^^^^^^^^^^^^^^^^^^^^^^\n",
            "  File \"/usr/local/lib/python3.11/dist-packages/flask/app.py\", line 919, in full_dispatch_request\n",
            "    rv = self.handle_user_exception(e)\n",
            "         ^^^^^^^^^^^^^^^^^^^^^^^^^^^^^\n",
            "  File \"/usr/local/lib/python3.11/dist-packages/flask_cors/extension.py\", line 194, in wrapped_function\n",
            "    return cors_after_request(app.make_response(f(*args, **kwargs)))\n",
            "                                                ^^^^^^^^^^^^^^^^^^\n",
            "  File \"/usr/local/lib/python3.11/dist-packages/flask/app.py\", line 917, in full_dispatch_request\n",
            "    rv = self.dispatch_request()\n",
            "         ^^^^^^^^^^^^^^^^^^^^^^^\n",
            "  File \"/usr/local/lib/python3.11/dist-packages/flask/app.py\", line 902, in dispatch_request\n",
            "    return self.ensure_sync(self.view_functions[rule.endpoint])(**view_args)  # type: ignore[no-any-return]\n",
            "           ^^^^^^^^^^^^^^^^^^^^^^^^^^^^^^^^^^^^^^^^^^^^^^^^^^^^^^^^^^^^^^^^^\n",
            "  File \"<ipython-input-67-29875ed07a0a>\", line 18, in dashboard_agent\n",
            "    result = asyncio.run(runnable.ainvoke({\"question\": question, \"diagnostic_id\": \"670d7bb908cd96a9c3b69aaf\"}))\n",
            "             ^^^^^^^^^^^^^^^^^^^^^^^^^^^^^^^^^^^^^^^^^^^^^^^^^^^^^^^^^^^^^^^^^^^^^^^^^^^^^^^^^^^^^^^^^^^^^^^^^^\n",
            "  File \"/usr/lib/python3.11/asyncio/runners.py\", line 190, in run\n",
            "    return runner.run(main)\n",
            "           ^^^^^^^^^^^^^^^^\n",
            "  File \"/usr/lib/python3.11/asyncio/runners.py\", line 118, in run\n",
            "    return self._loop.run_until_complete(task)\n",
            "           ^^^^^^^^^^^^^^^^^^^^^^^^^^^^^^^^^^^\n",
            "  File \"/usr/lib/python3.11/asyncio/base_events.py\", line 654, in run_until_complete\n",
            "    return future.result()\n",
            "           ^^^^^^^^^^^^^^^\n",
            "  File \"/usr/local/lib/python3.11/dist-packages/langgraph/pregel/__init__.py\", line 2122, in ainvoke\n",
            "    async for chunk in self.astream(\n",
            "  File \"/usr/local/lib/python3.11/dist-packages/langgraph/pregel/__init__.py\", line 2007, in astream\n",
            "    async for _ in runner.atick(\n",
            "  File \"/usr/local/lib/python3.11/dist-packages/langgraph/pregel/runner.py\", line 444, in atick\n",
            "    await arun_with_retry(\n",
            "  File \"/usr/local/lib/python3.11/dist-packages/langgraph/pregel/retry.py\", line 128, in arun_with_retry\n",
            "    return await task.proc.ainvoke(task.input, config)\n",
            "           ^^^^^^^^^^^^^^^^^^^^^^^^^^^^^^^^^^^^^^^^^^^\n",
            "  File \"/usr/local/lib/python3.11/dist-packages/langgraph/utils/runnable.py\", line 543, in ainvoke\n",
            "    input = await step.ainvoke(input, config, **kwargs)\n",
            "            ^^^^^^^^^^^^^^^^^^^^^^^^^^^^^^^^^^^^^^^^^^^\n",
            "  File \"/usr/local/lib/python3.11/dist-packages/langgraph/utils/runnable.py\", line 331, in ainvoke\n",
            "    ret = await asyncio.create_task(coro, context=context)\n",
            "          ^^^^^^^^^^^^^^^^^^^^^^^^^^^^^^^^^^^^^^^^^^^^^^^^\n",
            "  File \"<ipython-input-12-fa7a0aee7706>\", line 10, in parse_question\n",
            "    schema = await db_manager.get_schema()\n",
            "             ^^^^^^^^^^^^^^^^^^^^^^^^^^^^^\n",
            "  File \"<ipython-input-9-91afecc331e2>\", line 20, in get_schema\n",
            "    async with self.engine.begin() as conn:\n",
            "  File \"/usr/lib/python3.11/contextlib.py\", line 231, in __aexit__\n",
            "    await self.gen.athrow(typ, value, traceback)\n",
            "  File \"/usr/local/lib/python3.11/dist-packages/sqlalchemy/ext/asyncio/engine.py\", line 1065, in begin\n",
            "    async with conn.begin():\n",
            "  File \"/usr/local/lib/python3.11/dist-packages/sqlalchemy/util/_concurrency_py3k.py\", line 201, in greenlet_spawn\n",
            "    result = context.throw(*sys.exc_info())\n",
            "             ^^^^^^^^^^^^^^^^^^^^^^^^^^^^^^\n",
            "  File \"/usr/local/lib/python3.11/dist-packages/sqlalchemy/engine/util.py\", line 162, in __exit__\n",
            "    self.rollback()\n",
            "  File \"/usr/local/lib/python3.11/dist-packages/sqlalchemy/engine/base.py\", line 2608, in rollback\n",
            "    self._do_rollback()\n",
            "  File \"/usr/local/lib/python3.11/dist-packages/sqlalchemy/engine/base.py\", line 2727, in _do_rollback\n",
            "    self._close_impl(try_deactivate=True)\n",
            "  File \"/usr/local/lib/python3.11/dist-packages/sqlalchemy/engine/base.py\", line 2710, in _close_impl\n",
            "    self._connection_rollback_impl()\n",
            "  File \"/usr/local/lib/python3.11/dist-packages/sqlalchemy/engine/base.py\", line 2702, in _connection_rollback_impl\n",
            "    self.connection._rollback_impl()\n",
            "  File \"/usr/local/lib/python3.11/dist-packages/sqlalchemy/engine/base.py\", line 1127, in _rollback_impl\n",
            "    self._handle_dbapi_exception(e, None, None, None, None)\n",
            "  File \"/usr/local/lib/python3.11/dist-packages/sqlalchemy/engine/base.py\", line 2355, in _handle_dbapi_exception\n",
            "    raise exc_info[1].with_traceback(exc_info[2])\n",
            "  File \"/usr/local/lib/python3.11/dist-packages/sqlalchemy/engine/base.py\", line 1125, in _rollback_impl\n",
            "    self.engine.dialect.do_rollback(self.connection)\n",
            "  File \"/usr/local/lib/python3.11/dist-packages/sqlalchemy/engine/default.py\", line 700, in do_rollback\n",
            "    dbapi_connection.rollback()\n",
            "  File \"/usr/local/lib/python3.11/dist-packages/sqlalchemy/dialects/mysql/aiomysql.py\", line 203, in rollback\n",
            "    self.await_(self._connection.rollback())\n",
            "  File \"/usr/local/lib/python3.11/dist-packages/sqlalchemy/util/_concurrency_py3k.py\", line 132, in await_only\n",
            "    return current.parent.switch(awaitable)  # type: ignore[no-any-return,attr-defined] # noqa: E501\n",
            "           ^^^^^^^^^^^^^^^^^^^^^^^^^^^^^^^^\n",
            "  File \"/usr/local/lib/python3.11/dist-packages/sqlalchemy/util/_concurrency_py3k.py\", line 196, in greenlet_spawn\n",
            "    value = await result\n",
            "            ^^^^^^^^^^^^\n",
            "  File \"/usr/local/lib/python3.11/dist-packages/aiomysql/connection.py\", line 399, in rollback\n",
            "    await self._read_ok_packet()\n",
            "  File \"/usr/local/lib/python3.11/dist-packages/aiomysql/connection.py\", line 372, in _read_ok_packet\n",
            "    pkt = await self._read_packet()\n",
            "          ^^^^^^^^^^^^^^^^^^^^^^^^^\n",
            "  File \"/usr/local/lib/python3.11/dist-packages/aiomysql/connection.py\", line 609, in _read_packet\n",
            "    packet_header = await self._read_bytes(4)\n",
            "                    ^^^^^^^^^^^^^^^^^^^^^^^^^\n",
            "  File \"/usr/local/lib/python3.11/dist-packages/aiomysql/connection.py\", line 657, in _read_bytes\n",
            "    data = await self._reader.readexactly(num_bytes)\n",
            "           ^^^^^^^^^^^^^^^^^^^^^^^^^^^^^^^^^^^^^^^^^\n",
            "  File \"/usr/lib/python3.11/asyncio/streams.py\", line 750, in readexactly\n",
            "    await self._wait_for_data('readexactly')\n",
            "  File \"/usr/lib/python3.11/asyncio/streams.py\", line 543, in _wait_for_data\n",
            "    await self._waiter\n",
            "RuntimeError: Task <Task pending name='Task-1623' coro=<parse_question() running at <ipython-input-12-fa7a0aee7706>:10> cb=[Task.task_wakeup()]> got Future <Future pending> attached to a different loop\n",
            "During task with name 'parse_question' and id 'b8bb2a13-516e-51bb-5489-77b975ee7343'\n",
            "INFO:werkzeug:127.0.0.1 - - [10/Feb/2025 15:00:06] \"\u001b[35m\u001b[1mPOST /dashboardAgent HTTP/1.1\u001b[0m\" 500 -\n",
            "INFO:werkzeug:127.0.0.1 - - [10/Feb/2025 15:00:35] \"OPTIONS /dashboardAgent HTTP/1.1\" 200 -\n",
            "INFO:werkzeug:127.0.0.1 - - [10/Feb/2025 15:00:35] \"OPTIONS /dashboardAgent HTTP/1.1\" 200 -\n"
          ]
        },
        {
          "output_type": "stream",
          "name": "stdout",
          "text": [
            "2025-02-10 15:00:37,264 INFO sqlalchemy.engine.Engine BEGIN (implicit)\n"
          ]
        },
        {
          "output_type": "stream",
          "name": "stderr",
          "text": [
            "INFO:sqlalchemy.engine.Engine:BEGIN (implicit)\n"
          ]
        },
        {
          "output_type": "stream",
          "name": "stdout",
          "text": [
            "2025-02-10 15:00:37,269 INFO sqlalchemy.engine.Engine SHOW FULL TABLES FROM \"defaultdb\"\n"
          ]
        },
        {
          "output_type": "stream",
          "name": "stderr",
          "text": [
            "INFO:sqlalchemy.engine.Engine:SHOW FULL TABLES FROM \"defaultdb\"\n"
          ]
        },
        {
          "output_type": "stream",
          "name": "stdout",
          "text": [
            "2025-02-10 15:00:37,274 INFO sqlalchemy.engine.Engine [raw sql] ()\n"
          ]
        },
        {
          "output_type": "stream",
          "name": "stderr",
          "text": [
            "INFO:sqlalchemy.engine.Engine:[raw sql] ()\n"
          ]
        },
        {
          "output_type": "stream",
          "name": "stdout",
          "text": [
            "2025-02-10 15:00:37,336 INFO sqlalchemy.engine.Engine BEGIN (implicit)\n"
          ]
        },
        {
          "output_type": "stream",
          "name": "stderr",
          "text": [
            "INFO:sqlalchemy.engine.Engine:BEGIN (implicit)\n"
          ]
        },
        {
          "output_type": "stream",
          "name": "stdout",
          "text": [
            "2025-02-10 15:00:37,340 INFO sqlalchemy.engine.Engine SHOW FULL TABLES FROM \"defaultdb\"\n"
          ]
        },
        {
          "output_type": "stream",
          "name": "stderr",
          "text": [
            "INFO:sqlalchemy.engine.Engine:SHOW FULL TABLES FROM \"defaultdb\"\n"
          ]
        },
        {
          "output_type": "stream",
          "name": "stdout",
          "text": [
            "2025-02-10 15:00:37,343 INFO sqlalchemy.engine.Engine [raw sql] ()\n"
          ]
        },
        {
          "output_type": "stream",
          "name": "stderr",
          "text": [
            "INFO:sqlalchemy.engine.Engine:[raw sql] ()\n"
          ]
        },
        {
          "output_type": "stream",
          "name": "stdout",
          "text": [
            "2025-02-10 15:00:37,519 INFO sqlalchemy.engine.Engine SHOW CREATE TABLE \"SequelizeMeta\"\n"
          ]
        },
        {
          "output_type": "stream",
          "name": "stderr",
          "text": [
            "INFO:sqlalchemy.engine.Engine:SHOW CREATE TABLE \"SequelizeMeta\"\n"
          ]
        },
        {
          "output_type": "stream",
          "name": "stdout",
          "text": [
            "2025-02-10 15:00:37,522 INFO sqlalchemy.engine.Engine [raw sql] ()\n"
          ]
        },
        {
          "output_type": "stream",
          "name": "stderr",
          "text": [
            "INFO:sqlalchemy.engine.Engine:[raw sql] ()\n"
          ]
        },
        {
          "output_type": "stream",
          "name": "stdout",
          "text": [
            "2025-02-10 15:00:37,588 INFO sqlalchemy.engine.Engine SHOW CREATE TABLE \"SequelizeMeta\"\n"
          ]
        },
        {
          "output_type": "stream",
          "name": "stderr",
          "text": [
            "INFO:sqlalchemy.engine.Engine:SHOW CREATE TABLE \"SequelizeMeta\"\n"
          ]
        },
        {
          "output_type": "stream",
          "name": "stdout",
          "text": [
            "2025-02-10 15:00:37,591 INFO sqlalchemy.engine.Engine [raw sql] ()\n"
          ]
        },
        {
          "output_type": "stream",
          "name": "stderr",
          "text": [
            "INFO:sqlalchemy.engine.Engine:[raw sql] ()\n"
          ]
        },
        {
          "output_type": "stream",
          "name": "stdout",
          "text": [
            "2025-02-10 15:00:37,766 INFO sqlalchemy.engine.Engine SHOW CREATE TABLE \"candidate_data\"\n"
          ]
        },
        {
          "output_type": "stream",
          "name": "stderr",
          "text": [
            "INFO:sqlalchemy.engine.Engine:SHOW CREATE TABLE \"candidate_data\"\n"
          ]
        },
        {
          "output_type": "stream",
          "name": "stdout",
          "text": [
            "2025-02-10 15:00:37,769 INFO sqlalchemy.engine.Engine [raw sql] ()\n"
          ]
        },
        {
          "output_type": "stream",
          "name": "stderr",
          "text": [
            "INFO:sqlalchemy.engine.Engine:[raw sql] ()\n"
          ]
        },
        {
          "output_type": "stream",
          "name": "stdout",
          "text": [
            "2025-02-10 15:00:37,834 INFO sqlalchemy.engine.Engine SHOW CREATE TABLE \"candidate_data\"\n"
          ]
        },
        {
          "output_type": "stream",
          "name": "stderr",
          "text": [
            "INFO:sqlalchemy.engine.Engine:SHOW CREATE TABLE \"candidate_data\"\n"
          ]
        },
        {
          "output_type": "stream",
          "name": "stdout",
          "text": [
            "2025-02-10 15:00:37,837 INFO sqlalchemy.engine.Engine [raw sql] ()\n"
          ]
        },
        {
          "output_type": "stream",
          "name": "stderr",
          "text": [
            "INFO:sqlalchemy.engine.Engine:[raw sql] ()\n"
          ]
        },
        {
          "output_type": "stream",
          "name": "stdout",
          "text": [
            "2025-02-10 15:00:38,013 INFO sqlalchemy.engine.Engine SHOW CREATE TABLE \"candidate_demographics\"\n"
          ]
        },
        {
          "output_type": "stream",
          "name": "stderr",
          "text": [
            "INFO:sqlalchemy.engine.Engine:SHOW CREATE TABLE \"candidate_demographics\"\n"
          ]
        },
        {
          "output_type": "stream",
          "name": "stdout",
          "text": [
            "2025-02-10 15:00:38,017 INFO sqlalchemy.engine.Engine [raw sql] ()\n"
          ]
        },
        {
          "output_type": "stream",
          "name": "stderr",
          "text": [
            "INFO:sqlalchemy.engine.Engine:[raw sql] ()\n"
          ]
        },
        {
          "output_type": "stream",
          "name": "stdout",
          "text": [
            "2025-02-10 15:00:38,080 INFO sqlalchemy.engine.Engine SHOW CREATE TABLE \"candidate_demographics\"\n"
          ]
        },
        {
          "output_type": "stream",
          "name": "stderr",
          "text": [
            "INFO:sqlalchemy.engine.Engine:SHOW CREATE TABLE \"candidate_demographics\"\n"
          ]
        },
        {
          "output_type": "stream",
          "name": "stdout",
          "text": [
            "2025-02-10 15:00:38,083 INFO sqlalchemy.engine.Engine [raw sql] ()\n"
          ]
        },
        {
          "output_type": "stream",
          "name": "stderr",
          "text": [
            "INFO:sqlalchemy.engine.Engine:[raw sql] ()\n"
          ]
        },
        {
          "output_type": "stream",
          "name": "stdout",
          "text": [
            "2025-02-10 15:00:38,262 INFO sqlalchemy.engine.Engine SHOW CREATE TABLE \"csrpartner_data\"\n"
          ]
        },
        {
          "output_type": "stream",
          "name": "stderr",
          "text": [
            "INFO:sqlalchemy.engine.Engine:SHOW CREATE TABLE \"csrpartner_data\"\n"
          ]
        },
        {
          "output_type": "stream",
          "name": "stdout",
          "text": [
            "2025-02-10 15:00:38,265 INFO sqlalchemy.engine.Engine [raw sql] ()\n"
          ]
        },
        {
          "output_type": "stream",
          "name": "stderr",
          "text": [
            "INFO:sqlalchemy.engine.Engine:[raw sql] ()\n"
          ]
        },
        {
          "output_type": "stream",
          "name": "stdout",
          "text": [
            "2025-02-10 15:00:38,328 INFO sqlalchemy.engine.Engine SHOW CREATE TABLE \"csrpartner_data\"\n"
          ]
        },
        {
          "output_type": "stream",
          "name": "stderr",
          "text": [
            "INFO:sqlalchemy.engine.Engine:SHOW CREATE TABLE \"csrpartner_data\"\n"
          ]
        },
        {
          "output_type": "stream",
          "name": "stdout",
          "text": [
            "2025-02-10 15:00:38,333 INFO sqlalchemy.engine.Engine [raw sql] ()\n"
          ]
        },
        {
          "output_type": "stream",
          "name": "stderr",
          "text": [
            "INFO:sqlalchemy.engine.Engine:[raw sql] ()\n"
          ]
        },
        {
          "output_type": "stream",
          "name": "stdout",
          "text": [
            "2025-02-10 15:00:38,511 INFO sqlalchemy.engine.Engine SHOW CREATE TABLE \"csrpartner_demographics\"\n"
          ]
        },
        {
          "output_type": "stream",
          "name": "stderr",
          "text": [
            "INFO:sqlalchemy.engine.Engine:SHOW CREATE TABLE \"csrpartner_demographics\"\n"
          ]
        },
        {
          "output_type": "stream",
          "name": "stdout",
          "text": [
            "2025-02-10 15:00:38,515 INFO sqlalchemy.engine.Engine [raw sql] ()\n"
          ]
        },
        {
          "output_type": "stream",
          "name": "stderr",
          "text": [
            "INFO:sqlalchemy.engine.Engine:[raw sql] ()\n"
          ]
        },
        {
          "output_type": "stream",
          "name": "stdout",
          "text": [
            "2025-02-10 15:00:38,576 INFO sqlalchemy.engine.Engine SHOW CREATE TABLE \"csrpartner_demographics\"\n"
          ]
        },
        {
          "output_type": "stream",
          "name": "stderr",
          "text": [
            "INFO:sqlalchemy.engine.Engine:SHOW CREATE TABLE \"csrpartner_demographics\"\n"
          ]
        },
        {
          "output_type": "stream",
          "name": "stdout",
          "text": [
            "2025-02-10 15:00:38,581 INFO sqlalchemy.engine.Engine [raw sql] ()\n"
          ]
        },
        {
          "output_type": "stream",
          "name": "stderr",
          "text": [
            "INFO:sqlalchemy.engine.Engine:[raw sql] ()\n"
          ]
        },
        {
          "output_type": "stream",
          "name": "stdout",
          "text": [
            "2025-02-10 15:00:38,760 INFO sqlalchemy.engine.Engine SHOW CREATE TABLE \"customer_data\"\n"
          ]
        },
        {
          "output_type": "stream",
          "name": "stderr",
          "text": [
            "INFO:sqlalchemy.engine.Engine:SHOW CREATE TABLE \"customer_data\"\n"
          ]
        },
        {
          "output_type": "stream",
          "name": "stdout",
          "text": [
            "2025-02-10 15:00:38,764 INFO sqlalchemy.engine.Engine [raw sql] ()\n"
          ]
        },
        {
          "output_type": "stream",
          "name": "stderr",
          "text": [
            "INFO:sqlalchemy.engine.Engine:[raw sql] ()\n"
          ]
        },
        {
          "output_type": "stream",
          "name": "stdout",
          "text": [
            "2025-02-10 15:00:38,825 INFO sqlalchemy.engine.Engine SHOW CREATE TABLE \"customer_data\"\n"
          ]
        },
        {
          "output_type": "stream",
          "name": "stderr",
          "text": [
            "INFO:sqlalchemy.engine.Engine:SHOW CREATE TABLE \"customer_data\"\n"
          ]
        },
        {
          "output_type": "stream",
          "name": "stdout",
          "text": [
            "2025-02-10 15:00:38,828 INFO sqlalchemy.engine.Engine [raw sql] ()\n"
          ]
        },
        {
          "output_type": "stream",
          "name": "stderr",
          "text": [
            "INFO:sqlalchemy.engine.Engine:[raw sql] ()\n"
          ]
        },
        {
          "output_type": "stream",
          "name": "stdout",
          "text": [
            "2025-02-10 15:00:39,008 INFO sqlalchemy.engine.Engine SHOW CREATE TABLE \"customer_demographics\"\n"
          ]
        },
        {
          "output_type": "stream",
          "name": "stderr",
          "text": [
            "INFO:sqlalchemy.engine.Engine:SHOW CREATE TABLE \"customer_demographics\"\n"
          ]
        },
        {
          "output_type": "stream",
          "name": "stdout",
          "text": [
            "2025-02-10 15:00:39,012 INFO sqlalchemy.engine.Engine [raw sql] ()\n"
          ]
        },
        {
          "output_type": "stream",
          "name": "stderr",
          "text": [
            "INFO:sqlalchemy.engine.Engine:[raw sql] ()\n"
          ]
        },
        {
          "output_type": "stream",
          "name": "stdout",
          "text": [
            "2025-02-10 15:00:39,072 INFO sqlalchemy.engine.Engine SHOW CREATE TABLE \"customer_demographics\"\n"
          ]
        },
        {
          "output_type": "stream",
          "name": "stderr",
          "text": [
            "INFO:sqlalchemy.engine.Engine:SHOW CREATE TABLE \"customer_demographics\"\n"
          ]
        },
        {
          "output_type": "stream",
          "name": "stdout",
          "text": [
            "2025-02-10 15:00:39,075 INFO sqlalchemy.engine.Engine [raw sql] ()\n"
          ]
        },
        {
          "output_type": "stream",
          "name": "stderr",
          "text": [
            "INFO:sqlalchemy.engine.Engine:[raw sql] ()\n"
          ]
        },
        {
          "output_type": "stream",
          "name": "stdout",
          "text": [
            "2025-02-10 15:00:39,259 INFO sqlalchemy.engine.Engine SHOW CREATE TABLE \"employee_data\"\n"
          ]
        },
        {
          "output_type": "stream",
          "name": "stderr",
          "text": [
            "INFO:sqlalchemy.engine.Engine:SHOW CREATE TABLE \"employee_data\"\n"
          ]
        },
        {
          "output_type": "stream",
          "name": "stdout",
          "text": [
            "2025-02-10 15:00:39,261 INFO sqlalchemy.engine.Engine [raw sql] ()\n"
          ]
        },
        {
          "output_type": "stream",
          "name": "stderr",
          "text": [
            "INFO:sqlalchemy.engine.Engine:[raw sql] ()\n"
          ]
        },
        {
          "output_type": "stream",
          "name": "stdout",
          "text": [
            "2025-02-10 15:00:39,317 INFO sqlalchemy.engine.Engine SHOW CREATE TABLE \"employee_data\"\n"
          ]
        },
        {
          "output_type": "stream",
          "name": "stderr",
          "text": [
            "INFO:sqlalchemy.engine.Engine:SHOW CREATE TABLE \"employee_data\"\n"
          ]
        },
        {
          "output_type": "stream",
          "name": "stdout",
          "text": [
            "2025-02-10 15:00:39,320 INFO sqlalchemy.engine.Engine [raw sql] ()\n"
          ]
        },
        {
          "output_type": "stream",
          "name": "stderr",
          "text": [
            "INFO:sqlalchemy.engine.Engine:[raw sql] ()\n"
          ]
        },
        {
          "output_type": "stream",
          "name": "stdout",
          "text": [
            "2025-02-10 15:00:39,505 INFO sqlalchemy.engine.Engine SHOW CREATE TABLE \"employee_demographics\"\n"
          ]
        },
        {
          "output_type": "stream",
          "name": "stderr",
          "text": [
            "INFO:sqlalchemy.engine.Engine:SHOW CREATE TABLE \"employee_demographics\"\n"
          ]
        },
        {
          "output_type": "stream",
          "name": "stdout",
          "text": [
            "2025-02-10 15:00:39,509 INFO sqlalchemy.engine.Engine [raw sql] ()\n"
          ]
        },
        {
          "output_type": "stream",
          "name": "stderr",
          "text": [
            "INFO:sqlalchemy.engine.Engine:[raw sql] ()\n"
          ]
        },
        {
          "output_type": "stream",
          "name": "stdout",
          "text": [
            "2025-02-10 15:00:39,563 INFO sqlalchemy.engine.Engine SHOW CREATE TABLE \"employee_demographics\"\n"
          ]
        },
        {
          "output_type": "stream",
          "name": "stderr",
          "text": [
            "INFO:sqlalchemy.engine.Engine:SHOW CREATE TABLE \"employee_demographics\"\n"
          ]
        },
        {
          "output_type": "stream",
          "name": "stdout",
          "text": [
            "2025-02-10 15:00:39,566 INFO sqlalchemy.engine.Engine [raw sql] ()\n"
          ]
        },
        {
          "output_type": "stream",
          "name": "stderr",
          "text": [
            "INFO:sqlalchemy.engine.Engine:[raw sql] ()\n"
          ]
        },
        {
          "output_type": "stream",
          "name": "stdout",
          "text": [
            "2025-02-10 15:00:39,754 INFO sqlalchemy.engine.Engine SHOW CREATE TABLE \"investor_data\"\n"
          ]
        },
        {
          "output_type": "stream",
          "name": "stderr",
          "text": [
            "INFO:sqlalchemy.engine.Engine:SHOW CREATE TABLE \"investor_data\"\n"
          ]
        },
        {
          "output_type": "stream",
          "name": "stdout",
          "text": [
            "2025-02-10 15:00:39,758 INFO sqlalchemy.engine.Engine [raw sql] ()\n"
          ]
        },
        {
          "output_type": "stream",
          "name": "stderr",
          "text": [
            "INFO:sqlalchemy.engine.Engine:[raw sql] ()\n"
          ]
        },
        {
          "output_type": "stream",
          "name": "stdout",
          "text": [
            "2025-02-10 15:00:39,808 INFO sqlalchemy.engine.Engine SHOW CREATE TABLE \"investor_data\"\n"
          ]
        },
        {
          "output_type": "stream",
          "name": "stderr",
          "text": [
            "INFO:sqlalchemy.engine.Engine:SHOW CREATE TABLE \"investor_data\"\n"
          ]
        },
        {
          "output_type": "stream",
          "name": "stdout",
          "text": [
            "2025-02-10 15:00:39,811 INFO sqlalchemy.engine.Engine [raw sql] ()\n"
          ]
        },
        {
          "output_type": "stream",
          "name": "stderr",
          "text": [
            "INFO:sqlalchemy.engine.Engine:[raw sql] ()\n"
          ]
        },
        {
          "output_type": "stream",
          "name": "stdout",
          "text": [
            "2025-02-10 15:00:40,006 INFO sqlalchemy.engine.Engine SHOW CREATE TABLE \"investor_demographics\"\n"
          ]
        },
        {
          "output_type": "stream",
          "name": "stderr",
          "text": [
            "INFO:sqlalchemy.engine.Engine:SHOW CREATE TABLE \"investor_demographics\"\n"
          ]
        },
        {
          "output_type": "stream",
          "name": "stdout",
          "text": [
            "2025-02-10 15:00:40,010 INFO sqlalchemy.engine.Engine [raw sql] ()\n"
          ]
        },
        {
          "output_type": "stream",
          "name": "stderr",
          "text": [
            "INFO:sqlalchemy.engine.Engine:[raw sql] ()\n"
          ]
        },
        {
          "output_type": "stream",
          "name": "stdout",
          "text": [
            "2025-02-10 15:00:40,053 INFO sqlalchemy.engine.Engine SHOW CREATE TABLE \"investor_demographics\"\n"
          ]
        },
        {
          "output_type": "stream",
          "name": "stderr",
          "text": [
            "INFO:sqlalchemy.engine.Engine:SHOW CREATE TABLE \"investor_demographics\"\n"
          ]
        },
        {
          "output_type": "stream",
          "name": "stdout",
          "text": [
            "2025-02-10 15:00:40,056 INFO sqlalchemy.engine.Engine [raw sql] ()\n"
          ]
        },
        {
          "output_type": "stream",
          "name": "stderr",
          "text": [
            "INFO:sqlalchemy.engine.Engine:[raw sql] ()\n"
          ]
        },
        {
          "output_type": "stream",
          "name": "stdout",
          "text": [
            "2025-02-10 15:00:40,255 INFO sqlalchemy.engine.Engine SHOW CREATE TABLE \"partner_data\"\n"
          ]
        },
        {
          "output_type": "stream",
          "name": "stderr",
          "text": [
            "INFO:sqlalchemy.engine.Engine:SHOW CREATE TABLE \"partner_data\"\n"
          ]
        },
        {
          "output_type": "stream",
          "name": "stdout",
          "text": [
            "2025-02-10 15:00:40,259 INFO sqlalchemy.engine.Engine [raw sql] ()\n"
          ]
        },
        {
          "output_type": "stream",
          "name": "stderr",
          "text": [
            "INFO:sqlalchemy.engine.Engine:[raw sql] ()\n"
          ]
        },
        {
          "output_type": "stream",
          "name": "stdout",
          "text": [
            "2025-02-10 15:00:40,302 INFO sqlalchemy.engine.Engine SHOW CREATE TABLE \"partner_data\"\n"
          ]
        },
        {
          "output_type": "stream",
          "name": "stderr",
          "text": [
            "INFO:sqlalchemy.engine.Engine:SHOW CREATE TABLE \"partner_data\"\n"
          ]
        },
        {
          "output_type": "stream",
          "name": "stdout",
          "text": [
            "2025-02-10 15:00:40,305 INFO sqlalchemy.engine.Engine [raw sql] ()\n"
          ]
        },
        {
          "output_type": "stream",
          "name": "stderr",
          "text": [
            "INFO:sqlalchemy.engine.Engine:[raw sql] ()\n"
          ]
        },
        {
          "output_type": "stream",
          "name": "stdout",
          "text": [
            "2025-02-10 15:00:40,504 INFO sqlalchemy.engine.Engine SHOW CREATE TABLE \"partner_demographics\"\n"
          ]
        },
        {
          "output_type": "stream",
          "name": "stderr",
          "text": [
            "INFO:sqlalchemy.engine.Engine:SHOW CREATE TABLE \"partner_demographics\"\n"
          ]
        },
        {
          "output_type": "stream",
          "name": "stdout",
          "text": [
            "2025-02-10 15:00:40,506 INFO sqlalchemy.engine.Engine [raw sql] ()\n"
          ]
        },
        {
          "output_type": "stream",
          "name": "stderr",
          "text": [
            "INFO:sqlalchemy.engine.Engine:[raw sql] ()\n"
          ]
        },
        {
          "output_type": "stream",
          "name": "stdout",
          "text": [
            "2025-02-10 15:00:40,547 INFO sqlalchemy.engine.Engine SHOW CREATE TABLE \"partner_demographics\"\n"
          ]
        },
        {
          "output_type": "stream",
          "name": "stderr",
          "text": [
            "INFO:sqlalchemy.engine.Engine:SHOW CREATE TABLE \"partner_demographics\"\n"
          ]
        },
        {
          "output_type": "stream",
          "name": "stdout",
          "text": [
            "2025-02-10 15:00:40,550 INFO sqlalchemy.engine.Engine [raw sql] ()\n"
          ]
        },
        {
          "output_type": "stream",
          "name": "stderr",
          "text": [
            "INFO:sqlalchemy.engine.Engine:[raw sql] ()\n"
          ]
        },
        {
          "output_type": "stream",
          "name": "stdout",
          "text": [
            "2025-02-10 15:00:40,749 INFO sqlalchemy.engine.Engine SHOW CREATE TABLE \"vendor_data\"\n"
          ]
        },
        {
          "output_type": "stream",
          "name": "stderr",
          "text": [
            "INFO:sqlalchemy.engine.Engine:SHOW CREATE TABLE \"vendor_data\"\n"
          ]
        },
        {
          "output_type": "stream",
          "name": "stdout",
          "text": [
            "2025-02-10 15:00:40,752 INFO sqlalchemy.engine.Engine [raw sql] ()\n"
          ]
        },
        {
          "output_type": "stream",
          "name": "stderr",
          "text": [
            "INFO:sqlalchemy.engine.Engine:[raw sql] ()\n"
          ]
        },
        {
          "output_type": "stream",
          "name": "stdout",
          "text": [
            "2025-02-10 15:00:40,792 INFO sqlalchemy.engine.Engine SHOW CREATE TABLE \"vendor_data\"\n"
          ]
        },
        {
          "output_type": "stream",
          "name": "stderr",
          "text": [
            "INFO:sqlalchemy.engine.Engine:SHOW CREATE TABLE \"vendor_data\"\n"
          ]
        },
        {
          "output_type": "stream",
          "name": "stdout",
          "text": [
            "2025-02-10 15:00:40,795 INFO sqlalchemy.engine.Engine [raw sql] ()\n"
          ]
        },
        {
          "output_type": "stream",
          "name": "stderr",
          "text": [
            "INFO:sqlalchemy.engine.Engine:[raw sql] ()\n"
          ]
        },
        {
          "output_type": "stream",
          "name": "stdout",
          "text": [
            "2025-02-10 15:00:40,996 INFO sqlalchemy.engine.Engine SHOW CREATE TABLE \"vendor_demographics\"\n"
          ]
        },
        {
          "output_type": "stream",
          "name": "stderr",
          "text": [
            "INFO:sqlalchemy.engine.Engine:SHOW CREATE TABLE \"vendor_demographics\"\n"
          ]
        },
        {
          "output_type": "stream",
          "name": "stdout",
          "text": [
            "2025-02-10 15:00:40,998 INFO sqlalchemy.engine.Engine [raw sql] ()\n"
          ]
        },
        {
          "output_type": "stream",
          "name": "stderr",
          "text": [
            "INFO:sqlalchemy.engine.Engine:[raw sql] ()\n"
          ]
        },
        {
          "output_type": "stream",
          "name": "stdout",
          "text": [
            "2025-02-10 15:00:41,038 INFO sqlalchemy.engine.Engine SHOW CREATE TABLE \"vendor_demographics\"\n"
          ]
        },
        {
          "output_type": "stream",
          "name": "stderr",
          "text": [
            "INFO:sqlalchemy.engine.Engine:SHOW CREATE TABLE \"vendor_demographics\"\n"
          ]
        },
        {
          "output_type": "stream",
          "name": "stdout",
          "text": [
            "2025-02-10 15:00:41,040 INFO sqlalchemy.engine.Engine [raw sql] ()\n"
          ]
        },
        {
          "output_type": "stream",
          "name": "stderr",
          "text": [
            "INFO:sqlalchemy.engine.Engine:[raw sql] ()\n"
          ]
        },
        {
          "output_type": "stream",
          "name": "stdout",
          "text": [
            "2025-02-10 15:00:41,243 INFO sqlalchemy.engine.Engine SELECT information_schema.columns.table_schema, information_schema.columns.table_name, information_schema.columns.column_name \n",
            "FROM information_schema.columns \n",
            "WHERE information_schema.columns.table_schema = %s AND information_schema.columns.table_name = %s AND lower(information_schema.columns.column_name) IN (%s)\n"
          ]
        },
        {
          "output_type": "stream",
          "name": "stderr",
          "text": [
            "INFO:sqlalchemy.engine.Engine:SELECT information_schema.columns.table_schema, information_schema.columns.table_name, information_schema.columns.column_name \n",
            "FROM information_schema.columns \n",
            "WHERE information_schema.columns.table_schema = %s AND information_schema.columns.table_name = %s AND lower(information_schema.columns.column_name) IN (%s)\n"
          ]
        },
        {
          "output_type": "stream",
          "name": "stdout",
          "text": [
            "2025-02-10 15:00:41,245 INFO sqlalchemy.engine.Engine [cached since 1.846e+04s ago] ('defaultdb', 'candidate_data', 'id')\n"
          ]
        },
        {
          "output_type": "stream",
          "name": "stderr",
          "text": [
            "INFO:sqlalchemy.engine.Engine:[cached since 1.846e+04s ago] ('defaultdb', 'candidate_data', 'id')\n"
          ]
        },
        {
          "output_type": "stream",
          "name": "stdout",
          "text": [
            "2025-02-10 15:00:41,283 INFO sqlalchemy.engine.Engine SELECT information_schema.columns.table_schema, information_schema.columns.table_name, information_schema.columns.column_name \n",
            "FROM information_schema.columns \n",
            "WHERE information_schema.columns.table_schema = %s AND information_schema.columns.table_name = %s AND lower(information_schema.columns.column_name) IN (%s)\n"
          ]
        },
        {
          "output_type": "stream",
          "name": "stderr",
          "text": [
            "INFO:sqlalchemy.engine.Engine:SELECT information_schema.columns.table_schema, information_schema.columns.table_name, information_schema.columns.column_name \n",
            "FROM information_schema.columns \n",
            "WHERE information_schema.columns.table_schema = %s AND information_schema.columns.table_name = %s AND lower(information_schema.columns.column_name) IN (%s)\n"
          ]
        },
        {
          "output_type": "stream",
          "name": "stdout",
          "text": [
            "2025-02-10 15:00:41,288 INFO sqlalchemy.engine.Engine [cached since 1.846e+04s ago] ('defaultdb', 'candidate_data', 'id')\n"
          ]
        },
        {
          "output_type": "stream",
          "name": "stderr",
          "text": [
            "INFO:sqlalchemy.engine.Engine:[cached since 1.846e+04s ago] ('defaultdb', 'candidate_data', 'id')\n"
          ]
        },
        {
          "output_type": "stream",
          "name": "stdout",
          "text": [
            "2025-02-10 15:00:41,490 INFO sqlalchemy.engine.Engine SELECT information_schema.columns.table_schema, information_schema.columns.table_name, information_schema.columns.column_name \n",
            "FROM information_schema.columns \n",
            "WHERE information_schema.columns.table_schema = %s AND information_schema.columns.table_name = %s AND lower(information_schema.columns.column_name) IN (%s)\n"
          ]
        },
        {
          "output_type": "stream",
          "name": "stderr",
          "text": [
            "INFO:sqlalchemy.engine.Engine:SELECT information_schema.columns.table_schema, information_schema.columns.table_name, information_schema.columns.column_name \n",
            "FROM information_schema.columns \n",
            "WHERE information_schema.columns.table_schema = %s AND information_schema.columns.table_name = %s AND lower(information_schema.columns.column_name) IN (%s)\n"
          ]
        },
        {
          "output_type": "stream",
          "name": "stdout",
          "text": [
            "2025-02-10 15:00:41,494 INFO sqlalchemy.engine.Engine [cached since 1.846e+04s ago] ('defaultdb', 'csrpartner_data', 'id')\n"
          ]
        },
        {
          "output_type": "stream",
          "name": "stderr",
          "text": [
            "INFO:sqlalchemy.engine.Engine:[cached since 1.846e+04s ago] ('defaultdb', 'csrpartner_data', 'id')\n"
          ]
        },
        {
          "output_type": "stream",
          "name": "stdout",
          "text": [
            "2025-02-10 15:00:41,532 INFO sqlalchemy.engine.Engine SELECT information_schema.columns.table_schema, information_schema.columns.table_name, information_schema.columns.column_name \n",
            "FROM information_schema.columns \n",
            "WHERE information_schema.columns.table_schema = %s AND information_schema.columns.table_name = %s AND lower(information_schema.columns.column_name) IN (%s)\n"
          ]
        },
        {
          "output_type": "stream",
          "name": "stderr",
          "text": [
            "INFO:sqlalchemy.engine.Engine:SELECT information_schema.columns.table_schema, information_schema.columns.table_name, information_schema.columns.column_name \n",
            "FROM information_schema.columns \n",
            "WHERE information_schema.columns.table_schema = %s AND information_schema.columns.table_name = %s AND lower(information_schema.columns.column_name) IN (%s)\n"
          ]
        },
        {
          "output_type": "stream",
          "name": "stdout",
          "text": [
            "2025-02-10 15:00:41,535 INFO sqlalchemy.engine.Engine [cached since 1.846e+04s ago] ('defaultdb', 'csrpartner_data', 'id')\n"
          ]
        },
        {
          "output_type": "stream",
          "name": "stderr",
          "text": [
            "INFO:sqlalchemy.engine.Engine:[cached since 1.846e+04s ago] ('defaultdb', 'csrpartner_data', 'id')\n"
          ]
        },
        {
          "output_type": "stream",
          "name": "stdout",
          "text": [
            "2025-02-10 15:00:41,739 INFO sqlalchemy.engine.Engine SELECT information_schema.columns.table_schema, information_schema.columns.table_name, information_schema.columns.column_name \n",
            "FROM information_schema.columns \n",
            "WHERE information_schema.columns.table_schema = %s AND information_schema.columns.table_name = %s AND lower(information_schema.columns.column_name) IN (%s)\n"
          ]
        },
        {
          "output_type": "stream",
          "name": "stderr",
          "text": [
            "INFO:sqlalchemy.engine.Engine:SELECT information_schema.columns.table_schema, information_schema.columns.table_name, information_schema.columns.column_name \n",
            "FROM information_schema.columns \n",
            "WHERE information_schema.columns.table_schema = %s AND information_schema.columns.table_name = %s AND lower(information_schema.columns.column_name) IN (%s)\n"
          ]
        },
        {
          "output_type": "stream",
          "name": "stdout",
          "text": [
            "2025-02-10 15:00:41,742 INFO sqlalchemy.engine.Engine [cached since 1.846e+04s ago] ('defaultdb', 'customer_data', 'id')\n"
          ]
        },
        {
          "output_type": "stream",
          "name": "stderr",
          "text": [
            "INFO:sqlalchemy.engine.Engine:[cached since 1.846e+04s ago] ('defaultdb', 'customer_data', 'id')\n"
          ]
        },
        {
          "output_type": "stream",
          "name": "stdout",
          "text": [
            "2025-02-10 15:00:41,781 INFO sqlalchemy.engine.Engine SELECT information_schema.columns.table_schema, information_schema.columns.table_name, information_schema.columns.column_name \n",
            "FROM information_schema.columns \n",
            "WHERE information_schema.columns.table_schema = %s AND information_schema.columns.table_name = %s AND lower(information_schema.columns.column_name) IN (%s)\n"
          ]
        },
        {
          "output_type": "stream",
          "name": "stderr",
          "text": [
            "INFO:sqlalchemy.engine.Engine:SELECT information_schema.columns.table_schema, information_schema.columns.table_name, information_schema.columns.column_name \n",
            "FROM information_schema.columns \n",
            "WHERE information_schema.columns.table_schema = %s AND information_schema.columns.table_name = %s AND lower(information_schema.columns.column_name) IN (%s)\n"
          ]
        },
        {
          "output_type": "stream",
          "name": "stdout",
          "text": [
            "2025-02-10 15:00:41,783 INFO sqlalchemy.engine.Engine [cached since 1.846e+04s ago] ('defaultdb', 'customer_data', 'id')\n"
          ]
        },
        {
          "output_type": "stream",
          "name": "stderr",
          "text": [
            "INFO:sqlalchemy.engine.Engine:[cached since 1.846e+04s ago] ('defaultdb', 'customer_data', 'id')\n"
          ]
        },
        {
          "output_type": "stream",
          "name": "stdout",
          "text": [
            "2025-02-10 15:00:41,988 INFO sqlalchemy.engine.Engine SELECT information_schema.columns.table_schema, information_schema.columns.table_name, information_schema.columns.column_name \n",
            "FROM information_schema.columns \n",
            "WHERE information_schema.columns.table_schema = %s AND information_schema.columns.table_name = %s AND lower(information_schema.columns.column_name) IN (%s)\n"
          ]
        },
        {
          "output_type": "stream",
          "name": "stderr",
          "text": [
            "INFO:sqlalchemy.engine.Engine:SELECT information_schema.columns.table_schema, information_schema.columns.table_name, information_schema.columns.column_name \n",
            "FROM information_schema.columns \n",
            "WHERE information_schema.columns.table_schema = %s AND information_schema.columns.table_name = %s AND lower(information_schema.columns.column_name) IN (%s)\n"
          ]
        },
        {
          "output_type": "stream",
          "name": "stdout",
          "text": [
            "2025-02-10 15:00:41,990 INFO sqlalchemy.engine.Engine [cached since 1.846e+04s ago] ('defaultdb', 'employee_data', 'id')\n"
          ]
        },
        {
          "output_type": "stream",
          "name": "stderr",
          "text": [
            "INFO:sqlalchemy.engine.Engine:[cached since 1.846e+04s ago] ('defaultdb', 'employee_data', 'id')\n"
          ]
        },
        {
          "output_type": "stream",
          "name": "stdout",
          "text": [
            "2025-02-10 15:00:42,027 INFO sqlalchemy.engine.Engine SELECT information_schema.columns.table_schema, information_schema.columns.table_name, information_schema.columns.column_name \n",
            "FROM information_schema.columns \n",
            "WHERE information_schema.columns.table_schema = %s AND information_schema.columns.table_name = %s AND lower(information_schema.columns.column_name) IN (%s)\n"
          ]
        },
        {
          "output_type": "stream",
          "name": "stderr",
          "text": [
            "INFO:sqlalchemy.engine.Engine:SELECT information_schema.columns.table_schema, information_schema.columns.table_name, information_schema.columns.column_name \n",
            "FROM information_schema.columns \n",
            "WHERE information_schema.columns.table_schema = %s AND information_schema.columns.table_name = %s AND lower(information_schema.columns.column_name) IN (%s)\n"
          ]
        },
        {
          "output_type": "stream",
          "name": "stdout",
          "text": [
            "2025-02-10 15:00:42,030 INFO sqlalchemy.engine.Engine [cached since 1.846e+04s ago] ('defaultdb', 'employee_data', 'id')\n"
          ]
        },
        {
          "output_type": "stream",
          "name": "stderr",
          "text": [
            "INFO:sqlalchemy.engine.Engine:[cached since 1.846e+04s ago] ('defaultdb', 'employee_data', 'id')\n"
          ]
        },
        {
          "output_type": "stream",
          "name": "stdout",
          "text": [
            "2025-02-10 15:00:42,235 INFO sqlalchemy.engine.Engine SELECT information_schema.columns.table_schema, information_schema.columns.table_name, information_schema.columns.column_name \n",
            "FROM information_schema.columns \n",
            "WHERE information_schema.columns.table_schema = %s AND information_schema.columns.table_name = %s AND lower(information_schema.columns.column_name) IN (%s)\n"
          ]
        },
        {
          "output_type": "stream",
          "name": "stderr",
          "text": [
            "INFO:sqlalchemy.engine.Engine:SELECT information_schema.columns.table_schema, information_schema.columns.table_name, information_schema.columns.column_name \n",
            "FROM information_schema.columns \n",
            "WHERE information_schema.columns.table_schema = %s AND information_schema.columns.table_name = %s AND lower(information_schema.columns.column_name) IN (%s)\n"
          ]
        },
        {
          "output_type": "stream",
          "name": "stdout",
          "text": [
            "2025-02-10 15:00:42,238 INFO sqlalchemy.engine.Engine [cached since 1.846e+04s ago] ('defaultdb', 'investor_data', 'id')\n"
          ]
        },
        {
          "output_type": "stream",
          "name": "stderr",
          "text": [
            "INFO:sqlalchemy.engine.Engine:[cached since 1.846e+04s ago] ('defaultdb', 'investor_data', 'id')\n"
          ]
        },
        {
          "output_type": "stream",
          "name": "stdout",
          "text": [
            "2025-02-10 15:00:42,276 INFO sqlalchemy.engine.Engine SELECT information_schema.columns.table_schema, information_schema.columns.table_name, information_schema.columns.column_name \n",
            "FROM information_schema.columns \n",
            "WHERE information_schema.columns.table_schema = %s AND information_schema.columns.table_name = %s AND lower(information_schema.columns.column_name) IN (%s)\n"
          ]
        },
        {
          "output_type": "stream",
          "name": "stderr",
          "text": [
            "INFO:sqlalchemy.engine.Engine:SELECT information_schema.columns.table_schema, information_schema.columns.table_name, information_schema.columns.column_name \n",
            "FROM information_schema.columns \n",
            "WHERE information_schema.columns.table_schema = %s AND information_schema.columns.table_name = %s AND lower(information_schema.columns.column_name) IN (%s)\n"
          ]
        },
        {
          "output_type": "stream",
          "name": "stdout",
          "text": [
            "2025-02-10 15:00:42,279 INFO sqlalchemy.engine.Engine [cached since 1.846e+04s ago] ('defaultdb', 'investor_data', 'id')\n"
          ]
        },
        {
          "output_type": "stream",
          "name": "stderr",
          "text": [
            "INFO:sqlalchemy.engine.Engine:[cached since 1.846e+04s ago] ('defaultdb', 'investor_data', 'id')\n"
          ]
        },
        {
          "output_type": "stream",
          "name": "stdout",
          "text": [
            "2025-02-10 15:00:42,486 INFO sqlalchemy.engine.Engine SELECT information_schema.columns.table_schema, information_schema.columns.table_name, information_schema.columns.column_name \n",
            "FROM information_schema.columns \n",
            "WHERE information_schema.columns.table_schema = %s AND information_schema.columns.table_name = %s AND lower(information_schema.columns.column_name) IN (%s)\n"
          ]
        },
        {
          "output_type": "stream",
          "name": "stderr",
          "text": [
            "INFO:sqlalchemy.engine.Engine:SELECT information_schema.columns.table_schema, information_schema.columns.table_name, information_schema.columns.column_name \n",
            "FROM information_schema.columns \n",
            "WHERE information_schema.columns.table_schema = %s AND information_schema.columns.table_name = %s AND lower(information_schema.columns.column_name) IN (%s)\n"
          ]
        },
        {
          "output_type": "stream",
          "name": "stdout",
          "text": [
            "2025-02-10 15:00:42,490 INFO sqlalchemy.engine.Engine [cached since 1.846e+04s ago] ('defaultdb', 'partner_data', 'id')\n"
          ]
        },
        {
          "output_type": "stream",
          "name": "stderr",
          "text": [
            "INFO:sqlalchemy.engine.Engine:[cached since 1.846e+04s ago] ('defaultdb', 'partner_data', 'id')\n"
          ]
        },
        {
          "output_type": "stream",
          "name": "stdout",
          "text": [
            "2025-02-10 15:00:42,524 INFO sqlalchemy.engine.Engine SELECT information_schema.columns.table_schema, information_schema.columns.table_name, information_schema.columns.column_name \n",
            "FROM information_schema.columns \n",
            "WHERE information_schema.columns.table_schema = %s AND information_schema.columns.table_name = %s AND lower(information_schema.columns.column_name) IN (%s)\n"
          ]
        },
        {
          "output_type": "stream",
          "name": "stderr",
          "text": [
            "INFO:sqlalchemy.engine.Engine:SELECT information_schema.columns.table_schema, information_schema.columns.table_name, information_schema.columns.column_name \n",
            "FROM information_schema.columns \n",
            "WHERE information_schema.columns.table_schema = %s AND information_schema.columns.table_name = %s AND lower(information_schema.columns.column_name) IN (%s)\n"
          ]
        },
        {
          "output_type": "stream",
          "name": "stdout",
          "text": [
            "2025-02-10 15:00:42,527 INFO sqlalchemy.engine.Engine [cached since 1.846e+04s ago] ('defaultdb', 'partner_data', 'id')\n"
          ]
        },
        {
          "output_type": "stream",
          "name": "stderr",
          "text": [
            "INFO:sqlalchemy.engine.Engine:[cached since 1.846e+04s ago] ('defaultdb', 'partner_data', 'id')\n"
          ]
        },
        {
          "output_type": "stream",
          "name": "stdout",
          "text": [
            "2025-02-10 15:00:42,736 INFO sqlalchemy.engine.Engine SELECT information_schema.columns.table_schema, information_schema.columns.table_name, information_schema.columns.column_name \n",
            "FROM information_schema.columns \n",
            "WHERE information_schema.columns.table_schema = %s AND information_schema.columns.table_name = %s AND lower(information_schema.columns.column_name) IN (%s)\n"
          ]
        },
        {
          "output_type": "stream",
          "name": "stderr",
          "text": [
            "INFO:sqlalchemy.engine.Engine:SELECT information_schema.columns.table_schema, information_schema.columns.table_name, information_schema.columns.column_name \n",
            "FROM information_schema.columns \n",
            "WHERE information_schema.columns.table_schema = %s AND information_schema.columns.table_name = %s AND lower(information_schema.columns.column_name) IN (%s)\n"
          ]
        },
        {
          "output_type": "stream",
          "name": "stdout",
          "text": [
            "2025-02-10 15:00:42,738 INFO sqlalchemy.engine.Engine [cached since 1.846e+04s ago] ('defaultdb', 'vendor_data', 'id')\n"
          ]
        },
        {
          "output_type": "stream",
          "name": "stderr",
          "text": [
            "INFO:sqlalchemy.engine.Engine:[cached since 1.846e+04s ago] ('defaultdb', 'vendor_data', 'id')\n"
          ]
        },
        {
          "output_type": "stream",
          "name": "stdout",
          "text": [
            "2025-02-10 15:00:42,772 INFO sqlalchemy.engine.Engine SELECT information_schema.columns.table_schema, information_schema.columns.table_name, information_schema.columns.column_name \n",
            "FROM information_schema.columns \n",
            "WHERE information_schema.columns.table_schema = %s AND information_schema.columns.table_name = %s AND lower(information_schema.columns.column_name) IN (%s)\n"
          ]
        },
        {
          "output_type": "stream",
          "name": "stderr",
          "text": [
            "INFO:sqlalchemy.engine.Engine:SELECT information_schema.columns.table_schema, information_schema.columns.table_name, information_schema.columns.column_name \n",
            "FROM information_schema.columns \n",
            "WHERE information_schema.columns.table_schema = %s AND information_schema.columns.table_name = %s AND lower(information_schema.columns.column_name) IN (%s)\n"
          ]
        },
        {
          "output_type": "stream",
          "name": "stdout",
          "text": [
            "2025-02-10 15:00:42,775 INFO sqlalchemy.engine.Engine [cached since 1.846e+04s ago] ('defaultdb', 'vendor_data', 'id')\n"
          ]
        },
        {
          "output_type": "stream",
          "name": "stderr",
          "text": [
            "INFO:sqlalchemy.engine.Engine:[cached since 1.846e+04s ago] ('defaultdb', 'vendor_data', 'id')\n"
          ]
        },
        {
          "output_type": "stream",
          "name": "stdout",
          "text": [
            "2025-02-10 15:00:42,997 INFO sqlalchemy.engine.Engine COMMIT\n"
          ]
        },
        {
          "output_type": "stream",
          "name": "stderr",
          "text": [
            "INFO:sqlalchemy.engine.Engine:COMMIT\n"
          ]
        },
        {
          "output_type": "stream",
          "name": "stdout",
          "text": [
            "2025-02-10 15:00:43,034 INFO sqlalchemy.engine.Engine COMMIT\n"
          ]
        },
        {
          "output_type": "stream",
          "name": "stderr",
          "text": [
            "INFO:sqlalchemy.engine.Engine:COMMIT\n"
          ]
        },
        {
          "output_type": "stream",
          "name": "stdout",
          "text": [
            "response {'is_relevant': True, 'relevant_tables': [{'table_name': 'customer_data', 'columns': ['id', 'created_at', 'updated_at', 'stakeholder_type', 'product_name', 'po_number', 'client_admin_ref', 'diagnostic_id', 'language', 'experience_rating', 'experience_type', 'experience_area', 'experience_area_dimension', 'feedback', 'sentiment_normalized_rating', 'suggestions', 'testimonial_consent', 'testimonial_name_consent', 'testimonial_name', 'email', 'company_name', 'channel', 'experience_sentiment'], 'noun_columns': ['product_name', 'language', 'experience_type', 'experience_area', 'experience_area_dimension', 'testimonial_name', 'email', 'company_name', 'channel']}, {'table_name': 'customer_demographics', 'columns': ['id', 'ref_id', 'attribute_name', 'attribute_value', 'stakeholder'], 'noun_columns': ['attribute_name', 'attribute_value']}]}\n",
            "2025-02-10 15:00:48,508 INFO sqlalchemy.engine.Engine BEGIN (implicit)\n"
          ]
        },
        {
          "output_type": "stream",
          "name": "stderr",
          "text": [
            "INFO:sqlalchemy.engine.Engine:BEGIN (implicit)\n"
          ]
        },
        {
          "output_type": "stream",
          "name": "stdout",
          "text": [
            "2025-02-10 15:00:48,513 INFO sqlalchemy.engine.Engine SELECT DISTINCT `product_name`, `language`, `experience_type`, `experience_area`, `experience_area_dimension`, `testimonial_name`, `email`, `company_name`, `channel` FROM `customer_data`\n"
          ]
        },
        {
          "output_type": "stream",
          "name": "stderr",
          "text": [
            "INFO:sqlalchemy.engine.Engine:SELECT DISTINCT `product_name`, `language`, `experience_type`, `experience_area`, `experience_area_dimension`, `testimonial_name`, `email`, `company_name`, `channel` FROM `customer_data`\n"
          ]
        },
        {
          "output_type": "stream",
          "name": "stdout",
          "text": [
            "2025-02-10 15:00:48,517 INFO sqlalchemy.engine.Engine [cached since 1972s ago] ()\n"
          ]
        },
        {
          "output_type": "stream",
          "name": "stderr",
          "text": [
            "INFO:sqlalchemy.engine.Engine:[cached since 1972s ago] ()\n"
          ]
        },
        {
          "output_type": "stream",
          "name": "stdout",
          "text": [
            "2025-02-10 15:00:48,523 INFO sqlalchemy.engine.Engine ROLLBACK\n"
          ]
        },
        {
          "output_type": "stream",
          "name": "stderr",
          "text": [
            "INFO:sqlalchemy.engine.Engine:ROLLBACK\n",
            "ERROR:sqlalchemy.pool.impl.AsyncAdaptedQueuePool:Exception during reset or similar\n",
            "Traceback (most recent call last):\n",
            "  File \"/usr/local/lib/python3.11/dist-packages/sqlalchemy/pool/base.py\", line 986, in _finalize_fairy\n",
            "    fairy._reset(\n",
            "  File \"/usr/local/lib/python3.11/dist-packages/sqlalchemy/pool/base.py\", line 1432, in _reset\n",
            "    pool._dialect.do_rollback(self)\n",
            "  File \"/usr/local/lib/python3.11/dist-packages/sqlalchemy/engine/default.py\", line 700, in do_rollback\n",
            "    dbapi_connection.rollback()\n",
            "  File \"/usr/local/lib/python3.11/dist-packages/sqlalchemy/dialects/mysql/aiomysql.py\", line 203, in rollback\n",
            "    self.await_(self._connection.rollback())\n",
            "  File \"/usr/local/lib/python3.11/dist-packages/sqlalchemy/util/_concurrency_py3k.py\", line 132, in await_only\n",
            "    return current.parent.switch(awaitable)  # type: ignore[no-any-return,attr-defined] # noqa: E501\n",
            "           ^^^^^^^^^^^^^^^^^^^^^^^^^^^^^^^^\n",
            "  File \"/usr/local/lib/python3.11/dist-packages/sqlalchemy/util/_concurrency_py3k.py\", line 196, in greenlet_spawn\n",
            "    value = await result\n",
            "            ^^^^^^^^^^^^\n",
            "  File \"/usr/local/lib/python3.11/dist-packages/aiomysql/connection.py\", line 399, in rollback\n",
            "    await self._read_ok_packet()\n",
            "  File \"/usr/local/lib/python3.11/dist-packages/aiomysql/connection.py\", line 372, in _read_ok_packet\n",
            "    pkt = await self._read_packet()\n",
            "          ^^^^^^^^^^^^^^^^^^^^^^^^^\n",
            "  File \"/usr/local/lib/python3.11/dist-packages/aiomysql/connection.py\", line 609, in _read_packet\n",
            "    packet_header = await self._read_bytes(4)\n",
            "                    ^^^^^^^^^^^^^^^^^^^^^^^^^\n",
            "  File \"/usr/local/lib/python3.11/dist-packages/aiomysql/connection.py\", line 657, in _read_bytes\n",
            "    data = await self._reader.readexactly(num_bytes)\n",
            "           ^^^^^^^^^^^^^^^^^^^^^^^^^^^^^^^^^^^^^^^^^\n",
            "  File \"/usr/lib/python3.11/asyncio/streams.py\", line 750, in readexactly\n",
            "    await self._wait_for_data('readexactly')\n",
            "  File \"/usr/lib/python3.11/asyncio/streams.py\", line 543, in _wait_for_data\n",
            "    await self._waiter\n",
            "RuntimeError: Task <Task pending name='Task-1676' coro=<get_unique_nouns() running at <ipython-input-12-fa7a0aee7706>:69> cb=[Task.task_wakeup()]> got Future <Future pending> attached to a different loop\n",
            "ERROR:__main__:Exception on /dashboardAgent [POST]\n",
            "Traceback (most recent call last):\n",
            "  File \"<ipython-input-9-91afecc331e2>\", line 37, in execute_query\n",
            "    result = await session.execute(text(query))\n",
            "             ^^^^^^^^^^^^^^^^^^^^^^^^^^^^^^^^^^\n",
            "  File \"/usr/local/lib/python3.11/dist-packages/sqlalchemy/ext/asyncio/session.py\", line 463, in execute\n",
            "    result = await greenlet_spawn(\n",
            "             ^^^^^^^^^^^^^^^^^^^^^\n",
            "  File \"/usr/local/lib/python3.11/dist-packages/sqlalchemy/util/_concurrency_py3k.py\", line 201, in greenlet_spawn\n",
            "    result = context.throw(*sys.exc_info())\n",
            "             ^^^^^^^^^^^^^^^^^^^^^^^^^^^^^^\n",
            "  File \"/usr/local/lib/python3.11/dist-packages/sqlalchemy/orm/session.py\", line 2365, in execute\n",
            "    return self._execute_internal(\n",
            "           ^^^^^^^^^^^^^^^^^^^^^^^\n",
            "  File \"/usr/local/lib/python3.11/dist-packages/sqlalchemy/orm/session.py\", line 2260, in _execute_internal\n",
            "    result = conn.execute(\n",
            "             ^^^^^^^^^^^^^\n",
            "  File \"/usr/local/lib/python3.11/dist-packages/sqlalchemy/engine/base.py\", line 1416, in execute\n",
            "    return meth(\n",
            "           ^^^^^\n",
            "  File \"/usr/local/lib/python3.11/dist-packages/sqlalchemy/sql/elements.py\", line 515, in _execute_on_connection\n",
            "    return connection._execute_clauseelement(\n",
            "           ^^^^^^^^^^^^^^^^^^^^^^^^^^^^^^^^^^\n",
            "  File \"/usr/local/lib/python3.11/dist-packages/sqlalchemy/engine/base.py\", line 1638, in _execute_clauseelement\n",
            "    ret = self._execute_context(\n",
            "          ^^^^^^^^^^^^^^^^^^^^^^\n",
            "  File \"/usr/local/lib/python3.11/dist-packages/sqlalchemy/engine/base.py\", line 1843, in _execute_context\n",
            "    return self._exec_single_context(\n",
            "           ^^^^^^^^^^^^^^^^^^^^^^^^^^\n",
            "  File \"/usr/local/lib/python3.11/dist-packages/sqlalchemy/engine/base.py\", line 1983, in _exec_single_context\n",
            "    self._handle_dbapi_exception(\n",
            "  File \"/usr/local/lib/python3.11/dist-packages/sqlalchemy/engine/base.py\", line 2355, in _handle_dbapi_exception\n",
            "    raise exc_info[1].with_traceback(exc_info[2])\n",
            "  File \"/usr/local/lib/python3.11/dist-packages/sqlalchemy/engine/base.py\", line 1964, in _exec_single_context\n",
            "    self.dialect.do_execute(\n",
            "  File \"/usr/local/lib/python3.11/dist-packages/sqlalchemy/engine/default.py\", line 942, in do_execute\n",
            "    cursor.execute(statement, parameters)\n",
            "  File \"/usr/local/lib/python3.11/dist-packages/sqlalchemy/dialects/mysql/aiomysql.py\", line 97, in execute\n",
            "    return self.await_(self._execute_async(operation, parameters))\n",
            "           ^^^^^^^^^^^^^^^^^^^^^^^^^^^^^^^^^^^^^^^^^^^^^^^^^^^^^^^\n",
            "  File \"/usr/local/lib/python3.11/dist-packages/sqlalchemy/util/_concurrency_py3k.py\", line 132, in await_only\n",
            "    return current.parent.switch(awaitable)  # type: ignore[no-any-return,attr-defined] # noqa: E501\n",
            "           ^^^^^^^^^^^^^^^^^^^^^^^^^^^^^^^^\n",
            "  File \"/usr/local/lib/python3.11/dist-packages/sqlalchemy/util/_concurrency_py3k.py\", line 196, in greenlet_spawn\n",
            "    value = await result\n",
            "            ^^^^^^^^^^^^\n",
            "  File \"/usr/local/lib/python3.11/dist-packages/sqlalchemy/dialects/mysql/aiomysql.py\", line 106, in _execute_async\n",
            "    result = await self._cursor.execute(operation, parameters)\n",
            "             ^^^^^^^^^^^^^^^^^^^^^^^^^^^^^^^^^^^^^^^^^^^^^^^^^\n",
            "  File \"/usr/local/lib/python3.11/dist-packages/aiomysql/cursors.py\", line 239, in execute\n",
            "    await self._query(query)\n",
            "  File \"/usr/local/lib/python3.11/dist-packages/aiomysql/cursors.py\", line 457, in _query\n",
            "    await conn.query(q)\n",
            "  File \"/usr/local/lib/python3.11/dist-packages/aiomysql/connection.py\", line 469, in query\n",
            "    await self._read_query_result(unbuffered=unbuffered)\n",
            "  File \"/usr/local/lib/python3.11/dist-packages/aiomysql/connection.py\", line 683, in _read_query_result\n",
            "    await result.read()\n",
            "  File \"/usr/local/lib/python3.11/dist-packages/aiomysql/connection.py\", line 1164, in read\n",
            "    first_packet = await self.connection._read_packet()\n",
            "                   ^^^^^^^^^^^^^^^^^^^^^^^^^^^^^^^^^^^^\n",
            "  File \"/usr/local/lib/python3.11/dist-packages/aiomysql/connection.py\", line 609, in _read_packet\n",
            "    packet_header = await self._read_bytes(4)\n",
            "                    ^^^^^^^^^^^^^^^^^^^^^^^^^\n",
            "  File \"/usr/local/lib/python3.11/dist-packages/aiomysql/connection.py\", line 657, in _read_bytes\n",
            "    data = await self._reader.readexactly(num_bytes)\n",
            "           ^^^^^^^^^^^^^^^^^^^^^^^^^^^^^^^^^^^^^^^^^\n",
            "  File \"/usr/lib/python3.11/asyncio/streams.py\", line 750, in readexactly\n",
            "    await self._wait_for_data('readexactly')\n",
            "  File \"/usr/lib/python3.11/asyncio/streams.py\", line 543, in _wait_for_data\n",
            "    await self._waiter\n",
            "RuntimeError: Task <Task pending name='Task-1676' coro=<get_unique_nouns() running at <ipython-input-12-fa7a0aee7706>:69> cb=[Task.task_wakeup()]> got Future <Future pending> attached to a different loop\n",
            "\n",
            "During handling of the above exception, another exception occurred:\n",
            "\n",
            "Traceback (most recent call last):\n",
            "  File \"/usr/local/lib/python3.11/dist-packages/flask/app.py\", line 1511, in wsgi_app\n",
            "    response = self.full_dispatch_request()\n",
            "               ^^^^^^^^^^^^^^^^^^^^^^^^^^^^\n",
            "  File \"/usr/local/lib/python3.11/dist-packages/flask/app.py\", line 919, in full_dispatch_request\n",
            "    rv = self.handle_user_exception(e)\n",
            "         ^^^^^^^^^^^^^^^^^^^^^^^^^^^^^\n",
            "  File \"/usr/local/lib/python3.11/dist-packages/flask_cors/extension.py\", line 194, in wrapped_function\n",
            "    return cors_after_request(app.make_response(f(*args, **kwargs)))\n",
            "                                                ^^^^^^^^^^^^^^^^^^\n",
            "  File \"/usr/local/lib/python3.11/dist-packages/flask/app.py\", line 917, in full_dispatch_request\n",
            "    rv = self.dispatch_request()\n",
            "         ^^^^^^^^^^^^^^^^^^^^^^^\n",
            "  File \"/usr/local/lib/python3.11/dist-packages/flask/app.py\", line 902, in dispatch_request\n",
            "    return self.ensure_sync(self.view_functions[rule.endpoint])(**view_args)  # type: ignore[no-any-return]\n",
            "           ^^^^^^^^^^^^^^^^^^^^^^^^^^^^^^^^^^^^^^^^^^^^^^^^^^^^^^^^^^^^^^^^^\n",
            "  File \"<ipython-input-67-29875ed07a0a>\", line 18, in dashboard_agent\n",
            "    result = asyncio.run(runnable.ainvoke({\"question\": question, \"diagnostic_id\": \"670d7bb908cd96a9c3b69aaf\"}))\n",
            "             ^^^^^^^^^^^^^^^^^^^^^^^^^^^^^^^^^^^^^^^^^^^^^^^^^^^^^^^^^^^^^^^^^^^^^^^^^^^^^^^^^^^^^^^^^^^^^^^^^^\n",
            "  File \"/usr/lib/python3.11/asyncio/runners.py\", line 190, in run\n",
            "    return runner.run(main)\n",
            "           ^^^^^^^^^^^^^^^^\n",
            "  File \"/usr/lib/python3.11/asyncio/runners.py\", line 118, in run\n",
            "    return self._loop.run_until_complete(task)\n",
            "           ^^^^^^^^^^^^^^^^^^^^^^^^^^^^^^^^^^^\n",
            "  File \"/usr/lib/python3.11/asyncio/base_events.py\", line 654, in run_until_complete\n",
            "    return future.result()\n",
            "           ^^^^^^^^^^^^^^^\n",
            "  File \"/usr/local/lib/python3.11/dist-packages/langgraph/pregel/__init__.py\", line 2122, in ainvoke\n",
            "    async for chunk in self.astream(\n",
            "  File \"/usr/local/lib/python3.11/dist-packages/langgraph/pregel/__init__.py\", line 2007, in astream\n",
            "    async for _ in runner.atick(\n",
            "  File \"/usr/local/lib/python3.11/dist-packages/langgraph/pregel/runner.py\", line 444, in atick\n",
            "    await arun_with_retry(\n",
            "  File \"/usr/local/lib/python3.11/dist-packages/langgraph/pregel/retry.py\", line 128, in arun_with_retry\n",
            "    return await task.proc.ainvoke(task.input, config)\n",
            "           ^^^^^^^^^^^^^^^^^^^^^^^^^^^^^^^^^^^^^^^^^^^\n",
            "  File \"/usr/local/lib/python3.11/dist-packages/langgraph/utils/runnable.py\", line 543, in ainvoke\n",
            "    input = await step.ainvoke(input, config, **kwargs)\n",
            "            ^^^^^^^^^^^^^^^^^^^^^^^^^^^^^^^^^^^^^^^^^^^\n",
            "  File \"/usr/local/lib/python3.11/dist-packages/langgraph/utils/runnable.py\", line 331, in ainvoke\n",
            "    ret = await asyncio.create_task(coro, context=context)\n",
            "          ^^^^^^^^^^^^^^^^^^^^^^^^^^^^^^^^^^^^^^^^^^^^^^^^\n",
            "  File \"<ipython-input-12-fa7a0aee7706>\", line 69, in get_unique_nouns\n",
            "    results = await db_manager.execute_query(query)\n",
            "              ^^^^^^^^^^^^^^^^^^^^^^^^^^^^^^^^^^^^^\n",
            "  File \"<ipython-input-9-91afecc331e2>\", line 36, in execute_query\n",
            "    async with session.begin():\n",
            "  File \"/usr/local/lib/python3.11/dist-packages/sqlalchemy/util/_concurrency_py3k.py\", line 201, in greenlet_spawn\n",
            "    result = context.throw(*sys.exc_info())\n",
            "             ^^^^^^^^^^^^^^^^^^^^^^^^^^^^^^\n",
            "  File \"/usr/local/lib/python3.11/dist-packages/sqlalchemy/engine/util.py\", line 162, in __exit__\n",
            "    self.rollback()\n",
            "  File \"<string>\", line 2, in rollback\n",
            "  File \"/usr/local/lib/python3.11/dist-packages/sqlalchemy/orm/state_changes.py\", line 139, in _go\n",
            "    ret_value = fn(self, *arg, **kw)\n",
            "                ^^^^^^^^^^^^^^^^^^^^\n",
            "  File \"/usr/local/lib/python3.11/dist-packages/sqlalchemy/orm/session.py\", line 1395, in rollback\n",
            "    raise rollback_err[1].with_traceback(rollback_err[2])\n",
            "  File \"/usr/local/lib/python3.11/dist-packages/sqlalchemy/orm/session.py\", line 1360, in rollback\n",
            "    t[1].rollback()\n",
            "  File \"/usr/local/lib/python3.11/dist-packages/sqlalchemy/engine/base.py\", line 2608, in rollback\n",
            "    self._do_rollback()\n",
            "  File \"/usr/local/lib/python3.11/dist-packages/sqlalchemy/engine/base.py\", line 2727, in _do_rollback\n",
            "    self._close_impl(try_deactivate=True)\n",
            "  File \"/usr/local/lib/python3.11/dist-packages/sqlalchemy/engine/base.py\", line 2710, in _close_impl\n",
            "    self._connection_rollback_impl()\n",
            "  File \"/usr/local/lib/python3.11/dist-packages/sqlalchemy/engine/base.py\", line 2702, in _connection_rollback_impl\n",
            "    self.connection._rollback_impl()\n",
            "  File \"/usr/local/lib/python3.11/dist-packages/sqlalchemy/engine/base.py\", line 1127, in _rollback_impl\n",
            "    self._handle_dbapi_exception(e, None, None, None, None)\n",
            "  File \"/usr/local/lib/python3.11/dist-packages/sqlalchemy/engine/base.py\", line 2355, in _handle_dbapi_exception\n",
            "    raise exc_info[1].with_traceback(exc_info[2])\n",
            "  File \"/usr/local/lib/python3.11/dist-packages/sqlalchemy/engine/base.py\", line 1125, in _rollback_impl\n",
            "    self.engine.dialect.do_rollback(self.connection)\n",
            "  File \"/usr/local/lib/python3.11/dist-packages/sqlalchemy/engine/default.py\", line 700, in do_rollback\n",
            "    dbapi_connection.rollback()\n",
            "  File \"/usr/local/lib/python3.11/dist-packages/sqlalchemy/dialects/mysql/aiomysql.py\", line 203, in rollback\n",
            "    self.await_(self._connection.rollback())\n",
            "  File \"/usr/local/lib/python3.11/dist-packages/sqlalchemy/util/_concurrency_py3k.py\", line 132, in await_only\n",
            "    return current.parent.switch(awaitable)  # type: ignore[no-any-return,attr-defined] # noqa: E501\n",
            "           ^^^^^^^^^^^^^^^^^^^^^^^^^^^^^^^^\n",
            "  File \"/usr/local/lib/python3.11/dist-packages/sqlalchemy/util/_concurrency_py3k.py\", line 196, in greenlet_spawn\n",
            "    value = await result\n",
            "            ^^^^^^^^^^^^\n",
            "  File \"/usr/local/lib/python3.11/dist-packages/aiomysql/connection.py\", line 399, in rollback\n",
            "    await self._read_ok_packet()\n",
            "  File \"/usr/local/lib/python3.11/dist-packages/aiomysql/connection.py\", line 372, in _read_ok_packet\n",
            "    pkt = await self._read_packet()\n",
            "          ^^^^^^^^^^^^^^^^^^^^^^^^^\n",
            "  File \"/usr/local/lib/python3.11/dist-packages/aiomysql/connection.py\", line 609, in _read_packet\n",
            "    packet_header = await self._read_bytes(4)\n",
            "                    ^^^^^^^^^^^^^^^^^^^^^^^^^\n",
            "  File \"/usr/local/lib/python3.11/dist-packages/aiomysql/connection.py\", line 657, in _read_bytes\n",
            "    data = await self._reader.readexactly(num_bytes)\n",
            "           ^^^^^^^^^^^^^^^^^^^^^^^^^^^^^^^^^^^^^^^^^\n",
            "  File \"/usr/lib/python3.11/asyncio/streams.py\", line 750, in readexactly\n",
            "    await self._wait_for_data('readexactly')\n",
            "  File \"/usr/lib/python3.11/asyncio/streams.py\", line 543, in _wait_for_data\n",
            "    await self._waiter\n",
            "RuntimeError: Task <Task pending name='Task-1676' coro=<get_unique_nouns() running at <ipython-input-12-fa7a0aee7706>:69> cb=[Task.task_wakeup()]> got Future <Future pending> attached to a different loop\n",
            "During task with name 'get_unique_nouns' and id 'dee22a7f-1e85-0d0a-934c-5eceafb27194'\n",
            "INFO:werkzeug:127.0.0.1 - - [10/Feb/2025 15:00:48] \"\u001b[35m\u001b[1mPOST /dashboardAgent HTTP/1.1\u001b[0m\" 500 -\n"
          ]
        },
        {
          "output_type": "stream",
          "name": "stdout",
          "text": [
            "response {'is_relevant': True, 'relevant_tables': [{'table_name': 'customer_data', 'columns': ['id', 'created_at', 'updated_at', 'stakeholder_type', 'product_name', 'po_number', 'client_admin_ref', 'diagnostic_id', 'language', 'experience_rating', 'experience_type', 'experience_area', 'experience_area_dimension', 'feedback', 'sentiment_normalized_rating', 'suggestions', 'testimonial_consent', 'testimonial_name_consent', 'testimonial_name', 'email', 'company_name', 'channel', 'experience_sentiment'], 'noun_columns': ['product_name', 'language', 'experience_type', 'experience_area', 'experience_area_dimension', 'testimonial_name', 'email', 'company_name', 'channel']}, {'table_name': 'customer_demographics', 'columns': ['id', 'ref_id', 'attribute_name', 'attribute_value', 'stakeholder'], 'noun_columns': ['attribute_name', 'attribute_value']}]}\n",
            "2025-02-10 15:00:49,275 INFO sqlalchemy.engine.Engine BEGIN (implicit)\n"
          ]
        },
        {
          "output_type": "stream",
          "name": "stderr",
          "text": [
            "INFO:sqlalchemy.engine.Engine:BEGIN (implicit)\n"
          ]
        },
        {
          "output_type": "stream",
          "name": "stdout",
          "text": [
            "2025-02-10 15:00:49,280 INFO sqlalchemy.engine.Engine SELECT DISTINCT `product_name`, `language`, `experience_type`, `experience_area`, `experience_area_dimension`, `testimonial_name`, `email`, `company_name`, `channel` FROM `customer_data`\n"
          ]
        },
        {
          "output_type": "stream",
          "name": "stderr",
          "text": [
            "INFO:sqlalchemy.engine.Engine:SELECT DISTINCT `product_name`, `language`, `experience_type`, `experience_area`, `experience_area_dimension`, `testimonial_name`, `email`, `company_name`, `channel` FROM `customer_data`\n"
          ]
        },
        {
          "output_type": "stream",
          "name": "stdout",
          "text": [
            "2025-02-10 15:00:49,284 INFO sqlalchemy.engine.Engine [cached since 1973s ago] ()\n"
          ]
        },
        {
          "output_type": "stream",
          "name": "stderr",
          "text": [
            "INFO:sqlalchemy.engine.Engine:[cached since 1973s ago] ()\n"
          ]
        },
        {
          "output_type": "stream",
          "name": "stdout",
          "text": [
            "2025-02-10 15:00:49,287 INFO sqlalchemy.engine.Engine ROLLBACK\n"
          ]
        },
        {
          "output_type": "stream",
          "name": "stderr",
          "text": [
            "INFO:sqlalchemy.engine.Engine:ROLLBACK\n",
            "ERROR:sqlalchemy.pool.impl.AsyncAdaptedQueuePool:Exception during reset or similar\n",
            "Traceback (most recent call last):\n",
            "  File \"/usr/local/lib/python3.11/dist-packages/sqlalchemy/pool/base.py\", line 986, in _finalize_fairy\n",
            "    fairy._reset(\n",
            "  File \"/usr/local/lib/python3.11/dist-packages/sqlalchemy/pool/base.py\", line 1432, in _reset\n",
            "    pool._dialect.do_rollback(self)\n",
            "  File \"/usr/local/lib/python3.11/dist-packages/sqlalchemy/engine/default.py\", line 700, in do_rollback\n",
            "    dbapi_connection.rollback()\n",
            "  File \"/usr/local/lib/python3.11/dist-packages/sqlalchemy/dialects/mysql/aiomysql.py\", line 203, in rollback\n",
            "    self.await_(self._connection.rollback())\n",
            "  File \"/usr/local/lib/python3.11/dist-packages/sqlalchemy/util/_concurrency_py3k.py\", line 132, in await_only\n",
            "    return current.parent.switch(awaitable)  # type: ignore[no-any-return,attr-defined] # noqa: E501\n",
            "           ^^^^^^^^^^^^^^^^^^^^^^^^^^^^^^^^\n",
            "  File \"/usr/local/lib/python3.11/dist-packages/sqlalchemy/util/_concurrency_py3k.py\", line 196, in greenlet_spawn\n",
            "    value = await result\n",
            "            ^^^^^^^^^^^^\n",
            "  File \"/usr/local/lib/python3.11/dist-packages/aiomysql/connection.py\", line 399, in rollback\n",
            "    await self._read_ok_packet()\n",
            "  File \"/usr/local/lib/python3.11/dist-packages/aiomysql/connection.py\", line 372, in _read_ok_packet\n",
            "    pkt = await self._read_packet()\n",
            "          ^^^^^^^^^^^^^^^^^^^^^^^^^\n",
            "  File \"/usr/local/lib/python3.11/dist-packages/aiomysql/connection.py\", line 609, in _read_packet\n",
            "    packet_header = await self._read_bytes(4)\n",
            "                    ^^^^^^^^^^^^^^^^^^^^^^^^^\n",
            "  File \"/usr/local/lib/python3.11/dist-packages/aiomysql/connection.py\", line 657, in _read_bytes\n",
            "    data = await self._reader.readexactly(num_bytes)\n",
            "           ^^^^^^^^^^^^^^^^^^^^^^^^^^^^^^^^^^^^^^^^^\n",
            "  File \"/usr/lib/python3.11/asyncio/streams.py\", line 750, in readexactly\n",
            "    await self._wait_for_data('readexactly')\n",
            "  File \"/usr/lib/python3.11/asyncio/streams.py\", line 543, in _wait_for_data\n",
            "    await self._waiter\n",
            "RuntimeError: Task <Task pending name='Task-1698' coro=<get_unique_nouns() running at <ipython-input-12-fa7a0aee7706>:69> cb=[Task.task_wakeup()]> got Future <Future pending> attached to a different loop\n",
            "ERROR:sqlalchemy.pool.impl.AsyncAdaptedQueuePool:Exception terminating connection <AdaptedConnection <aiomysql.connection.Connection object at 0x7e04ecdcde50>>\n",
            "Traceback (most recent call last):\n",
            "  File \"/usr/local/lib/python3.11/dist-packages/sqlalchemy/pool/base.py\", line 986, in _finalize_fairy\n",
            "    fairy._reset(\n",
            "  File \"/usr/local/lib/python3.11/dist-packages/sqlalchemy/pool/base.py\", line 1432, in _reset\n",
            "    pool._dialect.do_rollback(self)\n",
            "  File \"/usr/local/lib/python3.11/dist-packages/sqlalchemy/engine/default.py\", line 700, in do_rollback\n",
            "    dbapi_connection.rollback()\n",
            "  File \"/usr/local/lib/python3.11/dist-packages/sqlalchemy/dialects/mysql/aiomysql.py\", line 203, in rollback\n",
            "    self.await_(self._connection.rollback())\n",
            "  File \"/usr/local/lib/python3.11/dist-packages/sqlalchemy/util/_concurrency_py3k.py\", line 132, in await_only\n",
            "    return current.parent.switch(awaitable)  # type: ignore[no-any-return,attr-defined] # noqa: E501\n",
            "           ^^^^^^^^^^^^^^^^^^^^^^^^^^^^^^^^\n",
            "  File \"/usr/local/lib/python3.11/dist-packages/sqlalchemy/util/_concurrency_py3k.py\", line 196, in greenlet_spawn\n",
            "    value = await result\n",
            "            ^^^^^^^^^^^^\n",
            "  File \"/usr/local/lib/python3.11/dist-packages/aiomysql/connection.py\", line 399, in rollback\n",
            "    await self._read_ok_packet()\n",
            "  File \"/usr/local/lib/python3.11/dist-packages/aiomysql/connection.py\", line 372, in _read_ok_packet\n",
            "    pkt = await self._read_packet()\n",
            "          ^^^^^^^^^^^^^^^^^^^^^^^^^\n",
            "  File \"/usr/local/lib/python3.11/dist-packages/aiomysql/connection.py\", line 609, in _read_packet\n",
            "    packet_header = await self._read_bytes(4)\n",
            "                    ^^^^^^^^^^^^^^^^^^^^^^^^^\n",
            "  File \"/usr/local/lib/python3.11/dist-packages/aiomysql/connection.py\", line 657, in _read_bytes\n",
            "    data = await self._reader.readexactly(num_bytes)\n",
            "           ^^^^^^^^^^^^^^^^^^^^^^^^^^^^^^^^^^^^^^^^^\n",
            "  File \"/usr/lib/python3.11/asyncio/streams.py\", line 750, in readexactly\n",
            "    await self._wait_for_data('readexactly')\n",
            "  File \"/usr/lib/python3.11/asyncio/streams.py\", line 543, in _wait_for_data\n",
            "    await self._waiter\n",
            "RuntimeError: Task <Task pending name='Task-1698' coro=<get_unique_nouns() running at <ipython-input-12-fa7a0aee7706>:69> cb=[Task.task_wakeup()]> got Future <Future pending> attached to a different loop\n",
            "\n",
            "During handling of the above exception, another exception occurred:\n",
            "\n",
            "Traceback (most recent call last):\n",
            "  File \"/usr/local/lib/python3.11/dist-packages/sqlalchemy/pool/base.py\", line 374, in _close_connection\n",
            "    self._dialect.do_terminate(connection)\n",
            "  File \"/usr/local/lib/python3.11/dist-packages/sqlalchemy/dialects/mysql/aiomysql.py\", line 312, in do_terminate\n",
            "    dbapi_connection.terminate()\n",
            "  File \"/usr/local/lib/python3.11/dist-packages/sqlalchemy/dialects/mysql/aiomysql.py\", line 210, in terminate\n",
            "    self._connection.close()\n",
            "  File \"/usr/local/lib/python3.11/dist-packages/aiomysql/connection.py\", line 339, in close\n",
            "    self._writer.transport.close()\n",
            "  File \"/usr/lib/python3.11/asyncio/selector_events.py\", line 864, in close\n",
            "    self._loop.call_soon(self._call_connection_lost, None)\n",
            "  File \"/usr/lib/python3.11/asyncio/base_events.py\", line 762, in call_soon\n",
            "    self._check_closed()\n",
            "  File \"/usr/lib/python3.11/asyncio/base_events.py\", line 520, in _check_closed\n",
            "    raise RuntimeError('Event loop is closed')\n",
            "RuntimeError: Event loop is closed\n",
            "ERROR:__main__:Exception on /dashboardAgent [POST]\n",
            "Traceback (most recent call last):\n",
            "  File \"<ipython-input-9-91afecc331e2>\", line 37, in execute_query\n",
            "    result = await session.execute(text(query))\n",
            "             ^^^^^^^^^^^^^^^^^^^^^^^^^^^^^^^^^^\n",
            "  File \"/usr/local/lib/python3.11/dist-packages/sqlalchemy/ext/asyncio/session.py\", line 463, in execute\n",
            "    result = await greenlet_spawn(\n",
            "             ^^^^^^^^^^^^^^^^^^^^^\n",
            "  File \"/usr/local/lib/python3.11/dist-packages/sqlalchemy/util/_concurrency_py3k.py\", line 201, in greenlet_spawn\n",
            "    result = context.throw(*sys.exc_info())\n",
            "             ^^^^^^^^^^^^^^^^^^^^^^^^^^^^^^\n",
            "  File \"/usr/local/lib/python3.11/dist-packages/sqlalchemy/orm/session.py\", line 2365, in execute\n",
            "    return self._execute_internal(\n",
            "           ^^^^^^^^^^^^^^^^^^^^^^^\n",
            "  File \"/usr/local/lib/python3.11/dist-packages/sqlalchemy/orm/session.py\", line 2260, in _execute_internal\n",
            "    result = conn.execute(\n",
            "             ^^^^^^^^^^^^^\n",
            "  File \"/usr/local/lib/python3.11/dist-packages/sqlalchemy/engine/base.py\", line 1416, in execute\n",
            "    return meth(\n",
            "           ^^^^^\n",
            "  File \"/usr/local/lib/python3.11/dist-packages/sqlalchemy/sql/elements.py\", line 515, in _execute_on_connection\n",
            "    return connection._execute_clauseelement(\n",
            "           ^^^^^^^^^^^^^^^^^^^^^^^^^^^^^^^^^^\n",
            "  File \"/usr/local/lib/python3.11/dist-packages/sqlalchemy/engine/base.py\", line 1638, in _execute_clauseelement\n",
            "    ret = self._execute_context(\n",
            "          ^^^^^^^^^^^^^^^^^^^^^^\n",
            "  File \"/usr/local/lib/python3.11/dist-packages/sqlalchemy/engine/base.py\", line 1843, in _execute_context\n",
            "    return self._exec_single_context(\n",
            "           ^^^^^^^^^^^^^^^^^^^^^^^^^^\n",
            "  File \"/usr/local/lib/python3.11/dist-packages/sqlalchemy/engine/base.py\", line 1983, in _exec_single_context\n",
            "    self._handle_dbapi_exception(\n",
            "  File \"/usr/local/lib/python3.11/dist-packages/sqlalchemy/engine/base.py\", line 2355, in _handle_dbapi_exception\n",
            "    raise exc_info[1].with_traceback(exc_info[2])\n",
            "  File \"/usr/local/lib/python3.11/dist-packages/sqlalchemy/engine/base.py\", line 1964, in _exec_single_context\n",
            "    self.dialect.do_execute(\n",
            "  File \"/usr/local/lib/python3.11/dist-packages/sqlalchemy/engine/default.py\", line 942, in do_execute\n",
            "    cursor.execute(statement, parameters)\n",
            "  File \"/usr/local/lib/python3.11/dist-packages/sqlalchemy/dialects/mysql/aiomysql.py\", line 97, in execute\n",
            "    return self.await_(self._execute_async(operation, parameters))\n",
            "           ^^^^^^^^^^^^^^^^^^^^^^^^^^^^^^^^^^^^^^^^^^^^^^^^^^^^^^^\n",
            "  File \"/usr/local/lib/python3.11/dist-packages/sqlalchemy/util/_concurrency_py3k.py\", line 132, in await_only\n",
            "    return current.parent.switch(awaitable)  # type: ignore[no-any-return,attr-defined] # noqa: E501\n",
            "           ^^^^^^^^^^^^^^^^^^^^^^^^^^^^^^^^\n",
            "  File \"/usr/local/lib/python3.11/dist-packages/sqlalchemy/util/_concurrency_py3k.py\", line 196, in greenlet_spawn\n",
            "    value = await result\n",
            "            ^^^^^^^^^^^^\n",
            "  File \"/usr/local/lib/python3.11/dist-packages/sqlalchemy/dialects/mysql/aiomysql.py\", line 106, in _execute_async\n",
            "    result = await self._cursor.execute(operation, parameters)\n",
            "             ^^^^^^^^^^^^^^^^^^^^^^^^^^^^^^^^^^^^^^^^^^^^^^^^^\n",
            "  File \"/usr/local/lib/python3.11/dist-packages/aiomysql/cursors.py\", line 239, in execute\n",
            "    await self._query(query)\n",
            "  File \"/usr/local/lib/python3.11/dist-packages/aiomysql/cursors.py\", line 457, in _query\n",
            "    await conn.query(q)\n",
            "  File \"/usr/local/lib/python3.11/dist-packages/aiomysql/connection.py\", line 469, in query\n",
            "    await self._read_query_result(unbuffered=unbuffered)\n",
            "  File \"/usr/local/lib/python3.11/dist-packages/aiomysql/connection.py\", line 683, in _read_query_result\n",
            "    await result.read()\n",
            "  File \"/usr/local/lib/python3.11/dist-packages/aiomysql/connection.py\", line 1164, in read\n",
            "    first_packet = await self.connection._read_packet()\n",
            "                   ^^^^^^^^^^^^^^^^^^^^^^^^^^^^^^^^^^^^\n",
            "  File \"/usr/local/lib/python3.11/dist-packages/aiomysql/connection.py\", line 609, in _read_packet\n",
            "    packet_header = await self._read_bytes(4)\n",
            "                    ^^^^^^^^^^^^^^^^^^^^^^^^^\n",
            "  File \"/usr/local/lib/python3.11/dist-packages/aiomysql/connection.py\", line 657, in _read_bytes\n",
            "    data = await self._reader.readexactly(num_bytes)\n",
            "           ^^^^^^^^^^^^^^^^^^^^^^^^^^^^^^^^^^^^^^^^^\n",
            "  File \"/usr/lib/python3.11/asyncio/streams.py\", line 750, in readexactly\n",
            "    await self._wait_for_data('readexactly')\n",
            "  File \"/usr/lib/python3.11/asyncio/streams.py\", line 543, in _wait_for_data\n",
            "    await self._waiter\n",
            "RuntimeError: Task <Task pending name='Task-1698' coro=<get_unique_nouns() running at <ipython-input-12-fa7a0aee7706>:69> cb=[Task.task_wakeup()]> got Future <Future pending> attached to a different loop\n",
            "\n",
            "During handling of the above exception, another exception occurred:\n",
            "\n",
            "Traceback (most recent call last):\n",
            "  File \"/usr/local/lib/python3.11/dist-packages/flask/app.py\", line 1511, in wsgi_app\n",
            "    response = self.full_dispatch_request()\n",
            "               ^^^^^^^^^^^^^^^^^^^^^^^^^^^^\n",
            "  File \"/usr/local/lib/python3.11/dist-packages/flask/app.py\", line 919, in full_dispatch_request\n",
            "    rv = self.handle_user_exception(e)\n",
            "         ^^^^^^^^^^^^^^^^^^^^^^^^^^^^^\n",
            "  File \"/usr/local/lib/python3.11/dist-packages/flask_cors/extension.py\", line 194, in wrapped_function\n",
            "    return cors_after_request(app.make_response(f(*args, **kwargs)))\n",
            "                                                ^^^^^^^^^^^^^^^^^^\n",
            "  File \"/usr/local/lib/python3.11/dist-packages/flask/app.py\", line 917, in full_dispatch_request\n",
            "    rv = self.dispatch_request()\n",
            "         ^^^^^^^^^^^^^^^^^^^^^^^\n",
            "  File \"/usr/local/lib/python3.11/dist-packages/flask/app.py\", line 902, in dispatch_request\n",
            "    return self.ensure_sync(self.view_functions[rule.endpoint])(**view_args)  # type: ignore[no-any-return]\n",
            "           ^^^^^^^^^^^^^^^^^^^^^^^^^^^^^^^^^^^^^^^^^^^^^^^^^^^^^^^^^^^^^^^^^\n",
            "  File \"<ipython-input-67-29875ed07a0a>\", line 18, in dashboard_agent\n",
            "    result = asyncio.run(runnable.ainvoke({\"question\": question, \"diagnostic_id\": \"670d7bb908cd96a9c3b69aaf\"}))\n",
            "             ^^^^^^^^^^^^^^^^^^^^^^^^^^^^^^^^^^^^^^^^^^^^^^^^^^^^^^^^^^^^^^^^^^^^^^^^^^^^^^^^^^^^^^^^^^^^^^^^^^\n",
            "  File \"/usr/lib/python3.11/asyncio/runners.py\", line 190, in run\n",
            "    return runner.run(main)\n",
            "           ^^^^^^^^^^^^^^^^\n",
            "  File \"/usr/lib/python3.11/asyncio/runners.py\", line 118, in run\n",
            "    return self._loop.run_until_complete(task)\n",
            "           ^^^^^^^^^^^^^^^^^^^^^^^^^^^^^^^^^^^\n",
            "  File \"/usr/lib/python3.11/asyncio/base_events.py\", line 654, in run_until_complete\n",
            "    return future.result()\n",
            "           ^^^^^^^^^^^^^^^\n",
            "  File \"/usr/local/lib/python3.11/dist-packages/langgraph/pregel/__init__.py\", line 2122, in ainvoke\n",
            "    async for chunk in self.astream(\n",
            "  File \"/usr/local/lib/python3.11/dist-packages/langgraph/pregel/__init__.py\", line 2007, in astream\n",
            "    async for _ in runner.atick(\n",
            "  File \"/usr/local/lib/python3.11/dist-packages/langgraph/pregel/runner.py\", line 444, in atick\n",
            "    await arun_with_retry(\n",
            "  File \"/usr/local/lib/python3.11/dist-packages/langgraph/pregel/retry.py\", line 128, in arun_with_retry\n",
            "    return await task.proc.ainvoke(task.input, config)\n",
            "           ^^^^^^^^^^^^^^^^^^^^^^^^^^^^^^^^^^^^^^^^^^^\n",
            "  File \"/usr/local/lib/python3.11/dist-packages/langgraph/utils/runnable.py\", line 543, in ainvoke\n",
            "    input = await step.ainvoke(input, config, **kwargs)\n",
            "            ^^^^^^^^^^^^^^^^^^^^^^^^^^^^^^^^^^^^^^^^^^^\n",
            "  File \"/usr/local/lib/python3.11/dist-packages/langgraph/utils/runnable.py\", line 331, in ainvoke\n",
            "    ret = await asyncio.create_task(coro, context=context)\n",
            "          ^^^^^^^^^^^^^^^^^^^^^^^^^^^^^^^^^^^^^^^^^^^^^^^^\n",
            "  File \"<ipython-input-12-fa7a0aee7706>\", line 69, in get_unique_nouns\n",
            "    results = await db_manager.execute_query(query)\n",
            "              ^^^^^^^^^^^^^^^^^^^^^^^^^^^^^^^^^^^^^\n",
            "  File \"<ipython-input-9-91afecc331e2>\", line 36, in execute_query\n",
            "    async with session.begin():\n",
            "  File \"/usr/local/lib/python3.11/dist-packages/sqlalchemy/util/_concurrency_py3k.py\", line 201, in greenlet_spawn\n",
            "    result = context.throw(*sys.exc_info())\n",
            "             ^^^^^^^^^^^^^^^^^^^^^^^^^^^^^^\n",
            "  File \"/usr/local/lib/python3.11/dist-packages/sqlalchemy/engine/util.py\", line 162, in __exit__\n",
            "    self.rollback()\n",
            "  File \"<string>\", line 2, in rollback\n",
            "  File \"/usr/local/lib/python3.11/dist-packages/sqlalchemy/orm/state_changes.py\", line 139, in _go\n",
            "    ret_value = fn(self, *arg, **kw)\n",
            "                ^^^^^^^^^^^^^^^^^^^^\n",
            "  File \"/usr/local/lib/python3.11/dist-packages/sqlalchemy/orm/session.py\", line 1395, in rollback\n",
            "    raise rollback_err[1].with_traceback(rollback_err[2])\n",
            "  File \"/usr/local/lib/python3.11/dist-packages/sqlalchemy/orm/session.py\", line 1360, in rollback\n",
            "    t[1].rollback()\n",
            "  File \"/usr/local/lib/python3.11/dist-packages/sqlalchemy/engine/base.py\", line 2608, in rollback\n",
            "    self._do_rollback()\n",
            "  File \"/usr/local/lib/python3.11/dist-packages/sqlalchemy/engine/base.py\", line 2727, in _do_rollback\n",
            "    self._close_impl(try_deactivate=True)\n",
            "  File \"/usr/local/lib/python3.11/dist-packages/sqlalchemy/engine/base.py\", line 2710, in _close_impl\n",
            "    self._connection_rollback_impl()\n",
            "  File \"/usr/local/lib/python3.11/dist-packages/sqlalchemy/engine/base.py\", line 2702, in _connection_rollback_impl\n",
            "    self.connection._rollback_impl()\n",
            "  File \"/usr/local/lib/python3.11/dist-packages/sqlalchemy/engine/base.py\", line 1127, in _rollback_impl\n",
            "    self._handle_dbapi_exception(e, None, None, None, None)\n",
            "  File \"/usr/local/lib/python3.11/dist-packages/sqlalchemy/engine/base.py\", line 2355, in _handle_dbapi_exception\n",
            "    raise exc_info[1].with_traceback(exc_info[2])\n",
            "  File \"/usr/local/lib/python3.11/dist-packages/sqlalchemy/engine/base.py\", line 1125, in _rollback_impl\n",
            "    self.engine.dialect.do_rollback(self.connection)\n",
            "  File \"/usr/local/lib/python3.11/dist-packages/sqlalchemy/engine/default.py\", line 700, in do_rollback\n",
            "    dbapi_connection.rollback()\n",
            "  File \"/usr/local/lib/python3.11/dist-packages/sqlalchemy/dialects/mysql/aiomysql.py\", line 203, in rollback\n",
            "    self.await_(self._connection.rollback())\n",
            "  File \"/usr/local/lib/python3.11/dist-packages/sqlalchemy/util/_concurrency_py3k.py\", line 132, in await_only\n",
            "    return current.parent.switch(awaitable)  # type: ignore[no-any-return,attr-defined] # noqa: E501\n",
            "           ^^^^^^^^^^^^^^^^^^^^^^^^^^^^^^^^\n",
            "  File \"/usr/local/lib/python3.11/dist-packages/sqlalchemy/util/_concurrency_py3k.py\", line 196, in greenlet_spawn\n",
            "    value = await result\n",
            "            ^^^^^^^^^^^^\n",
            "  File \"/usr/local/lib/python3.11/dist-packages/aiomysql/connection.py\", line 399, in rollback\n",
            "    await self._read_ok_packet()\n",
            "  File \"/usr/local/lib/python3.11/dist-packages/aiomysql/connection.py\", line 372, in _read_ok_packet\n",
            "    pkt = await self._read_packet()\n",
            "          ^^^^^^^^^^^^^^^^^^^^^^^^^\n",
            "  File \"/usr/local/lib/python3.11/dist-packages/aiomysql/connection.py\", line 609, in _read_packet\n",
            "    packet_header = await self._read_bytes(4)\n",
            "                    ^^^^^^^^^^^^^^^^^^^^^^^^^\n",
            "  File \"/usr/local/lib/python3.11/dist-packages/aiomysql/connection.py\", line 657, in _read_bytes\n",
            "    data = await self._reader.readexactly(num_bytes)\n",
            "           ^^^^^^^^^^^^^^^^^^^^^^^^^^^^^^^^^^^^^^^^^\n",
            "  File \"/usr/lib/python3.11/asyncio/streams.py\", line 750, in readexactly\n",
            "    await self._wait_for_data('readexactly')\n",
            "  File \"/usr/lib/python3.11/asyncio/streams.py\", line 543, in _wait_for_data\n",
            "    await self._waiter\n",
            "RuntimeError: Task <Task pending name='Task-1698' coro=<get_unique_nouns() running at <ipython-input-12-fa7a0aee7706>:69> cb=[Task.task_wakeup()]> got Future <Future pending> attached to a different loop\n",
            "During task with name 'get_unique_nouns' and id 'dd198ac2-be07-ea70-53c1-275f99cbad60'\n",
            "INFO:werkzeug:127.0.0.1 - - [10/Feb/2025 15:00:49] \"\u001b[35m\u001b[1mPOST /dashboardAgent HTTP/1.1\u001b[0m\" 500 -\n",
            "INFO:werkzeug:127.0.0.1 - - [10/Feb/2025 15:01:19] \"OPTIONS /dashboardAgent HTTP/1.1\" 200 -\n",
            "INFO:werkzeug:127.0.0.1 - - [10/Feb/2025 15:01:19] \"OPTIONS /dashboardAgent HTTP/1.1\" 200 -\n"
          ]
        },
        {
          "output_type": "stream",
          "name": "stdout",
          "text": [
            "2025-02-10 15:01:20,905 INFO sqlalchemy.engine.Engine BEGIN (implicit)\n"
          ]
        },
        {
          "output_type": "stream",
          "name": "stderr",
          "text": [
            "INFO:sqlalchemy.engine.Engine:BEGIN (implicit)\n"
          ]
        },
        {
          "output_type": "stream",
          "name": "stdout",
          "text": [
            "2025-02-10 15:01:20,908 INFO sqlalchemy.engine.Engine SHOW FULL TABLES FROM \"defaultdb\"\n"
          ]
        },
        {
          "output_type": "stream",
          "name": "stderr",
          "text": [
            "INFO:sqlalchemy.engine.Engine:SHOW FULL TABLES FROM \"defaultdb\"\n"
          ]
        },
        {
          "output_type": "stream",
          "name": "stdout",
          "text": [
            "2025-02-10 15:01:20,912 INFO sqlalchemy.engine.Engine [raw sql] ()\n"
          ]
        },
        {
          "output_type": "stream",
          "name": "stderr",
          "text": [
            "INFO:sqlalchemy.engine.Engine:[raw sql] ()\n"
          ]
        },
        {
          "output_type": "stream",
          "name": "stdout",
          "text": [
            "2025-02-10 15:01:20,940 INFO sqlalchemy.engine.Engine BEGIN (implicit)\n"
          ]
        },
        {
          "output_type": "stream",
          "name": "stderr",
          "text": [
            "INFO:sqlalchemy.engine.Engine:BEGIN (implicit)\n"
          ]
        },
        {
          "output_type": "stream",
          "name": "stdout",
          "text": [
            "2025-02-10 15:01:20,944 INFO sqlalchemy.engine.Engine SHOW FULL TABLES FROM \"defaultdb\"\n"
          ]
        },
        {
          "output_type": "stream",
          "name": "stderr",
          "text": [
            "INFO:sqlalchemy.engine.Engine:SHOW FULL TABLES FROM \"defaultdb\"\n"
          ]
        },
        {
          "output_type": "stream",
          "name": "stdout",
          "text": [
            "2025-02-10 15:01:20,947 INFO sqlalchemy.engine.Engine [raw sql] ()\n"
          ]
        },
        {
          "output_type": "stream",
          "name": "stderr",
          "text": [
            "INFO:sqlalchemy.engine.Engine:[raw sql] ()\n"
          ]
        },
        {
          "output_type": "stream",
          "name": "stdout",
          "text": [
            "2025-02-10 15:01:21,162 INFO sqlalchemy.engine.Engine SHOW CREATE TABLE \"SequelizeMeta\"\n"
          ]
        },
        {
          "output_type": "stream",
          "name": "stderr",
          "text": [
            "INFO:sqlalchemy.engine.Engine:SHOW CREATE TABLE \"SequelizeMeta\"\n"
          ]
        },
        {
          "output_type": "stream",
          "name": "stdout",
          "text": [
            "2025-02-10 15:01:21,164 INFO sqlalchemy.engine.Engine [raw sql] ()\n"
          ]
        },
        {
          "output_type": "stream",
          "name": "stderr",
          "text": [
            "INFO:sqlalchemy.engine.Engine:[raw sql] ()\n"
          ]
        },
        {
          "output_type": "stream",
          "name": "stdout",
          "text": [
            "2025-02-10 15:01:21,192 INFO sqlalchemy.engine.Engine SHOW CREATE TABLE \"SequelizeMeta\"\n"
          ]
        },
        {
          "output_type": "stream",
          "name": "stderr",
          "text": [
            "INFO:sqlalchemy.engine.Engine:SHOW CREATE TABLE \"SequelizeMeta\"\n"
          ]
        },
        {
          "output_type": "stream",
          "name": "stdout",
          "text": [
            "2025-02-10 15:01:21,194 INFO sqlalchemy.engine.Engine [raw sql] ()\n"
          ]
        },
        {
          "output_type": "stream",
          "name": "stderr",
          "text": [
            "INFO:sqlalchemy.engine.Engine:[raw sql] ()\n"
          ]
        },
        {
          "output_type": "stream",
          "name": "stdout",
          "text": [
            "2025-02-10 15:01:21,409 INFO sqlalchemy.engine.Engine SHOW CREATE TABLE \"candidate_data\"\n"
          ]
        },
        {
          "output_type": "stream",
          "name": "stderr",
          "text": [
            "INFO:sqlalchemy.engine.Engine:SHOW CREATE TABLE \"candidate_data\"\n"
          ]
        },
        {
          "output_type": "stream",
          "name": "stdout",
          "text": [
            "2025-02-10 15:01:21,413 INFO sqlalchemy.engine.Engine [raw sql] ()\n"
          ]
        },
        {
          "output_type": "stream",
          "name": "stderr",
          "text": [
            "INFO:sqlalchemy.engine.Engine:[raw sql] ()\n"
          ]
        },
        {
          "output_type": "stream",
          "name": "stdout",
          "text": [
            "2025-02-10 15:01:21,437 INFO sqlalchemy.engine.Engine SHOW CREATE TABLE \"candidate_data\"\n"
          ]
        },
        {
          "output_type": "stream",
          "name": "stderr",
          "text": [
            "INFO:sqlalchemy.engine.Engine:SHOW CREATE TABLE \"candidate_data\"\n"
          ]
        },
        {
          "output_type": "stream",
          "name": "stdout",
          "text": [
            "2025-02-10 15:01:21,440 INFO sqlalchemy.engine.Engine [raw sql] ()\n"
          ]
        },
        {
          "output_type": "stream",
          "name": "stderr",
          "text": [
            "INFO:sqlalchemy.engine.Engine:[raw sql] ()\n"
          ]
        },
        {
          "output_type": "stream",
          "name": "stdout",
          "text": [
            "2025-02-10 15:01:21,656 INFO sqlalchemy.engine.Engine SHOW CREATE TABLE \"candidate_demographics\"\n"
          ]
        },
        {
          "output_type": "stream",
          "name": "stderr",
          "text": [
            "INFO:sqlalchemy.engine.Engine:SHOW CREATE TABLE \"candidate_demographics\"\n"
          ]
        },
        {
          "output_type": "stream",
          "name": "stdout",
          "text": [
            "2025-02-10 15:01:21,659 INFO sqlalchemy.engine.Engine [raw sql] ()\n"
          ]
        },
        {
          "output_type": "stream",
          "name": "stderr",
          "text": [
            "INFO:sqlalchemy.engine.Engine:[raw sql] ()\n"
          ]
        },
        {
          "output_type": "stream",
          "name": "stdout",
          "text": [
            "2025-02-10 15:01:21,683 INFO sqlalchemy.engine.Engine SHOW CREATE TABLE \"candidate_demographics\"\n"
          ]
        },
        {
          "output_type": "stream",
          "name": "stderr",
          "text": [
            "INFO:sqlalchemy.engine.Engine:SHOW CREATE TABLE \"candidate_demographics\"\n"
          ]
        },
        {
          "output_type": "stream",
          "name": "stdout",
          "text": [
            "2025-02-10 15:01:21,685 INFO sqlalchemy.engine.Engine [raw sql] ()\n"
          ]
        },
        {
          "output_type": "stream",
          "name": "stderr",
          "text": [
            "INFO:sqlalchemy.engine.Engine:[raw sql] ()\n"
          ]
        },
        {
          "output_type": "stream",
          "name": "stdout",
          "text": [
            "2025-02-10 15:01:21,901 INFO sqlalchemy.engine.Engine SHOW CREATE TABLE \"csrpartner_data\"\n"
          ]
        },
        {
          "output_type": "stream",
          "name": "stderr",
          "text": [
            "INFO:sqlalchemy.engine.Engine:SHOW CREATE TABLE \"csrpartner_data\"\n"
          ]
        },
        {
          "output_type": "stream",
          "name": "stdout",
          "text": [
            "2025-02-10 15:01:21,904 INFO sqlalchemy.engine.Engine [raw sql] ()\n"
          ]
        },
        {
          "output_type": "stream",
          "name": "stderr",
          "text": [
            "INFO:sqlalchemy.engine.Engine:[raw sql] ()\n"
          ]
        },
        {
          "output_type": "stream",
          "name": "stdout",
          "text": [
            "2025-02-10 15:01:21,928 INFO sqlalchemy.engine.Engine SHOW CREATE TABLE \"csrpartner_data\"\n"
          ]
        },
        {
          "output_type": "stream",
          "name": "stderr",
          "text": [
            "INFO:sqlalchemy.engine.Engine:SHOW CREATE TABLE \"csrpartner_data\"\n"
          ]
        },
        {
          "output_type": "stream",
          "name": "stdout",
          "text": [
            "2025-02-10 15:01:21,931 INFO sqlalchemy.engine.Engine [raw sql] ()\n"
          ]
        },
        {
          "output_type": "stream",
          "name": "stderr",
          "text": [
            "INFO:sqlalchemy.engine.Engine:[raw sql] ()\n"
          ]
        },
        {
          "output_type": "stream",
          "name": "stdout",
          "text": [
            "2025-02-10 15:01:22,146 INFO sqlalchemy.engine.Engine SHOW CREATE TABLE \"csrpartner_demographics\"\n"
          ]
        },
        {
          "output_type": "stream",
          "name": "stderr",
          "text": [
            "INFO:sqlalchemy.engine.Engine:SHOW CREATE TABLE \"csrpartner_demographics\"\n"
          ]
        },
        {
          "output_type": "stream",
          "name": "stdout",
          "text": [
            "2025-02-10 15:01:22,149 INFO sqlalchemy.engine.Engine [raw sql] ()\n"
          ]
        },
        {
          "output_type": "stream",
          "name": "stderr",
          "text": [
            "INFO:sqlalchemy.engine.Engine:[raw sql] ()\n"
          ]
        },
        {
          "output_type": "stream",
          "name": "stdout",
          "text": [
            "2025-02-10 15:01:22,174 INFO sqlalchemy.engine.Engine SHOW CREATE TABLE \"csrpartner_demographics\"\n"
          ]
        },
        {
          "output_type": "stream",
          "name": "stderr",
          "text": [
            "INFO:sqlalchemy.engine.Engine:SHOW CREATE TABLE \"csrpartner_demographics\"\n"
          ]
        },
        {
          "output_type": "stream",
          "name": "stdout",
          "text": [
            "2025-02-10 15:01:22,176 INFO sqlalchemy.engine.Engine [raw sql] ()\n"
          ]
        },
        {
          "output_type": "stream",
          "name": "stderr",
          "text": [
            "INFO:sqlalchemy.engine.Engine:[raw sql] ()\n"
          ]
        },
        {
          "output_type": "stream",
          "name": "stdout",
          "text": [
            "2025-02-10 15:01:22,392 INFO sqlalchemy.engine.Engine SHOW CREATE TABLE \"customer_data\"\n"
          ]
        },
        {
          "output_type": "stream",
          "name": "stderr",
          "text": [
            "INFO:sqlalchemy.engine.Engine:SHOW CREATE TABLE \"customer_data\"\n"
          ]
        },
        {
          "output_type": "stream",
          "name": "stdout",
          "text": [
            "2025-02-10 15:01:22,397 INFO sqlalchemy.engine.Engine [raw sql] ()\n"
          ]
        },
        {
          "output_type": "stream",
          "name": "stderr",
          "text": [
            "INFO:sqlalchemy.engine.Engine:[raw sql] ()\n"
          ]
        },
        {
          "output_type": "stream",
          "name": "stdout",
          "text": [
            "2025-02-10 15:01:22,420 INFO sqlalchemy.engine.Engine SHOW CREATE TABLE \"customer_data\"\n"
          ]
        },
        {
          "output_type": "stream",
          "name": "stderr",
          "text": [
            "INFO:sqlalchemy.engine.Engine:SHOW CREATE TABLE \"customer_data\"\n"
          ]
        },
        {
          "output_type": "stream",
          "name": "stdout",
          "text": [
            "2025-02-10 15:01:22,423 INFO sqlalchemy.engine.Engine [raw sql] ()\n"
          ]
        },
        {
          "output_type": "stream",
          "name": "stderr",
          "text": [
            "INFO:sqlalchemy.engine.Engine:[raw sql] ()\n"
          ]
        },
        {
          "output_type": "stream",
          "name": "stdout",
          "text": [
            "2025-02-10 15:01:22,640 INFO sqlalchemy.engine.Engine SHOW CREATE TABLE \"customer_demographics\"\n"
          ]
        },
        {
          "output_type": "stream",
          "name": "stderr",
          "text": [
            "INFO:sqlalchemy.engine.Engine:SHOW CREATE TABLE \"customer_demographics\"\n"
          ]
        },
        {
          "output_type": "stream",
          "name": "stdout",
          "text": [
            "2025-02-10 15:01:22,643 INFO sqlalchemy.engine.Engine [raw sql] ()\n"
          ]
        },
        {
          "output_type": "stream",
          "name": "stderr",
          "text": [
            "INFO:sqlalchemy.engine.Engine:[raw sql] ()\n"
          ]
        },
        {
          "output_type": "stream",
          "name": "stdout",
          "text": [
            "2025-02-10 15:01:22,666 INFO sqlalchemy.engine.Engine SHOW CREATE TABLE \"customer_demographics\"\n"
          ]
        },
        {
          "output_type": "stream",
          "name": "stderr",
          "text": [
            "INFO:sqlalchemy.engine.Engine:SHOW CREATE TABLE \"customer_demographics\"\n"
          ]
        },
        {
          "output_type": "stream",
          "name": "stdout",
          "text": [
            "2025-02-10 15:01:22,669 INFO sqlalchemy.engine.Engine [raw sql] ()\n"
          ]
        },
        {
          "output_type": "stream",
          "name": "stderr",
          "text": [
            "INFO:sqlalchemy.engine.Engine:[raw sql] ()\n"
          ]
        },
        {
          "output_type": "stream",
          "name": "stdout",
          "text": [
            "2025-02-10 15:01:22,887 INFO sqlalchemy.engine.Engine SHOW CREATE TABLE \"employee_data\"\n"
          ]
        },
        {
          "output_type": "stream",
          "name": "stderr",
          "text": [
            "INFO:sqlalchemy.engine.Engine:SHOW CREATE TABLE \"employee_data\"\n"
          ]
        },
        {
          "output_type": "stream",
          "name": "stdout",
          "text": [
            "2025-02-10 15:01:22,889 INFO sqlalchemy.engine.Engine [raw sql] ()\n"
          ]
        },
        {
          "output_type": "stream",
          "name": "stderr",
          "text": [
            "INFO:sqlalchemy.engine.Engine:[raw sql] ()\n"
          ]
        },
        {
          "output_type": "stream",
          "name": "stdout",
          "text": [
            "2025-02-10 15:01:22,913 INFO sqlalchemy.engine.Engine SHOW CREATE TABLE \"employee_data\"\n"
          ]
        },
        {
          "output_type": "stream",
          "name": "stderr",
          "text": [
            "INFO:sqlalchemy.engine.Engine:SHOW CREATE TABLE \"employee_data\"\n"
          ]
        },
        {
          "output_type": "stream",
          "name": "stdout",
          "text": [
            "2025-02-10 15:01:22,916 INFO sqlalchemy.engine.Engine [raw sql] ()\n"
          ]
        },
        {
          "output_type": "stream",
          "name": "stderr",
          "text": [
            "INFO:sqlalchemy.engine.Engine:[raw sql] ()\n"
          ]
        },
        {
          "output_type": "stream",
          "name": "stdout",
          "text": [
            "2025-02-10 15:01:23,133 INFO sqlalchemy.engine.Engine SHOW CREATE TABLE \"employee_demographics\"\n"
          ]
        },
        {
          "output_type": "stream",
          "name": "stderr",
          "text": [
            "INFO:sqlalchemy.engine.Engine:SHOW CREATE TABLE \"employee_demographics\"\n"
          ]
        },
        {
          "output_type": "stream",
          "name": "stdout",
          "text": [
            "2025-02-10 15:01:23,135 INFO sqlalchemy.engine.Engine [raw sql] ()\n"
          ]
        },
        {
          "output_type": "stream",
          "name": "stderr",
          "text": [
            "INFO:sqlalchemy.engine.Engine:[raw sql] ()\n"
          ]
        },
        {
          "output_type": "stream",
          "name": "stdout",
          "text": [
            "2025-02-10 15:01:23,160 INFO sqlalchemy.engine.Engine SHOW CREATE TABLE \"employee_demographics\"\n"
          ]
        },
        {
          "output_type": "stream",
          "name": "stderr",
          "text": [
            "INFO:sqlalchemy.engine.Engine:SHOW CREATE TABLE \"employee_demographics\"\n"
          ]
        },
        {
          "output_type": "stream",
          "name": "stdout",
          "text": [
            "2025-02-10 15:01:23,162 INFO sqlalchemy.engine.Engine [raw sql] ()\n"
          ]
        },
        {
          "output_type": "stream",
          "name": "stderr",
          "text": [
            "INFO:sqlalchemy.engine.Engine:[raw sql] ()\n"
          ]
        },
        {
          "output_type": "stream",
          "name": "stdout",
          "text": [
            "2025-02-10 15:01:23,377 INFO sqlalchemy.engine.Engine SHOW CREATE TABLE \"investor_data\"\n"
          ]
        },
        {
          "output_type": "stream",
          "name": "stderr",
          "text": [
            "INFO:sqlalchemy.engine.Engine:SHOW CREATE TABLE \"investor_data\"\n"
          ]
        },
        {
          "output_type": "stream",
          "name": "stdout",
          "text": [
            "2025-02-10 15:01:23,380 INFO sqlalchemy.engine.Engine [raw sql] ()\n"
          ]
        },
        {
          "output_type": "stream",
          "name": "stderr",
          "text": [
            "INFO:sqlalchemy.engine.Engine:[raw sql] ()\n"
          ]
        },
        {
          "output_type": "stream",
          "name": "stdout",
          "text": [
            "2025-02-10 15:01:23,405 INFO sqlalchemy.engine.Engine SHOW CREATE TABLE \"investor_data\"\n"
          ]
        },
        {
          "output_type": "stream",
          "name": "stderr",
          "text": [
            "INFO:sqlalchemy.engine.Engine:SHOW CREATE TABLE \"investor_data\"\n"
          ]
        },
        {
          "output_type": "stream",
          "name": "stdout",
          "text": [
            "2025-02-10 15:01:23,407 INFO sqlalchemy.engine.Engine [raw sql] ()\n"
          ]
        },
        {
          "output_type": "stream",
          "name": "stderr",
          "text": [
            "INFO:sqlalchemy.engine.Engine:[raw sql] ()\n"
          ]
        },
        {
          "output_type": "stream",
          "name": "stdout",
          "text": [
            "2025-02-10 15:01:23,623 INFO sqlalchemy.engine.Engine SHOW CREATE TABLE \"investor_demographics\"\n"
          ]
        },
        {
          "output_type": "stream",
          "name": "stderr",
          "text": [
            "INFO:sqlalchemy.engine.Engine:SHOW CREATE TABLE \"investor_demographics\"\n"
          ]
        },
        {
          "output_type": "stream",
          "name": "stdout",
          "text": [
            "2025-02-10 15:01:23,626 INFO sqlalchemy.engine.Engine [raw sql] ()\n"
          ]
        },
        {
          "output_type": "stream",
          "name": "stderr",
          "text": [
            "INFO:sqlalchemy.engine.Engine:[raw sql] ()\n"
          ]
        },
        {
          "output_type": "stream",
          "name": "stdout",
          "text": [
            "2025-02-10 15:01:23,651 INFO sqlalchemy.engine.Engine SHOW CREATE TABLE \"investor_demographics\"\n"
          ]
        },
        {
          "output_type": "stream",
          "name": "stderr",
          "text": [
            "INFO:sqlalchemy.engine.Engine:SHOW CREATE TABLE \"investor_demographics\"\n"
          ]
        },
        {
          "output_type": "stream",
          "name": "stdout",
          "text": [
            "2025-02-10 15:01:23,654 INFO sqlalchemy.engine.Engine [raw sql] ()\n"
          ]
        },
        {
          "output_type": "stream",
          "name": "stderr",
          "text": [
            "INFO:sqlalchemy.engine.Engine:[raw sql] ()\n"
          ]
        },
        {
          "output_type": "stream",
          "name": "stdout",
          "text": [
            "2025-02-10 15:01:23,870 INFO sqlalchemy.engine.Engine SHOW CREATE TABLE \"partner_data\"\n"
          ]
        },
        {
          "output_type": "stream",
          "name": "stderr",
          "text": [
            "INFO:sqlalchemy.engine.Engine:SHOW CREATE TABLE \"partner_data\"\n"
          ]
        },
        {
          "output_type": "stream",
          "name": "stdout",
          "text": [
            "2025-02-10 15:01:23,872 INFO sqlalchemy.engine.Engine [raw sql] ()\n"
          ]
        },
        {
          "output_type": "stream",
          "name": "stderr",
          "text": [
            "INFO:sqlalchemy.engine.Engine:[raw sql] ()\n"
          ]
        },
        {
          "output_type": "stream",
          "name": "stdout",
          "text": [
            "2025-02-10 15:01:23,898 INFO sqlalchemy.engine.Engine SHOW CREATE TABLE \"partner_data\"\n"
          ]
        },
        {
          "output_type": "stream",
          "name": "stderr",
          "text": [
            "INFO:sqlalchemy.engine.Engine:SHOW CREATE TABLE \"partner_data\"\n"
          ]
        },
        {
          "output_type": "stream",
          "name": "stdout",
          "text": [
            "2025-02-10 15:01:23,900 INFO sqlalchemy.engine.Engine [raw sql] ()\n"
          ]
        },
        {
          "output_type": "stream",
          "name": "stderr",
          "text": [
            "INFO:sqlalchemy.engine.Engine:[raw sql] ()\n"
          ]
        },
        {
          "output_type": "stream",
          "name": "stdout",
          "text": [
            "2025-02-10 15:01:24,114 INFO sqlalchemy.engine.Engine SHOW CREATE TABLE \"partner_demographics\"\n"
          ]
        },
        {
          "output_type": "stream",
          "name": "stderr",
          "text": [
            "INFO:sqlalchemy.engine.Engine:SHOW CREATE TABLE \"partner_demographics\"\n"
          ]
        },
        {
          "output_type": "stream",
          "name": "stdout",
          "text": [
            "2025-02-10 15:01:24,117 INFO sqlalchemy.engine.Engine [raw sql] ()\n"
          ]
        },
        {
          "output_type": "stream",
          "name": "stderr",
          "text": [
            "INFO:sqlalchemy.engine.Engine:[raw sql] ()\n"
          ]
        },
        {
          "output_type": "stream",
          "name": "stdout",
          "text": [
            "2025-02-10 15:01:24,143 INFO sqlalchemy.engine.Engine SHOW CREATE TABLE \"partner_demographics\"\n"
          ]
        },
        {
          "output_type": "stream",
          "name": "stderr",
          "text": [
            "INFO:sqlalchemy.engine.Engine:SHOW CREATE TABLE \"partner_demographics\"\n"
          ]
        },
        {
          "output_type": "stream",
          "name": "stdout",
          "text": [
            "2025-02-10 15:01:24,146 INFO sqlalchemy.engine.Engine [raw sql] ()\n"
          ]
        },
        {
          "output_type": "stream",
          "name": "stderr",
          "text": [
            "INFO:sqlalchemy.engine.Engine:[raw sql] ()\n"
          ]
        },
        {
          "output_type": "stream",
          "name": "stdout",
          "text": [
            "2025-02-10 15:01:24,362 INFO sqlalchemy.engine.Engine SHOW CREATE TABLE \"vendor_data\"\n"
          ]
        },
        {
          "output_type": "stream",
          "name": "stderr",
          "text": [
            "INFO:sqlalchemy.engine.Engine:SHOW CREATE TABLE \"vendor_data\"\n"
          ]
        },
        {
          "output_type": "stream",
          "name": "stdout",
          "text": [
            "2025-02-10 15:01:24,365 INFO sqlalchemy.engine.Engine [raw sql] ()\n"
          ]
        },
        {
          "output_type": "stream",
          "name": "stderr",
          "text": [
            "INFO:sqlalchemy.engine.Engine:[raw sql] ()\n"
          ]
        },
        {
          "output_type": "stream",
          "name": "stdout",
          "text": [
            "2025-02-10 15:01:24,390 INFO sqlalchemy.engine.Engine SHOW CREATE TABLE \"vendor_data\"\n"
          ]
        },
        {
          "output_type": "stream",
          "name": "stderr",
          "text": [
            "INFO:sqlalchemy.engine.Engine:SHOW CREATE TABLE \"vendor_data\"\n"
          ]
        },
        {
          "output_type": "stream",
          "name": "stdout",
          "text": [
            "2025-02-10 15:01:24,393 INFO sqlalchemy.engine.Engine [raw sql] ()\n"
          ]
        },
        {
          "output_type": "stream",
          "name": "stderr",
          "text": [
            "INFO:sqlalchemy.engine.Engine:[raw sql] ()\n"
          ]
        },
        {
          "output_type": "stream",
          "name": "stdout",
          "text": [
            "2025-02-10 15:01:24,608 INFO sqlalchemy.engine.Engine SHOW CREATE TABLE \"vendor_demographics\"\n"
          ]
        },
        {
          "output_type": "stream",
          "name": "stderr",
          "text": [
            "INFO:sqlalchemy.engine.Engine:SHOW CREATE TABLE \"vendor_demographics\"\n"
          ]
        },
        {
          "output_type": "stream",
          "name": "stdout",
          "text": [
            "2025-02-10 15:01:24,612 INFO sqlalchemy.engine.Engine [raw sql] ()\n"
          ]
        },
        {
          "output_type": "stream",
          "name": "stderr",
          "text": [
            "INFO:sqlalchemy.engine.Engine:[raw sql] ()\n"
          ]
        },
        {
          "output_type": "stream",
          "name": "stdout",
          "text": [
            "2025-02-10 15:01:24,635 INFO sqlalchemy.engine.Engine SHOW CREATE TABLE \"vendor_demographics\"\n"
          ]
        },
        {
          "output_type": "stream",
          "name": "stderr",
          "text": [
            "INFO:sqlalchemy.engine.Engine:SHOW CREATE TABLE \"vendor_demographics\"\n"
          ]
        },
        {
          "output_type": "stream",
          "name": "stdout",
          "text": [
            "2025-02-10 15:01:24,639 INFO sqlalchemy.engine.Engine [raw sql] ()\n"
          ]
        },
        {
          "output_type": "stream",
          "name": "stderr",
          "text": [
            "INFO:sqlalchemy.engine.Engine:[raw sql] ()\n"
          ]
        },
        {
          "output_type": "stream",
          "name": "stdout",
          "text": [
            "2025-02-10 15:01:24,855 INFO sqlalchemy.engine.Engine SELECT information_schema.columns.table_schema, information_schema.columns.table_name, information_schema.columns.column_name \n",
            "FROM information_schema.columns \n",
            "WHERE information_schema.columns.table_schema = %s AND information_schema.columns.table_name = %s AND lower(information_schema.columns.column_name) IN (%s)\n"
          ]
        },
        {
          "output_type": "stream",
          "name": "stderr",
          "text": [
            "INFO:sqlalchemy.engine.Engine:SELECT information_schema.columns.table_schema, information_schema.columns.table_name, information_schema.columns.column_name \n",
            "FROM information_schema.columns \n",
            "WHERE information_schema.columns.table_schema = %s AND information_schema.columns.table_name = %s AND lower(information_schema.columns.column_name) IN (%s)\n"
          ]
        },
        {
          "output_type": "stream",
          "name": "stdout",
          "text": [
            "2025-02-10 15:01:24,858 INFO sqlalchemy.engine.Engine [cached since 1.85e+04s ago] ('defaultdb', 'candidate_data', 'id')\n"
          ]
        },
        {
          "output_type": "stream",
          "name": "stderr",
          "text": [
            "INFO:sqlalchemy.engine.Engine:[cached since 1.85e+04s ago] ('defaultdb', 'candidate_data', 'id')\n"
          ]
        },
        {
          "output_type": "stream",
          "name": "stdout",
          "text": [
            "2025-02-10 15:01:24,884 INFO sqlalchemy.engine.Engine SELECT information_schema.columns.table_schema, information_schema.columns.table_name, information_schema.columns.column_name \n",
            "FROM information_schema.columns \n",
            "WHERE information_schema.columns.table_schema = %s AND information_schema.columns.table_name = %s AND lower(information_schema.columns.column_name) IN (%s)\n"
          ]
        },
        {
          "output_type": "stream",
          "name": "stderr",
          "text": [
            "INFO:sqlalchemy.engine.Engine:SELECT information_schema.columns.table_schema, information_schema.columns.table_name, information_schema.columns.column_name \n",
            "FROM information_schema.columns \n",
            "WHERE information_schema.columns.table_schema = %s AND information_schema.columns.table_name = %s AND lower(information_schema.columns.column_name) IN (%s)\n"
          ]
        },
        {
          "output_type": "stream",
          "name": "stdout",
          "text": [
            "2025-02-10 15:01:24,886 INFO sqlalchemy.engine.Engine [cached since 1.85e+04s ago] ('defaultdb', 'candidate_data', 'id')\n"
          ]
        },
        {
          "output_type": "stream",
          "name": "stderr",
          "text": [
            "INFO:sqlalchemy.engine.Engine:[cached since 1.85e+04s ago] ('defaultdb', 'candidate_data', 'id')\n"
          ]
        },
        {
          "output_type": "stream",
          "name": "stdout",
          "text": [
            "2025-02-10 15:01:25,105 INFO sqlalchemy.engine.Engine SELECT information_schema.columns.table_schema, information_schema.columns.table_name, information_schema.columns.column_name \n",
            "FROM information_schema.columns \n",
            "WHERE information_schema.columns.table_schema = %s AND information_schema.columns.table_name = %s AND lower(information_schema.columns.column_name) IN (%s)\n"
          ]
        },
        {
          "output_type": "stream",
          "name": "stderr",
          "text": [
            "INFO:sqlalchemy.engine.Engine:SELECT information_schema.columns.table_schema, information_schema.columns.table_name, information_schema.columns.column_name \n",
            "FROM information_schema.columns \n",
            "WHERE information_schema.columns.table_schema = %s AND information_schema.columns.table_name = %s AND lower(information_schema.columns.column_name) IN (%s)\n"
          ]
        },
        {
          "output_type": "stream",
          "name": "stdout",
          "text": [
            "2025-02-10 15:01:25,107 INFO sqlalchemy.engine.Engine [cached since 1.85e+04s ago] ('defaultdb', 'csrpartner_data', 'id')\n"
          ]
        },
        {
          "output_type": "stream",
          "name": "stderr",
          "text": [
            "INFO:sqlalchemy.engine.Engine:[cached since 1.85e+04s ago] ('defaultdb', 'csrpartner_data', 'id')\n"
          ]
        },
        {
          "output_type": "stream",
          "name": "stdout",
          "text": [
            "2025-02-10 15:01:25,132 INFO sqlalchemy.engine.Engine SELECT information_schema.columns.table_schema, information_schema.columns.table_name, information_schema.columns.column_name \n",
            "FROM information_schema.columns \n",
            "WHERE information_schema.columns.table_schema = %s AND information_schema.columns.table_name = %s AND lower(information_schema.columns.column_name) IN (%s)\n"
          ]
        },
        {
          "output_type": "stream",
          "name": "stderr",
          "text": [
            "INFO:sqlalchemy.engine.Engine:SELECT information_schema.columns.table_schema, information_schema.columns.table_name, information_schema.columns.column_name \n",
            "FROM information_schema.columns \n",
            "WHERE information_schema.columns.table_schema = %s AND information_schema.columns.table_name = %s AND lower(information_schema.columns.column_name) IN (%s)\n"
          ]
        },
        {
          "output_type": "stream",
          "name": "stdout",
          "text": [
            "2025-02-10 15:01:25,136 INFO sqlalchemy.engine.Engine [cached since 1.85e+04s ago] ('defaultdb', 'csrpartner_data', 'id')\n"
          ]
        },
        {
          "output_type": "stream",
          "name": "stderr",
          "text": [
            "INFO:sqlalchemy.engine.Engine:[cached since 1.85e+04s ago] ('defaultdb', 'csrpartner_data', 'id')\n"
          ]
        },
        {
          "output_type": "stream",
          "name": "stdout",
          "text": [
            "2025-02-10 15:01:25,352 INFO sqlalchemy.engine.Engine SELECT information_schema.columns.table_schema, information_schema.columns.table_name, information_schema.columns.column_name \n",
            "FROM information_schema.columns \n",
            "WHERE information_schema.columns.table_schema = %s AND information_schema.columns.table_name = %s AND lower(information_schema.columns.column_name) IN (%s)\n"
          ]
        },
        {
          "output_type": "stream",
          "name": "stderr",
          "text": [
            "INFO:sqlalchemy.engine.Engine:SELECT information_schema.columns.table_schema, information_schema.columns.table_name, information_schema.columns.column_name \n",
            "FROM information_schema.columns \n",
            "WHERE information_schema.columns.table_schema = %s AND information_schema.columns.table_name = %s AND lower(information_schema.columns.column_name) IN (%s)\n"
          ]
        },
        {
          "output_type": "stream",
          "name": "stdout",
          "text": [
            "2025-02-10 15:01:25,356 INFO sqlalchemy.engine.Engine [cached since 1.85e+04s ago] ('defaultdb', 'customer_data', 'id')\n"
          ]
        },
        {
          "output_type": "stream",
          "name": "stderr",
          "text": [
            "INFO:sqlalchemy.engine.Engine:[cached since 1.85e+04s ago] ('defaultdb', 'customer_data', 'id')\n"
          ]
        },
        {
          "output_type": "stream",
          "name": "stdout",
          "text": [
            "2025-02-10 15:01:25,382 INFO sqlalchemy.engine.Engine SELECT information_schema.columns.table_schema, information_schema.columns.table_name, information_schema.columns.column_name \n",
            "FROM information_schema.columns \n",
            "WHERE information_schema.columns.table_schema = %s AND information_schema.columns.table_name = %s AND lower(information_schema.columns.column_name) IN (%s)\n"
          ]
        },
        {
          "output_type": "stream",
          "name": "stderr",
          "text": [
            "INFO:sqlalchemy.engine.Engine:SELECT information_schema.columns.table_schema, information_schema.columns.table_name, information_schema.columns.column_name \n",
            "FROM information_schema.columns \n",
            "WHERE information_schema.columns.table_schema = %s AND information_schema.columns.table_name = %s AND lower(information_schema.columns.column_name) IN (%s)\n"
          ]
        },
        {
          "output_type": "stream",
          "name": "stdout",
          "text": [
            "2025-02-10 15:01:25,384 INFO sqlalchemy.engine.Engine [cached since 1.85e+04s ago] ('defaultdb', 'customer_data', 'id')\n"
          ]
        },
        {
          "output_type": "stream",
          "name": "stderr",
          "text": [
            "INFO:sqlalchemy.engine.Engine:[cached since 1.85e+04s ago] ('defaultdb', 'customer_data', 'id')\n"
          ]
        },
        {
          "output_type": "stream",
          "name": "stdout",
          "text": [
            "2025-02-10 15:01:25,601 INFO sqlalchemy.engine.Engine SELECT information_schema.columns.table_schema, information_schema.columns.table_name, information_schema.columns.column_name \n",
            "FROM information_schema.columns \n",
            "WHERE information_schema.columns.table_schema = %s AND information_schema.columns.table_name = %s AND lower(information_schema.columns.column_name) IN (%s)\n"
          ]
        },
        {
          "output_type": "stream",
          "name": "stderr",
          "text": [
            "INFO:sqlalchemy.engine.Engine:SELECT information_schema.columns.table_schema, information_schema.columns.table_name, information_schema.columns.column_name \n",
            "FROM information_schema.columns \n",
            "WHERE information_schema.columns.table_schema = %s AND information_schema.columns.table_name = %s AND lower(information_schema.columns.column_name) IN (%s)\n"
          ]
        },
        {
          "output_type": "stream",
          "name": "stdout",
          "text": [
            "2025-02-10 15:01:25,606 INFO sqlalchemy.engine.Engine [cached since 1.85e+04s ago] ('defaultdb', 'employee_data', 'id')\n"
          ]
        },
        {
          "output_type": "stream",
          "name": "stderr",
          "text": [
            "INFO:sqlalchemy.engine.Engine:[cached since 1.85e+04s ago] ('defaultdb', 'employee_data', 'id')\n"
          ]
        },
        {
          "output_type": "stream",
          "name": "stdout",
          "text": [
            "2025-02-10 15:01:25,632 INFO sqlalchemy.engine.Engine SELECT information_schema.columns.table_schema, information_schema.columns.table_name, information_schema.columns.column_name \n",
            "FROM information_schema.columns \n",
            "WHERE information_schema.columns.table_schema = %s AND information_schema.columns.table_name = %s AND lower(information_schema.columns.column_name) IN (%s)\n"
          ]
        },
        {
          "output_type": "stream",
          "name": "stderr",
          "text": [
            "INFO:sqlalchemy.engine.Engine:SELECT information_schema.columns.table_schema, information_schema.columns.table_name, information_schema.columns.column_name \n",
            "FROM information_schema.columns \n",
            "WHERE information_schema.columns.table_schema = %s AND information_schema.columns.table_name = %s AND lower(information_schema.columns.column_name) IN (%s)\n"
          ]
        },
        {
          "output_type": "stream",
          "name": "stdout",
          "text": [
            "2025-02-10 15:01:25,636 INFO sqlalchemy.engine.Engine [cached since 1.85e+04s ago] ('defaultdb', 'employee_data', 'id')\n"
          ]
        },
        {
          "output_type": "stream",
          "name": "stderr",
          "text": [
            "INFO:sqlalchemy.engine.Engine:[cached since 1.85e+04s ago] ('defaultdb', 'employee_data', 'id')\n"
          ]
        },
        {
          "output_type": "stream",
          "name": "stdout",
          "text": [
            "2025-02-10 15:01:25,850 INFO sqlalchemy.engine.Engine SELECT information_schema.columns.table_schema, information_schema.columns.table_name, information_schema.columns.column_name \n",
            "FROM information_schema.columns \n",
            "WHERE information_schema.columns.table_schema = %s AND information_schema.columns.table_name = %s AND lower(information_schema.columns.column_name) IN (%s)\n"
          ]
        },
        {
          "output_type": "stream",
          "name": "stderr",
          "text": [
            "INFO:sqlalchemy.engine.Engine:SELECT information_schema.columns.table_schema, information_schema.columns.table_name, information_schema.columns.column_name \n",
            "FROM information_schema.columns \n",
            "WHERE information_schema.columns.table_schema = %s AND information_schema.columns.table_name = %s AND lower(information_schema.columns.column_name) IN (%s)\n"
          ]
        },
        {
          "output_type": "stream",
          "name": "stdout",
          "text": [
            "2025-02-10 15:01:25,852 INFO sqlalchemy.engine.Engine [cached since 1.85e+04s ago] ('defaultdb', 'investor_data', 'id')\n"
          ]
        },
        {
          "output_type": "stream",
          "name": "stderr",
          "text": [
            "INFO:sqlalchemy.engine.Engine:[cached since 1.85e+04s ago] ('defaultdb', 'investor_data', 'id')\n"
          ]
        },
        {
          "output_type": "stream",
          "name": "stdout",
          "text": [
            "2025-02-10 15:01:25,883 INFO sqlalchemy.engine.Engine SELECT information_schema.columns.table_schema, information_schema.columns.table_name, information_schema.columns.column_name \n",
            "FROM information_schema.columns \n",
            "WHERE information_schema.columns.table_schema = %s AND information_schema.columns.table_name = %s AND lower(information_schema.columns.column_name) IN (%s)\n"
          ]
        },
        {
          "output_type": "stream",
          "name": "stderr",
          "text": [
            "INFO:sqlalchemy.engine.Engine:SELECT information_schema.columns.table_schema, information_schema.columns.table_name, information_schema.columns.column_name \n",
            "FROM information_schema.columns \n",
            "WHERE information_schema.columns.table_schema = %s AND information_schema.columns.table_name = %s AND lower(information_schema.columns.column_name) IN (%s)\n"
          ]
        },
        {
          "output_type": "stream",
          "name": "stdout",
          "text": [
            "2025-02-10 15:01:25,886 INFO sqlalchemy.engine.Engine [cached since 1.85e+04s ago] ('defaultdb', 'investor_data', 'id')\n"
          ]
        },
        {
          "output_type": "stream",
          "name": "stderr",
          "text": [
            "INFO:sqlalchemy.engine.Engine:[cached since 1.85e+04s ago] ('defaultdb', 'investor_data', 'id')\n"
          ]
        },
        {
          "output_type": "stream",
          "name": "stdout",
          "text": [
            "2025-02-10 15:01:26,097 INFO sqlalchemy.engine.Engine SELECT information_schema.columns.table_schema, information_schema.columns.table_name, information_schema.columns.column_name \n",
            "FROM information_schema.columns \n",
            "WHERE information_schema.columns.table_schema = %s AND information_schema.columns.table_name = %s AND lower(information_schema.columns.column_name) IN (%s)\n"
          ]
        },
        {
          "output_type": "stream",
          "name": "stderr",
          "text": [
            "INFO:sqlalchemy.engine.Engine:SELECT information_schema.columns.table_schema, information_schema.columns.table_name, information_schema.columns.column_name \n",
            "FROM information_schema.columns \n",
            "WHERE information_schema.columns.table_schema = %s AND information_schema.columns.table_name = %s AND lower(information_schema.columns.column_name) IN (%s)\n"
          ]
        },
        {
          "output_type": "stream",
          "name": "stdout",
          "text": [
            "2025-02-10 15:01:26,100 INFO sqlalchemy.engine.Engine [cached since 1.85e+04s ago] ('defaultdb', 'partner_data', 'id')\n"
          ]
        },
        {
          "output_type": "stream",
          "name": "stderr",
          "text": [
            "INFO:sqlalchemy.engine.Engine:[cached since 1.85e+04s ago] ('defaultdb', 'partner_data', 'id')\n"
          ]
        },
        {
          "output_type": "stream",
          "name": "stdout",
          "text": [
            "2025-02-10 15:01:26,131 INFO sqlalchemy.engine.Engine SELECT information_schema.columns.table_schema, information_schema.columns.table_name, information_schema.columns.column_name \n",
            "FROM information_schema.columns \n",
            "WHERE information_schema.columns.table_schema = %s AND information_schema.columns.table_name = %s AND lower(information_schema.columns.column_name) IN (%s)\n"
          ]
        },
        {
          "output_type": "stream",
          "name": "stderr",
          "text": [
            "INFO:sqlalchemy.engine.Engine:SELECT information_schema.columns.table_schema, information_schema.columns.table_name, information_schema.columns.column_name \n",
            "FROM information_schema.columns \n",
            "WHERE information_schema.columns.table_schema = %s AND information_schema.columns.table_name = %s AND lower(information_schema.columns.column_name) IN (%s)\n"
          ]
        },
        {
          "output_type": "stream",
          "name": "stdout",
          "text": [
            "2025-02-10 15:01:26,134 INFO sqlalchemy.engine.Engine [cached since 1.85e+04s ago] ('defaultdb', 'partner_data', 'id')\n"
          ]
        },
        {
          "output_type": "stream",
          "name": "stderr",
          "text": [
            "INFO:sqlalchemy.engine.Engine:[cached since 1.85e+04s ago] ('defaultdb', 'partner_data', 'id')\n"
          ]
        },
        {
          "output_type": "stream",
          "name": "stdout",
          "text": [
            "2025-02-10 15:01:26,346 INFO sqlalchemy.engine.Engine SELECT information_schema.columns.table_schema, information_schema.columns.table_name, information_schema.columns.column_name \n",
            "FROM information_schema.columns \n",
            "WHERE information_schema.columns.table_schema = %s AND information_schema.columns.table_name = %s AND lower(information_schema.columns.column_name) IN (%s)\n"
          ]
        },
        {
          "output_type": "stream",
          "name": "stderr",
          "text": [
            "INFO:sqlalchemy.engine.Engine:SELECT information_schema.columns.table_schema, information_schema.columns.table_name, information_schema.columns.column_name \n",
            "FROM information_schema.columns \n",
            "WHERE information_schema.columns.table_schema = %s AND information_schema.columns.table_name = %s AND lower(information_schema.columns.column_name) IN (%s)\n"
          ]
        },
        {
          "output_type": "stream",
          "name": "stdout",
          "text": [
            "2025-02-10 15:01:26,349 INFO sqlalchemy.engine.Engine [cached since 1.85e+04s ago] ('defaultdb', 'vendor_data', 'id')\n"
          ]
        },
        {
          "output_type": "stream",
          "name": "stderr",
          "text": [
            "INFO:sqlalchemy.engine.Engine:[cached since 1.85e+04s ago] ('defaultdb', 'vendor_data', 'id')\n"
          ]
        },
        {
          "output_type": "stream",
          "name": "stdout",
          "text": [
            "2025-02-10 15:01:26,383 INFO sqlalchemy.engine.Engine SELECT information_schema.columns.table_schema, information_schema.columns.table_name, information_schema.columns.column_name \n",
            "FROM information_schema.columns \n",
            "WHERE information_schema.columns.table_schema = %s AND information_schema.columns.table_name = %s AND lower(information_schema.columns.column_name) IN (%s)\n"
          ]
        },
        {
          "output_type": "stream",
          "name": "stderr",
          "text": [
            "INFO:sqlalchemy.engine.Engine:SELECT information_schema.columns.table_schema, information_schema.columns.table_name, information_schema.columns.column_name \n",
            "FROM information_schema.columns \n",
            "WHERE information_schema.columns.table_schema = %s AND information_schema.columns.table_name = %s AND lower(information_schema.columns.column_name) IN (%s)\n"
          ]
        },
        {
          "output_type": "stream",
          "name": "stdout",
          "text": [
            "2025-02-10 15:01:26,386 INFO sqlalchemy.engine.Engine [cached since 1.85e+04s ago] ('defaultdb', 'vendor_data', 'id')\n"
          ]
        },
        {
          "output_type": "stream",
          "name": "stderr",
          "text": [
            "INFO:sqlalchemy.engine.Engine:[cached since 1.85e+04s ago] ('defaultdb', 'vendor_data', 'id')\n"
          ]
        },
        {
          "output_type": "stream",
          "name": "stdout",
          "text": [
            "2025-02-10 15:01:26,611 INFO sqlalchemy.engine.Engine COMMIT\n"
          ]
        },
        {
          "output_type": "stream",
          "name": "stderr",
          "text": [
            "INFO:sqlalchemy.engine.Engine:COMMIT\n"
          ]
        },
        {
          "output_type": "stream",
          "name": "stdout",
          "text": [
            "2025-02-10 15:01:26,660 INFO sqlalchemy.engine.Engine COMMIT\n"
          ]
        },
        {
          "output_type": "stream",
          "name": "stderr",
          "text": [
            "INFO:sqlalchemy.engine.Engine:COMMIT\n"
          ]
        },
        {
          "output_type": "stream",
          "name": "stdout",
          "text": [
            "response {'is_relevant': True, 'relevant_tables': [{'table_name': 'customer_data', 'columns': ['id', 'created_at', 'updated_at', 'stakeholder_type', 'product_name', 'po_number', 'client_admin_ref', 'diagnostic_id', 'language', 'experience_rating', 'experience_type', 'experience_area', 'experience_area_dimension', 'feedback', 'sentiment_normalized_rating', 'suggestions', 'testimonial_consent', 'testimonial_name_consent', 'testimonial_name', 'email', 'company_name', 'channel', 'experience_sentiment'], 'noun_columns': ['product_name', 'language', 'experience_type', 'experience_area', 'experience_area_dimension', 'testimonial_name', 'email', 'company_name', 'channel']}, {'table_name': 'customer_demographics', 'columns': ['id', 'ref_id', 'attribute_name', 'attribute_value', 'stakeholder'], 'noun_columns': ['attribute_name', 'attribute_value']}]}\n",
            "2025-02-10 15:01:31,385 INFO sqlalchemy.engine.Engine BEGIN (implicit)\n"
          ]
        },
        {
          "output_type": "stream",
          "name": "stderr",
          "text": [
            "INFO:sqlalchemy.engine.Engine:BEGIN (implicit)\n"
          ]
        },
        {
          "output_type": "stream",
          "name": "stdout",
          "text": [
            "2025-02-10 15:01:31,389 INFO sqlalchemy.engine.Engine SELECT DISTINCT `product_name`, `language`, `experience_type`, `experience_area`, `experience_area_dimension`, `testimonial_name`, `email`, `company_name`, `channel` FROM `customer_data`\n"
          ]
        },
        {
          "output_type": "stream",
          "name": "stderr",
          "text": [
            "INFO:sqlalchemy.engine.Engine:SELECT DISTINCT `product_name`, `language`, `experience_type`, `experience_area`, `experience_area_dimension`, `testimonial_name`, `email`, `company_name`, `channel` FROM `customer_data`\n"
          ]
        },
        {
          "output_type": "stream",
          "name": "stdout",
          "text": [
            "2025-02-10 15:01:31,393 INFO sqlalchemy.engine.Engine [cached since 2015s ago] ()\n"
          ]
        },
        {
          "output_type": "stream",
          "name": "stderr",
          "text": [
            "INFO:sqlalchemy.engine.Engine:[cached since 2015s ago] ()\n"
          ]
        },
        {
          "output_type": "stream",
          "name": "stdout",
          "text": [
            "2025-02-10 15:01:31,879 INFO sqlalchemy.engine.Engine COMMIT\n"
          ]
        },
        {
          "output_type": "stream",
          "name": "stderr",
          "text": [
            "INFO:sqlalchemy.engine.Engine:COMMIT\n"
          ]
        },
        {
          "output_type": "stream",
          "name": "stdout",
          "text": [
            "response {'is_relevant': True, 'relevant_tables': [{'table_name': 'customer_data', 'columns': ['id', 'created_at', 'updated_at', 'stakeholder_type', 'product_name', 'po_number', 'client_admin_ref', 'diagnostic_id', 'language', 'experience_rating', 'experience_type', 'experience_area', 'experience_area_dimension', 'feedback', 'sentiment_normalized_rating', 'suggestions', 'testimonial_consent', 'testimonial_name_consent', 'testimonial_name', 'email', 'company_name', 'channel', 'experience_sentiment'], 'noun_columns': ['product_name', 'language', 'experience_type', 'experience_area', 'experience_area_dimension', 'testimonial_name', 'email', 'company_name', 'channel']}, {'table_name': 'customer_demographics', 'columns': ['id', 'ref_id', 'attribute_name', 'attribute_value', 'stakeholder'], 'noun_columns': ['attribute_name', 'attribute_value']}]}\n",
            "2025-02-10 15:01:32,015 INFO sqlalchemy.engine.Engine BEGIN (implicit)\n"
          ]
        },
        {
          "output_type": "stream",
          "name": "stderr",
          "text": [
            "INFO:sqlalchemy.engine.Engine:BEGIN (implicit)\n"
          ]
        },
        {
          "output_type": "stream",
          "name": "stdout",
          "text": [
            "2025-02-10 15:01:32,019 INFO sqlalchemy.engine.Engine SELECT DISTINCT `product_name`, `language`, `experience_type`, `experience_area`, `experience_area_dimension`, `testimonial_name`, `email`, `company_name`, `channel` FROM `customer_data`\n"
          ]
        },
        {
          "output_type": "stream",
          "name": "stderr",
          "text": [
            "INFO:sqlalchemy.engine.Engine:SELECT DISTINCT `product_name`, `language`, `experience_type`, `experience_area`, `experience_area_dimension`, `testimonial_name`, `email`, `company_name`, `channel` FROM `customer_data`\n"
          ]
        },
        {
          "output_type": "stream",
          "name": "stdout",
          "text": [
            "2025-02-10 15:01:32,020 INFO sqlalchemy.engine.Engine [cached since 2016s ago] ()\n"
          ]
        },
        {
          "output_type": "stream",
          "name": "stderr",
          "text": [
            "INFO:sqlalchemy.engine.Engine:[cached since 2016s ago] ()\n"
          ]
        },
        {
          "output_type": "stream",
          "name": "stdout",
          "text": [
            "2025-02-10 15:01:32,361 INFO sqlalchemy.engine.Engine BEGIN (implicit)\n"
          ]
        },
        {
          "output_type": "stream",
          "name": "stderr",
          "text": [
            "INFO:sqlalchemy.engine.Engine:BEGIN (implicit)\n"
          ]
        },
        {
          "output_type": "stream",
          "name": "stdout",
          "text": [
            "2025-02-10 15:01:32,363 INFO sqlalchemy.engine.Engine SELECT DISTINCT `attribute_name`, `attribute_value` FROM `customer_demographics`\n"
          ]
        },
        {
          "output_type": "stream",
          "name": "stderr",
          "text": [
            "INFO:sqlalchemy.engine.Engine:SELECT DISTINCT `attribute_name`, `attribute_value` FROM `customer_demographics`\n"
          ]
        },
        {
          "output_type": "stream",
          "name": "stdout",
          "text": [
            "2025-02-10 15:01:32,365 INFO sqlalchemy.engine.Engine [cached since 2015s ago] ()\n"
          ]
        },
        {
          "output_type": "stream",
          "name": "stderr",
          "text": [
            "INFO:sqlalchemy.engine.Engine:[cached since 2015s ago] ()\n"
          ]
        },
        {
          "output_type": "stream",
          "name": "stdout",
          "text": [
            "2025-02-10 15:01:32,504 INFO sqlalchemy.engine.Engine COMMIT\n"
          ]
        },
        {
          "output_type": "stream",
          "name": "stderr",
          "text": [
            "INFO:sqlalchemy.engine.Engine:COMMIT\n"
          ]
        },
        {
          "output_type": "stream",
          "name": "stdout",
          "text": [
            "2025-02-10 15:01:32,612 INFO sqlalchemy.engine.Engine COMMIT\n"
          ]
        },
        {
          "output_type": "stream",
          "name": "stderr",
          "text": [
            "INFO:sqlalchemy.engine.Engine:COMMIT\n"
          ]
        },
        {
          "output_type": "stream",
          "name": "stdout",
          "text": [
            "2025-02-10 15:01:32,986 INFO sqlalchemy.engine.Engine BEGIN (implicit)\n"
          ]
        },
        {
          "output_type": "stream",
          "name": "stderr",
          "text": [
            "INFO:sqlalchemy.engine.Engine:BEGIN (implicit)\n"
          ]
        },
        {
          "output_type": "stream",
          "name": "stdout",
          "text": [
            "2025-02-10 15:01:32,989 INFO sqlalchemy.engine.Engine SELECT DISTINCT `attribute_name`, `attribute_value` FROM `customer_demographics`\n"
          ]
        },
        {
          "output_type": "stream",
          "name": "stderr",
          "text": [
            "INFO:sqlalchemy.engine.Engine:SELECT DISTINCT `attribute_name`, `attribute_value` FROM `customer_demographics`\n"
          ]
        },
        {
          "output_type": "stream",
          "name": "stdout",
          "text": [
            "2025-02-10 15:01:32,991 INFO sqlalchemy.engine.Engine [cached since 2016s ago] ()\n"
          ]
        },
        {
          "output_type": "stream",
          "name": "stderr",
          "text": [
            "INFO:sqlalchemy.engine.Engine:[cached since 2016s ago] ()\n"
          ]
        },
        {
          "output_type": "stream",
          "name": "stdout",
          "text": [
            "2025-02-10 15:01:33,095 INFO sqlalchemy.engine.Engine BEGIN (implicit)\n"
          ]
        },
        {
          "output_type": "stream",
          "name": "stderr",
          "text": [
            "INFO:sqlalchemy.engine.Engine:BEGIN (implicit)\n"
          ]
        },
        {
          "output_type": "stream",
          "name": "stdout",
          "text": [
            "2025-02-10 15:01:33,097 INFO sqlalchemy.engine.Engine SHOW FULL TABLES FROM \"defaultdb\"\n"
          ]
        },
        {
          "output_type": "stream",
          "name": "stderr",
          "text": [
            "INFO:sqlalchemy.engine.Engine:SHOW FULL TABLES FROM \"defaultdb\"\n"
          ]
        },
        {
          "output_type": "stream",
          "name": "stdout",
          "text": [
            "2025-02-10 15:01:33,103 INFO sqlalchemy.engine.Engine [raw sql] ()\n"
          ]
        },
        {
          "output_type": "stream",
          "name": "stderr",
          "text": [
            "INFO:sqlalchemy.engine.Engine:[raw sql] ()\n"
          ]
        },
        {
          "output_type": "stream",
          "name": "stdout",
          "text": [
            "2025-02-10 15:01:33,239 INFO sqlalchemy.engine.Engine COMMIT\n"
          ]
        },
        {
          "output_type": "stream",
          "name": "stderr",
          "text": [
            "INFO:sqlalchemy.engine.Engine:COMMIT\n"
          ]
        },
        {
          "output_type": "stream",
          "name": "stdout",
          "text": [
            "2025-02-10 15:01:33,349 INFO sqlalchemy.engine.Engine SHOW CREATE TABLE \"SequelizeMeta\"\n"
          ]
        },
        {
          "output_type": "stream",
          "name": "stderr",
          "text": [
            "INFO:sqlalchemy.engine.Engine:SHOW CREATE TABLE \"SequelizeMeta\"\n"
          ]
        },
        {
          "output_type": "stream",
          "name": "stdout",
          "text": [
            "2025-02-10 15:01:33,352 INFO sqlalchemy.engine.Engine [raw sql] ()\n"
          ]
        },
        {
          "output_type": "stream",
          "name": "stderr",
          "text": [
            "INFO:sqlalchemy.engine.Engine:[raw sql] ()\n"
          ]
        },
        {
          "output_type": "stream",
          "name": "stdout",
          "text": [
            "2025-02-10 15:01:33,597 INFO sqlalchemy.engine.Engine SHOW CREATE TABLE \"candidate_data\"\n"
          ]
        },
        {
          "output_type": "stream",
          "name": "stderr",
          "text": [
            "INFO:sqlalchemy.engine.Engine:SHOW CREATE TABLE \"candidate_data\"\n"
          ]
        },
        {
          "output_type": "stream",
          "name": "stdout",
          "text": [
            "2025-02-10 15:01:33,600 INFO sqlalchemy.engine.Engine [raw sql] ()\n"
          ]
        },
        {
          "output_type": "stream",
          "name": "stderr",
          "text": [
            "INFO:sqlalchemy.engine.Engine:[raw sql] ()\n"
          ]
        },
        {
          "output_type": "stream",
          "name": "stdout",
          "text": [
            "2025-02-10 15:01:33,721 INFO sqlalchemy.engine.Engine BEGIN (implicit)\n"
          ]
        },
        {
          "output_type": "stream",
          "name": "stderr",
          "text": [
            "INFO:sqlalchemy.engine.Engine:BEGIN (implicit)\n"
          ]
        },
        {
          "output_type": "stream",
          "name": "stdout",
          "text": [
            "2025-02-10 15:01:33,724 INFO sqlalchemy.engine.Engine SHOW FULL TABLES FROM \"defaultdb\"\n"
          ]
        },
        {
          "output_type": "stream",
          "name": "stderr",
          "text": [
            "INFO:sqlalchemy.engine.Engine:SHOW FULL TABLES FROM \"defaultdb\"\n"
          ]
        },
        {
          "output_type": "stream",
          "name": "stdout",
          "text": [
            "2025-02-10 15:01:33,726 INFO sqlalchemy.engine.Engine [raw sql] ()\n"
          ]
        },
        {
          "output_type": "stream",
          "name": "stderr",
          "text": [
            "INFO:sqlalchemy.engine.Engine:[raw sql] ()\n"
          ]
        },
        {
          "output_type": "stream",
          "name": "stdout",
          "text": [
            "2025-02-10 15:01:33,842 INFO sqlalchemy.engine.Engine SHOW CREATE TABLE \"candidate_demographics\"\n"
          ]
        },
        {
          "output_type": "stream",
          "name": "stderr",
          "text": [
            "INFO:sqlalchemy.engine.Engine:SHOW CREATE TABLE \"candidate_demographics\"\n"
          ]
        },
        {
          "output_type": "stream",
          "name": "stdout",
          "text": [
            "2025-02-10 15:01:33,845 INFO sqlalchemy.engine.Engine [raw sql] ()\n"
          ]
        },
        {
          "output_type": "stream",
          "name": "stderr",
          "text": [
            "INFO:sqlalchemy.engine.Engine:[raw sql] ()\n"
          ]
        },
        {
          "output_type": "stream",
          "name": "stdout",
          "text": [
            "2025-02-10 15:01:33,970 INFO sqlalchemy.engine.Engine SHOW CREATE TABLE \"SequelizeMeta\"\n"
          ]
        },
        {
          "output_type": "stream",
          "name": "stderr",
          "text": [
            "INFO:sqlalchemy.engine.Engine:SHOW CREATE TABLE \"SequelizeMeta\"\n"
          ]
        },
        {
          "output_type": "stream",
          "name": "stdout",
          "text": [
            "2025-02-10 15:01:33,973 INFO sqlalchemy.engine.Engine [raw sql] ()\n"
          ]
        },
        {
          "output_type": "stream",
          "name": "stderr",
          "text": [
            "INFO:sqlalchemy.engine.Engine:[raw sql] ()\n"
          ]
        },
        {
          "output_type": "stream",
          "name": "stdout",
          "text": [
            "2025-02-10 15:01:34,087 INFO sqlalchemy.engine.Engine SHOW CREATE TABLE \"csrpartner_data\"\n"
          ]
        },
        {
          "output_type": "stream",
          "name": "stderr",
          "text": [
            "INFO:sqlalchemy.engine.Engine:SHOW CREATE TABLE \"csrpartner_data\"\n"
          ]
        },
        {
          "output_type": "stream",
          "name": "stdout",
          "text": [
            "2025-02-10 15:01:34,090 INFO sqlalchemy.engine.Engine [raw sql] ()\n"
          ]
        },
        {
          "output_type": "stream",
          "name": "stderr",
          "text": [
            "INFO:sqlalchemy.engine.Engine:[raw sql] ()\n"
          ]
        },
        {
          "output_type": "stream",
          "name": "stdout",
          "text": [
            "2025-02-10 15:01:34,217 INFO sqlalchemy.engine.Engine SHOW CREATE TABLE \"candidate_data\"\n"
          ]
        },
        {
          "output_type": "stream",
          "name": "stderr",
          "text": [
            "INFO:sqlalchemy.engine.Engine:SHOW CREATE TABLE \"candidate_data\"\n"
          ]
        },
        {
          "output_type": "stream",
          "name": "stdout",
          "text": [
            "2025-02-10 15:01:34,220 INFO sqlalchemy.engine.Engine [raw sql] ()\n"
          ]
        },
        {
          "output_type": "stream",
          "name": "stderr",
          "text": [
            "INFO:sqlalchemy.engine.Engine:[raw sql] ()\n"
          ]
        },
        {
          "output_type": "stream",
          "name": "stdout",
          "text": [
            "2025-02-10 15:01:34,334 INFO sqlalchemy.engine.Engine SHOW CREATE TABLE \"csrpartner_demographics\"\n"
          ]
        },
        {
          "output_type": "stream",
          "name": "stderr",
          "text": [
            "INFO:sqlalchemy.engine.Engine:SHOW CREATE TABLE \"csrpartner_demographics\"\n"
          ]
        },
        {
          "output_type": "stream",
          "name": "stdout",
          "text": [
            "2025-02-10 15:01:34,337 INFO sqlalchemy.engine.Engine [raw sql] ()\n"
          ]
        },
        {
          "output_type": "stream",
          "name": "stderr",
          "text": [
            "INFO:sqlalchemy.engine.Engine:[raw sql] ()\n"
          ]
        },
        {
          "output_type": "stream",
          "name": "stdout",
          "text": [
            "2025-02-10 15:01:34,463 INFO sqlalchemy.engine.Engine SHOW CREATE TABLE \"candidate_demographics\"\n"
          ]
        },
        {
          "output_type": "stream",
          "name": "stderr",
          "text": [
            "INFO:sqlalchemy.engine.Engine:SHOW CREATE TABLE \"candidate_demographics\"\n"
          ]
        },
        {
          "output_type": "stream",
          "name": "stdout",
          "text": [
            "2025-02-10 15:01:34,466 INFO sqlalchemy.engine.Engine [raw sql] ()\n"
          ]
        },
        {
          "output_type": "stream",
          "name": "stderr",
          "text": [
            "INFO:sqlalchemy.engine.Engine:[raw sql] ()\n"
          ]
        },
        {
          "output_type": "stream",
          "name": "stdout",
          "text": [
            "2025-02-10 15:01:34,579 INFO sqlalchemy.engine.Engine SHOW CREATE TABLE \"customer_data\"\n"
          ]
        },
        {
          "output_type": "stream",
          "name": "stderr",
          "text": [
            "INFO:sqlalchemy.engine.Engine:SHOW CREATE TABLE \"customer_data\"\n"
          ]
        },
        {
          "output_type": "stream",
          "name": "stdout",
          "text": [
            "2025-02-10 15:01:34,582 INFO sqlalchemy.engine.Engine [raw sql] ()\n"
          ]
        },
        {
          "output_type": "stream",
          "name": "stderr",
          "text": [
            "INFO:sqlalchemy.engine.Engine:[raw sql] ()\n"
          ]
        },
        {
          "output_type": "stream",
          "name": "stdout",
          "text": [
            "2025-02-10 15:01:34,710 INFO sqlalchemy.engine.Engine SHOW CREATE TABLE \"csrpartner_data\"\n"
          ]
        },
        {
          "output_type": "stream",
          "name": "stderr",
          "text": [
            "INFO:sqlalchemy.engine.Engine:SHOW CREATE TABLE \"csrpartner_data\"\n"
          ]
        },
        {
          "output_type": "stream",
          "name": "stdout",
          "text": [
            "2025-02-10 15:01:34,713 INFO sqlalchemy.engine.Engine [raw sql] ()\n"
          ]
        },
        {
          "output_type": "stream",
          "name": "stderr",
          "text": [
            "INFO:sqlalchemy.engine.Engine:[raw sql] ()\n"
          ]
        },
        {
          "output_type": "stream",
          "name": "stdout",
          "text": [
            "2025-02-10 15:01:34,825 INFO sqlalchemy.engine.Engine SHOW CREATE TABLE \"customer_demographics\"\n"
          ]
        },
        {
          "output_type": "stream",
          "name": "stderr",
          "text": [
            "INFO:sqlalchemy.engine.Engine:SHOW CREATE TABLE \"customer_demographics\"\n"
          ]
        },
        {
          "output_type": "stream",
          "name": "stdout",
          "text": [
            "2025-02-10 15:01:34,829 INFO sqlalchemy.engine.Engine [raw sql] ()\n"
          ]
        },
        {
          "output_type": "stream",
          "name": "stderr",
          "text": [
            "INFO:sqlalchemy.engine.Engine:[raw sql] ()\n"
          ]
        },
        {
          "output_type": "stream",
          "name": "stdout",
          "text": [
            "2025-02-10 15:01:34,955 INFO sqlalchemy.engine.Engine SHOW CREATE TABLE \"csrpartner_demographics\"\n"
          ]
        },
        {
          "output_type": "stream",
          "name": "stderr",
          "text": [
            "INFO:sqlalchemy.engine.Engine:SHOW CREATE TABLE \"csrpartner_demographics\"\n"
          ]
        },
        {
          "output_type": "stream",
          "name": "stdout",
          "text": [
            "2025-02-10 15:01:34,958 INFO sqlalchemy.engine.Engine [raw sql] ()\n"
          ]
        },
        {
          "output_type": "stream",
          "name": "stderr",
          "text": [
            "INFO:sqlalchemy.engine.Engine:[raw sql] ()\n"
          ]
        },
        {
          "output_type": "stream",
          "name": "stdout",
          "text": [
            "2025-02-10 15:01:35,071 INFO sqlalchemy.engine.Engine SHOW CREATE TABLE \"employee_data\"\n"
          ]
        },
        {
          "output_type": "stream",
          "name": "stderr",
          "text": [
            "INFO:sqlalchemy.engine.Engine:SHOW CREATE TABLE \"employee_data\"\n"
          ]
        },
        {
          "output_type": "stream",
          "name": "stdout",
          "text": [
            "2025-02-10 15:01:35,074 INFO sqlalchemy.engine.Engine [raw sql] ()\n"
          ]
        },
        {
          "output_type": "stream",
          "name": "stderr",
          "text": [
            "INFO:sqlalchemy.engine.Engine:[raw sql] ()\n"
          ]
        },
        {
          "output_type": "stream",
          "name": "stdout",
          "text": [
            "2025-02-10 15:01:35,201 INFO sqlalchemy.engine.Engine SHOW CREATE TABLE \"customer_data\"\n"
          ]
        },
        {
          "output_type": "stream",
          "name": "stderr",
          "text": [
            "INFO:sqlalchemy.engine.Engine:SHOW CREATE TABLE \"customer_data\"\n"
          ]
        },
        {
          "output_type": "stream",
          "name": "stdout",
          "text": [
            "2025-02-10 15:01:35,204 INFO sqlalchemy.engine.Engine [raw sql] ()\n"
          ]
        },
        {
          "output_type": "stream",
          "name": "stderr",
          "text": [
            "INFO:sqlalchemy.engine.Engine:[raw sql] ()\n"
          ]
        },
        {
          "output_type": "stream",
          "name": "stdout",
          "text": [
            "2025-02-10 15:01:35,317 INFO sqlalchemy.engine.Engine SHOW CREATE TABLE \"employee_demographics\"\n"
          ]
        },
        {
          "output_type": "stream",
          "name": "stderr",
          "text": [
            "INFO:sqlalchemy.engine.Engine:SHOW CREATE TABLE \"employee_demographics\"\n"
          ]
        },
        {
          "output_type": "stream",
          "name": "stdout",
          "text": [
            "2025-02-10 15:01:35,320 INFO sqlalchemy.engine.Engine [raw sql] ()\n"
          ]
        },
        {
          "output_type": "stream",
          "name": "stderr",
          "text": [
            "INFO:sqlalchemy.engine.Engine:[raw sql] ()\n"
          ]
        },
        {
          "output_type": "stream",
          "name": "stdout",
          "text": [
            "2025-02-10 15:01:35,448 INFO sqlalchemy.engine.Engine SHOW CREATE TABLE \"customer_demographics\"\n"
          ]
        },
        {
          "output_type": "stream",
          "name": "stderr",
          "text": [
            "INFO:sqlalchemy.engine.Engine:SHOW CREATE TABLE \"customer_demographics\"\n"
          ]
        },
        {
          "output_type": "stream",
          "name": "stdout",
          "text": [
            "2025-02-10 15:01:35,451 INFO sqlalchemy.engine.Engine [raw sql] ()\n"
          ]
        },
        {
          "output_type": "stream",
          "name": "stderr",
          "text": [
            "INFO:sqlalchemy.engine.Engine:[raw sql] ()\n"
          ]
        },
        {
          "output_type": "stream",
          "name": "stdout",
          "text": [
            "2025-02-10 15:01:35,564 INFO sqlalchemy.engine.Engine SHOW CREATE TABLE \"investor_data\"\n"
          ]
        },
        {
          "output_type": "stream",
          "name": "stderr",
          "text": [
            "INFO:sqlalchemy.engine.Engine:SHOW CREATE TABLE \"investor_data\"\n"
          ]
        },
        {
          "output_type": "stream",
          "name": "stdout",
          "text": [
            "2025-02-10 15:01:35,567 INFO sqlalchemy.engine.Engine [raw sql] ()\n"
          ]
        },
        {
          "output_type": "stream",
          "name": "stderr",
          "text": [
            "INFO:sqlalchemy.engine.Engine:[raw sql] ()\n"
          ]
        },
        {
          "output_type": "stream",
          "name": "stdout",
          "text": [
            "2025-02-10 15:01:35,694 INFO sqlalchemy.engine.Engine SHOW CREATE TABLE \"employee_data\"\n"
          ]
        },
        {
          "output_type": "stream",
          "name": "stderr",
          "text": [
            "INFO:sqlalchemy.engine.Engine:SHOW CREATE TABLE \"employee_data\"\n"
          ]
        },
        {
          "output_type": "stream",
          "name": "stdout",
          "text": [
            "2025-02-10 15:01:35,698 INFO sqlalchemy.engine.Engine [raw sql] ()\n"
          ]
        },
        {
          "output_type": "stream",
          "name": "stderr",
          "text": [
            "INFO:sqlalchemy.engine.Engine:[raw sql] ()\n"
          ]
        },
        {
          "output_type": "stream",
          "name": "stdout",
          "text": [
            "2025-02-10 15:01:35,811 INFO sqlalchemy.engine.Engine SHOW CREATE TABLE \"investor_demographics\"\n"
          ]
        },
        {
          "output_type": "stream",
          "name": "stderr",
          "text": [
            "INFO:sqlalchemy.engine.Engine:SHOW CREATE TABLE \"investor_demographics\"\n"
          ]
        },
        {
          "output_type": "stream",
          "name": "stdout",
          "text": [
            "2025-02-10 15:01:35,814 INFO sqlalchemy.engine.Engine [raw sql] ()\n"
          ]
        },
        {
          "output_type": "stream",
          "name": "stderr",
          "text": [
            "INFO:sqlalchemy.engine.Engine:[raw sql] ()\n"
          ]
        },
        {
          "output_type": "stream",
          "name": "stdout",
          "text": [
            "2025-02-10 15:01:35,942 INFO sqlalchemy.engine.Engine SHOW CREATE TABLE \"employee_demographics\"\n"
          ]
        },
        {
          "output_type": "stream",
          "name": "stderr",
          "text": [
            "INFO:sqlalchemy.engine.Engine:SHOW CREATE TABLE \"employee_demographics\"\n"
          ]
        },
        {
          "output_type": "stream",
          "name": "stdout",
          "text": [
            "2025-02-10 15:01:35,945 INFO sqlalchemy.engine.Engine [raw sql] ()\n"
          ]
        },
        {
          "output_type": "stream",
          "name": "stderr",
          "text": [
            "INFO:sqlalchemy.engine.Engine:[raw sql] ()\n"
          ]
        },
        {
          "output_type": "stream",
          "name": "stdout",
          "text": [
            "2025-02-10 15:01:36,057 INFO sqlalchemy.engine.Engine SHOW CREATE TABLE \"partner_data\"\n"
          ]
        },
        {
          "output_type": "stream",
          "name": "stderr",
          "text": [
            "INFO:sqlalchemy.engine.Engine:SHOW CREATE TABLE \"partner_data\"\n"
          ]
        },
        {
          "output_type": "stream",
          "name": "stdout",
          "text": [
            "2025-02-10 15:01:36,059 INFO sqlalchemy.engine.Engine [raw sql] ()\n"
          ]
        },
        {
          "output_type": "stream",
          "name": "stderr",
          "text": [
            "INFO:sqlalchemy.engine.Engine:[raw sql] ()\n"
          ]
        },
        {
          "output_type": "stream",
          "name": "stdout",
          "text": [
            "2025-02-10 15:01:36,188 INFO sqlalchemy.engine.Engine SHOW CREATE TABLE \"investor_data\"\n"
          ]
        },
        {
          "output_type": "stream",
          "name": "stderr",
          "text": [
            "INFO:sqlalchemy.engine.Engine:SHOW CREATE TABLE \"investor_data\"\n"
          ]
        },
        {
          "output_type": "stream",
          "name": "stdout",
          "text": [
            "2025-02-10 15:01:36,192 INFO sqlalchemy.engine.Engine [raw sql] ()\n"
          ]
        },
        {
          "output_type": "stream",
          "name": "stderr",
          "text": [
            "INFO:sqlalchemy.engine.Engine:[raw sql] ()\n"
          ]
        },
        {
          "output_type": "stream",
          "name": "stdout",
          "text": [
            "2025-02-10 15:01:36,302 INFO sqlalchemy.engine.Engine SHOW CREATE TABLE \"partner_demographics\"\n"
          ]
        },
        {
          "output_type": "stream",
          "name": "stderr",
          "text": [
            "INFO:sqlalchemy.engine.Engine:SHOW CREATE TABLE \"partner_demographics\"\n"
          ]
        },
        {
          "output_type": "stream",
          "name": "stdout",
          "text": [
            "2025-02-10 15:01:36,305 INFO sqlalchemy.engine.Engine [raw sql] ()\n"
          ]
        },
        {
          "output_type": "stream",
          "name": "stderr",
          "text": [
            "INFO:sqlalchemy.engine.Engine:[raw sql] ()\n"
          ]
        },
        {
          "output_type": "stream",
          "name": "stdout",
          "text": [
            "2025-02-10 15:01:36,437 INFO sqlalchemy.engine.Engine SHOW CREATE TABLE \"investor_demographics\"\n"
          ]
        },
        {
          "output_type": "stream",
          "name": "stderr",
          "text": [
            "INFO:sqlalchemy.engine.Engine:SHOW CREATE TABLE \"investor_demographics\"\n"
          ]
        },
        {
          "output_type": "stream",
          "name": "stdout",
          "text": [
            "2025-02-10 15:01:36,440 INFO sqlalchemy.engine.Engine [raw sql] ()\n"
          ]
        },
        {
          "output_type": "stream",
          "name": "stderr",
          "text": [
            "INFO:sqlalchemy.engine.Engine:[raw sql] ()\n"
          ]
        },
        {
          "output_type": "stream",
          "name": "stdout",
          "text": [
            "2025-02-10 15:01:36,547 INFO sqlalchemy.engine.Engine SHOW CREATE TABLE \"vendor_data\"\n"
          ]
        },
        {
          "output_type": "stream",
          "name": "stderr",
          "text": [
            "INFO:sqlalchemy.engine.Engine:SHOW CREATE TABLE \"vendor_data\"\n"
          ]
        },
        {
          "output_type": "stream",
          "name": "stdout",
          "text": [
            "2025-02-10 15:01:36,550 INFO sqlalchemy.engine.Engine [raw sql] ()\n"
          ]
        },
        {
          "output_type": "stream",
          "name": "stderr",
          "text": [
            "INFO:sqlalchemy.engine.Engine:[raw sql] ()\n"
          ]
        },
        {
          "output_type": "stream",
          "name": "stdout",
          "text": [
            "2025-02-10 15:01:36,686 INFO sqlalchemy.engine.Engine SHOW CREATE TABLE \"partner_data\"\n"
          ]
        },
        {
          "output_type": "stream",
          "name": "stderr",
          "text": [
            "INFO:sqlalchemy.engine.Engine:SHOW CREATE TABLE \"partner_data\"\n"
          ]
        },
        {
          "output_type": "stream",
          "name": "stdout",
          "text": [
            "2025-02-10 15:01:36,689 INFO sqlalchemy.engine.Engine [raw sql] ()\n"
          ]
        },
        {
          "output_type": "stream",
          "name": "stderr",
          "text": [
            "INFO:sqlalchemy.engine.Engine:[raw sql] ()\n"
          ]
        },
        {
          "output_type": "stream",
          "name": "stdout",
          "text": [
            "2025-02-10 15:01:36,794 INFO sqlalchemy.engine.Engine SHOW CREATE TABLE \"vendor_demographics\"\n"
          ]
        },
        {
          "output_type": "stream",
          "name": "stderr",
          "text": [
            "INFO:sqlalchemy.engine.Engine:SHOW CREATE TABLE \"vendor_demographics\"\n"
          ]
        },
        {
          "output_type": "stream",
          "name": "stdout",
          "text": [
            "2025-02-10 15:01:36,798 INFO sqlalchemy.engine.Engine [raw sql] ()\n"
          ]
        },
        {
          "output_type": "stream",
          "name": "stderr",
          "text": [
            "INFO:sqlalchemy.engine.Engine:[raw sql] ()\n"
          ]
        },
        {
          "output_type": "stream",
          "name": "stdout",
          "text": [
            "2025-02-10 15:01:36,932 INFO sqlalchemy.engine.Engine SHOW CREATE TABLE \"partner_demographics\"\n"
          ]
        },
        {
          "output_type": "stream",
          "name": "stderr",
          "text": [
            "INFO:sqlalchemy.engine.Engine:SHOW CREATE TABLE \"partner_demographics\"\n"
          ]
        },
        {
          "output_type": "stream",
          "name": "stdout",
          "text": [
            "2025-02-10 15:01:36,934 INFO sqlalchemy.engine.Engine [raw sql] ()\n"
          ]
        },
        {
          "output_type": "stream",
          "name": "stderr",
          "text": [
            "INFO:sqlalchemy.engine.Engine:[raw sql] ()\n"
          ]
        },
        {
          "output_type": "stream",
          "name": "stdout",
          "text": [
            "2025-02-10 15:01:37,042 INFO sqlalchemy.engine.Engine SELECT information_schema.columns.table_schema, information_schema.columns.table_name, information_schema.columns.column_name \n",
            "FROM information_schema.columns \n",
            "WHERE information_schema.columns.table_schema = %s AND information_schema.columns.table_name = %s AND lower(information_schema.columns.column_name) IN (%s)\n"
          ]
        },
        {
          "output_type": "stream",
          "name": "stderr",
          "text": [
            "INFO:sqlalchemy.engine.Engine:SELECT information_schema.columns.table_schema, information_schema.columns.table_name, information_schema.columns.column_name \n",
            "FROM information_schema.columns \n",
            "WHERE information_schema.columns.table_schema = %s AND information_schema.columns.table_name = %s AND lower(information_schema.columns.column_name) IN (%s)\n"
          ]
        },
        {
          "output_type": "stream",
          "name": "stdout",
          "text": [
            "2025-02-10 15:01:37,045 INFO sqlalchemy.engine.Engine [cached since 1.851e+04s ago] ('defaultdb', 'candidate_data', 'id')\n"
          ]
        },
        {
          "output_type": "stream",
          "name": "stderr",
          "text": [
            "INFO:sqlalchemy.engine.Engine:[cached since 1.851e+04s ago] ('defaultdb', 'candidate_data', 'id')\n"
          ]
        },
        {
          "output_type": "stream",
          "name": "stdout",
          "text": [
            "2025-02-10 15:01:37,177 INFO sqlalchemy.engine.Engine SHOW CREATE TABLE \"vendor_data\"\n"
          ]
        },
        {
          "output_type": "stream",
          "name": "stderr",
          "text": [
            "INFO:sqlalchemy.engine.Engine:SHOW CREATE TABLE \"vendor_data\"\n"
          ]
        },
        {
          "output_type": "stream",
          "name": "stdout",
          "text": [
            "2025-02-10 15:01:37,180 INFO sqlalchemy.engine.Engine [raw sql] ()\n"
          ]
        },
        {
          "output_type": "stream",
          "name": "stderr",
          "text": [
            "INFO:sqlalchemy.engine.Engine:[raw sql] ()\n"
          ]
        },
        {
          "output_type": "stream",
          "name": "stdout",
          "text": [
            "2025-02-10 15:01:37,290 INFO sqlalchemy.engine.Engine SELECT information_schema.columns.table_schema, information_schema.columns.table_name, information_schema.columns.column_name \n",
            "FROM information_schema.columns \n",
            "WHERE information_schema.columns.table_schema = %s AND information_schema.columns.table_name = %s AND lower(information_schema.columns.column_name) IN (%s)\n"
          ]
        },
        {
          "output_type": "stream",
          "name": "stderr",
          "text": [
            "INFO:sqlalchemy.engine.Engine:SELECT information_schema.columns.table_schema, information_schema.columns.table_name, information_schema.columns.column_name \n",
            "FROM information_schema.columns \n",
            "WHERE information_schema.columns.table_schema = %s AND information_schema.columns.table_name = %s AND lower(information_schema.columns.column_name) IN (%s)\n"
          ]
        },
        {
          "output_type": "stream",
          "name": "stdout",
          "text": [
            "2025-02-10 15:01:37,293 INFO sqlalchemy.engine.Engine [cached since 1.851e+04s ago] ('defaultdb', 'csrpartner_data', 'id')\n"
          ]
        },
        {
          "output_type": "stream",
          "name": "stderr",
          "text": [
            "INFO:sqlalchemy.engine.Engine:[cached since 1.851e+04s ago] ('defaultdb', 'csrpartner_data', 'id')\n"
          ]
        },
        {
          "output_type": "stream",
          "name": "stdout",
          "text": [
            "2025-02-10 15:01:37,423 INFO sqlalchemy.engine.Engine SHOW CREATE TABLE \"vendor_demographics\"\n"
          ]
        },
        {
          "output_type": "stream",
          "name": "stderr",
          "text": [
            "INFO:sqlalchemy.engine.Engine:SHOW CREATE TABLE \"vendor_demographics\"\n"
          ]
        },
        {
          "output_type": "stream",
          "name": "stdout",
          "text": [
            "2025-02-10 15:01:37,426 INFO sqlalchemy.engine.Engine [raw sql] ()\n"
          ]
        },
        {
          "output_type": "stream",
          "name": "stderr",
          "text": [
            "INFO:sqlalchemy.engine.Engine:[raw sql] ()\n"
          ]
        },
        {
          "output_type": "stream",
          "name": "stdout",
          "text": [
            "2025-02-10 15:01:37,538 INFO sqlalchemy.engine.Engine SELECT information_schema.columns.table_schema, information_schema.columns.table_name, information_schema.columns.column_name \n",
            "FROM information_schema.columns \n",
            "WHERE information_schema.columns.table_schema = %s AND information_schema.columns.table_name = %s AND lower(information_schema.columns.column_name) IN (%s)\n"
          ]
        },
        {
          "output_type": "stream",
          "name": "stderr",
          "text": [
            "INFO:sqlalchemy.engine.Engine:SELECT information_schema.columns.table_schema, information_schema.columns.table_name, information_schema.columns.column_name \n",
            "FROM information_schema.columns \n",
            "WHERE information_schema.columns.table_schema = %s AND information_schema.columns.table_name = %s AND lower(information_schema.columns.column_name) IN (%s)\n"
          ]
        },
        {
          "output_type": "stream",
          "name": "stdout",
          "text": [
            "2025-02-10 15:01:37,541 INFO sqlalchemy.engine.Engine [cached since 1.851e+04s ago] ('defaultdb', 'customer_data', 'id')\n"
          ]
        },
        {
          "output_type": "stream",
          "name": "stderr",
          "text": [
            "INFO:sqlalchemy.engine.Engine:[cached since 1.851e+04s ago] ('defaultdb', 'customer_data', 'id')\n"
          ]
        },
        {
          "output_type": "stream",
          "name": "stdout",
          "text": [
            "2025-02-10 15:01:37,671 INFO sqlalchemy.engine.Engine SELECT information_schema.columns.table_schema, information_schema.columns.table_name, information_schema.columns.column_name \n",
            "FROM information_schema.columns \n",
            "WHERE information_schema.columns.table_schema = %s AND information_schema.columns.table_name = %s AND lower(information_schema.columns.column_name) IN (%s)\n"
          ]
        },
        {
          "output_type": "stream",
          "name": "stderr",
          "text": [
            "INFO:sqlalchemy.engine.Engine:SELECT information_schema.columns.table_schema, information_schema.columns.table_name, information_schema.columns.column_name \n",
            "FROM information_schema.columns \n",
            "WHERE information_schema.columns.table_schema = %s AND information_schema.columns.table_name = %s AND lower(information_schema.columns.column_name) IN (%s)\n"
          ]
        },
        {
          "output_type": "stream",
          "name": "stdout",
          "text": [
            "2025-02-10 15:01:37,673 INFO sqlalchemy.engine.Engine [cached since 1.851e+04s ago] ('defaultdb', 'candidate_data', 'id')\n"
          ]
        },
        {
          "output_type": "stream",
          "name": "stderr",
          "text": [
            "INFO:sqlalchemy.engine.Engine:[cached since 1.851e+04s ago] ('defaultdb', 'candidate_data', 'id')\n"
          ]
        },
        {
          "output_type": "stream",
          "name": "stdout",
          "text": [
            "2025-02-10 15:01:37,786 INFO sqlalchemy.engine.Engine SELECT information_schema.columns.table_schema, information_schema.columns.table_name, information_schema.columns.column_name \n",
            "FROM information_schema.columns \n",
            "WHERE information_schema.columns.table_schema = %s AND information_schema.columns.table_name = %s AND lower(information_schema.columns.column_name) IN (%s)\n"
          ]
        },
        {
          "output_type": "stream",
          "name": "stderr",
          "text": [
            "INFO:sqlalchemy.engine.Engine:SELECT information_schema.columns.table_schema, information_schema.columns.table_name, information_schema.columns.column_name \n",
            "FROM information_schema.columns \n",
            "WHERE information_schema.columns.table_schema = %s AND information_schema.columns.table_name = %s AND lower(information_schema.columns.column_name) IN (%s)\n"
          ]
        },
        {
          "output_type": "stream",
          "name": "stdout",
          "text": [
            "2025-02-10 15:01:37,788 INFO sqlalchemy.engine.Engine [cached since 1.851e+04s ago] ('defaultdb', 'employee_data', 'id')\n"
          ]
        },
        {
          "output_type": "stream",
          "name": "stderr",
          "text": [
            "INFO:sqlalchemy.engine.Engine:[cached since 1.851e+04s ago] ('defaultdb', 'employee_data', 'id')\n"
          ]
        },
        {
          "output_type": "stream",
          "name": "stdout",
          "text": [
            "2025-02-10 15:01:37,919 INFO sqlalchemy.engine.Engine SELECT information_schema.columns.table_schema, information_schema.columns.table_name, information_schema.columns.column_name \n",
            "FROM information_schema.columns \n",
            "WHERE information_schema.columns.table_schema = %s AND information_schema.columns.table_name = %s AND lower(information_schema.columns.column_name) IN (%s)\n"
          ]
        },
        {
          "output_type": "stream",
          "name": "stderr",
          "text": [
            "INFO:sqlalchemy.engine.Engine:SELECT information_schema.columns.table_schema, information_schema.columns.table_name, information_schema.columns.column_name \n",
            "FROM information_schema.columns \n",
            "WHERE information_schema.columns.table_schema = %s AND information_schema.columns.table_name = %s AND lower(information_schema.columns.column_name) IN (%s)\n"
          ]
        },
        {
          "output_type": "stream",
          "name": "stdout",
          "text": [
            "2025-02-10 15:01:37,921 INFO sqlalchemy.engine.Engine [cached since 1.851e+04s ago] ('defaultdb', 'csrpartner_data', 'id')\n"
          ]
        },
        {
          "output_type": "stream",
          "name": "stderr",
          "text": [
            "INFO:sqlalchemy.engine.Engine:[cached since 1.851e+04s ago] ('defaultdb', 'csrpartner_data', 'id')\n"
          ]
        },
        {
          "output_type": "stream",
          "name": "stdout",
          "text": [
            "2025-02-10 15:01:38,031 INFO sqlalchemy.engine.Engine SELECT information_schema.columns.table_schema, information_schema.columns.table_name, information_schema.columns.column_name \n",
            "FROM information_schema.columns \n",
            "WHERE information_schema.columns.table_schema = %s AND information_schema.columns.table_name = %s AND lower(information_schema.columns.column_name) IN (%s)\n"
          ]
        },
        {
          "output_type": "stream",
          "name": "stderr",
          "text": [
            "INFO:sqlalchemy.engine.Engine:SELECT information_schema.columns.table_schema, information_schema.columns.table_name, information_schema.columns.column_name \n",
            "FROM information_schema.columns \n",
            "WHERE information_schema.columns.table_schema = %s AND information_schema.columns.table_name = %s AND lower(information_schema.columns.column_name) IN (%s)\n"
          ]
        },
        {
          "output_type": "stream",
          "name": "stdout",
          "text": [
            "2025-02-10 15:01:38,034 INFO sqlalchemy.engine.Engine [cached since 1.851e+04s ago] ('defaultdb', 'investor_data', 'id')\n"
          ]
        },
        {
          "output_type": "stream",
          "name": "stderr",
          "text": [
            "INFO:sqlalchemy.engine.Engine:[cached since 1.851e+04s ago] ('defaultdb', 'investor_data', 'id')\n"
          ]
        },
        {
          "output_type": "stream",
          "name": "stdout",
          "text": [
            "2025-02-10 15:01:38,171 INFO sqlalchemy.engine.Engine SELECT information_schema.columns.table_schema, information_schema.columns.table_name, information_schema.columns.column_name \n",
            "FROM information_schema.columns \n",
            "WHERE information_schema.columns.table_schema = %s AND information_schema.columns.table_name = %s AND lower(information_schema.columns.column_name) IN (%s)\n"
          ]
        },
        {
          "output_type": "stream",
          "name": "stderr",
          "text": [
            "INFO:sqlalchemy.engine.Engine:SELECT information_schema.columns.table_schema, information_schema.columns.table_name, information_schema.columns.column_name \n",
            "FROM information_schema.columns \n",
            "WHERE information_schema.columns.table_schema = %s AND information_schema.columns.table_name = %s AND lower(information_schema.columns.column_name) IN (%s)\n"
          ]
        },
        {
          "output_type": "stream",
          "name": "stdout",
          "text": [
            "2025-02-10 15:01:38,173 INFO sqlalchemy.engine.Engine [cached since 1.851e+04s ago] ('defaultdb', 'customer_data', 'id')\n"
          ]
        },
        {
          "output_type": "stream",
          "name": "stderr",
          "text": [
            "INFO:sqlalchemy.engine.Engine:[cached since 1.851e+04s ago] ('defaultdb', 'customer_data', 'id')\n"
          ]
        },
        {
          "output_type": "stream",
          "name": "stdout",
          "text": [
            "2025-02-10 15:01:38,278 INFO sqlalchemy.engine.Engine SELECT information_schema.columns.table_schema, information_schema.columns.table_name, information_schema.columns.column_name \n",
            "FROM information_schema.columns \n",
            "WHERE information_schema.columns.table_schema = %s AND information_schema.columns.table_name = %s AND lower(information_schema.columns.column_name) IN (%s)\n"
          ]
        },
        {
          "output_type": "stream",
          "name": "stderr",
          "text": [
            "INFO:sqlalchemy.engine.Engine:SELECT information_schema.columns.table_schema, information_schema.columns.table_name, information_schema.columns.column_name \n",
            "FROM information_schema.columns \n",
            "WHERE information_schema.columns.table_schema = %s AND information_schema.columns.table_name = %s AND lower(information_schema.columns.column_name) IN (%s)\n"
          ]
        },
        {
          "output_type": "stream",
          "name": "stdout",
          "text": [
            "2025-02-10 15:01:38,281 INFO sqlalchemy.engine.Engine [cached since 1.851e+04s ago] ('defaultdb', 'partner_data', 'id')\n"
          ]
        },
        {
          "output_type": "stream",
          "name": "stderr",
          "text": [
            "INFO:sqlalchemy.engine.Engine:[cached since 1.851e+04s ago] ('defaultdb', 'partner_data', 'id')\n"
          ]
        },
        {
          "output_type": "stream",
          "name": "stdout",
          "text": [
            "2025-02-10 15:01:38,418 INFO sqlalchemy.engine.Engine SELECT information_schema.columns.table_schema, information_schema.columns.table_name, information_schema.columns.column_name \n",
            "FROM information_schema.columns \n",
            "WHERE information_schema.columns.table_schema = %s AND information_schema.columns.table_name = %s AND lower(information_schema.columns.column_name) IN (%s)\n"
          ]
        },
        {
          "output_type": "stream",
          "name": "stderr",
          "text": [
            "INFO:sqlalchemy.engine.Engine:SELECT information_schema.columns.table_schema, information_schema.columns.table_name, information_schema.columns.column_name \n",
            "FROM information_schema.columns \n",
            "WHERE information_schema.columns.table_schema = %s AND information_schema.columns.table_name = %s AND lower(information_schema.columns.column_name) IN (%s)\n"
          ]
        },
        {
          "output_type": "stream",
          "name": "stdout",
          "text": [
            "2025-02-10 15:01:38,421 INFO sqlalchemy.engine.Engine [cached since 1.851e+04s ago] ('defaultdb', 'employee_data', 'id')\n"
          ]
        },
        {
          "output_type": "stream",
          "name": "stderr",
          "text": [
            "INFO:sqlalchemy.engine.Engine:[cached since 1.851e+04s ago] ('defaultdb', 'employee_data', 'id')\n"
          ]
        },
        {
          "output_type": "stream",
          "name": "stdout",
          "text": [
            "2025-02-10 15:01:38,525 INFO sqlalchemy.engine.Engine SELECT information_schema.columns.table_schema, information_schema.columns.table_name, information_schema.columns.column_name \n",
            "FROM information_schema.columns \n",
            "WHERE information_schema.columns.table_schema = %s AND information_schema.columns.table_name = %s AND lower(information_schema.columns.column_name) IN (%s)\n"
          ]
        },
        {
          "output_type": "stream",
          "name": "stderr",
          "text": [
            "INFO:sqlalchemy.engine.Engine:SELECT information_schema.columns.table_schema, information_schema.columns.table_name, information_schema.columns.column_name \n",
            "FROM information_schema.columns \n",
            "WHERE information_schema.columns.table_schema = %s AND information_schema.columns.table_name = %s AND lower(information_schema.columns.column_name) IN (%s)\n"
          ]
        },
        {
          "output_type": "stream",
          "name": "stdout",
          "text": [
            "2025-02-10 15:01:38,528 INFO sqlalchemy.engine.Engine [cached since 1.851e+04s ago] ('defaultdb', 'vendor_data', 'id')\n"
          ]
        },
        {
          "output_type": "stream",
          "name": "stderr",
          "text": [
            "INFO:sqlalchemy.engine.Engine:[cached since 1.851e+04s ago] ('defaultdb', 'vendor_data', 'id')\n"
          ]
        },
        {
          "output_type": "stream",
          "name": "stdout",
          "text": [
            "2025-02-10 15:01:38,668 INFO sqlalchemy.engine.Engine SELECT information_schema.columns.table_schema, information_schema.columns.table_name, information_schema.columns.column_name \n",
            "FROM information_schema.columns \n",
            "WHERE information_schema.columns.table_schema = %s AND information_schema.columns.table_name = %s AND lower(information_schema.columns.column_name) IN (%s)\n"
          ]
        },
        {
          "output_type": "stream",
          "name": "stderr",
          "text": [
            "INFO:sqlalchemy.engine.Engine:SELECT information_schema.columns.table_schema, information_schema.columns.table_name, information_schema.columns.column_name \n",
            "FROM information_schema.columns \n",
            "WHERE information_schema.columns.table_schema = %s AND information_schema.columns.table_name = %s AND lower(information_schema.columns.column_name) IN (%s)\n"
          ]
        },
        {
          "output_type": "stream",
          "name": "stdout",
          "text": [
            "2025-02-10 15:01:38,670 INFO sqlalchemy.engine.Engine [cached since 1.851e+04s ago] ('defaultdb', 'investor_data', 'id')\n"
          ]
        },
        {
          "output_type": "stream",
          "name": "stderr",
          "text": [
            "INFO:sqlalchemy.engine.Engine:[cached since 1.851e+04s ago] ('defaultdb', 'investor_data', 'id')\n"
          ]
        },
        {
          "output_type": "stream",
          "name": "stdout",
          "text": [
            "2025-02-10 15:01:38,793 INFO sqlalchemy.engine.Engine COMMIT\n"
          ]
        },
        {
          "output_type": "stream",
          "name": "stderr",
          "text": [
            "INFO:sqlalchemy.engine.Engine:COMMIT\n"
          ]
        },
        {
          "output_type": "stream",
          "name": "stdout",
          "text": [
            "2025-02-10 15:01:38,914 INFO sqlalchemy.engine.Engine SELECT information_schema.columns.table_schema, information_schema.columns.table_name, information_schema.columns.column_name \n",
            "FROM information_schema.columns \n",
            "WHERE information_schema.columns.table_schema = %s AND information_schema.columns.table_name = %s AND lower(information_schema.columns.column_name) IN (%s)\n"
          ]
        },
        {
          "output_type": "stream",
          "name": "stderr",
          "text": [
            "INFO:sqlalchemy.engine.Engine:SELECT information_schema.columns.table_schema, information_schema.columns.table_name, information_schema.columns.column_name \n",
            "FROM information_schema.columns \n",
            "WHERE information_schema.columns.table_schema = %s AND information_schema.columns.table_name = %s AND lower(information_schema.columns.column_name) IN (%s)\n"
          ]
        },
        {
          "output_type": "stream",
          "name": "stdout",
          "text": [
            "2025-02-10 15:01:38,918 INFO sqlalchemy.engine.Engine [cached since 1.851e+04s ago] ('defaultdb', 'partner_data', 'id')\n"
          ]
        },
        {
          "output_type": "stream",
          "name": "stderr",
          "text": [
            "INFO:sqlalchemy.engine.Engine:[cached since 1.851e+04s ago] ('defaultdb', 'partner_data', 'id')\n"
          ]
        },
        {
          "output_type": "stream",
          "name": "stdout",
          "text": [
            "2025-02-10 15:01:39,163 INFO sqlalchemy.engine.Engine SELECT information_schema.columns.table_schema, information_schema.columns.table_name, information_schema.columns.column_name \n",
            "FROM information_schema.columns \n",
            "WHERE information_schema.columns.table_schema = %s AND information_schema.columns.table_name = %s AND lower(information_schema.columns.column_name) IN (%s)\n"
          ]
        },
        {
          "output_type": "stream",
          "name": "stderr",
          "text": [
            "INFO:sqlalchemy.engine.Engine:SELECT information_schema.columns.table_schema, information_schema.columns.table_name, information_schema.columns.column_name \n",
            "FROM information_schema.columns \n",
            "WHERE information_schema.columns.table_schema = %s AND information_schema.columns.table_name = %s AND lower(information_schema.columns.column_name) IN (%s)\n"
          ]
        },
        {
          "output_type": "stream",
          "name": "stdout",
          "text": [
            "2025-02-10 15:01:39,166 INFO sqlalchemy.engine.Engine [cached since 1.851e+04s ago] ('defaultdb', 'vendor_data', 'id')\n"
          ]
        },
        {
          "output_type": "stream",
          "name": "stderr",
          "text": [
            "INFO:sqlalchemy.engine.Engine:[cached since 1.851e+04s ago] ('defaultdb', 'vendor_data', 'id')\n"
          ]
        },
        {
          "output_type": "stream",
          "name": "stdout",
          "text": [
            "2025-02-10 15:01:39,433 INFO sqlalchemy.engine.Engine COMMIT\n"
          ]
        },
        {
          "output_type": "stream",
          "name": "stderr",
          "text": [
            "INFO:sqlalchemy.engine.Engine:COMMIT\n"
          ]
        },
        {
          "output_type": "stream",
          "name": "stdout",
          "text": [
            "2025-02-10 15:01:44,478 INFO sqlalchemy.engine.Engine BEGIN (implicit)\n"
          ]
        },
        {
          "output_type": "stream",
          "name": "stderr",
          "text": [
            "INFO:sqlalchemy.engine.Engine:BEGIN (implicit)\n"
          ]
        },
        {
          "output_type": "stream",
          "name": "stdout",
          "text": [
            "2025-02-10 15:01:44,481 INFO sqlalchemy.engine.Engine SHOW FULL TABLES FROM \"defaultdb\"\n"
          ]
        },
        {
          "output_type": "stream",
          "name": "stderr",
          "text": [
            "INFO:sqlalchemy.engine.Engine:SHOW FULL TABLES FROM \"defaultdb\"\n"
          ]
        },
        {
          "output_type": "stream",
          "name": "stdout",
          "text": [
            "2025-02-10 15:01:44,484 INFO sqlalchemy.engine.Engine [raw sql] ()\n"
          ]
        },
        {
          "output_type": "stream",
          "name": "stderr",
          "text": [
            "INFO:sqlalchemy.engine.Engine:[raw sql] ()\n"
          ]
        },
        {
          "output_type": "stream",
          "name": "stdout",
          "text": [
            "2025-02-10 15:01:44,730 INFO sqlalchemy.engine.Engine SHOW CREATE TABLE \"SequelizeMeta\"\n"
          ]
        },
        {
          "output_type": "stream",
          "name": "stderr",
          "text": [
            "INFO:sqlalchemy.engine.Engine:SHOW CREATE TABLE \"SequelizeMeta\"\n"
          ]
        },
        {
          "output_type": "stream",
          "name": "stdout",
          "text": [
            "2025-02-10 15:01:44,734 INFO sqlalchemy.engine.Engine [raw sql] ()\n"
          ]
        },
        {
          "output_type": "stream",
          "name": "stderr",
          "text": [
            "INFO:sqlalchemy.engine.Engine:[raw sql] ()\n"
          ]
        },
        {
          "output_type": "stream",
          "name": "stdout",
          "text": [
            "2025-02-10 15:01:44,948 INFO sqlalchemy.engine.Engine BEGIN (implicit)\n"
          ]
        },
        {
          "output_type": "stream",
          "name": "stderr",
          "text": [
            "INFO:sqlalchemy.engine.Engine:BEGIN (implicit)\n"
          ]
        },
        {
          "output_type": "stream",
          "name": "stdout",
          "text": [
            "2025-02-10 15:01:44,953 INFO sqlalchemy.engine.Engine SHOW FULL TABLES FROM \"defaultdb\"\n"
          ]
        },
        {
          "output_type": "stream",
          "name": "stderr",
          "text": [
            "INFO:sqlalchemy.engine.Engine:SHOW FULL TABLES FROM \"defaultdb\"\n"
          ]
        },
        {
          "output_type": "stream",
          "name": "stdout",
          "text": [
            "2025-02-10 15:01:44,958 INFO sqlalchemy.engine.Engine [raw sql] ()\n"
          ]
        },
        {
          "output_type": "stream",
          "name": "stderr",
          "text": [
            "INFO:sqlalchemy.engine.Engine:[raw sql] ()\n"
          ]
        },
        {
          "output_type": "stream",
          "name": "stdout",
          "text": [
            "2025-02-10 15:01:44,976 INFO sqlalchemy.engine.Engine SHOW CREATE TABLE \"candidate_data\"\n"
          ]
        },
        {
          "output_type": "stream",
          "name": "stderr",
          "text": [
            "INFO:sqlalchemy.engine.Engine:SHOW CREATE TABLE \"candidate_data\"\n"
          ]
        },
        {
          "output_type": "stream",
          "name": "stdout",
          "text": [
            "2025-02-10 15:01:44,980 INFO sqlalchemy.engine.Engine [raw sql] ()\n"
          ]
        },
        {
          "output_type": "stream",
          "name": "stderr",
          "text": [
            "INFO:sqlalchemy.engine.Engine:[raw sql] ()\n"
          ]
        },
        {
          "output_type": "stream",
          "name": "stdout",
          "text": [
            "2025-02-10 15:01:45,203 INFO sqlalchemy.engine.Engine SHOW CREATE TABLE \"SequelizeMeta\"\n"
          ]
        },
        {
          "output_type": "stream",
          "name": "stderr",
          "text": [
            "INFO:sqlalchemy.engine.Engine:SHOW CREATE TABLE \"SequelizeMeta\"\n"
          ]
        },
        {
          "output_type": "stream",
          "name": "stdout",
          "text": [
            "2025-02-10 15:01:45,206 INFO sqlalchemy.engine.Engine [raw sql] ()\n"
          ]
        },
        {
          "output_type": "stream",
          "name": "stderr",
          "text": [
            "INFO:sqlalchemy.engine.Engine:[raw sql] ()\n"
          ]
        },
        {
          "output_type": "stream",
          "name": "stdout",
          "text": [
            "2025-02-10 15:01:45,223 INFO sqlalchemy.engine.Engine SHOW CREATE TABLE \"candidate_demographics\"\n"
          ]
        },
        {
          "output_type": "stream",
          "name": "stderr",
          "text": [
            "INFO:sqlalchemy.engine.Engine:SHOW CREATE TABLE \"candidate_demographics\"\n"
          ]
        },
        {
          "output_type": "stream",
          "name": "stdout",
          "text": [
            "2025-02-10 15:01:45,227 INFO sqlalchemy.engine.Engine [raw sql] ()\n"
          ]
        },
        {
          "output_type": "stream",
          "name": "stderr",
          "text": [
            "INFO:sqlalchemy.engine.Engine:[raw sql] ()\n"
          ]
        },
        {
          "output_type": "stream",
          "name": "stdout",
          "text": [
            "2025-02-10 15:01:45,448 INFO sqlalchemy.engine.Engine SHOW CREATE TABLE \"candidate_data\"\n"
          ]
        },
        {
          "output_type": "stream",
          "name": "stderr",
          "text": [
            "INFO:sqlalchemy.engine.Engine:SHOW CREATE TABLE \"candidate_data\"\n"
          ]
        },
        {
          "output_type": "stream",
          "name": "stdout",
          "text": [
            "2025-02-10 15:01:45,451 INFO sqlalchemy.engine.Engine [raw sql] ()\n"
          ]
        },
        {
          "output_type": "stream",
          "name": "stderr",
          "text": [
            "INFO:sqlalchemy.engine.Engine:[raw sql] ()\n"
          ]
        },
        {
          "output_type": "stream",
          "name": "stdout",
          "text": [
            "2025-02-10 15:01:45,469 INFO sqlalchemy.engine.Engine SHOW CREATE TABLE \"csrpartner_data\"\n"
          ]
        },
        {
          "output_type": "stream",
          "name": "stderr",
          "text": [
            "INFO:sqlalchemy.engine.Engine:SHOW CREATE TABLE \"csrpartner_data\"\n"
          ]
        },
        {
          "output_type": "stream",
          "name": "stdout",
          "text": [
            "2025-02-10 15:01:45,472 INFO sqlalchemy.engine.Engine [raw sql] ()\n"
          ]
        },
        {
          "output_type": "stream",
          "name": "stderr",
          "text": [
            "INFO:sqlalchemy.engine.Engine:[raw sql] ()\n"
          ]
        },
        {
          "output_type": "stream",
          "name": "stdout",
          "text": [
            "2025-02-10 15:01:45,694 INFO sqlalchemy.engine.Engine SHOW CREATE TABLE \"candidate_demographics\"\n"
          ]
        },
        {
          "output_type": "stream",
          "name": "stderr",
          "text": [
            "INFO:sqlalchemy.engine.Engine:SHOW CREATE TABLE \"candidate_demographics\"\n"
          ]
        },
        {
          "output_type": "stream",
          "name": "stdout",
          "text": [
            "2025-02-10 15:01:45,697 INFO sqlalchemy.engine.Engine [raw sql] ()\n"
          ]
        },
        {
          "output_type": "stream",
          "name": "stderr",
          "text": [
            "INFO:sqlalchemy.engine.Engine:[raw sql] ()\n"
          ]
        },
        {
          "output_type": "stream",
          "name": "stdout",
          "text": [
            "2025-02-10 15:01:45,715 INFO sqlalchemy.engine.Engine SHOW CREATE TABLE \"csrpartner_demographics\"\n"
          ]
        },
        {
          "output_type": "stream",
          "name": "stderr",
          "text": [
            "INFO:sqlalchemy.engine.Engine:SHOW CREATE TABLE \"csrpartner_demographics\"\n"
          ]
        },
        {
          "output_type": "stream",
          "name": "stdout",
          "text": [
            "2025-02-10 15:01:45,718 INFO sqlalchemy.engine.Engine [raw sql] ()\n"
          ]
        },
        {
          "output_type": "stream",
          "name": "stderr",
          "text": [
            "INFO:sqlalchemy.engine.Engine:[raw sql] ()\n"
          ]
        },
        {
          "output_type": "stream",
          "name": "stdout",
          "text": [
            "2025-02-10 15:01:45,940 INFO sqlalchemy.engine.Engine SHOW CREATE TABLE \"csrpartner_data\"\n"
          ]
        },
        {
          "output_type": "stream",
          "name": "stderr",
          "text": [
            "INFO:sqlalchemy.engine.Engine:SHOW CREATE TABLE \"csrpartner_data\"\n"
          ]
        },
        {
          "output_type": "stream",
          "name": "stdout",
          "text": [
            "2025-02-10 15:01:45,943 INFO sqlalchemy.engine.Engine [raw sql] ()\n"
          ]
        },
        {
          "output_type": "stream",
          "name": "stderr",
          "text": [
            "INFO:sqlalchemy.engine.Engine:[raw sql] ()\n"
          ]
        },
        {
          "output_type": "stream",
          "name": "stdout",
          "text": [
            "2025-02-10 15:01:45,962 INFO sqlalchemy.engine.Engine SHOW CREATE TABLE \"customer_data\"\n"
          ]
        },
        {
          "output_type": "stream",
          "name": "stderr",
          "text": [
            "INFO:sqlalchemy.engine.Engine:SHOW CREATE TABLE \"customer_data\"\n"
          ]
        },
        {
          "output_type": "stream",
          "name": "stdout",
          "text": [
            "2025-02-10 15:01:45,964 INFO sqlalchemy.engine.Engine [raw sql] ()\n"
          ]
        },
        {
          "output_type": "stream",
          "name": "stderr",
          "text": [
            "INFO:sqlalchemy.engine.Engine:[raw sql] ()\n"
          ]
        },
        {
          "output_type": "stream",
          "name": "stdout",
          "text": [
            "2025-02-10 15:01:46,186 INFO sqlalchemy.engine.Engine SHOW CREATE TABLE \"csrpartner_demographics\"\n"
          ]
        },
        {
          "output_type": "stream",
          "name": "stderr",
          "text": [
            "INFO:sqlalchemy.engine.Engine:SHOW CREATE TABLE \"csrpartner_demographics\"\n"
          ]
        },
        {
          "output_type": "stream",
          "name": "stdout",
          "text": [
            "2025-02-10 15:01:46,189 INFO sqlalchemy.engine.Engine [raw sql] ()\n"
          ]
        },
        {
          "output_type": "stream",
          "name": "stderr",
          "text": [
            "INFO:sqlalchemy.engine.Engine:[raw sql] ()\n"
          ]
        },
        {
          "output_type": "stream",
          "name": "stdout",
          "text": [
            "2025-02-10 15:01:46,206 INFO sqlalchemy.engine.Engine SHOW CREATE TABLE \"customer_demographics\"\n"
          ]
        },
        {
          "output_type": "stream",
          "name": "stderr",
          "text": [
            "INFO:sqlalchemy.engine.Engine:SHOW CREATE TABLE \"customer_demographics\"\n"
          ]
        },
        {
          "output_type": "stream",
          "name": "stdout",
          "text": [
            "2025-02-10 15:01:46,209 INFO sqlalchemy.engine.Engine [raw sql] ()\n"
          ]
        },
        {
          "output_type": "stream",
          "name": "stderr",
          "text": [
            "INFO:sqlalchemy.engine.Engine:[raw sql] ()\n"
          ]
        },
        {
          "output_type": "stream",
          "name": "stdout",
          "text": [
            "2025-02-10 15:01:46,431 INFO sqlalchemy.engine.Engine SHOW CREATE TABLE \"customer_data\"\n"
          ]
        },
        {
          "output_type": "stream",
          "name": "stderr",
          "text": [
            "INFO:sqlalchemy.engine.Engine:SHOW CREATE TABLE \"customer_data\"\n"
          ]
        },
        {
          "output_type": "stream",
          "name": "stdout",
          "text": [
            "2025-02-10 15:01:46,433 INFO sqlalchemy.engine.Engine [raw sql] ()\n"
          ]
        },
        {
          "output_type": "stream",
          "name": "stderr",
          "text": [
            "INFO:sqlalchemy.engine.Engine:[raw sql] ()\n"
          ]
        },
        {
          "output_type": "stream",
          "name": "stdout",
          "text": [
            "2025-02-10 15:01:46,450 INFO sqlalchemy.engine.Engine SHOW CREATE TABLE \"employee_data\"\n"
          ]
        },
        {
          "output_type": "stream",
          "name": "stderr",
          "text": [
            "INFO:sqlalchemy.engine.Engine:SHOW CREATE TABLE \"employee_data\"\n"
          ]
        },
        {
          "output_type": "stream",
          "name": "stdout",
          "text": [
            "2025-02-10 15:01:46,452 INFO sqlalchemy.engine.Engine [raw sql] ()\n"
          ]
        },
        {
          "output_type": "stream",
          "name": "stderr",
          "text": [
            "INFO:sqlalchemy.engine.Engine:[raw sql] ()\n"
          ]
        },
        {
          "output_type": "stream",
          "name": "stdout",
          "text": [
            "2025-02-10 15:01:46,675 INFO sqlalchemy.engine.Engine SHOW CREATE TABLE \"customer_demographics\"\n"
          ]
        },
        {
          "output_type": "stream",
          "name": "stderr",
          "text": [
            "INFO:sqlalchemy.engine.Engine:SHOW CREATE TABLE \"customer_demographics\"\n"
          ]
        },
        {
          "output_type": "stream",
          "name": "stdout",
          "text": [
            "2025-02-10 15:01:46,678 INFO sqlalchemy.engine.Engine [raw sql] ()\n"
          ]
        },
        {
          "output_type": "stream",
          "name": "stderr",
          "text": [
            "INFO:sqlalchemy.engine.Engine:[raw sql] ()\n"
          ]
        },
        {
          "output_type": "stream",
          "name": "stdout",
          "text": [
            "2025-02-10 15:01:46,694 INFO sqlalchemy.engine.Engine SHOW CREATE TABLE \"employee_demographics\"\n"
          ]
        },
        {
          "output_type": "stream",
          "name": "stderr",
          "text": [
            "INFO:sqlalchemy.engine.Engine:SHOW CREATE TABLE \"employee_demographics\"\n"
          ]
        },
        {
          "output_type": "stream",
          "name": "stdout",
          "text": [
            "2025-02-10 15:01:46,698 INFO sqlalchemy.engine.Engine [raw sql] ()\n"
          ]
        },
        {
          "output_type": "stream",
          "name": "stderr",
          "text": [
            "INFO:sqlalchemy.engine.Engine:[raw sql] ()\n"
          ]
        },
        {
          "output_type": "stream",
          "name": "stdout",
          "text": [
            "2025-02-10 15:01:46,920 INFO sqlalchemy.engine.Engine SHOW CREATE TABLE \"employee_data\"\n"
          ]
        },
        {
          "output_type": "stream",
          "name": "stderr",
          "text": [
            "INFO:sqlalchemy.engine.Engine:SHOW CREATE TABLE \"employee_data\"\n"
          ]
        },
        {
          "output_type": "stream",
          "name": "stdout",
          "text": [
            "2025-02-10 15:01:46,922 INFO sqlalchemy.engine.Engine [raw sql] ()\n"
          ]
        },
        {
          "output_type": "stream",
          "name": "stderr",
          "text": [
            "INFO:sqlalchemy.engine.Engine:[raw sql] ()\n"
          ]
        },
        {
          "output_type": "stream",
          "name": "stdout",
          "text": [
            "2025-02-10 15:01:46,945 INFO sqlalchemy.engine.Engine SHOW CREATE TABLE \"investor_data\"\n"
          ]
        },
        {
          "output_type": "stream",
          "name": "stderr",
          "text": [
            "INFO:sqlalchemy.engine.Engine:SHOW CREATE TABLE \"investor_data\"\n"
          ]
        },
        {
          "output_type": "stream",
          "name": "stdout",
          "text": [
            "2025-02-10 15:01:46,947 INFO sqlalchemy.engine.Engine [raw sql] ()\n"
          ]
        },
        {
          "output_type": "stream",
          "name": "stderr",
          "text": [
            "INFO:sqlalchemy.engine.Engine:[raw sql] ()\n"
          ]
        },
        {
          "output_type": "stream",
          "name": "stdout",
          "text": [
            "2025-02-10 15:01:47,164 INFO sqlalchemy.engine.Engine SHOW CREATE TABLE \"employee_demographics\"\n"
          ]
        },
        {
          "output_type": "stream",
          "name": "stderr",
          "text": [
            "INFO:sqlalchemy.engine.Engine:SHOW CREATE TABLE \"employee_demographics\"\n"
          ]
        },
        {
          "output_type": "stream",
          "name": "stdout",
          "text": [
            "2025-02-10 15:01:47,167 INFO sqlalchemy.engine.Engine [raw sql] ()\n"
          ]
        },
        {
          "output_type": "stream",
          "name": "stderr",
          "text": [
            "INFO:sqlalchemy.engine.Engine:[raw sql] ()\n"
          ]
        },
        {
          "output_type": "stream",
          "name": "stdout",
          "text": [
            "2025-02-10 15:01:47,189 INFO sqlalchemy.engine.Engine SHOW CREATE TABLE \"investor_demographics\"\n"
          ]
        },
        {
          "output_type": "stream",
          "name": "stderr",
          "text": [
            "INFO:sqlalchemy.engine.Engine:SHOW CREATE TABLE \"investor_demographics\"\n"
          ]
        },
        {
          "output_type": "stream",
          "name": "stdout",
          "text": [
            "2025-02-10 15:01:47,191 INFO sqlalchemy.engine.Engine [raw sql] ()\n"
          ]
        },
        {
          "output_type": "stream",
          "name": "stderr",
          "text": [
            "INFO:sqlalchemy.engine.Engine:[raw sql] ()\n"
          ]
        },
        {
          "output_type": "stream",
          "name": "stdout",
          "text": [
            "2025-02-10 15:01:47,408 INFO sqlalchemy.engine.Engine SHOW CREATE TABLE \"investor_data\"\n"
          ]
        },
        {
          "output_type": "stream",
          "name": "stderr",
          "text": [
            "INFO:sqlalchemy.engine.Engine:SHOW CREATE TABLE \"investor_data\"\n"
          ]
        },
        {
          "output_type": "stream",
          "name": "stdout",
          "text": [
            "2025-02-10 15:01:47,411 INFO sqlalchemy.engine.Engine [raw sql] ()\n"
          ]
        },
        {
          "output_type": "stream",
          "name": "stderr",
          "text": [
            "INFO:sqlalchemy.engine.Engine:[raw sql] ()\n"
          ]
        },
        {
          "output_type": "stream",
          "name": "stdout",
          "text": [
            "2025-02-10 15:01:47,433 INFO sqlalchemy.engine.Engine SHOW CREATE TABLE \"partner_data\"\n"
          ]
        },
        {
          "output_type": "stream",
          "name": "stderr",
          "text": [
            "INFO:sqlalchemy.engine.Engine:SHOW CREATE TABLE \"partner_data\"\n"
          ]
        },
        {
          "output_type": "stream",
          "name": "stdout",
          "text": [
            "2025-02-10 15:01:47,435 INFO sqlalchemy.engine.Engine [raw sql] ()\n"
          ]
        },
        {
          "output_type": "stream",
          "name": "stderr",
          "text": [
            "INFO:sqlalchemy.engine.Engine:[raw sql] ()\n"
          ]
        },
        {
          "output_type": "stream",
          "name": "stdout",
          "text": [
            "2025-02-10 15:01:47,653 INFO sqlalchemy.engine.Engine SHOW CREATE TABLE \"investor_demographics\"\n"
          ]
        },
        {
          "output_type": "stream",
          "name": "stderr",
          "text": [
            "INFO:sqlalchemy.engine.Engine:SHOW CREATE TABLE \"investor_demographics\"\n"
          ]
        },
        {
          "output_type": "stream",
          "name": "stdout",
          "text": [
            "2025-02-10 15:01:47,655 INFO sqlalchemy.engine.Engine [raw sql] ()\n"
          ]
        },
        {
          "output_type": "stream",
          "name": "stderr",
          "text": [
            "INFO:sqlalchemy.engine.Engine:[raw sql] ()\n"
          ]
        },
        {
          "output_type": "stream",
          "name": "stdout",
          "text": [
            "2025-02-10 15:01:47,677 INFO sqlalchemy.engine.Engine SHOW CREATE TABLE \"partner_demographics\"\n"
          ]
        },
        {
          "output_type": "stream",
          "name": "stderr",
          "text": [
            "INFO:sqlalchemy.engine.Engine:SHOW CREATE TABLE \"partner_demographics\"\n"
          ]
        },
        {
          "output_type": "stream",
          "name": "stdout",
          "text": [
            "2025-02-10 15:01:47,681 INFO sqlalchemy.engine.Engine [raw sql] ()\n"
          ]
        },
        {
          "output_type": "stream",
          "name": "stderr",
          "text": [
            "INFO:sqlalchemy.engine.Engine:[raw sql] ()\n"
          ]
        },
        {
          "output_type": "stream",
          "name": "stdout",
          "text": [
            "2025-02-10 15:01:47,897 INFO sqlalchemy.engine.Engine SHOW CREATE TABLE \"partner_data\"\n"
          ]
        },
        {
          "output_type": "stream",
          "name": "stderr",
          "text": [
            "INFO:sqlalchemy.engine.Engine:SHOW CREATE TABLE \"partner_data\"\n"
          ]
        },
        {
          "output_type": "stream",
          "name": "stdout",
          "text": [
            "2025-02-10 15:01:47,902 INFO sqlalchemy.engine.Engine [raw sql] ()\n"
          ]
        },
        {
          "output_type": "stream",
          "name": "stderr",
          "text": [
            "INFO:sqlalchemy.engine.Engine:[raw sql] ()\n"
          ]
        },
        {
          "output_type": "stream",
          "name": "stdout",
          "text": [
            "2025-02-10 15:01:47,923 INFO sqlalchemy.engine.Engine SHOW CREATE TABLE \"vendor_data\"\n"
          ]
        },
        {
          "output_type": "stream",
          "name": "stderr",
          "text": [
            "INFO:sqlalchemy.engine.Engine:SHOW CREATE TABLE \"vendor_data\"\n"
          ]
        },
        {
          "output_type": "stream",
          "name": "stdout",
          "text": [
            "2025-02-10 15:01:47,927 INFO sqlalchemy.engine.Engine [raw sql] ()\n"
          ]
        },
        {
          "output_type": "stream",
          "name": "stderr",
          "text": [
            "INFO:sqlalchemy.engine.Engine:[raw sql] ()\n"
          ]
        },
        {
          "output_type": "stream",
          "name": "stdout",
          "text": [
            "2025-02-10 15:01:48,152 INFO sqlalchemy.engine.Engine SHOW CREATE TABLE \"partner_demographics\"\n"
          ]
        },
        {
          "output_type": "stream",
          "name": "stderr",
          "text": [
            "INFO:sqlalchemy.engine.Engine:SHOW CREATE TABLE \"partner_demographics\"\n"
          ]
        },
        {
          "output_type": "stream",
          "name": "stdout",
          "text": [
            "2025-02-10 15:01:48,155 INFO sqlalchemy.engine.Engine [raw sql] ()\n"
          ]
        },
        {
          "output_type": "stream",
          "name": "stderr",
          "text": [
            "INFO:sqlalchemy.engine.Engine:[raw sql] ()\n"
          ]
        },
        {
          "output_type": "stream",
          "name": "stdout",
          "text": [
            "2025-02-10 15:01:48,172 INFO sqlalchemy.engine.Engine SHOW CREATE TABLE \"vendor_demographics\"\n"
          ]
        },
        {
          "output_type": "stream",
          "name": "stderr",
          "text": [
            "INFO:sqlalchemy.engine.Engine:SHOW CREATE TABLE \"vendor_demographics\"\n"
          ]
        },
        {
          "output_type": "stream",
          "name": "stdout",
          "text": [
            "2025-02-10 15:01:48,175 INFO sqlalchemy.engine.Engine [raw sql] ()\n"
          ]
        },
        {
          "output_type": "stream",
          "name": "stderr",
          "text": [
            "INFO:sqlalchemy.engine.Engine:[raw sql] ()\n"
          ]
        },
        {
          "output_type": "stream",
          "name": "stdout",
          "text": [
            "2025-02-10 15:01:48,400 INFO sqlalchemy.engine.Engine SHOW CREATE TABLE \"vendor_data\"\n"
          ]
        },
        {
          "output_type": "stream",
          "name": "stderr",
          "text": [
            "INFO:sqlalchemy.engine.Engine:SHOW CREATE TABLE \"vendor_data\"\n"
          ]
        },
        {
          "output_type": "stream",
          "name": "stdout",
          "text": [
            "2025-02-10 15:01:48,403 INFO sqlalchemy.engine.Engine [raw sql] ()\n"
          ]
        },
        {
          "output_type": "stream",
          "name": "stderr",
          "text": [
            "INFO:sqlalchemy.engine.Engine:[raw sql] ()\n"
          ]
        },
        {
          "output_type": "stream",
          "name": "stdout",
          "text": [
            "2025-02-10 15:01:48,419 INFO sqlalchemy.engine.Engine SELECT information_schema.columns.table_schema, information_schema.columns.table_name, information_schema.columns.column_name \n",
            "FROM information_schema.columns \n",
            "WHERE information_schema.columns.table_schema = %s AND information_schema.columns.table_name = %s AND lower(information_schema.columns.column_name) IN (%s)\n"
          ]
        },
        {
          "output_type": "stream",
          "name": "stderr",
          "text": [
            "INFO:sqlalchemy.engine.Engine:SELECT information_schema.columns.table_schema, information_schema.columns.table_name, information_schema.columns.column_name \n",
            "FROM information_schema.columns \n",
            "WHERE information_schema.columns.table_schema = %s AND information_schema.columns.table_name = %s AND lower(information_schema.columns.column_name) IN (%s)\n"
          ]
        },
        {
          "output_type": "stream",
          "name": "stdout",
          "text": [
            "2025-02-10 15:01:48,422 INFO sqlalchemy.engine.Engine [cached since 1.852e+04s ago] ('defaultdb', 'candidate_data', 'id')\n"
          ]
        },
        {
          "output_type": "stream",
          "name": "stderr",
          "text": [
            "INFO:sqlalchemy.engine.Engine:[cached since 1.852e+04s ago] ('defaultdb', 'candidate_data', 'id')\n"
          ]
        },
        {
          "output_type": "stream",
          "name": "stdout",
          "text": [
            "2025-02-10 15:01:48,646 INFO sqlalchemy.engine.Engine SHOW CREATE TABLE \"vendor_demographics\"\n"
          ]
        },
        {
          "output_type": "stream",
          "name": "stderr",
          "text": [
            "INFO:sqlalchemy.engine.Engine:SHOW CREATE TABLE \"vendor_demographics\"\n"
          ]
        },
        {
          "output_type": "stream",
          "name": "stdout",
          "text": [
            "2025-02-10 15:01:48,649 INFO sqlalchemy.engine.Engine [raw sql] ()\n"
          ]
        },
        {
          "output_type": "stream",
          "name": "stderr",
          "text": [
            "INFO:sqlalchemy.engine.Engine:[raw sql] ()\n"
          ]
        },
        {
          "output_type": "stream",
          "name": "stdout",
          "text": [
            "2025-02-10 15:01:48,667 INFO sqlalchemy.engine.Engine SELECT information_schema.columns.table_schema, information_schema.columns.table_name, information_schema.columns.column_name \n",
            "FROM information_schema.columns \n",
            "WHERE information_schema.columns.table_schema = %s AND information_schema.columns.table_name = %s AND lower(information_schema.columns.column_name) IN (%s)\n"
          ]
        },
        {
          "output_type": "stream",
          "name": "stderr",
          "text": [
            "INFO:sqlalchemy.engine.Engine:SELECT information_schema.columns.table_schema, information_schema.columns.table_name, information_schema.columns.column_name \n",
            "FROM information_schema.columns \n",
            "WHERE information_schema.columns.table_schema = %s AND information_schema.columns.table_name = %s AND lower(information_schema.columns.column_name) IN (%s)\n"
          ]
        },
        {
          "output_type": "stream",
          "name": "stdout",
          "text": [
            "2025-02-10 15:01:48,671 INFO sqlalchemy.engine.Engine [cached since 1.852e+04s ago] ('defaultdb', 'csrpartner_data', 'id')\n"
          ]
        },
        {
          "output_type": "stream",
          "name": "stderr",
          "text": [
            "INFO:sqlalchemy.engine.Engine:[cached since 1.852e+04s ago] ('defaultdb', 'csrpartner_data', 'id')\n"
          ]
        },
        {
          "output_type": "stream",
          "name": "stdout",
          "text": [
            "2025-02-10 15:01:48,892 INFO sqlalchemy.engine.Engine SELECT information_schema.columns.table_schema, information_schema.columns.table_name, information_schema.columns.column_name \n",
            "FROM information_schema.columns \n",
            "WHERE information_schema.columns.table_schema = %s AND information_schema.columns.table_name = %s AND lower(information_schema.columns.column_name) IN (%s)\n"
          ]
        },
        {
          "output_type": "stream",
          "name": "stderr",
          "text": [
            "INFO:sqlalchemy.engine.Engine:SELECT information_schema.columns.table_schema, information_schema.columns.table_name, information_schema.columns.column_name \n",
            "FROM information_schema.columns \n",
            "WHERE information_schema.columns.table_schema = %s AND information_schema.columns.table_name = %s AND lower(information_schema.columns.column_name) IN (%s)\n"
          ]
        },
        {
          "output_type": "stream",
          "name": "stdout",
          "text": [
            "2025-02-10 15:01:48,895 INFO sqlalchemy.engine.Engine [cached since 1.852e+04s ago] ('defaultdb', 'candidate_data', 'id')\n"
          ]
        },
        {
          "output_type": "stream",
          "name": "stderr",
          "text": [
            "INFO:sqlalchemy.engine.Engine:[cached since 1.852e+04s ago] ('defaultdb', 'candidate_data', 'id')\n"
          ]
        },
        {
          "output_type": "stream",
          "name": "stdout",
          "text": [
            "2025-02-10 15:01:48,914 INFO sqlalchemy.engine.Engine SELECT information_schema.columns.table_schema, information_schema.columns.table_name, information_schema.columns.column_name \n",
            "FROM information_schema.columns \n",
            "WHERE information_schema.columns.table_schema = %s AND information_schema.columns.table_name = %s AND lower(information_schema.columns.column_name) IN (%s)\n"
          ]
        },
        {
          "output_type": "stream",
          "name": "stderr",
          "text": [
            "INFO:sqlalchemy.engine.Engine:SELECT information_schema.columns.table_schema, information_schema.columns.table_name, information_schema.columns.column_name \n",
            "FROM information_schema.columns \n",
            "WHERE information_schema.columns.table_schema = %s AND information_schema.columns.table_name = %s AND lower(information_schema.columns.column_name) IN (%s)\n"
          ]
        },
        {
          "output_type": "stream",
          "name": "stdout",
          "text": [
            "2025-02-10 15:01:48,918 INFO sqlalchemy.engine.Engine [cached since 1.852e+04s ago] ('defaultdb', 'customer_data', 'id')\n"
          ]
        },
        {
          "output_type": "stream",
          "name": "stderr",
          "text": [
            "INFO:sqlalchemy.engine.Engine:[cached since 1.852e+04s ago] ('defaultdb', 'customer_data', 'id')\n"
          ]
        },
        {
          "output_type": "stream",
          "name": "stdout",
          "text": [
            "2025-02-10 15:01:49,139 INFO sqlalchemy.engine.Engine SELECT information_schema.columns.table_schema, information_schema.columns.table_name, information_schema.columns.column_name \n",
            "FROM information_schema.columns \n",
            "WHERE information_schema.columns.table_schema = %s AND information_schema.columns.table_name = %s AND lower(information_schema.columns.column_name) IN (%s)\n"
          ]
        },
        {
          "output_type": "stream",
          "name": "stderr",
          "text": [
            "INFO:sqlalchemy.engine.Engine:SELECT information_schema.columns.table_schema, information_schema.columns.table_name, information_schema.columns.column_name \n",
            "FROM information_schema.columns \n",
            "WHERE information_schema.columns.table_schema = %s AND information_schema.columns.table_name = %s AND lower(information_schema.columns.column_name) IN (%s)\n"
          ]
        },
        {
          "output_type": "stream",
          "name": "stdout",
          "text": [
            "2025-02-10 15:01:49,142 INFO sqlalchemy.engine.Engine [cached since 1.852e+04s ago] ('defaultdb', 'csrpartner_data', 'id')\n"
          ]
        },
        {
          "output_type": "stream",
          "name": "stderr",
          "text": [
            "INFO:sqlalchemy.engine.Engine:[cached since 1.852e+04s ago] ('defaultdb', 'csrpartner_data', 'id')\n"
          ]
        },
        {
          "output_type": "stream",
          "name": "stdout",
          "text": [
            "2025-02-10 15:01:49,162 INFO sqlalchemy.engine.Engine SELECT information_schema.columns.table_schema, information_schema.columns.table_name, information_schema.columns.column_name \n",
            "FROM information_schema.columns \n",
            "WHERE information_schema.columns.table_schema = %s AND information_schema.columns.table_name = %s AND lower(information_schema.columns.column_name) IN (%s)\n"
          ]
        },
        {
          "output_type": "stream",
          "name": "stderr",
          "text": [
            "INFO:sqlalchemy.engine.Engine:SELECT information_schema.columns.table_schema, information_schema.columns.table_name, information_schema.columns.column_name \n",
            "FROM information_schema.columns \n",
            "WHERE information_schema.columns.table_schema = %s AND information_schema.columns.table_name = %s AND lower(information_schema.columns.column_name) IN (%s)\n"
          ]
        },
        {
          "output_type": "stream",
          "name": "stdout",
          "text": [
            "2025-02-10 15:01:49,166 INFO sqlalchemy.engine.Engine [cached since 1.852e+04s ago] ('defaultdb', 'employee_data', 'id')\n"
          ]
        },
        {
          "output_type": "stream",
          "name": "stderr",
          "text": [
            "INFO:sqlalchemy.engine.Engine:[cached since 1.852e+04s ago] ('defaultdb', 'employee_data', 'id')\n"
          ]
        },
        {
          "output_type": "stream",
          "name": "stdout",
          "text": [
            "2025-02-10 15:01:49,386 INFO sqlalchemy.engine.Engine SELECT information_schema.columns.table_schema, information_schema.columns.table_name, information_schema.columns.column_name \n",
            "FROM information_schema.columns \n",
            "WHERE information_schema.columns.table_schema = %s AND information_schema.columns.table_name = %s AND lower(information_schema.columns.column_name) IN (%s)\n"
          ]
        },
        {
          "output_type": "stream",
          "name": "stderr",
          "text": [
            "INFO:sqlalchemy.engine.Engine:SELECT information_schema.columns.table_schema, information_schema.columns.table_name, information_schema.columns.column_name \n",
            "FROM information_schema.columns \n",
            "WHERE information_schema.columns.table_schema = %s AND information_schema.columns.table_name = %s AND lower(information_schema.columns.column_name) IN (%s)\n"
          ]
        },
        {
          "output_type": "stream",
          "name": "stdout",
          "text": [
            "2025-02-10 15:01:49,389 INFO sqlalchemy.engine.Engine [cached since 1.852e+04s ago] ('defaultdb', 'customer_data', 'id')\n"
          ]
        },
        {
          "output_type": "stream",
          "name": "stderr",
          "text": [
            "INFO:sqlalchemy.engine.Engine:[cached since 1.852e+04s ago] ('defaultdb', 'customer_data', 'id')\n"
          ]
        },
        {
          "output_type": "stream",
          "name": "stdout",
          "text": [
            "2025-02-10 15:01:49,410 INFO sqlalchemy.engine.Engine SELECT information_schema.columns.table_schema, information_schema.columns.table_name, information_schema.columns.column_name \n",
            "FROM information_schema.columns \n",
            "WHERE information_schema.columns.table_schema = %s AND information_schema.columns.table_name = %s AND lower(information_schema.columns.column_name) IN (%s)\n"
          ]
        },
        {
          "output_type": "stream",
          "name": "stderr",
          "text": [
            "INFO:sqlalchemy.engine.Engine:SELECT information_schema.columns.table_schema, information_schema.columns.table_name, information_schema.columns.column_name \n",
            "FROM information_schema.columns \n",
            "WHERE information_schema.columns.table_schema = %s AND information_schema.columns.table_name = %s AND lower(information_schema.columns.column_name) IN (%s)\n"
          ]
        },
        {
          "output_type": "stream",
          "name": "stdout",
          "text": [
            "2025-02-10 15:01:49,414 INFO sqlalchemy.engine.Engine [cached since 1.852e+04s ago] ('defaultdb', 'investor_data', 'id')\n"
          ]
        },
        {
          "output_type": "stream",
          "name": "stderr",
          "text": [
            "INFO:sqlalchemy.engine.Engine:[cached since 1.852e+04s ago] ('defaultdb', 'investor_data', 'id')\n"
          ]
        },
        {
          "output_type": "stream",
          "name": "stdout",
          "text": [
            "2025-02-10 15:01:49,636 INFO sqlalchemy.engine.Engine SELECT information_schema.columns.table_schema, information_schema.columns.table_name, information_schema.columns.column_name \n",
            "FROM information_schema.columns \n",
            "WHERE information_schema.columns.table_schema = %s AND information_schema.columns.table_name = %s AND lower(information_schema.columns.column_name) IN (%s)\n"
          ]
        },
        {
          "output_type": "stream",
          "name": "stderr",
          "text": [
            "INFO:sqlalchemy.engine.Engine:SELECT information_schema.columns.table_schema, information_schema.columns.table_name, information_schema.columns.column_name \n",
            "FROM information_schema.columns \n",
            "WHERE information_schema.columns.table_schema = %s AND information_schema.columns.table_name = %s AND lower(information_schema.columns.column_name) IN (%s)\n"
          ]
        },
        {
          "output_type": "stream",
          "name": "stdout",
          "text": [
            "2025-02-10 15:01:49,638 INFO sqlalchemy.engine.Engine [cached since 1.852e+04s ago] ('defaultdb', 'employee_data', 'id')\n"
          ]
        },
        {
          "output_type": "stream",
          "name": "stderr",
          "text": [
            "INFO:sqlalchemy.engine.Engine:[cached since 1.852e+04s ago] ('defaultdb', 'employee_data', 'id')\n"
          ]
        },
        {
          "output_type": "stream",
          "name": "stdout",
          "text": [
            "2025-02-10 15:01:49,657 INFO sqlalchemy.engine.Engine SELECT information_schema.columns.table_schema, information_schema.columns.table_name, information_schema.columns.column_name \n",
            "FROM information_schema.columns \n",
            "WHERE information_schema.columns.table_schema = %s AND information_schema.columns.table_name = %s AND lower(information_schema.columns.column_name) IN (%s)\n"
          ]
        },
        {
          "output_type": "stream",
          "name": "stderr",
          "text": [
            "INFO:sqlalchemy.engine.Engine:SELECT information_schema.columns.table_schema, information_schema.columns.table_name, information_schema.columns.column_name \n",
            "FROM information_schema.columns \n",
            "WHERE information_schema.columns.table_schema = %s AND information_schema.columns.table_name = %s AND lower(information_schema.columns.column_name) IN (%s)\n"
          ]
        },
        {
          "output_type": "stream",
          "name": "stdout",
          "text": [
            "2025-02-10 15:01:49,660 INFO sqlalchemy.engine.Engine [cached since 1.852e+04s ago] ('defaultdb', 'partner_data', 'id')\n"
          ]
        },
        {
          "output_type": "stream",
          "name": "stderr",
          "text": [
            "INFO:sqlalchemy.engine.Engine:[cached since 1.852e+04s ago] ('defaultdb', 'partner_data', 'id')\n"
          ]
        },
        {
          "output_type": "stream",
          "name": "stdout",
          "text": [
            "2025-02-10 15:01:49,883 INFO sqlalchemy.engine.Engine SELECT information_schema.columns.table_schema, information_schema.columns.table_name, information_schema.columns.column_name \n",
            "FROM information_schema.columns \n",
            "WHERE information_schema.columns.table_schema = %s AND information_schema.columns.table_name = %s AND lower(information_schema.columns.column_name) IN (%s)\n"
          ]
        },
        {
          "output_type": "stream",
          "name": "stderr",
          "text": [
            "INFO:sqlalchemy.engine.Engine:SELECT information_schema.columns.table_schema, information_schema.columns.table_name, information_schema.columns.column_name \n",
            "FROM information_schema.columns \n",
            "WHERE information_schema.columns.table_schema = %s AND information_schema.columns.table_name = %s AND lower(information_schema.columns.column_name) IN (%s)\n"
          ]
        },
        {
          "output_type": "stream",
          "name": "stdout",
          "text": [
            "2025-02-10 15:01:49,886 INFO sqlalchemy.engine.Engine [cached since 1.853e+04s ago] ('defaultdb', 'investor_data', 'id')\n"
          ]
        },
        {
          "output_type": "stream",
          "name": "stderr",
          "text": [
            "INFO:sqlalchemy.engine.Engine:[cached since 1.853e+04s ago] ('defaultdb', 'investor_data', 'id')\n"
          ]
        },
        {
          "output_type": "stream",
          "name": "stdout",
          "text": [
            "2025-02-10 15:01:49,903 INFO sqlalchemy.engine.Engine SELECT information_schema.columns.table_schema, information_schema.columns.table_name, information_schema.columns.column_name \n",
            "FROM information_schema.columns \n",
            "WHERE information_schema.columns.table_schema = %s AND information_schema.columns.table_name = %s AND lower(information_schema.columns.column_name) IN (%s)\n"
          ]
        },
        {
          "output_type": "stream",
          "name": "stderr",
          "text": [
            "INFO:sqlalchemy.engine.Engine:SELECT information_schema.columns.table_schema, information_schema.columns.table_name, information_schema.columns.column_name \n",
            "FROM information_schema.columns \n",
            "WHERE information_schema.columns.table_schema = %s AND information_schema.columns.table_name = %s AND lower(information_schema.columns.column_name) IN (%s)\n"
          ]
        },
        {
          "output_type": "stream",
          "name": "stdout",
          "text": [
            "2025-02-10 15:01:49,905 INFO sqlalchemy.engine.Engine [cached since 1.853e+04s ago] ('defaultdb', 'vendor_data', 'id')\n"
          ]
        },
        {
          "output_type": "stream",
          "name": "stderr",
          "text": [
            "INFO:sqlalchemy.engine.Engine:[cached since 1.853e+04s ago] ('defaultdb', 'vendor_data', 'id')\n"
          ]
        },
        {
          "output_type": "stream",
          "name": "stdout",
          "text": [
            "2025-02-10 15:01:50,132 INFO sqlalchemy.engine.Engine SELECT information_schema.columns.table_schema, information_schema.columns.table_name, information_schema.columns.column_name \n",
            "FROM information_schema.columns \n",
            "WHERE information_schema.columns.table_schema = %s AND information_schema.columns.table_name = %s AND lower(information_schema.columns.column_name) IN (%s)\n"
          ]
        },
        {
          "output_type": "stream",
          "name": "stderr",
          "text": [
            "INFO:sqlalchemy.engine.Engine:SELECT information_schema.columns.table_schema, information_schema.columns.table_name, information_schema.columns.column_name \n",
            "FROM information_schema.columns \n",
            "WHERE information_schema.columns.table_schema = %s AND information_schema.columns.table_name = %s AND lower(information_schema.columns.column_name) IN (%s)\n"
          ]
        },
        {
          "output_type": "stream",
          "name": "stdout",
          "text": [
            "2025-02-10 15:01:50,135 INFO sqlalchemy.engine.Engine [cached since 1.853e+04s ago] ('defaultdb', 'partner_data', 'id')\n"
          ]
        },
        {
          "output_type": "stream",
          "name": "stderr",
          "text": [
            "INFO:sqlalchemy.engine.Engine:[cached since 1.853e+04s ago] ('defaultdb', 'partner_data', 'id')\n"
          ]
        },
        {
          "output_type": "stream",
          "name": "stdout",
          "text": [
            "2025-02-10 15:01:50,173 INFO sqlalchemy.engine.Engine COMMIT\n"
          ]
        },
        {
          "output_type": "stream",
          "name": "stderr",
          "text": [
            "INFO:sqlalchemy.engine.Engine:COMMIT\n"
          ]
        },
        {
          "output_type": "stream",
          "name": "stdout",
          "text": [
            "2025-02-10 15:01:50,380 INFO sqlalchemy.engine.Engine SELECT information_schema.columns.table_schema, information_schema.columns.table_name, information_schema.columns.column_name \n",
            "FROM information_schema.columns \n",
            "WHERE information_schema.columns.table_schema = %s AND information_schema.columns.table_name = %s AND lower(information_schema.columns.column_name) IN (%s)\n"
          ]
        },
        {
          "output_type": "stream",
          "name": "stderr",
          "text": [
            "INFO:sqlalchemy.engine.Engine:SELECT information_schema.columns.table_schema, information_schema.columns.table_name, information_schema.columns.column_name \n",
            "FROM information_schema.columns \n",
            "WHERE information_schema.columns.table_schema = %s AND information_schema.columns.table_name = %s AND lower(information_schema.columns.column_name) IN (%s)\n"
          ]
        },
        {
          "output_type": "stream",
          "name": "stdout",
          "text": [
            "2025-02-10 15:01:50,383 INFO sqlalchemy.engine.Engine [cached since 1.853e+04s ago] ('defaultdb', 'vendor_data', 'id')\n"
          ]
        },
        {
          "output_type": "stream",
          "name": "stderr",
          "text": [
            "INFO:sqlalchemy.engine.Engine:[cached since 1.853e+04s ago] ('defaultdb', 'vendor_data', 'id')\n"
          ]
        },
        {
          "output_type": "stream",
          "name": "stdout",
          "text": [
            "2025-02-10 15:01:50,887 INFO sqlalchemy.engine.Engine COMMIT\n"
          ]
        },
        {
          "output_type": "stream",
          "name": "stderr",
          "text": [
            "INFO:sqlalchemy.engine.Engine:COMMIT\n"
          ]
        },
        {
          "output_type": "stream",
          "name": "stdout",
          "text": [
            "2025-02-10 15:01:52,877 INFO sqlalchemy.engine.Engine BEGIN (implicit)\n"
          ]
        },
        {
          "output_type": "stream",
          "name": "stderr",
          "text": [
            "INFO:sqlalchemy.engine.Engine:BEGIN (implicit)\n"
          ]
        },
        {
          "output_type": "stream",
          "name": "stdout",
          "text": [
            "2025-02-10 15:01:52,880 INFO sqlalchemy.engine.Engine SELECT `attribute_value`, COUNT(*) AS `count` FROM `customer_demographics` WHERE `attribute_name` LIKE '%%location%%' AND `ref_id` IN (SELECT `id` FROM `customer_data` WHERE `diagnostic_id` = '670d7bb908cd96a9c3b69aaf') AND (`attribute_value` IS NOT NULL AND `attribute_value` NOT IN ('', 'N/A')) GROUP BY `attribute_value` ORDER BY `count` DESC;\n"
          ]
        },
        {
          "output_type": "stream",
          "name": "stderr",
          "text": [
            "INFO:sqlalchemy.engine.Engine:SELECT `attribute_value`, COUNT(*) AS `count` FROM `customer_demographics` WHERE `attribute_name` LIKE '%%location%%' AND `ref_id` IN (SELECT `id` FROM `customer_data` WHERE `diagnostic_id` = '670d7bb908cd96a9c3b69aaf') AND (`attribute_value` IS NOT NULL AND `attribute_value` NOT IN ('', 'N/A')) GROUP BY `attribute_value` ORDER BY `count` DESC;\n"
          ]
        },
        {
          "output_type": "stream",
          "name": "stdout",
          "text": [
            "2025-02-10 15:01:52,882 INFO sqlalchemy.engine.Engine [cached since 1524s ago] ()\n"
          ]
        },
        {
          "output_type": "stream",
          "name": "stderr",
          "text": [
            "INFO:sqlalchemy.engine.Engine:[cached since 1524s ago] ()\n"
          ]
        },
        {
          "output_type": "stream",
          "name": "stdout",
          "text": [
            "2025-02-10 15:01:53,126 INFO sqlalchemy.engine.Engine COMMIT\n"
          ]
        },
        {
          "output_type": "stream",
          "name": "stderr",
          "text": [
            "INFO:sqlalchemy.engine.Engine:COMMIT\n"
          ]
        },
        {
          "output_type": "stream",
          "name": "stdout",
          "text": [
            "2025-02-10 15:01:55,860 INFO sqlalchemy.engine.Engine BEGIN (implicit)\n"
          ]
        },
        {
          "output_type": "stream",
          "name": "stderr",
          "text": [
            "INFO:sqlalchemy.engine.Engine:BEGIN (implicit)\n"
          ]
        },
        {
          "output_type": "stream",
          "name": "stdout",
          "text": [
            "2025-02-10 15:01:55,864 INFO sqlalchemy.engine.Engine SELECT `attribute_value`, COUNT(*) AS `count` FROM `customer_demographics` WHERE `attribute_name` LIKE '%%location%%' AND `ref_id` IN (SELECT `id` FROM `customer_data` WHERE `diagnostic_id` = '670d7bb908cd96a9c3b69aaf') AND (`attribute_value` IS NOT NULL AND `attribute_value` NOT IN ('', 'N/A')) GROUP BY `attribute_value` ORDER BY `count` DESC;\n"
          ]
        },
        {
          "output_type": "stream",
          "name": "stderr",
          "text": [
            "INFO:sqlalchemy.engine.Engine:SELECT `attribute_value`, COUNT(*) AS `count` FROM `customer_demographics` WHERE `attribute_name` LIKE '%%location%%' AND `ref_id` IN (SELECT `id` FROM `customer_data` WHERE `diagnostic_id` = '670d7bb908cd96a9c3b69aaf') AND (`attribute_value` IS NOT NULL AND `attribute_value` NOT IN ('', 'N/A')) GROUP BY `attribute_value` ORDER BY `count` DESC;\n"
          ]
        },
        {
          "output_type": "stream",
          "name": "stdout",
          "text": [
            "2025-02-10 15:01:55,868 INFO sqlalchemy.engine.Engine [cached since 1527s ago] ()\n"
          ]
        },
        {
          "output_type": "stream",
          "name": "stderr",
          "text": [
            "INFO:sqlalchemy.engine.Engine:[cached since 1527s ago] ()\n"
          ]
        },
        {
          "output_type": "stream",
          "name": "stdout",
          "text": [
            "2025-02-10 15:01:56,110 INFO sqlalchemy.engine.Engine COMMIT\n"
          ]
        },
        {
          "output_type": "stream",
          "name": "stderr",
          "text": [
            "INFO:sqlalchemy.engine.Engine:COMMIT\n",
            "INFO:werkzeug:127.0.0.1 - - [10/Feb/2025 15:01:59] \"POST /dashboardAgent HTTP/1.1\" 200 -\n",
            "INFO:werkzeug:127.0.0.1 - - [10/Feb/2025 15:01:59] \"POST /dashboardAgent HTTP/1.1\" 200 -\n",
            "INFO:werkzeug:127.0.0.1 - - [10/Feb/2025 15:02:52] \"OPTIONS /dashboardAgent HTTP/1.1\" 200 -\n",
            "INFO:werkzeug:127.0.0.1 - - [10/Feb/2025 15:03:10] \"OPTIONS /dashboardAgent HTTP/1.1\" 200 -\n",
            "INFO:werkzeug:127.0.0.1 - - [10/Feb/2025 15:03:10] \"OPTIONS /dashboardAgent HTTP/1.1\" 200 -\n"
          ]
        },
        {
          "output_type": "stream",
          "name": "stdout",
          "text": [
            "2025-02-10 15:03:10,853 INFO sqlalchemy.engine.Engine BEGIN (implicit)\n"
          ]
        },
        {
          "output_type": "stream",
          "name": "stderr",
          "text": [
            "INFO:sqlalchemy.engine.Engine:BEGIN (implicit)\n"
          ]
        },
        {
          "output_type": "stream",
          "name": "stdout",
          "text": [
            "2025-02-10 15:03:10,858 INFO sqlalchemy.engine.Engine SHOW FULL TABLES FROM \"defaultdb\"\n"
          ]
        },
        {
          "output_type": "stream",
          "name": "stderr",
          "text": [
            "INFO:sqlalchemy.engine.Engine:SHOW FULL TABLES FROM \"defaultdb\"\n"
          ]
        },
        {
          "output_type": "stream",
          "name": "stdout",
          "text": [
            "2025-02-10 15:03:10,862 INFO sqlalchemy.engine.Engine [raw sql] ()\n"
          ]
        },
        {
          "output_type": "stream",
          "name": "stderr",
          "text": [
            "INFO:sqlalchemy.engine.Engine:[raw sql] ()\n"
          ]
        },
        {
          "output_type": "stream",
          "name": "stdout",
          "text": [
            "2025-02-10 15:03:10,866 INFO sqlalchemy.engine.Engine ROLLBACK\n"
          ]
        },
        {
          "output_type": "stream",
          "name": "stderr",
          "text": [
            "INFO:sqlalchemy.engine.Engine:ROLLBACK\n",
            "ERROR:sqlalchemy.pool.impl.AsyncAdaptedQueuePool:Exception during reset or similar\n",
            "Traceback (most recent call last):\n",
            "  File \"/usr/local/lib/python3.11/dist-packages/sqlalchemy/pool/base.py\", line 986, in _finalize_fairy\n",
            "    fairy._reset(\n",
            "  File \"/usr/local/lib/python3.11/dist-packages/sqlalchemy/pool/base.py\", line 1432, in _reset\n",
            "    pool._dialect.do_rollback(self)\n",
            "  File \"/usr/local/lib/python3.11/dist-packages/sqlalchemy/engine/default.py\", line 700, in do_rollback\n",
            "    dbapi_connection.rollback()\n",
            "  File \"/usr/local/lib/python3.11/dist-packages/sqlalchemy/dialects/mysql/aiomysql.py\", line 203, in rollback\n",
            "    self.await_(self._connection.rollback())\n",
            "  File \"/usr/local/lib/python3.11/dist-packages/sqlalchemy/util/_concurrency_py3k.py\", line 132, in await_only\n",
            "    return current.parent.switch(awaitable)  # type: ignore[no-any-return,attr-defined] # noqa: E501\n",
            "           ^^^^^^^^^^^^^^^^^^^^^^^^^^^^^^^^\n",
            "  File \"/usr/local/lib/python3.11/dist-packages/sqlalchemy/util/_concurrency_py3k.py\", line 196, in greenlet_spawn\n",
            "    value = await result\n",
            "            ^^^^^^^^^^^^\n",
            "  File \"/usr/local/lib/python3.11/dist-packages/aiomysql/connection.py\", line 399, in rollback\n",
            "    await self._read_ok_packet()\n",
            "  File \"/usr/local/lib/python3.11/dist-packages/aiomysql/connection.py\", line 372, in _read_ok_packet\n",
            "    pkt = await self._read_packet()\n",
            "          ^^^^^^^^^^^^^^^^^^^^^^^^^\n",
            "  File \"/usr/local/lib/python3.11/dist-packages/aiomysql/connection.py\", line 609, in _read_packet\n",
            "    packet_header = await self._read_bytes(4)\n",
            "                    ^^^^^^^^^^^^^^^^^^^^^^^^^\n",
            "  File \"/usr/local/lib/python3.11/dist-packages/aiomysql/connection.py\", line 657, in _read_bytes\n",
            "    data = await self._reader.readexactly(num_bytes)\n",
            "           ^^^^^^^^^^^^^^^^^^^^^^^^^^^^^^^^^^^^^^^^^\n",
            "  File \"/usr/lib/python3.11/asyncio/streams.py\", line 750, in readexactly\n",
            "    await self._wait_for_data('readexactly')\n",
            "  File \"/usr/lib/python3.11/asyncio/streams.py\", line 543, in _wait_for_data\n",
            "    await self._waiter\n",
            "RuntimeError: Task <Task pending name='Task-1979' coro=<AsyncConnection.close() running at /usr/local/lib/python3.11/dist-packages/sqlalchemy/ext/asyncio/engine.py:482> cb=[shield.<locals>._inner_done_callback() at /usr/lib/python3.11/asyncio/tasks.py:891]> got Future <Future pending> attached to a different loop\n",
            "ERROR:sqlalchemy.pool.impl.AsyncAdaptedQueuePool:Exception terminating connection <AdaptedConnection <aiomysql.connection.Connection object at 0x7e04ec425d50>>\n",
            "Traceback (most recent call last):\n",
            "  File \"/usr/local/lib/python3.11/dist-packages/sqlalchemy/pool/base.py\", line 986, in _finalize_fairy\n",
            "    fairy._reset(\n",
            "  File \"/usr/local/lib/python3.11/dist-packages/sqlalchemy/pool/base.py\", line 1432, in _reset\n",
            "    pool._dialect.do_rollback(self)\n",
            "  File \"/usr/local/lib/python3.11/dist-packages/sqlalchemy/engine/default.py\", line 700, in do_rollback\n",
            "    dbapi_connection.rollback()\n",
            "  File \"/usr/local/lib/python3.11/dist-packages/sqlalchemy/dialects/mysql/aiomysql.py\", line 203, in rollback\n",
            "    self.await_(self._connection.rollback())\n",
            "  File \"/usr/local/lib/python3.11/dist-packages/sqlalchemy/util/_concurrency_py3k.py\", line 132, in await_only\n",
            "    return current.parent.switch(awaitable)  # type: ignore[no-any-return,attr-defined] # noqa: E501\n",
            "           ^^^^^^^^^^^^^^^^^^^^^^^^^^^^^^^^\n",
            "  File \"/usr/local/lib/python3.11/dist-packages/sqlalchemy/util/_concurrency_py3k.py\", line 196, in greenlet_spawn\n",
            "    value = await result\n",
            "            ^^^^^^^^^^^^\n",
            "  File \"/usr/local/lib/python3.11/dist-packages/aiomysql/connection.py\", line 399, in rollback\n",
            "    await self._read_ok_packet()\n",
            "  File \"/usr/local/lib/python3.11/dist-packages/aiomysql/connection.py\", line 372, in _read_ok_packet\n",
            "    pkt = await self._read_packet()\n",
            "          ^^^^^^^^^^^^^^^^^^^^^^^^^\n",
            "  File \"/usr/local/lib/python3.11/dist-packages/aiomysql/connection.py\", line 609, in _read_packet\n",
            "    packet_header = await self._read_bytes(4)\n",
            "                    ^^^^^^^^^^^^^^^^^^^^^^^^^\n",
            "  File \"/usr/local/lib/python3.11/dist-packages/aiomysql/connection.py\", line 657, in _read_bytes\n",
            "    data = await self._reader.readexactly(num_bytes)\n",
            "           ^^^^^^^^^^^^^^^^^^^^^^^^^^^^^^^^^^^^^^^^^\n",
            "  File \"/usr/lib/python3.11/asyncio/streams.py\", line 750, in readexactly\n",
            "    await self._wait_for_data('readexactly')\n",
            "  File \"/usr/lib/python3.11/asyncio/streams.py\", line 543, in _wait_for_data\n",
            "    await self._waiter\n",
            "RuntimeError: Task <Task pending name='Task-1979' coro=<AsyncConnection.close() running at /usr/local/lib/python3.11/dist-packages/sqlalchemy/ext/asyncio/engine.py:482> cb=[shield.<locals>._inner_done_callback() at /usr/lib/python3.11/asyncio/tasks.py:891]> got Future <Future pending> attached to a different loop\n",
            "\n",
            "During handling of the above exception, another exception occurred:\n",
            "\n",
            "Traceback (most recent call last):\n",
            "  File \"/usr/local/lib/python3.11/dist-packages/sqlalchemy/pool/base.py\", line 374, in _close_connection\n",
            "    self._dialect.do_terminate(connection)\n",
            "  File \"/usr/local/lib/python3.11/dist-packages/sqlalchemy/dialects/mysql/aiomysql.py\", line 312, in do_terminate\n",
            "    dbapi_connection.terminate()\n",
            "  File \"/usr/local/lib/python3.11/dist-packages/sqlalchemy/dialects/mysql/aiomysql.py\", line 210, in terminate\n",
            "    self._connection.close()\n",
            "  File \"/usr/local/lib/python3.11/dist-packages/aiomysql/connection.py\", line 339, in close\n",
            "    self._writer.transport.close()\n",
            "  File \"/usr/lib/python3.11/asyncio/selector_events.py\", line 864, in close\n",
            "    self._loop.call_soon(self._call_connection_lost, None)\n",
            "  File \"/usr/lib/python3.11/asyncio/base_events.py\", line 762, in call_soon\n",
            "    self._check_closed()\n",
            "  File \"/usr/lib/python3.11/asyncio/base_events.py\", line 520, in _check_closed\n",
            "    raise RuntimeError('Event loop is closed')\n",
            "RuntimeError: Event loop is closed\n",
            "ERROR:__main__:Exception on /dashboardAgent [POST]\n",
            "Traceback (most recent call last):\n",
            "  File \"/usr/local/lib/python3.11/dist-packages/sqlalchemy/ext/asyncio/engine.py\", line 1066, in begin\n",
            "    yield conn\n",
            "  File \"<ipython-input-9-91afecc331e2>\", line 22, in get_schema\n",
            "    await conn.run_sync(metadata.reflect)\n",
            "  File \"/usr/local/lib/python3.11/dist-packages/sqlalchemy/ext/asyncio/engine.py\", line 887, in run_sync\n",
            "    return await greenlet_spawn(\n",
            "           ^^^^^^^^^^^^^^^^^^^^^\n",
            "  File \"/usr/local/lib/python3.11/dist-packages/sqlalchemy/util/_concurrency_py3k.py\", line 201, in greenlet_spawn\n",
            "    result = context.throw(*sys.exc_info())\n",
            "             ^^^^^^^^^^^^^^^^^^^^^^^^^^^^^^\n",
            "  File \"/usr/local/lib/python3.11/dist-packages/sqlalchemy/sql/schema.py\", line 5812, in reflect\n",
            "    insp.get_table_names(schema)\n",
            "  File \"/usr/local/lib/python3.11/dist-packages/sqlalchemy/engine/reflection.py\", line 406, in get_table_names\n",
            "    return self.dialect.get_table_names(\n",
            "           ^^^^^^^^^^^^^^^^^^^^^^^^^^^^^\n",
            "  File \"<string>\", line 2, in get_table_names\n",
            "  File \"/usr/local/lib/python3.11/dist-packages/sqlalchemy/engine/reflection.py\", line 106, in cache\n",
            "    ret = fn(self, con, *args, **kw)\n",
            "          ^^^^^^^^^^^^^^^^^^^^^^^^^^\n",
            "  File \"/usr/local/lib/python3.11/dist-packages/sqlalchemy/dialects/mysql/base.py\", line 2997, in get_table_names\n",
            "    rp = connection.exec_driver_sql(\n",
            "         ^^^^^^^^^^^^^^^^^^^^^^^^^^^\n",
            "  File \"/usr/local/lib/python3.11/dist-packages/sqlalchemy/engine/base.py\", line 1776, in exec_driver_sql\n",
            "    ret = self._execute_context(\n",
            "          ^^^^^^^^^^^^^^^^^^^^^^\n",
            "  File \"/usr/local/lib/python3.11/dist-packages/sqlalchemy/engine/base.py\", line 1843, in _execute_context\n",
            "    return self._exec_single_context(\n",
            "           ^^^^^^^^^^^^^^^^^^^^^^^^^^\n",
            "  File \"/usr/local/lib/python3.11/dist-packages/sqlalchemy/engine/base.py\", line 1983, in _exec_single_context\n",
            "    self._handle_dbapi_exception(\n",
            "  File \"/usr/local/lib/python3.11/dist-packages/sqlalchemy/engine/base.py\", line 2355, in _handle_dbapi_exception\n",
            "    raise exc_info[1].with_traceback(exc_info[2])\n",
            "  File \"/usr/local/lib/python3.11/dist-packages/sqlalchemy/engine/base.py\", line 1964, in _exec_single_context\n",
            "    self.dialect.do_execute(\n",
            "  File \"/usr/local/lib/python3.11/dist-packages/sqlalchemy/engine/default.py\", line 942, in do_execute\n",
            "    cursor.execute(statement, parameters)\n",
            "  File \"/usr/local/lib/python3.11/dist-packages/sqlalchemy/dialects/mysql/aiomysql.py\", line 97, in execute\n",
            "    return self.await_(self._execute_async(operation, parameters))\n",
            "           ^^^^^^^^^^^^^^^^^^^^^^^^^^^^^^^^^^^^^^^^^^^^^^^^^^^^^^^\n",
            "  File \"/usr/local/lib/python3.11/dist-packages/sqlalchemy/util/_concurrency_py3k.py\", line 132, in await_only\n",
            "    return current.parent.switch(awaitable)  # type: ignore[no-any-return,attr-defined] # noqa: E501\n",
            "           ^^^^^^^^^^^^^^^^^^^^^^^^^^^^^^^^\n",
            "  File \"/usr/local/lib/python3.11/dist-packages/sqlalchemy/util/_concurrency_py3k.py\", line 196, in greenlet_spawn\n",
            "    value = await result\n",
            "            ^^^^^^^^^^^^\n",
            "  File \"/usr/local/lib/python3.11/dist-packages/sqlalchemy/dialects/mysql/aiomysql.py\", line 106, in _execute_async\n",
            "    result = await self._cursor.execute(operation, parameters)\n",
            "             ^^^^^^^^^^^^^^^^^^^^^^^^^^^^^^^^^^^^^^^^^^^^^^^^^\n",
            "  File \"/usr/local/lib/python3.11/dist-packages/aiomysql/cursors.py\", line 239, in execute\n",
            "    await self._query(query)\n",
            "  File \"/usr/local/lib/python3.11/dist-packages/aiomysql/cursors.py\", line 457, in _query\n",
            "    await conn.query(q)\n",
            "  File \"/usr/local/lib/python3.11/dist-packages/aiomysql/connection.py\", line 469, in query\n",
            "    await self._read_query_result(unbuffered=unbuffered)\n",
            "  File \"/usr/local/lib/python3.11/dist-packages/aiomysql/connection.py\", line 683, in _read_query_result\n",
            "    await result.read()\n",
            "  File \"/usr/local/lib/python3.11/dist-packages/aiomysql/connection.py\", line 1164, in read\n",
            "    first_packet = await self.connection._read_packet()\n",
            "                   ^^^^^^^^^^^^^^^^^^^^^^^^^^^^^^^^^^^^\n",
            "  File \"/usr/local/lib/python3.11/dist-packages/aiomysql/connection.py\", line 609, in _read_packet\n",
            "    packet_header = await self._read_bytes(4)\n",
            "                    ^^^^^^^^^^^^^^^^^^^^^^^^^\n",
            "  File \"/usr/local/lib/python3.11/dist-packages/aiomysql/connection.py\", line 657, in _read_bytes\n",
            "    data = await self._reader.readexactly(num_bytes)\n",
            "           ^^^^^^^^^^^^^^^^^^^^^^^^^^^^^^^^^^^^^^^^^\n",
            "  File \"/usr/lib/python3.11/asyncio/streams.py\", line 750, in readexactly\n",
            "    await self._wait_for_data('readexactly')\n",
            "  File \"/usr/lib/python3.11/asyncio/streams.py\", line 543, in _wait_for_data\n",
            "    await self._waiter\n",
            "RuntimeError: Task <Task pending name='Task-1978' coro=<parse_question() running at <ipython-input-12-fa7a0aee7706>:10> cb=[Task.task_wakeup()]> got Future <Future pending> attached to a different loop\n",
            "\n",
            "During handling of the above exception, another exception occurred:\n",
            "\n",
            "Traceback (most recent call last):\n",
            "  File \"/usr/local/lib/python3.11/dist-packages/flask/app.py\", line 1511, in wsgi_app\n",
            "    response = self.full_dispatch_request()\n",
            "               ^^^^^^^^^^^^^^^^^^^^^^^^^^^^\n",
            "  File \"/usr/local/lib/python3.11/dist-packages/flask/app.py\", line 919, in full_dispatch_request\n",
            "    rv = self.handle_user_exception(e)\n",
            "         ^^^^^^^^^^^^^^^^^^^^^^^^^^^^^\n",
            "  File \"/usr/local/lib/python3.11/dist-packages/flask_cors/extension.py\", line 194, in wrapped_function\n",
            "    return cors_after_request(app.make_response(f(*args, **kwargs)))\n",
            "                                                ^^^^^^^^^^^^^^^^^^\n",
            "  File \"/usr/local/lib/python3.11/dist-packages/flask/app.py\", line 917, in full_dispatch_request\n",
            "    rv = self.dispatch_request()\n",
            "         ^^^^^^^^^^^^^^^^^^^^^^^\n",
            "  File \"/usr/local/lib/python3.11/dist-packages/flask/app.py\", line 902, in dispatch_request\n",
            "    return self.ensure_sync(self.view_functions[rule.endpoint])(**view_args)  # type: ignore[no-any-return]\n",
            "           ^^^^^^^^^^^^^^^^^^^^^^^^^^^^^^^^^^^^^^^^^^^^^^^^^^^^^^^^^^^^^^^^^\n",
            "  File \"<ipython-input-67-29875ed07a0a>\", line 18, in dashboard_agent\n",
            "    result = asyncio.run(runnable.ainvoke({\"question\": question, \"diagnostic_id\": \"670d7bb908cd96a9c3b69aaf\"}))\n",
            "             ^^^^^^^^^^^^^^^^^^^^^^^^^^^^^^^^^^^^^^^^^^^^^^^^^^^^^^^^^^^^^^^^^^^^^^^^^^^^^^^^^^^^^^^^^^^^^^^^^^\n",
            "  File \"/usr/lib/python3.11/asyncio/runners.py\", line 190, in run\n",
            "    return runner.run(main)\n",
            "           ^^^^^^^^^^^^^^^^\n",
            "  File \"/usr/lib/python3.11/asyncio/runners.py\", line 118, in run\n",
            "    return self._loop.run_until_complete(task)\n",
            "           ^^^^^^^^^^^^^^^^^^^^^^^^^^^^^^^^^^^\n",
            "  File \"/usr/lib/python3.11/asyncio/base_events.py\", line 654, in run_until_complete\n",
            "    return future.result()\n",
            "           ^^^^^^^^^^^^^^^\n",
            "  File \"/usr/local/lib/python3.11/dist-packages/langgraph/pregel/__init__.py\", line 2122, in ainvoke\n",
            "    async for chunk in self.astream(\n",
            "  File \"/usr/local/lib/python3.11/dist-packages/langgraph/pregel/__init__.py\", line 2007, in astream\n",
            "    async for _ in runner.atick(\n",
            "  File \"/usr/local/lib/python3.11/dist-packages/langgraph/pregel/runner.py\", line 444, in atick\n",
            "    await arun_with_retry(\n",
            "  File \"/usr/local/lib/python3.11/dist-packages/langgraph/pregel/retry.py\", line 128, in arun_with_retry\n",
            "    return await task.proc.ainvoke(task.input, config)\n",
            "           ^^^^^^^^^^^^^^^^^^^^^^^^^^^^^^^^^^^^^^^^^^^\n",
            "  File \"/usr/local/lib/python3.11/dist-packages/langgraph/utils/runnable.py\", line 543, in ainvoke\n",
            "    input = await step.ainvoke(input, config, **kwargs)\n",
            "            ^^^^^^^^^^^^^^^^^^^^^^^^^^^^^^^^^^^^^^^^^^^\n",
            "  File \"/usr/local/lib/python3.11/dist-packages/langgraph/utils/runnable.py\", line 331, in ainvoke\n",
            "    ret = await asyncio.create_task(coro, context=context)\n",
            "          ^^^^^^^^^^^^^^^^^^^^^^^^^^^^^^^^^^^^^^^^^^^^^^^^\n",
            "  File \"<ipython-input-12-fa7a0aee7706>\", line 10, in parse_question\n",
            "    schema = await db_manager.get_schema()\n",
            "             ^^^^^^^^^^^^^^^^^^^^^^^^^^^^^\n",
            "  File \"<ipython-input-9-91afecc331e2>\", line 20, in get_schema\n",
            "    async with self.engine.begin() as conn:\n",
            "  File \"/usr/lib/python3.11/contextlib.py\", line 231, in __aexit__\n",
            "    await self.gen.athrow(typ, value, traceback)\n",
            "  File \"/usr/local/lib/python3.11/dist-packages/sqlalchemy/ext/asyncio/engine.py\", line 1065, in begin\n",
            "    async with conn.begin():\n",
            "  File \"/usr/local/lib/python3.11/dist-packages/sqlalchemy/util/_concurrency_py3k.py\", line 201, in greenlet_spawn\n",
            "    result = context.throw(*sys.exc_info())\n",
            "             ^^^^^^^^^^^^^^^^^^^^^^^^^^^^^^\n",
            "  File \"/usr/local/lib/python3.11/dist-packages/sqlalchemy/engine/util.py\", line 162, in __exit__\n",
            "    self.rollback()\n",
            "  File \"/usr/local/lib/python3.11/dist-packages/sqlalchemy/engine/base.py\", line 2608, in rollback\n",
            "    self._do_rollback()\n",
            "  File \"/usr/local/lib/python3.11/dist-packages/sqlalchemy/engine/base.py\", line 2727, in _do_rollback\n",
            "    self._close_impl(try_deactivate=True)\n",
            "  File \"/usr/local/lib/python3.11/dist-packages/sqlalchemy/engine/base.py\", line 2710, in _close_impl\n",
            "    self._connection_rollback_impl()\n",
            "  File \"/usr/local/lib/python3.11/dist-packages/sqlalchemy/engine/base.py\", line 2702, in _connection_rollback_impl\n",
            "    self.connection._rollback_impl()\n",
            "  File \"/usr/local/lib/python3.11/dist-packages/sqlalchemy/engine/base.py\", line 1127, in _rollback_impl\n",
            "    self._handle_dbapi_exception(e, None, None, None, None)\n",
            "  File \"/usr/local/lib/python3.11/dist-packages/sqlalchemy/engine/base.py\", line 2355, in _handle_dbapi_exception\n",
            "    raise exc_info[1].with_traceback(exc_info[2])\n",
            "  File \"/usr/local/lib/python3.11/dist-packages/sqlalchemy/engine/base.py\", line 1125, in _rollback_impl\n",
            "    self.engine.dialect.do_rollback(self.connection)\n",
            "  File \"/usr/local/lib/python3.11/dist-packages/sqlalchemy/engine/default.py\", line 700, in do_rollback\n",
            "    dbapi_connection.rollback()\n",
            "  File \"/usr/local/lib/python3.11/dist-packages/sqlalchemy/dialects/mysql/aiomysql.py\", line 203, in rollback\n",
            "    self.await_(self._connection.rollback())\n",
            "  File \"/usr/local/lib/python3.11/dist-packages/sqlalchemy/util/_concurrency_py3k.py\", line 132, in await_only\n",
            "    return current.parent.switch(awaitable)  # type: ignore[no-any-return,attr-defined] # noqa: E501\n",
            "           ^^^^^^^^^^^^^^^^^^^^^^^^^^^^^^^^\n",
            "  File \"/usr/local/lib/python3.11/dist-packages/sqlalchemy/util/_concurrency_py3k.py\", line 196, in greenlet_spawn\n",
            "    value = await result\n",
            "            ^^^^^^^^^^^^\n",
            "  File \"/usr/local/lib/python3.11/dist-packages/aiomysql/connection.py\", line 399, in rollback\n",
            "    await self._read_ok_packet()\n",
            "  File \"/usr/local/lib/python3.11/dist-packages/aiomysql/connection.py\", line 372, in _read_ok_packet\n",
            "    pkt = await self._read_packet()\n",
            "          ^^^^^^^^^^^^^^^^^^^^^^^^^\n",
            "  File \"/usr/local/lib/python3.11/dist-packages/aiomysql/connection.py\", line 609, in _read_packet\n",
            "    packet_header = await self._read_bytes(4)\n",
            "                    ^^^^^^^^^^^^^^^^^^^^^^^^^\n",
            "  File \"/usr/local/lib/python3.11/dist-packages/aiomysql/connection.py\", line 657, in _read_bytes\n",
            "    data = await self._reader.readexactly(num_bytes)\n",
            "           ^^^^^^^^^^^^^^^^^^^^^^^^^^^^^^^^^^^^^^^^^\n",
            "  File \"/usr/lib/python3.11/asyncio/streams.py\", line 750, in readexactly\n",
            "    await self._wait_for_data('readexactly')\n",
            "  File \"/usr/lib/python3.11/asyncio/streams.py\", line 543, in _wait_for_data\n",
            "    await self._waiter\n",
            "RuntimeError: Task <Task pending name='Task-1978' coro=<parse_question() running at <ipython-input-12-fa7a0aee7706>:10> cb=[Task.task_wakeup()]> got Future <Future pending> attached to a different loop\n",
            "During task with name 'parse_question' and id '669f9339-0ea4-6043-38bb-3a2a17017481'\n",
            "INFO:werkzeug:127.0.0.1 - - [10/Feb/2025 15:03:10] \"\u001b[35m\u001b[1mPOST /dashboardAgent HTTP/1.1\u001b[0m\" 500 -\n"
          ]
        },
        {
          "output_type": "stream",
          "name": "stdout",
          "text": [
            "2025-02-10 15:03:10,998 INFO sqlalchemy.engine.Engine BEGIN (implicit)\n"
          ]
        },
        {
          "output_type": "stream",
          "name": "stderr",
          "text": [
            "INFO:sqlalchemy.engine.Engine:BEGIN (implicit)\n"
          ]
        },
        {
          "output_type": "stream",
          "name": "stdout",
          "text": [
            "2025-02-10 15:03:11,008 INFO sqlalchemy.engine.Engine SHOW FULL TABLES FROM \"defaultdb\"\n"
          ]
        },
        {
          "output_type": "stream",
          "name": "stderr",
          "text": [
            "INFO:sqlalchemy.engine.Engine:SHOW FULL TABLES FROM \"defaultdb\"\n"
          ]
        },
        {
          "output_type": "stream",
          "name": "stdout",
          "text": [
            "2025-02-10 15:03:11,011 INFO sqlalchemy.engine.Engine [raw sql] ()\n"
          ]
        },
        {
          "output_type": "stream",
          "name": "stderr",
          "text": [
            "INFO:sqlalchemy.engine.Engine:[raw sql] ()\n"
          ]
        },
        {
          "output_type": "stream",
          "name": "stdout",
          "text": [
            "2025-02-10 15:03:11,013 INFO sqlalchemy.engine.Engine ROLLBACK\n"
          ]
        },
        {
          "output_type": "stream",
          "name": "stderr",
          "text": [
            "INFO:sqlalchemy.engine.Engine:ROLLBACK\n",
            "ERROR:sqlalchemy.pool.impl.AsyncAdaptedQueuePool:Exception during reset or similar\n",
            "Traceback (most recent call last):\n",
            "  File \"/usr/local/lib/python3.11/dist-packages/sqlalchemy/pool/base.py\", line 986, in _finalize_fairy\n",
            "    fairy._reset(\n",
            "  File \"/usr/local/lib/python3.11/dist-packages/sqlalchemy/pool/base.py\", line 1432, in _reset\n",
            "    pool._dialect.do_rollback(self)\n",
            "  File \"/usr/local/lib/python3.11/dist-packages/sqlalchemy/engine/default.py\", line 700, in do_rollback\n",
            "    dbapi_connection.rollback()\n",
            "  File \"/usr/local/lib/python3.11/dist-packages/sqlalchemy/dialects/mysql/aiomysql.py\", line 203, in rollback\n",
            "    self.await_(self._connection.rollback())\n",
            "  File \"/usr/local/lib/python3.11/dist-packages/sqlalchemy/util/_concurrency_py3k.py\", line 132, in await_only\n",
            "    return current.parent.switch(awaitable)  # type: ignore[no-any-return,attr-defined] # noqa: E501\n",
            "           ^^^^^^^^^^^^^^^^^^^^^^^^^^^^^^^^\n",
            "  File \"/usr/local/lib/python3.11/dist-packages/sqlalchemy/util/_concurrency_py3k.py\", line 196, in greenlet_spawn\n",
            "    value = await result\n",
            "            ^^^^^^^^^^^^\n",
            "  File \"/usr/local/lib/python3.11/dist-packages/aiomysql/connection.py\", line 399, in rollback\n",
            "    await self._read_ok_packet()\n",
            "  File \"/usr/local/lib/python3.11/dist-packages/aiomysql/connection.py\", line 372, in _read_ok_packet\n",
            "    pkt = await self._read_packet()\n",
            "          ^^^^^^^^^^^^^^^^^^^^^^^^^\n",
            "  File \"/usr/local/lib/python3.11/dist-packages/aiomysql/connection.py\", line 609, in _read_packet\n",
            "    packet_header = await self._read_bytes(4)\n",
            "                    ^^^^^^^^^^^^^^^^^^^^^^^^^\n",
            "  File \"/usr/local/lib/python3.11/dist-packages/aiomysql/connection.py\", line 657, in _read_bytes\n",
            "    data = await self._reader.readexactly(num_bytes)\n",
            "           ^^^^^^^^^^^^^^^^^^^^^^^^^^^^^^^^^^^^^^^^^\n",
            "  File \"/usr/lib/python3.11/asyncio/streams.py\", line 750, in readexactly\n",
            "    await self._wait_for_data('readexactly')\n",
            "  File \"/usr/lib/python3.11/asyncio/streams.py\", line 543, in _wait_for_data\n",
            "    await self._waiter\n",
            "RuntimeError: Task <Task pending name='Task-1996' coro=<AsyncConnection.close() running at /usr/local/lib/python3.11/dist-packages/sqlalchemy/ext/asyncio/engine.py:482> cb=[shield.<locals>._inner_done_callback() at /usr/lib/python3.11/asyncio/tasks.py:891]> got Future <Future pending> attached to a different loop\n",
            "ERROR:sqlalchemy.pool.impl.AsyncAdaptedQueuePool:Exception terminating connection <AdaptedConnection <aiomysql.connection.Connection object at 0x7e04ece66fd0>>\n",
            "Traceback (most recent call last):\n",
            "  File \"/usr/local/lib/python3.11/dist-packages/sqlalchemy/pool/base.py\", line 986, in _finalize_fairy\n",
            "    fairy._reset(\n",
            "  File \"/usr/local/lib/python3.11/dist-packages/sqlalchemy/pool/base.py\", line 1432, in _reset\n",
            "    pool._dialect.do_rollback(self)\n",
            "  File \"/usr/local/lib/python3.11/dist-packages/sqlalchemy/engine/default.py\", line 700, in do_rollback\n",
            "    dbapi_connection.rollback()\n",
            "  File \"/usr/local/lib/python3.11/dist-packages/sqlalchemy/dialects/mysql/aiomysql.py\", line 203, in rollback\n",
            "    self.await_(self._connection.rollback())\n",
            "  File \"/usr/local/lib/python3.11/dist-packages/sqlalchemy/util/_concurrency_py3k.py\", line 132, in await_only\n",
            "    return current.parent.switch(awaitable)  # type: ignore[no-any-return,attr-defined] # noqa: E501\n",
            "           ^^^^^^^^^^^^^^^^^^^^^^^^^^^^^^^^\n",
            "  File \"/usr/local/lib/python3.11/dist-packages/sqlalchemy/util/_concurrency_py3k.py\", line 196, in greenlet_spawn\n",
            "    value = await result\n",
            "            ^^^^^^^^^^^^\n",
            "  File \"/usr/local/lib/python3.11/dist-packages/aiomysql/connection.py\", line 399, in rollback\n",
            "    await self._read_ok_packet()\n",
            "  File \"/usr/local/lib/python3.11/dist-packages/aiomysql/connection.py\", line 372, in _read_ok_packet\n",
            "    pkt = await self._read_packet()\n",
            "          ^^^^^^^^^^^^^^^^^^^^^^^^^\n",
            "  File \"/usr/local/lib/python3.11/dist-packages/aiomysql/connection.py\", line 609, in _read_packet\n",
            "    packet_header = await self._read_bytes(4)\n",
            "                    ^^^^^^^^^^^^^^^^^^^^^^^^^\n",
            "  File \"/usr/local/lib/python3.11/dist-packages/aiomysql/connection.py\", line 657, in _read_bytes\n",
            "    data = await self._reader.readexactly(num_bytes)\n",
            "           ^^^^^^^^^^^^^^^^^^^^^^^^^^^^^^^^^^^^^^^^^\n",
            "  File \"/usr/lib/python3.11/asyncio/streams.py\", line 750, in readexactly\n",
            "    await self._wait_for_data('readexactly')\n",
            "  File \"/usr/lib/python3.11/asyncio/streams.py\", line 543, in _wait_for_data\n",
            "    await self._waiter\n",
            "RuntimeError: Task <Task pending name='Task-1996' coro=<AsyncConnection.close() running at /usr/local/lib/python3.11/dist-packages/sqlalchemy/ext/asyncio/engine.py:482> cb=[shield.<locals>._inner_done_callback() at /usr/lib/python3.11/asyncio/tasks.py:891]> got Future <Future pending> attached to a different loop\n",
            "\n",
            "During handling of the above exception, another exception occurred:\n",
            "\n",
            "Traceback (most recent call last):\n",
            "  File \"/usr/local/lib/python3.11/dist-packages/sqlalchemy/pool/base.py\", line 374, in _close_connection\n",
            "    self._dialect.do_terminate(connection)\n",
            "  File \"/usr/local/lib/python3.11/dist-packages/sqlalchemy/dialects/mysql/aiomysql.py\", line 312, in do_terminate\n",
            "    dbapi_connection.terminate()\n",
            "  File \"/usr/local/lib/python3.11/dist-packages/sqlalchemy/dialects/mysql/aiomysql.py\", line 210, in terminate\n",
            "    self._connection.close()\n",
            "  File \"/usr/local/lib/python3.11/dist-packages/aiomysql/connection.py\", line 339, in close\n",
            "    self._writer.transport.close()\n",
            "  File \"/usr/lib/python3.11/asyncio/selector_events.py\", line 864, in close\n",
            "    self._loop.call_soon(self._call_connection_lost, None)\n",
            "  File \"/usr/lib/python3.11/asyncio/base_events.py\", line 762, in call_soon\n",
            "    self._check_closed()\n",
            "  File \"/usr/lib/python3.11/asyncio/base_events.py\", line 520, in _check_closed\n",
            "    raise RuntimeError('Event loop is closed')\n",
            "RuntimeError: Event loop is closed\n",
            "ERROR:__main__:Exception on /dashboardAgent [POST]\n",
            "Traceback (most recent call last):\n",
            "  File \"/usr/local/lib/python3.11/dist-packages/sqlalchemy/ext/asyncio/engine.py\", line 1066, in begin\n",
            "    yield conn\n",
            "  File \"<ipython-input-9-91afecc331e2>\", line 22, in get_schema\n",
            "    await conn.run_sync(metadata.reflect)\n",
            "  File \"/usr/local/lib/python3.11/dist-packages/sqlalchemy/ext/asyncio/engine.py\", line 887, in run_sync\n",
            "    return await greenlet_spawn(\n",
            "           ^^^^^^^^^^^^^^^^^^^^^\n",
            "  File \"/usr/local/lib/python3.11/dist-packages/sqlalchemy/util/_concurrency_py3k.py\", line 201, in greenlet_spawn\n",
            "    result = context.throw(*sys.exc_info())\n",
            "             ^^^^^^^^^^^^^^^^^^^^^^^^^^^^^^\n",
            "  File \"/usr/local/lib/python3.11/dist-packages/sqlalchemy/sql/schema.py\", line 5812, in reflect\n",
            "    insp.get_table_names(schema)\n",
            "  File \"/usr/local/lib/python3.11/dist-packages/sqlalchemy/engine/reflection.py\", line 406, in get_table_names\n",
            "    return self.dialect.get_table_names(\n",
            "           ^^^^^^^^^^^^^^^^^^^^^^^^^^^^^\n",
            "  File \"<string>\", line 2, in get_table_names\n",
            "  File \"/usr/local/lib/python3.11/dist-packages/sqlalchemy/engine/reflection.py\", line 106, in cache\n",
            "    ret = fn(self, con, *args, **kw)\n",
            "          ^^^^^^^^^^^^^^^^^^^^^^^^^^\n",
            "  File \"/usr/local/lib/python3.11/dist-packages/sqlalchemy/dialects/mysql/base.py\", line 2997, in get_table_names\n",
            "    rp = connection.exec_driver_sql(\n",
            "         ^^^^^^^^^^^^^^^^^^^^^^^^^^^\n",
            "  File \"/usr/local/lib/python3.11/dist-packages/sqlalchemy/engine/base.py\", line 1776, in exec_driver_sql\n",
            "    ret = self._execute_context(\n",
            "          ^^^^^^^^^^^^^^^^^^^^^^\n",
            "  File \"/usr/local/lib/python3.11/dist-packages/sqlalchemy/engine/base.py\", line 1843, in _execute_context\n",
            "    return self._exec_single_context(\n",
            "           ^^^^^^^^^^^^^^^^^^^^^^^^^^\n",
            "  File \"/usr/local/lib/python3.11/dist-packages/sqlalchemy/engine/base.py\", line 1983, in _exec_single_context\n",
            "    self._handle_dbapi_exception(\n",
            "  File \"/usr/local/lib/python3.11/dist-packages/sqlalchemy/engine/base.py\", line 2355, in _handle_dbapi_exception\n",
            "    raise exc_info[1].with_traceback(exc_info[2])\n",
            "  File \"/usr/local/lib/python3.11/dist-packages/sqlalchemy/engine/base.py\", line 1964, in _exec_single_context\n",
            "    self.dialect.do_execute(\n",
            "  File \"/usr/local/lib/python3.11/dist-packages/sqlalchemy/engine/default.py\", line 942, in do_execute\n",
            "    cursor.execute(statement, parameters)\n",
            "  File \"/usr/local/lib/python3.11/dist-packages/sqlalchemy/dialects/mysql/aiomysql.py\", line 97, in execute\n",
            "    return self.await_(self._execute_async(operation, parameters))\n",
            "           ^^^^^^^^^^^^^^^^^^^^^^^^^^^^^^^^^^^^^^^^^^^^^^^^^^^^^^^\n",
            "  File \"/usr/local/lib/python3.11/dist-packages/sqlalchemy/util/_concurrency_py3k.py\", line 132, in await_only\n",
            "    return current.parent.switch(awaitable)  # type: ignore[no-any-return,attr-defined] # noqa: E501\n",
            "           ^^^^^^^^^^^^^^^^^^^^^^^^^^^^^^^^\n",
            "  File \"/usr/local/lib/python3.11/dist-packages/sqlalchemy/util/_concurrency_py3k.py\", line 196, in greenlet_spawn\n",
            "    value = await result\n",
            "            ^^^^^^^^^^^^\n",
            "  File \"/usr/local/lib/python3.11/dist-packages/sqlalchemy/dialects/mysql/aiomysql.py\", line 106, in _execute_async\n",
            "    result = await self._cursor.execute(operation, parameters)\n",
            "             ^^^^^^^^^^^^^^^^^^^^^^^^^^^^^^^^^^^^^^^^^^^^^^^^^\n",
            "  File \"/usr/local/lib/python3.11/dist-packages/aiomysql/cursors.py\", line 239, in execute\n",
            "    await self._query(query)\n",
            "  File \"/usr/local/lib/python3.11/dist-packages/aiomysql/cursors.py\", line 457, in _query\n",
            "    await conn.query(q)\n",
            "  File \"/usr/local/lib/python3.11/dist-packages/aiomysql/connection.py\", line 469, in query\n",
            "    await self._read_query_result(unbuffered=unbuffered)\n",
            "  File \"/usr/local/lib/python3.11/dist-packages/aiomysql/connection.py\", line 683, in _read_query_result\n",
            "    await result.read()\n",
            "  File \"/usr/local/lib/python3.11/dist-packages/aiomysql/connection.py\", line 1164, in read\n",
            "    first_packet = await self.connection._read_packet()\n",
            "                   ^^^^^^^^^^^^^^^^^^^^^^^^^^^^^^^^^^^^\n",
            "  File \"/usr/local/lib/python3.11/dist-packages/aiomysql/connection.py\", line 609, in _read_packet\n",
            "    packet_header = await self._read_bytes(4)\n",
            "                    ^^^^^^^^^^^^^^^^^^^^^^^^^\n",
            "  File \"/usr/local/lib/python3.11/dist-packages/aiomysql/connection.py\", line 657, in _read_bytes\n",
            "    data = await self._reader.readexactly(num_bytes)\n",
            "           ^^^^^^^^^^^^^^^^^^^^^^^^^^^^^^^^^^^^^^^^^\n",
            "  File \"/usr/lib/python3.11/asyncio/streams.py\", line 750, in readexactly\n",
            "    await self._wait_for_data('readexactly')\n",
            "  File \"/usr/lib/python3.11/asyncio/streams.py\", line 543, in _wait_for_data\n",
            "    await self._waiter\n",
            "RuntimeError: Task <Task pending name='Task-1995' coro=<parse_question() running at <ipython-input-12-fa7a0aee7706>:10> cb=[Task.task_wakeup()]> got Future <Future pending> attached to a different loop\n",
            "\n",
            "During handling of the above exception, another exception occurred:\n",
            "\n",
            "Traceback (most recent call last):\n",
            "  File \"/usr/local/lib/python3.11/dist-packages/flask/app.py\", line 1511, in wsgi_app\n",
            "    response = self.full_dispatch_request()\n",
            "               ^^^^^^^^^^^^^^^^^^^^^^^^^^^^\n",
            "  File \"/usr/local/lib/python3.11/dist-packages/flask/app.py\", line 919, in full_dispatch_request\n",
            "    rv = self.handle_user_exception(e)\n",
            "         ^^^^^^^^^^^^^^^^^^^^^^^^^^^^^\n",
            "  File \"/usr/local/lib/python3.11/dist-packages/flask_cors/extension.py\", line 194, in wrapped_function\n",
            "    return cors_after_request(app.make_response(f(*args, **kwargs)))\n",
            "                                                ^^^^^^^^^^^^^^^^^^\n",
            "  File \"/usr/local/lib/python3.11/dist-packages/flask/app.py\", line 917, in full_dispatch_request\n",
            "    rv = self.dispatch_request()\n",
            "         ^^^^^^^^^^^^^^^^^^^^^^^\n",
            "  File \"/usr/local/lib/python3.11/dist-packages/flask/app.py\", line 902, in dispatch_request\n",
            "    return self.ensure_sync(self.view_functions[rule.endpoint])(**view_args)  # type: ignore[no-any-return]\n",
            "           ^^^^^^^^^^^^^^^^^^^^^^^^^^^^^^^^^^^^^^^^^^^^^^^^^^^^^^^^^^^^^^^^^\n",
            "  File \"<ipython-input-67-29875ed07a0a>\", line 18, in dashboard_agent\n",
            "    result = asyncio.run(runnable.ainvoke({\"question\": question, \"diagnostic_id\": \"670d7bb908cd96a9c3b69aaf\"}))\n",
            "             ^^^^^^^^^^^^^^^^^^^^^^^^^^^^^^^^^^^^^^^^^^^^^^^^^^^^^^^^^^^^^^^^^^^^^^^^^^^^^^^^^^^^^^^^^^^^^^^^^^\n",
            "  File \"/usr/lib/python3.11/asyncio/runners.py\", line 190, in run\n",
            "    return runner.run(main)\n",
            "           ^^^^^^^^^^^^^^^^\n",
            "  File \"/usr/lib/python3.11/asyncio/runners.py\", line 118, in run\n",
            "    return self._loop.run_until_complete(task)\n",
            "           ^^^^^^^^^^^^^^^^^^^^^^^^^^^^^^^^^^^\n",
            "  File \"/usr/lib/python3.11/asyncio/base_events.py\", line 654, in run_until_complete\n",
            "    return future.result()\n",
            "           ^^^^^^^^^^^^^^^\n",
            "  File \"/usr/local/lib/python3.11/dist-packages/langgraph/pregel/__init__.py\", line 2122, in ainvoke\n",
            "    async for chunk in self.astream(\n",
            "  File \"/usr/local/lib/python3.11/dist-packages/langgraph/pregel/__init__.py\", line 2007, in astream\n",
            "    async for _ in runner.atick(\n",
            "  File \"/usr/local/lib/python3.11/dist-packages/langgraph/pregel/runner.py\", line 444, in atick\n",
            "    await arun_with_retry(\n",
            "  File \"/usr/local/lib/python3.11/dist-packages/langgraph/pregel/retry.py\", line 128, in arun_with_retry\n",
            "    return await task.proc.ainvoke(task.input, config)\n",
            "           ^^^^^^^^^^^^^^^^^^^^^^^^^^^^^^^^^^^^^^^^^^^\n",
            "  File \"/usr/local/lib/python3.11/dist-packages/langgraph/utils/runnable.py\", line 543, in ainvoke\n",
            "    input = await step.ainvoke(input, config, **kwargs)\n",
            "            ^^^^^^^^^^^^^^^^^^^^^^^^^^^^^^^^^^^^^^^^^^^\n",
            "  File \"/usr/local/lib/python3.11/dist-packages/langgraph/utils/runnable.py\", line 331, in ainvoke\n",
            "    ret = await asyncio.create_task(coro, context=context)\n",
            "          ^^^^^^^^^^^^^^^^^^^^^^^^^^^^^^^^^^^^^^^^^^^^^^^^\n",
            "  File \"<ipython-input-12-fa7a0aee7706>\", line 10, in parse_question\n",
            "    schema = await db_manager.get_schema()\n",
            "             ^^^^^^^^^^^^^^^^^^^^^^^^^^^^^\n",
            "  File \"<ipython-input-9-91afecc331e2>\", line 20, in get_schema\n",
            "    async with self.engine.begin() as conn:\n",
            "  File \"/usr/lib/python3.11/contextlib.py\", line 231, in __aexit__\n",
            "    await self.gen.athrow(typ, value, traceback)\n",
            "  File \"/usr/local/lib/python3.11/dist-packages/sqlalchemy/ext/asyncio/engine.py\", line 1065, in begin\n",
            "    async with conn.begin():\n",
            "  File \"/usr/local/lib/python3.11/dist-packages/sqlalchemy/util/_concurrency_py3k.py\", line 201, in greenlet_spawn\n",
            "    result = context.throw(*sys.exc_info())\n",
            "             ^^^^^^^^^^^^^^^^^^^^^^^^^^^^^^\n",
            "  File \"/usr/local/lib/python3.11/dist-packages/sqlalchemy/engine/util.py\", line 162, in __exit__\n",
            "    self.rollback()\n",
            "  File \"/usr/local/lib/python3.11/dist-packages/sqlalchemy/engine/base.py\", line 2608, in rollback\n",
            "    self._do_rollback()\n",
            "  File \"/usr/local/lib/python3.11/dist-packages/sqlalchemy/engine/base.py\", line 2727, in _do_rollback\n",
            "    self._close_impl(try_deactivate=True)\n",
            "  File \"/usr/local/lib/python3.11/dist-packages/sqlalchemy/engine/base.py\", line 2710, in _close_impl\n",
            "    self._connection_rollback_impl()\n",
            "  File \"/usr/local/lib/python3.11/dist-packages/sqlalchemy/engine/base.py\", line 2702, in _connection_rollback_impl\n",
            "    self.connection._rollback_impl()\n",
            "  File \"/usr/local/lib/python3.11/dist-packages/sqlalchemy/engine/base.py\", line 1127, in _rollback_impl\n",
            "    self._handle_dbapi_exception(e, None, None, None, None)\n",
            "  File \"/usr/local/lib/python3.11/dist-packages/sqlalchemy/engine/base.py\", line 2355, in _handle_dbapi_exception\n",
            "    raise exc_info[1].with_traceback(exc_info[2])\n",
            "  File \"/usr/local/lib/python3.11/dist-packages/sqlalchemy/engine/base.py\", line 1125, in _rollback_impl\n",
            "    self.engine.dialect.do_rollback(self.connection)\n",
            "  File \"/usr/local/lib/python3.11/dist-packages/sqlalchemy/engine/default.py\", line 700, in do_rollback\n",
            "    dbapi_connection.rollback()\n",
            "  File \"/usr/local/lib/python3.11/dist-packages/sqlalchemy/dialects/mysql/aiomysql.py\", line 203, in rollback\n",
            "    self.await_(self._connection.rollback())\n",
            "  File \"/usr/local/lib/python3.11/dist-packages/sqlalchemy/util/_concurrency_py3k.py\", line 132, in await_only\n",
            "    return current.parent.switch(awaitable)  # type: ignore[no-any-return,attr-defined] # noqa: E501\n",
            "           ^^^^^^^^^^^^^^^^^^^^^^^^^^^^^^^^\n",
            "  File \"/usr/local/lib/python3.11/dist-packages/sqlalchemy/util/_concurrency_py3k.py\", line 196, in greenlet_spawn\n",
            "    value = await result\n",
            "            ^^^^^^^^^^^^\n",
            "  File \"/usr/local/lib/python3.11/dist-packages/aiomysql/connection.py\", line 399, in rollback\n",
            "    await self._read_ok_packet()\n",
            "  File \"/usr/local/lib/python3.11/dist-packages/aiomysql/connection.py\", line 372, in _read_ok_packet\n",
            "    pkt = await self._read_packet()\n",
            "          ^^^^^^^^^^^^^^^^^^^^^^^^^\n",
            "  File \"/usr/local/lib/python3.11/dist-packages/aiomysql/connection.py\", line 609, in _read_packet\n",
            "    packet_header = await self._read_bytes(4)\n",
            "                    ^^^^^^^^^^^^^^^^^^^^^^^^^\n",
            "  File \"/usr/local/lib/python3.11/dist-packages/aiomysql/connection.py\", line 657, in _read_bytes\n",
            "    data = await self._reader.readexactly(num_bytes)\n",
            "           ^^^^^^^^^^^^^^^^^^^^^^^^^^^^^^^^^^^^^^^^^\n",
            "  File \"/usr/lib/python3.11/asyncio/streams.py\", line 750, in readexactly\n",
            "    await self._wait_for_data('readexactly')\n",
            "  File \"/usr/lib/python3.11/asyncio/streams.py\", line 543, in _wait_for_data\n",
            "    await self._waiter\n",
            "RuntimeError: Task <Task pending name='Task-1995' coro=<parse_question() running at <ipython-input-12-fa7a0aee7706>:10> cb=[Task.task_wakeup()]> got Future <Future pending> attached to a different loop\n",
            "During task with name 'parse_question' and id 'b8857b16-fc0f-619b-0f16-8fb64a63270f'\n",
            "INFO:werkzeug:127.0.0.1 - - [10/Feb/2025 15:03:11] \"\u001b[35m\u001b[1mPOST /dashboardAgent HTTP/1.1\u001b[0m\" 500 -\n",
            "INFO:werkzeug:127.0.0.1 - - [10/Feb/2025 15:03:27] \"OPTIONS /dashboardAgent HTTP/1.1\" 200 -\n",
            "INFO:werkzeug:127.0.0.1 - - [10/Feb/2025 15:03:27] \"OPTIONS /dashboardAgent HTTP/1.1\" 200 -\n"
          ]
        },
        {
          "output_type": "stream",
          "name": "stdout",
          "text": [
            "2025-02-10 15:03:29,320 INFO sqlalchemy.engine.Engine BEGIN (implicit)\n"
          ]
        },
        {
          "output_type": "stream",
          "name": "stderr",
          "text": [
            "INFO:sqlalchemy.engine.Engine:BEGIN (implicit)\n"
          ]
        },
        {
          "output_type": "stream",
          "name": "stdout",
          "text": [
            "2025-02-10 15:03:29,324 INFO sqlalchemy.engine.Engine SHOW FULL TABLES FROM \"defaultdb\"\n"
          ]
        },
        {
          "output_type": "stream",
          "name": "stderr",
          "text": [
            "INFO:sqlalchemy.engine.Engine:SHOW FULL TABLES FROM \"defaultdb\"\n"
          ]
        },
        {
          "output_type": "stream",
          "name": "stdout",
          "text": [
            "2025-02-10 15:03:29,332 INFO sqlalchemy.engine.Engine [raw sql] ()\n"
          ]
        },
        {
          "output_type": "stream",
          "name": "stderr",
          "text": [
            "INFO:sqlalchemy.engine.Engine:[raw sql] ()\n"
          ]
        },
        {
          "output_type": "stream",
          "name": "stdout",
          "text": [
            "2025-02-10 15:03:29,335 INFO sqlalchemy.engine.Engine BEGIN (implicit)\n"
          ]
        },
        {
          "output_type": "stream",
          "name": "stderr",
          "text": [
            "INFO:sqlalchemy.engine.Engine:BEGIN (implicit)\n"
          ]
        },
        {
          "output_type": "stream",
          "name": "stdout",
          "text": [
            "2025-02-10 15:03:29,338 INFO sqlalchemy.engine.Engine SHOW FULL TABLES FROM \"defaultdb\"\n"
          ]
        },
        {
          "output_type": "stream",
          "name": "stderr",
          "text": [
            "INFO:sqlalchemy.engine.Engine:SHOW FULL TABLES FROM \"defaultdb\"\n"
          ]
        },
        {
          "output_type": "stream",
          "name": "stdout",
          "text": [
            "2025-02-10 15:03:29,349 INFO sqlalchemy.engine.Engine [raw sql] ()\n"
          ]
        },
        {
          "output_type": "stream",
          "name": "stderr",
          "text": [
            "INFO:sqlalchemy.engine.Engine:[raw sql] ()\n"
          ]
        },
        {
          "output_type": "stream",
          "name": "stdout",
          "text": [
            "2025-02-10 15:03:29,576 INFO sqlalchemy.engine.Engine SHOW CREATE TABLE \"SequelizeMeta\"\n"
          ]
        },
        {
          "output_type": "stream",
          "name": "stderr",
          "text": [
            "INFO:sqlalchemy.engine.Engine:SHOW CREATE TABLE \"SequelizeMeta\"\n"
          ]
        },
        {
          "output_type": "stream",
          "name": "stdout",
          "text": [
            "2025-02-10 15:03:29,578 INFO sqlalchemy.engine.Engine [raw sql] ()\n"
          ]
        },
        {
          "output_type": "stream",
          "name": "stderr",
          "text": [
            "INFO:sqlalchemy.engine.Engine:[raw sql] ()\n"
          ]
        },
        {
          "output_type": "stream",
          "name": "stdout",
          "text": [
            "2025-02-10 15:03:29,592 INFO sqlalchemy.engine.Engine SHOW CREATE TABLE \"SequelizeMeta\"\n"
          ]
        },
        {
          "output_type": "stream",
          "name": "stderr",
          "text": [
            "INFO:sqlalchemy.engine.Engine:SHOW CREATE TABLE \"SequelizeMeta\"\n"
          ]
        },
        {
          "output_type": "stream",
          "name": "stdout",
          "text": [
            "2025-02-10 15:03:29,596 INFO sqlalchemy.engine.Engine [raw sql] ()\n"
          ]
        },
        {
          "output_type": "stream",
          "name": "stderr",
          "text": [
            "INFO:sqlalchemy.engine.Engine:[raw sql] ()\n"
          ]
        },
        {
          "output_type": "stream",
          "name": "stdout",
          "text": [
            "2025-02-10 15:03:29,821 INFO sqlalchemy.engine.Engine SHOW CREATE TABLE \"candidate_data\"\n"
          ]
        },
        {
          "output_type": "stream",
          "name": "stderr",
          "text": [
            "INFO:sqlalchemy.engine.Engine:SHOW CREATE TABLE \"candidate_data\"\n"
          ]
        },
        {
          "output_type": "stream",
          "name": "stdout",
          "text": [
            "2025-02-10 15:03:29,824 INFO sqlalchemy.engine.Engine [raw sql] ()\n"
          ]
        },
        {
          "output_type": "stream",
          "name": "stderr",
          "text": [
            "INFO:sqlalchemy.engine.Engine:[raw sql] ()\n"
          ]
        },
        {
          "output_type": "stream",
          "name": "stdout",
          "text": [
            "2025-02-10 15:03:29,838 INFO sqlalchemy.engine.Engine SHOW CREATE TABLE \"candidate_data\"\n"
          ]
        },
        {
          "output_type": "stream",
          "name": "stderr",
          "text": [
            "INFO:sqlalchemy.engine.Engine:SHOW CREATE TABLE \"candidate_data\"\n"
          ]
        },
        {
          "output_type": "stream",
          "name": "stdout",
          "text": [
            "2025-02-10 15:03:29,840 INFO sqlalchemy.engine.Engine [raw sql] ()\n"
          ]
        },
        {
          "output_type": "stream",
          "name": "stderr",
          "text": [
            "INFO:sqlalchemy.engine.Engine:[raw sql] ()\n"
          ]
        },
        {
          "output_type": "stream",
          "name": "stdout",
          "text": [
            "2025-02-10 15:03:30,067 INFO sqlalchemy.engine.Engine SHOW CREATE TABLE \"candidate_demographics\"\n"
          ]
        },
        {
          "output_type": "stream",
          "name": "stderr",
          "text": [
            "INFO:sqlalchemy.engine.Engine:SHOW CREATE TABLE \"candidate_demographics\"\n"
          ]
        },
        {
          "output_type": "stream",
          "name": "stdout",
          "text": [
            "2025-02-10 15:03:30,071 INFO sqlalchemy.engine.Engine [raw sql] ()\n"
          ]
        },
        {
          "output_type": "stream",
          "name": "stderr",
          "text": [
            "INFO:sqlalchemy.engine.Engine:[raw sql] ()\n"
          ]
        },
        {
          "output_type": "stream",
          "name": "stdout",
          "text": [
            "2025-02-10 15:03:30,083 INFO sqlalchemy.engine.Engine SHOW CREATE TABLE \"candidate_demographics\"\n"
          ]
        },
        {
          "output_type": "stream",
          "name": "stderr",
          "text": [
            "INFO:sqlalchemy.engine.Engine:SHOW CREATE TABLE \"candidate_demographics\"\n"
          ]
        },
        {
          "output_type": "stream",
          "name": "stdout",
          "text": [
            "2025-02-10 15:03:30,087 INFO sqlalchemy.engine.Engine [raw sql] ()\n"
          ]
        },
        {
          "output_type": "stream",
          "name": "stderr",
          "text": [
            "INFO:sqlalchemy.engine.Engine:[raw sql] ()\n"
          ]
        },
        {
          "output_type": "stream",
          "name": "stdout",
          "text": [
            "2025-02-10 15:03:30,314 INFO sqlalchemy.engine.Engine SHOW CREATE TABLE \"csrpartner_data\"\n"
          ]
        },
        {
          "output_type": "stream",
          "name": "stderr",
          "text": [
            "INFO:sqlalchemy.engine.Engine:SHOW CREATE TABLE \"csrpartner_data\"\n"
          ]
        },
        {
          "output_type": "stream",
          "name": "stdout",
          "text": [
            "2025-02-10 15:03:30,318 INFO sqlalchemy.engine.Engine [raw sql] ()\n"
          ]
        },
        {
          "output_type": "stream",
          "name": "stderr",
          "text": [
            "INFO:sqlalchemy.engine.Engine:[raw sql] ()\n"
          ]
        },
        {
          "output_type": "stream",
          "name": "stdout",
          "text": [
            "2025-02-10 15:03:30,330 INFO sqlalchemy.engine.Engine SHOW CREATE TABLE \"csrpartner_data\"\n"
          ]
        },
        {
          "output_type": "stream",
          "name": "stderr",
          "text": [
            "INFO:sqlalchemy.engine.Engine:SHOW CREATE TABLE \"csrpartner_data\"\n"
          ]
        },
        {
          "output_type": "stream",
          "name": "stdout",
          "text": [
            "2025-02-10 15:03:30,334 INFO sqlalchemy.engine.Engine [raw sql] ()\n"
          ]
        },
        {
          "output_type": "stream",
          "name": "stderr",
          "text": [
            "INFO:sqlalchemy.engine.Engine:[raw sql] ()\n"
          ]
        },
        {
          "output_type": "stream",
          "name": "stdout",
          "text": [
            "2025-02-10 15:03:30,564 INFO sqlalchemy.engine.Engine SHOW CREATE TABLE \"csrpartner_demographics\"\n"
          ]
        },
        {
          "output_type": "stream",
          "name": "stderr",
          "text": [
            "INFO:sqlalchemy.engine.Engine:SHOW CREATE TABLE \"csrpartner_demographics\"\n"
          ]
        },
        {
          "output_type": "stream",
          "name": "stdout",
          "text": [
            "2025-02-10 15:03:30,567 INFO sqlalchemy.engine.Engine [raw sql] ()\n"
          ]
        },
        {
          "output_type": "stream",
          "name": "stderr",
          "text": [
            "INFO:sqlalchemy.engine.Engine:[raw sql] ()\n"
          ]
        },
        {
          "output_type": "stream",
          "name": "stdout",
          "text": [
            "2025-02-10 15:03:30,578 INFO sqlalchemy.engine.Engine SHOW CREATE TABLE \"csrpartner_demographics\"\n"
          ]
        },
        {
          "output_type": "stream",
          "name": "stderr",
          "text": [
            "INFO:sqlalchemy.engine.Engine:SHOW CREATE TABLE \"csrpartner_demographics\"\n"
          ]
        },
        {
          "output_type": "stream",
          "name": "stdout",
          "text": [
            "2025-02-10 15:03:30,583 INFO sqlalchemy.engine.Engine [raw sql] ()\n"
          ]
        },
        {
          "output_type": "stream",
          "name": "stderr",
          "text": [
            "INFO:sqlalchemy.engine.Engine:[raw sql] ()\n"
          ]
        },
        {
          "output_type": "stream",
          "name": "stdout",
          "text": [
            "2025-02-10 15:03:30,811 INFO sqlalchemy.engine.Engine SHOW CREATE TABLE \"customer_data\"\n"
          ]
        },
        {
          "output_type": "stream",
          "name": "stderr",
          "text": [
            "INFO:sqlalchemy.engine.Engine:SHOW CREATE TABLE \"customer_data\"\n"
          ]
        },
        {
          "output_type": "stream",
          "name": "stdout",
          "text": [
            "2025-02-10 15:03:30,815 INFO sqlalchemy.engine.Engine [raw sql] ()\n"
          ]
        },
        {
          "output_type": "stream",
          "name": "stderr",
          "text": [
            "INFO:sqlalchemy.engine.Engine:[raw sql] ()\n"
          ]
        },
        {
          "output_type": "stream",
          "name": "stdout",
          "text": [
            "2025-02-10 15:03:30,827 INFO sqlalchemy.engine.Engine SHOW CREATE TABLE \"customer_data\"\n"
          ]
        },
        {
          "output_type": "stream",
          "name": "stderr",
          "text": [
            "INFO:sqlalchemy.engine.Engine:SHOW CREATE TABLE \"customer_data\"\n"
          ]
        },
        {
          "output_type": "stream",
          "name": "stdout",
          "text": [
            "2025-02-10 15:03:30,829 INFO sqlalchemy.engine.Engine [raw sql] ()\n"
          ]
        },
        {
          "output_type": "stream",
          "name": "stderr",
          "text": [
            "INFO:sqlalchemy.engine.Engine:[raw sql] ()\n"
          ]
        },
        {
          "output_type": "stream",
          "name": "stdout",
          "text": [
            "2025-02-10 15:03:31,062 INFO sqlalchemy.engine.Engine SHOW CREATE TABLE \"customer_demographics\"\n"
          ]
        },
        {
          "output_type": "stream",
          "name": "stderr",
          "text": [
            "INFO:sqlalchemy.engine.Engine:SHOW CREATE TABLE \"customer_demographics\"\n"
          ]
        },
        {
          "output_type": "stream",
          "name": "stdout",
          "text": [
            "2025-02-10 15:03:31,065 INFO sqlalchemy.engine.Engine [raw sql] ()\n"
          ]
        },
        {
          "output_type": "stream",
          "name": "stderr",
          "text": [
            "INFO:sqlalchemy.engine.Engine:[raw sql] ()\n"
          ]
        },
        {
          "output_type": "stream",
          "name": "stdout",
          "text": [
            "2025-02-10 15:03:31,076 INFO sqlalchemy.engine.Engine SHOW CREATE TABLE \"customer_demographics\"\n"
          ]
        },
        {
          "output_type": "stream",
          "name": "stderr",
          "text": [
            "INFO:sqlalchemy.engine.Engine:SHOW CREATE TABLE \"customer_demographics\"\n"
          ]
        },
        {
          "output_type": "stream",
          "name": "stdout",
          "text": [
            "2025-02-10 15:03:31,079 INFO sqlalchemy.engine.Engine [raw sql] ()\n"
          ]
        },
        {
          "output_type": "stream",
          "name": "stderr",
          "text": [
            "INFO:sqlalchemy.engine.Engine:[raw sql] ()\n"
          ]
        },
        {
          "output_type": "stream",
          "name": "stdout",
          "text": [
            "2025-02-10 15:03:31,309 INFO sqlalchemy.engine.Engine SHOW CREATE TABLE \"employee_data\"\n"
          ]
        },
        {
          "output_type": "stream",
          "name": "stderr",
          "text": [
            "INFO:sqlalchemy.engine.Engine:SHOW CREATE TABLE \"employee_data\"\n"
          ]
        },
        {
          "output_type": "stream",
          "name": "stdout",
          "text": [
            "2025-02-10 15:03:31,312 INFO sqlalchemy.engine.Engine [raw sql] ()\n"
          ]
        },
        {
          "output_type": "stream",
          "name": "stderr",
          "text": [
            "INFO:sqlalchemy.engine.Engine:[raw sql] ()\n"
          ]
        },
        {
          "output_type": "stream",
          "name": "stdout",
          "text": [
            "2025-02-10 15:03:31,324 INFO sqlalchemy.engine.Engine SHOW CREATE TABLE \"employee_data\"\n"
          ]
        },
        {
          "output_type": "stream",
          "name": "stderr",
          "text": [
            "INFO:sqlalchemy.engine.Engine:SHOW CREATE TABLE \"employee_data\"\n"
          ]
        },
        {
          "output_type": "stream",
          "name": "stdout",
          "text": [
            "2025-02-10 15:03:31,327 INFO sqlalchemy.engine.Engine [raw sql] ()\n"
          ]
        },
        {
          "output_type": "stream",
          "name": "stderr",
          "text": [
            "INFO:sqlalchemy.engine.Engine:[raw sql] ()\n"
          ]
        },
        {
          "output_type": "stream",
          "name": "stdout",
          "text": [
            "2025-02-10 15:03:31,555 INFO sqlalchemy.engine.Engine SHOW CREATE TABLE \"employee_demographics\"\n"
          ]
        },
        {
          "output_type": "stream",
          "name": "stderr",
          "text": [
            "INFO:sqlalchemy.engine.Engine:SHOW CREATE TABLE \"employee_demographics\"\n"
          ]
        },
        {
          "output_type": "stream",
          "name": "stdout",
          "text": [
            "2025-02-10 15:03:31,558 INFO sqlalchemy.engine.Engine [raw sql] ()\n"
          ]
        },
        {
          "output_type": "stream",
          "name": "stderr",
          "text": [
            "INFO:sqlalchemy.engine.Engine:[raw sql] ()\n"
          ]
        },
        {
          "output_type": "stream",
          "name": "stdout",
          "text": [
            "2025-02-10 15:03:31,570 INFO sqlalchemy.engine.Engine SHOW CREATE TABLE \"employee_demographics\"\n"
          ]
        },
        {
          "output_type": "stream",
          "name": "stderr",
          "text": [
            "INFO:sqlalchemy.engine.Engine:SHOW CREATE TABLE \"employee_demographics\"\n"
          ]
        },
        {
          "output_type": "stream",
          "name": "stdout",
          "text": [
            "2025-02-10 15:03:31,573 INFO sqlalchemy.engine.Engine [raw sql] ()\n"
          ]
        },
        {
          "output_type": "stream",
          "name": "stderr",
          "text": [
            "INFO:sqlalchemy.engine.Engine:[raw sql] ()\n"
          ]
        },
        {
          "output_type": "stream",
          "name": "stdout",
          "text": [
            "2025-02-10 15:03:31,805 INFO sqlalchemy.engine.Engine SHOW CREATE TABLE \"investor_data\"\n"
          ]
        },
        {
          "output_type": "stream",
          "name": "stderr",
          "text": [
            "INFO:sqlalchemy.engine.Engine:SHOW CREATE TABLE \"investor_data\"\n"
          ]
        },
        {
          "output_type": "stream",
          "name": "stdout",
          "text": [
            "2025-02-10 15:03:31,809 INFO sqlalchemy.engine.Engine [raw sql] ()\n"
          ]
        },
        {
          "output_type": "stream",
          "name": "stderr",
          "text": [
            "INFO:sqlalchemy.engine.Engine:[raw sql] ()\n"
          ]
        },
        {
          "output_type": "stream",
          "name": "stdout",
          "text": [
            "2025-02-10 15:03:31,818 INFO sqlalchemy.engine.Engine SHOW CREATE TABLE \"investor_data\"\n"
          ]
        },
        {
          "output_type": "stream",
          "name": "stderr",
          "text": [
            "INFO:sqlalchemy.engine.Engine:SHOW CREATE TABLE \"investor_data\"\n"
          ]
        },
        {
          "output_type": "stream",
          "name": "stdout",
          "text": [
            "2025-02-10 15:03:31,820 INFO sqlalchemy.engine.Engine [raw sql] ()\n"
          ]
        },
        {
          "output_type": "stream",
          "name": "stderr",
          "text": [
            "INFO:sqlalchemy.engine.Engine:[raw sql] ()\n"
          ]
        },
        {
          "output_type": "stream",
          "name": "stdout",
          "text": [
            "2025-02-10 15:03:32,054 INFO sqlalchemy.engine.Engine SHOW CREATE TABLE \"investor_demographics\"\n"
          ]
        },
        {
          "output_type": "stream",
          "name": "stderr",
          "text": [
            "INFO:sqlalchemy.engine.Engine:SHOW CREATE TABLE \"investor_demographics\"\n"
          ]
        },
        {
          "output_type": "stream",
          "name": "stdout",
          "text": [
            "2025-02-10 15:03:32,056 INFO sqlalchemy.engine.Engine [raw sql] ()\n"
          ]
        },
        {
          "output_type": "stream",
          "name": "stderr",
          "text": [
            "INFO:sqlalchemy.engine.Engine:[raw sql] ()\n"
          ]
        },
        {
          "output_type": "stream",
          "name": "stdout",
          "text": [
            "2025-02-10 15:03:32,062 INFO sqlalchemy.engine.Engine SHOW CREATE TABLE \"investor_demographics\"\n"
          ]
        },
        {
          "output_type": "stream",
          "name": "stderr",
          "text": [
            "INFO:sqlalchemy.engine.Engine:SHOW CREATE TABLE \"investor_demographics\"\n"
          ]
        },
        {
          "output_type": "stream",
          "name": "stdout",
          "text": [
            "2025-02-10 15:03:32,067 INFO sqlalchemy.engine.Engine [raw sql] ()\n"
          ]
        },
        {
          "output_type": "stream",
          "name": "stderr",
          "text": [
            "INFO:sqlalchemy.engine.Engine:[raw sql] ()\n"
          ]
        },
        {
          "output_type": "stream",
          "name": "stdout",
          "text": [
            "2025-02-10 15:03:32,299 INFO sqlalchemy.engine.Engine SHOW CREATE TABLE \"partner_data\"\n"
          ]
        },
        {
          "output_type": "stream",
          "name": "stderr",
          "text": [
            "INFO:sqlalchemy.engine.Engine:SHOW CREATE TABLE \"partner_data\"\n"
          ]
        },
        {
          "output_type": "stream",
          "name": "stdout",
          "text": [
            "2025-02-10 15:03:32,302 INFO sqlalchemy.engine.Engine [raw sql] ()\n"
          ]
        },
        {
          "output_type": "stream",
          "name": "stderr",
          "text": [
            "INFO:sqlalchemy.engine.Engine:[raw sql] ()\n"
          ]
        },
        {
          "output_type": "stream",
          "name": "stdout",
          "text": [
            "2025-02-10 15:03:32,313 INFO sqlalchemy.engine.Engine SHOW CREATE TABLE \"partner_data\"\n"
          ]
        },
        {
          "output_type": "stream",
          "name": "stderr",
          "text": [
            "INFO:sqlalchemy.engine.Engine:SHOW CREATE TABLE \"partner_data\"\n"
          ]
        },
        {
          "output_type": "stream",
          "name": "stdout",
          "text": [
            "2025-02-10 15:03:32,315 INFO sqlalchemy.engine.Engine [raw sql] ()\n"
          ]
        },
        {
          "output_type": "stream",
          "name": "stderr",
          "text": [
            "INFO:sqlalchemy.engine.Engine:[raw sql] ()\n"
          ]
        },
        {
          "output_type": "stream",
          "name": "stdout",
          "text": [
            "2025-02-10 15:03:32,548 INFO sqlalchemy.engine.Engine SHOW CREATE TABLE \"partner_demographics\"\n"
          ]
        },
        {
          "output_type": "stream",
          "name": "stderr",
          "text": [
            "INFO:sqlalchemy.engine.Engine:SHOW CREATE TABLE \"partner_demographics\"\n"
          ]
        },
        {
          "output_type": "stream",
          "name": "stdout",
          "text": [
            "2025-02-10 15:03:32,550 INFO sqlalchemy.engine.Engine [raw sql] ()\n"
          ]
        },
        {
          "output_type": "stream",
          "name": "stderr",
          "text": [
            "INFO:sqlalchemy.engine.Engine:[raw sql] ()\n"
          ]
        },
        {
          "output_type": "stream",
          "name": "stdout",
          "text": [
            "2025-02-10 15:03:32,558 INFO sqlalchemy.engine.Engine SHOW CREATE TABLE \"partner_demographics\"\n"
          ]
        },
        {
          "output_type": "stream",
          "name": "stderr",
          "text": [
            "INFO:sqlalchemy.engine.Engine:SHOW CREATE TABLE \"partner_demographics\"\n"
          ]
        },
        {
          "output_type": "stream",
          "name": "stdout",
          "text": [
            "2025-02-10 15:03:32,562 INFO sqlalchemy.engine.Engine [raw sql] ()\n"
          ]
        },
        {
          "output_type": "stream",
          "name": "stderr",
          "text": [
            "INFO:sqlalchemy.engine.Engine:[raw sql] ()\n"
          ]
        },
        {
          "output_type": "stream",
          "name": "stdout",
          "text": [
            "2025-02-10 15:03:32,795 INFO sqlalchemy.engine.Engine SHOW CREATE TABLE \"vendor_data\"\n"
          ]
        },
        {
          "output_type": "stream",
          "name": "stderr",
          "text": [
            "INFO:sqlalchemy.engine.Engine:SHOW CREATE TABLE \"vendor_data\"\n"
          ]
        },
        {
          "output_type": "stream",
          "name": "stdout",
          "text": [
            "2025-02-10 15:03:32,800 INFO sqlalchemy.engine.Engine [raw sql] ()\n"
          ]
        },
        {
          "output_type": "stream",
          "name": "stderr",
          "text": [
            "INFO:sqlalchemy.engine.Engine:[raw sql] ()\n"
          ]
        },
        {
          "output_type": "stream",
          "name": "stdout",
          "text": [
            "2025-02-10 15:03:32,804 INFO sqlalchemy.engine.Engine SHOW CREATE TABLE \"vendor_data\"\n"
          ]
        },
        {
          "output_type": "stream",
          "name": "stderr",
          "text": [
            "INFO:sqlalchemy.engine.Engine:SHOW CREATE TABLE \"vendor_data\"\n"
          ]
        },
        {
          "output_type": "stream",
          "name": "stdout",
          "text": [
            "2025-02-10 15:03:32,808 INFO sqlalchemy.engine.Engine [raw sql] ()\n"
          ]
        },
        {
          "output_type": "stream",
          "name": "stderr",
          "text": [
            "INFO:sqlalchemy.engine.Engine:[raw sql] ()\n"
          ]
        },
        {
          "output_type": "stream",
          "name": "stdout",
          "text": [
            "2025-02-10 15:03:33,042 INFO sqlalchemy.engine.Engine SHOW CREATE TABLE \"vendor_demographics\"\n"
          ]
        },
        {
          "output_type": "stream",
          "name": "stderr",
          "text": [
            "INFO:sqlalchemy.engine.Engine:SHOW CREATE TABLE \"vendor_demographics\"\n"
          ]
        },
        {
          "output_type": "stream",
          "name": "stdout",
          "text": [
            "2025-02-10 15:03:33,045 INFO sqlalchemy.engine.Engine [raw sql] ()\n"
          ]
        },
        {
          "output_type": "stream",
          "name": "stderr",
          "text": [
            "INFO:sqlalchemy.engine.Engine:[raw sql] ()\n"
          ]
        },
        {
          "output_type": "stream",
          "name": "stdout",
          "text": [
            "2025-02-10 15:03:33,050 INFO sqlalchemy.engine.Engine SHOW CREATE TABLE \"vendor_demographics\"\n"
          ]
        },
        {
          "output_type": "stream",
          "name": "stderr",
          "text": [
            "INFO:sqlalchemy.engine.Engine:SHOW CREATE TABLE \"vendor_demographics\"\n"
          ]
        },
        {
          "output_type": "stream",
          "name": "stdout",
          "text": [
            "2025-02-10 15:03:33,052 INFO sqlalchemy.engine.Engine [raw sql] ()\n"
          ]
        },
        {
          "output_type": "stream",
          "name": "stderr",
          "text": [
            "INFO:sqlalchemy.engine.Engine:[raw sql] ()\n"
          ]
        },
        {
          "output_type": "stream",
          "name": "stdout",
          "text": [
            "2025-02-10 15:03:33,290 INFO sqlalchemy.engine.Engine SELECT information_schema.columns.table_schema, information_schema.columns.table_name, information_schema.columns.column_name \n",
            "FROM information_schema.columns \n",
            "WHERE information_schema.columns.table_schema = %s AND information_schema.columns.table_name = %s AND lower(information_schema.columns.column_name) IN (%s)\n"
          ]
        },
        {
          "output_type": "stream",
          "name": "stderr",
          "text": [
            "INFO:sqlalchemy.engine.Engine:SELECT information_schema.columns.table_schema, information_schema.columns.table_name, information_schema.columns.column_name \n",
            "FROM information_schema.columns \n",
            "WHERE information_schema.columns.table_schema = %s AND information_schema.columns.table_name = %s AND lower(information_schema.columns.column_name) IN (%s)\n"
          ]
        },
        {
          "output_type": "stream",
          "name": "stdout",
          "text": [
            "2025-02-10 15:03:33,296 INFO sqlalchemy.engine.Engine SELECT information_schema.columns.table_schema, information_schema.columns.table_name, information_schema.columns.column_name \n",
            "FROM information_schema.columns \n",
            "WHERE information_schema.columns.table_schema = %s AND information_schema.columns.table_name = %s AND lower(information_schema.columns.column_name) IN (%s)\n"
          ]
        },
        {
          "output_type": "stream",
          "name": "stderr",
          "text": [
            "INFO:sqlalchemy.engine.Engine:SELECT information_schema.columns.table_schema, information_schema.columns.table_name, information_schema.columns.column_name \n",
            "FROM information_schema.columns \n",
            "WHERE information_schema.columns.table_schema = %s AND information_schema.columns.table_name = %s AND lower(information_schema.columns.column_name) IN (%s)\n"
          ]
        },
        {
          "output_type": "stream",
          "name": "stdout",
          "text": [
            "2025-02-10 15:03:33,297 INFO sqlalchemy.engine.Engine [cached since 1.863e+04s ago] ('defaultdb', 'candidate_data', 'id')\n",
            "2025-02-10 15:03:33,302 INFO sqlalchemy.engine.Engine [cached since 1.863e+04s ago] ('defaultdb', 'candidate_data', 'id')\n"
          ]
        },
        {
          "output_type": "stream",
          "name": "stderr",
          "text": [
            "INFO:sqlalchemy.engine.Engine:[cached since 1.863e+04s ago] ('defaultdb', 'candidate_data', 'id')\n",
            "INFO:sqlalchemy.engine.Engine:[cached since 1.863e+04s ago] ('defaultdb', 'candidate_data', 'id')\n"
          ]
        },
        {
          "output_type": "stream",
          "name": "stdout",
          "text": [
            "2025-02-10 15:03:33,553 INFO sqlalchemy.engine.Engine SELECT information_schema.columns.table_schema, information_schema.columns.table_name, information_schema.columns.column_name \n",
            "FROM information_schema.columns \n",
            "WHERE information_schema.columns.table_schema = %s AND information_schema.columns.table_name = %s AND lower(information_schema.columns.column_name) IN (%s)\n",
            "2025-02-10 15:03:33,554 INFO sqlalchemy.engine.Engine SELECT information_schema.columns.table_schema, information_schema.columns.table_name, information_schema.columns.column_name \n",
            "FROM information_schema.columns \n",
            "WHERE information_schema.columns.table_schema = %s AND information_schema.columns.table_name = %s AND lower(information_schema.columns.column_name) IN (%s)\n"
          ]
        },
        {
          "output_type": "stream",
          "name": "stderr",
          "text": [
            "INFO:sqlalchemy.engine.Engine:SELECT information_schema.columns.table_schema, information_schema.columns.table_name, information_schema.columns.column_name \n",
            "FROM information_schema.columns \n",
            "WHERE information_schema.columns.table_schema = %s AND information_schema.columns.table_name = %s AND lower(information_schema.columns.column_name) IN (%s)\n",
            "INFO:sqlalchemy.engine.Engine:SELECT information_schema.columns.table_schema, information_schema.columns.table_name, information_schema.columns.column_name \n",
            "FROM information_schema.columns \n",
            "WHERE information_schema.columns.table_schema = %s AND information_schema.columns.table_name = %s AND lower(information_schema.columns.column_name) IN (%s)\n"
          ]
        },
        {
          "output_type": "stream",
          "name": "stdout",
          "text": [
            "2025-02-10 15:03:33,559 INFO sqlalchemy.engine.Engine [cached since 1.863e+04s ago] ('defaultdb', 'csrpartner_data', 'id')\n",
            "2025-02-10 15:03:33,562 INFO sqlalchemy.engine.Engine [cached since 1.863e+04s ago] ('defaultdb', 'csrpartner_data', 'id')\n"
          ]
        },
        {
          "output_type": "stream",
          "name": "stderr",
          "text": [
            "INFO:sqlalchemy.engine.Engine:[cached since 1.863e+04s ago] ('defaultdb', 'csrpartner_data', 'id')\n",
            "INFO:sqlalchemy.engine.Engine:[cached since 1.863e+04s ago] ('defaultdb', 'csrpartner_data', 'id')\n"
          ]
        },
        {
          "output_type": "stream",
          "name": "stdout",
          "text": [
            "2025-02-10 15:03:33,807 INFO sqlalchemy.engine.Engine SELECT information_schema.columns.table_schema, information_schema.columns.table_name, information_schema.columns.column_name \n",
            "FROM information_schema.columns \n",
            "WHERE information_schema.columns.table_schema = %s AND information_schema.columns.table_name = %s AND lower(information_schema.columns.column_name) IN (%s)\n",
            "2025-02-10 15:03:33,810 INFO sqlalchemy.engine.Engine SELECT information_schema.columns.table_schema, information_schema.columns.table_name, information_schema.columns.column_name \n",
            "FROM information_schema.columns \n",
            "WHERE information_schema.columns.table_schema = %s AND information_schema.columns.table_name = %s AND lower(information_schema.columns.column_name) IN (%s)\n"
          ]
        },
        {
          "output_type": "stream",
          "name": "stderr",
          "text": [
            "INFO:sqlalchemy.engine.Engine:SELECT information_schema.columns.table_schema, information_schema.columns.table_name, information_schema.columns.column_name \n",
            "FROM information_schema.columns \n",
            "WHERE information_schema.columns.table_schema = %s AND information_schema.columns.table_name = %s AND lower(information_schema.columns.column_name) IN (%s)\n",
            "INFO:sqlalchemy.engine.Engine:SELECT information_schema.columns.table_schema, information_schema.columns.table_name, information_schema.columns.column_name \n",
            "FROM information_schema.columns \n",
            "WHERE information_schema.columns.table_schema = %s AND information_schema.columns.table_name = %s AND lower(information_schema.columns.column_name) IN (%s)\n"
          ]
        },
        {
          "output_type": "stream",
          "name": "stdout",
          "text": [
            "2025-02-10 15:03:33,813 INFO sqlalchemy.engine.Engine [cached since 1.863e+04s ago] ('defaultdb', 'customer_data', 'id')\n",
            "2025-02-10 15:03:33,816 INFO sqlalchemy.engine.Engine [cached since 1.863e+04s ago] ('defaultdb', 'customer_data', 'id')\n"
          ]
        },
        {
          "output_type": "stream",
          "name": "stderr",
          "text": [
            "INFO:sqlalchemy.engine.Engine:[cached since 1.863e+04s ago] ('defaultdb', 'customer_data', 'id')\n",
            "INFO:sqlalchemy.engine.Engine:[cached since 1.863e+04s ago] ('defaultdb', 'customer_data', 'id')\n"
          ]
        },
        {
          "output_type": "stream",
          "name": "stdout",
          "text": [
            "2025-02-10 15:03:34,066 INFO sqlalchemy.engine.Engine SELECT information_schema.columns.table_schema, information_schema.columns.table_name, information_schema.columns.column_name \n",
            "FROM information_schema.columns \n",
            "WHERE information_schema.columns.table_schema = %s AND information_schema.columns.table_name = %s AND lower(information_schema.columns.column_name) IN (%s)\n"
          ]
        },
        {
          "output_type": "stream",
          "name": "stderr",
          "text": [
            "INFO:sqlalchemy.engine.Engine:SELECT information_schema.columns.table_schema, information_schema.columns.table_name, information_schema.columns.column_name \n",
            "FROM information_schema.columns \n",
            "WHERE information_schema.columns.table_schema = %s AND information_schema.columns.table_name = %s AND lower(information_schema.columns.column_name) IN (%s)\n"
          ]
        },
        {
          "output_type": "stream",
          "name": "stdout",
          "text": [
            "2025-02-10 15:03:34,070 INFO sqlalchemy.engine.Engine [cached since 1.863e+04s ago] ('defaultdb', 'employee_data', 'id')\n"
          ]
        },
        {
          "output_type": "stream",
          "name": "stderr",
          "text": [
            "INFO:sqlalchemy.engine.Engine:[cached since 1.863e+04s ago] ('defaultdb', 'employee_data', 'id')\n"
          ]
        },
        {
          "output_type": "stream",
          "name": "stdout",
          "text": [
            "2025-02-10 15:03:34,073 INFO sqlalchemy.engine.Engine SELECT information_schema.columns.table_schema, information_schema.columns.table_name, information_schema.columns.column_name \n",
            "FROM information_schema.columns \n",
            "WHERE information_schema.columns.table_schema = %s AND information_schema.columns.table_name = %s AND lower(information_schema.columns.column_name) IN (%s)\n"
          ]
        },
        {
          "output_type": "stream",
          "name": "stderr",
          "text": [
            "INFO:sqlalchemy.engine.Engine:SELECT information_schema.columns.table_schema, information_schema.columns.table_name, information_schema.columns.column_name \n",
            "FROM information_schema.columns \n",
            "WHERE information_schema.columns.table_schema = %s AND information_schema.columns.table_name = %s AND lower(information_schema.columns.column_name) IN (%s)\n"
          ]
        },
        {
          "output_type": "stream",
          "name": "stdout",
          "text": [
            "2025-02-10 15:03:34,077 INFO sqlalchemy.engine.Engine [cached since 1.863e+04s ago] ('defaultdb', 'employee_data', 'id')\n"
          ]
        },
        {
          "output_type": "stream",
          "name": "stderr",
          "text": [
            "INFO:sqlalchemy.engine.Engine:[cached since 1.863e+04s ago] ('defaultdb', 'employee_data', 'id')\n"
          ]
        },
        {
          "output_type": "stream",
          "name": "stdout",
          "text": [
            "2025-02-10 15:03:34,313 INFO sqlalchemy.engine.Engine SELECT information_schema.columns.table_schema, information_schema.columns.table_name, information_schema.columns.column_name \n",
            "FROM information_schema.columns \n",
            "WHERE information_schema.columns.table_schema = %s AND information_schema.columns.table_name = %s AND lower(information_schema.columns.column_name) IN (%s)\n"
          ]
        },
        {
          "output_type": "stream",
          "name": "stderr",
          "text": [
            "INFO:sqlalchemy.engine.Engine:SELECT information_schema.columns.table_schema, information_schema.columns.table_name, information_schema.columns.column_name \n",
            "FROM information_schema.columns \n",
            "WHERE information_schema.columns.table_schema = %s AND information_schema.columns.table_name = %s AND lower(information_schema.columns.column_name) IN (%s)\n"
          ]
        },
        {
          "output_type": "stream",
          "name": "stdout",
          "text": [
            "2025-02-10 15:03:34,316 INFO sqlalchemy.engine.Engine [cached since 1.863e+04s ago] ('defaultdb', 'investor_data', 'id')\n"
          ]
        },
        {
          "output_type": "stream",
          "name": "stderr",
          "text": [
            "INFO:sqlalchemy.engine.Engine:[cached since 1.863e+04s ago] ('defaultdb', 'investor_data', 'id')\n"
          ]
        },
        {
          "output_type": "stream",
          "name": "stdout",
          "text": [
            "2025-02-10 15:03:34,323 INFO sqlalchemy.engine.Engine SELECT information_schema.columns.table_schema, information_schema.columns.table_name, information_schema.columns.column_name \n",
            "FROM information_schema.columns \n",
            "WHERE information_schema.columns.table_schema = %s AND information_schema.columns.table_name = %s AND lower(information_schema.columns.column_name) IN (%s)\n"
          ]
        },
        {
          "output_type": "stream",
          "name": "stderr",
          "text": [
            "INFO:sqlalchemy.engine.Engine:SELECT information_schema.columns.table_schema, information_schema.columns.table_name, information_schema.columns.column_name \n",
            "FROM information_schema.columns \n",
            "WHERE information_schema.columns.table_schema = %s AND information_schema.columns.table_name = %s AND lower(information_schema.columns.column_name) IN (%s)\n"
          ]
        },
        {
          "output_type": "stream",
          "name": "stdout",
          "text": [
            "2025-02-10 15:03:34,327 INFO sqlalchemy.engine.Engine [cached since 1.863e+04s ago] ('defaultdb', 'investor_data', 'id')\n"
          ]
        },
        {
          "output_type": "stream",
          "name": "stderr",
          "text": [
            "INFO:sqlalchemy.engine.Engine:[cached since 1.863e+04s ago] ('defaultdb', 'investor_data', 'id')\n"
          ]
        },
        {
          "output_type": "stream",
          "name": "stdout",
          "text": [
            "2025-02-10 15:03:34,559 INFO sqlalchemy.engine.Engine SELECT information_schema.columns.table_schema, information_schema.columns.table_name, information_schema.columns.column_name \n",
            "FROM information_schema.columns \n",
            "WHERE information_schema.columns.table_schema = %s AND information_schema.columns.table_name = %s AND lower(information_schema.columns.column_name) IN (%s)\n"
          ]
        },
        {
          "output_type": "stream",
          "name": "stderr",
          "text": [
            "INFO:sqlalchemy.engine.Engine:SELECT information_schema.columns.table_schema, information_schema.columns.table_name, information_schema.columns.column_name \n",
            "FROM information_schema.columns \n",
            "WHERE information_schema.columns.table_schema = %s AND information_schema.columns.table_name = %s AND lower(information_schema.columns.column_name) IN (%s)\n"
          ]
        },
        {
          "output_type": "stream",
          "name": "stdout",
          "text": [
            "2025-02-10 15:03:34,562 INFO sqlalchemy.engine.Engine [cached since 1.863e+04s ago] ('defaultdb', 'partner_data', 'id')\n"
          ]
        },
        {
          "output_type": "stream",
          "name": "stderr",
          "text": [
            "INFO:sqlalchemy.engine.Engine:[cached since 1.863e+04s ago] ('defaultdb', 'partner_data', 'id')\n"
          ]
        },
        {
          "output_type": "stream",
          "name": "stdout",
          "text": [
            "2025-02-10 15:03:34,573 INFO sqlalchemy.engine.Engine SELECT information_schema.columns.table_schema, information_schema.columns.table_name, information_schema.columns.column_name \n",
            "FROM information_schema.columns \n",
            "WHERE information_schema.columns.table_schema = %s AND information_schema.columns.table_name = %s AND lower(information_schema.columns.column_name) IN (%s)\n"
          ]
        },
        {
          "output_type": "stream",
          "name": "stderr",
          "text": [
            "INFO:sqlalchemy.engine.Engine:SELECT information_schema.columns.table_schema, information_schema.columns.table_name, information_schema.columns.column_name \n",
            "FROM information_schema.columns \n",
            "WHERE information_schema.columns.table_schema = %s AND information_schema.columns.table_name = %s AND lower(information_schema.columns.column_name) IN (%s)\n"
          ]
        },
        {
          "output_type": "stream",
          "name": "stdout",
          "text": [
            "2025-02-10 15:03:34,575 INFO sqlalchemy.engine.Engine [cached since 1.863e+04s ago] ('defaultdb', 'partner_data', 'id')\n"
          ]
        },
        {
          "output_type": "stream",
          "name": "stderr",
          "text": [
            "INFO:sqlalchemy.engine.Engine:[cached since 1.863e+04s ago] ('defaultdb', 'partner_data', 'id')\n"
          ]
        },
        {
          "output_type": "stream",
          "name": "stdout",
          "text": [
            "2025-02-10 15:03:34,807 INFO sqlalchemy.engine.Engine SELECT information_schema.columns.table_schema, information_schema.columns.table_name, information_schema.columns.column_name \n",
            "FROM information_schema.columns \n",
            "WHERE information_schema.columns.table_schema = %s AND information_schema.columns.table_name = %s AND lower(information_schema.columns.column_name) IN (%s)\n"
          ]
        },
        {
          "output_type": "stream",
          "name": "stderr",
          "text": [
            "INFO:sqlalchemy.engine.Engine:SELECT information_schema.columns.table_schema, information_schema.columns.table_name, information_schema.columns.column_name \n",
            "FROM information_schema.columns \n",
            "WHERE information_schema.columns.table_schema = %s AND information_schema.columns.table_name = %s AND lower(information_schema.columns.column_name) IN (%s)\n"
          ]
        },
        {
          "output_type": "stream",
          "name": "stdout",
          "text": [
            "2025-02-10 15:03:34,810 INFO sqlalchemy.engine.Engine [cached since 1.863e+04s ago] ('defaultdb', 'vendor_data', 'id')\n"
          ]
        },
        {
          "output_type": "stream",
          "name": "stderr",
          "text": [
            "INFO:sqlalchemy.engine.Engine:[cached since 1.863e+04s ago] ('defaultdb', 'vendor_data', 'id')\n"
          ]
        },
        {
          "output_type": "stream",
          "name": "stdout",
          "text": [
            "2025-02-10 15:03:34,819 INFO sqlalchemy.engine.Engine SELECT information_schema.columns.table_schema, information_schema.columns.table_name, information_schema.columns.column_name \n",
            "FROM information_schema.columns \n",
            "WHERE information_schema.columns.table_schema = %s AND information_schema.columns.table_name = %s AND lower(information_schema.columns.column_name) IN (%s)\n"
          ]
        },
        {
          "output_type": "stream",
          "name": "stderr",
          "text": [
            "INFO:sqlalchemy.engine.Engine:SELECT information_schema.columns.table_schema, information_schema.columns.table_name, information_schema.columns.column_name \n",
            "FROM information_schema.columns \n",
            "WHERE information_schema.columns.table_schema = %s AND information_schema.columns.table_name = %s AND lower(information_schema.columns.column_name) IN (%s)\n"
          ]
        },
        {
          "output_type": "stream",
          "name": "stdout",
          "text": [
            "2025-02-10 15:03:34,822 INFO sqlalchemy.engine.Engine [cached since 1.863e+04s ago] ('defaultdb', 'vendor_data', 'id')\n"
          ]
        },
        {
          "output_type": "stream",
          "name": "stderr",
          "text": [
            "INFO:sqlalchemy.engine.Engine:[cached since 1.863e+04s ago] ('defaultdb', 'vendor_data', 'id')\n"
          ]
        },
        {
          "output_type": "stream",
          "name": "stdout",
          "text": [
            "2025-02-10 15:03:35,075 INFO sqlalchemy.engine.Engine COMMIT\n"
          ]
        },
        {
          "output_type": "stream",
          "name": "stderr",
          "text": [
            "INFO:sqlalchemy.engine.Engine:COMMIT\n"
          ]
        },
        {
          "output_type": "stream",
          "name": "stdout",
          "text": [
            "2025-02-10 15:03:35,085 INFO sqlalchemy.engine.Engine COMMIT\n"
          ]
        },
        {
          "output_type": "stream",
          "name": "stderr",
          "text": [
            "INFO:sqlalchemy.engine.Engine:COMMIT\n"
          ]
        },
        {
          "output_type": "stream",
          "name": "stdout",
          "text": [
            "response {'is_relevant': True, 'relevant_tables': [{'table_name': 'customer_data', 'columns': ['id', 'created_at', 'updated_at', 'stakeholder_type', 'product_name', 'po_number', 'client_admin_ref', 'diagnostic_id', 'language', 'experience_rating', 'experience_type', 'experience_area', 'experience_area_dimension', 'feedback', 'sentiment_normalized_rating', 'suggestions', 'testimonial_consent', 'testimonial_name_consent', 'testimonial_name', 'email', 'company_name', 'channel', 'experience_sentiment'], 'noun_columns': ['product_name', 'language', 'experience_type', 'experience_area', 'experience_area_dimension', 'testimonial_name', 'email', 'company_name', 'channel']}, {'table_name': 'customer_demographics', 'columns': ['id', 'ref_id', 'attribute_name', 'attribute_value', 'stakeholder'], 'noun_columns': ['attribute_name', 'attribute_value']}]}\n",
            "2025-02-10 15:03:39,975 INFO sqlalchemy.engine.Engine BEGIN (implicit)\n"
          ]
        },
        {
          "output_type": "stream",
          "name": "stderr",
          "text": [
            "INFO:sqlalchemy.engine.Engine:BEGIN (implicit)\n"
          ]
        },
        {
          "output_type": "stream",
          "name": "stdout",
          "text": [
            "2025-02-10 15:03:39,984 INFO sqlalchemy.engine.Engine SELECT DISTINCT `product_name`, `language`, `experience_type`, `experience_area`, `experience_area_dimension`, `testimonial_name`, `email`, `company_name`, `channel` FROM `customer_data`\n"
          ]
        },
        {
          "output_type": "stream",
          "name": "stderr",
          "text": [
            "INFO:sqlalchemy.engine.Engine:SELECT DISTINCT `product_name`, `language`, `experience_type`, `experience_area`, `experience_area_dimension`, `testimonial_name`, `email`, `company_name`, `channel` FROM `customer_data`\n"
          ]
        },
        {
          "output_type": "stream",
          "name": "stdout",
          "text": [
            "2025-02-10 15:03:39,987 INFO sqlalchemy.engine.Engine [cached since 2144s ago] ()\n"
          ]
        },
        {
          "output_type": "stream",
          "name": "stderr",
          "text": [
            "INFO:sqlalchemy.engine.Engine:[cached since 2144s ago] ()\n"
          ]
        },
        {
          "output_type": "stream",
          "name": "stdout",
          "text": [
            "2025-02-10 15:03:39,989 INFO sqlalchemy.engine.Engine ROLLBACK\n"
          ]
        },
        {
          "output_type": "stream",
          "name": "stderr",
          "text": [
            "INFO:sqlalchemy.engine.Engine:ROLLBACK\n",
            "ERROR:sqlalchemy.pool.impl.AsyncAdaptedQueuePool:Exception during reset or similar\n",
            "Traceback (most recent call last):\n",
            "  File \"/usr/local/lib/python3.11/dist-packages/sqlalchemy/pool/base.py\", line 986, in _finalize_fairy\n",
            "    fairy._reset(\n",
            "  File \"/usr/local/lib/python3.11/dist-packages/sqlalchemy/pool/base.py\", line 1432, in _reset\n",
            "    pool._dialect.do_rollback(self)\n",
            "  File \"/usr/local/lib/python3.11/dist-packages/sqlalchemy/engine/default.py\", line 700, in do_rollback\n",
            "    dbapi_connection.rollback()\n",
            "  File \"/usr/local/lib/python3.11/dist-packages/sqlalchemy/dialects/mysql/aiomysql.py\", line 203, in rollback\n",
            "    self.await_(self._connection.rollback())\n",
            "  File \"/usr/local/lib/python3.11/dist-packages/sqlalchemy/util/_concurrency_py3k.py\", line 132, in await_only\n",
            "    return current.parent.switch(awaitable)  # type: ignore[no-any-return,attr-defined] # noqa: E501\n",
            "           ^^^^^^^^^^^^^^^^^^^^^^^^^^^^^^^^\n",
            "  File \"/usr/local/lib/python3.11/dist-packages/sqlalchemy/util/_concurrency_py3k.py\", line 196, in greenlet_spawn\n",
            "    value = await result\n",
            "            ^^^^^^^^^^^^\n",
            "  File \"/usr/local/lib/python3.11/dist-packages/aiomysql/connection.py\", line 399, in rollback\n",
            "    await self._read_ok_packet()\n",
            "  File \"/usr/local/lib/python3.11/dist-packages/aiomysql/connection.py\", line 372, in _read_ok_packet\n",
            "    pkt = await self._read_packet()\n",
            "          ^^^^^^^^^^^^^^^^^^^^^^^^^\n",
            "  File \"/usr/local/lib/python3.11/dist-packages/aiomysql/connection.py\", line 609, in _read_packet\n",
            "    packet_header = await self._read_bytes(4)\n",
            "                    ^^^^^^^^^^^^^^^^^^^^^^^^^\n",
            "  File \"/usr/local/lib/python3.11/dist-packages/aiomysql/connection.py\", line 657, in _read_bytes\n",
            "    data = await self._reader.readexactly(num_bytes)\n",
            "           ^^^^^^^^^^^^^^^^^^^^^^^^^^^^^^^^^^^^^^^^^\n",
            "  File \"/usr/lib/python3.11/asyncio/streams.py\", line 750, in readexactly\n",
            "    await self._wait_for_data('readexactly')\n",
            "  File \"/usr/lib/python3.11/asyncio/streams.py\", line 543, in _wait_for_data\n",
            "    await self._waiter\n",
            "RuntimeError: Task <Task pending name='Task-2048' coro=<get_unique_nouns() running at <ipython-input-12-fa7a0aee7706>:69> cb=[Task.task_wakeup()]> got Future <Future pending> attached to a different loop\n",
            "ERROR:__main__:Exception on /dashboardAgent [POST]\n",
            "Traceback (most recent call last):\n",
            "  File \"<ipython-input-9-91afecc331e2>\", line 37, in execute_query\n",
            "    result = await session.execute(text(query))\n",
            "             ^^^^^^^^^^^^^^^^^^^^^^^^^^^^^^^^^^\n",
            "  File \"/usr/local/lib/python3.11/dist-packages/sqlalchemy/ext/asyncio/session.py\", line 463, in execute\n",
            "    result = await greenlet_spawn(\n",
            "             ^^^^^^^^^^^^^^^^^^^^^\n",
            "  File \"/usr/local/lib/python3.11/dist-packages/sqlalchemy/util/_concurrency_py3k.py\", line 201, in greenlet_spawn\n",
            "    result = context.throw(*sys.exc_info())\n",
            "             ^^^^^^^^^^^^^^^^^^^^^^^^^^^^^^\n",
            "  File \"/usr/local/lib/python3.11/dist-packages/sqlalchemy/orm/session.py\", line 2365, in execute\n",
            "    return self._execute_internal(\n",
            "           ^^^^^^^^^^^^^^^^^^^^^^^\n",
            "  File \"/usr/local/lib/python3.11/dist-packages/sqlalchemy/orm/session.py\", line 2260, in _execute_internal\n",
            "    result = conn.execute(\n",
            "             ^^^^^^^^^^^^^\n",
            "  File \"/usr/local/lib/python3.11/dist-packages/sqlalchemy/engine/base.py\", line 1416, in execute\n",
            "    return meth(\n",
            "           ^^^^^\n",
            "  File \"/usr/local/lib/python3.11/dist-packages/sqlalchemy/sql/elements.py\", line 515, in _execute_on_connection\n",
            "    return connection._execute_clauseelement(\n",
            "           ^^^^^^^^^^^^^^^^^^^^^^^^^^^^^^^^^^\n",
            "  File \"/usr/local/lib/python3.11/dist-packages/sqlalchemy/engine/base.py\", line 1638, in _execute_clauseelement\n",
            "    ret = self._execute_context(\n",
            "          ^^^^^^^^^^^^^^^^^^^^^^\n",
            "  File \"/usr/local/lib/python3.11/dist-packages/sqlalchemy/engine/base.py\", line 1843, in _execute_context\n",
            "    return self._exec_single_context(\n",
            "           ^^^^^^^^^^^^^^^^^^^^^^^^^^\n",
            "  File \"/usr/local/lib/python3.11/dist-packages/sqlalchemy/engine/base.py\", line 1983, in _exec_single_context\n",
            "    self._handle_dbapi_exception(\n",
            "  File \"/usr/local/lib/python3.11/dist-packages/sqlalchemy/engine/base.py\", line 2355, in _handle_dbapi_exception\n",
            "    raise exc_info[1].with_traceback(exc_info[2])\n",
            "  File \"/usr/local/lib/python3.11/dist-packages/sqlalchemy/engine/base.py\", line 1964, in _exec_single_context\n",
            "    self.dialect.do_execute(\n",
            "  File \"/usr/local/lib/python3.11/dist-packages/sqlalchemy/engine/default.py\", line 942, in do_execute\n",
            "    cursor.execute(statement, parameters)\n",
            "  File \"/usr/local/lib/python3.11/dist-packages/sqlalchemy/dialects/mysql/aiomysql.py\", line 97, in execute\n",
            "    return self.await_(self._execute_async(operation, parameters))\n",
            "           ^^^^^^^^^^^^^^^^^^^^^^^^^^^^^^^^^^^^^^^^^^^^^^^^^^^^^^^\n",
            "  File \"/usr/local/lib/python3.11/dist-packages/sqlalchemy/util/_concurrency_py3k.py\", line 132, in await_only\n",
            "    return current.parent.switch(awaitable)  # type: ignore[no-any-return,attr-defined] # noqa: E501\n",
            "           ^^^^^^^^^^^^^^^^^^^^^^^^^^^^^^^^\n",
            "  File \"/usr/local/lib/python3.11/dist-packages/sqlalchemy/util/_concurrency_py3k.py\", line 196, in greenlet_spawn\n",
            "    value = await result\n",
            "            ^^^^^^^^^^^^\n",
            "  File \"/usr/local/lib/python3.11/dist-packages/sqlalchemy/dialects/mysql/aiomysql.py\", line 106, in _execute_async\n",
            "    result = await self._cursor.execute(operation, parameters)\n",
            "             ^^^^^^^^^^^^^^^^^^^^^^^^^^^^^^^^^^^^^^^^^^^^^^^^^\n",
            "  File \"/usr/local/lib/python3.11/dist-packages/aiomysql/cursors.py\", line 239, in execute\n",
            "    await self._query(query)\n",
            "  File \"/usr/local/lib/python3.11/dist-packages/aiomysql/cursors.py\", line 457, in _query\n",
            "    await conn.query(q)\n",
            "  File \"/usr/local/lib/python3.11/dist-packages/aiomysql/connection.py\", line 469, in query\n",
            "    await self._read_query_result(unbuffered=unbuffered)\n",
            "  File \"/usr/local/lib/python3.11/dist-packages/aiomysql/connection.py\", line 683, in _read_query_result\n",
            "    await result.read()\n",
            "  File \"/usr/local/lib/python3.11/dist-packages/aiomysql/connection.py\", line 1164, in read\n",
            "    first_packet = await self.connection._read_packet()\n",
            "                   ^^^^^^^^^^^^^^^^^^^^^^^^^^^^^^^^^^^^\n",
            "  File \"/usr/local/lib/python3.11/dist-packages/aiomysql/connection.py\", line 609, in _read_packet\n",
            "    packet_header = await self._read_bytes(4)\n",
            "                    ^^^^^^^^^^^^^^^^^^^^^^^^^\n",
            "  File \"/usr/local/lib/python3.11/dist-packages/aiomysql/connection.py\", line 657, in _read_bytes\n",
            "    data = await self._reader.readexactly(num_bytes)\n",
            "           ^^^^^^^^^^^^^^^^^^^^^^^^^^^^^^^^^^^^^^^^^\n",
            "  File \"/usr/lib/python3.11/asyncio/streams.py\", line 750, in readexactly\n",
            "    await self._wait_for_data('readexactly')\n",
            "  File \"/usr/lib/python3.11/asyncio/streams.py\", line 543, in _wait_for_data\n",
            "    await self._waiter\n",
            "RuntimeError: Task <Task pending name='Task-2048' coro=<get_unique_nouns() running at <ipython-input-12-fa7a0aee7706>:69> cb=[Task.task_wakeup()]> got Future <Future pending> attached to a different loop\n",
            "\n",
            "During handling of the above exception, another exception occurred:\n",
            "\n",
            "Traceback (most recent call last):\n",
            "  File \"/usr/local/lib/python3.11/dist-packages/flask/app.py\", line 1511, in wsgi_app\n",
            "    response = self.full_dispatch_request()\n",
            "               ^^^^^^^^^^^^^^^^^^^^^^^^^^^^\n",
            "  File \"/usr/local/lib/python3.11/dist-packages/flask/app.py\", line 919, in full_dispatch_request\n",
            "    rv = self.handle_user_exception(e)\n",
            "         ^^^^^^^^^^^^^^^^^^^^^^^^^^^^^\n",
            "  File \"/usr/local/lib/python3.11/dist-packages/flask_cors/extension.py\", line 194, in wrapped_function\n",
            "    return cors_after_request(app.make_response(f(*args, **kwargs)))\n",
            "                                                ^^^^^^^^^^^^^^^^^^\n",
            "  File \"/usr/local/lib/python3.11/dist-packages/flask/app.py\", line 917, in full_dispatch_request\n",
            "    rv = self.dispatch_request()\n",
            "         ^^^^^^^^^^^^^^^^^^^^^^^\n",
            "  File \"/usr/local/lib/python3.11/dist-packages/flask/app.py\", line 902, in dispatch_request\n",
            "    return self.ensure_sync(self.view_functions[rule.endpoint])(**view_args)  # type: ignore[no-any-return]\n",
            "           ^^^^^^^^^^^^^^^^^^^^^^^^^^^^^^^^^^^^^^^^^^^^^^^^^^^^^^^^^^^^^^^^^\n",
            "  File \"<ipython-input-67-29875ed07a0a>\", line 18, in dashboard_agent\n",
            "    result = asyncio.run(runnable.ainvoke({\"question\": question, \"diagnostic_id\": \"670d7bb908cd96a9c3b69aaf\"}))\n",
            "             ^^^^^^^^^^^^^^^^^^^^^^^^^^^^^^^^^^^^^^^^^^^^^^^^^^^^^^^^^^^^^^^^^^^^^^^^^^^^^^^^^^^^^^^^^^^^^^^^^^\n",
            "  File \"/usr/lib/python3.11/asyncio/runners.py\", line 190, in run\n",
            "    return runner.run(main)\n",
            "           ^^^^^^^^^^^^^^^^\n",
            "  File \"/usr/lib/python3.11/asyncio/runners.py\", line 118, in run\n",
            "    return self._loop.run_until_complete(task)\n",
            "           ^^^^^^^^^^^^^^^^^^^^^^^^^^^^^^^^^^^\n",
            "  File \"/usr/lib/python3.11/asyncio/base_events.py\", line 654, in run_until_complete\n",
            "    return future.result()\n",
            "           ^^^^^^^^^^^^^^^\n",
            "  File \"/usr/local/lib/python3.11/dist-packages/langgraph/pregel/__init__.py\", line 2122, in ainvoke\n",
            "    async for chunk in self.astream(\n",
            "  File \"/usr/local/lib/python3.11/dist-packages/langgraph/pregel/__init__.py\", line 2007, in astream\n",
            "    async for _ in runner.atick(\n",
            "  File \"/usr/local/lib/python3.11/dist-packages/langgraph/pregel/runner.py\", line 444, in atick\n",
            "    await arun_with_retry(\n",
            "  File \"/usr/local/lib/python3.11/dist-packages/langgraph/pregel/retry.py\", line 128, in arun_with_retry\n",
            "    return await task.proc.ainvoke(task.input, config)\n",
            "           ^^^^^^^^^^^^^^^^^^^^^^^^^^^^^^^^^^^^^^^^^^^\n",
            "  File \"/usr/local/lib/python3.11/dist-packages/langgraph/utils/runnable.py\", line 543, in ainvoke\n",
            "    input = await step.ainvoke(input, config, **kwargs)\n",
            "            ^^^^^^^^^^^^^^^^^^^^^^^^^^^^^^^^^^^^^^^^^^^\n",
            "  File \"/usr/local/lib/python3.11/dist-packages/langgraph/utils/runnable.py\", line 331, in ainvoke\n",
            "    ret = await asyncio.create_task(coro, context=context)\n",
            "          ^^^^^^^^^^^^^^^^^^^^^^^^^^^^^^^^^^^^^^^^^^^^^^^^\n",
            "  File \"<ipython-input-12-fa7a0aee7706>\", line 69, in get_unique_nouns\n",
            "    results = await db_manager.execute_query(query)\n",
            "              ^^^^^^^^^^^^^^^^^^^^^^^^^^^^^^^^^^^^^\n",
            "  File \"<ipython-input-9-91afecc331e2>\", line 36, in execute_query\n",
            "    async with session.begin():\n",
            "  File \"/usr/local/lib/python3.11/dist-packages/sqlalchemy/util/_concurrency_py3k.py\", line 201, in greenlet_spawn\n",
            "    result = context.throw(*sys.exc_info())\n",
            "             ^^^^^^^^^^^^^^^^^^^^^^^^^^^^^^\n",
            "  File \"/usr/local/lib/python3.11/dist-packages/sqlalchemy/engine/util.py\", line 162, in __exit__\n",
            "    self.rollback()\n",
            "  File \"<string>\", line 2, in rollback\n",
            "  File \"/usr/local/lib/python3.11/dist-packages/sqlalchemy/orm/state_changes.py\", line 139, in _go\n",
            "    ret_value = fn(self, *arg, **kw)\n",
            "                ^^^^^^^^^^^^^^^^^^^^\n",
            "  File \"/usr/local/lib/python3.11/dist-packages/sqlalchemy/orm/session.py\", line 1395, in rollback\n",
            "    raise rollback_err[1].with_traceback(rollback_err[2])\n",
            "  File \"/usr/local/lib/python3.11/dist-packages/sqlalchemy/orm/session.py\", line 1360, in rollback\n",
            "    t[1].rollback()\n",
            "  File \"/usr/local/lib/python3.11/dist-packages/sqlalchemy/engine/base.py\", line 2608, in rollback\n",
            "    self._do_rollback()\n",
            "  File \"/usr/local/lib/python3.11/dist-packages/sqlalchemy/engine/base.py\", line 2727, in _do_rollback\n",
            "    self._close_impl(try_deactivate=True)\n",
            "  File \"/usr/local/lib/python3.11/dist-packages/sqlalchemy/engine/base.py\", line 2710, in _close_impl\n",
            "    self._connection_rollback_impl()\n",
            "  File \"/usr/local/lib/python3.11/dist-packages/sqlalchemy/engine/base.py\", line 2702, in _connection_rollback_impl\n",
            "    self.connection._rollback_impl()\n",
            "  File \"/usr/local/lib/python3.11/dist-packages/sqlalchemy/engine/base.py\", line 1127, in _rollback_impl\n",
            "    self._handle_dbapi_exception(e, None, None, None, None)\n",
            "  File \"/usr/local/lib/python3.11/dist-packages/sqlalchemy/engine/base.py\", line 2355, in _handle_dbapi_exception\n",
            "    raise exc_info[1].with_traceback(exc_info[2])\n",
            "  File \"/usr/local/lib/python3.11/dist-packages/sqlalchemy/engine/base.py\", line 1125, in _rollback_impl\n",
            "    self.engine.dialect.do_rollback(self.connection)\n",
            "  File \"/usr/local/lib/python3.11/dist-packages/sqlalchemy/engine/default.py\", line 700, in do_rollback\n",
            "    dbapi_connection.rollback()\n",
            "  File \"/usr/local/lib/python3.11/dist-packages/sqlalchemy/dialects/mysql/aiomysql.py\", line 203, in rollback\n",
            "    self.await_(self._connection.rollback())\n",
            "  File \"/usr/local/lib/python3.11/dist-packages/sqlalchemy/util/_concurrency_py3k.py\", line 132, in await_only\n",
            "    return current.parent.switch(awaitable)  # type: ignore[no-any-return,attr-defined] # noqa: E501\n",
            "           ^^^^^^^^^^^^^^^^^^^^^^^^^^^^^^^^\n",
            "  File \"/usr/local/lib/python3.11/dist-packages/sqlalchemy/util/_concurrency_py3k.py\", line 196, in greenlet_spawn\n",
            "    value = await result\n",
            "            ^^^^^^^^^^^^\n",
            "  File \"/usr/local/lib/python3.11/dist-packages/aiomysql/connection.py\", line 399, in rollback\n",
            "    await self._read_ok_packet()\n",
            "  File \"/usr/local/lib/python3.11/dist-packages/aiomysql/connection.py\", line 372, in _read_ok_packet\n",
            "    pkt = await self._read_packet()\n",
            "          ^^^^^^^^^^^^^^^^^^^^^^^^^\n",
            "  File \"/usr/local/lib/python3.11/dist-packages/aiomysql/connection.py\", line 609, in _read_packet\n",
            "    packet_header = await self._read_bytes(4)\n",
            "                    ^^^^^^^^^^^^^^^^^^^^^^^^^\n",
            "  File \"/usr/local/lib/python3.11/dist-packages/aiomysql/connection.py\", line 657, in _read_bytes\n",
            "    data = await self._reader.readexactly(num_bytes)\n",
            "           ^^^^^^^^^^^^^^^^^^^^^^^^^^^^^^^^^^^^^^^^^\n",
            "  File \"/usr/lib/python3.11/asyncio/streams.py\", line 750, in readexactly\n",
            "    await self._wait_for_data('readexactly')\n",
            "  File \"/usr/lib/python3.11/asyncio/streams.py\", line 543, in _wait_for_data\n",
            "    await self._waiter\n",
            "RuntimeError: Task <Task pending name='Task-2048' coro=<get_unique_nouns() running at <ipython-input-12-fa7a0aee7706>:69> cb=[Task.task_wakeup()]> got Future <Future pending> attached to a different loop\n",
            "During task with name 'get_unique_nouns' and id 'fb930dfe-1549-325b-8310-944e51c60d5d'\n",
            "INFO:werkzeug:127.0.0.1 - - [10/Feb/2025 15:03:40] \"\u001b[35m\u001b[1mPOST /dashboardAgent HTTP/1.1\u001b[0m\" 500 -\n"
          ]
        },
        {
          "output_type": "stream",
          "name": "stdout",
          "text": [
            "response {'is_relevant': True, 'relevant_tables': [{'table_name': 'customer_data', 'columns': ['id', 'created_at', 'updated_at', 'stakeholder_type', 'product_name', 'po_number', 'client_admin_ref', 'diagnostic_id', 'language', 'experience_rating', 'experience_type', 'experience_area', 'experience_area_dimension', 'feedback', 'sentiment_normalized_rating', 'suggestions', 'testimonial_consent', 'testimonial_name_consent', 'testimonial_name', 'email', 'company_name', 'channel', 'experience_sentiment'], 'noun_columns': ['product_name', 'language', 'experience_type', 'experience_area', 'experience_area_dimension', 'testimonial_name', 'email', 'company_name', 'channel']}, {'table_name': 'customer_demographics', 'columns': ['id', 'ref_id', 'attribute_name', 'attribute_value', 'stakeholder'], 'noun_columns': ['attribute_name', 'attribute_value']}]}\n",
            "2025-02-10 15:03:40,537 INFO sqlalchemy.engine.Engine BEGIN (implicit)\n"
          ]
        },
        {
          "output_type": "stream",
          "name": "stderr",
          "text": [
            "INFO:sqlalchemy.engine.Engine:BEGIN (implicit)\n"
          ]
        },
        {
          "output_type": "stream",
          "name": "stdout",
          "text": [
            "2025-02-10 15:03:40,540 INFO sqlalchemy.engine.Engine SELECT DISTINCT `product_name`, `language`, `experience_type`, `experience_area`, `experience_area_dimension`, `testimonial_name`, `email`, `company_name`, `channel` FROM `customer_data`\n"
          ]
        },
        {
          "output_type": "stream",
          "name": "stderr",
          "text": [
            "INFO:sqlalchemy.engine.Engine:SELECT DISTINCT `product_name`, `language`, `experience_type`, `experience_area`, `experience_area_dimension`, `testimonial_name`, `email`, `company_name`, `channel` FROM `customer_data`\n"
          ]
        },
        {
          "output_type": "stream",
          "name": "stdout",
          "text": [
            "2025-02-10 15:03:40,545 INFO sqlalchemy.engine.Engine [cached since 2144s ago] ()\n"
          ]
        },
        {
          "output_type": "stream",
          "name": "stderr",
          "text": [
            "INFO:sqlalchemy.engine.Engine:[cached since 2144s ago] ()\n"
          ]
        },
        {
          "output_type": "stream",
          "name": "stdout",
          "text": [
            "2025-02-10 15:03:40,550 INFO sqlalchemy.engine.Engine ROLLBACK\n"
          ]
        },
        {
          "output_type": "stream",
          "name": "stderr",
          "text": [
            "INFO:sqlalchemy.engine.Engine:ROLLBACK\n",
            "ERROR:sqlalchemy.pool.impl.AsyncAdaptedQueuePool:Exception during reset or similar\n",
            "Traceback (most recent call last):\n",
            "  File \"/usr/local/lib/python3.11/dist-packages/sqlalchemy/pool/base.py\", line 986, in _finalize_fairy\n",
            "    fairy._reset(\n",
            "  File \"/usr/local/lib/python3.11/dist-packages/sqlalchemy/pool/base.py\", line 1432, in _reset\n",
            "    pool._dialect.do_rollback(self)\n",
            "  File \"/usr/local/lib/python3.11/dist-packages/sqlalchemy/engine/default.py\", line 700, in do_rollback\n",
            "    dbapi_connection.rollback()\n",
            "  File \"/usr/local/lib/python3.11/dist-packages/sqlalchemy/dialects/mysql/aiomysql.py\", line 203, in rollback\n",
            "    self.await_(self._connection.rollback())\n",
            "  File \"/usr/local/lib/python3.11/dist-packages/sqlalchemy/util/_concurrency_py3k.py\", line 132, in await_only\n",
            "    return current.parent.switch(awaitable)  # type: ignore[no-any-return,attr-defined] # noqa: E501\n",
            "           ^^^^^^^^^^^^^^^^^^^^^^^^^^^^^^^^\n",
            "  File \"/usr/local/lib/python3.11/dist-packages/sqlalchemy/util/_concurrency_py3k.py\", line 196, in greenlet_spawn\n",
            "    value = await result\n",
            "            ^^^^^^^^^^^^\n",
            "  File \"/usr/local/lib/python3.11/dist-packages/aiomysql/connection.py\", line 399, in rollback\n",
            "    await self._read_ok_packet()\n",
            "  File \"/usr/local/lib/python3.11/dist-packages/aiomysql/connection.py\", line 372, in _read_ok_packet\n",
            "    pkt = await self._read_packet()\n",
            "          ^^^^^^^^^^^^^^^^^^^^^^^^^\n",
            "  File \"/usr/local/lib/python3.11/dist-packages/aiomysql/connection.py\", line 609, in _read_packet\n",
            "    packet_header = await self._read_bytes(4)\n",
            "                    ^^^^^^^^^^^^^^^^^^^^^^^^^\n",
            "  File \"/usr/local/lib/python3.11/dist-packages/aiomysql/connection.py\", line 657, in _read_bytes\n",
            "    data = await self._reader.readexactly(num_bytes)\n",
            "           ^^^^^^^^^^^^^^^^^^^^^^^^^^^^^^^^^^^^^^^^^\n",
            "  File \"/usr/lib/python3.11/asyncio/streams.py\", line 750, in readexactly\n",
            "    await self._wait_for_data('readexactly')\n",
            "  File \"/usr/lib/python3.11/asyncio/streams.py\", line 543, in _wait_for_data\n",
            "    await self._waiter\n",
            "RuntimeError: Task <Task pending name='Task-2070' coro=<get_unique_nouns() running at <ipython-input-12-fa7a0aee7706>:69> cb=[Task.task_wakeup()]> got Future <Future pending> attached to a different loop\n",
            "ERROR:sqlalchemy.pool.impl.AsyncAdaptedQueuePool:Exception terminating connection <AdaptedConnection <aiomysql.connection.Connection object at 0x7e04ec3aa990>>\n",
            "Traceback (most recent call last):\n",
            "  File \"/usr/local/lib/python3.11/dist-packages/sqlalchemy/pool/base.py\", line 986, in _finalize_fairy\n",
            "    fairy._reset(\n",
            "  File \"/usr/local/lib/python3.11/dist-packages/sqlalchemy/pool/base.py\", line 1432, in _reset\n",
            "    pool._dialect.do_rollback(self)\n",
            "  File \"/usr/local/lib/python3.11/dist-packages/sqlalchemy/engine/default.py\", line 700, in do_rollback\n",
            "    dbapi_connection.rollback()\n",
            "  File \"/usr/local/lib/python3.11/dist-packages/sqlalchemy/dialects/mysql/aiomysql.py\", line 203, in rollback\n",
            "    self.await_(self._connection.rollback())\n",
            "  File \"/usr/local/lib/python3.11/dist-packages/sqlalchemy/util/_concurrency_py3k.py\", line 132, in await_only\n",
            "    return current.parent.switch(awaitable)  # type: ignore[no-any-return,attr-defined] # noqa: E501\n",
            "           ^^^^^^^^^^^^^^^^^^^^^^^^^^^^^^^^\n",
            "  File \"/usr/local/lib/python3.11/dist-packages/sqlalchemy/util/_concurrency_py3k.py\", line 196, in greenlet_spawn\n",
            "    value = await result\n",
            "            ^^^^^^^^^^^^\n",
            "  File \"/usr/local/lib/python3.11/dist-packages/aiomysql/connection.py\", line 399, in rollback\n",
            "    await self._read_ok_packet()\n",
            "  File \"/usr/local/lib/python3.11/dist-packages/aiomysql/connection.py\", line 372, in _read_ok_packet\n",
            "    pkt = await self._read_packet()\n",
            "          ^^^^^^^^^^^^^^^^^^^^^^^^^\n",
            "  File \"/usr/local/lib/python3.11/dist-packages/aiomysql/connection.py\", line 609, in _read_packet\n",
            "    packet_header = await self._read_bytes(4)\n",
            "                    ^^^^^^^^^^^^^^^^^^^^^^^^^\n",
            "  File \"/usr/local/lib/python3.11/dist-packages/aiomysql/connection.py\", line 657, in _read_bytes\n",
            "    data = await self._reader.readexactly(num_bytes)\n",
            "           ^^^^^^^^^^^^^^^^^^^^^^^^^^^^^^^^^^^^^^^^^\n",
            "  File \"/usr/lib/python3.11/asyncio/streams.py\", line 750, in readexactly\n",
            "    await self._wait_for_data('readexactly')\n",
            "  File \"/usr/lib/python3.11/asyncio/streams.py\", line 543, in _wait_for_data\n",
            "    await self._waiter\n",
            "RuntimeError: Task <Task pending name='Task-2070' coro=<get_unique_nouns() running at <ipython-input-12-fa7a0aee7706>:69> cb=[Task.task_wakeup()]> got Future <Future pending> attached to a different loop\n",
            "\n",
            "During handling of the above exception, another exception occurred:\n",
            "\n",
            "Traceback (most recent call last):\n",
            "  File \"/usr/local/lib/python3.11/dist-packages/sqlalchemy/pool/base.py\", line 374, in _close_connection\n",
            "    self._dialect.do_terminate(connection)\n",
            "  File \"/usr/local/lib/python3.11/dist-packages/sqlalchemy/dialects/mysql/aiomysql.py\", line 312, in do_terminate\n",
            "    dbapi_connection.terminate()\n",
            "  File \"/usr/local/lib/python3.11/dist-packages/sqlalchemy/dialects/mysql/aiomysql.py\", line 210, in terminate\n",
            "    self._connection.close()\n",
            "  File \"/usr/local/lib/python3.11/dist-packages/aiomysql/connection.py\", line 339, in close\n",
            "    self._writer.transport.close()\n",
            "  File \"/usr/lib/python3.11/asyncio/selector_events.py\", line 864, in close\n",
            "    self._loop.call_soon(self._call_connection_lost, None)\n",
            "  File \"/usr/lib/python3.11/asyncio/base_events.py\", line 762, in call_soon\n",
            "    self._check_closed()\n",
            "  File \"/usr/lib/python3.11/asyncio/base_events.py\", line 520, in _check_closed\n",
            "    raise RuntimeError('Event loop is closed')\n",
            "RuntimeError: Event loop is closed\n",
            "ERROR:__main__:Exception on /dashboardAgent [POST]\n",
            "Traceback (most recent call last):\n",
            "  File \"<ipython-input-9-91afecc331e2>\", line 37, in execute_query\n",
            "    result = await session.execute(text(query))\n",
            "             ^^^^^^^^^^^^^^^^^^^^^^^^^^^^^^^^^^\n",
            "  File \"/usr/local/lib/python3.11/dist-packages/sqlalchemy/ext/asyncio/session.py\", line 463, in execute\n",
            "    result = await greenlet_spawn(\n",
            "             ^^^^^^^^^^^^^^^^^^^^^\n",
            "  File \"/usr/local/lib/python3.11/dist-packages/sqlalchemy/util/_concurrency_py3k.py\", line 201, in greenlet_spawn\n",
            "    result = context.throw(*sys.exc_info())\n",
            "             ^^^^^^^^^^^^^^^^^^^^^^^^^^^^^^\n",
            "  File \"/usr/local/lib/python3.11/dist-packages/sqlalchemy/orm/session.py\", line 2365, in execute\n",
            "    return self._execute_internal(\n",
            "           ^^^^^^^^^^^^^^^^^^^^^^^\n",
            "  File \"/usr/local/lib/python3.11/dist-packages/sqlalchemy/orm/session.py\", line 2260, in _execute_internal\n",
            "    result = conn.execute(\n",
            "             ^^^^^^^^^^^^^\n",
            "  File \"/usr/local/lib/python3.11/dist-packages/sqlalchemy/engine/base.py\", line 1416, in execute\n",
            "    return meth(\n",
            "           ^^^^^\n",
            "  File \"/usr/local/lib/python3.11/dist-packages/sqlalchemy/sql/elements.py\", line 515, in _execute_on_connection\n",
            "    return connection._execute_clauseelement(\n",
            "           ^^^^^^^^^^^^^^^^^^^^^^^^^^^^^^^^^^\n",
            "  File \"/usr/local/lib/python3.11/dist-packages/sqlalchemy/engine/base.py\", line 1638, in _execute_clauseelement\n",
            "    ret = self._execute_context(\n",
            "          ^^^^^^^^^^^^^^^^^^^^^^\n",
            "  File \"/usr/local/lib/python3.11/dist-packages/sqlalchemy/engine/base.py\", line 1843, in _execute_context\n",
            "    return self._exec_single_context(\n",
            "           ^^^^^^^^^^^^^^^^^^^^^^^^^^\n",
            "  File \"/usr/local/lib/python3.11/dist-packages/sqlalchemy/engine/base.py\", line 1983, in _exec_single_context\n",
            "    self._handle_dbapi_exception(\n",
            "  File \"/usr/local/lib/python3.11/dist-packages/sqlalchemy/engine/base.py\", line 2355, in _handle_dbapi_exception\n",
            "    raise exc_info[1].with_traceback(exc_info[2])\n",
            "  File \"/usr/local/lib/python3.11/dist-packages/sqlalchemy/engine/base.py\", line 1964, in _exec_single_context\n",
            "    self.dialect.do_execute(\n",
            "  File \"/usr/local/lib/python3.11/dist-packages/sqlalchemy/engine/default.py\", line 942, in do_execute\n",
            "    cursor.execute(statement, parameters)\n",
            "  File \"/usr/local/lib/python3.11/dist-packages/sqlalchemy/dialects/mysql/aiomysql.py\", line 97, in execute\n",
            "    return self.await_(self._execute_async(operation, parameters))\n",
            "           ^^^^^^^^^^^^^^^^^^^^^^^^^^^^^^^^^^^^^^^^^^^^^^^^^^^^^^^\n",
            "  File \"/usr/local/lib/python3.11/dist-packages/sqlalchemy/util/_concurrency_py3k.py\", line 132, in await_only\n",
            "    return current.parent.switch(awaitable)  # type: ignore[no-any-return,attr-defined] # noqa: E501\n",
            "           ^^^^^^^^^^^^^^^^^^^^^^^^^^^^^^^^\n",
            "  File \"/usr/local/lib/python3.11/dist-packages/sqlalchemy/util/_concurrency_py3k.py\", line 196, in greenlet_spawn\n",
            "    value = await result\n",
            "            ^^^^^^^^^^^^\n",
            "  File \"/usr/local/lib/python3.11/dist-packages/sqlalchemy/dialects/mysql/aiomysql.py\", line 106, in _execute_async\n",
            "    result = await self._cursor.execute(operation, parameters)\n",
            "             ^^^^^^^^^^^^^^^^^^^^^^^^^^^^^^^^^^^^^^^^^^^^^^^^^\n",
            "  File \"/usr/local/lib/python3.11/dist-packages/aiomysql/cursors.py\", line 239, in execute\n",
            "    await self._query(query)\n",
            "  File \"/usr/local/lib/python3.11/dist-packages/aiomysql/cursors.py\", line 457, in _query\n",
            "    await conn.query(q)\n",
            "  File \"/usr/local/lib/python3.11/dist-packages/aiomysql/connection.py\", line 469, in query\n",
            "    await self._read_query_result(unbuffered=unbuffered)\n",
            "  File \"/usr/local/lib/python3.11/dist-packages/aiomysql/connection.py\", line 683, in _read_query_result\n",
            "    await result.read()\n",
            "  File \"/usr/local/lib/python3.11/dist-packages/aiomysql/connection.py\", line 1164, in read\n",
            "    first_packet = await self.connection._read_packet()\n",
            "                   ^^^^^^^^^^^^^^^^^^^^^^^^^^^^^^^^^^^^\n",
            "  File \"/usr/local/lib/python3.11/dist-packages/aiomysql/connection.py\", line 609, in _read_packet\n",
            "    packet_header = await self._read_bytes(4)\n",
            "                    ^^^^^^^^^^^^^^^^^^^^^^^^^\n",
            "  File \"/usr/local/lib/python3.11/dist-packages/aiomysql/connection.py\", line 657, in _read_bytes\n",
            "    data = await self._reader.readexactly(num_bytes)\n",
            "           ^^^^^^^^^^^^^^^^^^^^^^^^^^^^^^^^^^^^^^^^^\n",
            "  File \"/usr/lib/python3.11/asyncio/streams.py\", line 750, in readexactly\n",
            "    await self._wait_for_data('readexactly')\n",
            "  File \"/usr/lib/python3.11/asyncio/streams.py\", line 543, in _wait_for_data\n",
            "    await self._waiter\n",
            "RuntimeError: Task <Task pending name='Task-2070' coro=<get_unique_nouns() running at <ipython-input-12-fa7a0aee7706>:69> cb=[Task.task_wakeup()]> got Future <Future pending> attached to a different loop\n",
            "\n",
            "During handling of the above exception, another exception occurred:\n",
            "\n",
            "Traceback (most recent call last):\n",
            "  File \"/usr/local/lib/python3.11/dist-packages/flask/app.py\", line 1511, in wsgi_app\n",
            "    response = self.full_dispatch_request()\n",
            "               ^^^^^^^^^^^^^^^^^^^^^^^^^^^^\n",
            "  File \"/usr/local/lib/python3.11/dist-packages/flask/app.py\", line 919, in full_dispatch_request\n",
            "    rv = self.handle_user_exception(e)\n",
            "         ^^^^^^^^^^^^^^^^^^^^^^^^^^^^^\n",
            "  File \"/usr/local/lib/python3.11/dist-packages/flask_cors/extension.py\", line 194, in wrapped_function\n",
            "    return cors_after_request(app.make_response(f(*args, **kwargs)))\n",
            "                                                ^^^^^^^^^^^^^^^^^^\n",
            "  File \"/usr/local/lib/python3.11/dist-packages/flask/app.py\", line 917, in full_dispatch_request\n",
            "    rv = self.dispatch_request()\n",
            "         ^^^^^^^^^^^^^^^^^^^^^^^\n",
            "  File \"/usr/local/lib/python3.11/dist-packages/flask/app.py\", line 902, in dispatch_request\n",
            "    return self.ensure_sync(self.view_functions[rule.endpoint])(**view_args)  # type: ignore[no-any-return]\n",
            "           ^^^^^^^^^^^^^^^^^^^^^^^^^^^^^^^^^^^^^^^^^^^^^^^^^^^^^^^^^^^^^^^^^\n",
            "  File \"<ipython-input-67-29875ed07a0a>\", line 18, in dashboard_agent\n",
            "    result = asyncio.run(runnable.ainvoke({\"question\": question, \"diagnostic_id\": \"670d7bb908cd96a9c3b69aaf\"}))\n",
            "             ^^^^^^^^^^^^^^^^^^^^^^^^^^^^^^^^^^^^^^^^^^^^^^^^^^^^^^^^^^^^^^^^^^^^^^^^^^^^^^^^^^^^^^^^^^^^^^^^^^\n",
            "  File \"/usr/lib/python3.11/asyncio/runners.py\", line 190, in run\n",
            "    return runner.run(main)\n",
            "           ^^^^^^^^^^^^^^^^\n",
            "  File \"/usr/lib/python3.11/asyncio/runners.py\", line 118, in run\n",
            "    return self._loop.run_until_complete(task)\n",
            "           ^^^^^^^^^^^^^^^^^^^^^^^^^^^^^^^^^^^\n",
            "  File \"/usr/lib/python3.11/asyncio/base_events.py\", line 654, in run_until_complete\n",
            "    return future.result()\n",
            "           ^^^^^^^^^^^^^^^\n",
            "  File \"/usr/local/lib/python3.11/dist-packages/langgraph/pregel/__init__.py\", line 2122, in ainvoke\n",
            "    async for chunk in self.astream(\n",
            "  File \"/usr/local/lib/python3.11/dist-packages/langgraph/pregel/__init__.py\", line 2007, in astream\n",
            "    async for _ in runner.atick(\n",
            "  File \"/usr/local/lib/python3.11/dist-packages/langgraph/pregel/runner.py\", line 444, in atick\n",
            "    await arun_with_retry(\n",
            "  File \"/usr/local/lib/python3.11/dist-packages/langgraph/pregel/retry.py\", line 128, in arun_with_retry\n",
            "    return await task.proc.ainvoke(task.input, config)\n",
            "           ^^^^^^^^^^^^^^^^^^^^^^^^^^^^^^^^^^^^^^^^^^^\n",
            "  File \"/usr/local/lib/python3.11/dist-packages/langgraph/utils/runnable.py\", line 543, in ainvoke\n",
            "    input = await step.ainvoke(input, config, **kwargs)\n",
            "            ^^^^^^^^^^^^^^^^^^^^^^^^^^^^^^^^^^^^^^^^^^^\n",
            "  File \"/usr/local/lib/python3.11/dist-packages/langgraph/utils/runnable.py\", line 331, in ainvoke\n",
            "    ret = await asyncio.create_task(coro, context=context)\n",
            "          ^^^^^^^^^^^^^^^^^^^^^^^^^^^^^^^^^^^^^^^^^^^^^^^^\n",
            "  File \"<ipython-input-12-fa7a0aee7706>\", line 69, in get_unique_nouns\n",
            "    results = await db_manager.execute_query(query)\n",
            "              ^^^^^^^^^^^^^^^^^^^^^^^^^^^^^^^^^^^^^\n",
            "  File \"<ipython-input-9-91afecc331e2>\", line 36, in execute_query\n",
            "    async with session.begin():\n",
            "  File \"/usr/local/lib/python3.11/dist-packages/sqlalchemy/util/_concurrency_py3k.py\", line 201, in greenlet_spawn\n",
            "    result = context.throw(*sys.exc_info())\n",
            "             ^^^^^^^^^^^^^^^^^^^^^^^^^^^^^^\n",
            "  File \"/usr/local/lib/python3.11/dist-packages/sqlalchemy/engine/util.py\", line 162, in __exit__\n",
            "    self.rollback()\n",
            "  File \"<string>\", line 2, in rollback\n",
            "  File \"/usr/local/lib/python3.11/dist-packages/sqlalchemy/orm/state_changes.py\", line 139, in _go\n",
            "    ret_value = fn(self, *arg, **kw)\n",
            "                ^^^^^^^^^^^^^^^^^^^^\n",
            "  File \"/usr/local/lib/python3.11/dist-packages/sqlalchemy/orm/session.py\", line 1395, in rollback\n",
            "    raise rollback_err[1].with_traceback(rollback_err[2])\n",
            "  File \"/usr/local/lib/python3.11/dist-packages/sqlalchemy/orm/session.py\", line 1360, in rollback\n",
            "    t[1].rollback()\n",
            "  File \"/usr/local/lib/python3.11/dist-packages/sqlalchemy/engine/base.py\", line 2608, in rollback\n",
            "    self._do_rollback()\n",
            "  File \"/usr/local/lib/python3.11/dist-packages/sqlalchemy/engine/base.py\", line 2727, in _do_rollback\n",
            "    self._close_impl(try_deactivate=True)\n",
            "  File \"/usr/local/lib/python3.11/dist-packages/sqlalchemy/engine/base.py\", line 2710, in _close_impl\n",
            "    self._connection_rollback_impl()\n",
            "  File \"/usr/local/lib/python3.11/dist-packages/sqlalchemy/engine/base.py\", line 2702, in _connection_rollback_impl\n",
            "    self.connection._rollback_impl()\n",
            "  File \"/usr/local/lib/python3.11/dist-packages/sqlalchemy/engine/base.py\", line 1127, in _rollback_impl\n",
            "    self._handle_dbapi_exception(e, None, None, None, None)\n",
            "  File \"/usr/local/lib/python3.11/dist-packages/sqlalchemy/engine/base.py\", line 2355, in _handle_dbapi_exception\n",
            "    raise exc_info[1].with_traceback(exc_info[2])\n",
            "  File \"/usr/local/lib/python3.11/dist-packages/sqlalchemy/engine/base.py\", line 1125, in _rollback_impl\n",
            "    self.engine.dialect.do_rollback(self.connection)\n",
            "  File \"/usr/local/lib/python3.11/dist-packages/sqlalchemy/engine/default.py\", line 700, in do_rollback\n",
            "    dbapi_connection.rollback()\n",
            "  File \"/usr/local/lib/python3.11/dist-packages/sqlalchemy/dialects/mysql/aiomysql.py\", line 203, in rollback\n",
            "    self.await_(self._connection.rollback())\n",
            "  File \"/usr/local/lib/python3.11/dist-packages/sqlalchemy/util/_concurrency_py3k.py\", line 132, in await_only\n",
            "    return current.parent.switch(awaitable)  # type: ignore[no-any-return,attr-defined] # noqa: E501\n",
            "           ^^^^^^^^^^^^^^^^^^^^^^^^^^^^^^^^\n",
            "  File \"/usr/local/lib/python3.11/dist-packages/sqlalchemy/util/_concurrency_py3k.py\", line 196, in greenlet_spawn\n",
            "    value = await result\n",
            "            ^^^^^^^^^^^^\n",
            "  File \"/usr/local/lib/python3.11/dist-packages/aiomysql/connection.py\", line 399, in rollback\n",
            "    await self._read_ok_packet()\n",
            "  File \"/usr/local/lib/python3.11/dist-packages/aiomysql/connection.py\", line 372, in _read_ok_packet\n",
            "    pkt = await self._read_packet()\n",
            "          ^^^^^^^^^^^^^^^^^^^^^^^^^\n",
            "  File \"/usr/local/lib/python3.11/dist-packages/aiomysql/connection.py\", line 609, in _read_packet\n",
            "    packet_header = await self._read_bytes(4)\n",
            "                    ^^^^^^^^^^^^^^^^^^^^^^^^^\n",
            "  File \"/usr/local/lib/python3.11/dist-packages/aiomysql/connection.py\", line 657, in _read_bytes\n",
            "    data = await self._reader.readexactly(num_bytes)\n",
            "           ^^^^^^^^^^^^^^^^^^^^^^^^^^^^^^^^^^^^^^^^^\n",
            "  File \"/usr/lib/python3.11/asyncio/streams.py\", line 750, in readexactly\n",
            "    await self._wait_for_data('readexactly')\n",
            "  File \"/usr/lib/python3.11/asyncio/streams.py\", line 543, in _wait_for_data\n",
            "    await self._waiter\n",
            "RuntimeError: Task <Task pending name='Task-2070' coro=<get_unique_nouns() running at <ipython-input-12-fa7a0aee7706>:69> cb=[Task.task_wakeup()]> got Future <Future pending> attached to a different loop\n",
            "During task with name 'get_unique_nouns' and id '5dd63703-7cba-791d-85fe-96ff9b94713b'\n",
            "INFO:werkzeug:127.0.0.1 - - [10/Feb/2025 15:03:40] \"\u001b[35m\u001b[1mPOST /dashboardAgent HTTP/1.1\u001b[0m\" 500 -\n",
            "INFO:werkzeug:127.0.0.1 - - [10/Feb/2025 15:03:54] \"OPTIONS /dashboardAgent HTTP/1.1\" 200 -\n",
            "INFO:werkzeug:127.0.0.1 - - [10/Feb/2025 15:03:54] \"OPTIONS /dashboardAgent HTTP/1.1\" 200 -\n"
          ]
        },
        {
          "output_type": "stream",
          "name": "stdout",
          "text": [
            "2025-02-10 15:03:56,138 INFO sqlalchemy.engine.Engine BEGIN (implicit)\n"
          ]
        },
        {
          "output_type": "stream",
          "name": "stderr",
          "text": [
            "INFO:sqlalchemy.engine.Engine:BEGIN (implicit)\n"
          ]
        },
        {
          "output_type": "stream",
          "name": "stdout",
          "text": [
            "2025-02-10 15:03:56,141 INFO sqlalchemy.engine.Engine SHOW FULL TABLES FROM \"defaultdb\"\n"
          ]
        },
        {
          "output_type": "stream",
          "name": "stderr",
          "text": [
            "INFO:sqlalchemy.engine.Engine:SHOW FULL TABLES FROM \"defaultdb\"\n"
          ]
        },
        {
          "output_type": "stream",
          "name": "stdout",
          "text": [
            "2025-02-10 15:03:56,144 INFO sqlalchemy.engine.Engine [raw sql] ()\n"
          ]
        },
        {
          "output_type": "stream",
          "name": "stderr",
          "text": [
            "INFO:sqlalchemy.engine.Engine:[raw sql] ()\n"
          ]
        },
        {
          "output_type": "stream",
          "name": "stdout",
          "text": [
            "2025-02-10 15:03:56,221 INFO sqlalchemy.engine.Engine BEGIN (implicit)\n"
          ]
        },
        {
          "output_type": "stream",
          "name": "stderr",
          "text": [
            "INFO:sqlalchemy.engine.Engine:BEGIN (implicit)\n"
          ]
        },
        {
          "output_type": "stream",
          "name": "stdout",
          "text": [
            "2025-02-10 15:03:56,225 INFO sqlalchemy.engine.Engine SHOW FULL TABLES FROM \"defaultdb\"\n"
          ]
        },
        {
          "output_type": "stream",
          "name": "stderr",
          "text": [
            "INFO:sqlalchemy.engine.Engine:SHOW FULL TABLES FROM \"defaultdb\"\n"
          ]
        },
        {
          "output_type": "stream",
          "name": "stdout",
          "text": [
            "2025-02-10 15:03:56,227 INFO sqlalchemy.engine.Engine [raw sql] ()\n"
          ]
        },
        {
          "output_type": "stream",
          "name": "stderr",
          "text": [
            "INFO:sqlalchemy.engine.Engine:[raw sql] ()\n"
          ]
        },
        {
          "output_type": "stream",
          "name": "stdout",
          "text": [
            "2025-02-10 15:03:56,392 INFO sqlalchemy.engine.Engine SHOW CREATE TABLE \"SequelizeMeta\"\n"
          ]
        },
        {
          "output_type": "stream",
          "name": "stderr",
          "text": [
            "INFO:sqlalchemy.engine.Engine:SHOW CREATE TABLE \"SequelizeMeta\"\n"
          ]
        },
        {
          "output_type": "stream",
          "name": "stdout",
          "text": [
            "2025-02-10 15:03:56,394 INFO sqlalchemy.engine.Engine [raw sql] ()\n"
          ]
        },
        {
          "output_type": "stream",
          "name": "stderr",
          "text": [
            "INFO:sqlalchemy.engine.Engine:[raw sql] ()\n"
          ]
        },
        {
          "output_type": "stream",
          "name": "stdout",
          "text": [
            "2025-02-10 15:03:56,471 INFO sqlalchemy.engine.Engine SHOW CREATE TABLE \"SequelizeMeta\"\n"
          ]
        },
        {
          "output_type": "stream",
          "name": "stderr",
          "text": [
            "INFO:sqlalchemy.engine.Engine:SHOW CREATE TABLE \"SequelizeMeta\"\n"
          ]
        },
        {
          "output_type": "stream",
          "name": "stdout",
          "text": [
            "2025-02-10 15:03:56,473 INFO sqlalchemy.engine.Engine [raw sql] ()\n"
          ]
        },
        {
          "output_type": "stream",
          "name": "stderr",
          "text": [
            "INFO:sqlalchemy.engine.Engine:[raw sql] ()\n"
          ]
        },
        {
          "output_type": "stream",
          "name": "stdout",
          "text": [
            "2025-02-10 15:03:56,638 INFO sqlalchemy.engine.Engine SHOW CREATE TABLE \"candidate_data\"\n"
          ]
        },
        {
          "output_type": "stream",
          "name": "stderr",
          "text": [
            "INFO:sqlalchemy.engine.Engine:SHOW CREATE TABLE \"candidate_data\"\n"
          ]
        },
        {
          "output_type": "stream",
          "name": "stdout",
          "text": [
            "2025-02-10 15:03:56,641 INFO sqlalchemy.engine.Engine [raw sql] ()\n"
          ]
        },
        {
          "output_type": "stream",
          "name": "stderr",
          "text": [
            "INFO:sqlalchemy.engine.Engine:[raw sql] ()\n"
          ]
        },
        {
          "output_type": "stream",
          "name": "stdout",
          "text": [
            "2025-02-10 15:03:56,717 INFO sqlalchemy.engine.Engine SHOW CREATE TABLE \"candidate_data\"\n"
          ]
        },
        {
          "output_type": "stream",
          "name": "stderr",
          "text": [
            "INFO:sqlalchemy.engine.Engine:SHOW CREATE TABLE \"candidate_data\"\n"
          ]
        },
        {
          "output_type": "stream",
          "name": "stdout",
          "text": [
            "2025-02-10 15:03:56,719 INFO sqlalchemy.engine.Engine [raw sql] ()\n"
          ]
        },
        {
          "output_type": "stream",
          "name": "stderr",
          "text": [
            "INFO:sqlalchemy.engine.Engine:[raw sql] ()\n"
          ]
        },
        {
          "output_type": "stream",
          "name": "stdout",
          "text": [
            "2025-02-10 15:03:56,888 INFO sqlalchemy.engine.Engine SHOW CREATE TABLE \"candidate_demographics\"\n"
          ]
        },
        {
          "output_type": "stream",
          "name": "stderr",
          "text": [
            "INFO:sqlalchemy.engine.Engine:SHOW CREATE TABLE \"candidate_demographics\"\n"
          ]
        },
        {
          "output_type": "stream",
          "name": "stdout",
          "text": [
            "2025-02-10 15:03:56,891 INFO sqlalchemy.engine.Engine [raw sql] ()\n"
          ]
        },
        {
          "output_type": "stream",
          "name": "stderr",
          "text": [
            "INFO:sqlalchemy.engine.Engine:[raw sql] ()\n"
          ]
        },
        {
          "output_type": "stream",
          "name": "stdout",
          "text": [
            "2025-02-10 15:03:56,965 INFO sqlalchemy.engine.Engine SHOW CREATE TABLE \"candidate_demographics\"\n"
          ]
        },
        {
          "output_type": "stream",
          "name": "stderr",
          "text": [
            "INFO:sqlalchemy.engine.Engine:SHOW CREATE TABLE \"candidate_demographics\"\n"
          ]
        },
        {
          "output_type": "stream",
          "name": "stdout",
          "text": [
            "2025-02-10 15:03:56,969 INFO sqlalchemy.engine.Engine [raw sql] ()\n"
          ]
        },
        {
          "output_type": "stream",
          "name": "stderr",
          "text": [
            "INFO:sqlalchemy.engine.Engine:[raw sql] ()\n"
          ]
        },
        {
          "output_type": "stream",
          "name": "stdout",
          "text": [
            "2025-02-10 15:03:57,135 INFO sqlalchemy.engine.Engine SHOW CREATE TABLE \"csrpartner_data\"\n"
          ]
        },
        {
          "output_type": "stream",
          "name": "stderr",
          "text": [
            "INFO:sqlalchemy.engine.Engine:SHOW CREATE TABLE \"csrpartner_data\"\n"
          ]
        },
        {
          "output_type": "stream",
          "name": "stdout",
          "text": [
            "2025-02-10 15:03:57,140 INFO sqlalchemy.engine.Engine [raw sql] ()\n"
          ]
        },
        {
          "output_type": "stream",
          "name": "stderr",
          "text": [
            "INFO:sqlalchemy.engine.Engine:[raw sql] ()\n"
          ]
        },
        {
          "output_type": "stream",
          "name": "stdout",
          "text": [
            "2025-02-10 15:03:57,215 INFO sqlalchemy.engine.Engine SHOW CREATE TABLE \"csrpartner_data\"\n"
          ]
        },
        {
          "output_type": "stream",
          "name": "stderr",
          "text": [
            "INFO:sqlalchemy.engine.Engine:SHOW CREATE TABLE \"csrpartner_data\"\n"
          ]
        },
        {
          "output_type": "stream",
          "name": "stdout",
          "text": [
            "2025-02-10 15:03:57,218 INFO sqlalchemy.engine.Engine [raw sql] ()\n"
          ]
        },
        {
          "output_type": "stream",
          "name": "stderr",
          "text": [
            "INFO:sqlalchemy.engine.Engine:[raw sql] ()\n"
          ]
        },
        {
          "output_type": "stream",
          "name": "stdout",
          "text": [
            "2025-02-10 15:03:57,386 INFO sqlalchemy.engine.Engine SHOW CREATE TABLE \"csrpartner_demographics\"\n"
          ]
        },
        {
          "output_type": "stream",
          "name": "stderr",
          "text": [
            "INFO:sqlalchemy.engine.Engine:SHOW CREATE TABLE \"csrpartner_demographics\"\n"
          ]
        },
        {
          "output_type": "stream",
          "name": "stdout",
          "text": [
            "2025-02-10 15:03:57,389 INFO sqlalchemy.engine.Engine [raw sql] ()\n"
          ]
        },
        {
          "output_type": "stream",
          "name": "stderr",
          "text": [
            "INFO:sqlalchemy.engine.Engine:[raw sql] ()\n"
          ]
        },
        {
          "output_type": "stream",
          "name": "stdout",
          "text": [
            "2025-02-10 15:03:57,463 INFO sqlalchemy.engine.Engine SHOW CREATE TABLE \"csrpartner_demographics\"\n"
          ]
        },
        {
          "output_type": "stream",
          "name": "stderr",
          "text": [
            "INFO:sqlalchemy.engine.Engine:SHOW CREATE TABLE \"csrpartner_demographics\"\n"
          ]
        },
        {
          "output_type": "stream",
          "name": "stdout",
          "text": [
            "2025-02-10 15:03:57,466 INFO sqlalchemy.engine.Engine [raw sql] ()\n"
          ]
        },
        {
          "output_type": "stream",
          "name": "stderr",
          "text": [
            "INFO:sqlalchemy.engine.Engine:[raw sql] ()\n"
          ]
        },
        {
          "output_type": "stream",
          "name": "stdout",
          "text": [
            "2025-02-10 15:03:57,635 INFO sqlalchemy.engine.Engine SHOW CREATE TABLE \"customer_data\"\n"
          ]
        },
        {
          "output_type": "stream",
          "name": "stderr",
          "text": [
            "INFO:sqlalchemy.engine.Engine:SHOW CREATE TABLE \"customer_data\"\n"
          ]
        },
        {
          "output_type": "stream",
          "name": "stdout",
          "text": [
            "2025-02-10 15:03:57,638 INFO sqlalchemy.engine.Engine [raw sql] ()\n"
          ]
        },
        {
          "output_type": "stream",
          "name": "stderr",
          "text": [
            "INFO:sqlalchemy.engine.Engine:[raw sql] ()\n"
          ]
        },
        {
          "output_type": "stream",
          "name": "stdout",
          "text": [
            "2025-02-10 15:03:57,712 INFO sqlalchemy.engine.Engine SHOW CREATE TABLE \"customer_data\"\n"
          ]
        },
        {
          "output_type": "stream",
          "name": "stderr",
          "text": [
            "INFO:sqlalchemy.engine.Engine:SHOW CREATE TABLE \"customer_data\"\n"
          ]
        },
        {
          "output_type": "stream",
          "name": "stdout",
          "text": [
            "2025-02-10 15:03:57,715 INFO sqlalchemy.engine.Engine [raw sql] ()\n"
          ]
        },
        {
          "output_type": "stream",
          "name": "stderr",
          "text": [
            "INFO:sqlalchemy.engine.Engine:[raw sql] ()\n"
          ]
        },
        {
          "output_type": "stream",
          "name": "stdout",
          "text": [
            "2025-02-10 15:03:57,883 INFO sqlalchemy.engine.Engine SHOW CREATE TABLE \"customer_demographics\"\n"
          ]
        },
        {
          "output_type": "stream",
          "name": "stderr",
          "text": [
            "INFO:sqlalchemy.engine.Engine:SHOW CREATE TABLE \"customer_demographics\"\n"
          ]
        },
        {
          "output_type": "stream",
          "name": "stdout",
          "text": [
            "2025-02-10 15:03:57,887 INFO sqlalchemy.engine.Engine [raw sql] ()\n"
          ]
        },
        {
          "output_type": "stream",
          "name": "stderr",
          "text": [
            "INFO:sqlalchemy.engine.Engine:[raw sql] ()\n"
          ]
        },
        {
          "output_type": "stream",
          "name": "stdout",
          "text": [
            "2025-02-10 15:03:57,960 INFO sqlalchemy.engine.Engine SHOW CREATE TABLE \"customer_demographics\"\n"
          ]
        },
        {
          "output_type": "stream",
          "name": "stderr",
          "text": [
            "INFO:sqlalchemy.engine.Engine:SHOW CREATE TABLE \"customer_demographics\"\n"
          ]
        },
        {
          "output_type": "stream",
          "name": "stdout",
          "text": [
            "2025-02-10 15:03:57,963 INFO sqlalchemy.engine.Engine [raw sql] ()\n"
          ]
        },
        {
          "output_type": "stream",
          "name": "stderr",
          "text": [
            "INFO:sqlalchemy.engine.Engine:[raw sql] ()\n"
          ]
        },
        {
          "output_type": "stream",
          "name": "stdout",
          "text": [
            "2025-02-10 15:03:58,130 INFO sqlalchemy.engine.Engine SHOW CREATE TABLE \"employee_data\"\n"
          ]
        },
        {
          "output_type": "stream",
          "name": "stderr",
          "text": [
            "INFO:sqlalchemy.engine.Engine:SHOW CREATE TABLE \"employee_data\"\n"
          ]
        },
        {
          "output_type": "stream",
          "name": "stdout",
          "text": [
            "2025-02-10 15:03:58,133 INFO sqlalchemy.engine.Engine [raw sql] ()\n"
          ]
        },
        {
          "output_type": "stream",
          "name": "stderr",
          "text": [
            "INFO:sqlalchemy.engine.Engine:[raw sql] ()\n"
          ]
        },
        {
          "output_type": "stream",
          "name": "stdout",
          "text": [
            "2025-02-10 15:03:58,207 INFO sqlalchemy.engine.Engine SHOW CREATE TABLE \"employee_data\"\n"
          ]
        },
        {
          "output_type": "stream",
          "name": "stderr",
          "text": [
            "INFO:sqlalchemy.engine.Engine:SHOW CREATE TABLE \"employee_data\"\n"
          ]
        },
        {
          "output_type": "stream",
          "name": "stdout",
          "text": [
            "2025-02-10 15:03:58,210 INFO sqlalchemy.engine.Engine [raw sql] ()\n"
          ]
        },
        {
          "output_type": "stream",
          "name": "stderr",
          "text": [
            "INFO:sqlalchemy.engine.Engine:[raw sql] ()\n"
          ]
        },
        {
          "output_type": "stream",
          "name": "stdout",
          "text": [
            "2025-02-10 15:03:58,378 INFO sqlalchemy.engine.Engine SHOW CREATE TABLE \"employee_demographics\"\n"
          ]
        },
        {
          "output_type": "stream",
          "name": "stderr",
          "text": [
            "INFO:sqlalchemy.engine.Engine:SHOW CREATE TABLE \"employee_demographics\"\n"
          ]
        },
        {
          "output_type": "stream",
          "name": "stdout",
          "text": [
            "2025-02-10 15:03:58,381 INFO sqlalchemy.engine.Engine [raw sql] ()\n"
          ]
        },
        {
          "output_type": "stream",
          "name": "stderr",
          "text": [
            "INFO:sqlalchemy.engine.Engine:[raw sql] ()\n"
          ]
        },
        {
          "output_type": "stream",
          "name": "stdout",
          "text": [
            "2025-02-10 15:03:58,455 INFO sqlalchemy.engine.Engine SHOW CREATE TABLE \"employee_demographics\"\n"
          ]
        },
        {
          "output_type": "stream",
          "name": "stderr",
          "text": [
            "INFO:sqlalchemy.engine.Engine:SHOW CREATE TABLE \"employee_demographics\"\n"
          ]
        },
        {
          "output_type": "stream",
          "name": "stdout",
          "text": [
            "2025-02-10 15:03:58,458 INFO sqlalchemy.engine.Engine [raw sql] ()\n"
          ]
        },
        {
          "output_type": "stream",
          "name": "stderr",
          "text": [
            "INFO:sqlalchemy.engine.Engine:[raw sql] ()\n"
          ]
        },
        {
          "output_type": "stream",
          "name": "stdout",
          "text": [
            "2025-02-10 15:03:58,626 INFO sqlalchemy.engine.Engine SHOW CREATE TABLE \"investor_data\"\n"
          ]
        },
        {
          "output_type": "stream",
          "name": "stderr",
          "text": [
            "INFO:sqlalchemy.engine.Engine:SHOW CREATE TABLE \"investor_data\"\n"
          ]
        },
        {
          "output_type": "stream",
          "name": "stdout",
          "text": [
            "2025-02-10 15:03:58,630 INFO sqlalchemy.engine.Engine [raw sql] ()\n"
          ]
        },
        {
          "output_type": "stream",
          "name": "stderr",
          "text": [
            "INFO:sqlalchemy.engine.Engine:[raw sql] ()\n"
          ]
        },
        {
          "output_type": "stream",
          "name": "stdout",
          "text": [
            "2025-02-10 15:03:58,702 INFO sqlalchemy.engine.Engine SHOW CREATE TABLE \"investor_data\"\n"
          ]
        },
        {
          "output_type": "stream",
          "name": "stderr",
          "text": [
            "INFO:sqlalchemy.engine.Engine:SHOW CREATE TABLE \"investor_data\"\n"
          ]
        },
        {
          "output_type": "stream",
          "name": "stdout",
          "text": [
            "2025-02-10 15:03:58,705 INFO sqlalchemy.engine.Engine [raw sql] ()\n"
          ]
        },
        {
          "output_type": "stream",
          "name": "stderr",
          "text": [
            "INFO:sqlalchemy.engine.Engine:[raw sql] ()\n"
          ]
        },
        {
          "output_type": "stream",
          "name": "stdout",
          "text": [
            "2025-02-10 15:03:58,876 INFO sqlalchemy.engine.Engine SHOW CREATE TABLE \"investor_demographics\"\n"
          ]
        },
        {
          "output_type": "stream",
          "name": "stderr",
          "text": [
            "INFO:sqlalchemy.engine.Engine:SHOW CREATE TABLE \"investor_demographics\"\n"
          ]
        },
        {
          "output_type": "stream",
          "name": "stdout",
          "text": [
            "2025-02-10 15:03:58,878 INFO sqlalchemy.engine.Engine [raw sql] ()\n"
          ]
        },
        {
          "output_type": "stream",
          "name": "stderr",
          "text": [
            "INFO:sqlalchemy.engine.Engine:[raw sql] ()\n"
          ]
        },
        {
          "output_type": "stream",
          "name": "stdout",
          "text": [
            "2025-02-10 15:03:58,949 INFO sqlalchemy.engine.Engine SHOW CREATE TABLE \"investor_demographics\"\n"
          ]
        },
        {
          "output_type": "stream",
          "name": "stderr",
          "text": [
            "INFO:sqlalchemy.engine.Engine:SHOW CREATE TABLE \"investor_demographics\"\n"
          ]
        },
        {
          "output_type": "stream",
          "name": "stdout",
          "text": [
            "2025-02-10 15:03:58,952 INFO sqlalchemy.engine.Engine [raw sql] ()\n"
          ]
        },
        {
          "output_type": "stream",
          "name": "stderr",
          "text": [
            "INFO:sqlalchemy.engine.Engine:[raw sql] ()\n"
          ]
        },
        {
          "output_type": "stream",
          "name": "stdout",
          "text": [
            "2025-02-10 15:03:59,123 INFO sqlalchemy.engine.Engine SHOW CREATE TABLE \"partner_data\"\n"
          ]
        },
        {
          "output_type": "stream",
          "name": "stderr",
          "text": [
            "INFO:sqlalchemy.engine.Engine:SHOW CREATE TABLE \"partner_data\"\n"
          ]
        },
        {
          "output_type": "stream",
          "name": "stdout",
          "text": [
            "2025-02-10 15:03:59,126 INFO sqlalchemy.engine.Engine [raw sql] ()\n"
          ]
        },
        {
          "output_type": "stream",
          "name": "stderr",
          "text": [
            "INFO:sqlalchemy.engine.Engine:[raw sql] ()\n"
          ]
        },
        {
          "output_type": "stream",
          "name": "stdout",
          "text": [
            "2025-02-10 15:03:59,195 INFO sqlalchemy.engine.Engine SHOW CREATE TABLE \"partner_data\"\n"
          ]
        },
        {
          "output_type": "stream",
          "name": "stderr",
          "text": [
            "INFO:sqlalchemy.engine.Engine:SHOW CREATE TABLE \"partner_data\"\n"
          ]
        },
        {
          "output_type": "stream",
          "name": "stdout",
          "text": [
            "2025-02-10 15:03:59,197 INFO sqlalchemy.engine.Engine [raw sql] ()\n"
          ]
        },
        {
          "output_type": "stream",
          "name": "stderr",
          "text": [
            "INFO:sqlalchemy.engine.Engine:[raw sql] ()\n"
          ]
        },
        {
          "output_type": "stream",
          "name": "stdout",
          "text": [
            "2025-02-10 15:03:59,375 INFO sqlalchemy.engine.Engine SHOW CREATE TABLE \"partner_demographics\"\n"
          ]
        },
        {
          "output_type": "stream",
          "name": "stderr",
          "text": [
            "INFO:sqlalchemy.engine.Engine:SHOW CREATE TABLE \"partner_demographics\"\n"
          ]
        },
        {
          "output_type": "stream",
          "name": "stdout",
          "text": [
            "2025-02-10 15:03:59,379 INFO sqlalchemy.engine.Engine [raw sql] ()\n"
          ]
        },
        {
          "output_type": "stream",
          "name": "stderr",
          "text": [
            "INFO:sqlalchemy.engine.Engine:[raw sql] ()\n"
          ]
        },
        {
          "output_type": "stream",
          "name": "stdout",
          "text": [
            "2025-02-10 15:03:59,444 INFO sqlalchemy.engine.Engine SHOW CREATE TABLE \"partner_demographics\"\n"
          ]
        },
        {
          "output_type": "stream",
          "name": "stderr",
          "text": [
            "INFO:sqlalchemy.engine.Engine:SHOW CREATE TABLE \"partner_demographics\"\n"
          ]
        },
        {
          "output_type": "stream",
          "name": "stdout",
          "text": [
            "2025-02-10 15:03:59,448 INFO sqlalchemy.engine.Engine [raw sql] ()\n"
          ]
        },
        {
          "output_type": "stream",
          "name": "stderr",
          "text": [
            "INFO:sqlalchemy.engine.Engine:[raw sql] ()\n"
          ]
        },
        {
          "output_type": "stream",
          "name": "stdout",
          "text": [
            "2025-02-10 15:03:59,623 INFO sqlalchemy.engine.Engine SHOW CREATE TABLE \"vendor_data\"\n"
          ]
        },
        {
          "output_type": "stream",
          "name": "stderr",
          "text": [
            "INFO:sqlalchemy.engine.Engine:SHOW CREATE TABLE \"vendor_data\"\n"
          ]
        },
        {
          "output_type": "stream",
          "name": "stdout",
          "text": [
            "2025-02-10 15:03:59,627 INFO sqlalchemy.engine.Engine [raw sql] ()\n"
          ]
        },
        {
          "output_type": "stream",
          "name": "stderr",
          "text": [
            "INFO:sqlalchemy.engine.Engine:[raw sql] ()\n"
          ]
        },
        {
          "output_type": "stream",
          "name": "stdout",
          "text": [
            "2025-02-10 15:03:59,691 INFO sqlalchemy.engine.Engine SHOW CREATE TABLE \"vendor_data\"\n"
          ]
        },
        {
          "output_type": "stream",
          "name": "stderr",
          "text": [
            "INFO:sqlalchemy.engine.Engine:SHOW CREATE TABLE \"vendor_data\"\n"
          ]
        },
        {
          "output_type": "stream",
          "name": "stdout",
          "text": [
            "2025-02-10 15:03:59,694 INFO sqlalchemy.engine.Engine [raw sql] ()\n"
          ]
        },
        {
          "output_type": "stream",
          "name": "stderr",
          "text": [
            "INFO:sqlalchemy.engine.Engine:[raw sql] ()\n"
          ]
        },
        {
          "output_type": "stream",
          "name": "stdout",
          "text": [
            "2025-02-10 15:03:59,871 INFO sqlalchemy.engine.Engine SHOW CREATE TABLE \"vendor_demographics\"\n"
          ]
        },
        {
          "output_type": "stream",
          "name": "stderr",
          "text": [
            "INFO:sqlalchemy.engine.Engine:SHOW CREATE TABLE \"vendor_demographics\"\n"
          ]
        },
        {
          "output_type": "stream",
          "name": "stdout",
          "text": [
            "2025-02-10 15:03:59,876 INFO sqlalchemy.engine.Engine [raw sql] ()\n"
          ]
        },
        {
          "output_type": "stream",
          "name": "stderr",
          "text": [
            "INFO:sqlalchemy.engine.Engine:[raw sql] ()\n"
          ]
        },
        {
          "output_type": "stream",
          "name": "stdout",
          "text": [
            "2025-02-10 15:03:59,938 INFO sqlalchemy.engine.Engine SHOW CREATE TABLE \"vendor_demographics\"\n"
          ]
        },
        {
          "output_type": "stream",
          "name": "stderr",
          "text": [
            "INFO:sqlalchemy.engine.Engine:SHOW CREATE TABLE \"vendor_demographics\"\n"
          ]
        },
        {
          "output_type": "stream",
          "name": "stdout",
          "text": [
            "2025-02-10 15:03:59,949 INFO sqlalchemy.engine.Engine [raw sql] ()\n"
          ]
        },
        {
          "output_type": "stream",
          "name": "stderr",
          "text": [
            "INFO:sqlalchemy.engine.Engine:[raw sql] ()\n"
          ]
        },
        {
          "output_type": "stream",
          "name": "stdout",
          "text": [
            "2025-02-10 15:04:00,127 INFO sqlalchemy.engine.Engine SELECT information_schema.columns.table_schema, information_schema.columns.table_name, information_schema.columns.column_name \n",
            "FROM information_schema.columns \n",
            "WHERE information_schema.columns.table_schema = %s AND information_schema.columns.table_name = %s AND lower(information_schema.columns.column_name) IN (%s)\n"
          ]
        },
        {
          "output_type": "stream",
          "name": "stderr",
          "text": [
            "INFO:sqlalchemy.engine.Engine:SELECT information_schema.columns.table_schema, information_schema.columns.table_name, information_schema.columns.column_name \n",
            "FROM information_schema.columns \n",
            "WHERE information_schema.columns.table_schema = %s AND information_schema.columns.table_name = %s AND lower(information_schema.columns.column_name) IN (%s)\n"
          ]
        },
        {
          "output_type": "stream",
          "name": "stdout",
          "text": [
            "2025-02-10 15:04:00,131 INFO sqlalchemy.engine.Engine [cached since 1.866e+04s ago] ('defaultdb', 'candidate_data', 'id')\n"
          ]
        },
        {
          "output_type": "stream",
          "name": "stderr",
          "text": [
            "INFO:sqlalchemy.engine.Engine:[cached since 1.866e+04s ago] ('defaultdb', 'candidate_data', 'id')\n"
          ]
        },
        {
          "output_type": "stream",
          "name": "stdout",
          "text": [
            "2025-02-10 15:04:00,195 INFO sqlalchemy.engine.Engine SELECT information_schema.columns.table_schema, information_schema.columns.table_name, information_schema.columns.column_name \n",
            "FROM information_schema.columns \n",
            "WHERE information_schema.columns.table_schema = %s AND information_schema.columns.table_name = %s AND lower(information_schema.columns.column_name) IN (%s)\n"
          ]
        },
        {
          "output_type": "stream",
          "name": "stderr",
          "text": [
            "INFO:sqlalchemy.engine.Engine:SELECT information_schema.columns.table_schema, information_schema.columns.table_name, information_schema.columns.column_name \n",
            "FROM information_schema.columns \n",
            "WHERE information_schema.columns.table_schema = %s AND information_schema.columns.table_name = %s AND lower(information_schema.columns.column_name) IN (%s)\n"
          ]
        },
        {
          "output_type": "stream",
          "name": "stdout",
          "text": [
            "2025-02-10 15:04:00,198 INFO sqlalchemy.engine.Engine [cached since 1.866e+04s ago] ('defaultdb', 'candidate_data', 'id')\n"
          ]
        },
        {
          "output_type": "stream",
          "name": "stderr",
          "text": [
            "INFO:sqlalchemy.engine.Engine:[cached since 1.866e+04s ago] ('defaultdb', 'candidate_data', 'id')\n"
          ]
        },
        {
          "output_type": "stream",
          "name": "stdout",
          "text": [
            "2025-02-10 15:04:00,379 INFO sqlalchemy.engine.Engine SELECT information_schema.columns.table_schema, information_schema.columns.table_name, information_schema.columns.column_name \n",
            "FROM information_schema.columns \n",
            "WHERE information_schema.columns.table_schema = %s AND information_schema.columns.table_name = %s AND lower(information_schema.columns.column_name) IN (%s)\n"
          ]
        },
        {
          "output_type": "stream",
          "name": "stderr",
          "text": [
            "INFO:sqlalchemy.engine.Engine:SELECT information_schema.columns.table_schema, information_schema.columns.table_name, information_schema.columns.column_name \n",
            "FROM information_schema.columns \n",
            "WHERE information_schema.columns.table_schema = %s AND information_schema.columns.table_name = %s AND lower(information_schema.columns.column_name) IN (%s)\n"
          ]
        },
        {
          "output_type": "stream",
          "name": "stdout",
          "text": [
            "2025-02-10 15:04:00,382 INFO sqlalchemy.engine.Engine [cached since 1.866e+04s ago] ('defaultdb', 'csrpartner_data', 'id')\n"
          ]
        },
        {
          "output_type": "stream",
          "name": "stderr",
          "text": [
            "INFO:sqlalchemy.engine.Engine:[cached since 1.866e+04s ago] ('defaultdb', 'csrpartner_data', 'id')\n"
          ]
        },
        {
          "output_type": "stream",
          "name": "stdout",
          "text": [
            "2025-02-10 15:04:00,445 INFO sqlalchemy.engine.Engine SELECT information_schema.columns.table_schema, information_schema.columns.table_name, information_schema.columns.column_name \n",
            "FROM information_schema.columns \n",
            "WHERE information_schema.columns.table_schema = %s AND information_schema.columns.table_name = %s AND lower(information_schema.columns.column_name) IN (%s)\n"
          ]
        },
        {
          "output_type": "stream",
          "name": "stderr",
          "text": [
            "INFO:sqlalchemy.engine.Engine:SELECT information_schema.columns.table_schema, information_schema.columns.table_name, information_schema.columns.column_name \n",
            "FROM information_schema.columns \n",
            "WHERE information_schema.columns.table_schema = %s AND information_schema.columns.table_name = %s AND lower(information_schema.columns.column_name) IN (%s)\n"
          ]
        },
        {
          "output_type": "stream",
          "name": "stdout",
          "text": [
            "2025-02-10 15:04:00,449 INFO sqlalchemy.engine.Engine [cached since 1.866e+04s ago] ('defaultdb', 'csrpartner_data', 'id')\n"
          ]
        },
        {
          "output_type": "stream",
          "name": "stderr",
          "text": [
            "INFO:sqlalchemy.engine.Engine:[cached since 1.866e+04s ago] ('defaultdb', 'csrpartner_data', 'id')\n"
          ]
        },
        {
          "output_type": "stream",
          "name": "stdout",
          "text": [
            "2025-02-10 15:04:00,628 INFO sqlalchemy.engine.Engine SELECT information_schema.columns.table_schema, information_schema.columns.table_name, information_schema.columns.column_name \n",
            "FROM information_schema.columns \n",
            "WHERE information_schema.columns.table_schema = %s AND information_schema.columns.table_name = %s AND lower(information_schema.columns.column_name) IN (%s)\n"
          ]
        },
        {
          "output_type": "stream",
          "name": "stderr",
          "text": [
            "INFO:sqlalchemy.engine.Engine:SELECT information_schema.columns.table_schema, information_schema.columns.table_name, information_schema.columns.column_name \n",
            "FROM information_schema.columns \n",
            "WHERE information_schema.columns.table_schema = %s AND information_schema.columns.table_name = %s AND lower(information_schema.columns.column_name) IN (%s)\n"
          ]
        },
        {
          "output_type": "stream",
          "name": "stdout",
          "text": [
            "2025-02-10 15:04:00,632 INFO sqlalchemy.engine.Engine [cached since 1.866e+04s ago] ('defaultdb', 'customer_data', 'id')\n"
          ]
        },
        {
          "output_type": "stream",
          "name": "stderr",
          "text": [
            "INFO:sqlalchemy.engine.Engine:[cached since 1.866e+04s ago] ('defaultdb', 'customer_data', 'id')\n"
          ]
        },
        {
          "output_type": "stream",
          "name": "stdout",
          "text": [
            "2025-02-10 15:04:00,696 INFO sqlalchemy.engine.Engine SELECT information_schema.columns.table_schema, information_schema.columns.table_name, information_schema.columns.column_name \n",
            "FROM information_schema.columns \n",
            "WHERE information_schema.columns.table_schema = %s AND information_schema.columns.table_name = %s AND lower(information_schema.columns.column_name) IN (%s)\n"
          ]
        },
        {
          "output_type": "stream",
          "name": "stderr",
          "text": [
            "INFO:sqlalchemy.engine.Engine:SELECT information_schema.columns.table_schema, information_schema.columns.table_name, information_schema.columns.column_name \n",
            "FROM information_schema.columns \n",
            "WHERE information_schema.columns.table_schema = %s AND information_schema.columns.table_name = %s AND lower(information_schema.columns.column_name) IN (%s)\n"
          ]
        },
        {
          "output_type": "stream",
          "name": "stdout",
          "text": [
            "2025-02-10 15:04:00,698 INFO sqlalchemy.engine.Engine [cached since 1.866e+04s ago] ('defaultdb', 'customer_data', 'id')\n"
          ]
        },
        {
          "output_type": "stream",
          "name": "stderr",
          "text": [
            "INFO:sqlalchemy.engine.Engine:[cached since 1.866e+04s ago] ('defaultdb', 'customer_data', 'id')\n"
          ]
        },
        {
          "output_type": "stream",
          "name": "stdout",
          "text": [
            "2025-02-10 15:04:00,879 INFO sqlalchemy.engine.Engine SELECT information_schema.columns.table_schema, information_schema.columns.table_name, information_schema.columns.column_name \n",
            "FROM information_schema.columns \n",
            "WHERE information_schema.columns.table_schema = %s AND information_schema.columns.table_name = %s AND lower(information_schema.columns.column_name) IN (%s)\n"
          ]
        },
        {
          "output_type": "stream",
          "name": "stderr",
          "text": [
            "INFO:sqlalchemy.engine.Engine:SELECT information_schema.columns.table_schema, information_schema.columns.table_name, information_schema.columns.column_name \n",
            "FROM information_schema.columns \n",
            "WHERE information_schema.columns.table_schema = %s AND information_schema.columns.table_name = %s AND lower(information_schema.columns.column_name) IN (%s)\n"
          ]
        },
        {
          "output_type": "stream",
          "name": "stdout",
          "text": [
            "2025-02-10 15:04:00,882 INFO sqlalchemy.engine.Engine [cached since 1.866e+04s ago] ('defaultdb', 'employee_data', 'id')\n"
          ]
        },
        {
          "output_type": "stream",
          "name": "stderr",
          "text": [
            "INFO:sqlalchemy.engine.Engine:[cached since 1.866e+04s ago] ('defaultdb', 'employee_data', 'id')\n"
          ]
        },
        {
          "output_type": "stream",
          "name": "stdout",
          "text": [
            "2025-02-10 15:04:00,945 INFO sqlalchemy.engine.Engine SELECT information_schema.columns.table_schema, information_schema.columns.table_name, information_schema.columns.column_name \n",
            "FROM information_schema.columns \n",
            "WHERE information_schema.columns.table_schema = %s AND information_schema.columns.table_name = %s AND lower(information_schema.columns.column_name) IN (%s)\n"
          ]
        },
        {
          "output_type": "stream",
          "name": "stderr",
          "text": [
            "INFO:sqlalchemy.engine.Engine:SELECT information_schema.columns.table_schema, information_schema.columns.table_name, information_schema.columns.column_name \n",
            "FROM information_schema.columns \n",
            "WHERE information_schema.columns.table_schema = %s AND information_schema.columns.table_name = %s AND lower(information_schema.columns.column_name) IN (%s)\n"
          ]
        },
        {
          "output_type": "stream",
          "name": "stdout",
          "text": [
            "2025-02-10 15:04:00,949 INFO sqlalchemy.engine.Engine [cached since 1.866e+04s ago] ('defaultdb', 'employee_data', 'id')\n"
          ]
        },
        {
          "output_type": "stream",
          "name": "stderr",
          "text": [
            "INFO:sqlalchemy.engine.Engine:[cached since 1.866e+04s ago] ('defaultdb', 'employee_data', 'id')\n"
          ]
        },
        {
          "output_type": "stream",
          "name": "stdout",
          "text": [
            "2025-02-10 15:04:01,129 INFO sqlalchemy.engine.Engine SELECT information_schema.columns.table_schema, information_schema.columns.table_name, information_schema.columns.column_name \n",
            "FROM information_schema.columns \n",
            "WHERE information_schema.columns.table_schema = %s AND information_schema.columns.table_name = %s AND lower(information_schema.columns.column_name) IN (%s)\n"
          ]
        },
        {
          "output_type": "stream",
          "name": "stderr",
          "text": [
            "INFO:sqlalchemy.engine.Engine:SELECT information_schema.columns.table_schema, information_schema.columns.table_name, information_schema.columns.column_name \n",
            "FROM information_schema.columns \n",
            "WHERE information_schema.columns.table_schema = %s AND information_schema.columns.table_name = %s AND lower(information_schema.columns.column_name) IN (%s)\n"
          ]
        },
        {
          "output_type": "stream",
          "name": "stdout",
          "text": [
            "2025-02-10 15:04:01,133 INFO sqlalchemy.engine.Engine [cached since 1.866e+04s ago] ('defaultdb', 'investor_data', 'id')\n"
          ]
        },
        {
          "output_type": "stream",
          "name": "stderr",
          "text": [
            "INFO:sqlalchemy.engine.Engine:[cached since 1.866e+04s ago] ('defaultdb', 'investor_data', 'id')\n"
          ]
        },
        {
          "output_type": "stream",
          "name": "stdout",
          "text": [
            "2025-02-10 15:04:01,196 INFO sqlalchemy.engine.Engine SELECT information_schema.columns.table_schema, information_schema.columns.table_name, information_schema.columns.column_name \n",
            "FROM information_schema.columns \n",
            "WHERE information_schema.columns.table_schema = %s AND information_schema.columns.table_name = %s AND lower(information_schema.columns.column_name) IN (%s)\n"
          ]
        },
        {
          "output_type": "stream",
          "name": "stderr",
          "text": [
            "INFO:sqlalchemy.engine.Engine:SELECT information_schema.columns.table_schema, information_schema.columns.table_name, information_schema.columns.column_name \n",
            "FROM information_schema.columns \n",
            "WHERE information_schema.columns.table_schema = %s AND information_schema.columns.table_name = %s AND lower(information_schema.columns.column_name) IN (%s)\n"
          ]
        },
        {
          "output_type": "stream",
          "name": "stdout",
          "text": [
            "2025-02-10 15:04:01,199 INFO sqlalchemy.engine.Engine [cached since 1.866e+04s ago] ('defaultdb', 'investor_data', 'id')\n"
          ]
        },
        {
          "output_type": "stream",
          "name": "stderr",
          "text": [
            "INFO:sqlalchemy.engine.Engine:[cached since 1.866e+04s ago] ('defaultdb', 'investor_data', 'id')\n"
          ]
        },
        {
          "output_type": "stream",
          "name": "stdout",
          "text": [
            "2025-02-10 15:04:01,381 INFO sqlalchemy.engine.Engine SELECT information_schema.columns.table_schema, information_schema.columns.table_name, information_schema.columns.column_name \n",
            "FROM information_schema.columns \n",
            "WHERE information_schema.columns.table_schema = %s AND information_schema.columns.table_name = %s AND lower(information_schema.columns.column_name) IN (%s)\n"
          ]
        },
        {
          "output_type": "stream",
          "name": "stderr",
          "text": [
            "INFO:sqlalchemy.engine.Engine:SELECT information_schema.columns.table_schema, information_schema.columns.table_name, information_schema.columns.column_name \n",
            "FROM information_schema.columns \n",
            "WHERE information_schema.columns.table_schema = %s AND information_schema.columns.table_name = %s AND lower(information_schema.columns.column_name) IN (%s)\n"
          ]
        },
        {
          "output_type": "stream",
          "name": "stdout",
          "text": [
            "2025-02-10 15:04:01,384 INFO sqlalchemy.engine.Engine [cached since 1.866e+04s ago] ('defaultdb', 'partner_data', 'id')\n"
          ]
        },
        {
          "output_type": "stream",
          "name": "stderr",
          "text": [
            "INFO:sqlalchemy.engine.Engine:[cached since 1.866e+04s ago] ('defaultdb', 'partner_data', 'id')\n"
          ]
        },
        {
          "output_type": "stream",
          "name": "stdout",
          "text": [
            "2025-02-10 15:04:01,445 INFO sqlalchemy.engine.Engine SELECT information_schema.columns.table_schema, information_schema.columns.table_name, information_schema.columns.column_name \n",
            "FROM information_schema.columns \n",
            "WHERE information_schema.columns.table_schema = %s AND information_schema.columns.table_name = %s AND lower(information_schema.columns.column_name) IN (%s)\n"
          ]
        },
        {
          "output_type": "stream",
          "name": "stderr",
          "text": [
            "INFO:sqlalchemy.engine.Engine:SELECT information_schema.columns.table_schema, information_schema.columns.table_name, information_schema.columns.column_name \n",
            "FROM information_schema.columns \n",
            "WHERE information_schema.columns.table_schema = %s AND information_schema.columns.table_name = %s AND lower(information_schema.columns.column_name) IN (%s)\n"
          ]
        },
        {
          "output_type": "stream",
          "name": "stdout",
          "text": [
            "2025-02-10 15:04:01,448 INFO sqlalchemy.engine.Engine [cached since 1.866e+04s ago] ('defaultdb', 'partner_data', 'id')\n"
          ]
        },
        {
          "output_type": "stream",
          "name": "stderr",
          "text": [
            "INFO:sqlalchemy.engine.Engine:[cached since 1.866e+04s ago] ('defaultdb', 'partner_data', 'id')\n"
          ]
        },
        {
          "output_type": "stream",
          "name": "stdout",
          "text": [
            "2025-02-10 15:04:01,640 INFO sqlalchemy.engine.Engine SELECT information_schema.columns.table_schema, information_schema.columns.table_name, information_schema.columns.column_name \n",
            "FROM information_schema.columns \n",
            "WHERE information_schema.columns.table_schema = %s AND information_schema.columns.table_name = %s AND lower(information_schema.columns.column_name) IN (%s)\n"
          ]
        },
        {
          "output_type": "stream",
          "name": "stderr",
          "text": [
            "INFO:sqlalchemy.engine.Engine:SELECT information_schema.columns.table_schema, information_schema.columns.table_name, information_schema.columns.column_name \n",
            "FROM information_schema.columns \n",
            "WHERE information_schema.columns.table_schema = %s AND information_schema.columns.table_name = %s AND lower(information_schema.columns.column_name) IN (%s)\n"
          ]
        },
        {
          "output_type": "stream",
          "name": "stdout",
          "text": [
            "2025-02-10 15:04:01,643 INFO sqlalchemy.engine.Engine [cached since 1.866e+04s ago] ('defaultdb', 'vendor_data', 'id')\n"
          ]
        },
        {
          "output_type": "stream",
          "name": "stderr",
          "text": [
            "INFO:sqlalchemy.engine.Engine:[cached since 1.866e+04s ago] ('defaultdb', 'vendor_data', 'id')\n"
          ]
        },
        {
          "output_type": "stream",
          "name": "stdout",
          "text": [
            "2025-02-10 15:04:01,695 INFO sqlalchemy.engine.Engine SELECT information_schema.columns.table_schema, information_schema.columns.table_name, information_schema.columns.column_name \n",
            "FROM information_schema.columns \n",
            "WHERE information_schema.columns.table_schema = %s AND information_schema.columns.table_name = %s AND lower(information_schema.columns.column_name) IN (%s)\n"
          ]
        },
        {
          "output_type": "stream",
          "name": "stderr",
          "text": [
            "INFO:sqlalchemy.engine.Engine:SELECT information_schema.columns.table_schema, information_schema.columns.table_name, information_schema.columns.column_name \n",
            "FROM information_schema.columns \n",
            "WHERE information_schema.columns.table_schema = %s AND information_schema.columns.table_name = %s AND lower(information_schema.columns.column_name) IN (%s)\n"
          ]
        },
        {
          "output_type": "stream",
          "name": "stdout",
          "text": [
            "2025-02-10 15:04:01,697 INFO sqlalchemy.engine.Engine [cached since 1.866e+04s ago] ('defaultdb', 'vendor_data', 'id')\n"
          ]
        },
        {
          "output_type": "stream",
          "name": "stderr",
          "text": [
            "INFO:sqlalchemy.engine.Engine:[cached since 1.866e+04s ago] ('defaultdb', 'vendor_data', 'id')\n"
          ]
        },
        {
          "output_type": "stream",
          "name": "stdout",
          "text": [
            "2025-02-10 15:04:01,903 INFO sqlalchemy.engine.Engine COMMIT\n"
          ]
        },
        {
          "output_type": "stream",
          "name": "stderr",
          "text": [
            "INFO:sqlalchemy.engine.Engine:COMMIT\n"
          ]
        },
        {
          "output_type": "stream",
          "name": "stdout",
          "text": [
            "2025-02-10 15:04:01,956 INFO sqlalchemy.engine.Engine COMMIT\n"
          ]
        },
        {
          "output_type": "stream",
          "name": "stderr",
          "text": [
            "INFO:sqlalchemy.engine.Engine:COMMIT\n"
          ]
        },
        {
          "output_type": "stream",
          "name": "stdout",
          "text": [
            "response {'is_relevant': True, 'relevant_tables': [{'table_name': 'customer_data', 'columns': ['id', 'created_at', 'updated_at', 'stakeholder_type', 'product_name', 'po_number', 'client_admin_ref', 'diagnostic_id', 'language', 'experience_rating', 'experience_type', 'experience_area', 'experience_area_dimension', 'feedback', 'sentiment_normalized_rating', 'suggestions', 'testimonial_consent', 'testimonial_name_consent', 'testimonial_name', 'email', 'company_name', 'channel', 'experience_sentiment'], 'noun_columns': ['product_name', 'language', 'experience_type', 'experience_area', 'experience_area_dimension', 'testimonial_name', 'email', 'company_name', 'channel']}, {'table_name': 'customer_demographics', 'columns': ['id', 'ref_id', 'attribute_name', 'attribute_value', 'stakeholder'], 'noun_columns': ['attribute_name', 'attribute_value']}]}\n",
            "2025-02-10 15:04:06,794 INFO sqlalchemy.engine.Engine BEGIN (implicit)\n"
          ]
        },
        {
          "output_type": "stream",
          "name": "stderr",
          "text": [
            "INFO:sqlalchemy.engine.Engine:BEGIN (implicit)\n"
          ]
        },
        {
          "output_type": "stream",
          "name": "stdout",
          "text": [
            "2025-02-10 15:04:06,797 INFO sqlalchemy.engine.Engine SELECT DISTINCT `product_name`, `language`, `experience_type`, `experience_area`, `experience_area_dimension`, `testimonial_name`, `email`, `company_name`, `channel` FROM `customer_data`\n"
          ]
        },
        {
          "output_type": "stream",
          "name": "stderr",
          "text": [
            "INFO:sqlalchemy.engine.Engine:SELECT DISTINCT `product_name`, `language`, `experience_type`, `experience_area`, `experience_area_dimension`, `testimonial_name`, `email`, `company_name`, `channel` FROM `customer_data`\n"
          ]
        },
        {
          "output_type": "stream",
          "name": "stdout",
          "text": [
            "2025-02-10 15:04:06,802 INFO sqlalchemy.engine.Engine [cached since 2171s ago] ()\n"
          ]
        },
        {
          "output_type": "stream",
          "name": "stderr",
          "text": [
            "INFO:sqlalchemy.engine.Engine:[cached since 2171s ago] ()\n"
          ]
        },
        {
          "output_type": "stream",
          "name": "stdout",
          "text": [
            "2025-02-10 15:04:06,805 INFO sqlalchemy.engine.Engine ROLLBACK\n"
          ]
        },
        {
          "output_type": "stream",
          "name": "stderr",
          "text": [
            "INFO:sqlalchemy.engine.Engine:ROLLBACK\n",
            "ERROR:sqlalchemy.pool.impl.AsyncAdaptedQueuePool:Exception during reset or similar\n",
            "Traceback (most recent call last):\n",
            "  File \"/usr/local/lib/python3.11/dist-packages/sqlalchemy/pool/base.py\", line 986, in _finalize_fairy\n",
            "    fairy._reset(\n",
            "  File \"/usr/local/lib/python3.11/dist-packages/sqlalchemy/pool/base.py\", line 1432, in _reset\n",
            "    pool._dialect.do_rollback(self)\n",
            "  File \"/usr/local/lib/python3.11/dist-packages/sqlalchemy/engine/default.py\", line 700, in do_rollback\n",
            "    dbapi_connection.rollback()\n",
            "  File \"/usr/local/lib/python3.11/dist-packages/sqlalchemy/dialects/mysql/aiomysql.py\", line 203, in rollback\n",
            "    self.await_(self._connection.rollback())\n",
            "  File \"/usr/local/lib/python3.11/dist-packages/sqlalchemy/util/_concurrency_py3k.py\", line 132, in await_only\n",
            "    return current.parent.switch(awaitable)  # type: ignore[no-any-return,attr-defined] # noqa: E501\n",
            "           ^^^^^^^^^^^^^^^^^^^^^^^^^^^^^^^^\n",
            "  File \"/usr/local/lib/python3.11/dist-packages/sqlalchemy/util/_concurrency_py3k.py\", line 196, in greenlet_spawn\n",
            "    value = await result\n",
            "            ^^^^^^^^^^^^\n",
            "  File \"/usr/local/lib/python3.11/dist-packages/aiomysql/connection.py\", line 399, in rollback\n",
            "    await self._read_ok_packet()\n",
            "  File \"/usr/local/lib/python3.11/dist-packages/aiomysql/connection.py\", line 372, in _read_ok_packet\n",
            "    pkt = await self._read_packet()\n",
            "          ^^^^^^^^^^^^^^^^^^^^^^^^^\n",
            "  File \"/usr/local/lib/python3.11/dist-packages/aiomysql/connection.py\", line 609, in _read_packet\n",
            "    packet_header = await self._read_bytes(4)\n",
            "                    ^^^^^^^^^^^^^^^^^^^^^^^^^\n",
            "  File \"/usr/local/lib/python3.11/dist-packages/aiomysql/connection.py\", line 657, in _read_bytes\n",
            "    data = await self._reader.readexactly(num_bytes)\n",
            "           ^^^^^^^^^^^^^^^^^^^^^^^^^^^^^^^^^^^^^^^^^\n",
            "  File \"/usr/lib/python3.11/asyncio/streams.py\", line 750, in readexactly\n",
            "    await self._wait_for_data('readexactly')\n",
            "  File \"/usr/lib/python3.11/asyncio/streams.py\", line 543, in _wait_for_data\n",
            "    await self._waiter\n",
            "RuntimeError: Task <Task pending name='Task-2122' coro=<get_unique_nouns() running at <ipython-input-12-fa7a0aee7706>:69> cb=[Task.task_wakeup()]> got Future <Future pending> attached to a different loop\n",
            "ERROR:__main__:Exception on /dashboardAgent [POST]\n",
            "Traceback (most recent call last):\n",
            "  File \"<ipython-input-9-91afecc331e2>\", line 37, in execute_query\n",
            "    result = await session.execute(text(query))\n",
            "             ^^^^^^^^^^^^^^^^^^^^^^^^^^^^^^^^^^\n",
            "  File \"/usr/local/lib/python3.11/dist-packages/sqlalchemy/ext/asyncio/session.py\", line 463, in execute\n",
            "    result = await greenlet_spawn(\n",
            "             ^^^^^^^^^^^^^^^^^^^^^\n",
            "  File \"/usr/local/lib/python3.11/dist-packages/sqlalchemy/util/_concurrency_py3k.py\", line 201, in greenlet_spawn\n",
            "    result = context.throw(*sys.exc_info())\n",
            "             ^^^^^^^^^^^^^^^^^^^^^^^^^^^^^^\n",
            "  File \"/usr/local/lib/python3.11/dist-packages/sqlalchemy/orm/session.py\", line 2365, in execute\n",
            "    return self._execute_internal(\n",
            "           ^^^^^^^^^^^^^^^^^^^^^^^\n",
            "  File \"/usr/local/lib/python3.11/dist-packages/sqlalchemy/orm/session.py\", line 2260, in _execute_internal\n",
            "    result = conn.execute(\n",
            "             ^^^^^^^^^^^^^\n",
            "  File \"/usr/local/lib/python3.11/dist-packages/sqlalchemy/engine/base.py\", line 1416, in execute\n",
            "    return meth(\n",
            "           ^^^^^\n",
            "  File \"/usr/local/lib/python3.11/dist-packages/sqlalchemy/sql/elements.py\", line 515, in _execute_on_connection\n",
            "    return connection._execute_clauseelement(\n",
            "           ^^^^^^^^^^^^^^^^^^^^^^^^^^^^^^^^^^\n",
            "  File \"/usr/local/lib/python3.11/dist-packages/sqlalchemy/engine/base.py\", line 1638, in _execute_clauseelement\n",
            "    ret = self._execute_context(\n",
            "          ^^^^^^^^^^^^^^^^^^^^^^\n",
            "  File \"/usr/local/lib/python3.11/dist-packages/sqlalchemy/engine/base.py\", line 1843, in _execute_context\n",
            "    return self._exec_single_context(\n",
            "           ^^^^^^^^^^^^^^^^^^^^^^^^^^\n",
            "  File \"/usr/local/lib/python3.11/dist-packages/sqlalchemy/engine/base.py\", line 1983, in _exec_single_context\n",
            "    self._handle_dbapi_exception(\n",
            "  File \"/usr/local/lib/python3.11/dist-packages/sqlalchemy/engine/base.py\", line 2355, in _handle_dbapi_exception\n",
            "    raise exc_info[1].with_traceback(exc_info[2])\n",
            "  File \"/usr/local/lib/python3.11/dist-packages/sqlalchemy/engine/base.py\", line 1964, in _exec_single_context\n",
            "    self.dialect.do_execute(\n",
            "  File \"/usr/local/lib/python3.11/dist-packages/sqlalchemy/engine/default.py\", line 942, in do_execute\n",
            "    cursor.execute(statement, parameters)\n",
            "  File \"/usr/local/lib/python3.11/dist-packages/sqlalchemy/dialects/mysql/aiomysql.py\", line 97, in execute\n",
            "    return self.await_(self._execute_async(operation, parameters))\n",
            "           ^^^^^^^^^^^^^^^^^^^^^^^^^^^^^^^^^^^^^^^^^^^^^^^^^^^^^^^\n",
            "  File \"/usr/local/lib/python3.11/dist-packages/sqlalchemy/util/_concurrency_py3k.py\", line 132, in await_only\n",
            "    return current.parent.switch(awaitable)  # type: ignore[no-any-return,attr-defined] # noqa: E501\n",
            "           ^^^^^^^^^^^^^^^^^^^^^^^^^^^^^^^^\n",
            "  File \"/usr/local/lib/python3.11/dist-packages/sqlalchemy/util/_concurrency_py3k.py\", line 196, in greenlet_spawn\n",
            "    value = await result\n",
            "            ^^^^^^^^^^^^\n",
            "  File \"/usr/local/lib/python3.11/dist-packages/sqlalchemy/dialects/mysql/aiomysql.py\", line 106, in _execute_async\n",
            "    result = await self._cursor.execute(operation, parameters)\n",
            "             ^^^^^^^^^^^^^^^^^^^^^^^^^^^^^^^^^^^^^^^^^^^^^^^^^\n",
            "  File \"/usr/local/lib/python3.11/dist-packages/aiomysql/cursors.py\", line 239, in execute\n",
            "    await self._query(query)\n",
            "  File \"/usr/local/lib/python3.11/dist-packages/aiomysql/cursors.py\", line 457, in _query\n",
            "    await conn.query(q)\n",
            "  File \"/usr/local/lib/python3.11/dist-packages/aiomysql/connection.py\", line 469, in query\n",
            "    await self._read_query_result(unbuffered=unbuffered)\n",
            "  File \"/usr/local/lib/python3.11/dist-packages/aiomysql/connection.py\", line 683, in _read_query_result\n",
            "    await result.read()\n",
            "  File \"/usr/local/lib/python3.11/dist-packages/aiomysql/connection.py\", line 1164, in read\n",
            "    first_packet = await self.connection._read_packet()\n",
            "                   ^^^^^^^^^^^^^^^^^^^^^^^^^^^^^^^^^^^^\n",
            "  File \"/usr/local/lib/python3.11/dist-packages/aiomysql/connection.py\", line 609, in _read_packet\n",
            "    packet_header = await self._read_bytes(4)\n",
            "                    ^^^^^^^^^^^^^^^^^^^^^^^^^\n",
            "  File \"/usr/local/lib/python3.11/dist-packages/aiomysql/connection.py\", line 657, in _read_bytes\n",
            "    data = await self._reader.readexactly(num_bytes)\n",
            "           ^^^^^^^^^^^^^^^^^^^^^^^^^^^^^^^^^^^^^^^^^\n",
            "  File \"/usr/lib/python3.11/asyncio/streams.py\", line 750, in readexactly\n",
            "    await self._wait_for_data('readexactly')\n",
            "  File \"/usr/lib/python3.11/asyncio/streams.py\", line 543, in _wait_for_data\n",
            "    await self._waiter\n",
            "RuntimeError: Task <Task pending name='Task-2122' coro=<get_unique_nouns() running at <ipython-input-12-fa7a0aee7706>:69> cb=[Task.task_wakeup()]> got Future <Future pending> attached to a different loop\n",
            "\n",
            "During handling of the above exception, another exception occurred:\n",
            "\n",
            "Traceback (most recent call last):\n",
            "  File \"/usr/local/lib/python3.11/dist-packages/flask/app.py\", line 1511, in wsgi_app\n",
            "    response = self.full_dispatch_request()\n",
            "               ^^^^^^^^^^^^^^^^^^^^^^^^^^^^\n",
            "  File \"/usr/local/lib/python3.11/dist-packages/flask/app.py\", line 919, in full_dispatch_request\n",
            "    rv = self.handle_user_exception(e)\n",
            "         ^^^^^^^^^^^^^^^^^^^^^^^^^^^^^\n",
            "  File \"/usr/local/lib/python3.11/dist-packages/flask_cors/extension.py\", line 194, in wrapped_function\n",
            "    return cors_after_request(app.make_response(f(*args, **kwargs)))\n",
            "                                                ^^^^^^^^^^^^^^^^^^\n",
            "  File \"/usr/local/lib/python3.11/dist-packages/flask/app.py\", line 917, in full_dispatch_request\n",
            "    rv = self.dispatch_request()\n",
            "         ^^^^^^^^^^^^^^^^^^^^^^^\n",
            "  File \"/usr/local/lib/python3.11/dist-packages/flask/app.py\", line 902, in dispatch_request\n",
            "    return self.ensure_sync(self.view_functions[rule.endpoint])(**view_args)  # type: ignore[no-any-return]\n",
            "           ^^^^^^^^^^^^^^^^^^^^^^^^^^^^^^^^^^^^^^^^^^^^^^^^^^^^^^^^^^^^^^^^^\n",
            "  File \"<ipython-input-67-29875ed07a0a>\", line 18, in dashboard_agent\n",
            "    result = asyncio.run(runnable.ainvoke({\"question\": question, \"diagnostic_id\": \"670d7bb908cd96a9c3b69aaf\"}))\n",
            "             ^^^^^^^^^^^^^^^^^^^^^^^^^^^^^^^^^^^^^^^^^^^^^^^^^^^^^^^^^^^^^^^^^^^^^^^^^^^^^^^^^^^^^^^^^^^^^^^^^^\n",
            "  File \"/usr/lib/python3.11/asyncio/runners.py\", line 190, in run\n",
            "    return runner.run(main)\n",
            "           ^^^^^^^^^^^^^^^^\n",
            "  File \"/usr/lib/python3.11/asyncio/runners.py\", line 118, in run\n",
            "    return self._loop.run_until_complete(task)\n",
            "           ^^^^^^^^^^^^^^^^^^^^^^^^^^^^^^^^^^^\n",
            "  File \"/usr/lib/python3.11/asyncio/base_events.py\", line 654, in run_until_complete\n",
            "    return future.result()\n",
            "           ^^^^^^^^^^^^^^^\n",
            "  File \"/usr/local/lib/python3.11/dist-packages/langgraph/pregel/__init__.py\", line 2122, in ainvoke\n",
            "    async for chunk in self.astream(\n",
            "  File \"/usr/local/lib/python3.11/dist-packages/langgraph/pregel/__init__.py\", line 2007, in astream\n",
            "    async for _ in runner.atick(\n",
            "  File \"/usr/local/lib/python3.11/dist-packages/langgraph/pregel/runner.py\", line 444, in atick\n",
            "    await arun_with_retry(\n",
            "  File \"/usr/local/lib/python3.11/dist-packages/langgraph/pregel/retry.py\", line 128, in arun_with_retry\n",
            "    return await task.proc.ainvoke(task.input, config)\n",
            "           ^^^^^^^^^^^^^^^^^^^^^^^^^^^^^^^^^^^^^^^^^^^\n",
            "  File \"/usr/local/lib/python3.11/dist-packages/langgraph/utils/runnable.py\", line 543, in ainvoke\n",
            "    input = await step.ainvoke(input, config, **kwargs)\n",
            "            ^^^^^^^^^^^^^^^^^^^^^^^^^^^^^^^^^^^^^^^^^^^\n",
            "  File \"/usr/local/lib/python3.11/dist-packages/langgraph/utils/runnable.py\", line 331, in ainvoke\n",
            "    ret = await asyncio.create_task(coro, context=context)\n",
            "          ^^^^^^^^^^^^^^^^^^^^^^^^^^^^^^^^^^^^^^^^^^^^^^^^\n",
            "  File \"<ipython-input-12-fa7a0aee7706>\", line 69, in get_unique_nouns\n",
            "    results = await db_manager.execute_query(query)\n",
            "              ^^^^^^^^^^^^^^^^^^^^^^^^^^^^^^^^^^^^^\n",
            "  File \"<ipython-input-9-91afecc331e2>\", line 36, in execute_query\n",
            "    async with session.begin():\n",
            "  File \"/usr/local/lib/python3.11/dist-packages/sqlalchemy/util/_concurrency_py3k.py\", line 201, in greenlet_spawn\n",
            "    result = context.throw(*sys.exc_info())\n",
            "             ^^^^^^^^^^^^^^^^^^^^^^^^^^^^^^\n",
            "  File \"/usr/local/lib/python3.11/dist-packages/sqlalchemy/engine/util.py\", line 162, in __exit__\n",
            "    self.rollback()\n",
            "  File \"<string>\", line 2, in rollback\n",
            "  File \"/usr/local/lib/python3.11/dist-packages/sqlalchemy/orm/state_changes.py\", line 139, in _go\n",
            "    ret_value = fn(self, *arg, **kw)\n",
            "                ^^^^^^^^^^^^^^^^^^^^\n",
            "  File \"/usr/local/lib/python3.11/dist-packages/sqlalchemy/orm/session.py\", line 1395, in rollback\n",
            "    raise rollback_err[1].with_traceback(rollback_err[2])\n",
            "  File \"/usr/local/lib/python3.11/dist-packages/sqlalchemy/orm/session.py\", line 1360, in rollback\n",
            "    t[1].rollback()\n",
            "  File \"/usr/local/lib/python3.11/dist-packages/sqlalchemy/engine/base.py\", line 2608, in rollback\n",
            "    self._do_rollback()\n",
            "  File \"/usr/local/lib/python3.11/dist-packages/sqlalchemy/engine/base.py\", line 2727, in _do_rollback\n",
            "    self._close_impl(try_deactivate=True)\n",
            "  File \"/usr/local/lib/python3.11/dist-packages/sqlalchemy/engine/base.py\", line 2710, in _close_impl\n",
            "    self._connection_rollback_impl()\n",
            "  File \"/usr/local/lib/python3.11/dist-packages/sqlalchemy/engine/base.py\", line 2702, in _connection_rollback_impl\n",
            "    self.connection._rollback_impl()\n",
            "  File \"/usr/local/lib/python3.11/dist-packages/sqlalchemy/engine/base.py\", line 1127, in _rollback_impl\n",
            "    self._handle_dbapi_exception(e, None, None, None, None)\n",
            "  File \"/usr/local/lib/python3.11/dist-packages/sqlalchemy/engine/base.py\", line 2355, in _handle_dbapi_exception\n",
            "    raise exc_info[1].with_traceback(exc_info[2])\n",
            "  File \"/usr/local/lib/python3.11/dist-packages/sqlalchemy/engine/base.py\", line 1125, in _rollback_impl\n",
            "    self.engine.dialect.do_rollback(self.connection)\n",
            "  File \"/usr/local/lib/python3.11/dist-packages/sqlalchemy/engine/default.py\", line 700, in do_rollback\n",
            "    dbapi_connection.rollback()\n",
            "  File \"/usr/local/lib/python3.11/dist-packages/sqlalchemy/dialects/mysql/aiomysql.py\", line 203, in rollback\n",
            "    self.await_(self._connection.rollback())\n",
            "  File \"/usr/local/lib/python3.11/dist-packages/sqlalchemy/util/_concurrency_py3k.py\", line 132, in await_only\n",
            "    return current.parent.switch(awaitable)  # type: ignore[no-any-return,attr-defined] # noqa: E501\n",
            "           ^^^^^^^^^^^^^^^^^^^^^^^^^^^^^^^^\n",
            "  File \"/usr/local/lib/python3.11/dist-packages/sqlalchemy/util/_concurrency_py3k.py\", line 196, in greenlet_spawn\n",
            "    value = await result\n",
            "            ^^^^^^^^^^^^\n",
            "  File \"/usr/local/lib/python3.11/dist-packages/aiomysql/connection.py\", line 399, in rollback\n",
            "    await self._read_ok_packet()\n",
            "  File \"/usr/local/lib/python3.11/dist-packages/aiomysql/connection.py\", line 372, in _read_ok_packet\n",
            "    pkt = await self._read_packet()\n",
            "          ^^^^^^^^^^^^^^^^^^^^^^^^^\n",
            "  File \"/usr/local/lib/python3.11/dist-packages/aiomysql/connection.py\", line 609, in _read_packet\n",
            "    packet_header = await self._read_bytes(4)\n",
            "                    ^^^^^^^^^^^^^^^^^^^^^^^^^\n",
            "  File \"/usr/local/lib/python3.11/dist-packages/aiomysql/connection.py\", line 657, in _read_bytes\n",
            "    data = await self._reader.readexactly(num_bytes)\n",
            "           ^^^^^^^^^^^^^^^^^^^^^^^^^^^^^^^^^^^^^^^^^\n",
            "  File \"/usr/lib/python3.11/asyncio/streams.py\", line 750, in readexactly\n",
            "    await self._wait_for_data('readexactly')\n",
            "  File \"/usr/lib/python3.11/asyncio/streams.py\", line 543, in _wait_for_data\n",
            "    await self._waiter\n",
            "RuntimeError: Task <Task pending name='Task-2122' coro=<get_unique_nouns() running at <ipython-input-12-fa7a0aee7706>:69> cb=[Task.task_wakeup()]> got Future <Future pending> attached to a different loop\n",
            "During task with name 'get_unique_nouns' and id '6dcfa2ef-2117-84d6-ae66-8dd52c6173d9'\n",
            "INFO:werkzeug:127.0.0.1 - - [10/Feb/2025 15:04:06] \"\u001b[35m\u001b[1mPOST /dashboardAgent HTTP/1.1\u001b[0m\" 500 -\n"
          ]
        },
        {
          "output_type": "stream",
          "name": "stdout",
          "text": [
            "response {'is_relevant': True, 'relevant_tables': [{'table_name': 'customer_data', 'columns': ['id', 'created_at', 'updated_at', 'stakeholder_type', 'product_name', 'po_number', 'client_admin_ref', 'diagnostic_id', 'language', 'experience_rating', 'experience_type', 'experience_area', 'experience_area_dimension', 'feedback', 'sentiment_normalized_rating', 'suggestions', 'testimonial_consent', 'testimonial_name_consent', 'testimonial_name', 'email', 'company_name', 'channel', 'experience_sentiment'], 'noun_columns': ['product_name', 'language', 'experience_type', 'experience_area', 'experience_area_dimension', 'testimonial_name', 'email', 'company_name', 'channel']}, {'table_name': 'customer_demographics', 'columns': ['id', 'ref_id', 'attribute_name', 'attribute_value', 'stakeholder'], 'noun_columns': ['attribute_name', 'attribute_value']}]}\n",
            "2025-02-10 15:04:07,729 INFO sqlalchemy.engine.Engine BEGIN (implicit)\n"
          ]
        },
        {
          "output_type": "stream",
          "name": "stderr",
          "text": [
            "INFO:sqlalchemy.engine.Engine:BEGIN (implicit)\n"
          ]
        },
        {
          "output_type": "stream",
          "name": "stdout",
          "text": [
            "2025-02-10 15:04:07,732 INFO sqlalchemy.engine.Engine SELECT DISTINCT `product_name`, `language`, `experience_type`, `experience_area`, `experience_area_dimension`, `testimonial_name`, `email`, `company_name`, `channel` FROM `customer_data`\n"
          ]
        },
        {
          "output_type": "stream",
          "name": "stderr",
          "text": [
            "INFO:sqlalchemy.engine.Engine:SELECT DISTINCT `product_name`, `language`, `experience_type`, `experience_area`, `experience_area_dimension`, `testimonial_name`, `email`, `company_name`, `channel` FROM `customer_data`\n"
          ]
        },
        {
          "output_type": "stream",
          "name": "stdout",
          "text": [
            "2025-02-10 15:04:07,734 INFO sqlalchemy.engine.Engine [cached since 2172s ago] ()\n"
          ]
        },
        {
          "output_type": "stream",
          "name": "stderr",
          "text": [
            "INFO:sqlalchemy.engine.Engine:[cached since 2172s ago] ()\n"
          ]
        },
        {
          "output_type": "stream",
          "name": "stdout",
          "text": [
            "2025-02-10 15:04:07,738 INFO sqlalchemy.engine.Engine ROLLBACK\n"
          ]
        },
        {
          "output_type": "stream",
          "name": "stderr",
          "text": [
            "INFO:sqlalchemy.engine.Engine:ROLLBACK\n",
            "ERROR:sqlalchemy.pool.impl.AsyncAdaptedQueuePool:Exception during reset or similar\n",
            "Traceback (most recent call last):\n",
            "  File \"/usr/local/lib/python3.11/dist-packages/sqlalchemy/pool/base.py\", line 986, in _finalize_fairy\n",
            "    fairy._reset(\n",
            "  File \"/usr/local/lib/python3.11/dist-packages/sqlalchemy/pool/base.py\", line 1432, in _reset\n",
            "    pool._dialect.do_rollback(self)\n",
            "  File \"/usr/local/lib/python3.11/dist-packages/sqlalchemy/engine/default.py\", line 700, in do_rollback\n",
            "    dbapi_connection.rollback()\n",
            "  File \"/usr/local/lib/python3.11/dist-packages/sqlalchemy/dialects/mysql/aiomysql.py\", line 203, in rollback\n",
            "    self.await_(self._connection.rollback())\n",
            "  File \"/usr/local/lib/python3.11/dist-packages/sqlalchemy/util/_concurrency_py3k.py\", line 132, in await_only\n",
            "    return current.parent.switch(awaitable)  # type: ignore[no-any-return,attr-defined] # noqa: E501\n",
            "           ^^^^^^^^^^^^^^^^^^^^^^^^^^^^^^^^\n",
            "  File \"/usr/local/lib/python3.11/dist-packages/sqlalchemy/util/_concurrency_py3k.py\", line 196, in greenlet_spawn\n",
            "    value = await result\n",
            "            ^^^^^^^^^^^^\n",
            "  File \"/usr/local/lib/python3.11/dist-packages/aiomysql/connection.py\", line 399, in rollback\n",
            "    await self._read_ok_packet()\n",
            "  File \"/usr/local/lib/python3.11/dist-packages/aiomysql/connection.py\", line 372, in _read_ok_packet\n",
            "    pkt = await self._read_packet()\n",
            "          ^^^^^^^^^^^^^^^^^^^^^^^^^\n",
            "  File \"/usr/local/lib/python3.11/dist-packages/aiomysql/connection.py\", line 609, in _read_packet\n",
            "    packet_header = await self._read_bytes(4)\n",
            "                    ^^^^^^^^^^^^^^^^^^^^^^^^^\n",
            "  File \"/usr/local/lib/python3.11/dist-packages/aiomysql/connection.py\", line 657, in _read_bytes\n",
            "    data = await self._reader.readexactly(num_bytes)\n",
            "           ^^^^^^^^^^^^^^^^^^^^^^^^^^^^^^^^^^^^^^^^^\n",
            "  File \"/usr/lib/python3.11/asyncio/streams.py\", line 750, in readexactly\n",
            "    await self._wait_for_data('readexactly')\n",
            "  File \"/usr/lib/python3.11/asyncio/streams.py\", line 543, in _wait_for_data\n",
            "    await self._waiter\n",
            "RuntimeError: Task <Task pending name='Task-2144' coro=<get_unique_nouns() running at <ipython-input-12-fa7a0aee7706>:69> cb=[Task.task_wakeup()]> got Future <Future pending> attached to a different loop\n",
            "ERROR:sqlalchemy.pool.impl.AsyncAdaptedQueuePool:Exception terminating connection <AdaptedConnection <aiomysql.connection.Connection object at 0x7e04ec214d50>>\n",
            "Traceback (most recent call last):\n",
            "  File \"/usr/local/lib/python3.11/dist-packages/sqlalchemy/pool/base.py\", line 986, in _finalize_fairy\n",
            "    fairy._reset(\n",
            "  File \"/usr/local/lib/python3.11/dist-packages/sqlalchemy/pool/base.py\", line 1432, in _reset\n",
            "    pool._dialect.do_rollback(self)\n",
            "  File \"/usr/local/lib/python3.11/dist-packages/sqlalchemy/engine/default.py\", line 700, in do_rollback\n",
            "    dbapi_connection.rollback()\n",
            "  File \"/usr/local/lib/python3.11/dist-packages/sqlalchemy/dialects/mysql/aiomysql.py\", line 203, in rollback\n",
            "    self.await_(self._connection.rollback())\n",
            "  File \"/usr/local/lib/python3.11/dist-packages/sqlalchemy/util/_concurrency_py3k.py\", line 132, in await_only\n",
            "    return current.parent.switch(awaitable)  # type: ignore[no-any-return,attr-defined] # noqa: E501\n",
            "           ^^^^^^^^^^^^^^^^^^^^^^^^^^^^^^^^\n",
            "  File \"/usr/local/lib/python3.11/dist-packages/sqlalchemy/util/_concurrency_py3k.py\", line 196, in greenlet_spawn\n",
            "    value = await result\n",
            "            ^^^^^^^^^^^^\n",
            "  File \"/usr/local/lib/python3.11/dist-packages/aiomysql/connection.py\", line 399, in rollback\n",
            "    await self._read_ok_packet()\n",
            "  File \"/usr/local/lib/python3.11/dist-packages/aiomysql/connection.py\", line 372, in _read_ok_packet\n",
            "    pkt = await self._read_packet()\n",
            "          ^^^^^^^^^^^^^^^^^^^^^^^^^\n",
            "  File \"/usr/local/lib/python3.11/dist-packages/aiomysql/connection.py\", line 609, in _read_packet\n",
            "    packet_header = await self._read_bytes(4)\n",
            "                    ^^^^^^^^^^^^^^^^^^^^^^^^^\n",
            "  File \"/usr/local/lib/python3.11/dist-packages/aiomysql/connection.py\", line 657, in _read_bytes\n",
            "    data = await self._reader.readexactly(num_bytes)\n",
            "           ^^^^^^^^^^^^^^^^^^^^^^^^^^^^^^^^^^^^^^^^^\n",
            "  File \"/usr/lib/python3.11/asyncio/streams.py\", line 750, in readexactly\n",
            "    await self._wait_for_data('readexactly')\n",
            "  File \"/usr/lib/python3.11/asyncio/streams.py\", line 543, in _wait_for_data\n",
            "    await self._waiter\n",
            "RuntimeError: Task <Task pending name='Task-2144' coro=<get_unique_nouns() running at <ipython-input-12-fa7a0aee7706>:69> cb=[Task.task_wakeup()]> got Future <Future pending> attached to a different loop\n",
            "\n",
            "During handling of the above exception, another exception occurred:\n",
            "\n",
            "Traceback (most recent call last):\n",
            "  File \"/usr/local/lib/python3.11/dist-packages/sqlalchemy/pool/base.py\", line 374, in _close_connection\n",
            "    self._dialect.do_terminate(connection)\n",
            "  File \"/usr/local/lib/python3.11/dist-packages/sqlalchemy/dialects/mysql/aiomysql.py\", line 312, in do_terminate\n",
            "    dbapi_connection.terminate()\n",
            "  File \"/usr/local/lib/python3.11/dist-packages/sqlalchemy/dialects/mysql/aiomysql.py\", line 210, in terminate\n",
            "    self._connection.close()\n",
            "  File \"/usr/local/lib/python3.11/dist-packages/aiomysql/connection.py\", line 339, in close\n",
            "    self._writer.transport.close()\n",
            "  File \"/usr/lib/python3.11/asyncio/selector_events.py\", line 864, in close\n",
            "    self._loop.call_soon(self._call_connection_lost, None)\n",
            "  File \"/usr/lib/python3.11/asyncio/base_events.py\", line 762, in call_soon\n",
            "    self._check_closed()\n",
            "  File \"/usr/lib/python3.11/asyncio/base_events.py\", line 520, in _check_closed\n",
            "    raise RuntimeError('Event loop is closed')\n",
            "RuntimeError: Event loop is closed\n",
            "ERROR:__main__:Exception on /dashboardAgent [POST]\n",
            "Traceback (most recent call last):\n",
            "  File \"<ipython-input-9-91afecc331e2>\", line 37, in execute_query\n",
            "    result = await session.execute(text(query))\n",
            "             ^^^^^^^^^^^^^^^^^^^^^^^^^^^^^^^^^^\n",
            "  File \"/usr/local/lib/python3.11/dist-packages/sqlalchemy/ext/asyncio/session.py\", line 463, in execute\n",
            "    result = await greenlet_spawn(\n",
            "             ^^^^^^^^^^^^^^^^^^^^^\n",
            "  File \"/usr/local/lib/python3.11/dist-packages/sqlalchemy/util/_concurrency_py3k.py\", line 201, in greenlet_spawn\n",
            "    result = context.throw(*sys.exc_info())\n",
            "             ^^^^^^^^^^^^^^^^^^^^^^^^^^^^^^\n",
            "  File \"/usr/local/lib/python3.11/dist-packages/sqlalchemy/orm/session.py\", line 2365, in execute\n",
            "    return self._execute_internal(\n",
            "           ^^^^^^^^^^^^^^^^^^^^^^^\n",
            "  File \"/usr/local/lib/python3.11/dist-packages/sqlalchemy/orm/session.py\", line 2260, in _execute_internal\n",
            "    result = conn.execute(\n",
            "             ^^^^^^^^^^^^^\n",
            "  File \"/usr/local/lib/python3.11/dist-packages/sqlalchemy/engine/base.py\", line 1416, in execute\n",
            "    return meth(\n",
            "           ^^^^^\n",
            "  File \"/usr/local/lib/python3.11/dist-packages/sqlalchemy/sql/elements.py\", line 515, in _execute_on_connection\n",
            "    return connection._execute_clauseelement(\n",
            "           ^^^^^^^^^^^^^^^^^^^^^^^^^^^^^^^^^^\n",
            "  File \"/usr/local/lib/python3.11/dist-packages/sqlalchemy/engine/base.py\", line 1638, in _execute_clauseelement\n",
            "    ret = self._execute_context(\n",
            "          ^^^^^^^^^^^^^^^^^^^^^^\n",
            "  File \"/usr/local/lib/python3.11/dist-packages/sqlalchemy/engine/base.py\", line 1843, in _execute_context\n",
            "    return self._exec_single_context(\n",
            "           ^^^^^^^^^^^^^^^^^^^^^^^^^^\n",
            "  File \"/usr/local/lib/python3.11/dist-packages/sqlalchemy/engine/base.py\", line 1983, in _exec_single_context\n",
            "    self._handle_dbapi_exception(\n",
            "  File \"/usr/local/lib/python3.11/dist-packages/sqlalchemy/engine/base.py\", line 2355, in _handle_dbapi_exception\n",
            "    raise exc_info[1].with_traceback(exc_info[2])\n",
            "  File \"/usr/local/lib/python3.11/dist-packages/sqlalchemy/engine/base.py\", line 1964, in _exec_single_context\n",
            "    self.dialect.do_execute(\n",
            "  File \"/usr/local/lib/python3.11/dist-packages/sqlalchemy/engine/default.py\", line 942, in do_execute\n",
            "    cursor.execute(statement, parameters)\n",
            "  File \"/usr/local/lib/python3.11/dist-packages/sqlalchemy/dialects/mysql/aiomysql.py\", line 97, in execute\n",
            "    return self.await_(self._execute_async(operation, parameters))\n",
            "           ^^^^^^^^^^^^^^^^^^^^^^^^^^^^^^^^^^^^^^^^^^^^^^^^^^^^^^^\n",
            "  File \"/usr/local/lib/python3.11/dist-packages/sqlalchemy/util/_concurrency_py3k.py\", line 132, in await_only\n",
            "    return current.parent.switch(awaitable)  # type: ignore[no-any-return,attr-defined] # noqa: E501\n",
            "           ^^^^^^^^^^^^^^^^^^^^^^^^^^^^^^^^\n",
            "  File \"/usr/local/lib/python3.11/dist-packages/sqlalchemy/util/_concurrency_py3k.py\", line 196, in greenlet_spawn\n",
            "    value = await result\n",
            "            ^^^^^^^^^^^^\n",
            "  File \"/usr/local/lib/python3.11/dist-packages/sqlalchemy/dialects/mysql/aiomysql.py\", line 106, in _execute_async\n",
            "    result = await self._cursor.execute(operation, parameters)\n",
            "             ^^^^^^^^^^^^^^^^^^^^^^^^^^^^^^^^^^^^^^^^^^^^^^^^^\n",
            "  File \"/usr/local/lib/python3.11/dist-packages/aiomysql/cursors.py\", line 239, in execute\n",
            "    await self._query(query)\n",
            "  File \"/usr/local/lib/python3.11/dist-packages/aiomysql/cursors.py\", line 457, in _query\n",
            "    await conn.query(q)\n",
            "  File \"/usr/local/lib/python3.11/dist-packages/aiomysql/connection.py\", line 469, in query\n",
            "    await self._read_query_result(unbuffered=unbuffered)\n",
            "  File \"/usr/local/lib/python3.11/dist-packages/aiomysql/connection.py\", line 683, in _read_query_result\n",
            "    await result.read()\n",
            "  File \"/usr/local/lib/python3.11/dist-packages/aiomysql/connection.py\", line 1164, in read\n",
            "    first_packet = await self.connection._read_packet()\n",
            "                   ^^^^^^^^^^^^^^^^^^^^^^^^^^^^^^^^^^^^\n",
            "  File \"/usr/local/lib/python3.11/dist-packages/aiomysql/connection.py\", line 609, in _read_packet\n",
            "    packet_header = await self._read_bytes(4)\n",
            "                    ^^^^^^^^^^^^^^^^^^^^^^^^^\n",
            "  File \"/usr/local/lib/python3.11/dist-packages/aiomysql/connection.py\", line 657, in _read_bytes\n",
            "    data = await self._reader.readexactly(num_bytes)\n",
            "           ^^^^^^^^^^^^^^^^^^^^^^^^^^^^^^^^^^^^^^^^^\n",
            "  File \"/usr/lib/python3.11/asyncio/streams.py\", line 750, in readexactly\n",
            "    await self._wait_for_data('readexactly')\n",
            "  File \"/usr/lib/python3.11/asyncio/streams.py\", line 543, in _wait_for_data\n",
            "    await self._waiter\n",
            "RuntimeError: Task <Task pending name='Task-2144' coro=<get_unique_nouns() running at <ipython-input-12-fa7a0aee7706>:69> cb=[Task.task_wakeup()]> got Future <Future pending> attached to a different loop\n",
            "\n",
            "During handling of the above exception, another exception occurred:\n",
            "\n",
            "Traceback (most recent call last):\n",
            "  File \"/usr/local/lib/python3.11/dist-packages/flask/app.py\", line 1511, in wsgi_app\n",
            "    response = self.full_dispatch_request()\n",
            "               ^^^^^^^^^^^^^^^^^^^^^^^^^^^^\n",
            "  File \"/usr/local/lib/python3.11/dist-packages/flask/app.py\", line 919, in full_dispatch_request\n",
            "    rv = self.handle_user_exception(e)\n",
            "         ^^^^^^^^^^^^^^^^^^^^^^^^^^^^^\n",
            "  File \"/usr/local/lib/python3.11/dist-packages/flask_cors/extension.py\", line 194, in wrapped_function\n",
            "    return cors_after_request(app.make_response(f(*args, **kwargs)))\n",
            "                                                ^^^^^^^^^^^^^^^^^^\n",
            "  File \"/usr/local/lib/python3.11/dist-packages/flask/app.py\", line 917, in full_dispatch_request\n",
            "    rv = self.dispatch_request()\n",
            "         ^^^^^^^^^^^^^^^^^^^^^^^\n",
            "  File \"/usr/local/lib/python3.11/dist-packages/flask/app.py\", line 902, in dispatch_request\n",
            "    return self.ensure_sync(self.view_functions[rule.endpoint])(**view_args)  # type: ignore[no-any-return]\n",
            "           ^^^^^^^^^^^^^^^^^^^^^^^^^^^^^^^^^^^^^^^^^^^^^^^^^^^^^^^^^^^^^^^^^\n",
            "  File \"<ipython-input-67-29875ed07a0a>\", line 18, in dashboard_agent\n",
            "    result = asyncio.run(runnable.ainvoke({\"question\": question, \"diagnostic_id\": \"670d7bb908cd96a9c3b69aaf\"}))\n",
            "             ^^^^^^^^^^^^^^^^^^^^^^^^^^^^^^^^^^^^^^^^^^^^^^^^^^^^^^^^^^^^^^^^^^^^^^^^^^^^^^^^^^^^^^^^^^^^^^^^^^\n",
            "  File \"/usr/lib/python3.11/asyncio/runners.py\", line 190, in run\n",
            "    return runner.run(main)\n",
            "           ^^^^^^^^^^^^^^^^\n",
            "  File \"/usr/lib/python3.11/asyncio/runners.py\", line 118, in run\n",
            "    return self._loop.run_until_complete(task)\n",
            "           ^^^^^^^^^^^^^^^^^^^^^^^^^^^^^^^^^^^\n",
            "  File \"/usr/lib/python3.11/asyncio/base_events.py\", line 654, in run_until_complete\n",
            "    return future.result()\n",
            "           ^^^^^^^^^^^^^^^\n",
            "  File \"/usr/local/lib/python3.11/dist-packages/langgraph/pregel/__init__.py\", line 2122, in ainvoke\n",
            "    async for chunk in self.astream(\n",
            "  File \"/usr/local/lib/python3.11/dist-packages/langgraph/pregel/__init__.py\", line 2007, in astream\n",
            "    async for _ in runner.atick(\n",
            "  File \"/usr/local/lib/python3.11/dist-packages/langgraph/pregel/runner.py\", line 444, in atick\n",
            "    await arun_with_retry(\n",
            "  File \"/usr/local/lib/python3.11/dist-packages/langgraph/pregel/retry.py\", line 128, in arun_with_retry\n",
            "    return await task.proc.ainvoke(task.input, config)\n",
            "           ^^^^^^^^^^^^^^^^^^^^^^^^^^^^^^^^^^^^^^^^^^^\n",
            "  File \"/usr/local/lib/python3.11/dist-packages/langgraph/utils/runnable.py\", line 543, in ainvoke\n",
            "    input = await step.ainvoke(input, config, **kwargs)\n",
            "            ^^^^^^^^^^^^^^^^^^^^^^^^^^^^^^^^^^^^^^^^^^^\n",
            "  File \"/usr/local/lib/python3.11/dist-packages/langgraph/utils/runnable.py\", line 331, in ainvoke\n",
            "    ret = await asyncio.create_task(coro, context=context)\n",
            "          ^^^^^^^^^^^^^^^^^^^^^^^^^^^^^^^^^^^^^^^^^^^^^^^^\n",
            "  File \"<ipython-input-12-fa7a0aee7706>\", line 69, in get_unique_nouns\n",
            "    results = await db_manager.execute_query(query)\n",
            "              ^^^^^^^^^^^^^^^^^^^^^^^^^^^^^^^^^^^^^\n",
            "  File \"<ipython-input-9-91afecc331e2>\", line 36, in execute_query\n",
            "    async with session.begin():\n",
            "  File \"/usr/local/lib/python3.11/dist-packages/sqlalchemy/util/_concurrency_py3k.py\", line 201, in greenlet_spawn\n",
            "    result = context.throw(*sys.exc_info())\n",
            "             ^^^^^^^^^^^^^^^^^^^^^^^^^^^^^^\n",
            "  File \"/usr/local/lib/python3.11/dist-packages/sqlalchemy/engine/util.py\", line 162, in __exit__\n",
            "    self.rollback()\n",
            "  File \"<string>\", line 2, in rollback\n",
            "  File \"/usr/local/lib/python3.11/dist-packages/sqlalchemy/orm/state_changes.py\", line 139, in _go\n",
            "    ret_value = fn(self, *arg, **kw)\n",
            "                ^^^^^^^^^^^^^^^^^^^^\n",
            "  File \"/usr/local/lib/python3.11/dist-packages/sqlalchemy/orm/session.py\", line 1395, in rollback\n",
            "    raise rollback_err[1].with_traceback(rollback_err[2])\n",
            "  File \"/usr/local/lib/python3.11/dist-packages/sqlalchemy/orm/session.py\", line 1360, in rollback\n",
            "    t[1].rollback()\n",
            "  File \"/usr/local/lib/python3.11/dist-packages/sqlalchemy/engine/base.py\", line 2608, in rollback\n",
            "    self._do_rollback()\n",
            "  File \"/usr/local/lib/python3.11/dist-packages/sqlalchemy/engine/base.py\", line 2727, in _do_rollback\n",
            "    self._close_impl(try_deactivate=True)\n",
            "  File \"/usr/local/lib/python3.11/dist-packages/sqlalchemy/engine/base.py\", line 2710, in _close_impl\n",
            "    self._connection_rollback_impl()\n",
            "  File \"/usr/local/lib/python3.11/dist-packages/sqlalchemy/engine/base.py\", line 2702, in _connection_rollback_impl\n",
            "    self.connection._rollback_impl()\n",
            "  File \"/usr/local/lib/python3.11/dist-packages/sqlalchemy/engine/base.py\", line 1127, in _rollback_impl\n",
            "    self._handle_dbapi_exception(e, None, None, None, None)\n",
            "  File \"/usr/local/lib/python3.11/dist-packages/sqlalchemy/engine/base.py\", line 2355, in _handle_dbapi_exception\n",
            "    raise exc_info[1].with_traceback(exc_info[2])\n",
            "  File \"/usr/local/lib/python3.11/dist-packages/sqlalchemy/engine/base.py\", line 1125, in _rollback_impl\n",
            "    self.engine.dialect.do_rollback(self.connection)\n",
            "  File \"/usr/local/lib/python3.11/dist-packages/sqlalchemy/engine/default.py\", line 700, in do_rollback\n",
            "    dbapi_connection.rollback()\n",
            "  File \"/usr/local/lib/python3.11/dist-packages/sqlalchemy/dialects/mysql/aiomysql.py\", line 203, in rollback\n",
            "    self.await_(self._connection.rollback())\n",
            "  File \"/usr/local/lib/python3.11/dist-packages/sqlalchemy/util/_concurrency_py3k.py\", line 132, in await_only\n",
            "    return current.parent.switch(awaitable)  # type: ignore[no-any-return,attr-defined] # noqa: E501\n",
            "           ^^^^^^^^^^^^^^^^^^^^^^^^^^^^^^^^\n",
            "  File \"/usr/local/lib/python3.11/dist-packages/sqlalchemy/util/_concurrency_py3k.py\", line 196, in greenlet_spawn\n",
            "    value = await result\n",
            "            ^^^^^^^^^^^^\n",
            "  File \"/usr/local/lib/python3.11/dist-packages/aiomysql/connection.py\", line 399, in rollback\n",
            "    await self._read_ok_packet()\n",
            "  File \"/usr/local/lib/python3.11/dist-packages/aiomysql/connection.py\", line 372, in _read_ok_packet\n",
            "    pkt = await self._read_packet()\n",
            "          ^^^^^^^^^^^^^^^^^^^^^^^^^\n",
            "  File \"/usr/local/lib/python3.11/dist-packages/aiomysql/connection.py\", line 609, in _read_packet\n",
            "    packet_header = await self._read_bytes(4)\n",
            "                    ^^^^^^^^^^^^^^^^^^^^^^^^^\n",
            "  File \"/usr/local/lib/python3.11/dist-packages/aiomysql/connection.py\", line 657, in _read_bytes\n",
            "    data = await self._reader.readexactly(num_bytes)\n",
            "           ^^^^^^^^^^^^^^^^^^^^^^^^^^^^^^^^^^^^^^^^^\n",
            "  File \"/usr/lib/python3.11/asyncio/streams.py\", line 750, in readexactly\n",
            "    await self._wait_for_data('readexactly')\n",
            "  File \"/usr/lib/python3.11/asyncio/streams.py\", line 543, in _wait_for_data\n",
            "    await self._waiter\n",
            "RuntimeError: Task <Task pending name='Task-2144' coro=<get_unique_nouns() running at <ipython-input-12-fa7a0aee7706>:69> cb=[Task.task_wakeup()]> got Future <Future pending> attached to a different loop\n",
            "During task with name 'get_unique_nouns' and id 'eef06eb6-1895-82c9-0b64-2efde28bf2b3'\n",
            "INFO:werkzeug:127.0.0.1 - - [10/Feb/2025 15:04:07] \"\u001b[35m\u001b[1mPOST /dashboardAgent HTTP/1.1\u001b[0m\" 500 -\n"
          ]
        }
      ]
    }
  ]
}